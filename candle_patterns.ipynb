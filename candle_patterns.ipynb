{
 "cells": [
  {
   "cell_type": "code",
   "execution_count": 1,
   "metadata": {},
   "outputs": [],
   "source": [
    "import pandas as pd\n",
    "import utils\n",
    "import plotly.graph_objects as go"
   ]
  },
  {
   "cell_type": "code",
   "execution_count": 53,
   "metadata": {},
   "outputs": [],
   "source": [
    "def plot_candles(df_plot, df_markers=None):\n",
    "    fig = go.Figure()\n",
    "\n",
    "    fig.add_trace(go.Candlestick(\n",
    "        x=df_plot.time, open=df_plot.mid_o, high=df_plot.mid_h, low=df_plot.mid_l, close=df_plot.mid_c,\n",
    "        line=dict(width=1), opacity=1,\n",
    "        increasing_fillcolor='#24A06B',\n",
    "        decreasing_fillcolor=\"#CC2E3C\",\n",
    "        increasing_line_color='#2EC886',  \n",
    "        decreasing_line_color='#FF3A4C'\n",
    "    ))\n",
    "\n",
    "    if df_markers is not None:\n",
    "        fig.add_trace(go.Candlestick(\n",
    "            x=df_markers.time, open=df_markers.mid_o, high=df_markers.mid_h, low=df_markers.mid_l, close=df_markers.mid_c,\n",
    "            line=dict(width=1), opacity=1,\n",
    "            increasing_fillcolor='#3480eb',\n",
    "            decreasing_fillcolor=\"#3480eb\",\n",
    "            increasing_line_color='#3480eb',  \n",
    "            decreasing_line_color='#3480eb',\n",
    "            \n",
    "        ))\n",
    "        \n",
    "\n",
    "    fig.update_layout(width=1000,height=400,\n",
    "        margin=dict(l=10,r=10,b=10,t=10),\n",
    "        font=dict(size=10,color=\"#e1e1e1\"),\n",
    "        paper_bgcolor=\"#1e1e1e\",\n",
    "        plot_bgcolor=\"#1e1e1e\")\n",
    "    fig.update_xaxes(\n",
    "        gridcolor=\"#1f292f\",\n",
    "        showgrid=True,fixedrange=True,rangeslider=dict(visible=False),\n",
    "        rangebreaks=[\n",
    "            dict(bounds=[\"sat\", \"mon\"])\n",
    "        ]\n",
    "    )\n",
    "    fig.update_yaxes(\n",
    "        gridcolor=\"#1f292f\",\n",
    "        showgrid=True\n",
    "    )\n",
    "    fig.show()"
   ]
  },
  {
   "cell_type": "code",
   "execution_count": 3,
   "metadata": {},
   "outputs": [],
   "source": [
    "pair = \"USD_JPY\"\n",
    "granularity = \"H4\"\n",
    "df_raw = pd.read_pickle(utils.get_his_data_filename(pair, granularity))"
   ]
  },
  {
   "cell_type": "code",
   "execution_count": 4,
   "metadata": {},
   "outputs": [],
   "source": [
    "cols = ['time', 'mid_o', 'mid_h', 'mid_l', 'mid_c']"
   ]
  },
  {
   "cell_type": "code",
   "execution_count": null,
   "metadata": {},
   "outputs": [],
   "source": []
  },
  {
   "cell_type": "code",
   "execution_count": 5,
   "metadata": {},
   "outputs": [],
   "source": [
    "SMALL_BODY = 0.2\n",
    "CLOSE_DISTANCE = 0.15\n",
    "DOJI_BODY = 0.05\n",
    "FULL_BODY = 0.95\n",
    "CENTER_DISTANCE_HIGH = 0.55\n",
    "CENTER_DISTANCE_LOW = 0.45\n",
    "BIG_BODY = 0.6\n",
    "ENGULFING_FACTOR = 1.1\n",
    "\n",
    "def apply_top_end_distance(row):\n",
    "    if row.DIRECTION == 1:\n",
    "        return row.mid_h - row.mid_c\n",
    "    else:\n",
    "        return row.mid_h - row.mid_o\n",
    "\n",
    "def apply_bottom_end_distance(row):\n",
    "    if row.DIRECTION == 1:\n",
    "        return row.mid_o - row.mid_l\n",
    "    else:\n",
    "        return row.mid_c - row.mid_l\n",
    "\n",
    "def apply_hammer(row):\n",
    "    if row.BODY_PERC < SMALL_BODY:\n",
    "        if row.DIST_TOP_PERC < CLOSE_DISTANCE or row.DIST_BOTTOM_PERC < CLOSE_DISTANCE:\n",
    "            return True\n",
    "    return False\n",
    "\n",
    "def apply_spinning_top(row):\n",
    "    if row.BODY_PERC < SMALL_BODY:\n",
    "        if row.DIST_TOP_PERC < CENTER_DISTANCE_HIGH and row.DIST_TOP_PERC > CENTER_DISTANCE_LOW:\n",
    "            return True\n",
    "    return False\n",
    "\n",
    "def apply_engulfing(row):\n",
    "    if row.PREV_DIRECTION != row.DIRECTION:\n",
    "        if row.PREV_BODY_PERC > BIG_BODY and row.BODY_PERC > BIG_BODY:\n",
    "            if row.BODY_RANGE > row.PREV_BODY_RANGE * ENGULFING_FACTOR:\n",
    "                return True\n",
    "    return False\n",
    "\n",
    "def apply_stats(df):\n",
    "    df['RANGE'] = df.mid_h - df.mid_l\n",
    "    df['BODY_RANGE'] = abs(df.mid_c - df.mid_o)\n",
    "    df['CENTER'] = (df.mid_h - df.mid_l) / 2 + df.mid_l\n",
    "    df['BODY_PERC'] = df.BODY_RANGE / df.RANGE\n",
    "    df['DIRECTION'] = df.mid_c - df.mid_o\n",
    "    df['DIRECTION'] = df['DIRECTION'].apply(lambda x: 1 if x >= 0 else -1)\n",
    "    df['DIST_TOP'] = df.apply(apply_top_end_distance, axis=1)\n",
    "    df['DIST_BOTTOM'] = df.apply(apply_bottom_end_distance, axis=1)\n",
    "    df['DIST_TOP_PERC'] = df.DIST_TOP / df.RANGE\n",
    "    df['DIST_BOTTOM_PERC'] = df.DIST_BOTTOM / df.RANGE\n",
    "\n",
    "    df['PREV_BODY_RANGE'] = df.BODY_RANGE.shift(1)\n",
    "    df['PREV_BODY_PERC'] = df.BODY_PERC.shift(1)\n",
    "    df['PREV_DIRECTION'] = df.DIRECTION.shift(1)\n",
    "\n",
    "    df.dropna(inplace=True)\n",
    "\n",
    "    return df\n",
    "\n",
    "def apply_patterns(df):\n",
    "    df['HAMMER'] = df.apply(apply_hammer, axis=1)\n",
    "    df['SPINNING_TOP'] = df.apply(apply_spinning_top, axis=1)\n",
    "    df['DOJI'] = df['BODY_PERC'].apply(lambda x: True if x < DOJI_BODY else False)\n",
    "    df['MARUBOZU'] = df['BODY_PERC'].apply(lambda x: True if x > FULL_BODY else False)\n",
    "    df['ENGULFING'] = df.apply(apply_engulfing, axis=1)\n",
    "    return df"
   ]
  },
  {
   "cell_type": "code",
   "execution_count": 6,
   "metadata": {},
   "outputs": [],
   "source": [
    "df = df_raw[cols].copy()\n",
    "df = apply_stats(df)\n",
    "df = apply_patterns(df)"
   ]
  },
  {
   "cell_type": "code",
   "execution_count": 7,
   "metadata": {},
   "outputs": [
    {
     "data": {
      "text/html": [
       "<div>\n",
       "<style scoped>\n",
       "    .dataframe tbody tr th:only-of-type {\n",
       "        vertical-align: middle;\n",
       "    }\n",
       "\n",
       "    .dataframe tbody tr th {\n",
       "        vertical-align: top;\n",
       "    }\n",
       "\n",
       "    .dataframe thead th {\n",
       "        text-align: right;\n",
       "    }\n",
       "</style>\n",
       "<table border=\"1\" class=\"dataframe\">\n",
       "  <thead>\n",
       "    <tr style=\"text-align: right;\">\n",
       "      <th></th>\n",
       "      <th>time</th>\n",
       "      <th>mid_o</th>\n",
       "      <th>mid_h</th>\n",
       "      <th>mid_l</th>\n",
       "      <th>mid_c</th>\n",
       "      <th>RANGE</th>\n",
       "      <th>BODY_RANGE</th>\n",
       "      <th>CENTER</th>\n",
       "      <th>BODY_PERC</th>\n",
       "      <th>DIRECTION</th>\n",
       "      <th>...</th>\n",
       "      <th>DIST_TOP_PERC</th>\n",
       "      <th>DIST_BOTTOM_PERC</th>\n",
       "      <th>PREV_BODY_RANGE</th>\n",
       "      <th>PREV_BODY_PERC</th>\n",
       "      <th>PREV_DIRECTION</th>\n",
       "      <th>HAMMER</th>\n",
       "      <th>SPINNING_TOP</th>\n",
       "      <th>DOJI</th>\n",
       "      <th>MARUBOZU</th>\n",
       "      <th>ENGULFING</th>\n",
       "    </tr>\n",
       "  </thead>\n",
       "  <tbody>\n",
       "    <tr>\n",
       "      <th>1</th>\n",
       "      <td>2023-01-02 02:00:00+00:00</td>\n",
       "      <td>130.964</td>\n",
       "      <td>131.041</td>\n",
       "      <td>130.910</td>\n",
       "      <td>130.940</td>\n",
       "      <td>0.131</td>\n",
       "      <td>0.024</td>\n",
       "      <td>130.9755</td>\n",
       "      <td>0.183206</td>\n",
       "      <td>-1</td>\n",
       "      <td>...</td>\n",
       "      <td>0.587786</td>\n",
       "      <td>0.229008</td>\n",
       "      <td>0.132</td>\n",
       "      <td>0.420382</td>\n",
       "      <td>1.0</td>\n",
       "      <td>False</td>\n",
       "      <td>False</td>\n",
       "      <td>False</td>\n",
       "      <td>False</td>\n",
       "      <td>False</td>\n",
       "    </tr>\n",
       "    <tr>\n",
       "      <th>2</th>\n",
       "      <td>2023-01-02 06:00:00+00:00</td>\n",
       "      <td>130.940</td>\n",
       "      <td>130.982</td>\n",
       "      <td>130.861</td>\n",
       "      <td>130.875</td>\n",
       "      <td>0.121</td>\n",
       "      <td>0.065</td>\n",
       "      <td>130.9215</td>\n",
       "      <td>0.537190</td>\n",
       "      <td>-1</td>\n",
       "      <td>...</td>\n",
       "      <td>0.347107</td>\n",
       "      <td>0.115702</td>\n",
       "      <td>0.024</td>\n",
       "      <td>0.183206</td>\n",
       "      <td>-1.0</td>\n",
       "      <td>False</td>\n",
       "      <td>False</td>\n",
       "      <td>False</td>\n",
       "      <td>False</td>\n",
       "      <td>False</td>\n",
       "    </tr>\n",
       "    <tr>\n",
       "      <th>3</th>\n",
       "      <td>2023-01-02 10:00:00+00:00</td>\n",
       "      <td>130.870</td>\n",
       "      <td>130.891</td>\n",
       "      <td>130.618</td>\n",
       "      <td>130.646</td>\n",
       "      <td>0.273</td>\n",
       "      <td>0.224</td>\n",
       "      <td>130.7545</td>\n",
       "      <td>0.820513</td>\n",
       "      <td>-1</td>\n",
       "      <td>...</td>\n",
       "      <td>0.076923</td>\n",
       "      <td>0.102564</td>\n",
       "      <td>0.065</td>\n",
       "      <td>0.537190</td>\n",
       "      <td>-1.0</td>\n",
       "      <td>False</td>\n",
       "      <td>False</td>\n",
       "      <td>False</td>\n",
       "      <td>False</td>\n",
       "      <td>False</td>\n",
       "    </tr>\n",
       "    <tr>\n",
       "      <th>4</th>\n",
       "      <td>2023-01-02 14:00:00+00:00</td>\n",
       "      <td>130.647</td>\n",
       "      <td>130.842</td>\n",
       "      <td>130.639</td>\n",
       "      <td>130.788</td>\n",
       "      <td>0.203</td>\n",
       "      <td>0.141</td>\n",
       "      <td>130.7405</td>\n",
       "      <td>0.694581</td>\n",
       "      <td>1</td>\n",
       "      <td>...</td>\n",
       "      <td>0.266010</td>\n",
       "      <td>0.039409</td>\n",
       "      <td>0.224</td>\n",
       "      <td>0.820513</td>\n",
       "      <td>-1.0</td>\n",
       "      <td>False</td>\n",
       "      <td>False</td>\n",
       "      <td>False</td>\n",
       "      <td>False</td>\n",
       "      <td>False</td>\n",
       "    </tr>\n",
       "    <tr>\n",
       "      <th>5</th>\n",
       "      <td>2023-01-02 18:00:00+00:00</td>\n",
       "      <td>130.791</td>\n",
       "      <td>130.797</td>\n",
       "      <td>130.659</td>\n",
       "      <td>130.659</td>\n",
       "      <td>0.138</td>\n",
       "      <td>0.132</td>\n",
       "      <td>130.7280</td>\n",
       "      <td>0.956522</td>\n",
       "      <td>-1</td>\n",
       "      <td>...</td>\n",
       "      <td>0.043478</td>\n",
       "      <td>0.000000</td>\n",
       "      <td>0.141</td>\n",
       "      <td>0.694581</td>\n",
       "      <td>1.0</td>\n",
       "      <td>False</td>\n",
       "      <td>False</td>\n",
       "      <td>False</td>\n",
       "      <td>True</td>\n",
       "      <td>False</td>\n",
       "    </tr>\n",
       "  </tbody>\n",
       "</table>\n",
       "<p>5 rows × 22 columns</p>\n",
       "</div>"
      ],
      "text/plain": [
       "                       time    mid_o    mid_h    mid_l    mid_c  RANGE  \\\n",
       "1 2023-01-02 02:00:00+00:00  130.964  131.041  130.910  130.940  0.131   \n",
       "2 2023-01-02 06:00:00+00:00  130.940  130.982  130.861  130.875  0.121   \n",
       "3 2023-01-02 10:00:00+00:00  130.870  130.891  130.618  130.646  0.273   \n",
       "4 2023-01-02 14:00:00+00:00  130.647  130.842  130.639  130.788  0.203   \n",
       "5 2023-01-02 18:00:00+00:00  130.791  130.797  130.659  130.659  0.138   \n",
       "\n",
       "   BODY_RANGE    CENTER  BODY_PERC  DIRECTION  ...  DIST_TOP_PERC  \\\n",
       "1       0.024  130.9755   0.183206         -1  ...       0.587786   \n",
       "2       0.065  130.9215   0.537190         -1  ...       0.347107   \n",
       "3       0.224  130.7545   0.820513         -1  ...       0.076923   \n",
       "4       0.141  130.7405   0.694581          1  ...       0.266010   \n",
       "5       0.132  130.7280   0.956522         -1  ...       0.043478   \n",
       "\n",
       "   DIST_BOTTOM_PERC  PREV_BODY_RANGE  PREV_BODY_PERC  PREV_DIRECTION  HAMMER  \\\n",
       "1          0.229008            0.132        0.420382             1.0   False   \n",
       "2          0.115702            0.024        0.183206            -1.0   False   \n",
       "3          0.102564            0.065        0.537190            -1.0   False   \n",
       "4          0.039409            0.224        0.820513            -1.0   False   \n",
       "5          0.000000            0.141        0.694581             1.0   False   \n",
       "\n",
       "   SPINNING_TOP   DOJI  MARUBOZU  ENGULFING  \n",
       "1         False  False     False      False  \n",
       "2         False  False     False      False  \n",
       "3         False  False     False      False  \n",
       "4         False  False     False      False  \n",
       "5         False  False      True      False  \n",
       "\n",
       "[5 rows x 22 columns]"
      ]
     },
     "execution_count": 7,
     "metadata": {},
     "output_type": "execute_result"
    }
   ],
   "source": [
    "df.head()"
   ]
  },
  {
   "cell_type": "code",
   "execution_count": 58,
   "metadata": {},
   "outputs": [],
   "source": [
    "\n",
    "df_plot = df.iloc[740:785]\n",
    "df_markers = df_plot[(df_plot.DOJI==True)]\n"
   ]
  },
  {
   "cell_type": "code",
   "execution_count": 59,
   "metadata": {},
   "outputs": [
    {
     "data": {
      "application/vnd.plotly.v1+json": {
       "config": {
        "plotlyServerURL": "https://plot.ly"
       },
       "data": [
        {
         "close": [
          142.242,
          142.986,
          143.108,
          143.088,
          143.084,
          143.058,
          142.87,
          143.868,
          143.673,
          143.443,
          143.387,
          143.152,
          143.106,
          143.576,
          143.512,
          143.498,
          143.497,
          143.711,
          143.551,
          143.975,
          144.078,
          143.801,
          143.991,
          144.072,
          144.4,
          144.185,
          144.49,
          144.254,
          144.584,
          144.255,
          144.786,
          144.846,
          144.795,
          144.882,
          144.724,
          144.638,
          144.466,
          144.327,
          144.347,
          144.444,
          144.442,
          144.716,
          144.592,
          144.684,
          144.69
         ],
         "decreasing": {
          "fillcolor": "#CC2E3C",
          "line": {
           "color": "#FF3A4C"
          }
         },
         "high": [
          142.248,
          142.992,
          143.23,
          143.186,
          143.142,
          143.452,
          143.322,
          143.873,
          143.868,
          143.723,
          143.662,
          143.569,
          143.306,
          143.712,
          143.598,
          143.572,
          143.524,
          143.776,
          143.945,
          144.176,
          144.09,
          144.086,
          144.05,
          144.258,
          144.448,
          144.618,
          144.536,
          144.475,
          144.6,
          144.702,
          144.81,
          144.902,
          144.894,
          144.925,
          145.073,
          144.905,
          144.756,
          144.626,
          144.364,
          144.482,
          144.694,
          144.883,
          144.914,
          144.702,
          144.756
         ],
         "increasing": {
          "fillcolor": "#24A06B",
          "line": {
           "color": "#2EC886"
          }
         },
         "line": {
          "width": 1
         },
         "low": [
          141.767,
          142.142,
          142.929,
          142.95,
          142.812,
          142.77,
          142.793,
          142.698,
          143.666,
          143.235,
          143.334,
          142.938,
          142.99,
          143.106,
          143.436,
          143.361,
          143.282,
          143.4,
          143.373,
          143.3,
          143.956,
          143.73,
          143.776,
          143.863,
          143.822,
          144.096,
          144.125,
          144.241,
          144.136,
          144.156,
          144.154,
          144.524,
          144.766,
          144.682,
          144.654,
          144.439,
          144.342,
          144.202,
          144.236,
          144.224,
          144.411,
          144.369,
          144.535,
          143.986,
          144.625
         ],
         "opacity": 1,
         "open": [
          141.976,
          142.243,
          142.988,
          143.065,
          143.086,
          143.082,
          143.062,
          142.866,
          143.867,
          143.562,
          143.452,
          143.389,
          143.152,
          143.106,
          143.576,
          143.503,
          143.493,
          143.498,
          143.711,
          143.552,
          143.977,
          144.072,
          143.801,
          143.989,
          144.07,
          144.399,
          144.186,
          144.435,
          144.247,
          144.584,
          144.254,
          144.788,
          144.846,
          144.761,
          144.88,
          144.724,
          144.616,
          144.467,
          144.328,
          144.403,
          144.444,
          144.442,
          144.717,
          144.592,
          144.683
         ],
         "type": "candlestick",
         "x": [
          "2023-06-22T09:00:00+00:00",
          "2023-06-22T13:00:00+00:00",
          "2023-06-22T17:00:00+00:00",
          "2023-06-22T21:00:00+00:00",
          "2023-06-23T01:00:00+00:00",
          "2023-06-23T05:00:00+00:00",
          "2023-06-23T09:00:00+00:00",
          "2023-06-23T13:00:00+00:00",
          "2023-06-23T17:00:00+00:00",
          "2023-06-25T21:00:00+00:00",
          "2023-06-26T01:00:00+00:00",
          "2023-06-26T05:00:00+00:00",
          "2023-06-26T09:00:00+00:00",
          "2023-06-26T13:00:00+00:00",
          "2023-06-26T17:00:00+00:00",
          "2023-06-26T21:00:00+00:00",
          "2023-06-27T01:00:00+00:00",
          "2023-06-27T05:00:00+00:00",
          "2023-06-27T09:00:00+00:00",
          "2023-06-27T13:00:00+00:00",
          "2023-06-27T17:00:00+00:00",
          "2023-06-27T21:00:00+00:00",
          "2023-06-28T01:00:00+00:00",
          "2023-06-28T05:00:00+00:00",
          "2023-06-28T09:00:00+00:00",
          "2023-06-28T13:00:00+00:00",
          "2023-06-28T17:00:00+00:00",
          "2023-06-28T21:00:00+00:00",
          "2023-06-29T01:00:00+00:00",
          "2023-06-29T05:00:00+00:00",
          "2023-06-29T09:00:00+00:00",
          "2023-06-29T13:00:00+00:00",
          "2023-06-29T17:00:00+00:00",
          "2023-06-29T21:00:00+00:00",
          "2023-06-30T01:00:00+00:00",
          "2023-06-30T05:00:00+00:00",
          "2023-06-30T09:00:00+00:00",
          "2023-06-30T13:00:00+00:00",
          "2023-06-30T17:00:00+00:00",
          "2023-07-02T21:00:00+00:00",
          "2023-07-03T01:00:00+00:00",
          "2023-07-03T05:00:00+00:00",
          "2023-07-03T09:00:00+00:00",
          "2023-07-03T13:00:00+00:00",
          "2023-07-03T17:00:00+00:00"
         ]
        },
        {
         "close": [
          143.084,
          143.058,
          143.498,
          143.497,
          144.442
         ],
         "decreasing": {
          "fillcolor": "#3480eb",
          "line": {
           "color": "#3480eb"
          }
         },
         "high": [
          143.142,
          143.452,
          143.572,
          143.524,
          144.694
         ],
         "increasing": {
          "fillcolor": "#3480eb",
          "line": {
           "color": "#3480eb"
          }
         },
         "line": {
          "width": 1
         },
         "low": [
          142.812,
          142.77,
          143.361,
          143.282,
          144.411
         ],
         "opacity": 1,
         "open": [
          143.086,
          143.082,
          143.503,
          143.493,
          144.444
         ],
         "type": "candlestick",
         "x": [
          "2023-06-23T01:00:00+00:00",
          "2023-06-23T05:00:00+00:00",
          "2023-06-26T21:00:00+00:00",
          "2023-06-27T01:00:00+00:00",
          "2023-07-03T01:00:00+00:00"
         ]
        }
       ],
       "layout": {
        "font": {
         "color": "#e1e1e1",
         "size": 10
        },
        "height": 400,
        "margin": {
         "b": 10,
         "l": 10,
         "r": 10,
         "t": 10
        },
        "paper_bgcolor": "#1e1e1e",
        "plot_bgcolor": "#1e1e1e",
        "template": {
         "data": {
          "bar": [
           {
            "error_x": {
             "color": "#2a3f5f"
            },
            "error_y": {
             "color": "#2a3f5f"
            },
            "marker": {
             "line": {
              "color": "#E5ECF6",
              "width": 0.5
             },
             "pattern": {
              "fillmode": "overlay",
              "size": 10,
              "solidity": 0.2
             }
            },
            "type": "bar"
           }
          ],
          "barpolar": [
           {
            "marker": {
             "line": {
              "color": "#E5ECF6",
              "width": 0.5
             },
             "pattern": {
              "fillmode": "overlay",
              "size": 10,
              "solidity": 0.2
             }
            },
            "type": "barpolar"
           }
          ],
          "carpet": [
           {
            "aaxis": {
             "endlinecolor": "#2a3f5f",
             "gridcolor": "white",
             "linecolor": "white",
             "minorgridcolor": "white",
             "startlinecolor": "#2a3f5f"
            },
            "baxis": {
             "endlinecolor": "#2a3f5f",
             "gridcolor": "white",
             "linecolor": "white",
             "minorgridcolor": "white",
             "startlinecolor": "#2a3f5f"
            },
            "type": "carpet"
           }
          ],
          "choropleth": [
           {
            "colorbar": {
             "outlinewidth": 0,
             "ticks": ""
            },
            "type": "choropleth"
           }
          ],
          "contour": [
           {
            "colorbar": {
             "outlinewidth": 0,
             "ticks": ""
            },
            "colorscale": [
             [
              0,
              "#0d0887"
             ],
             [
              0.1111111111111111,
              "#46039f"
             ],
             [
              0.2222222222222222,
              "#7201a8"
             ],
             [
              0.3333333333333333,
              "#9c179e"
             ],
             [
              0.4444444444444444,
              "#bd3786"
             ],
             [
              0.5555555555555556,
              "#d8576b"
             ],
             [
              0.6666666666666666,
              "#ed7953"
             ],
             [
              0.7777777777777778,
              "#fb9f3a"
             ],
             [
              0.8888888888888888,
              "#fdca26"
             ],
             [
              1,
              "#f0f921"
             ]
            ],
            "type": "contour"
           }
          ],
          "contourcarpet": [
           {
            "colorbar": {
             "outlinewidth": 0,
             "ticks": ""
            },
            "type": "contourcarpet"
           }
          ],
          "heatmap": [
           {
            "colorbar": {
             "outlinewidth": 0,
             "ticks": ""
            },
            "colorscale": [
             [
              0,
              "#0d0887"
             ],
             [
              0.1111111111111111,
              "#46039f"
             ],
             [
              0.2222222222222222,
              "#7201a8"
             ],
             [
              0.3333333333333333,
              "#9c179e"
             ],
             [
              0.4444444444444444,
              "#bd3786"
             ],
             [
              0.5555555555555556,
              "#d8576b"
             ],
             [
              0.6666666666666666,
              "#ed7953"
             ],
             [
              0.7777777777777778,
              "#fb9f3a"
             ],
             [
              0.8888888888888888,
              "#fdca26"
             ],
             [
              1,
              "#f0f921"
             ]
            ],
            "type": "heatmap"
           }
          ],
          "heatmapgl": [
           {
            "colorbar": {
             "outlinewidth": 0,
             "ticks": ""
            },
            "colorscale": [
             [
              0,
              "#0d0887"
             ],
             [
              0.1111111111111111,
              "#46039f"
             ],
             [
              0.2222222222222222,
              "#7201a8"
             ],
             [
              0.3333333333333333,
              "#9c179e"
             ],
             [
              0.4444444444444444,
              "#bd3786"
             ],
             [
              0.5555555555555556,
              "#d8576b"
             ],
             [
              0.6666666666666666,
              "#ed7953"
             ],
             [
              0.7777777777777778,
              "#fb9f3a"
             ],
             [
              0.8888888888888888,
              "#fdca26"
             ],
             [
              1,
              "#f0f921"
             ]
            ],
            "type": "heatmapgl"
           }
          ],
          "histogram": [
           {
            "marker": {
             "pattern": {
              "fillmode": "overlay",
              "size": 10,
              "solidity": 0.2
             }
            },
            "type": "histogram"
           }
          ],
          "histogram2d": [
           {
            "colorbar": {
             "outlinewidth": 0,
             "ticks": ""
            },
            "colorscale": [
             [
              0,
              "#0d0887"
             ],
             [
              0.1111111111111111,
              "#46039f"
             ],
             [
              0.2222222222222222,
              "#7201a8"
             ],
             [
              0.3333333333333333,
              "#9c179e"
             ],
             [
              0.4444444444444444,
              "#bd3786"
             ],
             [
              0.5555555555555556,
              "#d8576b"
             ],
             [
              0.6666666666666666,
              "#ed7953"
             ],
             [
              0.7777777777777778,
              "#fb9f3a"
             ],
             [
              0.8888888888888888,
              "#fdca26"
             ],
             [
              1,
              "#f0f921"
             ]
            ],
            "type": "histogram2d"
           }
          ],
          "histogram2dcontour": [
           {
            "colorbar": {
             "outlinewidth": 0,
             "ticks": ""
            },
            "colorscale": [
             [
              0,
              "#0d0887"
             ],
             [
              0.1111111111111111,
              "#46039f"
             ],
             [
              0.2222222222222222,
              "#7201a8"
             ],
             [
              0.3333333333333333,
              "#9c179e"
             ],
             [
              0.4444444444444444,
              "#bd3786"
             ],
             [
              0.5555555555555556,
              "#d8576b"
             ],
             [
              0.6666666666666666,
              "#ed7953"
             ],
             [
              0.7777777777777778,
              "#fb9f3a"
             ],
             [
              0.8888888888888888,
              "#fdca26"
             ],
             [
              1,
              "#f0f921"
             ]
            ],
            "type": "histogram2dcontour"
           }
          ],
          "mesh3d": [
           {
            "colorbar": {
             "outlinewidth": 0,
             "ticks": ""
            },
            "type": "mesh3d"
           }
          ],
          "parcoords": [
           {
            "line": {
             "colorbar": {
              "outlinewidth": 0,
              "ticks": ""
             }
            },
            "type": "parcoords"
           }
          ],
          "pie": [
           {
            "automargin": true,
            "type": "pie"
           }
          ],
          "scatter": [
           {
            "fillpattern": {
             "fillmode": "overlay",
             "size": 10,
             "solidity": 0.2
            },
            "type": "scatter"
           }
          ],
          "scatter3d": [
           {
            "line": {
             "colorbar": {
              "outlinewidth": 0,
              "ticks": ""
             }
            },
            "marker": {
             "colorbar": {
              "outlinewidth": 0,
              "ticks": ""
             }
            },
            "type": "scatter3d"
           }
          ],
          "scattercarpet": [
           {
            "marker": {
             "colorbar": {
              "outlinewidth": 0,
              "ticks": ""
             }
            },
            "type": "scattercarpet"
           }
          ],
          "scattergeo": [
           {
            "marker": {
             "colorbar": {
              "outlinewidth": 0,
              "ticks": ""
             }
            },
            "type": "scattergeo"
           }
          ],
          "scattergl": [
           {
            "marker": {
             "colorbar": {
              "outlinewidth": 0,
              "ticks": ""
             }
            },
            "type": "scattergl"
           }
          ],
          "scattermapbox": [
           {
            "marker": {
             "colorbar": {
              "outlinewidth": 0,
              "ticks": ""
             }
            },
            "type": "scattermapbox"
           }
          ],
          "scatterpolar": [
           {
            "marker": {
             "colorbar": {
              "outlinewidth": 0,
              "ticks": ""
             }
            },
            "type": "scatterpolar"
           }
          ],
          "scatterpolargl": [
           {
            "marker": {
             "colorbar": {
              "outlinewidth": 0,
              "ticks": ""
             }
            },
            "type": "scatterpolargl"
           }
          ],
          "scatterternary": [
           {
            "marker": {
             "colorbar": {
              "outlinewidth": 0,
              "ticks": ""
             }
            },
            "type": "scatterternary"
           }
          ],
          "surface": [
           {
            "colorbar": {
             "outlinewidth": 0,
             "ticks": ""
            },
            "colorscale": [
             [
              0,
              "#0d0887"
             ],
             [
              0.1111111111111111,
              "#46039f"
             ],
             [
              0.2222222222222222,
              "#7201a8"
             ],
             [
              0.3333333333333333,
              "#9c179e"
             ],
             [
              0.4444444444444444,
              "#bd3786"
             ],
             [
              0.5555555555555556,
              "#d8576b"
             ],
             [
              0.6666666666666666,
              "#ed7953"
             ],
             [
              0.7777777777777778,
              "#fb9f3a"
             ],
             [
              0.8888888888888888,
              "#fdca26"
             ],
             [
              1,
              "#f0f921"
             ]
            ],
            "type": "surface"
           }
          ],
          "table": [
           {
            "cells": {
             "fill": {
              "color": "#EBF0F8"
             },
             "line": {
              "color": "white"
             }
            },
            "header": {
             "fill": {
              "color": "#C8D4E3"
             },
             "line": {
              "color": "white"
             }
            },
            "type": "table"
           }
          ]
         },
         "layout": {
          "annotationdefaults": {
           "arrowcolor": "#2a3f5f",
           "arrowhead": 0,
           "arrowwidth": 1
          },
          "autotypenumbers": "strict",
          "coloraxis": {
           "colorbar": {
            "outlinewidth": 0,
            "ticks": ""
           }
          },
          "colorscale": {
           "diverging": [
            [
             0,
             "#8e0152"
            ],
            [
             0.1,
             "#c51b7d"
            ],
            [
             0.2,
             "#de77ae"
            ],
            [
             0.3,
             "#f1b6da"
            ],
            [
             0.4,
             "#fde0ef"
            ],
            [
             0.5,
             "#f7f7f7"
            ],
            [
             0.6,
             "#e6f5d0"
            ],
            [
             0.7,
             "#b8e186"
            ],
            [
             0.8,
             "#7fbc41"
            ],
            [
             0.9,
             "#4d9221"
            ],
            [
             1,
             "#276419"
            ]
           ],
           "sequential": [
            [
             0,
             "#0d0887"
            ],
            [
             0.1111111111111111,
             "#46039f"
            ],
            [
             0.2222222222222222,
             "#7201a8"
            ],
            [
             0.3333333333333333,
             "#9c179e"
            ],
            [
             0.4444444444444444,
             "#bd3786"
            ],
            [
             0.5555555555555556,
             "#d8576b"
            ],
            [
             0.6666666666666666,
             "#ed7953"
            ],
            [
             0.7777777777777778,
             "#fb9f3a"
            ],
            [
             0.8888888888888888,
             "#fdca26"
            ],
            [
             1,
             "#f0f921"
            ]
           ],
           "sequentialminus": [
            [
             0,
             "#0d0887"
            ],
            [
             0.1111111111111111,
             "#46039f"
            ],
            [
             0.2222222222222222,
             "#7201a8"
            ],
            [
             0.3333333333333333,
             "#9c179e"
            ],
            [
             0.4444444444444444,
             "#bd3786"
            ],
            [
             0.5555555555555556,
             "#d8576b"
            ],
            [
             0.6666666666666666,
             "#ed7953"
            ],
            [
             0.7777777777777778,
             "#fb9f3a"
            ],
            [
             0.8888888888888888,
             "#fdca26"
            ],
            [
             1,
             "#f0f921"
            ]
           ]
          },
          "colorway": [
           "#636efa",
           "#EF553B",
           "#00cc96",
           "#ab63fa",
           "#FFA15A",
           "#19d3f3",
           "#FF6692",
           "#B6E880",
           "#FF97FF",
           "#FECB52"
          ],
          "font": {
           "color": "#2a3f5f"
          },
          "geo": {
           "bgcolor": "white",
           "lakecolor": "white",
           "landcolor": "#E5ECF6",
           "showlakes": true,
           "showland": true,
           "subunitcolor": "white"
          },
          "hoverlabel": {
           "align": "left"
          },
          "hovermode": "closest",
          "mapbox": {
           "style": "light"
          },
          "paper_bgcolor": "white",
          "plot_bgcolor": "#E5ECF6",
          "polar": {
           "angularaxis": {
            "gridcolor": "white",
            "linecolor": "white",
            "ticks": ""
           },
           "bgcolor": "#E5ECF6",
           "radialaxis": {
            "gridcolor": "white",
            "linecolor": "white",
            "ticks": ""
           }
          },
          "scene": {
           "xaxis": {
            "backgroundcolor": "#E5ECF6",
            "gridcolor": "white",
            "gridwidth": 2,
            "linecolor": "white",
            "showbackground": true,
            "ticks": "",
            "zerolinecolor": "white"
           },
           "yaxis": {
            "backgroundcolor": "#E5ECF6",
            "gridcolor": "white",
            "gridwidth": 2,
            "linecolor": "white",
            "showbackground": true,
            "ticks": "",
            "zerolinecolor": "white"
           },
           "zaxis": {
            "backgroundcolor": "#E5ECF6",
            "gridcolor": "white",
            "gridwidth": 2,
            "linecolor": "white",
            "showbackground": true,
            "ticks": "",
            "zerolinecolor": "white"
           }
          },
          "shapedefaults": {
           "line": {
            "color": "#2a3f5f"
           }
          },
          "ternary": {
           "aaxis": {
            "gridcolor": "white",
            "linecolor": "white",
            "ticks": ""
           },
           "baxis": {
            "gridcolor": "white",
            "linecolor": "white",
            "ticks": ""
           },
           "bgcolor": "#E5ECF6",
           "caxis": {
            "gridcolor": "white",
            "linecolor": "white",
            "ticks": ""
           }
          },
          "title": {
           "x": 0.05
          },
          "xaxis": {
           "automargin": true,
           "gridcolor": "white",
           "linecolor": "white",
           "ticks": "",
           "title": {
            "standoff": 15
           },
           "zerolinecolor": "white",
           "zerolinewidth": 2
          },
          "yaxis": {
           "automargin": true,
           "gridcolor": "white",
           "linecolor": "white",
           "ticks": "",
           "title": {
            "standoff": 15
           },
           "zerolinecolor": "white",
           "zerolinewidth": 2
          }
         }
        },
        "width": 1000,
        "xaxis": {
         "fixedrange": true,
         "gridcolor": "#1f292f",
         "rangebreaks": [
          {
           "bounds": [
            "sat",
            "mon"
           ]
          }
         ],
         "rangeslider": {
          "visible": false
         },
         "showgrid": true
        },
        "yaxis": {
         "gridcolor": "#1f292f",
         "showgrid": true
        }
       }
      }
     },
     "metadata": {},
     "output_type": "display_data"
    }
   ],
   "source": [
    "plot_candles(df_plot, df_markers)"
   ]
  },
  {
   "cell_type": "code",
   "execution_count": null,
   "metadata": {},
   "outputs": [],
   "source": []
  },
  {
   "cell_type": "code",
   "execution_count": null,
   "metadata": {},
   "outputs": [],
   "source": []
  }
 ],
 "metadata": {
  "kernelspec": {
   "display_name": "Python 3.8.6 64-bit ('venv')",
   "metadata": {
    "interpreter": {
     "hash": "be5e91b1e492455655c24714dfd4b9d98fd4b60ac770d810fbdc4ba1d818ed6d"
    }
   },
   "name": "python3"
  },
  "language_info": {
   "codemirror_mode": {
    "name": "ipython",
    "version": 3
   },
   "file_extension": ".py",
   "mimetype": "text/x-python",
   "name": "python",
   "nbconvert_exporter": "python",
   "pygments_lexer": "ipython3",
   "version": "3.12.2"
  },
  "orig_nbformat": 2
 },
 "nbformat": 4,
 "nbformat_minor": 2
}
