{
 "cells": [
  {
   "cell_type": "code",
   "execution_count": 1,
   "metadata": {},
   "outputs": [],
   "source": [
    "import requests\n",
    "import defs\n",
    "import pandas as pd"
   ]
  },
  {
   "cell_type": "code",
   "execution_count": 2,
   "metadata": {},
   "outputs": [],
   "source": [
    "session = requests.Session()"
   ]
  },
  {
   "cell_type": "code",
   "execution_count": 3,
   "metadata": {},
   "outputs": [],
   "source": [
    "ins_df = pd.read_pickle(\"instruments.pkl\")"
   ]
  },
  {
   "cell_type": "code",
   "execution_count": 4,
   "metadata": {},
   "outputs": [],
   "source": [
    "our_curr = ['EUR', 'USD', 'GBP', 'JPY', 'CHF', 'NZD', 'CAD']"
   ]
  },
  {
   "cell_type": "code",
   "execution_count": 5,
   "metadata": {},
   "outputs": [],
   "source": [
    "def fetch_candles(pair_name, count, granularity):\n",
    "    url = f\"{defs.OANDA_URL}/instruments/{pair_name}/candles\"\n",
    "    params = dict(\n",
    "        count = count,\n",
    "        granularity = granularity,\n",
    "        price = \"MBA\"\n",
    "    )\n",
    "    response = session.get(url, params=params, headers=defs.SECURE_HEADER)\n",
    "    return response.status_code, response.json()"
   ]
  },
  {
   "cell_type": "code",
   "execution_count": null,
   "metadata": {},
   "outputs": [],
   "source": [
    "fetch_candles(\"EUR_USD\",10,\"H1\")"
   ]
  },
  {
   "cell_type": "code",
   "execution_count": 7,
   "metadata": {},
   "outputs": [],
   "source": [
    "def get_candles_df(json_response):\n",
    "\n",
    "    prices = ['mid', 'bid', 'ask']\n",
    "    ohlc = ['o', 'h', 'l', 'c']\n",
    "\n",
    "    our_data = []\n",
    "    for candle in json_response['candles']:\n",
    "        if candle['complete'] == False:\n",
    "            continue\n",
    "        new_dict = {}\n",
    "        new_dict['time'] = candle['time']\n",
    "        new_dict['volume'] = candle['volume']\n",
    "        for price in prices:\n",
    "            for oh in ohlc:\n",
    "                new_dict[f\"{price}_{oh}\"] = candle[price][oh]\n",
    "        our_data.append(new_dict)\n",
    "    return pd.DataFrame.from_dict(our_data)"
   ]
  },
  {
   "cell_type": "code",
   "execution_count": 8,
   "metadata": {},
   "outputs": [],
   "source": [
    "def save_file(candles_df, pair, granularity):\n",
    "    candles_df.to_pickle(f\"his_data/{pair}_{granularity}.pkl\")"
   ]
  },
  {
   "cell_type": "code",
   "execution_count": 10,
   "metadata": {},
   "outputs": [],
   "source": [
    "def create_data(pair, granularity):\n",
    "    code, json_data = fetch_candles(pair, 4000, granularity)\n",
    "    if code != 200:\n",
    "        print(pair, \"Error\")\n",
    "        return\n",
    "    df = get_candles_df(json_data)\n",
    "    print(f\"{pair} loaded {df.shape[0]} candles from {df.time.min()} to {df.time.max()}\")\n",
    "    save_file(df, pair, granularity)"
   ]
  },
  {
   "cell_type": "code",
   "execution_count": 12,
   "metadata": {},
   "outputs": [
    {
     "name": "stdout",
     "output_type": "stream",
     "text": [
      "EUR_USD loaded 4000 candles from 2023-09-05T05:00:00.000000000Z to 2024-04-26T20:00:00.000000000Z\n",
      "EUR_GBP loaded 4000 candles from 2023-09-05T05:00:00.000000000Z to 2024-04-26T20:00:00.000000000Z\n",
      "EUR_JPY loaded 4000 candles from 2023-09-05T05:00:00.000000000Z to 2024-04-26T20:00:00.000000000Z\n",
      "EUR_CHF loaded 4000 candles from 2023-09-05T05:00:00.000000000Z to 2024-04-26T20:00:00.000000000Z\n",
      "EUR_NZD loaded 4000 candles from 2023-09-05T07:00:00.000000000Z to 2024-04-26T20:00:00.000000000Z\n",
      "EUR_CAD loaded 4000 candles from 2023-09-05T05:00:00.000000000Z to 2024-04-26T20:00:00.000000000Z\n",
      "USD_JPY loaded 4000 candles from 2023-09-05T05:00:00.000000000Z to 2024-04-26T20:00:00.000000000Z\n",
      "USD_CHF loaded 4000 candles from 2023-09-05T05:00:00.000000000Z to 2024-04-26T20:00:00.000000000Z\n",
      "USD_CAD loaded 4000 candles from 2023-09-05T05:00:00.000000000Z to 2024-04-26T20:00:00.000000000Z\n",
      "GBP_USD loaded 4000 candles from 2023-09-05T05:00:00.000000000Z to 2024-04-26T20:00:00.000000000Z\n",
      "GBP_JPY loaded 4000 candles from 2023-09-05T05:00:00.000000000Z to 2024-04-26T20:00:00.000000000Z\n",
      "GBP_CHF loaded 4000 candles from 2023-09-05T05:00:00.000000000Z to 2024-04-26T20:00:00.000000000Z\n",
      "GBP_NZD loaded 4000 candles from 2023-09-05T07:00:00.000000000Z to 2024-04-26T20:00:00.000000000Z\n",
      "GBP_CAD loaded 4000 candles from 2023-09-05T05:00:00.000000000Z to 2024-04-26T20:00:00.000000000Z\n",
      "CHF_JPY loaded 4000 candles from 2023-09-05T05:00:00.000000000Z to 2024-04-26T20:00:00.000000000Z\n",
      "NZD_USD loaded 4000 candles from 2023-09-05T09:00:00.000000000Z to 2024-04-26T20:00:00.000000000Z\n",
      "NZD_JPY loaded 4000 candles from 2023-09-05T07:00:00.000000000Z to 2024-04-26T20:00:00.000000000Z\n",
      "NZD_CHF loaded 4000 candles from 2023-09-05T03:00:00.000000000Z to 2024-04-26T20:00:00.000000000Z\n",
      "NZD_CAD loaded 4000 candles from 2023-09-05T08:00:00.000000000Z to 2024-04-26T20:00:00.000000000Z\n",
      "CAD_JPY loaded 4000 candles from 2023-09-05T05:00:00.000000000Z to 2024-04-26T20:00:00.000000000Z\n",
      "CAD_CHF loaded 4000 candles from 2023-09-05T04:00:00.000000000Z to 2024-04-26T20:00:00.000000000Z\n"
     ]
    }
   ],
   "source": [
    "for p1 in our_curr:\n",
    "    for p2 in our_curr:\n",
    "        pair = f\"{p1}_{p2}\"\n",
    "        if pair in ins_df.name.unique():\n",
    "            create_data(pair, \"H1\")"
   ]
  },
  {
   "cell_type": "code",
   "execution_count": null,
   "metadata": {},
   "outputs": [],
   "source": []
  }
 ],
 "metadata": {
  "kernelspec": {
   "display_name": "Python 3",
   "language": "python",
   "name": "python3"
  },
  "language_info": {
   "codemirror_mode": {
    "name": "ipython",
    "version": 3
   },
   "file_extension": ".py",
   "mimetype": "text/x-python",
   "name": "python",
   "nbconvert_exporter": "python",
   "pygments_lexer": "ipython3",
   "version": "3.12.2"
  },
  "orig_nbformat": 2
 },
 "nbformat": 4,
 "nbformat_minor": 2
}
