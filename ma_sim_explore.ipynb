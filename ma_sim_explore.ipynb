{
 "cells": [
  {
   "cell_type": "code",
   "execution_count": 1,
   "metadata": {},
   "outputs": [],
   "source": [
    "import pandas as pd\n",
    "import plotly.graph_objects as go"
   ]
  },
  {
   "cell_type": "code",
   "execution_count": 2,
   "metadata": {},
   "outputs": [],
   "source": [
    "ma_test_res = pd.read_pickle(\"ma_test_res.pkl\")\n",
    "all_trades = pd.read_pickle(\"all_trades.pkl\")"
   ]
  },
  {
   "cell_type": "code",
   "execution_count": 3,
   "metadata": {},
   "outputs": [
    {
     "data": {
      "text/plain": [
       "(66262, 11)"
      ]
     },
     "execution_count": 3,
     "metadata": {},
     "output_type": "execute_result"
    }
   ],
   "source": [
    "all_trades.shape"
   ]
  },
  {
   "cell_type": "code",
   "execution_count": 4,
   "metadata": {},
   "outputs": [
    {
     "data": {
      "text/plain": [
       "(630, 8)"
      ]
     },
     "execution_count": 4,
     "metadata": {},
     "output_type": "execute_result"
    }
   ],
   "source": [
    "ma_test_res.shape"
   ]
  },
  {
   "cell_type": "code",
   "execution_count": 5,
   "metadata": {},
   "outputs": [
    {
     "data": {
      "text/html": [
       "<div>\n",
       "<style scoped>\n",
       "    .dataframe tbody tr th:only-of-type {\n",
       "        vertical-align: middle;\n",
       "    }\n",
       "\n",
       "    .dataframe tbody tr th {\n",
       "        vertical-align: top;\n",
       "    }\n",
       "\n",
       "    .dataframe thead th {\n",
       "        text-align: right;\n",
       "    }\n",
       "</style>\n",
       "<table border=\"1\" class=\"dataframe\">\n",
       "  <thead>\n",
       "    <tr style=\"text-align: right;\">\n",
       "      <th></th>\n",
       "      <th>pair</th>\n",
       "      <th>num_trades</th>\n",
       "      <th>total_gain</th>\n",
       "      <th>mean_gain</th>\n",
       "      <th>min_gain</th>\n",
       "      <th>max_gain</th>\n",
       "      <th>mashort</th>\n",
       "      <th>malong</th>\n",
       "    </tr>\n",
       "  </thead>\n",
       "  <tbody>\n",
       "    <tr>\n",
       "      <th>0</th>\n",
       "      <td>GBP_USD</td>\n",
       "      <td>576</td>\n",
       "      <td>-592.5</td>\n",
       "      <td>-1.028646</td>\n",
       "      <td>-119.0</td>\n",
       "      <td>188.9</td>\n",
       "      <td>4</td>\n",
       "      <td>8</td>\n",
       "    </tr>\n",
       "    <tr>\n",
       "      <th>1</th>\n",
       "      <td>GBP_USD</td>\n",
       "      <td>341</td>\n",
       "      <td>-921.4</td>\n",
       "      <td>-2.702053</td>\n",
       "      <td>-81.5</td>\n",
       "      <td>189.0</td>\n",
       "      <td>4</td>\n",
       "      <td>16</td>\n",
       "    </tr>\n",
       "    <tr>\n",
       "      <th>2</th>\n",
       "      <td>GBP_USD</td>\n",
       "      <td>312</td>\n",
       "      <td>-1158.0</td>\n",
       "      <td>-3.711538</td>\n",
       "      <td>-112.2</td>\n",
       "      <td>239.9</td>\n",
       "      <td>8</td>\n",
       "      <td>16</td>\n",
       "    </tr>\n",
       "    <tr>\n",
       "      <th>3</th>\n",
       "      <td>GBP_USD</td>\n",
       "      <td>183</td>\n",
       "      <td>-2.2</td>\n",
       "      <td>-0.012022</td>\n",
       "      <td>-77.6</td>\n",
       "      <td>212.9</td>\n",
       "      <td>4</td>\n",
       "      <td>32</td>\n",
       "    </tr>\n",
       "    <tr>\n",
       "      <th>4</th>\n",
       "      <td>GBP_USD</td>\n",
       "      <td>148</td>\n",
       "      <td>-410.0</td>\n",
       "      <td>-2.770270</td>\n",
       "      <td>-116.4</td>\n",
       "      <td>202.2</td>\n",
       "      <td>8</td>\n",
       "      <td>32</td>\n",
       "    </tr>\n",
       "  </tbody>\n",
       "</table>\n",
       "</div>"
      ],
      "text/plain": [
       "      pair  num_trades  total_gain  mean_gain  min_gain  max_gain  mashort  \\\n",
       "0  GBP_USD         576      -592.5  -1.028646    -119.0     188.9        4   \n",
       "1  GBP_USD         341      -921.4  -2.702053     -81.5     189.0        4   \n",
       "2  GBP_USD         312     -1158.0  -3.711538    -112.2     239.9        8   \n",
       "3  GBP_USD         183        -2.2  -0.012022     -77.6     212.9        4   \n",
       "4  GBP_USD         148      -410.0  -2.770270    -116.4     202.2        8   \n",
       "\n",
       "   malong  \n",
       "0       8  \n",
       "1      16  \n",
       "2      16  \n",
       "3      32  \n",
       "4      32  "
      ]
     },
     "execution_count": 5,
     "metadata": {},
     "output_type": "execute_result"
    }
   ],
   "source": [
    "ma_test_res.head()"
   ]
  },
  {
   "cell_type": "code",
   "execution_count": 6,
   "metadata": {},
   "outputs": [
    {
     "data": {
      "text/plain": [
       "Index(['pair', 'num_trades', 'total_gain', 'mean_gain', 'min_gain', 'max_gain',\n",
       "       'mashort', 'malong'],\n",
       "      dtype='object')"
      ]
     },
     "execution_count": 6,
     "metadata": {},
     "output_type": "execute_result"
    }
   ],
   "source": [
    "ma_test_res.columns"
   ]
  },
  {
   "cell_type": "code",
   "execution_count": 7,
   "metadata": {},
   "outputs": [],
   "source": [
    "ma_test_res = ma_test_res[['pair', 'num_trades', 'total_gain','mashort', 'malong']]"
   ]
  },
  {
   "cell_type": "code",
   "execution_count": 8,
   "metadata": {},
   "outputs": [],
   "source": [
    "ma_test_res[\"CROSS\"] = \"MA_\" + ma_test_res.mashort.map(str) + \"_\" + ma_test_res.malong.map(str)"
   ]
  },
  {
   "cell_type": "code",
   "execution_count": 9,
   "metadata": {},
   "outputs": [],
   "source": [
    "df_all_gains = ma_test_res.groupby(by=[\"CROSS\", \"mashort\", \"malong\"], as_index=False).sum()"
   ]
  },
  {
   "cell_type": "code",
   "execution_count": 10,
   "metadata": {},
   "outputs": [],
   "source": [
    "df_all_gains.sort_values(by=\"total_gain\", ascending=False, inplace=True)"
   ]
  },
  {
   "cell_type": "code",
   "execution_count": 11,
   "metadata": {},
   "outputs": [
    {
     "data": {
      "text/html": [
       "<div>\n",
       "<style scoped>\n",
       "    .dataframe tbody tr th:only-of-type {\n",
       "        vertical-align: middle;\n",
       "    }\n",
       "\n",
       "    .dataframe tbody tr th {\n",
       "        vertical-align: top;\n",
       "    }\n",
       "\n",
       "    .dataframe thead th {\n",
       "        text-align: right;\n",
       "    }\n",
       "</style>\n",
       "<table border=\"1\" class=\"dataframe\">\n",
       "  <thead>\n",
       "    <tr style=\"text-align: right;\">\n",
       "      <th></th>\n",
       "      <th>CROSS</th>\n",
       "      <th>mashort</th>\n",
       "      <th>malong</th>\n",
       "      <th>pair</th>\n",
       "      <th>num_trades</th>\n",
       "      <th>total_gain</th>\n",
       "    </tr>\n",
       "  </thead>\n",
       "  <tbody>\n",
       "    <tr>\n",
       "      <th>22</th>\n",
       "      <td>MA_64_256</td>\n",
       "      <td>64</td>\n",
       "      <td>256</td>\n",
       "      <td>GBP_USDGBP_CADGBP_JPYGBP_NZDGBP_CHFEUR_GBPEUR_...</td>\n",
       "      <td>364</td>\n",
       "      <td>-1924.9</td>\n",
       "    </tr>\n",
       "    <tr>\n",
       "      <th>25</th>\n",
       "      <td>MA_8_16</td>\n",
       "      <td>8</td>\n",
       "      <td>16</td>\n",
       "      <td>GBP_USDGBP_CADGBP_JPYGBP_NZDGBP_CHFEUR_GBPEUR_...</td>\n",
       "      <td>5847</td>\n",
       "      <td>-2632.0</td>\n",
       "    </tr>\n",
       "    <tr>\n",
       "      <th>26</th>\n",
       "      <td>MA_8_256</td>\n",
       "      <td>8</td>\n",
       "      <td>256</td>\n",
       "      <td>GBP_USDGBP_CADGBP_JPYGBP_NZDGBP_CHFEUR_GBPEUR_...</td>\n",
       "      <td>864</td>\n",
       "      <td>-2945.4</td>\n",
       "    </tr>\n",
       "    <tr>\n",
       "      <th>28</th>\n",
       "      <td>MA_8_64</td>\n",
       "      <td>8</td>\n",
       "      <td>64</td>\n",
       "      <td>GBP_USDGBP_CADGBP_JPYGBP_NZDGBP_CHFEUR_GBPEUR_...</td>\n",
       "      <td>2045</td>\n",
       "      <td>-4161.9</td>\n",
       "    </tr>\n",
       "    <tr>\n",
       "      <th>2</th>\n",
       "      <td>MA_16_32</td>\n",
       "      <td>16</td>\n",
       "      <td>32</td>\n",
       "      <td>GBP_USDGBP_CADGBP_JPYGBP_NZDGBP_CHFEUR_GBPEUR_...</td>\n",
       "      <td>2888</td>\n",
       "      <td>-4255.0</td>\n",
       "    </tr>\n",
       "  </tbody>\n",
       "</table>\n",
       "</div>"
      ],
      "text/plain": [
       "        CROSS  mashort  malong  \\\n",
       "22  MA_64_256       64     256   \n",
       "25    MA_8_16        8      16   \n",
       "26   MA_8_256        8     256   \n",
       "28    MA_8_64        8      64   \n",
       "2    MA_16_32       16      32   \n",
       "\n",
       "                                                 pair  num_trades  total_gain  \n",
       "22  GBP_USDGBP_CADGBP_JPYGBP_NZDGBP_CHFEUR_GBPEUR_...         364     -1924.9  \n",
       "25  GBP_USDGBP_CADGBP_JPYGBP_NZDGBP_CHFEUR_GBPEUR_...        5847     -2632.0  \n",
       "26  GBP_USDGBP_CADGBP_JPYGBP_NZDGBP_CHFEUR_GBPEUR_...         864     -2945.4  \n",
       "28  GBP_USDGBP_CADGBP_JPYGBP_NZDGBP_CHFEUR_GBPEUR_...        2045     -4161.9  \n",
       "2   GBP_USDGBP_CADGBP_JPYGBP_NZDGBP_CHFEUR_GBPEUR_...        2888     -4255.0  "
      ]
     },
     "execution_count": 11,
     "metadata": {},
     "output_type": "execute_result"
    }
   ],
   "source": [
    "df_all_gains.head()"
   ]
  },
  {
   "cell_type": "code",
   "execution_count": 12,
   "metadata": {},
   "outputs": [],
   "source": [
    "ma_8_16 = ma_test_res[ma_test_res.CROSS=='MA_8_16'].copy()"
   ]
  },
  {
   "cell_type": "code",
   "execution_count": 13,
   "metadata": {},
   "outputs": [],
   "source": [
    "ma_8_16.sort_values(by=\"total_gain\", ascending=False, inplace=True)"
   ]
  },
  {
   "cell_type": "code",
   "execution_count": 14,
   "metadata": {},
   "outputs": [],
   "source": [
    "total_p = len(ma_8_16.pair.unique())"
   ]
  },
  {
   "cell_type": "code",
   "execution_count": 15,
   "metadata": {},
   "outputs": [
    {
     "data": {
      "text/plain": [
       "7"
      ]
     },
     "execution_count": 15,
     "metadata": {},
     "output_type": "execute_result"
    }
   ],
   "source": [
    "ma_8_16[ma_8_16.total_gain>0].shape[0]"
   ]
  },
  {
   "cell_type": "code",
   "execution_count": 16,
   "metadata": {},
   "outputs": [
    {
     "data": {
      "text/plain": [
       "0.6190476190476191"
      ]
     },
     "execution_count": 16,
     "metadata": {},
     "output_type": "execute_result"
    }
   ],
   "source": [
    "13 / total_p"
   ]
  },
  {
   "cell_type": "code",
   "execution_count": 17,
   "metadata": {},
   "outputs": [
    {
     "name": "stdout",
     "output_type": "stream",
     "text": [
      "MA_64_256       8   38%\n",
      "MA_8_16         7   33%\n",
      "MA_8_256        6   29%\n",
      "MA_8_64         6   29%\n",
      "MA_16_32        8   38%\n",
      "MA_4_256        5   24%\n",
      "MA_32_256       9   43%\n",
      "MA_8_32         6   29%\n",
      "MA_4_16         7   33%\n",
      "MA_64_128       9   43%\n",
      "MA_4_32         7   33%\n",
      "MA_4_128        6   29%\n",
      "MA_16_256       6   29%\n",
      "MA_32_128       7   33%\n",
      "MA_32_64        8   38%\n",
      "MA_24_32        5   24%\n",
      "MA_8_128        5   24%\n",
      "MA_24_256       6   29%\n",
      "MA_16_128       6   29%\n",
      "MA_24_128       6   29%\n",
      "MA_4_64         6   29%\n",
      "MA_4_8          6   29%\n",
      "MA_16_64        6   29%\n",
      "MA_8_96         5   24%\n",
      "MA_16_96        6   29%\n",
      "MA_32_96        5   24%\n",
      "MA_24_64        5   24%\n",
      "MA_24_96        4   19%\n",
      "MA_4_96         3   14%\n",
      "MA_64_96        5   24%\n"
     ]
    }
   ],
   "source": [
    "for cross in df_all_gains.CROSS.unique():\n",
    "    df_temp = ma_test_res[ma_test_res.CROSS==cross]\n",
    "    total_p = df_temp.shape[0]\n",
    "    n_good = df_temp[df_temp.total_gain>0].shape[0]\n",
    "    print(f\"{cross:12} {n_good:4} {(n_good/total_p)*100:4.0f}%\")"
   ]
  },
  {
   "cell_type": "code",
   "execution_count": 18,
   "metadata": {},
   "outputs": [],
   "source": [
    "crosses = df_all_gains.CROSS.unique()[:3]"
   ]
  },
  {
   "cell_type": "code",
   "execution_count": 19,
   "metadata": {},
   "outputs": [
    {
     "data": {
      "text/plain": [
       "array(['MA_64_256', 'MA_8_16', 'MA_8_256'], dtype=object)"
      ]
     },
     "execution_count": 19,
     "metadata": {},
     "output_type": "execute_result"
    }
   ],
   "source": [
    "crosses"
   ]
  },
  {
   "cell_type": "code",
   "execution_count": 20,
   "metadata": {},
   "outputs": [
    {
     "data": {
      "text/html": [
       "<div>\n",
       "<style scoped>\n",
       "    .dataframe tbody tr th:only-of-type {\n",
       "        vertical-align: middle;\n",
       "    }\n",
       "\n",
       "    .dataframe tbody tr th {\n",
       "        vertical-align: top;\n",
       "    }\n",
       "\n",
       "    .dataframe thead th {\n",
       "        text-align: right;\n",
       "    }\n",
       "</style>\n",
       "<table border=\"1\" class=\"dataframe\">\n",
       "  <thead>\n",
       "    <tr style=\"text-align: right;\">\n",
       "      <th></th>\n",
       "      <th>pair</th>\n",
       "      <th>num_trades</th>\n",
       "      <th>total_gain</th>\n",
       "      <th>mashort</th>\n",
       "      <th>malong</th>\n",
       "      <th>CROSS</th>\n",
       "    </tr>\n",
       "  </thead>\n",
       "  <tbody>\n",
       "    <tr>\n",
       "      <th>0</th>\n",
       "      <td>GBP_USD</td>\n",
       "      <td>576</td>\n",
       "      <td>-592.5</td>\n",
       "      <td>4</td>\n",
       "      <td>8</td>\n",
       "      <td>MA_4_8</td>\n",
       "    </tr>\n",
       "    <tr>\n",
       "      <th>1</th>\n",
       "      <td>GBP_USD</td>\n",
       "      <td>341</td>\n",
       "      <td>-921.4</td>\n",
       "      <td>4</td>\n",
       "      <td>16</td>\n",
       "      <td>MA_4_16</td>\n",
       "    </tr>\n",
       "  </tbody>\n",
       "</table>\n",
       "</div>"
      ],
      "text/plain": [
       "      pair  num_trades  total_gain  mashort  malong    CROSS\n",
       "0  GBP_USD         576      -592.5        4       8   MA_4_8\n",
       "1  GBP_USD         341      -921.4        4      16  MA_4_16"
      ]
     },
     "execution_count": 20,
     "metadata": {},
     "output_type": "execute_result"
    }
   ],
   "source": [
    "ma_test_res.head(2)"
   ]
  },
  {
   "cell_type": "code",
   "execution_count": 21,
   "metadata": {},
   "outputs": [],
   "source": [
    "df_good = ma_test_res[(ma_test_res.CROSS.isin(crosses)) & (ma_test_res.total_gain>0)].copy()"
   ]
  },
  {
   "cell_type": "code",
   "execution_count": 22,
   "metadata": {},
   "outputs": [
    {
     "data": {
      "text/html": [
       "<div>\n",
       "<style scoped>\n",
       "    .dataframe tbody tr th:only-of-type {\n",
       "        vertical-align: middle;\n",
       "    }\n",
       "\n",
       "    .dataframe tbody tr th {\n",
       "        vertical-align: top;\n",
       "    }\n",
       "\n",
       "    .dataframe thead th {\n",
       "        text-align: right;\n",
       "    }\n",
       "</style>\n",
       "<table border=\"1\" class=\"dataframe\">\n",
       "  <thead>\n",
       "    <tr style=\"text-align: right;\">\n",
       "      <th></th>\n",
       "      <th>pair</th>\n",
       "      <th>num_trades</th>\n",
       "      <th>total_gain</th>\n",
       "      <th>mashort</th>\n",
       "      <th>malong</th>\n",
       "      <th>CROSS</th>\n",
       "    </tr>\n",
       "  </thead>\n",
       "  <tbody>\n",
       "    <tr>\n",
       "      <th>55</th>\n",
       "      <td>GBP_CAD</td>\n",
       "      <td>27</td>\n",
       "      <td>660.6</td>\n",
       "      <td>8</td>\n",
       "      <td>256</td>\n",
       "      <td>MA_8_256</td>\n",
       "    </tr>\n",
       "    <tr>\n",
       "      <th>59</th>\n",
       "      <td>GBP_CAD</td>\n",
       "      <td>11</td>\n",
       "      <td>723.8</td>\n",
       "      <td>64</td>\n",
       "      <td>256</td>\n",
       "      <td>MA_64_256</td>\n",
       "    </tr>\n",
       "  </tbody>\n",
       "</table>\n",
       "</div>"
      ],
      "text/plain": [
       "       pair  num_trades  total_gain  mashort  malong      CROSS\n",
       "55  GBP_CAD          27       660.6        8     256   MA_8_256\n",
       "59  GBP_CAD          11       723.8       64     256  MA_64_256"
      ]
     },
     "execution_count": 22,
     "metadata": {},
     "output_type": "execute_result"
    }
   ],
   "source": [
    "df_good.head(2)"
   ]
  },
  {
   "cell_type": "code",
   "execution_count": 23,
   "metadata": {},
   "outputs": [],
   "source": [
    "our_pairs = list(df_good.pair.value_counts()[:9].index)"
   ]
  },
  {
   "cell_type": "code",
   "execution_count": 24,
   "metadata": {},
   "outputs": [
    {
     "data": {
      "text/plain": [
       "['GBP_CAD',\n",
       " 'GBP_CHF',\n",
       " 'EUR_USD',\n",
       " 'EUR_CHF',\n",
       " 'USD_JPY',\n",
       " 'USD_CHF',\n",
       " 'GBP_JPY',\n",
       " 'EUR_CAD',\n",
       " 'EUR_JPY']"
      ]
     },
     "execution_count": 24,
     "metadata": {},
     "output_type": "execute_result"
    }
   ],
   "source": [
    "our_pairs"
   ]
  },
  {
   "cell_type": "code",
   "execution_count": 25,
   "metadata": {},
   "outputs": [
    {
     "data": {
      "text/html": [
       "<div>\n",
       "<style scoped>\n",
       "    .dataframe tbody tr th:only-of-type {\n",
       "        vertical-align: middle;\n",
       "    }\n",
       "\n",
       "    .dataframe tbody tr th {\n",
       "        vertical-align: top;\n",
       "    }\n",
       "\n",
       "    .dataframe thead th {\n",
       "        text-align: right;\n",
       "    }\n",
       "</style>\n",
       "<table border=\"1\" class=\"dataframe\">\n",
       "  <thead>\n",
       "    <tr style=\"text-align: right;\">\n",
       "      <th></th>\n",
       "      <th>time</th>\n",
       "      <th>mid_c</th>\n",
       "      <th>DIFF</th>\n",
       "      <th>DIFF_PREV</th>\n",
       "      <th>IS_TRADE</th>\n",
       "      <th>DELTA</th>\n",
       "      <th>GAIN</th>\n",
       "      <th>PAIR</th>\n",
       "      <th>MASHORT</th>\n",
       "      <th>MALONG</th>\n",
       "      <th>DURATION</th>\n",
       "    </tr>\n",
       "  </thead>\n",
       "  <tbody>\n",
       "    <tr>\n",
       "      <th>8</th>\n",
       "      <td>2023-09-05 13:00:00+00:00</td>\n",
       "      <td>1.25616</td>\n",
       "      <td>0.000101</td>\n",
       "      <td>-0.000794</td>\n",
       "      <td>1</td>\n",
       "      <td>0.4</td>\n",
       "      <td>0.4</td>\n",
       "      <td>GBP_USD</td>\n",
       "      <td>4</td>\n",
       "      <td>8</td>\n",
       "      <td>6.0</td>\n",
       "    </tr>\n",
       "    <tr>\n",
       "      <th>14</th>\n",
       "      <td>2023-09-05 19:00:00+00:00</td>\n",
       "      <td>1.25620</td>\n",
       "      <td>-0.000010</td>\n",
       "      <td>0.000616</td>\n",
       "      <td>-1</td>\n",
       "      <td>7.8</td>\n",
       "      <td>-7.8</td>\n",
       "      <td>GBP_USD</td>\n",
       "      <td>4</td>\n",
       "      <td>8</td>\n",
       "      <td>4.0</td>\n",
       "    </tr>\n",
       "  </tbody>\n",
       "</table>\n",
       "</div>"
      ],
      "text/plain": [
       "                        time    mid_c      DIFF  DIFF_PREV  IS_TRADE  DELTA  \\\n",
       "8  2023-09-05 13:00:00+00:00  1.25616  0.000101  -0.000794         1    0.4   \n",
       "14 2023-09-05 19:00:00+00:00  1.25620 -0.000010   0.000616        -1    7.8   \n",
       "\n",
       "    GAIN     PAIR  MASHORT  MALONG  DURATION  \n",
       "8    0.4  GBP_USD        4       8       6.0  \n",
       "14  -7.8  GBP_USD        4       8       4.0  "
      ]
     },
     "execution_count": 25,
     "metadata": {},
     "output_type": "execute_result"
    }
   ],
   "source": [
    "all_trades.head(2)"
   ]
  },
  {
   "cell_type": "code",
   "execution_count": 26,
   "metadata": {},
   "outputs": [],
   "source": [
    "all_trades[\"CROSS\"] = \"MA_\" + all_trades.MASHORT.map(str) + \"_\" + all_trades.MALONG.map(str)"
   ]
  },
  {
   "cell_type": "code",
   "execution_count": 27,
   "metadata": {},
   "outputs": [],
   "source": [
    "trades_cad_jpy = all_trades[(all_trades.CROSS==\"MA_8_16\") & (all_trades.PAIR==\"CAD_JPY\")].copy()"
   ]
  },
  {
   "cell_type": "code",
   "execution_count": 28,
   "metadata": {},
   "outputs": [
    {
     "data": {
      "text/html": [
       "<div>\n",
       "<style scoped>\n",
       "    .dataframe tbody tr th:only-of-type {\n",
       "        vertical-align: middle;\n",
       "    }\n",
       "\n",
       "    .dataframe tbody tr th {\n",
       "        vertical-align: top;\n",
       "    }\n",
       "\n",
       "    .dataframe thead th {\n",
       "        text-align: right;\n",
       "    }\n",
       "</style>\n",
       "<table border=\"1\" class=\"dataframe\">\n",
       "  <thead>\n",
       "    <tr style=\"text-align: right;\">\n",
       "      <th></th>\n",
       "      <th>time</th>\n",
       "      <th>mid_c</th>\n",
       "      <th>DIFF</th>\n",
       "      <th>DIFF_PREV</th>\n",
       "      <th>IS_TRADE</th>\n",
       "      <th>DELTA</th>\n",
       "      <th>GAIN</th>\n",
       "      <th>PAIR</th>\n",
       "      <th>MASHORT</th>\n",
       "      <th>MALONG</th>\n",
       "      <th>DURATION</th>\n",
       "      <th>CROSS</th>\n",
       "    </tr>\n",
       "  </thead>\n",
       "  <tbody>\n",
       "    <tr>\n",
       "      <th>21</th>\n",
       "      <td>2023-09-06 02:00:00+00:00</td>\n",
       "      <td>108.132</td>\n",
       "      <td>-0.027125</td>\n",
       "      <td>0.016125</td>\n",
       "      <td>-1</td>\n",
       "      <td>-6.0</td>\n",
       "      <td>6.0</td>\n",
       "      <td>CAD_JPY</td>\n",
       "      <td>8</td>\n",
       "      <td>16</td>\n",
       "      <td>15.0</td>\n",
       "      <td>MA_8_16</td>\n",
       "    </tr>\n",
       "    <tr>\n",
       "      <th>36</th>\n",
       "      <td>2023-09-06 17:00:00+00:00</td>\n",
       "      <td>108.072</td>\n",
       "      <td>0.008125</td>\n",
       "      <td>-0.009750</td>\n",
       "      <td>1</td>\n",
       "      <td>3.0</td>\n",
       "      <td>3.0</td>\n",
       "      <td>CAD_JPY</td>\n",
       "      <td>8</td>\n",
       "      <td>16</td>\n",
       "      <td>14.0</td>\n",
       "      <td>MA_8_16</td>\n",
       "    </tr>\n",
       "    <tr>\n",
       "      <th>50</th>\n",
       "      <td>2023-09-07 07:00:00+00:00</td>\n",
       "      <td>108.102</td>\n",
       "      <td>-0.022625</td>\n",
       "      <td>0.001688</td>\n",
       "      <td>-1</td>\n",
       "      <td>-38.9</td>\n",
       "      <td>38.9</td>\n",
       "      <td>CAD_JPY</td>\n",
       "      <td>8</td>\n",
       "      <td>16</td>\n",
       "      <td>21.0</td>\n",
       "      <td>MA_8_16</td>\n",
       "    </tr>\n",
       "    <tr>\n",
       "      <th>71</th>\n",
       "      <td>2023-09-08 04:00:00+00:00</td>\n",
       "      <td>107.713</td>\n",
       "      <td>0.010188</td>\n",
       "      <td>-0.011125</td>\n",
       "      <td>1</td>\n",
       "      <td>10.7</td>\n",
       "      <td>10.7</td>\n",
       "      <td>CAD_JPY</td>\n",
       "      <td>8</td>\n",
       "      <td>16</td>\n",
       "      <td>68.0</td>\n",
       "      <td>MA_8_16</td>\n",
       "    </tr>\n",
       "    <tr>\n",
       "      <th>91</th>\n",
       "      <td>2023-09-11 00:00:00+00:00</td>\n",
       "      <td>107.820</td>\n",
       "      <td>-0.024750</td>\n",
       "      <td>0.049375</td>\n",
       "      <td>-1</td>\n",
       "      <td>11.8</td>\n",
       "      <td>-11.8</td>\n",
       "      <td>CAD_JPY</td>\n",
       "      <td>8</td>\n",
       "      <td>16</td>\n",
       "      <td>12.0</td>\n",
       "      <td>MA_8_16</td>\n",
       "    </tr>\n",
       "  </tbody>\n",
       "</table>\n",
       "</div>"
      ],
      "text/plain": [
       "                        time    mid_c      DIFF  DIFF_PREV  IS_TRADE  DELTA  \\\n",
       "21 2023-09-06 02:00:00+00:00  108.132 -0.027125   0.016125        -1   -6.0   \n",
       "36 2023-09-06 17:00:00+00:00  108.072  0.008125  -0.009750         1    3.0   \n",
       "50 2023-09-07 07:00:00+00:00  108.102 -0.022625   0.001688        -1  -38.9   \n",
       "71 2023-09-08 04:00:00+00:00  107.713  0.010188  -0.011125         1   10.7   \n",
       "91 2023-09-11 00:00:00+00:00  107.820 -0.024750   0.049375        -1   11.8   \n",
       "\n",
       "    GAIN     PAIR  MASHORT  MALONG  DURATION    CROSS  \n",
       "21   6.0  CAD_JPY        8      16      15.0  MA_8_16  \n",
       "36   3.0  CAD_JPY        8      16      14.0  MA_8_16  \n",
       "50  38.9  CAD_JPY        8      16      21.0  MA_8_16  \n",
       "71  10.7  CAD_JPY        8      16      68.0  MA_8_16  \n",
       "91 -11.8  CAD_JPY        8      16      12.0  MA_8_16  "
      ]
     },
     "execution_count": 28,
     "metadata": {},
     "output_type": "execute_result"
    }
   ],
   "source": [
    "trades_cad_jpy.head()"
   ]
  },
  {
   "cell_type": "code",
   "execution_count": 29,
   "metadata": {},
   "outputs": [],
   "source": [
    "trades_cad_jpy['CUM_GAIN'] = trades_cad_jpy.GAIN.cumsum()"
   ]
  },
  {
   "cell_type": "code",
   "execution_count": 30,
   "metadata": {},
   "outputs": [],
   "source": [
    "def plot_line(df_plot, name):\n",
    "    fig = go.Figure()\n",
    "    fig.add_trace(go.Scatter( \n",
    "        x=df_plot.time,\n",
    "        y=df_plot.CUM_GAIN,\n",
    "        line=dict(width=2,color=\"#3d825f\"),\n",
    "        line_shape='spline',\n",
    "        name=name,\n",
    "        mode='lines'\n",
    "        ))\n",
    "    fig.update_layout(width=1000,height=400,\n",
    "        margin=dict(l=15,r=15,b=10),\n",
    "        font=dict(size=10,color=\"#e1e1e1\"),\n",
    "        paper_bgcolor=\"#1e1e1e\",\n",
    "        plot_bgcolor=\"#1e1e1e\",\n",
    "        title=name)\n",
    "    fig.update_xaxes(\n",
    "        linewidth=1,\n",
    "        linecolor='#3a4a54',\n",
    "        showgrid=False,\n",
    "        zeroline=False\n",
    "    )\n",
    "    fig.update_yaxes(\n",
    "        linewidth=1,\n",
    "        linecolor='#3a4a54',\n",
    "        showgrid=False,\n",
    "        zeroline=False\n",
    "    )\n",
    "    fig.show()\n"
   ]
  },
  {
   "cell_type": "code",
   "execution_count": 31,
   "metadata": {},
   "outputs": [
    {
     "data": {
      "application/vnd.plotly.v1+json": {
       "config": {
        "plotlyServerURL": "https://plot.ly"
       },
       "data": [
        {
         "line": {
          "color": "#3d825f",
          "shape": "spline",
          "width": 2
         },
         "mode": "lines",
         "name": "CAD_JPY",
         "type": "scatter",
         "x": [
          "2023-09-06T02:00:00+00:00",
          "2023-09-06T17:00:00+00:00",
          "2023-09-07T07:00:00+00:00",
          "2023-09-08T04:00:00+00:00",
          "2023-09-11T00:00:00+00:00",
          "2023-09-11T12:00:00+00:00",
          "2023-09-13T23:00:00+00:00",
          "2023-09-14T09:00:00+00:00",
          "2023-09-15T19:00:00+00:00",
          "2023-09-18T10:00:00+00:00",
          "2023-09-19T22:00:00+00:00",
          "2023-09-20T08:00:00+00:00",
          "2023-09-20T21:00:00+00:00",
          "2023-09-22T00:00:00+00:00",
          "2023-09-22T19:00:00+00:00",
          "2023-09-25T05:00:00+00:00",
          "2023-09-25T07:00:00+00:00",
          "2023-09-25T08:00:00+00:00",
          "2023-09-26T07:00:00+00:00",
          "2023-09-27T06:00:00+00:00",
          "2023-09-27T07:00:00+00:00",
          "2023-09-27T08:00:00+00:00",
          "2023-09-27T09:00:00+00:00",
          "2023-09-27T12:00:00+00:00",
          "2023-09-28T06:00:00+00:00",
          "2023-09-29T02:00:00+00:00",
          "2023-09-29T17:00:00+00:00",
          "2023-10-02T05:00:00+00:00",
          "2023-10-02T10:00:00+00:00",
          "2023-10-04T04:00:00+00:00",
          "2023-10-04T11:00:00+00:00",
          "2023-10-05T21:00:00+00:00",
          "2023-10-09T08:00:00+00:00",
          "2023-10-09T18:00:00+00:00",
          "2023-10-10T18:00:00+00:00",
          "2023-10-11T05:00:00+00:00",
          "2023-10-11T11:00:00+00:00",
          "2023-10-11T16:00:00+00:00",
          "2023-10-12T14:00:00+00:00",
          "2023-10-13T07:00:00+00:00",
          "2023-10-13T10:00:00+00:00",
          "2023-10-13T12:00:00+00:00",
          "2023-10-13T13:00:00+00:00",
          "2023-10-13T14:00:00+00:00",
          "2023-10-17T02:00:00+00:00",
          "2023-10-17T20:00:00+00:00",
          "2023-10-18T04:00:00+00:00",
          "2023-10-18T07:00:00+00:00",
          "2023-10-18T14:00:00+00:00",
          "2023-10-19T14:00:00+00:00",
          "2023-10-20T01:00:00+00:00",
          "2023-10-20T05:00:00+00:00",
          "2023-10-20T20:00:00+00:00",
          "2023-10-23T15:00:00+00:00",
          "2023-10-24T00:00:00+00:00",
          "2023-10-24T06:00:00+00:00",
          "2023-10-24T11:00:00+00:00",
          "2023-10-26T02:00:00+00:00",
          "2023-10-26T15:00:00+00:00",
          "2023-10-27T01:00:00+00:00",
          "2023-10-27T02:00:00+00:00",
          "2023-10-27T03:00:00+00:00",
          "2023-10-27T05:00:00+00:00",
          "2023-10-30T03:00:00+00:00",
          "2023-10-30T10:00:00+00:00",
          "2023-10-30T11:00:00+00:00",
          "2023-10-30T18:00:00+00:00",
          "2023-10-31T03:00:00+00:00",
          "2023-11-01T03:00:00+00:00",
          "2023-11-02T12:00:00+00:00",
          "2023-11-03T07:00:00+00:00",
          "2023-11-05T23:00:00+00:00",
          "2023-11-06T18:00:00+00:00",
          "2023-11-08T06:00:00+00:00",
          "2023-11-08T19:00:00+00:00",
          "2023-11-09T00:00:00+00:00",
          "2023-11-10T01:00:00+00:00",
          "2023-11-10T07:00:00+00:00",
          "2023-11-10T14:00:00+00:00",
          "2023-11-10T21:00:00+00:00",
          "2023-11-13T19:00:00+00:00",
          "2023-11-13T20:00:00+00:00",
          "2023-11-14T02:00:00+00:00",
          "2023-11-14T18:00:00+00:00",
          "2023-11-16T04:00:00+00:00",
          "2023-11-17T04:00:00+00:00",
          "2023-11-17T08:00:00+00:00",
          "2023-11-17T21:00:00+00:00",
          "2023-11-20T04:00:00+00:00",
          "2023-11-21T15:00:00+00:00",
          "2023-11-23T05:00:00+00:00",
          "2023-11-23T13:00:00+00:00",
          "2023-11-24T04:00:00+00:00",
          "2023-11-24T12:00:00+00:00",
          "2023-11-27T02:00:00+00:00",
          "2023-11-28T09:00:00+00:00",
          "2023-11-28T17:00:00+00:00",
          "2023-11-29T08:00:00+00:00",
          "2023-11-29T17:00:00+00:00",
          "2023-11-30T10:00:00+00:00",
          "2023-12-01T17:00:00+00:00",
          "2023-12-04T18:00:00+00:00",
          "2023-12-05T04:00:00+00:00",
          "2023-12-05T21:00:00+00:00",
          "2023-12-05T23:00:00+00:00",
          "2023-12-06T01:00:00+00:00",
          "2023-12-06T20:00:00+00:00",
          "2023-12-08T05:00:00+00:00",
          "2023-12-12T00:00:00+00:00",
          "2023-12-13T05:00:00+00:00",
          "2023-12-13T16:00:00+00:00",
          "2023-12-14T14:00:00+00:00",
          "2023-12-15T10:00:00+00:00",
          "2023-12-15T17:00:00+00:00",
          "2023-12-18T23:00:00+00:00",
          "2023-12-19T05:00:00+00:00",
          "2023-12-19T21:00:00+00:00",
          "2023-12-20T17:00:00+00:00",
          "2023-12-21T00:00:00+00:00",
          "2023-12-22T00:00:00+00:00",
          "2023-12-22T11:00:00+00:00",
          "2023-12-22T16:00:00+00:00",
          "2023-12-26T04:00:00+00:00",
          "2023-12-26T09:00:00+00:00",
          "2023-12-27T14:00:00+00:00",
          "2023-12-28T19:00:00+00:00",
          "2023-12-29T08:00:00+00:00",
          "2024-01-02T05:00:00+00:00",
          "2024-01-02T16:00:00+00:00",
          "2024-01-03T05:00:00+00:00",
          "2024-01-03T06:00:00+00:00",
          "2024-01-03T08:00:00+00:00",
          "2024-01-04T02:00:00+00:00",
          "2024-01-04T03:00:00+00:00",
          "2024-01-05T19:00:00+00:00",
          "2024-01-08T23:00:00+00:00",
          "2024-01-09T04:00:00+00:00",
          "2024-01-09T13:00:00+00:00",
          "2024-01-09T17:00:00+00:00",
          "2024-01-09T19:00:00+00:00",
          "2024-01-09T20:00:00+00:00",
          "2024-01-09T21:00:00+00:00",
          "2024-01-11T05:00:00+00:00",
          "2024-01-11T13:00:00+00:00",
          "2024-01-11T16:00:00+00:00",
          "2024-01-12T10:00:00+00:00",
          "2024-01-12T16:00:00+00:00",
          "2024-01-15T04:00:00+00:00",
          "2024-01-15T21:00:00+00:00",
          "2024-01-16T10:00:00+00:00",
          "2024-01-18T05:00:00+00:00",
          "2024-01-18T17:00:00+00:00",
          "2024-01-19T13:00:00+00:00",
          "2024-01-19T18:00:00+00:00",
          "2024-01-22T06:00:00+00:00",
          "2024-01-22T12:00:00+00:00",
          "2024-01-22T16:00:00+00:00",
          "2024-01-23T15:00:00+00:00",
          "2024-01-24T03:00:00+00:00",
          "2024-01-25T04:00:00+00:00",
          "2024-01-29T08:00:00+00:00",
          "2024-01-30T03:00:00+00:00",
          "2024-01-30T07:00:00+00:00",
          "2024-01-30T16:00:00+00:00",
          "2024-01-31T04:00:00+00:00",
          "2024-01-31T12:00:00+00:00",
          "2024-01-31T14:00:00+00:00",
          "2024-02-01T17:00:00+00:00",
          "2024-02-05T06:00:00+00:00",
          "2024-02-06T07:00:00+00:00",
          "2024-02-06T15:00:00+00:00",
          "2024-02-07T05:00:00+00:00",
          "2024-02-09T06:00:00+00:00",
          "2024-02-09T07:00:00+00:00",
          "2024-02-09T19:00:00+00:00",
          "2024-02-12T16:00:00+00:00",
          "2024-02-13T05:00:00+00:00",
          "2024-02-13T06:00:00+00:00",
          "2024-02-13T17:00:00+00:00",
          "2024-02-14T10:00:00+00:00",
          "2024-02-14T20:00:00+00:00",
          "2024-02-15T15:00:00+00:00",
          "2024-02-16T21:00:00+00:00",
          "2024-02-19T15:00:00+00:00",
          "2024-02-19T20:00:00+00:00",
          "2024-02-19T21:00:00+00:00",
          "2024-02-20T02:00:00+00:00",
          "2024-02-20T04:00:00+00:00",
          "2024-02-20T14:00:00+00:00",
          "2024-02-21T04:00:00+00:00",
          "2024-02-21T15:00:00+00:00",
          "2024-02-21T16:00:00+00:00",
          "2024-02-22T19:00:00+00:00",
          "2024-02-22T22:00:00+00:00",
          "2024-02-23T16:00:00+00:00",
          "2024-02-26T11:00:00+00:00",
          "2024-02-27T02:00:00+00:00",
          "2024-02-28T20:00:00+00:00",
          "2024-02-28T23:00:00+00:00",
          "2024-02-29T16:00:00+00:00",
          "2024-03-01T16:00:00+00:00",
          "2024-03-04T06:00:00+00:00",
          "2024-03-05T00:00:00+00:00",
          "2024-03-06T17:00:00+00:00",
          "2024-03-07T02:00:00+00:00",
          "2024-03-07T18:00:00+00:00",
          "2024-03-08T05:00:00+00:00",
          "2024-03-08T08:00:00+00:00",
          "2024-03-08T09:00:00+00:00",
          "2024-03-11T19:00:00+00:00",
          "2024-03-13T00:00:00+00:00",
          "2024-03-13T09:00:00+00:00",
          "2024-03-13T23:00:00+00:00",
          "2024-03-14T06:00:00+00:00",
          "2024-03-14T15:00:00+00:00",
          "2024-03-15T07:00:00+00:00",
          "2024-03-18T03:00:00+00:00",
          "2024-03-18T05:00:00+00:00",
          "2024-03-18T15:00:00+00:00",
          "2024-03-19T00:00:00+00:00",
          "2024-03-21T04:00:00+00:00",
          "2024-03-21T07:00:00+00:00",
          "2024-03-21T18:00:00+00:00",
          "2024-03-21T19:00:00+00:00",
          "2024-03-22T03:00:00+00:00",
          "2024-03-25T08:00:00+00:00",
          "2024-03-26T02:00:00+00:00",
          "2024-03-26T11:00:00+00:00",
          "2024-03-26T23:00:00+00:00",
          "2024-03-27T08:00:00+00:00",
          "2024-03-27T09:00:00+00:00",
          "2024-03-27T20:00:00+00:00",
          "2024-03-28T08:00:00+00:00",
          "2024-03-28T15:00:00+00:00",
          "2024-03-29T05:00:00+00:00",
          "2024-03-29T18:00:00+00:00",
          "2024-04-01T11:00:00+00:00",
          "2024-04-02T02:00:00+00:00",
          "2024-04-02T15:00:00+00:00",
          "2024-04-03T02:00:00+00:00",
          "2024-04-04T19:00:00+00:00",
          "2024-04-05T11:00:00+00:00",
          "2024-04-05T17:00:00+00:00",
          "2024-04-07T21:00:00+00:00",
          "2024-04-09T14:00:00+00:00",
          "2024-04-10T01:00:00+00:00",
          "2024-04-10T15:00:00+00:00",
          "2024-04-11T02:00:00+00:00",
          "2024-04-11T04:00:00+00:00",
          "2024-04-11T07:00:00+00:00",
          "2024-04-11T16:00:00+00:00",
          "2024-04-11T20:00:00+00:00",
          "2024-04-12T04:00:00+00:00",
          "2024-04-15T01:00:00+00:00",
          "2024-04-15T21:00:00+00:00",
          "2024-04-16T08:00:00+00:00",
          "2024-04-16T18:00:00+00:00",
          "2024-04-17T01:00:00+00:00",
          "2024-04-17T08:00:00+00:00",
          "2024-04-17T11:00:00+00:00",
          "2024-04-19T00:00:00+00:00",
          "2024-04-19T10:00:00+00:00",
          "2024-04-23T06:00:00+00:00",
          "2024-04-23T13:00:00+00:00",
          "2024-04-24T09:00:00+00:00",
          "2024-04-24T21:00:00+00:00",
          "2024-04-25T16:00:00+00:00"
         ],
         "y": [
          6.000000000000227,
          9.000000000000341,
          47.90000000000134,
          58.60000000000127,
          46.80000000000035,
          124.59999999999951,
          103.69999999999919,
          142.79999999999973,
          140.39999999999964,
          195.29999999999887,
          170.69999999999794,
          168.59999999999786,
          226.39999999999816,
          279.3999999999983,
          286.59999999999854,
          303.09999999999917,
          300.9999999999991,
          314.0999999999991,
          321.5999999999994,
          319.79999999999933,
          315.59999999999917,
          310.19999999999897,
          290.39999999999964,
          316.80000000000064,
          298.30000000000183,
          228.40000000000202,
          235.6000000000023,
          229.500000000003,
          341.6000000000025,
          322.5000000000023,
          359.3000000000032,
          442.4000000000035,
          433.10000000000315,
          451.4000000000024,
          444.6000000000012,
          432.30000000000075,
          409.60000000000036,
          412.3999999999995,
          427.9999999999987,
          413.99999999999864,
          403.2999999999987,
          402.79999999999774,
          391.0999999999973,
          408.79999999999797,
          406.79999999999836,
          405.79999999999785,
          394.99999999999744,
          347.69999999999754,
          368.1999999999974,
          370.0999999999965,
          362.79999999999575,
          362.5999999999962,
          338.9999999999972,
          323.99999999999807,
          320.2999999999989,
          316.1999999999992,
          360.799999999999,
          346.39999999999844,
          348.1999999999985,
          347.79999999999944,
          344.5999999999998,
          336.399999999999,
          413.89999999999816,
          432.9999999999984,
          418.1999999999988,
          372.09999999999894,
          326.09999999999957,
          398.09999999999945,
          419.1999999999993,
          490.99999999999966,
          499.4,
          511.40000000000043,
          526.8000000000001,
          532.3999999999999,
          535.5999999999995,
          553.0999999999992,
          539.9999999999992,
          519.399999999999,
          487.99999999999824,
          494.59999999999707,
          494.8999999999971,
          495.99999999999807,
          499.5999999999982,
          553.3999999999978,
          641.5999999999983,
          589.1999999999982,
          586.6999999999977,
          560.5999999999981,
          638.7999999999992,
          745.6999999999994,
          741.0999999999988,
          732.7999999999989,
          699.1999999999991,
          693.5999999999995,
          687.6000000000006,
          623.0000000000019,
          637.000000000002,
          623.2000000000015,
          618.1000000000013,
          654.0000000000007,
          658.4000000000003,
          634.8,
          661.9000000000001,
          664.0000000000002,
          642.3999999999994,
          634.4999999999986,
          877.499999999998,
          1022.3999999999978,
          1056.3999999999983,
          1044.4999999999982,
          1188.5999999999985,
          1224.399999999999,
          1188.1999999999994,
          1211.9999999999993,
          1149.9999999999989,
          1226.3999999999985,
          1211.7999999999984,
          1144.5999999999985,
          1176.8999999999978,
          1171.1999999999975,
          1116.5999999999983,
          1099.799999999999,
          1083.099999999999,
          1137.4999999999986,
          1251.1999999999987,
          1247.999999999999,
          1258.7999999999995,
          1239.9999999999993,
          1235.9999999999986,
          1235.1999999999975,
          1198.9999999999966,
          1245.599999999996,
          1244.7999999999965,
          1324.2999999999968,
          1348.499999999996,
          1297.5999999999958,
          1296.7999999999963,
          1328.1999999999957,
          1320.599999999995,
          1315.3999999999942,
          1309.799999999993,
          1409.199999999993,
          1388.099999999993,
          1342.2999999999934,
          1343.1999999999935,
          1287.1999999999932,
          1256.199999999993,
          1273.0999999999926,
          1263.3999999999933,
          1356.399999999994,
          1343.1999999999948,
          1362.199999999996,
          1335.5999999999967,
          1336.3999999999962,
          1346.3999999999955,
          1332.599999999995,
          1314.6999999999948,
          1269.799999999995,
          1306.4999999999955,
          1378.3999999999962,
          1390.9999999999968,
          1380.899999999997,
          1347.1999999999966,
          1333.9999999999961,
          1332.799999999996,
          1286.5999999999958,
          1306.1999999999957,
          1378.6999999999966,
          1399.4999999999964,
          1361.7999999999954,
          1341.199999999995,
          1463.9999999999945,
          1458.8999999999944,
          1453.0999999999951,
          1431.599999999995,
          1428.9999999999939,
          1427.3999999999933,
          1425.1999999999928,
          1411.0999999999922,
          1403.1999999999928,
          1405.9999999999934,
          1429.1999999999935,
          1438.9999999999934,
          1438.6999999999935,
          1437.999999999993,
          1435.299999999993,
          1431.9999999999927,
          1389.5999999999922,
          1374.1999999999925,
          1390.6999999999932,
          1382.199999999994,
          1415.7999999999938,
          1412.3999999999933,
          1382.1999999999925,
          1368.399999999992,
          1358.1999999999916,
          1394.9999999999911,
          1389.7999999999904,
          1437.9999999999905,
          1470.5999999999913,
          1465.1999999999912,
          1456.1999999999907,
          1476.6999999999905,
          1426.1999999999896,
          1427.7999999999888,
          1416.0999999999883,
          1407.4999999999884,
          1355.7999999999888,
          1404.5999999999888,
          1425.599999999988,
          1378.6999999999873,
          1370.599999999987,
          1354.5999999999872,
          1340.5999999999872,
          1334.999999999986,
          1378.3999999999855,
          1374.7999999999854,
          1372.7999999999843,
          1368.599999999984,
          1547.1999999999841,
          1514.9999999999839,
          1494.2999999999831,
          1493.7999999999822,
          1461.7999999999815,
          1501.9999999999816,
          1511.599999999982,
          1496.5999999999813,
          1487.0999999999813,
          1487.0999999999813,
          1465.0999999999813,
          1445.7999999999815,
          1428.4999999999814,
          1375.3999999999821,
          1359.199999999983,
          1350.3999999999837,
          1345.8999999999835,
          1343.699999999983,
          1335.6999999999832,
          1332.7999999999836,
          1322.3999999999837,
          1317.399999999984,
          1311.1999999999841,
          1316.2999999999843,
          1320.699999999984,
          1292.4999999999827,
          1275.1999999999825,
          1272.9999999999834,
          1281.7999999999843,
          1267.3999999999837,
          1256.799999999983,
          1241.7999999999824,
          1222.4999999999827,
          1243.899999999984,
          1271.9999999999845,
          1259.299999999985,
          1259.899999999985,
          1262.2999999999852,
          1260.8999999999855,
          1258.5999999999858,
          1283.2999999999859,
          1282.999999999986,
          1353.6999999999866,
          1330.1999999999866,
          1337.399999999987,
          1332.9999999999873,
          1373.5999999999879,
          1349.5999999999883
         ]
        }
       ],
       "layout": {
        "font": {
         "color": "#e1e1e1",
         "size": 10
        },
        "height": 400,
        "margin": {
         "b": 10,
         "l": 15,
         "r": 15
        },
        "paper_bgcolor": "#1e1e1e",
        "plot_bgcolor": "#1e1e1e",
        "template": {
         "data": {
          "bar": [
           {
            "error_x": {
             "color": "#2a3f5f"
            },
            "error_y": {
             "color": "#2a3f5f"
            },
            "marker": {
             "line": {
              "color": "#E5ECF6",
              "width": 0.5
             },
             "pattern": {
              "fillmode": "overlay",
              "size": 10,
              "solidity": 0.2
             }
            },
            "type": "bar"
           }
          ],
          "barpolar": [
           {
            "marker": {
             "line": {
              "color": "#E5ECF6",
              "width": 0.5
             },
             "pattern": {
              "fillmode": "overlay",
              "size": 10,
              "solidity": 0.2
             }
            },
            "type": "barpolar"
           }
          ],
          "carpet": [
           {
            "aaxis": {
             "endlinecolor": "#2a3f5f",
             "gridcolor": "white",
             "linecolor": "white",
             "minorgridcolor": "white",
             "startlinecolor": "#2a3f5f"
            },
            "baxis": {
             "endlinecolor": "#2a3f5f",
             "gridcolor": "white",
             "linecolor": "white",
             "minorgridcolor": "white",
             "startlinecolor": "#2a3f5f"
            },
            "type": "carpet"
           }
          ],
          "choropleth": [
           {
            "colorbar": {
             "outlinewidth": 0,
             "ticks": ""
            },
            "type": "choropleth"
           }
          ],
          "contour": [
           {
            "colorbar": {
             "outlinewidth": 0,
             "ticks": ""
            },
            "colorscale": [
             [
              0,
              "#0d0887"
             ],
             [
              0.1111111111111111,
              "#46039f"
             ],
             [
              0.2222222222222222,
              "#7201a8"
             ],
             [
              0.3333333333333333,
              "#9c179e"
             ],
             [
              0.4444444444444444,
              "#bd3786"
             ],
             [
              0.5555555555555556,
              "#d8576b"
             ],
             [
              0.6666666666666666,
              "#ed7953"
             ],
             [
              0.7777777777777778,
              "#fb9f3a"
             ],
             [
              0.8888888888888888,
              "#fdca26"
             ],
             [
              1,
              "#f0f921"
             ]
            ],
            "type": "contour"
           }
          ],
          "contourcarpet": [
           {
            "colorbar": {
             "outlinewidth": 0,
             "ticks": ""
            },
            "type": "contourcarpet"
           }
          ],
          "heatmap": [
           {
            "colorbar": {
             "outlinewidth": 0,
             "ticks": ""
            },
            "colorscale": [
             [
              0,
              "#0d0887"
             ],
             [
              0.1111111111111111,
              "#46039f"
             ],
             [
              0.2222222222222222,
              "#7201a8"
             ],
             [
              0.3333333333333333,
              "#9c179e"
             ],
             [
              0.4444444444444444,
              "#bd3786"
             ],
             [
              0.5555555555555556,
              "#d8576b"
             ],
             [
              0.6666666666666666,
              "#ed7953"
             ],
             [
              0.7777777777777778,
              "#fb9f3a"
             ],
             [
              0.8888888888888888,
              "#fdca26"
             ],
             [
              1,
              "#f0f921"
             ]
            ],
            "type": "heatmap"
           }
          ],
          "heatmapgl": [
           {
            "colorbar": {
             "outlinewidth": 0,
             "ticks": ""
            },
            "colorscale": [
             [
              0,
              "#0d0887"
             ],
             [
              0.1111111111111111,
              "#46039f"
             ],
             [
              0.2222222222222222,
              "#7201a8"
             ],
             [
              0.3333333333333333,
              "#9c179e"
             ],
             [
              0.4444444444444444,
              "#bd3786"
             ],
             [
              0.5555555555555556,
              "#d8576b"
             ],
             [
              0.6666666666666666,
              "#ed7953"
             ],
             [
              0.7777777777777778,
              "#fb9f3a"
             ],
             [
              0.8888888888888888,
              "#fdca26"
             ],
             [
              1,
              "#f0f921"
             ]
            ],
            "type": "heatmapgl"
           }
          ],
          "histogram": [
           {
            "marker": {
             "pattern": {
              "fillmode": "overlay",
              "size": 10,
              "solidity": 0.2
             }
            },
            "type": "histogram"
           }
          ],
          "histogram2d": [
           {
            "colorbar": {
             "outlinewidth": 0,
             "ticks": ""
            },
            "colorscale": [
             [
              0,
              "#0d0887"
             ],
             [
              0.1111111111111111,
              "#46039f"
             ],
             [
              0.2222222222222222,
              "#7201a8"
             ],
             [
              0.3333333333333333,
              "#9c179e"
             ],
             [
              0.4444444444444444,
              "#bd3786"
             ],
             [
              0.5555555555555556,
              "#d8576b"
             ],
             [
              0.6666666666666666,
              "#ed7953"
             ],
             [
              0.7777777777777778,
              "#fb9f3a"
             ],
             [
              0.8888888888888888,
              "#fdca26"
             ],
             [
              1,
              "#f0f921"
             ]
            ],
            "type": "histogram2d"
           }
          ],
          "histogram2dcontour": [
           {
            "colorbar": {
             "outlinewidth": 0,
             "ticks": ""
            },
            "colorscale": [
             [
              0,
              "#0d0887"
             ],
             [
              0.1111111111111111,
              "#46039f"
             ],
             [
              0.2222222222222222,
              "#7201a8"
             ],
             [
              0.3333333333333333,
              "#9c179e"
             ],
             [
              0.4444444444444444,
              "#bd3786"
             ],
             [
              0.5555555555555556,
              "#d8576b"
             ],
             [
              0.6666666666666666,
              "#ed7953"
             ],
             [
              0.7777777777777778,
              "#fb9f3a"
             ],
             [
              0.8888888888888888,
              "#fdca26"
             ],
             [
              1,
              "#f0f921"
             ]
            ],
            "type": "histogram2dcontour"
           }
          ],
          "mesh3d": [
           {
            "colorbar": {
             "outlinewidth": 0,
             "ticks": ""
            },
            "type": "mesh3d"
           }
          ],
          "parcoords": [
           {
            "line": {
             "colorbar": {
              "outlinewidth": 0,
              "ticks": ""
             }
            },
            "type": "parcoords"
           }
          ],
          "pie": [
           {
            "automargin": true,
            "type": "pie"
           }
          ],
          "scatter": [
           {
            "fillpattern": {
             "fillmode": "overlay",
             "size": 10,
             "solidity": 0.2
            },
            "type": "scatter"
           }
          ],
          "scatter3d": [
           {
            "line": {
             "colorbar": {
              "outlinewidth": 0,
              "ticks": ""
             }
            },
            "marker": {
             "colorbar": {
              "outlinewidth": 0,
              "ticks": ""
             }
            },
            "type": "scatter3d"
           }
          ],
          "scattercarpet": [
           {
            "marker": {
             "colorbar": {
              "outlinewidth": 0,
              "ticks": ""
             }
            },
            "type": "scattercarpet"
           }
          ],
          "scattergeo": [
           {
            "marker": {
             "colorbar": {
              "outlinewidth": 0,
              "ticks": ""
             }
            },
            "type": "scattergeo"
           }
          ],
          "scattergl": [
           {
            "marker": {
             "colorbar": {
              "outlinewidth": 0,
              "ticks": ""
             }
            },
            "type": "scattergl"
           }
          ],
          "scattermapbox": [
           {
            "marker": {
             "colorbar": {
              "outlinewidth": 0,
              "ticks": ""
             }
            },
            "type": "scattermapbox"
           }
          ],
          "scatterpolar": [
           {
            "marker": {
             "colorbar": {
              "outlinewidth": 0,
              "ticks": ""
             }
            },
            "type": "scatterpolar"
           }
          ],
          "scatterpolargl": [
           {
            "marker": {
             "colorbar": {
              "outlinewidth": 0,
              "ticks": ""
             }
            },
            "type": "scatterpolargl"
           }
          ],
          "scatterternary": [
           {
            "marker": {
             "colorbar": {
              "outlinewidth": 0,
              "ticks": ""
             }
            },
            "type": "scatterternary"
           }
          ],
          "surface": [
           {
            "colorbar": {
             "outlinewidth": 0,
             "ticks": ""
            },
            "colorscale": [
             [
              0,
              "#0d0887"
             ],
             [
              0.1111111111111111,
              "#46039f"
             ],
             [
              0.2222222222222222,
              "#7201a8"
             ],
             [
              0.3333333333333333,
              "#9c179e"
             ],
             [
              0.4444444444444444,
              "#bd3786"
             ],
             [
              0.5555555555555556,
              "#d8576b"
             ],
             [
              0.6666666666666666,
              "#ed7953"
             ],
             [
              0.7777777777777778,
              "#fb9f3a"
             ],
             [
              0.8888888888888888,
              "#fdca26"
             ],
             [
              1,
              "#f0f921"
             ]
            ],
            "type": "surface"
           }
          ],
          "table": [
           {
            "cells": {
             "fill": {
              "color": "#EBF0F8"
             },
             "line": {
              "color": "white"
             }
            },
            "header": {
             "fill": {
              "color": "#C8D4E3"
             },
             "line": {
              "color": "white"
             }
            },
            "type": "table"
           }
          ]
         },
         "layout": {
          "annotationdefaults": {
           "arrowcolor": "#2a3f5f",
           "arrowhead": 0,
           "arrowwidth": 1
          },
          "autotypenumbers": "strict",
          "coloraxis": {
           "colorbar": {
            "outlinewidth": 0,
            "ticks": ""
           }
          },
          "colorscale": {
           "diverging": [
            [
             0,
             "#8e0152"
            ],
            [
             0.1,
             "#c51b7d"
            ],
            [
             0.2,
             "#de77ae"
            ],
            [
             0.3,
             "#f1b6da"
            ],
            [
             0.4,
             "#fde0ef"
            ],
            [
             0.5,
             "#f7f7f7"
            ],
            [
             0.6,
             "#e6f5d0"
            ],
            [
             0.7,
             "#b8e186"
            ],
            [
             0.8,
             "#7fbc41"
            ],
            [
             0.9,
             "#4d9221"
            ],
            [
             1,
             "#276419"
            ]
           ],
           "sequential": [
            [
             0,
             "#0d0887"
            ],
            [
             0.1111111111111111,
             "#46039f"
            ],
            [
             0.2222222222222222,
             "#7201a8"
            ],
            [
             0.3333333333333333,
             "#9c179e"
            ],
            [
             0.4444444444444444,
             "#bd3786"
            ],
            [
             0.5555555555555556,
             "#d8576b"
            ],
            [
             0.6666666666666666,
             "#ed7953"
            ],
            [
             0.7777777777777778,
             "#fb9f3a"
            ],
            [
             0.8888888888888888,
             "#fdca26"
            ],
            [
             1,
             "#f0f921"
            ]
           ],
           "sequentialminus": [
            [
             0,
             "#0d0887"
            ],
            [
             0.1111111111111111,
             "#46039f"
            ],
            [
             0.2222222222222222,
             "#7201a8"
            ],
            [
             0.3333333333333333,
             "#9c179e"
            ],
            [
             0.4444444444444444,
             "#bd3786"
            ],
            [
             0.5555555555555556,
             "#d8576b"
            ],
            [
             0.6666666666666666,
             "#ed7953"
            ],
            [
             0.7777777777777778,
             "#fb9f3a"
            ],
            [
             0.8888888888888888,
             "#fdca26"
            ],
            [
             1,
             "#f0f921"
            ]
           ]
          },
          "colorway": [
           "#636efa",
           "#EF553B",
           "#00cc96",
           "#ab63fa",
           "#FFA15A",
           "#19d3f3",
           "#FF6692",
           "#B6E880",
           "#FF97FF",
           "#FECB52"
          ],
          "font": {
           "color": "#2a3f5f"
          },
          "geo": {
           "bgcolor": "white",
           "lakecolor": "white",
           "landcolor": "#E5ECF6",
           "showlakes": true,
           "showland": true,
           "subunitcolor": "white"
          },
          "hoverlabel": {
           "align": "left"
          },
          "hovermode": "closest",
          "mapbox": {
           "style": "light"
          },
          "paper_bgcolor": "white",
          "plot_bgcolor": "#E5ECF6",
          "polar": {
           "angularaxis": {
            "gridcolor": "white",
            "linecolor": "white",
            "ticks": ""
           },
           "bgcolor": "#E5ECF6",
           "radialaxis": {
            "gridcolor": "white",
            "linecolor": "white",
            "ticks": ""
           }
          },
          "scene": {
           "xaxis": {
            "backgroundcolor": "#E5ECF6",
            "gridcolor": "white",
            "gridwidth": 2,
            "linecolor": "white",
            "showbackground": true,
            "ticks": "",
            "zerolinecolor": "white"
           },
           "yaxis": {
            "backgroundcolor": "#E5ECF6",
            "gridcolor": "white",
            "gridwidth": 2,
            "linecolor": "white",
            "showbackground": true,
            "ticks": "",
            "zerolinecolor": "white"
           },
           "zaxis": {
            "backgroundcolor": "#E5ECF6",
            "gridcolor": "white",
            "gridwidth": 2,
            "linecolor": "white",
            "showbackground": true,
            "ticks": "",
            "zerolinecolor": "white"
           }
          },
          "shapedefaults": {
           "line": {
            "color": "#2a3f5f"
           }
          },
          "ternary": {
           "aaxis": {
            "gridcolor": "white",
            "linecolor": "white",
            "ticks": ""
           },
           "baxis": {
            "gridcolor": "white",
            "linecolor": "white",
            "ticks": ""
           },
           "bgcolor": "#E5ECF6",
           "caxis": {
            "gridcolor": "white",
            "linecolor": "white",
            "ticks": ""
           }
          },
          "title": {
           "x": 0.05
          },
          "xaxis": {
           "automargin": true,
           "gridcolor": "white",
           "linecolor": "white",
           "ticks": "",
           "title": {
            "standoff": 15
           },
           "zerolinecolor": "white",
           "zerolinewidth": 2
          },
          "yaxis": {
           "automargin": true,
           "gridcolor": "white",
           "linecolor": "white",
           "ticks": "",
           "title": {
            "standoff": 15
           },
           "zerolinecolor": "white",
           "zerolinewidth": 2
          }
         }
        },
        "title": {
         "text": "CAD_JPY"
        },
        "width": 1000,
        "xaxis": {
         "linecolor": "#3a4a54",
         "linewidth": 1,
         "showgrid": false,
         "zeroline": false
        },
        "yaxis": {
         "linecolor": "#3a4a54",
         "linewidth": 1,
         "showgrid": false,
         "zeroline": false
        }
       }
      }
     },
     "metadata": {},
     "output_type": "display_data"
    }
   ],
   "source": [
    "plot_line(trades_cad_jpy, \"CAD_JPY\")"
   ]
  },
  {
   "cell_type": "code",
   "execution_count": 32,
   "metadata": {},
   "outputs": [
    {
     "data": {
      "application/vnd.plotly.v1+json": {
       "config": {
        "plotlyServerURL": "https://plot.ly"
       },
       "data": [
        {
         "line": {
          "color": "#3d825f",
          "shape": "spline",
          "width": 2
         },
         "mode": "lines",
         "name": "GBP_CAD_MA_8_16",
         "type": "scatter",
         "x": [
          "2023-09-05T23:00:00+00:00",
          "2023-09-06T12:00:00+00:00",
          "2023-09-07T17:00:00+00:00",
          "2023-09-08T10:00:00+00:00",
          "2023-09-11T02:00:00+00:00",
          "2023-09-11T12:00:00+00:00",
          "2023-09-12T23:00:00+00:00",
          "2023-09-13T07:00:00+00:00",
          "2023-09-13T17:00:00+00:00",
          "2023-09-14T02:00:00+00:00",
          "2023-09-15T04:00:00+00:00",
          "2023-09-15T15:00:00+00:00",
          "2023-09-18T04:00:00+00:00",
          "2023-09-18T07:00:00+00:00",
          "2023-09-19T21:00:00+00:00",
          "2023-09-20T07:00:00+00:00",
          "2023-09-20T21:00:00+00:00",
          "2023-09-21T00:00:00+00:00",
          "2023-09-22T20:00:00+00:00",
          "2023-09-25T04:00:00+00:00",
          "2023-09-25T05:00:00+00:00",
          "2023-09-25T08:00:00+00:00",
          "2023-09-26T09:00:00+00:00",
          "2023-09-26T20:00:00+00:00",
          "2023-09-27T10:00:00+00:00",
          "2023-09-27T15:00:00+00:00",
          "2023-09-28T09:00:00+00:00",
          "2023-09-29T11:00:00+00:00",
          "2023-09-29T15:00:00+00:00",
          "2023-10-02T16:00:00+00:00",
          "2023-10-02T19:00:00+00:00",
          "2023-10-02T20:00:00+00:00",
          "2023-10-03T07:00:00+00:00",
          "2023-10-04T00:00:00+00:00",
          "2023-10-04T09:00:00+00:00",
          "2023-10-05T03:00:00+00:00",
          "2023-10-05T10:00:00+00:00",
          "2023-10-06T02:00:00+00:00",
          "2023-10-06T09:00:00+00:00",
          "2023-10-06T18:00:00+00:00",
          "2023-10-06T20:00:00+00:00",
          "2023-10-09T00:00:00+00:00",
          "2023-10-10T02:00:00+00:00",
          "2023-10-10T03:00:00+00:00",
          "2023-10-10T09:00:00+00:00",
          "2023-10-12T03:00:00+00:00",
          "2023-10-12T05:00:00+00:00",
          "2023-10-12T07:00:00+00:00",
          "2023-10-13T03:00:00+00:00",
          "2023-10-13T12:00:00+00:00",
          "2023-10-16T05:00:00+00:00",
          "2023-10-16T13:00:00+00:00",
          "2023-10-16T17:00:00+00:00",
          "2023-10-17T06:00:00+00:00",
          "2023-10-17T17:00:00+00:00",
          "2023-10-18T03:00:00+00:00",
          "2023-10-18T11:00:00+00:00",
          "2023-10-19T08:00:00+00:00",
          "2023-10-19T16:00:00+00:00",
          "2023-10-20T01:00:00+00:00",
          "2023-10-20T17:00:00+00:00",
          "2023-10-24T11:00:00+00:00",
          "2023-10-25T03:00:00+00:00",
          "2023-10-25T11:00:00+00:00",
          "2023-10-25T19:00:00+00:00",
          "2023-10-26T00:00:00+00:00",
          "2023-10-26T13:00:00+00:00",
          "2023-10-27T06:00:00+00:00",
          "2023-10-27T14:00:00+00:00",
          "2023-10-30T02:00:00+00:00",
          "2023-10-30T15:00:00+00:00",
          "2023-10-31T06:00:00+00:00",
          "2023-10-31T10:00:00+00:00",
          "2023-11-01T07:00:00+00:00",
          "2023-11-01T09:00:00+00:00",
          "2023-11-01T10:00:00+00:00",
          "2023-11-01T23:00:00+00:00",
          "2023-11-02T09:00:00+00:00",
          "2023-11-03T10:00:00+00:00",
          "2023-11-06T04:00:00+00:00",
          "2023-11-06T10:00:00+00:00",
          "2023-11-06T21:00:00+00:00",
          "2023-11-07T07:00:00+00:00",
          "2023-11-07T15:00:00+00:00",
          "2023-11-07T20:00:00+00:00",
          "2023-11-08T05:00:00+00:00",
          "2023-11-08T16:00:00+00:00",
          "2023-11-09T03:00:00+00:00",
          "2023-11-10T12:00:00+00:00",
          "2023-11-10T21:00:00+00:00",
          "2023-11-13T02:00:00+00:00",
          "2023-11-15T04:00:00+00:00",
          "2023-11-16T13:00:00+00:00",
          "2023-11-17T03:00:00+00:00",
          "2023-11-17T16:00:00+00:00",
          "2023-11-21T16:00:00+00:00",
          "2023-11-22T02:00:00+00:00",
          "2023-11-22T10:00:00+00:00",
          "2023-11-22T13:00:00+00:00",
          "2023-11-22T14:00:00+00:00",
          "2023-11-23T09:00:00+00:00",
          "2023-11-23T23:00:00+00:00",
          "2023-11-24T04:00:00+00:00",
          "2023-11-24T16:00:00+00:00",
          "2023-11-27T00:00:00+00:00",
          "2023-11-27T18:00:00+00:00",
          "2023-11-28T16:00:00+00:00",
          "2023-11-29T06:00:00+00:00",
          "2023-11-29T14:00:00+00:00",
          "2023-11-30T03:00:00+00:00",
          "2023-12-01T21:00:00+00:00",
          "2023-12-04T06:00:00+00:00",
          "2023-12-04T10:00:00+00:00",
          "2023-12-04T16:00:00+00:00",
          "2023-12-05T03:00:00+00:00",
          "2023-12-05T17:00:00+00:00",
          "2023-12-06T04:00:00+00:00",
          "2023-12-06T10:00:00+00:00",
          "2023-12-07T07:00:00+00:00",
          "2023-12-08T04:00:00+00:00",
          "2023-12-11T03:00:00+00:00",
          "2023-12-11T18:00:00+00:00",
          "2023-12-12T03:00:00+00:00",
          "2023-12-12T09:00:00+00:00",
          "2023-12-12T15:00:00+00:00",
          "2023-12-13T04:00:00+00:00",
          "2023-12-13T22:00:00+00:00",
          "2023-12-14T07:00:00+00:00",
          "2023-12-14T13:00:00+00:00",
          "2023-12-15T03:00:00+00:00",
          "2023-12-18T06:00:00+00:00",
          "2023-12-18T11:00:00+00:00",
          "2023-12-18T23:00:00+00:00",
          "2023-12-19T20:00:00+00:00",
          "2023-12-21T01:00:00+00:00",
          "2023-12-21T08:00:00+00:00",
          "2023-12-21T16:00:00+00:00",
          "2023-12-21T18:00:00+00:00",
          "2023-12-22T06:00:00+00:00",
          "2023-12-22T19:00:00+00:00",
          "2023-12-27T02:00:00+00:00",
          "2023-12-27T08:00:00+00:00",
          "2023-12-27T12:00:00+00:00",
          "2023-12-28T12:00:00+00:00",
          "2023-12-29T03:00:00+00:00",
          "2023-12-29T15:00:00+00:00",
          "2024-01-01T23:00:00+00:00",
          "2024-01-02T06:00:00+00:00",
          "2024-01-03T00:00:00+00:00",
          "2024-01-04T07:00:00+00:00",
          "2024-01-04T10:00:00+00:00",
          "2024-01-05T09:00:00+00:00",
          "2024-01-05T16:00:00+00:00",
          "2024-01-08T06:00:00+00:00",
          "2024-01-08T11:00:00+00:00",
          "2024-01-09T01:00:00+00:00",
          "2024-01-09T19:00:00+00:00",
          "2024-01-10T01:00:00+00:00",
          "2024-01-10T13:00:00+00:00",
          "2024-01-11T12:00:00+00:00",
          "2024-01-11T17:00:00+00:00",
          "2024-01-12T07:00:00+00:00",
          "2024-01-12T19:00:00+00:00",
          "2024-01-15T05:00:00+00:00",
          "2024-01-15T09:00:00+00:00",
          "2024-01-16T01:00:00+00:00",
          "2024-01-17T01:00:00+00:00",
          "2024-01-17T04:00:00+00:00",
          "2024-01-17T07:00:00+00:00",
          "2024-01-18T01:00:00+00:00",
          "2024-01-18T12:00:00+00:00",
          "2024-01-18T13:00:00+00:00",
          "2024-01-18T18:00:00+00:00",
          "2024-01-19T07:00:00+00:00",
          "2024-01-22T05:00:00+00:00",
          "2024-01-22T12:00:00+00:00",
          "2024-01-22T16:00:00+00:00",
          "2024-01-23T14:00:00+00:00",
          "2024-01-24T04:00:00+00:00",
          "2024-01-25T05:00:00+00:00",
          "2024-01-25T11:00:00+00:00",
          "2024-01-25T15:00:00+00:00",
          "2024-01-26T15:00:00+00:00",
          "2024-01-26T19:00:00+00:00",
          "2024-01-30T22:00:00+00:00",
          "2024-01-31T06:00:00+00:00",
          "2024-01-31T11:00:00+00:00",
          "2024-02-01T07:00:00+00:00",
          "2024-02-01T19:00:00+00:00",
          "2024-02-02T08:00:00+00:00",
          "2024-02-02T11:00:00+00:00",
          "2024-02-02T15:00:00+00:00",
          "2024-02-06T00:00:00+00:00",
          "2024-02-06T07:00:00+00:00",
          "2024-02-06T12:00:00+00:00",
          "2024-02-07T00:00:00+00:00",
          "2024-02-07T03:00:00+00:00",
          "2024-02-07T19:00:00+00:00",
          "2024-02-09T02:00:00+00:00",
          "2024-02-09T11:00:00+00:00",
          "2024-02-09T18:00:00+00:00",
          "2024-02-12T05:00:00+00:00",
          "2024-02-13T00:00:00+00:00",
          "2024-02-13T06:00:00+00:00",
          "2024-02-13T08:00:00+00:00",
          "2024-02-14T05:00:00+00:00",
          "2024-02-14T21:00:00+00:00",
          "2024-02-15T07:00:00+00:00",
          "2024-02-16T10:00:00+00:00",
          "2024-02-16T14:00:00+00:00",
          "2024-02-16T16:00:00+00:00",
          "2024-02-19T13:00:00+00:00",
          "2024-02-20T00:00:00+00:00",
          "2024-02-21T03:00:00+00:00",
          "2024-02-22T02:00:00+00:00",
          "2024-02-22T04:00:00+00:00",
          "2024-02-22T12:00:00+00:00",
          "2024-02-26T06:00:00+00:00",
          "2024-02-26T07:00:00+00:00",
          "2024-02-26T20:00:00+00:00",
          "2024-02-27T16:00:00+00:00",
          "2024-02-28T06:00:00+00:00",
          "2024-02-28T11:00:00+00:00",
          "2024-02-29T13:00:00+00:00",
          "2024-03-01T07:00:00+00:00",
          "2024-03-06T04:00:00+00:00",
          "2024-03-06T09:00:00+00:00",
          "2024-03-06T16:00:00+00:00",
          "2024-03-07T11:00:00+00:00",
          "2024-03-08T05:00:00+00:00",
          "2024-03-08T12:00:00+00:00",
          "2024-03-11T05:00:00+00:00",
          "2024-03-12T05:00:00+00:00",
          "2024-03-12T07:00:00+00:00",
          "2024-03-12T19:00:00+00:00",
          "2024-03-13T08:00:00+00:00",
          "2024-03-14T04:00:00+00:00",
          "2024-03-14T05:00:00+00:00",
          "2024-03-14T08:00:00+00:00",
          "2024-03-14T17:00:00+00:00",
          "2024-03-14T21:00:00+00:00",
          "2024-03-15T05:00:00+00:00",
          "2024-03-15T11:00:00+00:00",
          "2024-03-15T16:00:00+00:00",
          "2024-03-17T23:00:00+00:00",
          "2024-03-18T03:00:00+00:00",
          "2024-03-18T12:00:00+00:00",
          "2024-03-18T19:00:00+00:00",
          "2024-03-19T06:00:00+00:00",
          "2024-03-19T10:00:00+00:00",
          "2024-03-19T12:00:00+00:00",
          "2024-03-20T02:00:00+00:00",
          "2024-03-20T05:00:00+00:00",
          "2024-03-20T13:00:00+00:00",
          "2024-03-22T05:00:00+00:00",
          "2024-03-22T09:00:00+00:00",
          "2024-03-22T18:00:00+00:00",
          "2024-03-26T01:00:00+00:00",
          "2024-03-26T05:00:00+00:00",
          "2024-03-26T13:00:00+00:00",
          "2024-03-27T01:00:00+00:00",
          "2024-03-27T17:00:00+00:00",
          "2024-03-28T07:00:00+00:00",
          "2024-03-28T14:00:00+00:00",
          "2024-03-29T06:00:00+00:00",
          "2024-03-31T21:00:00+00:00",
          "2024-04-02T09:00:00+00:00",
          "2024-04-03T04:00:00+00:00",
          "2024-04-03T06:00:00+00:00",
          "2024-04-03T14:00:00+00:00",
          "2024-04-03T16:00:00+00:00",
          "2024-04-04T05:00:00+00:00",
          "2024-04-04T19:00:00+00:00",
          "2024-04-08T11:00:00+00:00",
          "2024-04-08T17:00:00+00:00",
          "2024-04-09T04:00:00+00:00",
          "2024-04-09T05:00:00+00:00",
          "2024-04-09T22:00:00+00:00",
          "2024-04-10T09:00:00+00:00",
          "2024-04-10T15:00:00+00:00",
          "2024-04-11T06:00:00+00:00",
          "2024-04-12T09:00:00+00:00",
          "2024-04-14T23:00:00+00:00",
          "2024-04-15T06:00:00+00:00",
          "2024-04-15T09:00:00+00:00",
          "2024-04-15T17:00:00+00:00",
          "2024-04-15T21:00:00+00:00",
          "2024-04-16T08:00:00+00:00",
          "2024-04-16T10:00:00+00:00",
          "2024-04-16T22:00:00+00:00",
          "2024-04-17T06:00:00+00:00",
          "2024-04-17T16:00:00+00:00",
          "2024-04-18T08:00:00+00:00",
          "2024-04-18T14:00:00+00:00",
          "2024-04-19T11:00:00+00:00",
          "2024-04-19T15:00:00+00:00",
          "2024-04-23T00:00:00+00:00",
          "2024-04-23T03:00:00+00:00",
          "2024-04-23T08:00:00+00:00",
          "2024-04-24T09:00:00+00:00",
          "2024-04-24T12:00:00+00:00",
          "2024-04-25T20:00:00+00:00",
          "2024-04-26T12:00:00+00:00"
         ],
         "y": [
          -5.60000000000116,
          70.39999999999935,
          60.7000000000002,
          87.39999999999971,
          63.400000000000134,
          136.40000000000097,
          117.20000000000175,
          87.00000000000375,
          63.00000000000418,
          205.80000000000265,
          165.00000000000182,
          149.20000000000266,
          123.2000000000033,
          181.20000000000357,
          141.20000000000354,
          152.60000000000272,
          141.40000000000262,
          239.8000000000033,
          239.60000000000423,
          237.40000000000535,
          209.6000000000053,
          246.3000000000037,
          237.00000000000273,
          235.00000000000296,
          193.40000000000356,
          136.20000000000408,
          145.10000000000466,
          71.60000000000498,
          101.20000000000572,
          130.3000000000054,
          127.20000000000509,
          94.2000000000065,
          85.6000000000079,
          29.600000000009622,
          93.9000000000112,
          56.50000000001266,
          46.40000000001311,
          13.000000000011902,
          1.0000000000110028,
          2.8000000000116927,
          -45.39999999998655,
          7.000000000014786,
          4.000000000015117,
          -50.299999999985346,
          17.400000000014074,
          12.50000000001306,
          -21.999999999988688,
          -9.99999999999001,
          -56.39999999998978,
          -11.399999999988076,
          -52.59999999998709,
          -113.79999999998611,
          -162.59999999998607,
          -205.9999999999862,
          -224.799999999985,
          -261.9999999999845,
          -271.09999999998416,
          -308.699999999984,
          -335.4999999999842,
          -355.2999999999851,
          -283.0999999999851,
          -276.8999999999844,
          -325.39999999998463,
          -353.99999999998545,
          -365.0999999999871,
          -428.09999999998905,
          -437.0999999999903,
          -512.7999999999911,
          -557.0999999999926,
          -584.0999999999941,
          -585.3999999999937,
          -639.5999999999935,
          -636.7999999999952,
          -631.5999999999966,
          -642.9999999999981,
          -647.7999999999985,
          -674.5999999999987,
          -643.5999999999999,
          -545.8000000000009,
          -593.0000000000015,
          -621.400000000001,
          -628.4000000000002,
          -635.999999999999,
          -647.4999999999989,
          -656.0999999999997,
          -714.5999999999988,
          -746.5999999999975,
          -685.5999999999976,
          -692.2999999999971,
          -716.4999999999958,
          -516.5999999999963,
          -479.6999999999966,
          -479.1999999999955,
          -497.79999999999524,
          -410.2999999999949,
          -427.09999999999394,
          -438.79999999999285,
          -452.9999999999926,
          -474.7999999999933,
          -495.99999999999454,
          -515.3999999999951,
          -530.9999999999951,
          -563.5999999999955,
          -591.999999999995,
          -571.3999999999955,
          -615.3999999999974,
          -634.5999999999988,
          -664.1999999999995,
          -672.8999999999987,
          -584.6999999999982,
          -595.1999999999982,
          -607.5999999999973,
          -664.3999999999963,
          -694.4999999999959,
          -731.1999999999965,
          -750.8999999999968,
          -751.799999999996,
          -732.6999999999952,
          -734.7999999999956,
          -699.7999999999972,
          -716.1999999999981,
          -724.3999999999985,
          -724.7999999999989,
          -761.4999999999995,
          -785.8000000000011,
          -783.6000000000022,
          -835.7000000000015,
          -922.6000000000001,
          -921.0000000000008,
          -798.8000000000018,
          -860.8000000000015,
          -903.4000000000009,
          -886.5999999999997,
          -797.2999999999986,
          -837.8999999999982,
          -838.6999999999989,
          -818.7999999999995,
          -811.1999999999986,
          -819.399999999999,
          -768.9999999999997,
          -788.8999999999991,
          -841.7999999999993,
          -786.499999999999,
          -751.9999999999973,
          -790.9999999999974,
          -839.9999999999986,
          -823.3999999999987,
          -776.999999999999,
          -698.2000000000002,
          -721.4000000000011,
          -721.8000000000015,
          -775.9000000000007,
          -763.7999999999992,
          -769.399999999998,
          -736.9999999999967,
          -715.199999999996,
          -716.9999999999966,
          -737.7999999999975,
          -720.599999999998,
          -750.4999999999984,
          -764.999999999998,
          -789.3999999999979,
          -789.1999999999988,
          -773.3999999999996,
          -764.5999999999997,
          -727.5999999999993,
          -733.5000000000002,
          -804.4000000000007,
          -794.8,
          -790.5000000000007,
          -800.2000000000021,
          -840.1000000000015,
          -874.6999999999995,
          -857.1999999999981,
          -866.7999999999988,
          -907.499999999999,
          -933.9999999999972,
          -948.5999999999973,
          -872.099999999998,
          -882.0999999999968,
          -933.9999999999972,
          -895.5999999999988,
          -918.3999999999994,
          -853.4999999999983,
          -871.7999999999982,
          -904.3999999999986,
          -907.5999999999974,
          -939.5999999999962,
          -952.8999999999945,
          -969.3999999999938,
          -1009.9999999999934,
          -959.1999999999937,
          -965.7999999999947,
          -994.1999999999942,
          -996.8999999999942,
          -994.5999999999947,
          -980.7999999999953,
          -962.9999999999964,
          -988.699999999996,
          -1032.9999999999952,
          -1038.4999999999957,
          -1019.7999999999953,
          -1029.5999999999951,
          -1070.0999999999963,
          -995.999999999997,
          -927.6999999999981,
          -955.3999999999997,
          -936.6000000000009,
          -952.4000000000023,
          -970.2000000000035,
          -960.1000000000039,
          -969.3000000000042,
          -892.1000000000047,
          -864.6000000000043,
          -863.9000000000042,
          -891.2000000000054,
          -847.6000000000062,
          -868.8000000000073,
          -872.100000000009,
          -903.2000000000107,
          -912.5000000000117,
          -937.8000000000109,
          -954.6000000000099,
          -945.0000000000092,
          -842.5000000000083,
          -876.5000000000068,
          -932.0000000000063,
          -916.2000000000071,
          -911.4000000000067,
          -956.8000000000065,
          -903.7000000000073,
          -858.6000000000072,
          -903.0000000000072,
          -932.5000000000073,
          -939.3000000000075,
          -921.4000000000078,
          -921.0000000000074,
          -936.4000000000061,
          -943.4000000000053,
          -957.5000000000044,
          -975.2000000000027,
          -988.0000000000022,
          -1000.1000000000015,
          -1003.0000000000006,
          -1017.4000000000017,
          -1021.4000000000035,
          -1028.4000000000049,
          -1044.6000000000067,
          -1080.1000000000083,
          -1150.200000000008,
          -1168.200000000006,
          -1182.600000000005,
          -1201.6000000000051,
          -1084.7000000000053,
          -1137.8000000000045,
          -1188.3000000000045,
          -1160.400000000006,
          -1172.3000000000063,
          -1199.3000000000056,
          -1199.8000000000045,
          -1195.1000000000026,
          -1189.4000000000008,
          -1215.899999999999,
          -1200.1999999999982,
          -1200.0999999999976,
          -1137.999999999997,
          -1116.6999999999973,
          -1117.5999999999965,
          -1126.999999999996,
          -1178.9999999999968,
          -1191.1999999999969,
          -1220.9999999999966,
          -1191.099999999996,
          -1220.9999999999943,
          -1223.2999999999938,
          -1223.0999999999947,
          -1203.5999999999958,
          -1222.599999999996,
          -1274.3999999999958,
          -1264.599999999996,
          -1263.599999999996,
          -1244.4999999999952,
          -1236.5999999999945,
          -1240.599999999994,
          -1252.9999999999932,
          -1273.3999999999935,
          -1277.2999999999947,
          -1289.899999999995,
          -1281.3999999999949,
          -1323.099999999995,
          -1387.1999999999953,
          -1385.5999999999958,
          -1425.7999999999972,
          -1431.3999999999983,
          -1515.5999999999992,
          -1394.9999999999995,
          -1389.0000000000002,
          -1423.000000000001,
          -1377.0000000000016,
          -1434.000000000002,
          -1405.4000000000012,
          -1392,
          -1392.8999999999992
         ]
        }
       ],
       "layout": {
        "font": {
         "color": "#e1e1e1",
         "size": 10
        },
        "height": 400,
        "margin": {
         "b": 10,
         "l": 15,
         "r": 15
        },
        "paper_bgcolor": "#1e1e1e",
        "plot_bgcolor": "#1e1e1e",
        "template": {
         "data": {
          "bar": [
           {
            "error_x": {
             "color": "#2a3f5f"
            },
            "error_y": {
             "color": "#2a3f5f"
            },
            "marker": {
             "line": {
              "color": "#E5ECF6",
              "width": 0.5
             },
             "pattern": {
              "fillmode": "overlay",
              "size": 10,
              "solidity": 0.2
             }
            },
            "type": "bar"
           }
          ],
          "barpolar": [
           {
            "marker": {
             "line": {
              "color": "#E5ECF6",
              "width": 0.5
             },
             "pattern": {
              "fillmode": "overlay",
              "size": 10,
              "solidity": 0.2
             }
            },
            "type": "barpolar"
           }
          ],
          "carpet": [
           {
            "aaxis": {
             "endlinecolor": "#2a3f5f",
             "gridcolor": "white",
             "linecolor": "white",
             "minorgridcolor": "white",
             "startlinecolor": "#2a3f5f"
            },
            "baxis": {
             "endlinecolor": "#2a3f5f",
             "gridcolor": "white",
             "linecolor": "white",
             "minorgridcolor": "white",
             "startlinecolor": "#2a3f5f"
            },
            "type": "carpet"
           }
          ],
          "choropleth": [
           {
            "colorbar": {
             "outlinewidth": 0,
             "ticks": ""
            },
            "type": "choropleth"
           }
          ],
          "contour": [
           {
            "colorbar": {
             "outlinewidth": 0,
             "ticks": ""
            },
            "colorscale": [
             [
              0,
              "#0d0887"
             ],
             [
              0.1111111111111111,
              "#46039f"
             ],
             [
              0.2222222222222222,
              "#7201a8"
             ],
             [
              0.3333333333333333,
              "#9c179e"
             ],
             [
              0.4444444444444444,
              "#bd3786"
             ],
             [
              0.5555555555555556,
              "#d8576b"
             ],
             [
              0.6666666666666666,
              "#ed7953"
             ],
             [
              0.7777777777777778,
              "#fb9f3a"
             ],
             [
              0.8888888888888888,
              "#fdca26"
             ],
             [
              1,
              "#f0f921"
             ]
            ],
            "type": "contour"
           }
          ],
          "contourcarpet": [
           {
            "colorbar": {
             "outlinewidth": 0,
             "ticks": ""
            },
            "type": "contourcarpet"
           }
          ],
          "heatmap": [
           {
            "colorbar": {
             "outlinewidth": 0,
             "ticks": ""
            },
            "colorscale": [
             [
              0,
              "#0d0887"
             ],
             [
              0.1111111111111111,
              "#46039f"
             ],
             [
              0.2222222222222222,
              "#7201a8"
             ],
             [
              0.3333333333333333,
              "#9c179e"
             ],
             [
              0.4444444444444444,
              "#bd3786"
             ],
             [
              0.5555555555555556,
              "#d8576b"
             ],
             [
              0.6666666666666666,
              "#ed7953"
             ],
             [
              0.7777777777777778,
              "#fb9f3a"
             ],
             [
              0.8888888888888888,
              "#fdca26"
             ],
             [
              1,
              "#f0f921"
             ]
            ],
            "type": "heatmap"
           }
          ],
          "heatmapgl": [
           {
            "colorbar": {
             "outlinewidth": 0,
             "ticks": ""
            },
            "colorscale": [
             [
              0,
              "#0d0887"
             ],
             [
              0.1111111111111111,
              "#46039f"
             ],
             [
              0.2222222222222222,
              "#7201a8"
             ],
             [
              0.3333333333333333,
              "#9c179e"
             ],
             [
              0.4444444444444444,
              "#bd3786"
             ],
             [
              0.5555555555555556,
              "#d8576b"
             ],
             [
              0.6666666666666666,
              "#ed7953"
             ],
             [
              0.7777777777777778,
              "#fb9f3a"
             ],
             [
              0.8888888888888888,
              "#fdca26"
             ],
             [
              1,
              "#f0f921"
             ]
            ],
            "type": "heatmapgl"
           }
          ],
          "histogram": [
           {
            "marker": {
             "pattern": {
              "fillmode": "overlay",
              "size": 10,
              "solidity": 0.2
             }
            },
            "type": "histogram"
           }
          ],
          "histogram2d": [
           {
            "colorbar": {
             "outlinewidth": 0,
             "ticks": ""
            },
            "colorscale": [
             [
              0,
              "#0d0887"
             ],
             [
              0.1111111111111111,
              "#46039f"
             ],
             [
              0.2222222222222222,
              "#7201a8"
             ],
             [
              0.3333333333333333,
              "#9c179e"
             ],
             [
              0.4444444444444444,
              "#bd3786"
             ],
             [
              0.5555555555555556,
              "#d8576b"
             ],
             [
              0.6666666666666666,
              "#ed7953"
             ],
             [
              0.7777777777777778,
              "#fb9f3a"
             ],
             [
              0.8888888888888888,
              "#fdca26"
             ],
             [
              1,
              "#f0f921"
             ]
            ],
            "type": "histogram2d"
           }
          ],
          "histogram2dcontour": [
           {
            "colorbar": {
             "outlinewidth": 0,
             "ticks": ""
            },
            "colorscale": [
             [
              0,
              "#0d0887"
             ],
             [
              0.1111111111111111,
              "#46039f"
             ],
             [
              0.2222222222222222,
              "#7201a8"
             ],
             [
              0.3333333333333333,
              "#9c179e"
             ],
             [
              0.4444444444444444,
              "#bd3786"
             ],
             [
              0.5555555555555556,
              "#d8576b"
             ],
             [
              0.6666666666666666,
              "#ed7953"
             ],
             [
              0.7777777777777778,
              "#fb9f3a"
             ],
             [
              0.8888888888888888,
              "#fdca26"
             ],
             [
              1,
              "#f0f921"
             ]
            ],
            "type": "histogram2dcontour"
           }
          ],
          "mesh3d": [
           {
            "colorbar": {
             "outlinewidth": 0,
             "ticks": ""
            },
            "type": "mesh3d"
           }
          ],
          "parcoords": [
           {
            "line": {
             "colorbar": {
              "outlinewidth": 0,
              "ticks": ""
             }
            },
            "type": "parcoords"
           }
          ],
          "pie": [
           {
            "automargin": true,
            "type": "pie"
           }
          ],
          "scatter": [
           {
            "fillpattern": {
             "fillmode": "overlay",
             "size": 10,
             "solidity": 0.2
            },
            "type": "scatter"
           }
          ],
          "scatter3d": [
           {
            "line": {
             "colorbar": {
              "outlinewidth": 0,
              "ticks": ""
             }
            },
            "marker": {
             "colorbar": {
              "outlinewidth": 0,
              "ticks": ""
             }
            },
            "type": "scatter3d"
           }
          ],
          "scattercarpet": [
           {
            "marker": {
             "colorbar": {
              "outlinewidth": 0,
              "ticks": ""
             }
            },
            "type": "scattercarpet"
           }
          ],
          "scattergeo": [
           {
            "marker": {
             "colorbar": {
              "outlinewidth": 0,
              "ticks": ""
             }
            },
            "type": "scattergeo"
           }
          ],
          "scattergl": [
           {
            "marker": {
             "colorbar": {
              "outlinewidth": 0,
              "ticks": ""
             }
            },
            "type": "scattergl"
           }
          ],
          "scattermapbox": [
           {
            "marker": {
             "colorbar": {
              "outlinewidth": 0,
              "ticks": ""
             }
            },
            "type": "scattermapbox"
           }
          ],
          "scatterpolar": [
           {
            "marker": {
             "colorbar": {
              "outlinewidth": 0,
              "ticks": ""
             }
            },
            "type": "scatterpolar"
           }
          ],
          "scatterpolargl": [
           {
            "marker": {
             "colorbar": {
              "outlinewidth": 0,
              "ticks": ""
             }
            },
            "type": "scatterpolargl"
           }
          ],
          "scatterternary": [
           {
            "marker": {
             "colorbar": {
              "outlinewidth": 0,
              "ticks": ""
             }
            },
            "type": "scatterternary"
           }
          ],
          "surface": [
           {
            "colorbar": {
             "outlinewidth": 0,
             "ticks": ""
            },
            "colorscale": [
             [
              0,
              "#0d0887"
             ],
             [
              0.1111111111111111,
              "#46039f"
             ],
             [
              0.2222222222222222,
              "#7201a8"
             ],
             [
              0.3333333333333333,
              "#9c179e"
             ],
             [
              0.4444444444444444,
              "#bd3786"
             ],
             [
              0.5555555555555556,
              "#d8576b"
             ],
             [
              0.6666666666666666,
              "#ed7953"
             ],
             [
              0.7777777777777778,
              "#fb9f3a"
             ],
             [
              0.8888888888888888,
              "#fdca26"
             ],
             [
              1,
              "#f0f921"
             ]
            ],
            "type": "surface"
           }
          ],
          "table": [
           {
            "cells": {
             "fill": {
              "color": "#EBF0F8"
             },
             "line": {
              "color": "white"
             }
            },
            "header": {
             "fill": {
              "color": "#C8D4E3"
             },
             "line": {
              "color": "white"
             }
            },
            "type": "table"
           }
          ]
         },
         "layout": {
          "annotationdefaults": {
           "arrowcolor": "#2a3f5f",
           "arrowhead": 0,
           "arrowwidth": 1
          },
          "autotypenumbers": "strict",
          "coloraxis": {
           "colorbar": {
            "outlinewidth": 0,
            "ticks": ""
           }
          },
          "colorscale": {
           "diverging": [
            [
             0,
             "#8e0152"
            ],
            [
             0.1,
             "#c51b7d"
            ],
            [
             0.2,
             "#de77ae"
            ],
            [
             0.3,
             "#f1b6da"
            ],
            [
             0.4,
             "#fde0ef"
            ],
            [
             0.5,
             "#f7f7f7"
            ],
            [
             0.6,
             "#e6f5d0"
            ],
            [
             0.7,
             "#b8e186"
            ],
            [
             0.8,
             "#7fbc41"
            ],
            [
             0.9,
             "#4d9221"
            ],
            [
             1,
             "#276419"
            ]
           ],
           "sequential": [
            [
             0,
             "#0d0887"
            ],
            [
             0.1111111111111111,
             "#46039f"
            ],
            [
             0.2222222222222222,
             "#7201a8"
            ],
            [
             0.3333333333333333,
             "#9c179e"
            ],
            [
             0.4444444444444444,
             "#bd3786"
            ],
            [
             0.5555555555555556,
             "#d8576b"
            ],
            [
             0.6666666666666666,
             "#ed7953"
            ],
            [
             0.7777777777777778,
             "#fb9f3a"
            ],
            [
             0.8888888888888888,
             "#fdca26"
            ],
            [
             1,
             "#f0f921"
            ]
           ],
           "sequentialminus": [
            [
             0,
             "#0d0887"
            ],
            [
             0.1111111111111111,
             "#46039f"
            ],
            [
             0.2222222222222222,
             "#7201a8"
            ],
            [
             0.3333333333333333,
             "#9c179e"
            ],
            [
             0.4444444444444444,
             "#bd3786"
            ],
            [
             0.5555555555555556,
             "#d8576b"
            ],
            [
             0.6666666666666666,
             "#ed7953"
            ],
            [
             0.7777777777777778,
             "#fb9f3a"
            ],
            [
             0.8888888888888888,
             "#fdca26"
            ],
            [
             1,
             "#f0f921"
            ]
           ]
          },
          "colorway": [
           "#636efa",
           "#EF553B",
           "#00cc96",
           "#ab63fa",
           "#FFA15A",
           "#19d3f3",
           "#FF6692",
           "#B6E880",
           "#FF97FF",
           "#FECB52"
          ],
          "font": {
           "color": "#2a3f5f"
          },
          "geo": {
           "bgcolor": "white",
           "lakecolor": "white",
           "landcolor": "#E5ECF6",
           "showlakes": true,
           "showland": true,
           "subunitcolor": "white"
          },
          "hoverlabel": {
           "align": "left"
          },
          "hovermode": "closest",
          "mapbox": {
           "style": "light"
          },
          "paper_bgcolor": "white",
          "plot_bgcolor": "#E5ECF6",
          "polar": {
           "angularaxis": {
            "gridcolor": "white",
            "linecolor": "white",
            "ticks": ""
           },
           "bgcolor": "#E5ECF6",
           "radialaxis": {
            "gridcolor": "white",
            "linecolor": "white",
            "ticks": ""
           }
          },
          "scene": {
           "xaxis": {
            "backgroundcolor": "#E5ECF6",
            "gridcolor": "white",
            "gridwidth": 2,
            "linecolor": "white",
            "showbackground": true,
            "ticks": "",
            "zerolinecolor": "white"
           },
           "yaxis": {
            "backgroundcolor": "#E5ECF6",
            "gridcolor": "white",
            "gridwidth": 2,
            "linecolor": "white",
            "showbackground": true,
            "ticks": "",
            "zerolinecolor": "white"
           },
           "zaxis": {
            "backgroundcolor": "#E5ECF6",
            "gridcolor": "white",
            "gridwidth": 2,
            "linecolor": "white",
            "showbackground": true,
            "ticks": "",
            "zerolinecolor": "white"
           }
          },
          "shapedefaults": {
           "line": {
            "color": "#2a3f5f"
           }
          },
          "ternary": {
           "aaxis": {
            "gridcolor": "white",
            "linecolor": "white",
            "ticks": ""
           },
           "baxis": {
            "gridcolor": "white",
            "linecolor": "white",
            "ticks": ""
           },
           "bgcolor": "#E5ECF6",
           "caxis": {
            "gridcolor": "white",
            "linecolor": "white",
            "ticks": ""
           }
          },
          "title": {
           "x": 0.05
          },
          "xaxis": {
           "automargin": true,
           "gridcolor": "white",
           "linecolor": "white",
           "ticks": "",
           "title": {
            "standoff": 15
           },
           "zerolinecolor": "white",
           "zerolinewidth": 2
          },
          "yaxis": {
           "automargin": true,
           "gridcolor": "white",
           "linecolor": "white",
           "ticks": "",
           "title": {
            "standoff": 15
           },
           "zerolinecolor": "white",
           "zerolinewidth": 2
          }
         }
        },
        "title": {
         "text": "GBP_CAD_MA_8_16"
        },
        "width": 1000,
        "xaxis": {
         "linecolor": "#3a4a54",
         "linewidth": 1,
         "showgrid": false,
         "zeroline": false
        },
        "yaxis": {
         "linecolor": "#3a4a54",
         "linewidth": 1,
         "showgrid": false,
         "zeroline": false
        }
       }
      }
     },
     "metadata": {},
     "output_type": "display_data"
    },
    {
     "data": {
      "application/vnd.plotly.v1+json": {
       "config": {
        "plotlyServerURL": "https://plot.ly"
       },
       "data": [
        {
         "line": {
          "color": "#3d825f",
          "shape": "spline",
          "width": 2
         },
         "mode": "lines",
         "name": "GBP_CHF_MA_8_16",
         "type": "scatter",
         "x": [
          "2023-09-06T05:00:00+00:00",
          "2023-09-06T11:00:00+00:00",
          "2023-09-06T13:00:00+00:00",
          "2023-09-07T18:00:00+00:00",
          "2023-09-08T02:00:00+00:00",
          "2023-09-08T15:00:00+00:00",
          "2023-09-10T22:00:00+00:00",
          "2023-09-11T01:00:00+00:00",
          "2023-09-11T19:00:00+00:00",
          "2023-09-12T06:00:00+00:00",
          "2023-09-12T08:00:00+00:00",
          "2023-09-12T20:00:00+00:00",
          "2023-09-13T07:00:00+00:00",
          "2023-09-13T14:00:00+00:00",
          "2023-09-14T05:00:00+00:00",
          "2023-09-15T04:00:00+00:00",
          "2023-09-15T15:00:00+00:00",
          "2023-09-18T01:00:00+00:00",
          "2023-09-18T07:00:00+00:00",
          "2023-09-18T16:00:00+00:00",
          "2023-09-19T00:00:00+00:00",
          "2023-09-19T13:00:00+00:00",
          "2023-09-20T02:00:00+00:00",
          "2023-09-21T07:00:00+00:00",
          "2023-09-21T17:00:00+00:00",
          "2023-09-22T00:00:00+00:00",
          "2023-09-22T06:00:00+00:00",
          "2023-09-24T22:00:00+00:00",
          "2023-09-24T23:00:00+00:00",
          "2023-09-25T00:00:00+00:00",
          "2023-09-25T01:00:00+00:00",
          "2023-09-25T02:00:00+00:00",
          "2023-09-26T04:00:00+00:00",
          "2023-09-26T19:00:00+00:00",
          "2023-09-28T19:00:00+00:00",
          "2023-09-29T15:00:00+00:00",
          "2023-10-01T23:00:00+00:00",
          "2023-10-03T08:00:00+00:00",
          "2023-10-03T21:00:00+00:00",
          "2023-10-04T09:00:00+00:00",
          "2023-10-04T23:00:00+00:00",
          "2023-10-05T12:00:00+00:00",
          "2023-10-05T13:00:00+00:00",
          "2023-10-05T19:00:00+00:00",
          "2023-10-06T05:00:00+00:00",
          "2023-10-06T07:00:00+00:00",
          "2023-10-06T18:00:00+00:00",
          "2023-10-06T20:00:00+00:00",
          "2023-10-08T21:00:00+00:00",
          "2023-10-09T22:00:00+00:00",
          "2023-10-10T05:00:00+00:00",
          "2023-10-10T11:00:00+00:00",
          "2023-10-11T08:00:00+00:00",
          "2023-10-11T19:00:00+00:00",
          "2023-10-12T01:00:00+00:00",
          "2023-10-13T05:00:00+00:00",
          "2023-10-13T12:00:00+00:00",
          "2023-10-16T04:00:00+00:00",
          "2023-10-17T06:00:00+00:00",
          "2023-10-17T21:00:00+00:00",
          "2023-10-18T00:00:00+00:00",
          "2023-10-18T12:00:00+00:00",
          "2023-10-18T13:00:00+00:00",
          "2023-10-20T15:00:00+00:00",
          "2023-10-23T11:00:00+00:00",
          "2023-10-23T15:00:00+00:00",
          "2023-10-24T13:00:00+00:00",
          "2023-10-25T06:00:00+00:00",
          "2023-10-25T11:00:00+00:00",
          "2023-10-25T18:00:00+00:00",
          "2023-10-25T23:00:00+00:00",
          "2023-10-26T10:00:00+00:00",
          "2023-10-29T23:00:00+00:00",
          "2023-10-30T06:00:00+00:00",
          "2023-10-31T05:00:00+00:00",
          "2023-10-31T11:00:00+00:00",
          "2023-11-01T06:00:00+00:00",
          "2023-11-02T00:00:00+00:00",
          "2023-11-02T03:00:00+00:00",
          "2023-11-02T15:00:00+00:00",
          "2023-11-03T06:00:00+00:00",
          "2023-11-03T10:00:00+00:00",
          "2023-11-06T05:00:00+00:00",
          "2023-11-06T12:00:00+00:00",
          "2023-11-06T19:00:00+00:00",
          "2023-11-08T22:00:00+00:00",
          "2023-11-09T04:00:00+00:00",
          "2023-11-09T09:00:00+00:00",
          "2023-11-09T17:00:00+00:00",
          "2023-11-10T07:00:00+00:00",
          "2023-11-10T10:00:00+00:00",
          "2023-11-12T22:00:00+00:00",
          "2023-11-15T03:00:00+00:00",
          "2023-11-16T12:00:00+00:00",
          "2023-11-17T03:00:00+00:00",
          "2023-11-17T16:00:00+00:00",
          "2023-11-20T11:00:00+00:00",
          "2023-11-20T15:00:00+00:00",
          "2023-11-21T22:00:00+00:00",
          "2023-11-21T23:00:00+00:00",
          "2023-11-22T05:00:00+00:00",
          "2023-11-23T09:00:00+00:00",
          "2023-11-24T00:00:00+00:00",
          "2023-11-24T01:00:00+00:00",
          "2023-11-27T10:00:00+00:00",
          "2023-11-27T22:00:00+00:00",
          "2023-11-28T09:00:00+00:00",
          "2023-11-28T11:00:00+00:00",
          "2023-11-29T08:00:00+00:00",
          "2023-12-01T01:00:00+00:00",
          "2023-12-01T17:00:00+00:00",
          "2023-12-04T08:00:00+00:00",
          "2023-12-04T16:00:00+00:00",
          "2023-12-05T05:00:00+00:00",
          "2023-12-05T06:00:00+00:00",
          "2023-12-05T08:00:00+00:00",
          "2023-12-05T19:00:00+00:00",
          "2023-12-06T05:00:00+00:00",
          "2023-12-06T11:00:00+00:00",
          "2023-12-07T09:00:00+00:00",
          "2023-12-08T08:00:00+00:00",
          "2023-12-08T16:00:00+00:00",
          "2023-12-11T04:00:00+00:00",
          "2023-12-11T11:00:00+00:00",
          "2023-12-11T20:00:00+00:00",
          "2023-12-13T01:00:00+00:00",
          "2023-12-13T04:00:00+00:00",
          "2023-12-13T20:00:00+00:00",
          "2023-12-14T06:00:00+00:00",
          "2023-12-14T10:00:00+00:00",
          "2023-12-15T08:00:00+00:00",
          "2023-12-18T03:00:00+00:00",
          "2023-12-18T07:00:00+00:00",
          "2023-12-19T08:00:00+00:00",
          "2023-12-19T19:00:00+00:00",
          "2023-12-22T05:00:00+00:00",
          "2023-12-22T14:00:00+00:00",
          "2023-12-22T17:00:00+00:00",
          "2023-12-26T01:00:00+00:00",
          "2023-12-26T10:00:00+00:00",
          "2023-12-26T18:00:00+00:00",
          "2023-12-27T04:00:00+00:00",
          "2023-12-27T09:00:00+00:00",
          "2023-12-28T22:00:00+00:00",
          "2023-12-29T09:00:00+00:00",
          "2023-12-29T20:00:00+00:00",
          "2024-01-02T15:00:00+00:00",
          "2024-01-03T03:00:00+00:00",
          "2024-01-03T22:00:00+00:00",
          "2024-01-04T08:00:00+00:00",
          "2024-01-04T22:00:00+00:00",
          "2024-01-05T09:00:00+00:00",
          "2024-01-08T09:00:00+00:00",
          "2024-01-08T22:00:00+00:00",
          "2024-01-09T06:00:00+00:00",
          "2024-01-09T10:00:00+00:00",
          "2024-01-10T07:00:00+00:00",
          "2024-01-10T10:00:00+00:00",
          "2024-01-10T22:00:00+00:00",
          "2024-01-11T05:00:00+00:00",
          "2024-01-12T13:00:00+00:00",
          "2024-01-15T01:00:00+00:00",
          "2024-01-15T12:00:00+00:00",
          "2024-01-15T17:00:00+00:00",
          "2024-01-16T04:00:00+00:00",
          "2024-01-16T11:00:00+00:00",
          "2024-01-16T14:00:00+00:00",
          "2024-01-16T23:00:00+00:00",
          "2024-01-17T06:00:00+00:00",
          "2024-01-17T07:00:00+00:00",
          "2024-01-18T02:00:00+00:00",
          "2024-01-18T08:00:00+00:00",
          "2024-01-19T08:00:00+00:00",
          "2024-01-19T19:00:00+00:00",
          "2024-01-23T01:00:00+00:00",
          "2024-01-23T12:00:00+00:00",
          "2024-01-23T19:00:00+00:00",
          "2024-01-24T06:00:00+00:00",
          "2024-01-24T07:00:00+00:00",
          "2024-01-25T07:00:00+00:00",
          "2024-01-26T06:00:00+00:00",
          "2024-01-30T22:00:00+00:00",
          "2024-01-31T06:00:00+00:00",
          "2024-01-31T08:00:00+00:00",
          "2024-01-31T14:00:00+00:00",
          "2024-02-01T01:00:00+00:00",
          "2024-02-01T09:00:00+00:00",
          "2024-02-01T19:00:00+00:00",
          "2024-02-02T05:00:00+00:00",
          "2024-02-02T15:00:00+00:00",
          "2024-02-05T04:00:00+00:00",
          "2024-02-05T09:00:00+00:00",
          "2024-02-05T15:00:00+00:00",
          "2024-02-06T03:00:00+00:00",
          "2024-02-07T03:00:00+00:00",
          "2024-02-07T04:00:00+00:00",
          "2024-02-08T06:00:00+00:00",
          "2024-02-08T19:00:00+00:00",
          "2024-02-09T02:00:00+00:00",
          "2024-02-09T06:00:00+00:00",
          "2024-02-12T03:00:00+00:00",
          "2024-02-12T14:00:00+00:00",
          "2024-02-13T04:00:00+00:00",
          "2024-02-13T07:00:00+00:00",
          "2024-02-14T06:00:00+00:00",
          "2024-02-15T03:00:00+00:00",
          "2024-02-15T05:00:00+00:00",
          "2024-02-15T22:00:00+00:00",
          "2024-02-19T14:00:00+00:00",
          "2024-02-19T22:00:00+00:00",
          "2024-02-20T07:00:00+00:00",
          "2024-02-20T13:00:00+00:00",
          "2024-02-21T05:00:00+00:00",
          "2024-02-21T22:00:00+00:00",
          "2024-02-22T05:00:00+00:00",
          "2024-02-22T11:00:00+00:00",
          "2024-02-26T02:00:00+00:00",
          "2024-02-26T15:00:00+00:00",
          "2024-02-27T02:00:00+00:00",
          "2024-02-29T10:00:00+00:00",
          "2024-03-01T21:00:00+00:00",
          "2024-03-04T10:00:00+00:00",
          "2024-03-05T08:00:00+00:00",
          "2024-03-05T11:00:00+00:00",
          "2024-03-05T20:00:00+00:00",
          "2024-03-06T05:00:00+00:00",
          "2024-03-06T18:00:00+00:00",
          "2024-03-07T16:00:00+00:00",
          "2024-03-08T05:00:00+00:00",
          "2024-03-08T12:00:00+00:00",
          "2024-03-11T07:00:00+00:00",
          "2024-03-12T19:00:00+00:00",
          "2024-03-14T18:00:00+00:00",
          "2024-03-14T20:00:00+00:00",
          "2024-03-15T08:00:00+00:00",
          "2024-03-18T09:00:00+00:00",
          "2024-03-19T08:00:00+00:00",
          "2024-03-19T18:00:00+00:00",
          "2024-03-21T04:00:00+00:00",
          "2024-03-21T08:00:00+00:00",
          "2024-03-21T21:00:00+00:00",
          "2024-03-25T06:00:00+00:00",
          "2024-03-27T02:00:00+00:00",
          "2024-03-27T08:00:00+00:00",
          "2024-03-27T21:00:00+00:00",
          "2024-03-28T06:00:00+00:00",
          "2024-03-28T08:00:00+00:00",
          "2024-03-29T05:00:00+00:00",
          "2024-03-29T10:00:00+00:00",
          "2024-03-29T17:00:00+00:00",
          "2024-04-01T08:00:00+00:00",
          "2024-04-02T04:00:00+00:00",
          "2024-04-04T00:00:00+00:00",
          "2024-04-04T06:00:00+00:00",
          "2024-04-04T18:00:00+00:00",
          "2024-04-05T10:00:00+00:00",
          "2024-04-05T16:00:00+00:00",
          "2024-04-08T00:00:00+00:00",
          "2024-04-09T06:00:00+00:00",
          "2024-04-09T14:00:00+00:00",
          "2024-04-09T18:00:00+00:00",
          "2024-04-10T02:00:00+00:00",
          "2024-04-10T17:00:00+00:00",
          "2024-04-11T06:00:00+00:00",
          "2024-04-11T14:00:00+00:00",
          "2024-04-12T02:00:00+00:00",
          "2024-04-12T09:00:00+00:00",
          "2024-04-15T00:00:00+00:00",
          "2024-04-15T17:00:00+00:00",
          "2024-04-16T09:00:00+00:00",
          "2024-04-16T19:00:00+00:00",
          "2024-04-17T09:00:00+00:00",
          "2024-04-17T18:00:00+00:00",
          "2024-04-18T04:00:00+00:00",
          "2024-04-18T11:00:00+00:00",
          "2024-04-18T16:00:00+00:00",
          "2024-04-19T01:00:00+00:00",
          "2024-04-19T13:00:00+00:00",
          "2024-04-19T18:00:00+00:00",
          "2024-04-22T04:00:00+00:00",
          "2024-04-22T10:00:00+00:00",
          "2024-04-22T21:00:00+00:00",
          "2024-04-25T19:00:00+00:00",
          "2024-04-26T05:00:00+00:00",
          "2024-04-26T07:00:00+00:00",
          "2024-04-26T08:00:00+00:00"
         ],
         "y": [
          -7.300000000001194,
          -22.300000000001763,
          13.29999999999831,
          14.09999999999911,
          13.600000000000275,
          9.50000000000006,
          -0.9000000000014587,
          0.39999999999817604,
          -2.7000000000021487,
          -33.80000000000161,
          -53.49999999999966,
          -68.69999999999932,
          -98.09999999999874,
          -103.29999999999728,
          -83.69999999999766,
          -109.09999999999752,
          -127.5999999999966,
          -153.59999999999596,
          -176.79999999999472,
          -185.89999999999438,
          -203.09999999999383,
          -205.499999999994,
          -229.89999999999398,
          -266.69999999999305,
          -274.0999999999927,
          -272.0999999999929,
          -257.7999999999947,
          -257.59999999999565,
          -262.9999999999955,
          -265.8999999999945,
          -266.8999999999944,
          -240.9999999999957,
          -235.099999999997,
          -198.69999999999834,
          -196.49999999999946,
          -196.40000000000103,
          -151.80000000000194,
          -143.1000000000027,
          -155.7000000000031,
          -168.8000000000023,
          -153.500000000002,
          -160.0000000000024,
          -179.50000000000358,
          -177.3000000000047,
          -184.10000000000485,
          -182.60000000000392,
          -180.90000000000387,
          -213.50000000000426,
          -201.90000000000376,
          -210.50000000000458,
          -231.5000000000045,
          -246.50000000000284,
          -266.6000000000013,
          -281.5000000000012,
          -256.6000000000024,
          -289.20000000000283,
          -218.10000000000332,
          -204.90000000000344,
          -201.30000000000206,
          -219.9000000000018,
          -208.60000000000326,
          -236.60000000000463,
          -158.60000000000434,
          -132.60000000000275,
          -181.0000000000023,
          -197.70000000000292,
          -169.30000000000337,
          -178.30000000000237,
          -185.50000000000068,
          -197.1000000000012,
          -195.3000000000027,
          -114.30000000000275,
          -131.10000000000178,
          -123.30000000000176,
          -160.70000000000252,
          -117.60000000000215,
          -113.6000000000026,
          -140.9000000000038,
          -166.1000000000046,
          -144.30000000000612,
          -150.7000000000081,
          -105.3000000000082,
          -127.10000000000669,
          -154.70000000000542,
          -102.5000000000054,
          -101.70000000000682,
          -131.90000000000705,
          -163.30000000000626,
          -171.7000000000058,
          -212.7000000000057,
          -237.30000000000476,
          -173.90000000000464,
          -97.30000000000464,
          -101.3000000000042,
          -104.90000000000558,
          -107.30000000000575,
          -132.50000000000432,
          -103.90000000000347,
          -109.10000000000423,
          -118.70000000000495,
          -134.1000000000059,
          -135.30000000000712,
          -131.50000000000665,
          -108.90000000000515,
          -124.10000000000481,
          -131.10000000000628,
          -144.50000000000747,
          -146.40000000000882,
          -82.60000000001051,
          -92.90000000001137,
          -112.1000000000106,
          -153.70000000001,
          -146.30000000001036,
          -145.1000000000114,
          -149.50000000001134,
          -160.10000000000974,
          -175.3000000000094,
          -195.5000000000085,
          -178.40000000000748,
          -182.9000000000081,
          -240.500000000008,
          -253.50000000000657,
          -299.6000000000066,
          -350.70000000000834,
          -318.3000000000093,
          -325.3000000000085,
          -341.7000000000071,
          -358.9000000000065,
          -391.1000000000065,
          -362.90000000000606,
          -353.70000000000573,
          -372.50000000000676,
          -342.6000000000085,
          -381.1000000000098,
          -303.70000000001124,
          -322.20000000001255,
          -344.60000000001276,
          -349.1000000000134,
          -360.9000000000152,
          -381.9000000000173,
          -383.9000000000193,
          -413.6000000000207,
          -336.5000000000219,
          -420.10000000002333,
          -466.1000000000249,
          -473.1000000000264,
          -492.0000000000281,
          -472.40000000002846,
          -514.8000000000287,
          -526.0000000000288,
          -540.0000000000272,
          -537.600000000027,
          -546.3000000000285,
          -552.8000000000288,
          -577.400000000028,
          -583.9000000000283,
          -607.1000000000292,
          -613.0000000000301,
          -622.7000000000315,
          -597.2000000000332,
          -593.0000000000346,
          -599.0000000000339,
          -631.5000000000337,
          -645.8000000000341,
          -641.7000000000338,
          -632.3000000000344,
          -632.7000000000348,
          -644.600000000035,
          -683.5000000000346,
          -632.2000000000338,
          -656.5000000000331,
          -637.700000000032,
          -662.3000000000311,
          -654.4000000000304,
          -656.3000000000295,
          -656.3000000000295,
          -648.9000000000299,
          -658.600000000029,
          -620.3000000000291,
          -587.3000000000304,
          -514.8000000000306,
          -523.3000000000309,
          -530.7000000000327,
          -574.9000000000336,
          -616.300000000034,
          -641.7000000000338,
          -654.5000000000333,
          -655.8000000000329,
          -679.6000000000334,
          -694.2000000000336,
          -720.400000000032,
          -775.2000000000313,
          -780.1000000000323,
          -737.1000000000327,
          -740.3000000000314,
          -673.5000000000313,
          -675.0000000000322,
          -679.1000000000324,
          -686.5000000000321,
          -675.7000000000323,
          -692.7000000000327,
          -700.400000000032,
          -777.1000000000327,
          -737.7000000000344,
          -693.1000000000353,
          -697.9000000000357,
          -665.4000000000359,
          -650.3000000000369,
          -660.9000000000375,
          -652.500000000038,
          -652.8000000000377,
          -649.2000000000363,
          -638.1000000000369,
          -650.0000000000371,
          -678.1000000000369,
          -648.0000000000373,
          -654.8000000000375,
          -667.3000000000372,
          -653.2000000000359,
          -618.6000000000357,
          -637.100000000037,
          -604.5000000000388,
          -611.2000000000405,
          -625.9000000000414,
          -641.9000000000418,
          -637.5000000000418,
          -631.600000000041,
          -628.0000000000396,
          -651.7000000000394,
          -660.9000000000397,
          -635.1000000000394,
          -593.5000000000399,
          -595.700000000041,
          -602.4000000000404,
          -597.3000000000403,
          -595.9000000000423,
          -636.000000000043,
          -613.0000000000433,
          -713.4000000000437,
          -775.9000000000424,
          -732.300000000041,
          -646.200000000041,
          -669.7000000000418,
          -674.300000000043,
          -689.700000000044,
          -704.8000000000453,
          -674.1000000000463,
          -697.6000000000471,
          -713.5000000000468,
          -726.2000000000456,
          -724.1000000000452,
          -671.5000000000448,
          -723.7000000000448,
          -774.1000000000441,
          -758.2000000000444,
          -777.2000000000445,
          -793.5000000000447,
          -751.1000000000466,
          -755.7000000000479,
          -759.100000000048,
          -764.5000000000479,
          -774.9000000000472,
          -794.7000000000459,
          -850.0000000000462,
          -867.2000000000478,
          -882.5000000000481,
          -856.9000000000469,
          -882.9000000000462,
          -896.7000000000456,
          -922.700000000045,
          -937.1000000000461,
          -960.9000000000466,
          -973.4000000000464,
          -991.1000000000469,
          -1009.7000000000465,
          -1105.0000000000468,
          -1165.9000000000483,
          -1226.7000000000492,
          -1263.5000000000482,
          -1319.7000000000478,
          -1348.1000000000495,
          -1196.5000000000512,
          -1199.7000000000521,
          -1214.5000000000537,
          -1230.0000000000553,
          -1236.1000000000552
         ]
        }
       ],
       "layout": {
        "font": {
         "color": "#e1e1e1",
         "size": 10
        },
        "height": 400,
        "margin": {
         "b": 10,
         "l": 15,
         "r": 15
        },
        "paper_bgcolor": "#1e1e1e",
        "plot_bgcolor": "#1e1e1e",
        "template": {
         "data": {
          "bar": [
           {
            "error_x": {
             "color": "#2a3f5f"
            },
            "error_y": {
             "color": "#2a3f5f"
            },
            "marker": {
             "line": {
              "color": "#E5ECF6",
              "width": 0.5
             },
             "pattern": {
              "fillmode": "overlay",
              "size": 10,
              "solidity": 0.2
             }
            },
            "type": "bar"
           }
          ],
          "barpolar": [
           {
            "marker": {
             "line": {
              "color": "#E5ECF6",
              "width": 0.5
             },
             "pattern": {
              "fillmode": "overlay",
              "size": 10,
              "solidity": 0.2
             }
            },
            "type": "barpolar"
           }
          ],
          "carpet": [
           {
            "aaxis": {
             "endlinecolor": "#2a3f5f",
             "gridcolor": "white",
             "linecolor": "white",
             "minorgridcolor": "white",
             "startlinecolor": "#2a3f5f"
            },
            "baxis": {
             "endlinecolor": "#2a3f5f",
             "gridcolor": "white",
             "linecolor": "white",
             "minorgridcolor": "white",
             "startlinecolor": "#2a3f5f"
            },
            "type": "carpet"
           }
          ],
          "choropleth": [
           {
            "colorbar": {
             "outlinewidth": 0,
             "ticks": ""
            },
            "type": "choropleth"
           }
          ],
          "contour": [
           {
            "colorbar": {
             "outlinewidth": 0,
             "ticks": ""
            },
            "colorscale": [
             [
              0,
              "#0d0887"
             ],
             [
              0.1111111111111111,
              "#46039f"
             ],
             [
              0.2222222222222222,
              "#7201a8"
             ],
             [
              0.3333333333333333,
              "#9c179e"
             ],
             [
              0.4444444444444444,
              "#bd3786"
             ],
             [
              0.5555555555555556,
              "#d8576b"
             ],
             [
              0.6666666666666666,
              "#ed7953"
             ],
             [
              0.7777777777777778,
              "#fb9f3a"
             ],
             [
              0.8888888888888888,
              "#fdca26"
             ],
             [
              1,
              "#f0f921"
             ]
            ],
            "type": "contour"
           }
          ],
          "contourcarpet": [
           {
            "colorbar": {
             "outlinewidth": 0,
             "ticks": ""
            },
            "type": "contourcarpet"
           }
          ],
          "heatmap": [
           {
            "colorbar": {
             "outlinewidth": 0,
             "ticks": ""
            },
            "colorscale": [
             [
              0,
              "#0d0887"
             ],
             [
              0.1111111111111111,
              "#46039f"
             ],
             [
              0.2222222222222222,
              "#7201a8"
             ],
             [
              0.3333333333333333,
              "#9c179e"
             ],
             [
              0.4444444444444444,
              "#bd3786"
             ],
             [
              0.5555555555555556,
              "#d8576b"
             ],
             [
              0.6666666666666666,
              "#ed7953"
             ],
             [
              0.7777777777777778,
              "#fb9f3a"
             ],
             [
              0.8888888888888888,
              "#fdca26"
             ],
             [
              1,
              "#f0f921"
             ]
            ],
            "type": "heatmap"
           }
          ],
          "heatmapgl": [
           {
            "colorbar": {
             "outlinewidth": 0,
             "ticks": ""
            },
            "colorscale": [
             [
              0,
              "#0d0887"
             ],
             [
              0.1111111111111111,
              "#46039f"
             ],
             [
              0.2222222222222222,
              "#7201a8"
             ],
             [
              0.3333333333333333,
              "#9c179e"
             ],
             [
              0.4444444444444444,
              "#bd3786"
             ],
             [
              0.5555555555555556,
              "#d8576b"
             ],
             [
              0.6666666666666666,
              "#ed7953"
             ],
             [
              0.7777777777777778,
              "#fb9f3a"
             ],
             [
              0.8888888888888888,
              "#fdca26"
             ],
             [
              1,
              "#f0f921"
             ]
            ],
            "type": "heatmapgl"
           }
          ],
          "histogram": [
           {
            "marker": {
             "pattern": {
              "fillmode": "overlay",
              "size": 10,
              "solidity": 0.2
             }
            },
            "type": "histogram"
           }
          ],
          "histogram2d": [
           {
            "colorbar": {
             "outlinewidth": 0,
             "ticks": ""
            },
            "colorscale": [
             [
              0,
              "#0d0887"
             ],
             [
              0.1111111111111111,
              "#46039f"
             ],
             [
              0.2222222222222222,
              "#7201a8"
             ],
             [
              0.3333333333333333,
              "#9c179e"
             ],
             [
              0.4444444444444444,
              "#bd3786"
             ],
             [
              0.5555555555555556,
              "#d8576b"
             ],
             [
              0.6666666666666666,
              "#ed7953"
             ],
             [
              0.7777777777777778,
              "#fb9f3a"
             ],
             [
              0.8888888888888888,
              "#fdca26"
             ],
             [
              1,
              "#f0f921"
             ]
            ],
            "type": "histogram2d"
           }
          ],
          "histogram2dcontour": [
           {
            "colorbar": {
             "outlinewidth": 0,
             "ticks": ""
            },
            "colorscale": [
             [
              0,
              "#0d0887"
             ],
             [
              0.1111111111111111,
              "#46039f"
             ],
             [
              0.2222222222222222,
              "#7201a8"
             ],
             [
              0.3333333333333333,
              "#9c179e"
             ],
             [
              0.4444444444444444,
              "#bd3786"
             ],
             [
              0.5555555555555556,
              "#d8576b"
             ],
             [
              0.6666666666666666,
              "#ed7953"
             ],
             [
              0.7777777777777778,
              "#fb9f3a"
             ],
             [
              0.8888888888888888,
              "#fdca26"
             ],
             [
              1,
              "#f0f921"
             ]
            ],
            "type": "histogram2dcontour"
           }
          ],
          "mesh3d": [
           {
            "colorbar": {
             "outlinewidth": 0,
             "ticks": ""
            },
            "type": "mesh3d"
           }
          ],
          "parcoords": [
           {
            "line": {
             "colorbar": {
              "outlinewidth": 0,
              "ticks": ""
             }
            },
            "type": "parcoords"
           }
          ],
          "pie": [
           {
            "automargin": true,
            "type": "pie"
           }
          ],
          "scatter": [
           {
            "fillpattern": {
             "fillmode": "overlay",
             "size": 10,
             "solidity": 0.2
            },
            "type": "scatter"
           }
          ],
          "scatter3d": [
           {
            "line": {
             "colorbar": {
              "outlinewidth": 0,
              "ticks": ""
             }
            },
            "marker": {
             "colorbar": {
              "outlinewidth": 0,
              "ticks": ""
             }
            },
            "type": "scatter3d"
           }
          ],
          "scattercarpet": [
           {
            "marker": {
             "colorbar": {
              "outlinewidth": 0,
              "ticks": ""
             }
            },
            "type": "scattercarpet"
           }
          ],
          "scattergeo": [
           {
            "marker": {
             "colorbar": {
              "outlinewidth": 0,
              "ticks": ""
             }
            },
            "type": "scattergeo"
           }
          ],
          "scattergl": [
           {
            "marker": {
             "colorbar": {
              "outlinewidth": 0,
              "ticks": ""
             }
            },
            "type": "scattergl"
           }
          ],
          "scattermapbox": [
           {
            "marker": {
             "colorbar": {
              "outlinewidth": 0,
              "ticks": ""
             }
            },
            "type": "scattermapbox"
           }
          ],
          "scatterpolar": [
           {
            "marker": {
             "colorbar": {
              "outlinewidth": 0,
              "ticks": ""
             }
            },
            "type": "scatterpolar"
           }
          ],
          "scatterpolargl": [
           {
            "marker": {
             "colorbar": {
              "outlinewidth": 0,
              "ticks": ""
             }
            },
            "type": "scatterpolargl"
           }
          ],
          "scatterternary": [
           {
            "marker": {
             "colorbar": {
              "outlinewidth": 0,
              "ticks": ""
             }
            },
            "type": "scatterternary"
           }
          ],
          "surface": [
           {
            "colorbar": {
             "outlinewidth": 0,
             "ticks": ""
            },
            "colorscale": [
             [
              0,
              "#0d0887"
             ],
             [
              0.1111111111111111,
              "#46039f"
             ],
             [
              0.2222222222222222,
              "#7201a8"
             ],
             [
              0.3333333333333333,
              "#9c179e"
             ],
             [
              0.4444444444444444,
              "#bd3786"
             ],
             [
              0.5555555555555556,
              "#d8576b"
             ],
             [
              0.6666666666666666,
              "#ed7953"
             ],
             [
              0.7777777777777778,
              "#fb9f3a"
             ],
             [
              0.8888888888888888,
              "#fdca26"
             ],
             [
              1,
              "#f0f921"
             ]
            ],
            "type": "surface"
           }
          ],
          "table": [
           {
            "cells": {
             "fill": {
              "color": "#EBF0F8"
             },
             "line": {
              "color": "white"
             }
            },
            "header": {
             "fill": {
              "color": "#C8D4E3"
             },
             "line": {
              "color": "white"
             }
            },
            "type": "table"
           }
          ]
         },
         "layout": {
          "annotationdefaults": {
           "arrowcolor": "#2a3f5f",
           "arrowhead": 0,
           "arrowwidth": 1
          },
          "autotypenumbers": "strict",
          "coloraxis": {
           "colorbar": {
            "outlinewidth": 0,
            "ticks": ""
           }
          },
          "colorscale": {
           "diverging": [
            [
             0,
             "#8e0152"
            ],
            [
             0.1,
             "#c51b7d"
            ],
            [
             0.2,
             "#de77ae"
            ],
            [
             0.3,
             "#f1b6da"
            ],
            [
             0.4,
             "#fde0ef"
            ],
            [
             0.5,
             "#f7f7f7"
            ],
            [
             0.6,
             "#e6f5d0"
            ],
            [
             0.7,
             "#b8e186"
            ],
            [
             0.8,
             "#7fbc41"
            ],
            [
             0.9,
             "#4d9221"
            ],
            [
             1,
             "#276419"
            ]
           ],
           "sequential": [
            [
             0,
             "#0d0887"
            ],
            [
             0.1111111111111111,
             "#46039f"
            ],
            [
             0.2222222222222222,
             "#7201a8"
            ],
            [
             0.3333333333333333,
             "#9c179e"
            ],
            [
             0.4444444444444444,
             "#bd3786"
            ],
            [
             0.5555555555555556,
             "#d8576b"
            ],
            [
             0.6666666666666666,
             "#ed7953"
            ],
            [
             0.7777777777777778,
             "#fb9f3a"
            ],
            [
             0.8888888888888888,
             "#fdca26"
            ],
            [
             1,
             "#f0f921"
            ]
           ],
           "sequentialminus": [
            [
             0,
             "#0d0887"
            ],
            [
             0.1111111111111111,
             "#46039f"
            ],
            [
             0.2222222222222222,
             "#7201a8"
            ],
            [
             0.3333333333333333,
             "#9c179e"
            ],
            [
             0.4444444444444444,
             "#bd3786"
            ],
            [
             0.5555555555555556,
             "#d8576b"
            ],
            [
             0.6666666666666666,
             "#ed7953"
            ],
            [
             0.7777777777777778,
             "#fb9f3a"
            ],
            [
             0.8888888888888888,
             "#fdca26"
            ],
            [
             1,
             "#f0f921"
            ]
           ]
          },
          "colorway": [
           "#636efa",
           "#EF553B",
           "#00cc96",
           "#ab63fa",
           "#FFA15A",
           "#19d3f3",
           "#FF6692",
           "#B6E880",
           "#FF97FF",
           "#FECB52"
          ],
          "font": {
           "color": "#2a3f5f"
          },
          "geo": {
           "bgcolor": "white",
           "lakecolor": "white",
           "landcolor": "#E5ECF6",
           "showlakes": true,
           "showland": true,
           "subunitcolor": "white"
          },
          "hoverlabel": {
           "align": "left"
          },
          "hovermode": "closest",
          "mapbox": {
           "style": "light"
          },
          "paper_bgcolor": "white",
          "plot_bgcolor": "#E5ECF6",
          "polar": {
           "angularaxis": {
            "gridcolor": "white",
            "linecolor": "white",
            "ticks": ""
           },
           "bgcolor": "#E5ECF6",
           "radialaxis": {
            "gridcolor": "white",
            "linecolor": "white",
            "ticks": ""
           }
          },
          "scene": {
           "xaxis": {
            "backgroundcolor": "#E5ECF6",
            "gridcolor": "white",
            "gridwidth": 2,
            "linecolor": "white",
            "showbackground": true,
            "ticks": "",
            "zerolinecolor": "white"
           },
           "yaxis": {
            "backgroundcolor": "#E5ECF6",
            "gridcolor": "white",
            "gridwidth": 2,
            "linecolor": "white",
            "showbackground": true,
            "ticks": "",
            "zerolinecolor": "white"
           },
           "zaxis": {
            "backgroundcolor": "#E5ECF6",
            "gridcolor": "white",
            "gridwidth": 2,
            "linecolor": "white",
            "showbackground": true,
            "ticks": "",
            "zerolinecolor": "white"
           }
          },
          "shapedefaults": {
           "line": {
            "color": "#2a3f5f"
           }
          },
          "ternary": {
           "aaxis": {
            "gridcolor": "white",
            "linecolor": "white",
            "ticks": ""
           },
           "baxis": {
            "gridcolor": "white",
            "linecolor": "white",
            "ticks": ""
           },
           "bgcolor": "#E5ECF6",
           "caxis": {
            "gridcolor": "white",
            "linecolor": "white",
            "ticks": ""
           }
          },
          "title": {
           "x": 0.05
          },
          "xaxis": {
           "automargin": true,
           "gridcolor": "white",
           "linecolor": "white",
           "ticks": "",
           "title": {
            "standoff": 15
           },
           "zerolinecolor": "white",
           "zerolinewidth": 2
          },
          "yaxis": {
           "automargin": true,
           "gridcolor": "white",
           "linecolor": "white",
           "ticks": "",
           "title": {
            "standoff": 15
           },
           "zerolinecolor": "white",
           "zerolinewidth": 2
          }
         }
        },
        "title": {
         "text": "GBP_CHF_MA_8_16"
        },
        "width": 1000,
        "xaxis": {
         "linecolor": "#3a4a54",
         "linewidth": 1,
         "showgrid": false,
         "zeroline": false
        },
        "yaxis": {
         "linecolor": "#3a4a54",
         "linewidth": 1,
         "showgrid": false,
         "zeroline": false
        }
       }
      }
     },
     "metadata": {},
     "output_type": "display_data"
    },
    {
     "data": {
      "application/vnd.plotly.v1+json": {
       "config": {
        "plotlyServerURL": "https://plot.ly"
       },
       "data": [
        {
         "line": {
          "color": "#3d825f",
          "shape": "spline",
          "width": 2
         },
         "mode": "lines",
         "name": "EUR_USD_MA_8_16",
         "type": "scatter",
         "x": [
          "2023-09-06T04:00:00+00:00",
          "2023-09-06T16:00:00+00:00",
          "2023-09-07T03:00:00+00:00",
          "2023-09-07T06:00:00+00:00",
          "2023-09-08T01:00:00+00:00",
          "2023-09-08T12:00:00+00:00",
          "2023-09-11T01:00:00+00:00",
          "2023-09-12T05:00:00+00:00",
          "2023-09-12T20:00:00+00:00",
          "2023-09-13T08:00:00+00:00",
          "2023-09-14T04:00:00+00:00",
          "2023-09-14T12:00:00+00:00",
          "2023-09-15T06:00:00+00:00",
          "2023-09-18T08:00:00+00:00",
          "2023-09-18T09:00:00+00:00",
          "2023-09-18T12:00:00+00:00",
          "2023-09-18T15:00:00+00:00",
          "2023-09-19T05:00:00+00:00",
          "2023-09-19T11:00:00+00:00",
          "2023-09-19T19:00:00+00:00",
          "2023-09-20T06:00:00+00:00",
          "2023-09-20T21:00:00+00:00",
          "2023-09-21T11:00:00+00:00",
          "2023-09-22T03:00:00+00:00",
          "2023-09-22T16:00:00+00:00",
          "2023-09-24T23:00:00+00:00",
          "2023-09-26T11:00:00+00:00",
          "2023-09-26T17:00:00+00:00",
          "2023-09-28T05:00:00+00:00",
          "2023-09-29T17:00:00+00:00",
          "2023-10-02T07:00:00+00:00",
          "2023-10-02T09:00:00+00:00",
          "2023-10-03T11:00:00+00:00",
          "2023-10-03T16:00:00+00:00",
          "2023-10-04T06:00:00+00:00",
          "2023-10-05T10:00:00+00:00",
          "2023-10-05T16:00:00+00:00",
          "2023-10-06T06:00:00+00:00",
          "2023-10-06T11:00:00+00:00",
          "2023-10-06T12:00:00+00:00",
          "2023-10-06T15:00:00+00:00",
          "2023-10-09T04:00:00+00:00",
          "2023-10-09T18:00:00+00:00",
          "2023-10-11T09:00:00+00:00",
          "2023-10-11T13:00:00+00:00",
          "2023-10-12T12:00:00+00:00",
          "2023-10-13T05:00:00+00:00",
          "2023-10-13T12:00:00+00:00",
          "2023-10-16T01:00:00+00:00",
          "2023-10-17T05:00:00+00:00",
          "2023-10-17T14:00:00+00:00",
          "2023-10-18T04:00:00+00:00",
          "2023-10-18T07:00:00+00:00",
          "2023-10-18T11:00:00+00:00",
          "2023-10-19T10:00:00+00:00",
          "2023-10-20T03:00:00+00:00",
          "2023-10-20T11:00:00+00:00",
          "2023-10-23T02:00:00+00:00",
          "2023-10-23T10:00:00+00:00",
          "2023-10-24T10:00:00+00:00",
          "2023-10-25T04:00:00+00:00",
          "2023-10-25T10:00:00+00:00",
          "2023-10-26T18:00:00+00:00",
          "2023-10-27T11:00:00+00:00",
          "2023-10-27T15:00:00+00:00",
          "2023-10-30T00:00:00+00:00",
          "2023-10-30T10:00:00+00:00",
          "2023-10-31T03:00:00+00:00",
          "2023-10-31T09:00:00+00:00",
          "2023-10-31T17:00:00+00:00",
          "2023-11-01T21:00:00+00:00",
          "2023-11-02T21:00:00+00:00",
          "2023-11-03T06:00:00+00:00",
          "2023-11-06T19:00:00+00:00",
          "2023-11-07T21:00:00+00:00",
          "2023-11-08T06:00:00+00:00",
          "2023-11-08T17:00:00+00:00",
          "2023-11-09T06:00:00+00:00",
          "2023-11-09T18:00:00+00:00",
          "2023-11-09T21:00:00+00:00",
          "2023-11-10T10:00:00+00:00",
          "2023-11-13T14:00:00+00:00",
          "2023-11-13T20:00:00+00:00",
          "2023-11-14T07:00:00+00:00",
          "2023-11-14T09:00:00+00:00",
          "2023-11-15T08:00:00+00:00",
          "2023-11-16T12:00:00+00:00",
          "2023-11-16T23:00:00+00:00",
          "2023-11-17T11:00:00+00:00",
          "2023-11-21T12:00:00+00:00",
          "2023-11-23T01:00:00+00:00",
          "2023-11-23T17:00:00+00:00",
          "2023-11-24T08:00:00+00:00",
          "2023-11-27T15:00:00+00:00",
          "2023-11-27T23:00:00+00:00",
          "2023-11-28T08:00:00+00:00",
          "2023-11-28T14:00:00+00:00",
          "2023-11-29T09:00:00+00:00",
          "2023-11-30T00:00:00+00:00",
          "2023-11-30T01:00:00+00:00",
          "2023-12-01T05:00:00+00:00",
          "2023-12-01T12:00:00+00:00",
          "2023-12-03T23:00:00+00:00",
          "2023-12-04T06:00:00+00:00",
          "2023-12-05T03:00:00+00:00",
          "2023-12-05T10:00:00+00:00",
          "2023-12-06T05:00:00+00:00",
          "2023-12-06T10:00:00+00:00",
          "2023-12-07T09:00:00+00:00",
          "2023-12-08T04:00:00+00:00",
          "2023-12-11T01:00:00+00:00",
          "2023-12-11T13:00:00+00:00",
          "2023-12-12T00:00:00+00:00",
          "2023-12-12T20:00:00+00:00",
          "2023-12-12T21:00:00+00:00",
          "2023-12-13T06:00:00+00:00",
          "2023-12-13T16:00:00+00:00",
          "2023-12-15T05:00:00+00:00",
          "2023-12-18T05:00:00+00:00",
          "2023-12-20T04:00:00+00:00",
          "2023-12-20T20:00:00+00:00",
          "2023-12-20T22:00:00+00:00",
          "2023-12-21T07:00:00+00:00",
          "2023-12-22T07:00:00+00:00",
          "2023-12-22T11:00:00+00:00",
          "2023-12-25T22:00:00+00:00",
          "2023-12-26T03:00:00+00:00",
          "2023-12-26T11:00:00+00:00",
          "2023-12-26T17:00:00+00:00",
          "2023-12-27T07:00:00+00:00",
          "2023-12-27T08:00:00+00:00",
          "2023-12-28T14:00:00+00:00",
          "2023-12-29T07:00:00+00:00",
          "2023-12-29T09:00:00+00:00",
          "2024-01-03T05:00:00+00:00",
          "2024-01-03T11:00:00+00:00",
          "2024-01-04T01:00:00+00:00",
          "2024-01-04T22:00:00+00:00",
          "2024-01-05T17:00:00+00:00",
          "2024-01-08T03:00:00+00:00",
          "2024-01-08T13:00:00+00:00",
          "2024-01-09T01:00:00+00:00",
          "2024-01-09T08:00:00+00:00",
          "2024-01-09T09:00:00+00:00",
          "2024-01-10T05:00:00+00:00",
          "2024-01-11T13:00:00+00:00",
          "2024-01-11T23:00:00+00:00",
          "2024-01-12T09:00:00+00:00",
          "2024-01-15T06:00:00+00:00",
          "2024-01-15T12:00:00+00:00",
          "2024-01-15T22:00:00+00:00",
          "2024-01-16T00:00:00+00:00",
          "2024-01-17T04:00:00+00:00",
          "2024-01-17T05:00:00+00:00",
          "2024-01-17T22:00:00+00:00",
          "2024-01-18T12:00:00+00:00",
          "2024-01-19T01:00:00+00:00",
          "2024-01-19T12:00:00+00:00",
          "2024-01-19T17:00:00+00:00",
          "2024-01-22T11:00:00+00:00",
          "2024-01-23T05:00:00+00:00",
          "2024-01-23T13:00:00+00:00",
          "2024-01-24T02:00:00+00:00",
          "2024-01-24T22:00:00+00:00",
          "2024-01-25T09:00:00+00:00",
          "2024-01-25T16:00:00+00:00",
          "2024-01-26T04:00:00+00:00",
          "2024-01-26T07:00:00+00:00",
          "2024-01-26T11:00:00+00:00",
          "2024-01-28T23:00:00+00:00",
          "2024-01-29T23:00:00+00:00",
          "2024-01-30T08:00:00+00:00",
          "2024-01-30T14:00:00+00:00",
          "2024-01-31T02:00:00+00:00",
          "2024-01-31T14:00:00+00:00",
          "2024-01-31T22:00:00+00:00",
          "2024-02-01T15:00:00+00:00",
          "2024-02-02T13:00:00+00:00",
          "2024-02-06T01:00:00+00:00",
          "2024-02-06T12:00:00+00:00",
          "2024-02-06T19:00:00+00:00",
          "2024-02-07T22:00:00+00:00",
          "2024-02-07T23:00:00+00:00",
          "2024-02-08T12:00:00+00:00",
          "2024-02-08T21:00:00+00:00",
          "2024-02-09T06:00:00+00:00",
          "2024-02-09T14:00:00+00:00",
          "2024-02-12T09:00:00+00:00",
          "2024-02-12T23:00:00+00:00",
          "2024-02-13T02:00:00+00:00",
          "2024-02-13T11:00:00+00:00",
          "2024-02-13T13:00:00+00:00",
          "2024-02-14T06:00:00+00:00",
          "2024-02-14T11:00:00+00:00",
          "2024-02-14T16:00:00+00:00",
          "2024-02-15T08:00:00+00:00",
          "2024-02-15T09:00:00+00:00",
          "2024-02-16T04:00:00+00:00",
          "2024-02-16T12:00:00+00:00",
          "2024-02-19T09:00:00+00:00",
          "2024-02-19T22:00:00+00:00",
          "2024-02-20T04:00:00+00:00",
          "2024-02-20T10:00:00+00:00",
          "2024-02-21T00:00:00+00:00",
          "2024-02-21T06:00:00+00:00",
          "2024-02-21T10:00:00+00:00",
          "2024-02-21T19:00:00+00:00",
          "2024-02-22T16:00:00+00:00",
          "2024-02-23T03:00:00+00:00",
          "2024-02-23T20:00:00+00:00",
          "2024-02-26T08:00:00+00:00",
          "2024-02-27T00:00:00+00:00",
          "2024-02-27T03:00:00+00:00",
          "2024-02-27T15:00:00+00:00",
          "2024-02-28T17:00:00+00:00",
          "2024-02-29T05:00:00+00:00",
          "2024-02-29T09:00:00+00:00",
          "2024-02-29T12:00:00+00:00",
          "2024-02-29T13:00:00+00:00",
          "2024-02-29T16:00:00+00:00",
          "2024-03-01T05:00:00+00:00",
          "2024-03-01T13:00:00+00:00",
          "2024-03-01T15:00:00+00:00",
          "2024-03-05T01:00:00+00:00",
          "2024-03-05T15:00:00+00:00",
          "2024-03-06T01:00:00+00:00",
          "2024-03-06T08:00:00+00:00",
          "2024-03-07T05:00:00+00:00",
          "2024-03-07T09:00:00+00:00",
          "2024-03-07T11:00:00+00:00",
          "2024-03-07T15:00:00+00:00",
          "2024-03-08T08:00:00+00:00",
          "2024-03-08T16:00:00+00:00",
          "2024-03-10T22:00:00+00:00",
          "2024-03-11T06:00:00+00:00",
          "2024-03-11T12:00:00+00:00",
          "2024-03-12T02:00:00+00:00",
          "2024-03-12T12:00:00+00:00",
          "2024-03-12T23:00:00+00:00",
          "2024-03-14T05:00:00+00:00",
          "2024-03-15T10:00:00+00:00",
          "2024-03-17T22:00:00+00:00",
          "2024-03-18T07:00:00+00:00",
          "2024-03-18T17:00:00+00:00",
          "2024-03-19T18:00:00+00:00",
          "2024-03-20T09:00:00+00:00",
          "2024-03-20T18:00:00+00:00",
          "2024-03-21T09:00:00+00:00",
          "2024-03-25T04:00:00+00:00",
          "2024-03-26T17:00:00+00:00",
          "2024-03-28T02:00:00+00:00",
          "2024-03-28T03:00:00+00:00",
          "2024-03-29T13:00:00+00:00",
          "2024-04-01T00:00:00+00:00",
          "2024-04-02T11:00:00+00:00",
          "2024-04-04T21:00:00+00:00",
          "2024-04-05T11:00:00+00:00",
          "2024-04-05T12:00:00+00:00",
          "2024-04-07T21:00:00+00:00",
          "2024-04-08T05:00:00+00:00",
          "2024-04-08T08:00:00+00:00",
          "2024-04-08T09:00:00+00:00",
          "2024-04-08T14:00:00+00:00",
          "2024-04-09T07:00:00+00:00",
          "2024-04-09T11:00:00+00:00",
          "2024-04-09T20:00:00+00:00",
          "2024-04-10T11:00:00+00:00",
          "2024-04-10T12:00:00+00:00",
          "2024-04-11T04:00:00+00:00",
          "2024-04-11T08:00:00+00:00",
          "2024-04-12T00:00:00+00:00",
          "2024-04-12T03:00:00+00:00",
          "2024-04-15T01:00:00+00:00",
          "2024-04-15T14:00:00+00:00",
          "2024-04-16T11:00:00+00:00",
          "2024-04-16T21:00:00+00:00",
          "2024-04-17T06:00:00+00:00",
          "2024-04-18T13:00:00+00:00",
          "2024-04-19T09:00:00+00:00",
          "2024-04-21T22:00:00+00:00",
          "2024-04-22T02:00:00+00:00",
          "2024-04-22T11:00:00+00:00",
          "2024-04-22T21:00:00+00:00",
          "2024-04-24T08:00:00+00:00",
          "2024-04-24T19:00:00+00:00",
          "2024-04-25T18:00:00+00:00",
          "2024-04-25T20:00:00+00:00",
          "2024-04-26T05:00:00+00:00",
          "2024-04-26T09:00:00+00:00"
         ],
         "y": [
          -15.000000000000568,
          -24.200000000000887,
          -37.400000000000766,
          -37.80000000000116,
          -52.60000000000042,
          -69.79999999999986,
          -53.099999999999255,
          -73.39999999999901,
          -94.79999999999932,
          -106.799999999998,
          -176.8999999999976,
          -160.49999999999895,
          -157.19999999999953,
          -166.1000000000001,
          -182.10000000000056,
          -219.10000000000093,
          -233.20000000000226,
          -262.2000000000035,
          -290.40000000000396,
          -291.70000000000357,
          -309.2000000000028,
          -280.60000000000196,
          -264.8000000000006,
          -268.9999999999992,
          -276.39999999999884,
          -227.5999999999989,
          -256.09999999999906,
          -194.09999999999923,
          -138.1999999999994,
          -145.59999999999903,
          -178.89999999999958,
          -113.40000000000124,
          -124.60000000000134,
          -122.7,
          -64.39999999999998,
          -81.60000000000164,
          -82.80000000000284,
          -114.00000000000296,
          -183.70000000000215,
          -282.2000000000013,
          -326.8000000000004,
          -341.00000000000017,
          -300.9000000000017,
          -325.20000000000323,
          -372.30000000000314,
          -339.10000000000326,
          -350.1000000000043,
          -334.6000000000049,
          -312.400000000006,
          -343.400000000007,
          -343.00000000000665,
          -346.3000000000061,
          -364.5000000000054,
          -355.1000000000038,
          -330.2000000000027,
          -345.000000000002,
          -362.30000000000206,
          -393.00000000000335,
          -372.00000000000347,
          -352.800000000002,
          -384.70000000000005,
          -371.3999999999995,
          -395.09999999999934,
          -448.9999999999994,
          -477.60000000000025,
          -489.9000000000009,
          -470.2000000000006,
          -544,
          -637.1999999999999,
          -631.8000000000001,
          -580.5999999999999,
          -590.9999999999992,
          -498.099999999999,
          -473.79999999999967,
          -492.0000000000012,
          -518.0000000000027,
          -518.200000000004,
          -505.1000000000048,
          -531.5000000000045,
          -550.4000000000041,
          -560.4000000000029,
          -582.8000000000009,
          -575.7999999999994,
          -585.5999999999992,
          -431.59999999999843,
          -403.9999999999975,
          -393.3999999999969,
          -406.3999999999955,
          -324.29999999999495,
          -271.1999999999957,
          -260.399999999996,
          -273.6999999999965,
          -260.3999999999982,
          -286.99999999999926,
          -298.4999999999991,
          -329.39999999999947,
          -333.399999999999,
          -341.4999999999988,
          -354.60000000000025,
          -296.0000000000005,
          -330.2000000000003,
          -339.2000000000015,
          -356.20000000000186,
          -327.8000000000001,
          -335.7999999999993,
          -304.59999999999917,
          -314.69999999999874,
          -303.399999999998,
          -300.19999999999703,
          -284.59999999999695,
          -288.3999999999974,
          -289.7999999999977,
          -257.2999999999979,
          -254.3999999999989,
          -264.9999999999995,
          -272.99999999999864,
          -80.59999999999718,
          -11.799999999997212,
          41.4000000000027,
          78.7000000000028,
          91.00000000000122,
          87.60000000000116,
          140.80000000000106,
          115.4000000000012,
          103.40000000000252,
          89.5000000000025,
          75.60000000000248,
          54.300000000002825,
          60.40000000000282,
          54.60000000000257,
          110.5000000000024,
          147.4000000000021,
          130.40000000000177,
          228.00000000000168,
          196.20000000000206,
          197.9000000000021,
          227.8000000000026,
          229.30000000000354,
          216.000000000003,
          198.00000000000279,
          208.6000000000034,
          220.400000000003,
          214.80000000000183,
          226.60000000000142,
          233.80000000000194,
          191.00000000000134,
          171.20000000000041,
          169.80000000000013,
          159.5999999999999,
          163.40000000000038,
          133.20000000000016,
          182.0000000000001,
          175.79999999999947,
          158.1999999999974,
          153.39999999999705,
          145.39999999999793,
          142.39999999999827,
          135.19999999999774,
          135.59999999999815,
          118.7999999999991,
          85.7999999999983,
          102.79999999999643,
          131.8999999999961,
          121.99999999999787,
          62.299999999999784,
          58.899999999999714,
          38.69999999999838,
          -16.400000000002876,
          -48.60000000000288,
          -40.000000000002046,
          -51.7000000000032,
          -80.10000000000495,
          -112.20000000000653,
          -173.80000000000817,
          -239.8000000000098,
          -252.50000000001083,
          -272.000000000012,
          -210.20000000001346,
          -219.60000000001287,
          -233.1000000000125,
          -209.7000000000124,
          -212.30000000001166,
          -231.00000000001205,
          -252.40000000001237,
          -255.9000000000131,
          -262.90000000001453,
          -275.40000000001424,
          -278.2000000000126,
          -285.90000000001197,
          -299.6000000000129,
          -369.0000000000146,
          -376.90000000001527,
          -385.40000000001544,
          -411.20000000001573,
          -414.2000000000154,
          -416.6000000000156,
          -390.5000000000156,
          -399.4000000000161,
          -392.70000000001664,
          -396.60000000001554,
          -406.20000000001403,
          -441.0000000000133,
          -434.60000000001355,
          -435.7000000000141,
          -446.1000000000156,
          -461.60000000001725,
          -464.00000000001745,
          -475.20000000001755,
          -478.2000000000172,
          -488.000000000017,
          -472.7000000000167,
          -478.0000000000159,
          -483.80000000001615,
          -475.20000000001534,
          -478.0000000000137,
          -493.00000000001205,
          -514.6000000000115,
          -523.500000000012,
          -555.1000000000125,
          -561.0000000000134,
          -560.2000000000148,
          -582.4000000000159,
          -568.000000000017,
          -589.8000000000178,
          -617.3000000000181,
          -646.6000000000191,
          -619.4000000000208,
          -620.7000000000227,
          -628.4000000000243,
          -664.4000000000248,
          -658.6000000000245,
          -663.2000000000235,
          -666.0000000000218,
          -670.4000000000218,
          -682.9000000000216,
          -689.7000000000218,
          -705.8000000000229,
          -712.400000000024,
          -699.6000000000245,
          -651.2000000000249,
          -655.8000000000262,
          -661.7000000000271,
          -685.4000000000269,
          -679.3000000000269,
          -702.8000000000277,
          -778.0000000000274,
          -779.4000000000277,
          -679.7000000000273,
          -662.5000000000257,
          -654.3000000000253,
          -655.0000000000255,
          -631.7000000000261,
          -638.6000000000269,
          -598.9000000000266,
          -512.7000000000259,
          -509.8000000000246,
          -535.4000000000236,
          -564.0000000000244,
          -567.4000000000245,
          -556.4000000000235,
          -551.9000000000229,
          -577.1000000000215,
          -577.2000000000199,
          -585.4000000000203,
          -589.8000000000203,
          -588.40000000002,
          -663.2000000000215,
          -628.500000000023,
          -634.0000000000234,
          -619.4000000000233,
          -628.4000000000223,
          -561.0000000000203,
          -583.7000000000203,
          -599.400000000021,
          -625.6000000000216,
          -644.0000000000223,
          -627.8000000000227,
          -636.0000000000231,
          -636.2000000000222,
          -641.3000000000224,
          -670.1000000000223,
          -686.6000000000216,
          -655.0000000000211,
          -672.2000000000206,
          -645.6000000000217,
          -648.4000000000224,
          -652.3000000000213,
          -662.2000000000218,
          -718.2000000000222
         ]
        }
       ],
       "layout": {
        "font": {
         "color": "#e1e1e1",
         "size": 10
        },
        "height": 400,
        "margin": {
         "b": 10,
         "l": 15,
         "r": 15
        },
        "paper_bgcolor": "#1e1e1e",
        "plot_bgcolor": "#1e1e1e",
        "template": {
         "data": {
          "bar": [
           {
            "error_x": {
             "color": "#2a3f5f"
            },
            "error_y": {
             "color": "#2a3f5f"
            },
            "marker": {
             "line": {
              "color": "#E5ECF6",
              "width": 0.5
             },
             "pattern": {
              "fillmode": "overlay",
              "size": 10,
              "solidity": 0.2
             }
            },
            "type": "bar"
           }
          ],
          "barpolar": [
           {
            "marker": {
             "line": {
              "color": "#E5ECF6",
              "width": 0.5
             },
             "pattern": {
              "fillmode": "overlay",
              "size": 10,
              "solidity": 0.2
             }
            },
            "type": "barpolar"
           }
          ],
          "carpet": [
           {
            "aaxis": {
             "endlinecolor": "#2a3f5f",
             "gridcolor": "white",
             "linecolor": "white",
             "minorgridcolor": "white",
             "startlinecolor": "#2a3f5f"
            },
            "baxis": {
             "endlinecolor": "#2a3f5f",
             "gridcolor": "white",
             "linecolor": "white",
             "minorgridcolor": "white",
             "startlinecolor": "#2a3f5f"
            },
            "type": "carpet"
           }
          ],
          "choropleth": [
           {
            "colorbar": {
             "outlinewidth": 0,
             "ticks": ""
            },
            "type": "choropleth"
           }
          ],
          "contour": [
           {
            "colorbar": {
             "outlinewidth": 0,
             "ticks": ""
            },
            "colorscale": [
             [
              0,
              "#0d0887"
             ],
             [
              0.1111111111111111,
              "#46039f"
             ],
             [
              0.2222222222222222,
              "#7201a8"
             ],
             [
              0.3333333333333333,
              "#9c179e"
             ],
             [
              0.4444444444444444,
              "#bd3786"
             ],
             [
              0.5555555555555556,
              "#d8576b"
             ],
             [
              0.6666666666666666,
              "#ed7953"
             ],
             [
              0.7777777777777778,
              "#fb9f3a"
             ],
             [
              0.8888888888888888,
              "#fdca26"
             ],
             [
              1,
              "#f0f921"
             ]
            ],
            "type": "contour"
           }
          ],
          "contourcarpet": [
           {
            "colorbar": {
             "outlinewidth": 0,
             "ticks": ""
            },
            "type": "contourcarpet"
           }
          ],
          "heatmap": [
           {
            "colorbar": {
             "outlinewidth": 0,
             "ticks": ""
            },
            "colorscale": [
             [
              0,
              "#0d0887"
             ],
             [
              0.1111111111111111,
              "#46039f"
             ],
             [
              0.2222222222222222,
              "#7201a8"
             ],
             [
              0.3333333333333333,
              "#9c179e"
             ],
             [
              0.4444444444444444,
              "#bd3786"
             ],
             [
              0.5555555555555556,
              "#d8576b"
             ],
             [
              0.6666666666666666,
              "#ed7953"
             ],
             [
              0.7777777777777778,
              "#fb9f3a"
             ],
             [
              0.8888888888888888,
              "#fdca26"
             ],
             [
              1,
              "#f0f921"
             ]
            ],
            "type": "heatmap"
           }
          ],
          "heatmapgl": [
           {
            "colorbar": {
             "outlinewidth": 0,
             "ticks": ""
            },
            "colorscale": [
             [
              0,
              "#0d0887"
             ],
             [
              0.1111111111111111,
              "#46039f"
             ],
             [
              0.2222222222222222,
              "#7201a8"
             ],
             [
              0.3333333333333333,
              "#9c179e"
             ],
             [
              0.4444444444444444,
              "#bd3786"
             ],
             [
              0.5555555555555556,
              "#d8576b"
             ],
             [
              0.6666666666666666,
              "#ed7953"
             ],
             [
              0.7777777777777778,
              "#fb9f3a"
             ],
             [
              0.8888888888888888,
              "#fdca26"
             ],
             [
              1,
              "#f0f921"
             ]
            ],
            "type": "heatmapgl"
           }
          ],
          "histogram": [
           {
            "marker": {
             "pattern": {
              "fillmode": "overlay",
              "size": 10,
              "solidity": 0.2
             }
            },
            "type": "histogram"
           }
          ],
          "histogram2d": [
           {
            "colorbar": {
             "outlinewidth": 0,
             "ticks": ""
            },
            "colorscale": [
             [
              0,
              "#0d0887"
             ],
             [
              0.1111111111111111,
              "#46039f"
             ],
             [
              0.2222222222222222,
              "#7201a8"
             ],
             [
              0.3333333333333333,
              "#9c179e"
             ],
             [
              0.4444444444444444,
              "#bd3786"
             ],
             [
              0.5555555555555556,
              "#d8576b"
             ],
             [
              0.6666666666666666,
              "#ed7953"
             ],
             [
              0.7777777777777778,
              "#fb9f3a"
             ],
             [
              0.8888888888888888,
              "#fdca26"
             ],
             [
              1,
              "#f0f921"
             ]
            ],
            "type": "histogram2d"
           }
          ],
          "histogram2dcontour": [
           {
            "colorbar": {
             "outlinewidth": 0,
             "ticks": ""
            },
            "colorscale": [
             [
              0,
              "#0d0887"
             ],
             [
              0.1111111111111111,
              "#46039f"
             ],
             [
              0.2222222222222222,
              "#7201a8"
             ],
             [
              0.3333333333333333,
              "#9c179e"
             ],
             [
              0.4444444444444444,
              "#bd3786"
             ],
             [
              0.5555555555555556,
              "#d8576b"
             ],
             [
              0.6666666666666666,
              "#ed7953"
             ],
             [
              0.7777777777777778,
              "#fb9f3a"
             ],
             [
              0.8888888888888888,
              "#fdca26"
             ],
             [
              1,
              "#f0f921"
             ]
            ],
            "type": "histogram2dcontour"
           }
          ],
          "mesh3d": [
           {
            "colorbar": {
             "outlinewidth": 0,
             "ticks": ""
            },
            "type": "mesh3d"
           }
          ],
          "parcoords": [
           {
            "line": {
             "colorbar": {
              "outlinewidth": 0,
              "ticks": ""
             }
            },
            "type": "parcoords"
           }
          ],
          "pie": [
           {
            "automargin": true,
            "type": "pie"
           }
          ],
          "scatter": [
           {
            "fillpattern": {
             "fillmode": "overlay",
             "size": 10,
             "solidity": 0.2
            },
            "type": "scatter"
           }
          ],
          "scatter3d": [
           {
            "line": {
             "colorbar": {
              "outlinewidth": 0,
              "ticks": ""
             }
            },
            "marker": {
             "colorbar": {
              "outlinewidth": 0,
              "ticks": ""
             }
            },
            "type": "scatter3d"
           }
          ],
          "scattercarpet": [
           {
            "marker": {
             "colorbar": {
              "outlinewidth": 0,
              "ticks": ""
             }
            },
            "type": "scattercarpet"
           }
          ],
          "scattergeo": [
           {
            "marker": {
             "colorbar": {
              "outlinewidth": 0,
              "ticks": ""
             }
            },
            "type": "scattergeo"
           }
          ],
          "scattergl": [
           {
            "marker": {
             "colorbar": {
              "outlinewidth": 0,
              "ticks": ""
             }
            },
            "type": "scattergl"
           }
          ],
          "scattermapbox": [
           {
            "marker": {
             "colorbar": {
              "outlinewidth": 0,
              "ticks": ""
             }
            },
            "type": "scattermapbox"
           }
          ],
          "scatterpolar": [
           {
            "marker": {
             "colorbar": {
              "outlinewidth": 0,
              "ticks": ""
             }
            },
            "type": "scatterpolar"
           }
          ],
          "scatterpolargl": [
           {
            "marker": {
             "colorbar": {
              "outlinewidth": 0,
              "ticks": ""
             }
            },
            "type": "scatterpolargl"
           }
          ],
          "scatterternary": [
           {
            "marker": {
             "colorbar": {
              "outlinewidth": 0,
              "ticks": ""
             }
            },
            "type": "scatterternary"
           }
          ],
          "surface": [
           {
            "colorbar": {
             "outlinewidth": 0,
             "ticks": ""
            },
            "colorscale": [
             [
              0,
              "#0d0887"
             ],
             [
              0.1111111111111111,
              "#46039f"
             ],
             [
              0.2222222222222222,
              "#7201a8"
             ],
             [
              0.3333333333333333,
              "#9c179e"
             ],
             [
              0.4444444444444444,
              "#bd3786"
             ],
             [
              0.5555555555555556,
              "#d8576b"
             ],
             [
              0.6666666666666666,
              "#ed7953"
             ],
             [
              0.7777777777777778,
              "#fb9f3a"
             ],
             [
              0.8888888888888888,
              "#fdca26"
             ],
             [
              1,
              "#f0f921"
             ]
            ],
            "type": "surface"
           }
          ],
          "table": [
           {
            "cells": {
             "fill": {
              "color": "#EBF0F8"
             },
             "line": {
              "color": "white"
             }
            },
            "header": {
             "fill": {
              "color": "#C8D4E3"
             },
             "line": {
              "color": "white"
             }
            },
            "type": "table"
           }
          ]
         },
         "layout": {
          "annotationdefaults": {
           "arrowcolor": "#2a3f5f",
           "arrowhead": 0,
           "arrowwidth": 1
          },
          "autotypenumbers": "strict",
          "coloraxis": {
           "colorbar": {
            "outlinewidth": 0,
            "ticks": ""
           }
          },
          "colorscale": {
           "diverging": [
            [
             0,
             "#8e0152"
            ],
            [
             0.1,
             "#c51b7d"
            ],
            [
             0.2,
             "#de77ae"
            ],
            [
             0.3,
             "#f1b6da"
            ],
            [
             0.4,
             "#fde0ef"
            ],
            [
             0.5,
             "#f7f7f7"
            ],
            [
             0.6,
             "#e6f5d0"
            ],
            [
             0.7,
             "#b8e186"
            ],
            [
             0.8,
             "#7fbc41"
            ],
            [
             0.9,
             "#4d9221"
            ],
            [
             1,
             "#276419"
            ]
           ],
           "sequential": [
            [
             0,
             "#0d0887"
            ],
            [
             0.1111111111111111,
             "#46039f"
            ],
            [
             0.2222222222222222,
             "#7201a8"
            ],
            [
             0.3333333333333333,
             "#9c179e"
            ],
            [
             0.4444444444444444,
             "#bd3786"
            ],
            [
             0.5555555555555556,
             "#d8576b"
            ],
            [
             0.6666666666666666,
             "#ed7953"
            ],
            [
             0.7777777777777778,
             "#fb9f3a"
            ],
            [
             0.8888888888888888,
             "#fdca26"
            ],
            [
             1,
             "#f0f921"
            ]
           ],
           "sequentialminus": [
            [
             0,
             "#0d0887"
            ],
            [
             0.1111111111111111,
             "#46039f"
            ],
            [
             0.2222222222222222,
             "#7201a8"
            ],
            [
             0.3333333333333333,
             "#9c179e"
            ],
            [
             0.4444444444444444,
             "#bd3786"
            ],
            [
             0.5555555555555556,
             "#d8576b"
            ],
            [
             0.6666666666666666,
             "#ed7953"
            ],
            [
             0.7777777777777778,
             "#fb9f3a"
            ],
            [
             0.8888888888888888,
             "#fdca26"
            ],
            [
             1,
             "#f0f921"
            ]
           ]
          },
          "colorway": [
           "#636efa",
           "#EF553B",
           "#00cc96",
           "#ab63fa",
           "#FFA15A",
           "#19d3f3",
           "#FF6692",
           "#B6E880",
           "#FF97FF",
           "#FECB52"
          ],
          "font": {
           "color": "#2a3f5f"
          },
          "geo": {
           "bgcolor": "white",
           "lakecolor": "white",
           "landcolor": "#E5ECF6",
           "showlakes": true,
           "showland": true,
           "subunitcolor": "white"
          },
          "hoverlabel": {
           "align": "left"
          },
          "hovermode": "closest",
          "mapbox": {
           "style": "light"
          },
          "paper_bgcolor": "white",
          "plot_bgcolor": "#E5ECF6",
          "polar": {
           "angularaxis": {
            "gridcolor": "white",
            "linecolor": "white",
            "ticks": ""
           },
           "bgcolor": "#E5ECF6",
           "radialaxis": {
            "gridcolor": "white",
            "linecolor": "white",
            "ticks": ""
           }
          },
          "scene": {
           "xaxis": {
            "backgroundcolor": "#E5ECF6",
            "gridcolor": "white",
            "gridwidth": 2,
            "linecolor": "white",
            "showbackground": true,
            "ticks": "",
            "zerolinecolor": "white"
           },
           "yaxis": {
            "backgroundcolor": "#E5ECF6",
            "gridcolor": "white",
            "gridwidth": 2,
            "linecolor": "white",
            "showbackground": true,
            "ticks": "",
            "zerolinecolor": "white"
           },
           "zaxis": {
            "backgroundcolor": "#E5ECF6",
            "gridcolor": "white",
            "gridwidth": 2,
            "linecolor": "white",
            "showbackground": true,
            "ticks": "",
            "zerolinecolor": "white"
           }
          },
          "shapedefaults": {
           "line": {
            "color": "#2a3f5f"
           }
          },
          "ternary": {
           "aaxis": {
            "gridcolor": "white",
            "linecolor": "white",
            "ticks": ""
           },
           "baxis": {
            "gridcolor": "white",
            "linecolor": "white",
            "ticks": ""
           },
           "bgcolor": "#E5ECF6",
           "caxis": {
            "gridcolor": "white",
            "linecolor": "white",
            "ticks": ""
           }
          },
          "title": {
           "x": 0.05
          },
          "xaxis": {
           "automargin": true,
           "gridcolor": "white",
           "linecolor": "white",
           "ticks": "",
           "title": {
            "standoff": 15
           },
           "zerolinecolor": "white",
           "zerolinewidth": 2
          },
          "yaxis": {
           "automargin": true,
           "gridcolor": "white",
           "linecolor": "white",
           "ticks": "",
           "title": {
            "standoff": 15
           },
           "zerolinecolor": "white",
           "zerolinewidth": 2
          }
         }
        },
        "title": {
         "text": "EUR_USD_MA_8_16"
        },
        "width": 1000,
        "xaxis": {
         "linecolor": "#3a4a54",
         "linewidth": 1,
         "showgrid": false,
         "zeroline": false
        },
        "yaxis": {
         "linecolor": "#3a4a54",
         "linewidth": 1,
         "showgrid": false,
         "zeroline": false
        }
       }
      }
     },
     "metadata": {},
     "output_type": "display_data"
    },
    {
     "data": {
      "application/vnd.plotly.v1+json": {
       "config": {
        "plotlyServerURL": "https://plot.ly"
       },
       "data": [
        {
         "line": {
          "color": "#3d825f",
          "shape": "spline",
          "width": 2
         },
         "mode": "lines",
         "name": "EUR_CHF_MA_8_16",
         "type": "scatter",
         "x": [
          "2023-09-05T23:00:00+00:00",
          "2023-09-06T23:00:00+00:00",
          "2023-09-08T15:00:00+00:00",
          "2023-09-12T07:00:00+00:00",
          "2023-09-12T18:00:00+00:00",
          "2023-09-13T09:00:00+00:00",
          "2023-09-13T14:00:00+00:00",
          "2023-09-14T02:00:00+00:00",
          "2023-09-14T04:00:00+00:00",
          "2023-09-14T05:00:00+00:00",
          "2023-09-14T10:00:00+00:00",
          "2023-09-14T12:00:00+00:00",
          "2023-09-15T07:00:00+00:00",
          "2023-09-18T07:00:00+00:00",
          "2023-09-18T15:00:00+00:00",
          "2023-09-19T06:00:00+00:00",
          "2023-09-19T15:00:00+00:00",
          "2023-09-19T23:00:00+00:00",
          "2023-09-20T06:00:00+00:00",
          "2023-09-20T19:00:00+00:00",
          "2023-09-21T08:00:00+00:00",
          "2023-09-21T22:00:00+00:00",
          "2023-09-22T00:00:00+00:00",
          "2023-09-22T07:00:00+00:00",
          "2023-09-22T09:00:00+00:00",
          "2023-09-25T16:00:00+00:00",
          "2023-09-26T03:00:00+00:00",
          "2023-09-27T13:00:00+00:00",
          "2023-09-28T00:00:00+00:00",
          "2023-09-28T07:00:00+00:00",
          "2023-09-28T16:00:00+00:00",
          "2023-09-28T22:00:00+00:00",
          "2023-09-29T14:00:00+00:00",
          "2023-10-02T04:00:00+00:00",
          "2023-10-02T06:00:00+00:00",
          "2023-10-02T07:00:00+00:00",
          "2023-10-03T07:00:00+00:00",
          "2023-10-03T20:00:00+00:00",
          "2023-10-04T05:00:00+00:00",
          "2023-10-04T12:00:00+00:00",
          "2023-10-05T10:00:00+00:00",
          "2023-10-05T17:00:00+00:00",
          "2023-10-06T01:00:00+00:00",
          "2023-10-06T13:00:00+00:00",
          "2023-10-06T20:00:00+00:00",
          "2023-10-08T21:00:00+00:00",
          "2023-10-10T01:00:00+00:00",
          "2023-10-10T05:00:00+00:00",
          "2023-10-10T10:00:00+00:00",
          "2023-10-10T23:00:00+00:00",
          "2023-10-12T20:00:00+00:00",
          "2023-10-13T04:00:00+00:00",
          "2023-10-13T08:00:00+00:00",
          "2023-10-13T10:00:00+00:00",
          "2023-10-16T04:00:00+00:00",
          "2023-10-16T18:00:00+00:00",
          "2023-10-17T01:00:00+00:00",
          "2023-10-18T01:00:00+00:00",
          "2023-10-19T03:00:00+00:00",
          "2023-10-19T17:00:00+00:00",
          "2023-10-20T10:00:00+00:00",
          "2023-10-20T13:00:00+00:00",
          "2023-10-20T15:00:00+00:00",
          "2023-10-24T10:00:00+00:00",
          "2023-10-25T05:00:00+00:00",
          "2023-10-26T03:00:00+00:00",
          "2023-10-26T18:00:00+00:00",
          "2023-10-30T01:00:00+00:00",
          "2023-10-30T06:00:00+00:00",
          "2023-10-31T02:00:00+00:00",
          "2023-10-31T09:00:00+00:00",
          "2023-11-01T05:00:00+00:00",
          "2023-11-01T22:00:00+00:00",
          "2023-11-02T04:00:00+00:00",
          "2023-11-02T11:00:00+00:00",
          "2023-11-03T04:00:00+00:00",
          "2023-11-03T06:00:00+00:00",
          "2023-11-06T05:00:00+00:00",
          "2023-11-06T14:00:00+00:00",
          "2023-11-06T22:00:00+00:00",
          "2023-11-07T21:00:00+00:00",
          "2023-11-08T08:00:00+00:00",
          "2023-11-08T20:00:00+00:00",
          "2023-11-09T11:00:00+00:00",
          "2023-11-09T13:00:00+00:00",
          "2023-11-10T03:00:00+00:00",
          "2023-11-10T05:00:00+00:00",
          "2023-11-10T11:00:00+00:00",
          "2023-11-10T19:00:00+00:00",
          "2023-11-13T08:00:00+00:00",
          "2023-11-13T10:00:00+00:00",
          "2023-11-13T21:00:00+00:00",
          "2023-11-14T04:00:00+00:00",
          "2023-11-15T04:00:00+00:00",
          "2023-11-16T09:00:00+00:00",
          "2023-11-16T23:00:00+00:00",
          "2023-11-17T16:00:00+00:00",
          "2023-11-20T06:00:00+00:00",
          "2023-11-20T13:00:00+00:00",
          "2023-11-21T07:00:00+00:00",
          "2023-11-23T05:00:00+00:00",
          "2023-11-23T20:00:00+00:00",
          "2023-11-23T22:00:00+00:00",
          "2023-11-24T07:00:00+00:00",
          "2023-11-24T12:00:00+00:00",
          "2023-11-27T09:00:00+00:00",
          "2023-11-27T22:00:00+00:00",
          "2023-11-28T07:00:00+00:00",
          "2023-11-28T12:00:00+00:00",
          "2023-11-29T06:00:00+00:00",
          "2023-12-01T04:00:00+00:00",
          "2023-12-01T11:00:00+00:00",
          "2023-12-04T06:00:00+00:00",
          "2023-12-04T16:00:00+00:00",
          "2023-12-05T04:00:00+00:00",
          "2023-12-05T11:00:00+00:00",
          "2023-12-05T14:00:00+00:00",
          "2023-12-05T16:00:00+00:00",
          "2023-12-07T08:00:00+00:00",
          "2023-12-07T10:00:00+00:00",
          "2023-12-07T11:00:00+00:00",
          "2023-12-08T02:00:00+00:00",
          "2023-12-08T15:00:00+00:00",
          "2023-12-11T06:00:00+00:00",
          "2023-12-11T10:00:00+00:00",
          "2023-12-11T15:00:00+00:00",
          "2023-12-12T11:00:00+00:00",
          "2023-12-12T18:00:00+00:00",
          "2023-12-13T14:00:00+00:00",
          "2023-12-14T07:00:00+00:00",
          "2023-12-14T10:00:00+00:00",
          "2023-12-15T08:00:00+00:00",
          "2023-12-18T01:00:00+00:00",
          "2023-12-18T11:00:00+00:00",
          "2023-12-19T11:00:00+00:00",
          "2023-12-19T16:00:00+00:00",
          "2023-12-20T14:00:00+00:00",
          "2023-12-20T20:00:00+00:00",
          "2023-12-22T19:00:00+00:00",
          "2023-12-26T18:00:00+00:00",
          "2023-12-27T10:00:00+00:00",
          "2023-12-27T16:00:00+00:00",
          "2023-12-28T21:00:00+00:00",
          "2023-12-29T08:00:00+00:00",
          "2023-12-29T21:00:00+00:00",
          "2024-01-02T15:00:00+00:00",
          "2024-01-03T02:00:00+00:00",
          "2024-01-03T17:00:00+00:00",
          "2024-01-04T08:00:00+00:00",
          "2024-01-04T23:00:00+00:00",
          "2024-01-05T12:00:00+00:00",
          "2024-01-05T19:00:00+00:00",
          "2024-01-08T02:00:00+00:00",
          "2024-01-08T12:00:00+00:00",
          "2024-01-09T09:00:00+00:00",
          "2024-01-11T03:00:00+00:00",
          "2024-01-11T11:00:00+00:00",
          "2024-01-12T02:00:00+00:00",
          "2024-01-12T10:00:00+00:00",
          "2024-01-12T13:00:00+00:00",
          "2024-01-15T02:00:00+00:00",
          "2024-01-16T14:00:00+00:00",
          "2024-01-16T23:00:00+00:00",
          "2024-01-22T11:00:00+00:00",
          "2024-01-22T21:00:00+00:00",
          "2024-01-23T01:00:00+00:00",
          "2024-01-23T14:00:00+00:00",
          "2024-01-23T15:00:00+00:00",
          "2024-01-25T06:00:00+00:00",
          "2024-01-25T19:00:00+00:00",
          "2024-01-26T04:00:00+00:00",
          "2024-01-26T06:00:00+00:00",
          "2024-01-30T11:00:00+00:00",
          "2024-01-30T23:00:00+00:00",
          "2024-01-31T12:00:00+00:00",
          "2024-01-31T17:00:00+00:00",
          "2024-02-01T05:00:00+00:00",
          "2024-02-01T10:00:00+00:00",
          "2024-02-01T17:00:00+00:00",
          "2024-02-02T01:00:00+00:00",
          "2024-02-02T10:00:00+00:00",
          "2024-02-02T11:00:00+00:00",
          "2024-02-02T14:00:00+00:00",
          "2024-02-05T06:00:00+00:00",
          "2024-02-05T07:00:00+00:00",
          "2024-02-05T15:00:00+00:00",
          "2024-02-06T00:00:00+00:00",
          "2024-02-06T20:00:00+00:00",
          "2024-02-07T05:00:00+00:00",
          "2024-02-08T07:00:00+00:00",
          "2024-02-08T17:00:00+00:00",
          "2024-02-09T03:00:00+00:00",
          "2024-02-09T06:00:00+00:00",
          "2024-02-12T08:00:00+00:00",
          "2024-02-12T18:00:00+00:00",
          "2024-02-13T02:00:00+00:00",
          "2024-02-13T07:00:00+00:00",
          "2024-02-14T05:00:00+00:00",
          "2024-02-14T14:00:00+00:00",
          "2024-02-15T04:00:00+00:00",
          "2024-02-16T02:00:00+00:00",
          "2024-02-19T13:00:00+00:00",
          "2024-02-19T19:00:00+00:00",
          "2024-02-20T06:00:00+00:00",
          "2024-02-20T10:00:00+00:00",
          "2024-02-21T07:00:00+00:00",
          "2024-02-21T21:00:00+00:00",
          "2024-02-22T03:00:00+00:00",
          "2024-02-22T11:00:00+00:00",
          "2024-02-23T01:00:00+00:00",
          "2024-02-23T07:00:00+00:00",
          "2024-02-23T15:00:00+00:00",
          "2024-02-23T20:00:00+00:00",
          "2024-02-27T02:00:00+00:00",
          "2024-02-28T18:00:00+00:00",
          "2024-02-29T00:00:00+00:00",
          "2024-02-29T10:00:00+00:00",
          "2024-03-03T22:00:00+00:00",
          "2024-03-04T11:00:00+00:00",
          "2024-03-05T16:00:00+00:00",
          "2024-03-06T05:00:00+00:00",
          "2024-03-06T21:00:00+00:00",
          "2024-03-07T20:00:00+00:00",
          "2024-03-08T05:00:00+00:00",
          "2024-03-08T19:00:00+00:00",
          "2024-03-11T08:00:00+00:00",
          "2024-03-11T19:00:00+00:00",
          "2024-03-11T23:00:00+00:00",
          "2024-03-12T06:00:00+00:00",
          "2024-03-12T09:00:00+00:00",
          "2024-03-12T18:00:00+00:00",
          "2024-03-13T02:00:00+00:00",
          "2024-03-13T06:00:00+00:00",
          "2024-03-14T13:00:00+00:00",
          "2024-03-14T22:00:00+00:00",
          "2024-03-15T11:00:00+00:00",
          "2024-03-17T21:00:00+00:00",
          "2024-03-18T03:00:00+00:00",
          "2024-03-18T08:00:00+00:00",
          "2024-03-19T09:00:00+00:00",
          "2024-03-19T20:00:00+00:00",
          "2024-03-21T06:00:00+00:00",
          "2024-03-21T08:00:00+00:00",
          "2024-03-21T23:00:00+00:00",
          "2024-03-25T06:00:00+00:00",
          "2024-03-27T01:00:00+00:00",
          "2024-03-27T05:00:00+00:00",
          "2024-03-27T19:00:00+00:00",
          "2024-03-28T06:00:00+00:00",
          "2024-03-28T08:00:00+00:00",
          "2024-03-29T14:00:00+00:00",
          "2024-04-01T02:00:00+00:00",
          "2024-04-02T04:00:00+00:00",
          "2024-04-03T21:00:00+00:00",
          "2024-04-04T05:00:00+00:00",
          "2024-04-04T19:00:00+00:00",
          "2024-04-05T09:00:00+00:00",
          "2024-04-05T17:00:00+00:00",
          "2024-04-08T00:00:00+00:00",
          "2024-04-09T06:00:00+00:00",
          "2024-04-10T05:00:00+00:00",
          "2024-04-10T15:00:00+00:00",
          "2024-04-11T01:00:00+00:00",
          "2024-04-11T10:00:00+00:00",
          "2024-04-12T05:00:00+00:00",
          "2024-04-12T06:00:00+00:00",
          "2024-04-14T22:00:00+00:00",
          "2024-04-15T12:00:00+00:00",
          "2024-04-16T09:00:00+00:00",
          "2024-04-16T21:00:00+00:00",
          "2024-04-17T14:00:00+00:00",
          "2024-04-18T08:00:00+00:00",
          "2024-04-18T19:00:00+00:00",
          "2024-04-19T01:00:00+00:00",
          "2024-04-19T13:00:00+00:00",
          "2024-04-22T12:00:00+00:00",
          "2024-04-22T20:00:00+00:00",
          "2024-04-25T15:00:00+00:00",
          "2024-04-25T16:00:00+00:00",
          "2024-04-25T18:00:00+00:00",
          "2024-04-25T20:00:00+00:00",
          "2024-04-25T21:00:00+00:00",
          "2024-04-26T03:00:00+00:00"
         ],
         "y": [
          20.400000000000418,
          18.60000000000084,
          2.800000000001692,
          -17.199999999997214,
          -0.3999999999970676,
          -4.299999999997082,
          -5.399999999996517,
          -9.999999999996676,
          -14.89999999999658,
          -19.599999999996285,
          -53.39999999999678,
          -38.89999999999726,
          -25.799999999996928,
          -58.69999999999597,
          -54.39999999999555,
          -55.59999999999564,
          -62.99999999999527,
          -66.59999999999442,
          -71.69999999999342,
          -154.09999999999258,
          -175.19999999999203,
          -173.79999999999174,
          -176.19999999999192,
          -176.29999999999256,
          -159.79999999999328,
          -166.09999999999346,
          -169.09999999999312,
          -187.19999999999288,
          -194.19999999999322,
          -196.9999999999938,
          -204.99999999999403,
          -221.79999999999418,
          -226.59999999999454,
          -214.59999999999474,
          -241.3999999999949,
          -258.7999999999945,
          -275.6999999999942,
          -286.39999999999435,
          -306.0999999999946,
          -306.499999999995,
          -311.9999999999955,
          -312.3999999999959,
          -314.19999999999544,
          -321.5999999999951,
          -350.1999999999948,
          -319.59999999999417,
          -321.59999999999394,
          -338.1999999999939,
          -333.299999999994,
          -304.7999999999938,
          -305.1999999999931,
          -308.89999999999293,
          -323.39999999999355,
          -259.6999999999937,
          -248.09999999999317,
          -252.1999999999934,
          -251.1999999999935,
          -216.59999999999332,
          -231.29999999999302,
          -210.59999999999286,
          -206.09999999999334,
          -211.59999999999386,
          -165.7999999999936,
          -136.99999999999366,
          -129.4999999999945,
          -152.79999999999504,
          -107.59999999999536,
          -103.9999999999951,
          -74.19999999999527,
          -128.8999999999961,
          -136.7999999999968,
          -117.29999999999673,
          -137.7999999999967,
          -186.0999999999967,
          -184.59999999999576,
          -189.19999999999482,
          -184.79999999999487,
          -194.99999999999508,
          -195.29999999999484,
          -185.89999999999432,
          -192.3999999999936,
          -197.6999999999939,
          -204.999999999994,
          -220.099999999993,
          -217.69999999999283,
          -216.29999999999364,
          -225.59999999999462,
          -235.99999999999503,
          -235.39999999999444,
          -253.59999999999377,
          -266.0999999999935,
          -271.59999999999286,
          -256.7999999999925,
          -238.59999999999317,
          -243.89999999999347,
          -250.59999999999295,
          -247.39999999999307,
          -262.5999999999938,
          -250.99999999999443,
          -200.99999999999437,
          -187.7999999999945,
          -187.59999999999542,
          -186.39999999999532,
          -182.99999999999525,
          -172.99999999999525,
          -166.9999999999948,
          -179.69999999999473,
          -197.5999999999943,
          -204.59999999999354,
          -99.49999999999335,
          -107.99999999999352,
          -46.29999999999343,
          -64.39999999999321,
          -73.59999999999353,
          -75.39999999999422,
          -80.99999999999427,
          -92.79999999999386,
          -62.19999999999323,
          -69.99999999999326,
          -81.99999999999416,
          -64.79999999999472,
          -96.39999999999525,
          -93.39999999999557,
          -95.99999999999484,
          -127.19999999999385,
          -128.79999999999322,
          -125.39999999999316,
          -128.69999999999368,
          -100.69999999999455,
          -116.39999999999526,
          -120.19999999999573,
          -113.19999999999538,
          -139.79999999999535,
          -149.6999999999958,
          -170.79999999999526,
          -166.89999999999526,
          -171.59999999999607,
          -157.1999999999961,
          -149.39999999999606,
          -143.19999999999652,
          -218.6999999999971,
          -210.99999999999773,
          -251.19999999999794,
          -233.29999999999836,
          -233.29999999999836,
          -252.99999999999753,
          -271.59999999999724,
          -292.19999999999783,
          -294.7999999999982,
          -300.59999999999843,
          -314.79999999999933,
          -327.3000000000002,
          -333.0000000000009,
          -326.2000000000008,
          -296.80000000000024,
          -304.1999999999999,
          -285.4,
          -285.10000000000025,
          -299.3999999999996,
          -304.9999999999985,
          -291.9999999999977,
          -305.4999999999973,
          -222.4999999999976,
          -225.59999999999795,
          -232.3999999999981,
          -233.99999999999858,
          -247.79999999999905,
          -212.39999999999918,
          -215.6999999999986,
          -215.2999999999982,
          -215.59999999999795,
          -170.0999999999974,
          -179.19999999999706,
          -185.799999999997,
          -210.39999999999716,
          -212.4999999999976,
          -218.5999999999976,
          -230.5999999999974,
          -243.79999999999728,
          -237.19999999999735,
          -238.19999999999723,
          -256.99999999999716,
          -237.19999999999735,
          -239.59999999999752,
          -247.79999999999797,
          -254.9999999999985,
          -253.5999999999993,
          -256.6000000000001,
          -201.40000000000038,
          -207.2000000000006,
          -211.30000000000084,
          -216.20000000000073,
          -209.0000000000013,
          -218.20000000000164,
          -220.80000000000203,
          -263.00000000000205,
          -245.8000000000015,
          -260.20000000000147,
          -272.0000000000011,
          -256.50000000000057,
          -247.30000000000024,
          -270.5999999999997,
          -274.2999999999995,
          -284.2999999999995,
          -278.6999999999995,
          -270.3999999999995,
          -272.3999999999993,
          -288.8999999999997,
          -288.39999999999975,
          -291.9999999999989,
          -294.9999999999986,
          -298.39999999999867,
          -284.5999999999982,
          -260.5999999999975,
          -263.39999999999696,
          -280.1999999999971,
          -242.39999999999816,
          -258.29999999999905,
          -253.39999999999915,
          -255.39999999999893,
          -242.19999999999905,
          -237.1999999999996,
          -242.60000000000056,
          -239.4000000000007,
          -252.60000000000056,
          -253.3000000000007,
          -250.80000000000098,
          -252.60000000000167,
          -268.00000000000153,
          -283.4000000000014,
          -288.00000000000153,
          -294.00000000000085,
          -275.40000000000003,
          -285.79999999999933,
          -299.3999999999985,
          -310.3999999999984,
          -314.5999999999992,
          -325.2999999999994,
          -327.4999999999994,
          -353.3999999999992,
          -320.2999999999988,
          -384.39999999999907,
          -379.79999999999893,
          -339.1999999999983,
          -267.7999999999979,
          -275.99999999999835,
          -270.9999999999989,
          -273.1999999999989,
          -292.2999999999986,
          -248.39999999999856,
          -252.39999999999924,
          -249.59999999999977,
          -195.19999999999976,
          -210.20000000000033,
          -243.40000000000134,
          -266.40000000000214,
          -283.20000000000226,
          -300.6000000000019,
          -271.0000000000023,
          -262.40000000000254,
          -270.7000000000025,
          -281.40000000000265,
          -304.40000000000236,
          -276.6000000000023,
          -294.6000000000025,
          -278.60000000000207,
          -279.00000000000136,
          -260.90000000000157,
          -277.0000000000016,
          -295.30000000000155,
          -302.6000000000016,
          -312.20000000000124,
          -387.40000000000094,
          -438.80000000000126,
          -432.2000000000013,
          -453.8000000000007,
          -378.0000000000004,
          -382.4000000000004,
          -390.90000000000055,
          -390.50000000000017,
          -392.09999999999957,
          -397.39999999999986,
          -414.2
         ]
        }
       ],
       "layout": {
        "font": {
         "color": "#e1e1e1",
         "size": 10
        },
        "height": 400,
        "margin": {
         "b": 10,
         "l": 15,
         "r": 15
        },
        "paper_bgcolor": "#1e1e1e",
        "plot_bgcolor": "#1e1e1e",
        "template": {
         "data": {
          "bar": [
           {
            "error_x": {
             "color": "#2a3f5f"
            },
            "error_y": {
             "color": "#2a3f5f"
            },
            "marker": {
             "line": {
              "color": "#E5ECF6",
              "width": 0.5
             },
             "pattern": {
              "fillmode": "overlay",
              "size": 10,
              "solidity": 0.2
             }
            },
            "type": "bar"
           }
          ],
          "barpolar": [
           {
            "marker": {
             "line": {
              "color": "#E5ECF6",
              "width": 0.5
             },
             "pattern": {
              "fillmode": "overlay",
              "size": 10,
              "solidity": 0.2
             }
            },
            "type": "barpolar"
           }
          ],
          "carpet": [
           {
            "aaxis": {
             "endlinecolor": "#2a3f5f",
             "gridcolor": "white",
             "linecolor": "white",
             "minorgridcolor": "white",
             "startlinecolor": "#2a3f5f"
            },
            "baxis": {
             "endlinecolor": "#2a3f5f",
             "gridcolor": "white",
             "linecolor": "white",
             "minorgridcolor": "white",
             "startlinecolor": "#2a3f5f"
            },
            "type": "carpet"
           }
          ],
          "choropleth": [
           {
            "colorbar": {
             "outlinewidth": 0,
             "ticks": ""
            },
            "type": "choropleth"
           }
          ],
          "contour": [
           {
            "colorbar": {
             "outlinewidth": 0,
             "ticks": ""
            },
            "colorscale": [
             [
              0,
              "#0d0887"
             ],
             [
              0.1111111111111111,
              "#46039f"
             ],
             [
              0.2222222222222222,
              "#7201a8"
             ],
             [
              0.3333333333333333,
              "#9c179e"
             ],
             [
              0.4444444444444444,
              "#bd3786"
             ],
             [
              0.5555555555555556,
              "#d8576b"
             ],
             [
              0.6666666666666666,
              "#ed7953"
             ],
             [
              0.7777777777777778,
              "#fb9f3a"
             ],
             [
              0.8888888888888888,
              "#fdca26"
             ],
             [
              1,
              "#f0f921"
             ]
            ],
            "type": "contour"
           }
          ],
          "contourcarpet": [
           {
            "colorbar": {
             "outlinewidth": 0,
             "ticks": ""
            },
            "type": "contourcarpet"
           }
          ],
          "heatmap": [
           {
            "colorbar": {
             "outlinewidth": 0,
             "ticks": ""
            },
            "colorscale": [
             [
              0,
              "#0d0887"
             ],
             [
              0.1111111111111111,
              "#46039f"
             ],
             [
              0.2222222222222222,
              "#7201a8"
             ],
             [
              0.3333333333333333,
              "#9c179e"
             ],
             [
              0.4444444444444444,
              "#bd3786"
             ],
             [
              0.5555555555555556,
              "#d8576b"
             ],
             [
              0.6666666666666666,
              "#ed7953"
             ],
             [
              0.7777777777777778,
              "#fb9f3a"
             ],
             [
              0.8888888888888888,
              "#fdca26"
             ],
             [
              1,
              "#f0f921"
             ]
            ],
            "type": "heatmap"
           }
          ],
          "heatmapgl": [
           {
            "colorbar": {
             "outlinewidth": 0,
             "ticks": ""
            },
            "colorscale": [
             [
              0,
              "#0d0887"
             ],
             [
              0.1111111111111111,
              "#46039f"
             ],
             [
              0.2222222222222222,
              "#7201a8"
             ],
             [
              0.3333333333333333,
              "#9c179e"
             ],
             [
              0.4444444444444444,
              "#bd3786"
             ],
             [
              0.5555555555555556,
              "#d8576b"
             ],
             [
              0.6666666666666666,
              "#ed7953"
             ],
             [
              0.7777777777777778,
              "#fb9f3a"
             ],
             [
              0.8888888888888888,
              "#fdca26"
             ],
             [
              1,
              "#f0f921"
             ]
            ],
            "type": "heatmapgl"
           }
          ],
          "histogram": [
           {
            "marker": {
             "pattern": {
              "fillmode": "overlay",
              "size": 10,
              "solidity": 0.2
             }
            },
            "type": "histogram"
           }
          ],
          "histogram2d": [
           {
            "colorbar": {
             "outlinewidth": 0,
             "ticks": ""
            },
            "colorscale": [
             [
              0,
              "#0d0887"
             ],
             [
              0.1111111111111111,
              "#46039f"
             ],
             [
              0.2222222222222222,
              "#7201a8"
             ],
             [
              0.3333333333333333,
              "#9c179e"
             ],
             [
              0.4444444444444444,
              "#bd3786"
             ],
             [
              0.5555555555555556,
              "#d8576b"
             ],
             [
              0.6666666666666666,
              "#ed7953"
             ],
             [
              0.7777777777777778,
              "#fb9f3a"
             ],
             [
              0.8888888888888888,
              "#fdca26"
             ],
             [
              1,
              "#f0f921"
             ]
            ],
            "type": "histogram2d"
           }
          ],
          "histogram2dcontour": [
           {
            "colorbar": {
             "outlinewidth": 0,
             "ticks": ""
            },
            "colorscale": [
             [
              0,
              "#0d0887"
             ],
             [
              0.1111111111111111,
              "#46039f"
             ],
             [
              0.2222222222222222,
              "#7201a8"
             ],
             [
              0.3333333333333333,
              "#9c179e"
             ],
             [
              0.4444444444444444,
              "#bd3786"
             ],
             [
              0.5555555555555556,
              "#d8576b"
             ],
             [
              0.6666666666666666,
              "#ed7953"
             ],
             [
              0.7777777777777778,
              "#fb9f3a"
             ],
             [
              0.8888888888888888,
              "#fdca26"
             ],
             [
              1,
              "#f0f921"
             ]
            ],
            "type": "histogram2dcontour"
           }
          ],
          "mesh3d": [
           {
            "colorbar": {
             "outlinewidth": 0,
             "ticks": ""
            },
            "type": "mesh3d"
           }
          ],
          "parcoords": [
           {
            "line": {
             "colorbar": {
              "outlinewidth": 0,
              "ticks": ""
             }
            },
            "type": "parcoords"
           }
          ],
          "pie": [
           {
            "automargin": true,
            "type": "pie"
           }
          ],
          "scatter": [
           {
            "fillpattern": {
             "fillmode": "overlay",
             "size": 10,
             "solidity": 0.2
            },
            "type": "scatter"
           }
          ],
          "scatter3d": [
           {
            "line": {
             "colorbar": {
              "outlinewidth": 0,
              "ticks": ""
             }
            },
            "marker": {
             "colorbar": {
              "outlinewidth": 0,
              "ticks": ""
             }
            },
            "type": "scatter3d"
           }
          ],
          "scattercarpet": [
           {
            "marker": {
             "colorbar": {
              "outlinewidth": 0,
              "ticks": ""
             }
            },
            "type": "scattercarpet"
           }
          ],
          "scattergeo": [
           {
            "marker": {
             "colorbar": {
              "outlinewidth": 0,
              "ticks": ""
             }
            },
            "type": "scattergeo"
           }
          ],
          "scattergl": [
           {
            "marker": {
             "colorbar": {
              "outlinewidth": 0,
              "ticks": ""
             }
            },
            "type": "scattergl"
           }
          ],
          "scattermapbox": [
           {
            "marker": {
             "colorbar": {
              "outlinewidth": 0,
              "ticks": ""
             }
            },
            "type": "scattermapbox"
           }
          ],
          "scatterpolar": [
           {
            "marker": {
             "colorbar": {
              "outlinewidth": 0,
              "ticks": ""
             }
            },
            "type": "scatterpolar"
           }
          ],
          "scatterpolargl": [
           {
            "marker": {
             "colorbar": {
              "outlinewidth": 0,
              "ticks": ""
             }
            },
            "type": "scatterpolargl"
           }
          ],
          "scatterternary": [
           {
            "marker": {
             "colorbar": {
              "outlinewidth": 0,
              "ticks": ""
             }
            },
            "type": "scatterternary"
           }
          ],
          "surface": [
           {
            "colorbar": {
             "outlinewidth": 0,
             "ticks": ""
            },
            "colorscale": [
             [
              0,
              "#0d0887"
             ],
             [
              0.1111111111111111,
              "#46039f"
             ],
             [
              0.2222222222222222,
              "#7201a8"
             ],
             [
              0.3333333333333333,
              "#9c179e"
             ],
             [
              0.4444444444444444,
              "#bd3786"
             ],
             [
              0.5555555555555556,
              "#d8576b"
             ],
             [
              0.6666666666666666,
              "#ed7953"
             ],
             [
              0.7777777777777778,
              "#fb9f3a"
             ],
             [
              0.8888888888888888,
              "#fdca26"
             ],
             [
              1,
              "#f0f921"
             ]
            ],
            "type": "surface"
           }
          ],
          "table": [
           {
            "cells": {
             "fill": {
              "color": "#EBF0F8"
             },
             "line": {
              "color": "white"
             }
            },
            "header": {
             "fill": {
              "color": "#C8D4E3"
             },
             "line": {
              "color": "white"
             }
            },
            "type": "table"
           }
          ]
         },
         "layout": {
          "annotationdefaults": {
           "arrowcolor": "#2a3f5f",
           "arrowhead": 0,
           "arrowwidth": 1
          },
          "autotypenumbers": "strict",
          "coloraxis": {
           "colorbar": {
            "outlinewidth": 0,
            "ticks": ""
           }
          },
          "colorscale": {
           "diverging": [
            [
             0,
             "#8e0152"
            ],
            [
             0.1,
             "#c51b7d"
            ],
            [
             0.2,
             "#de77ae"
            ],
            [
             0.3,
             "#f1b6da"
            ],
            [
             0.4,
             "#fde0ef"
            ],
            [
             0.5,
             "#f7f7f7"
            ],
            [
             0.6,
             "#e6f5d0"
            ],
            [
             0.7,
             "#b8e186"
            ],
            [
             0.8,
             "#7fbc41"
            ],
            [
             0.9,
             "#4d9221"
            ],
            [
             1,
             "#276419"
            ]
           ],
           "sequential": [
            [
             0,
             "#0d0887"
            ],
            [
             0.1111111111111111,
             "#46039f"
            ],
            [
             0.2222222222222222,
             "#7201a8"
            ],
            [
             0.3333333333333333,
             "#9c179e"
            ],
            [
             0.4444444444444444,
             "#bd3786"
            ],
            [
             0.5555555555555556,
             "#d8576b"
            ],
            [
             0.6666666666666666,
             "#ed7953"
            ],
            [
             0.7777777777777778,
             "#fb9f3a"
            ],
            [
             0.8888888888888888,
             "#fdca26"
            ],
            [
             1,
             "#f0f921"
            ]
           ],
           "sequentialminus": [
            [
             0,
             "#0d0887"
            ],
            [
             0.1111111111111111,
             "#46039f"
            ],
            [
             0.2222222222222222,
             "#7201a8"
            ],
            [
             0.3333333333333333,
             "#9c179e"
            ],
            [
             0.4444444444444444,
             "#bd3786"
            ],
            [
             0.5555555555555556,
             "#d8576b"
            ],
            [
             0.6666666666666666,
             "#ed7953"
            ],
            [
             0.7777777777777778,
             "#fb9f3a"
            ],
            [
             0.8888888888888888,
             "#fdca26"
            ],
            [
             1,
             "#f0f921"
            ]
           ]
          },
          "colorway": [
           "#636efa",
           "#EF553B",
           "#00cc96",
           "#ab63fa",
           "#FFA15A",
           "#19d3f3",
           "#FF6692",
           "#B6E880",
           "#FF97FF",
           "#FECB52"
          ],
          "font": {
           "color": "#2a3f5f"
          },
          "geo": {
           "bgcolor": "white",
           "lakecolor": "white",
           "landcolor": "#E5ECF6",
           "showlakes": true,
           "showland": true,
           "subunitcolor": "white"
          },
          "hoverlabel": {
           "align": "left"
          },
          "hovermode": "closest",
          "mapbox": {
           "style": "light"
          },
          "paper_bgcolor": "white",
          "plot_bgcolor": "#E5ECF6",
          "polar": {
           "angularaxis": {
            "gridcolor": "white",
            "linecolor": "white",
            "ticks": ""
           },
           "bgcolor": "#E5ECF6",
           "radialaxis": {
            "gridcolor": "white",
            "linecolor": "white",
            "ticks": ""
           }
          },
          "scene": {
           "xaxis": {
            "backgroundcolor": "#E5ECF6",
            "gridcolor": "white",
            "gridwidth": 2,
            "linecolor": "white",
            "showbackground": true,
            "ticks": "",
            "zerolinecolor": "white"
           },
           "yaxis": {
            "backgroundcolor": "#E5ECF6",
            "gridcolor": "white",
            "gridwidth": 2,
            "linecolor": "white",
            "showbackground": true,
            "ticks": "",
            "zerolinecolor": "white"
           },
           "zaxis": {
            "backgroundcolor": "#E5ECF6",
            "gridcolor": "white",
            "gridwidth": 2,
            "linecolor": "white",
            "showbackground": true,
            "ticks": "",
            "zerolinecolor": "white"
           }
          },
          "shapedefaults": {
           "line": {
            "color": "#2a3f5f"
           }
          },
          "ternary": {
           "aaxis": {
            "gridcolor": "white",
            "linecolor": "white",
            "ticks": ""
           },
           "baxis": {
            "gridcolor": "white",
            "linecolor": "white",
            "ticks": ""
           },
           "bgcolor": "#E5ECF6",
           "caxis": {
            "gridcolor": "white",
            "linecolor": "white",
            "ticks": ""
           }
          },
          "title": {
           "x": 0.05
          },
          "xaxis": {
           "automargin": true,
           "gridcolor": "white",
           "linecolor": "white",
           "ticks": "",
           "title": {
            "standoff": 15
           },
           "zerolinecolor": "white",
           "zerolinewidth": 2
          },
          "yaxis": {
           "automargin": true,
           "gridcolor": "white",
           "linecolor": "white",
           "ticks": "",
           "title": {
            "standoff": 15
           },
           "zerolinecolor": "white",
           "zerolinewidth": 2
          }
         }
        },
        "title": {
         "text": "EUR_CHF_MA_8_16"
        },
        "width": 1000,
        "xaxis": {
         "linecolor": "#3a4a54",
         "linewidth": 1,
         "showgrid": false,
         "zeroline": false
        },
        "yaxis": {
         "linecolor": "#3a4a54",
         "linewidth": 1,
         "showgrid": false,
         "zeroline": false
        }
       }
      }
     },
     "metadata": {},
     "output_type": "display_data"
    },
    {
     "data": {
      "application/vnd.plotly.v1+json": {
       "config": {
        "plotlyServerURL": "https://plot.ly"
       },
       "data": [
        {
         "line": {
          "color": "#3d825f",
          "shape": "spline",
          "width": 2
         },
         "mode": "lines",
         "name": "USD_JPY_MA_8_16",
         "type": "scatter",
         "x": [
          "2023-09-06T04:00:00+00:00",
          "2023-09-06T16:00:00+00:00",
          "2023-09-07T05:00:00+00:00",
          "2023-09-08T03:00:00+00:00",
          "2023-09-08T04:00:00+00:00",
          "2023-09-08T08:00:00+00:00",
          "2023-09-11T00:00:00+00:00",
          "2023-09-11T15:00:00+00:00",
          "2023-09-11T22:00:00+00:00",
          "2023-09-12T01:00:00+00:00",
          "2023-09-13T23:00:00+00:00",
          "2023-09-14T11:00:00+00:00",
          "2023-09-17T22:00:00+00:00",
          "2023-09-18T18:00:00+00:00",
          "2023-09-18T21:00:00+00:00",
          "2023-09-19T04:00:00+00:00",
          "2023-09-19T14:00:00+00:00",
          "2023-09-19T17:00:00+00:00",
          "2023-09-20T03:00:00+00:00",
          "2023-09-20T07:00:00+00:00",
          "2023-09-20T15:00:00+00:00",
          "2023-09-20T22:00:00+00:00",
          "2023-09-21T10:00:00+00:00",
          "2023-09-22T02:00:00+00:00",
          "2023-09-26T14:00:00+00:00",
          "2023-09-26T20:00:00+00:00",
          "2023-09-27T07:00:00+00:00",
          "2023-09-27T09:00:00+00:00",
          "2023-09-28T03:00:00+00:00",
          "2023-09-29T03:00:00+00:00",
          "2023-09-29T07:00:00+00:00",
          "2023-09-29T16:00:00+00:00",
          "2023-10-03T10:00:00+00:00",
          "2023-10-03T12:00:00+00:00",
          "2023-10-03T13:00:00+00:00",
          "2023-10-04T04:00:00+00:00",
          "2023-10-04T10:00:00+00:00",
          "2023-10-04T22:00:00+00:00",
          "2023-10-05T01:00:00+00:00",
          "2023-10-05T11:00:00+00:00",
          "2023-10-05T17:00:00+00:00",
          "2023-10-06T03:00:00+00:00",
          "2023-10-09T01:00:00+00:00",
          "2023-10-09T11:00:00+00:00",
          "2023-10-09T13:00:00+00:00",
          "2023-10-10T05:00:00+00:00",
          "2023-10-10T18:00:00+00:00",
          "2023-10-11T05:00:00+00:00",
          "2023-10-12T04:00:00+00:00",
          "2023-10-12T09:00:00+00:00",
          "2023-10-12T10:00:00+00:00",
          "2023-10-12T11:00:00+00:00",
          "2023-10-13T05:00:00+00:00",
          "2023-10-16T11:00:00+00:00",
          "2023-10-16T22:00:00+00:00",
          "2023-10-16T23:00:00+00:00",
          "2023-10-17T00:00:00+00:00",
          "2023-10-17T06:00:00+00:00",
          "2023-10-18T03:00:00+00:00",
          "2023-10-18T13:00:00+00:00",
          "2023-10-19T04:00:00+00:00",
          "2023-10-19T12:00:00+00:00",
          "2023-10-19T22:00:00+00:00",
          "2023-10-20T04:00:00+00:00",
          "2023-10-20T18:00:00+00:00",
          "2023-10-23T04:00:00+00:00",
          "2023-10-23T16:00:00+00:00",
          "2023-10-24T13:00:00+00:00",
          "2023-10-25T04:00:00+00:00",
          "2023-10-25T10:00:00+00:00",
          "2023-10-26T14:00:00+00:00",
          "2023-10-26T21:00:00+00:00",
          "2023-10-27T02:00:00+00:00",
          "2023-10-30T03:00:00+00:00",
          "2023-10-30T08:00:00+00:00",
          "2023-10-31T03:00:00+00:00",
          "2023-11-01T04:00:00+00:00",
          "2023-11-02T20:00:00+00:00",
          "2023-11-03T04:00:00+00:00",
          "2023-11-06T03:00:00+00:00",
          "2023-11-07T22:00:00+00:00",
          "2023-11-08T05:00:00+00:00",
          "2023-11-09T06:00:00+00:00",
          "2023-11-09T07:00:00+00:00",
          "2023-11-09T08:00:00+00:00",
          "2023-11-09T09:00:00+00:00",
          "2023-11-13T17:00:00+00:00",
          "2023-11-14T04:00:00+00:00",
          "2023-11-14T13:00:00+00:00",
          "2023-11-15T05:00:00+00:00",
          "2023-11-15T12:00:00+00:00",
          "2023-11-15T16:00:00+00:00",
          "2023-11-16T07:00:00+00:00",
          "2023-11-16T11:00:00+00:00",
          "2023-11-16T13:00:00+00:00",
          "2023-11-17T04:00:00+00:00",
          "2023-11-17T06:00:00+00:00",
          "2023-11-19T22:00:00+00:00",
          "2023-11-20T03:00:00+00:00",
          "2023-11-21T16:00:00+00:00",
          "2023-11-23T03:00:00+00:00",
          "2023-11-23T13:00:00+00:00",
          "2023-11-24T03:00:00+00:00",
          "2023-11-24T13:00:00+00:00",
          "2023-11-24T21:00:00+00:00",
          "2023-11-28T10:00:00+00:00",
          "2023-11-28T16:00:00+00:00",
          "2023-11-29T10:00:00+00:00",
          "2023-11-29T20:00:00+00:00",
          "2023-11-30T10:00:00+00:00",
          "2023-12-01T04:00:00+00:00",
          "2023-12-01T10:00:00+00:00",
          "2023-12-01T15:00:00+00:00",
          "2023-12-04T08:00:00+00:00",
          "2023-12-04T15:00:00+00:00",
          "2023-12-04T17:00:00+00:00",
          "2023-12-05T05:00:00+00:00",
          "2023-12-05T16:00:00+00:00",
          "2023-12-06T13:00:00+00:00",
          "2023-12-06T15:00:00+00:00",
          "2023-12-06T19:00:00+00:00",
          "2023-12-06T21:00:00+00:00",
          "2023-12-07T01:00:00+00:00",
          "2023-12-08T08:00:00+00:00",
          "2023-12-11T23:00:00+00:00",
          "2023-12-12T18:00:00+00:00",
          "2023-12-13T02:00:00+00:00",
          "2023-12-13T06:00:00+00:00",
          "2023-12-13T15:00:00+00:00",
          "2023-12-14T18:00:00+00:00",
          "2023-12-15T09:00:00+00:00",
          "2023-12-15T18:00:00+00:00",
          "2023-12-19T00:00:00+00:00",
          "2023-12-19T03:00:00+00:00",
          "2023-12-19T19:00:00+00:00",
          "2023-12-20T18:00:00+00:00",
          "2023-12-21T01:00:00+00:00",
          "2023-12-22T04:00:00+00:00",
          "2023-12-22T11:00:00+00:00",
          "2023-12-22T19:00:00+00:00",
          "2023-12-26T03:00:00+00:00",
          "2023-12-26T11:00:00+00:00",
          "2023-12-27T15:00:00+00:00",
          "2023-12-28T18:00:00+00:00",
          "2023-12-29T08:00:00+00:00",
          "2023-12-29T09:00:00+00:00",
          "2023-12-29T17:00:00+00:00",
          "2024-01-02T03:00:00+00:00",
          "2024-01-04T02:00:00+00:00",
          "2024-01-04T06:00:00+00:00",
          "2024-01-05T17:00:00+00:00",
          "2024-01-09T11:00:00+00:00",
          "2024-01-11T04:00:00+00:00",
          "2024-01-11T13:00:00+00:00",
          "2024-01-11T23:00:00+00:00",
          "2024-01-12T12:00:00+00:00",
          "2024-01-12T13:00:00+00:00",
          "2024-01-15T01:00:00+00:00",
          "2024-01-18T02:00:00+00:00",
          "2024-01-18T15:00:00+00:00",
          "2024-01-19T13:00:00+00:00",
          "2024-01-19T21:00:00+00:00",
          "2024-01-22T02:00:00+00:00",
          "2024-01-22T12:00:00+00:00",
          "2024-01-22T13:00:00+00:00",
          "2024-01-22T21:00:00+00:00",
          "2024-01-23T06:00:00+00:00",
          "2024-01-23T15:00:00+00:00",
          "2024-01-24T02:00:00+00:00",
          "2024-01-24T22:00:00+00:00",
          "2024-01-25T13:00:00+00:00",
          "2024-01-25T21:00:00+00:00",
          "2024-01-26T03:00:00+00:00",
          "2024-01-26T04:00:00+00:00",
          "2024-01-26T05:00:00+00:00",
          "2024-01-26T09:00:00+00:00",
          "2024-01-29T07:00:00+00:00",
          "2024-01-30T15:00:00+00:00",
          "2024-01-31T02:00:00+00:00",
          "2024-01-31T07:00:00+00:00",
          "2024-01-31T14:00:00+00:00",
          "2024-02-01T03:00:00+00:00",
          "2024-02-01T09:00:00+00:00",
          "2024-02-01T12:00:00+00:00",
          "2024-02-01T14:00:00+00:00",
          "2024-02-02T04:00:00+00:00",
          "2024-02-05T08:00:00+00:00",
          "2024-02-05T09:00:00+00:00",
          "2024-02-05T10:00:00+00:00",
          "2024-02-05T13:00:00+00:00",
          "2024-02-06T03:00:00+00:00",
          "2024-02-06T13:00:00+00:00",
          "2024-02-06T16:00:00+00:00",
          "2024-02-07T08:00:00+00:00",
          "2024-02-09T03:00:00+00:00",
          "2024-02-09T05:00:00+00:00",
          "2024-02-09T17:00:00+00:00",
          "2024-02-12T16:00:00+00:00",
          "2024-02-14T04:00:00+00:00",
          "2024-02-14T14:00:00+00:00",
          "2024-02-14T21:00:00+00:00",
          "2024-02-16T02:00:00+00:00",
          "2024-02-16T21:00:00+00:00",
          "2024-02-19T15:00:00+00:00",
          "2024-02-20T13:00:00+00:00",
          "2024-02-21T01:00:00+00:00",
          "2024-02-22T08:00:00+00:00",
          "2024-02-22T15:00:00+00:00",
          "2024-02-23T03:00:00+00:00",
          "2024-02-23T08:00:00+00:00",
          "2024-02-23T16:00:00+00:00",
          "2024-02-26T02:00:00+00:00",
          "2024-02-27T01:00:00+00:00",
          "2024-02-27T18:00:00+00:00",
          "2024-02-28T22:00:00+00:00",
          "2024-02-29T16:00:00+00:00",
          "2024-02-29T20:00:00+00:00",
          "2024-02-29T22:00:00+00:00",
          "2024-03-01T17:00:00+00:00",
          "2024-03-04T06:00:00+00:00",
          "2024-03-05T03:00:00+00:00",
          "2024-03-07T20:00:00+00:00",
          "2024-03-08T01:00:00+00:00",
          "2024-03-11T18:00:00+00:00",
          "2024-03-13T01:00:00+00:00",
          "2024-03-13T09:00:00+00:00",
          "2024-03-13T20:00:00+00:00",
          "2024-03-14T05:00:00+00:00",
          "2024-03-18T22:00:00+00:00",
          "2024-03-19T01:00:00+00:00",
          "2024-03-20T19:00:00+00:00",
          "2024-03-21T09:00:00+00:00",
          "2024-03-22T04:00:00+00:00",
          "2024-03-24T23:00:00+00:00",
          "2024-03-25T02:00:00+00:00",
          "2024-03-25T11:00:00+00:00",
          "2024-03-26T03:00:00+00:00",
          "2024-03-26T15:00:00+00:00",
          "2024-03-27T11:00:00+00:00",
          "2024-03-28T00:00:00+00:00",
          "2024-03-28T14:00:00+00:00",
          "2024-03-28T22:00:00+00:00",
          "2024-03-29T05:00:00+00:00",
          "2024-03-31T22:00:00+00:00",
          "2024-04-01T08:00:00+00:00",
          "2024-04-01T09:00:00+00:00",
          "2024-04-02T12:00:00+00:00",
          "2024-04-03T06:00:00+00:00",
          "2024-04-03T21:00:00+00:00",
          "2024-04-04T07:00:00+00:00",
          "2024-04-04T16:00:00+00:00",
          "2024-04-05T09:00:00+00:00",
          "2024-04-08T18:00:00+00:00",
          "2024-04-09T01:00:00+00:00",
          "2024-04-09T12:00:00+00:00",
          "2024-04-10T01:00:00+00:00",
          "2024-04-11T05:00:00+00:00",
          "2024-04-11T08:00:00+00:00",
          "2024-04-12T04:00:00+00:00",
          "2024-04-12T08:00:00+00:00",
          "2024-04-12T14:00:00+00:00",
          "2024-04-14T22:00:00+00:00",
          "2024-04-17T06:00:00+00:00",
          "2024-04-18T10:00:00+00:00",
          "2024-04-19T02:00:00+00:00",
          "2024-04-19T12:00:00+00:00",
          "2024-04-23T04:00:00+00:00",
          "2024-04-23T11:00:00+00:00",
          "2024-04-23T17:00:00+00:00",
          "2024-04-23T21:00:00+00:00",
          "2024-04-23T23:00:00+00:00",
          "2024-04-24T01:00:00+00:00",
          "2024-04-25T17:00:00+00:00"
         ],
         "y": [
          -19.39999999999884,
          -20.799999999997,
          13.400000000004297,
          12.400000000005207,
          -5.8999999999940655,
          -51.399999999995316,
          -2.5999999999953616,
          2.4000000000057753,
          -2.5999999999953616,
          74.00000000000375,
          73.60000000000468,
          122.30000000000416,
          129.9000000000035,
          115.60000000000343,
          100.80000000000382,
          95.2000000000055,
          79.4000000000068,
          75.60000000000855,
          43.200000000010164,
          2.8000000000105274,
          -49.09999999999002,
          -101.39999999998963,
          -132.29999999998938,
          -52.999999999988745,
          -76.19999999998868,
          -79.99999999998977,
          -94.19999999998936,
          -68.9999999999884,
          -65.39999999998827,
          -126.89999999998918,
          -190.79999999999018,
          -143.59999999999218,
          -147.19999999999231,
          -149.5999999999924,
          -76.59999999999343,
          -90.199999999993,
          -86.79999999999382,
          -155.39999999999452,
          -207.1999999999946,
          -246.7999999999961,
          -272.799999999998,
          -228.39999999999918,
          -230.4000000000002,
          -258.2000000000022,
          -246.70000000000414,
          -250.2000000000038,
          -269.60000000000264,
          -248.90000000000327,
          -250.40000000000475,
          -248.60000000000468,
          -247.40000000000464,
          -191.2000000000063,
          -171.00000000000648,
          -163.60000000000525,
          -163.4000000000043,
          -170.90000000000316,
          -185.80000000000325,
          -184.4000000000051,
          -189.20000000000528,
          -180.00000000000398,
          -181.20000000000402,
          -181.00000000000307,
          -184.6000000000032,
          -185.00000000000512,
          -193.20000000000448,
          -219.40000000000452,
          -237.00000000000614,
          -237.80000000000712,
          -246.4000000000084,
          -205.00000000000966,
          -209.00000000000887,
          -230.1000000000073,
          -171.00000000000648,
          -171.00000000000648,
          -202.60000000000673,
          -60.000000000005116,
          25.19999999999527,
          6.399999999993611,
          76.79999999999154,
          154.29999999998927,
          125.3999999999877,
          145.79999999998847,
          139.19999999999106,
          149.39999999999145,
          147.19999999998947,
          206.99999999998795,
          202.7999999999878,
          135.19999999998902,
          169.29999999998984,
          142.49999999998977,
          74.1999999999905,
          104.19999999999163,
          119.39999999999316,
          62.19999999999288,
          69.69999999999175,
          76.79999999999154,
          175.39999999999054,
          99.99999999998863,
          202.59999999998684,
          327.0999999999873,
          292.3999999999893,
          295.3999999999894,
          286.5999999999872,
          272.39999999998474,
          356.39999999998224,
          237.59999999998058,
          201.99999999998113,
          154.39999999998122,
          127.49999999998067,
          178.59999999998024,
          188.59999999997967,
          149.79999999997915,
          229.59999999997933,
          260.69999999998004,
          246.09999999998138,
          223.59999999998195,
          198.79999999998006,
          179.2999999999779,
          165.3999999999769,
          177.99999999997738,
          180.39999999997747,
          137.2999999999763,
          427.3999999999745,
          633.6999999999733,
          676.9999999999726,
          669.2999999999728,
          635.8999999999725,
          563.7999999999721,
          894.1999999999723,
          886.599999999973,
          843.5999999999751,
          877.3999999999774,
          779.4999999999789,
          818.2999999999794,
          827.4999999999807,
          748.7999999999829,
          813.899999999984,
          775.599999999983,
          725.7999999999811,
          696.5999999999809,
          679.2999999999807,
          662.1999999999787,
          734.4999999999771,
          736.7999999999768,
          697.5999999999772,
          592.0999999999765,
          526.1999999999745,
          723.2999999999748,
          717.9999999999751,
          839.999999999975,
          907.1999999999747,
          1039.199999999974,
          953.3999999999735,
          838.5999999999739,
          811.8999999999743,
          753.7999999999726,
          725.499999999971,
          1023.1999999999714,
          1010.5999999999738,
          1006.9999999999736,
          1003.3999999999735,
          960.6999999999742,
          956.699999999975,
          946.5999999999751,
          901.7999999999744,
          801.0999999999739,
          665.599999999972,
          627.5999999999725,
          691.599999999974,
          682.7999999999746,
          654.899999999975,
          655.9999999999745,
          643.0999999999755,
          636.7999999999766,
          626.4999999999758,
          623.3999999999752,
          618.9999999999741,
          602.3999999999716,
          604.7999999999716,
          503.09999999997206,
          496.3999999999713,
          504.9999999999726,
          487.7999999999729,
          428.99999999997067,
          424.59999999996955,
          632.1999999999689,
          631.3999999999679,
          624.1999999999676,
          610.4999999999676,
          616.7999999999664,
          618.1999999999646,
          559.0999999999638,
          554.6999999999626,
          691.1999999999607,
          694.7999999999608,
          689.5999999999616,
          686.9999999999606,
          793.7999999999589,
          769.999999999959,
          761.5999999999615,
          792.9999999999636,
          784.0999999999638,
          787.3999999999625,
          769.7999999999608,
          768.9999999999599,
          786.499999999961,
          752.7999999999621,
          750.6999999999634,
          736.1999999999653,
          709.1999999999671,
          695.7999999999685,
          697.3999999999676,
          702.0999999999673,
          720.8999999999689,
          795.7999999999713,
          796.9999999999714,
          789.5999999999701,
          805.7999999999707,
          784.9999999999709,
          799.1999999999705,
          1041.1999999999694,
          1030.799999999968,
          1133.6999999999675,
          1181.2999999999674,
          1124.3999999999687,
          1100.9999999999707,
          1084.599999999972,
          1196.5999999999724,
          1170.3999999999724,
          1361.6999999999734,
          1375.099999999975,
          1425.1999999999753,
          1452.3999999999744,
          1434.9999999999736,
          1419.1999999999748,
          1430.1999999999762,
          1412.699999999978,
          1377.99999999998,
          1359.5999999999804,
          1338.899999999981,
          1318.3999999999826,
          1312.3999999999824,
          1312.299999999982,
          1310.7999999999834,
          1306.6999999999837,
          1337.499999999983,
          1339.7999999999824,
          1337.9999999999823,
          1334.0999999999835,
          1329.9999999999839,
          1352.7999999999847,
          1388.0999999999856,
          1376.3999999999864,
          1364.4999999999864,
          1369.1999999999862,
          1493.799999999987,
          1466.5999999999879,
          1466.2999999999893,
          1459.29999999999,
          1421.1999999999898,
          1385.5999999999904,
          1504.4999999999925,
          1506.9999999999932,
          1452.199999999993,
          1388.3999999999924,
          1408.7999999999902,
          1402.6999999999894,
          1397.5999999999906,
          1394.4999999999927,
          1391.2999999999945,
          1386.599999999995,
          1463.199999999994,
          1455.9999999999936
         ]
        }
       ],
       "layout": {
        "font": {
         "color": "#e1e1e1",
         "size": 10
        },
        "height": 400,
        "margin": {
         "b": 10,
         "l": 15,
         "r": 15
        },
        "paper_bgcolor": "#1e1e1e",
        "plot_bgcolor": "#1e1e1e",
        "template": {
         "data": {
          "bar": [
           {
            "error_x": {
             "color": "#2a3f5f"
            },
            "error_y": {
             "color": "#2a3f5f"
            },
            "marker": {
             "line": {
              "color": "#E5ECF6",
              "width": 0.5
             },
             "pattern": {
              "fillmode": "overlay",
              "size": 10,
              "solidity": 0.2
             }
            },
            "type": "bar"
           }
          ],
          "barpolar": [
           {
            "marker": {
             "line": {
              "color": "#E5ECF6",
              "width": 0.5
             },
             "pattern": {
              "fillmode": "overlay",
              "size": 10,
              "solidity": 0.2
             }
            },
            "type": "barpolar"
           }
          ],
          "carpet": [
           {
            "aaxis": {
             "endlinecolor": "#2a3f5f",
             "gridcolor": "white",
             "linecolor": "white",
             "minorgridcolor": "white",
             "startlinecolor": "#2a3f5f"
            },
            "baxis": {
             "endlinecolor": "#2a3f5f",
             "gridcolor": "white",
             "linecolor": "white",
             "minorgridcolor": "white",
             "startlinecolor": "#2a3f5f"
            },
            "type": "carpet"
           }
          ],
          "choropleth": [
           {
            "colorbar": {
             "outlinewidth": 0,
             "ticks": ""
            },
            "type": "choropleth"
           }
          ],
          "contour": [
           {
            "colorbar": {
             "outlinewidth": 0,
             "ticks": ""
            },
            "colorscale": [
             [
              0,
              "#0d0887"
             ],
             [
              0.1111111111111111,
              "#46039f"
             ],
             [
              0.2222222222222222,
              "#7201a8"
             ],
             [
              0.3333333333333333,
              "#9c179e"
             ],
             [
              0.4444444444444444,
              "#bd3786"
             ],
             [
              0.5555555555555556,
              "#d8576b"
             ],
             [
              0.6666666666666666,
              "#ed7953"
             ],
             [
              0.7777777777777778,
              "#fb9f3a"
             ],
             [
              0.8888888888888888,
              "#fdca26"
             ],
             [
              1,
              "#f0f921"
             ]
            ],
            "type": "contour"
           }
          ],
          "contourcarpet": [
           {
            "colorbar": {
             "outlinewidth": 0,
             "ticks": ""
            },
            "type": "contourcarpet"
           }
          ],
          "heatmap": [
           {
            "colorbar": {
             "outlinewidth": 0,
             "ticks": ""
            },
            "colorscale": [
             [
              0,
              "#0d0887"
             ],
             [
              0.1111111111111111,
              "#46039f"
             ],
             [
              0.2222222222222222,
              "#7201a8"
             ],
             [
              0.3333333333333333,
              "#9c179e"
             ],
             [
              0.4444444444444444,
              "#bd3786"
             ],
             [
              0.5555555555555556,
              "#d8576b"
             ],
             [
              0.6666666666666666,
              "#ed7953"
             ],
             [
              0.7777777777777778,
              "#fb9f3a"
             ],
             [
              0.8888888888888888,
              "#fdca26"
             ],
             [
              1,
              "#f0f921"
             ]
            ],
            "type": "heatmap"
           }
          ],
          "heatmapgl": [
           {
            "colorbar": {
             "outlinewidth": 0,
             "ticks": ""
            },
            "colorscale": [
             [
              0,
              "#0d0887"
             ],
             [
              0.1111111111111111,
              "#46039f"
             ],
             [
              0.2222222222222222,
              "#7201a8"
             ],
             [
              0.3333333333333333,
              "#9c179e"
             ],
             [
              0.4444444444444444,
              "#bd3786"
             ],
             [
              0.5555555555555556,
              "#d8576b"
             ],
             [
              0.6666666666666666,
              "#ed7953"
             ],
             [
              0.7777777777777778,
              "#fb9f3a"
             ],
             [
              0.8888888888888888,
              "#fdca26"
             ],
             [
              1,
              "#f0f921"
             ]
            ],
            "type": "heatmapgl"
           }
          ],
          "histogram": [
           {
            "marker": {
             "pattern": {
              "fillmode": "overlay",
              "size": 10,
              "solidity": 0.2
             }
            },
            "type": "histogram"
           }
          ],
          "histogram2d": [
           {
            "colorbar": {
             "outlinewidth": 0,
             "ticks": ""
            },
            "colorscale": [
             [
              0,
              "#0d0887"
             ],
             [
              0.1111111111111111,
              "#46039f"
             ],
             [
              0.2222222222222222,
              "#7201a8"
             ],
             [
              0.3333333333333333,
              "#9c179e"
             ],
             [
              0.4444444444444444,
              "#bd3786"
             ],
             [
              0.5555555555555556,
              "#d8576b"
             ],
             [
              0.6666666666666666,
              "#ed7953"
             ],
             [
              0.7777777777777778,
              "#fb9f3a"
             ],
             [
              0.8888888888888888,
              "#fdca26"
             ],
             [
              1,
              "#f0f921"
             ]
            ],
            "type": "histogram2d"
           }
          ],
          "histogram2dcontour": [
           {
            "colorbar": {
             "outlinewidth": 0,
             "ticks": ""
            },
            "colorscale": [
             [
              0,
              "#0d0887"
             ],
             [
              0.1111111111111111,
              "#46039f"
             ],
             [
              0.2222222222222222,
              "#7201a8"
             ],
             [
              0.3333333333333333,
              "#9c179e"
             ],
             [
              0.4444444444444444,
              "#bd3786"
             ],
             [
              0.5555555555555556,
              "#d8576b"
             ],
             [
              0.6666666666666666,
              "#ed7953"
             ],
             [
              0.7777777777777778,
              "#fb9f3a"
             ],
             [
              0.8888888888888888,
              "#fdca26"
             ],
             [
              1,
              "#f0f921"
             ]
            ],
            "type": "histogram2dcontour"
           }
          ],
          "mesh3d": [
           {
            "colorbar": {
             "outlinewidth": 0,
             "ticks": ""
            },
            "type": "mesh3d"
           }
          ],
          "parcoords": [
           {
            "line": {
             "colorbar": {
              "outlinewidth": 0,
              "ticks": ""
             }
            },
            "type": "parcoords"
           }
          ],
          "pie": [
           {
            "automargin": true,
            "type": "pie"
           }
          ],
          "scatter": [
           {
            "fillpattern": {
             "fillmode": "overlay",
             "size": 10,
             "solidity": 0.2
            },
            "type": "scatter"
           }
          ],
          "scatter3d": [
           {
            "line": {
             "colorbar": {
              "outlinewidth": 0,
              "ticks": ""
             }
            },
            "marker": {
             "colorbar": {
              "outlinewidth": 0,
              "ticks": ""
             }
            },
            "type": "scatter3d"
           }
          ],
          "scattercarpet": [
           {
            "marker": {
             "colorbar": {
              "outlinewidth": 0,
              "ticks": ""
             }
            },
            "type": "scattercarpet"
           }
          ],
          "scattergeo": [
           {
            "marker": {
             "colorbar": {
              "outlinewidth": 0,
              "ticks": ""
             }
            },
            "type": "scattergeo"
           }
          ],
          "scattergl": [
           {
            "marker": {
             "colorbar": {
              "outlinewidth": 0,
              "ticks": ""
             }
            },
            "type": "scattergl"
           }
          ],
          "scattermapbox": [
           {
            "marker": {
             "colorbar": {
              "outlinewidth": 0,
              "ticks": ""
             }
            },
            "type": "scattermapbox"
           }
          ],
          "scatterpolar": [
           {
            "marker": {
             "colorbar": {
              "outlinewidth": 0,
              "ticks": ""
             }
            },
            "type": "scatterpolar"
           }
          ],
          "scatterpolargl": [
           {
            "marker": {
             "colorbar": {
              "outlinewidth": 0,
              "ticks": ""
             }
            },
            "type": "scatterpolargl"
           }
          ],
          "scatterternary": [
           {
            "marker": {
             "colorbar": {
              "outlinewidth": 0,
              "ticks": ""
             }
            },
            "type": "scatterternary"
           }
          ],
          "surface": [
           {
            "colorbar": {
             "outlinewidth": 0,
             "ticks": ""
            },
            "colorscale": [
             [
              0,
              "#0d0887"
             ],
             [
              0.1111111111111111,
              "#46039f"
             ],
             [
              0.2222222222222222,
              "#7201a8"
             ],
             [
              0.3333333333333333,
              "#9c179e"
             ],
             [
              0.4444444444444444,
              "#bd3786"
             ],
             [
              0.5555555555555556,
              "#d8576b"
             ],
             [
              0.6666666666666666,
              "#ed7953"
             ],
             [
              0.7777777777777778,
              "#fb9f3a"
             ],
             [
              0.8888888888888888,
              "#fdca26"
             ],
             [
              1,
              "#f0f921"
             ]
            ],
            "type": "surface"
           }
          ],
          "table": [
           {
            "cells": {
             "fill": {
              "color": "#EBF0F8"
             },
             "line": {
              "color": "white"
             }
            },
            "header": {
             "fill": {
              "color": "#C8D4E3"
             },
             "line": {
              "color": "white"
             }
            },
            "type": "table"
           }
          ]
         },
         "layout": {
          "annotationdefaults": {
           "arrowcolor": "#2a3f5f",
           "arrowhead": 0,
           "arrowwidth": 1
          },
          "autotypenumbers": "strict",
          "coloraxis": {
           "colorbar": {
            "outlinewidth": 0,
            "ticks": ""
           }
          },
          "colorscale": {
           "diverging": [
            [
             0,
             "#8e0152"
            ],
            [
             0.1,
             "#c51b7d"
            ],
            [
             0.2,
             "#de77ae"
            ],
            [
             0.3,
             "#f1b6da"
            ],
            [
             0.4,
             "#fde0ef"
            ],
            [
             0.5,
             "#f7f7f7"
            ],
            [
             0.6,
             "#e6f5d0"
            ],
            [
             0.7,
             "#b8e186"
            ],
            [
             0.8,
             "#7fbc41"
            ],
            [
             0.9,
             "#4d9221"
            ],
            [
             1,
             "#276419"
            ]
           ],
           "sequential": [
            [
             0,
             "#0d0887"
            ],
            [
             0.1111111111111111,
             "#46039f"
            ],
            [
             0.2222222222222222,
             "#7201a8"
            ],
            [
             0.3333333333333333,
             "#9c179e"
            ],
            [
             0.4444444444444444,
             "#bd3786"
            ],
            [
             0.5555555555555556,
             "#d8576b"
            ],
            [
             0.6666666666666666,
             "#ed7953"
            ],
            [
             0.7777777777777778,
             "#fb9f3a"
            ],
            [
             0.8888888888888888,
             "#fdca26"
            ],
            [
             1,
             "#f0f921"
            ]
           ],
           "sequentialminus": [
            [
             0,
             "#0d0887"
            ],
            [
             0.1111111111111111,
             "#46039f"
            ],
            [
             0.2222222222222222,
             "#7201a8"
            ],
            [
             0.3333333333333333,
             "#9c179e"
            ],
            [
             0.4444444444444444,
             "#bd3786"
            ],
            [
             0.5555555555555556,
             "#d8576b"
            ],
            [
             0.6666666666666666,
             "#ed7953"
            ],
            [
             0.7777777777777778,
             "#fb9f3a"
            ],
            [
             0.8888888888888888,
             "#fdca26"
            ],
            [
             1,
             "#f0f921"
            ]
           ]
          },
          "colorway": [
           "#636efa",
           "#EF553B",
           "#00cc96",
           "#ab63fa",
           "#FFA15A",
           "#19d3f3",
           "#FF6692",
           "#B6E880",
           "#FF97FF",
           "#FECB52"
          ],
          "font": {
           "color": "#2a3f5f"
          },
          "geo": {
           "bgcolor": "white",
           "lakecolor": "white",
           "landcolor": "#E5ECF6",
           "showlakes": true,
           "showland": true,
           "subunitcolor": "white"
          },
          "hoverlabel": {
           "align": "left"
          },
          "hovermode": "closest",
          "mapbox": {
           "style": "light"
          },
          "paper_bgcolor": "white",
          "plot_bgcolor": "#E5ECF6",
          "polar": {
           "angularaxis": {
            "gridcolor": "white",
            "linecolor": "white",
            "ticks": ""
           },
           "bgcolor": "#E5ECF6",
           "radialaxis": {
            "gridcolor": "white",
            "linecolor": "white",
            "ticks": ""
           }
          },
          "scene": {
           "xaxis": {
            "backgroundcolor": "#E5ECF6",
            "gridcolor": "white",
            "gridwidth": 2,
            "linecolor": "white",
            "showbackground": true,
            "ticks": "",
            "zerolinecolor": "white"
           },
           "yaxis": {
            "backgroundcolor": "#E5ECF6",
            "gridcolor": "white",
            "gridwidth": 2,
            "linecolor": "white",
            "showbackground": true,
            "ticks": "",
            "zerolinecolor": "white"
           },
           "zaxis": {
            "backgroundcolor": "#E5ECF6",
            "gridcolor": "white",
            "gridwidth": 2,
            "linecolor": "white",
            "showbackground": true,
            "ticks": "",
            "zerolinecolor": "white"
           }
          },
          "shapedefaults": {
           "line": {
            "color": "#2a3f5f"
           }
          },
          "ternary": {
           "aaxis": {
            "gridcolor": "white",
            "linecolor": "white",
            "ticks": ""
           },
           "baxis": {
            "gridcolor": "white",
            "linecolor": "white",
            "ticks": ""
           },
           "bgcolor": "#E5ECF6",
           "caxis": {
            "gridcolor": "white",
            "linecolor": "white",
            "ticks": ""
           }
          },
          "title": {
           "x": 0.05
          },
          "xaxis": {
           "automargin": true,
           "gridcolor": "white",
           "linecolor": "white",
           "ticks": "",
           "title": {
            "standoff": 15
           },
           "zerolinecolor": "white",
           "zerolinewidth": 2
          },
          "yaxis": {
           "automargin": true,
           "gridcolor": "white",
           "linecolor": "white",
           "ticks": "",
           "title": {
            "standoff": 15
           },
           "zerolinecolor": "white",
           "zerolinewidth": 2
          }
         }
        },
        "title": {
         "text": "USD_JPY_MA_8_16"
        },
        "width": 1000,
        "xaxis": {
         "linecolor": "#3a4a54",
         "linewidth": 1,
         "showgrid": false,
         "zeroline": false
        },
        "yaxis": {
         "linecolor": "#3a4a54",
         "linewidth": 1,
         "showgrid": false,
         "zeroline": false
        }
       }
      }
     },
     "metadata": {},
     "output_type": "display_data"
    },
    {
     "data": {
      "application/vnd.plotly.v1+json": {
       "config": {
        "plotlyServerURL": "https://plot.ly"
       },
       "data": [
        {
         "line": {
          "color": "#3d825f",
          "shape": "spline",
          "width": 2
         },
         "mode": "lines",
         "name": "USD_CHF_MA_8_16",
         "type": "scatter",
         "x": [
          "2023-09-06T05:00:00+00:00",
          "2023-09-06T11:00:00+00:00",
          "2023-09-07T01:00:00+00:00",
          "2023-09-07T07:00:00+00:00",
          "2023-09-08T00:00:00+00:00",
          "2023-09-08T14:00:00+00:00",
          "2023-09-11T02:00:00+00:00",
          "2023-09-11T14:00:00+00:00",
          "2023-09-11T19:00:00+00:00",
          "2023-09-12T03:00:00+00:00",
          "2023-09-12T21:00:00+00:00",
          "2023-09-13T06:00:00+00:00",
          "2023-09-14T04:00:00+00:00",
          "2023-09-14T12:00:00+00:00",
          "2023-09-15T04:00:00+00:00",
          "2023-09-15T12:00:00+00:00",
          "2023-09-18T07:00:00+00:00",
          "2023-09-18T16:00:00+00:00",
          "2023-09-19T02:00:00+00:00",
          "2023-09-19T05:00:00+00:00",
          "2023-09-19T07:00:00+00:00",
          "2023-09-19T17:00:00+00:00",
          "2023-09-20T04:00:00+00:00",
          "2023-09-20T07:00:00+00:00",
          "2023-09-20T10:00:00+00:00",
          "2023-09-20T22:00:00+00:00",
          "2023-09-21T20:00:00+00:00",
          "2023-09-22T01:00:00+00:00",
          "2023-09-26T14:00:00+00:00",
          "2023-09-26T16:00:00+00:00",
          "2023-09-28T07:00:00+00:00",
          "2023-09-29T16:00:00+00:00",
          "2023-10-02T07:00:00+00:00",
          "2023-10-02T15:00:00+00:00",
          "2023-10-03T21:00:00+00:00",
          "2023-10-04T04:00:00+00:00",
          "2023-10-04T09:00:00+00:00",
          "2023-10-05T10:00:00+00:00",
          "2023-10-05T16:00:00+00:00",
          "2023-10-06T05:00:00+00:00",
          "2023-10-06T15:00:00+00:00",
          "2023-10-09T06:00:00+00:00",
          "2023-10-09T14:00:00+00:00",
          "2023-10-10T12:00:00+00:00",
          "2023-10-10T15:00:00+00:00",
          "2023-10-10T17:00:00+00:00",
          "2023-10-10T19:00:00+00:00",
          "2023-10-12T13:00:00+00:00",
          "2023-10-13T05:00:00+00:00",
          "2023-10-16T06:00:00+00:00",
          "2023-10-16T15:00:00+00:00",
          "2023-10-17T05:00:00+00:00",
          "2023-10-17T16:00:00+00:00",
          "2023-10-18T22:00:00+00:00",
          "2023-10-19T10:00:00+00:00",
          "2023-10-20T07:00:00+00:00",
          "2023-10-20T12:00:00+00:00",
          "2023-10-20T19:00:00+00:00",
          "2023-10-23T11:00:00+00:00",
          "2023-10-24T09:00:00+00:00",
          "2023-10-25T00:00:00+00:00",
          "2023-10-25T08:00:00+00:00",
          "2023-10-27T04:00:00+00:00",
          "2023-10-27T08:00:00+00:00",
          "2023-10-30T15:00:00+00:00",
          "2023-10-31T03:00:00+00:00",
          "2023-10-31T10:00:00+00:00",
          "2023-10-31T12:00:00+00:00",
          "2023-11-01T07:00:00+00:00",
          "2023-11-01T18:00:00+00:00",
          "2023-11-01T19:00:00+00:00",
          "2023-11-01T20:00:00+00:00",
          "2023-11-01T21:00:00+00:00",
          "2023-11-02T15:00:00+00:00",
          "2023-11-03T06:00:00+00:00",
          "2023-11-06T17:00:00+00:00",
          "2023-11-07T22:00:00+00:00",
          "2023-11-08T06:00:00+00:00",
          "2023-11-08T15:00:00+00:00",
          "2023-11-09T04:00:00+00:00",
          "2023-11-10T10:00:00+00:00",
          "2023-11-10T21:00:00+00:00",
          "2023-11-13T02:00:00+00:00",
          "2023-11-13T12:00:00+00:00",
          "2023-11-13T20:00:00+00:00",
          "2023-11-14T05:00:00+00:00",
          "2023-11-14T12:00:00+00:00",
          "2023-11-16T00:00:00+00:00",
          "2023-11-16T15:00:00+00:00",
          "2023-11-16T23:00:00+00:00",
          "2023-11-17T08:00:00+00:00",
          "2023-11-20T17:00:00+00:00",
          "2023-11-21T03:00:00+00:00",
          "2023-11-21T13:00:00+00:00",
          "2023-11-21T16:00:00+00:00",
          "2023-11-21T23:00:00+00:00",
          "2023-11-22T05:00:00+00:00",
          "2023-11-22T06:00:00+00:00",
          "2023-11-22T07:00:00+00:00",
          "2023-11-22T08:00:00+00:00",
          "2023-11-22T23:00:00+00:00",
          "2023-11-23T14:00:00+00:00",
          "2023-11-24T07:00:00+00:00",
          "2023-11-27T03:00:00+00:00",
          "2023-11-27T08:00:00+00:00",
          "2023-11-27T21:00:00+00:00",
          "2023-11-28T00:00:00+00:00",
          "2023-11-28T09:00:00+00:00",
          "2023-11-28T15:00:00+00:00",
          "2023-11-30T10:00:00+00:00",
          "2023-11-30T21:00:00+00:00",
          "2023-11-30T23:00:00+00:00",
          "2023-12-01T07:00:00+00:00",
          "2023-12-01T13:00:00+00:00",
          "2023-12-01T16:00:00+00:00",
          "2023-12-04T06:00:00+00:00",
          "2023-12-05T00:00:00+00:00",
          "2023-12-05T09:00:00+00:00",
          "2023-12-06T04:00:00+00:00",
          "2023-12-06T22:00:00+00:00",
          "2023-12-07T10:00:00+00:00",
          "2023-12-07T15:00:00+00:00",
          "2023-12-07T23:00:00+00:00",
          "2023-12-08T06:00:00+00:00",
          "2023-12-08T12:00:00+00:00",
          "2023-12-08T13:00:00+00:00",
          "2023-12-11T04:00:00+00:00",
          "2023-12-11T11:00:00+00:00",
          "2023-12-11T19:00:00+00:00",
          "2023-12-13T07:00:00+00:00",
          "2023-12-13T19:00:00+00:00",
          "2023-12-14T13:00:00+00:00",
          "2023-12-14T15:00:00+00:00",
          "2023-12-15T02:00:00+00:00",
          "2023-12-15T09:00:00+00:00",
          "2023-12-15T13:00:00+00:00",
          "2023-12-18T07:00:00+00:00",
          "2023-12-20T05:00:00+00:00",
          "2023-12-20T20:00:00+00:00",
          "2023-12-20T22:00:00+00:00",
          "2023-12-21T06:00:00+00:00",
          "2023-12-22T21:00:00+00:00",
          "2023-12-26T06:00:00+00:00",
          "2023-12-26T10:00:00+00:00",
          "2023-12-26T18:00:00+00:00",
          "2023-12-28T19:00:00+00:00",
          "2023-12-29T07:00:00+00:00",
          "2023-12-29T20:00:00+00:00",
          "2024-01-03T06:00:00+00:00",
          "2024-01-03T09:00:00+00:00",
          "2024-01-03T21:00:00+00:00",
          "2024-01-04T11:00:00+00:00",
          "2024-01-05T01:00:00+00:00",
          "2024-01-05T08:00:00+00:00",
          "2024-01-05T17:00:00+00:00",
          "2024-01-08T03:00:00+00:00",
          "2024-01-08T12:00:00+00:00",
          "2024-01-09T05:00:00+00:00",
          "2024-01-09T07:00:00+00:00",
          "2024-01-09T09:00:00+00:00",
          "2024-01-10T14:00:00+00:00",
          "2024-01-11T11:00:00+00:00",
          "2024-01-12T01:00:00+00:00",
          "2024-01-12T09:00:00+00:00",
          "2024-01-12T18:00:00+00:00",
          "2024-01-14T23:00:00+00:00",
          "2024-01-18T00:00:00+00:00",
          "2024-01-18T10:00:00+00:00",
          "2024-01-19T03:00:00+00:00",
          "2024-01-19T10:00:00+00:00",
          "2024-01-21T23:00:00+00:00",
          "2024-01-22T10:00:00+00:00",
          "2024-01-23T03:00:00+00:00",
          "2024-01-23T13:00:00+00:00",
          "2024-01-24T02:00:00+00:00",
          "2024-01-25T02:00:00+00:00",
          "2024-01-26T05:00:00+00:00",
          "2024-01-28T23:00:00+00:00",
          "2024-01-29T06:00:00+00:00",
          "2024-01-29T16:00:00+00:00",
          "2024-01-29T23:00:00+00:00",
          "2024-01-30T09:00:00+00:00",
          "2024-01-30T20:00:00+00:00",
          "2024-01-31T04:00:00+00:00",
          "2024-01-31T14:00:00+00:00",
          "2024-02-01T00:00:00+00:00",
          "2024-02-01T14:00:00+00:00",
          "2024-02-02T13:00:00+00:00",
          "2024-02-06T04:00:00+00:00",
          "2024-02-06T10:00:00+00:00",
          "2024-02-06T20:00:00+00:00",
          "2024-02-07T09:00:00+00:00",
          "2024-02-08T05:00:00+00:00",
          "2024-02-08T13:00:00+00:00",
          "2024-02-08T22:00:00+00:00",
          "2024-02-09T06:00:00+00:00",
          "2024-02-09T20:00:00+00:00",
          "2024-02-12T10:00:00+00:00",
          "2024-02-12T23:00:00+00:00",
          "2024-02-13T02:00:00+00:00",
          "2024-02-14T05:00:00+00:00",
          "2024-02-14T12:00:00+00:00",
          "2024-02-14T17:00:00+00:00",
          "2024-02-16T04:00:00+00:00",
          "2024-02-16T21:00:00+00:00",
          "2024-02-19T07:00:00+00:00",
          "2024-02-20T10:00:00+00:00",
          "2024-02-20T23:00:00+00:00",
          "2024-02-21T06:00:00+00:00",
          "2024-02-22T15:00:00+00:00",
          "2024-02-23T02:00:00+00:00",
          "2024-02-23T08:00:00+00:00",
          "2024-02-23T13:00:00+00:00",
          "2024-02-23T20:00:00+00:00",
          "2024-02-26T09:00:00+00:00",
          "2024-02-26T20:00:00+00:00",
          "2024-02-27T02:00:00+00:00",
          "2024-02-27T17:00:00+00:00",
          "2024-02-27T19:00:00+00:00",
          "2024-02-27T20:00:00+00:00",
          "2024-02-27T21:00:00+00:00",
          "2024-02-28T05:00:00+00:00",
          "2024-02-28T17:00:00+00:00",
          "2024-02-29T11:00:00+00:00",
          "2024-03-01T20:00:00+00:00",
          "2024-03-04T14:00:00+00:00",
          "2024-03-05T16:00:00+00:00",
          "2024-03-06T04:00:00+00:00",
          "2024-03-06T14:00:00+00:00",
          "2024-03-08T21:00:00+00:00",
          "2024-03-11T07:00:00+00:00",
          "2024-03-11T15:00:00+00:00",
          "2024-03-12T00:00:00+00:00",
          "2024-03-12T15:00:00+00:00",
          "2024-03-13T01:00:00+00:00",
          "2024-03-13T08:00:00+00:00",
          "2024-03-13T16:00:00+00:00",
          "2024-03-13T21:00:00+00:00",
          "2024-03-15T11:00:00+00:00",
          "2024-03-17T21:00:00+00:00",
          "2024-03-18T03:00:00+00:00",
          "2024-03-18T09:00:00+00:00",
          "2024-03-19T14:00:00+00:00",
          "2024-03-19T22:00:00+00:00",
          "2024-03-20T19:00:00+00:00",
          "2024-03-21T09:00:00+00:00",
          "2024-03-22T16:00:00+00:00",
          "2024-03-25T10:00:00+00:00",
          "2024-03-27T20:00:00+00:00",
          "2024-03-28T05:00:00+00:00",
          "2024-03-28T13:00:00+00:00",
          "2024-03-29T03:00:00+00:00",
          "2024-03-29T11:00:00+00:00",
          "2024-03-29T20:00:00+00:00",
          "2024-04-01T06:00:00+00:00",
          "2024-04-01T14:00:00+00:00",
          "2024-04-02T18:00:00+00:00",
          "2024-04-02T23:00:00+00:00",
          "2024-04-03T14:00:00+00:00",
          "2024-04-04T06:00:00+00:00",
          "2024-04-04T18:00:00+00:00",
          "2024-04-05T08:00:00+00:00",
          "2024-04-05T18:00:00+00:00",
          "2024-04-08T01:00:00+00:00",
          "2024-04-08T20:00:00+00:00",
          "2024-04-09T01:00:00+00:00",
          "2024-04-09T05:00:00+00:00",
          "2024-04-09T23:00:00+00:00",
          "2024-04-11T05:00:00+00:00",
          "2024-04-11T06:00:00+00:00",
          "2024-04-11T12:00:00+00:00",
          "2024-04-12T05:00:00+00:00",
          "2024-04-15T08:00:00+00:00",
          "2024-04-15T19:00:00+00:00",
          "2024-04-15T20:00:00+00:00",
          "2024-04-16T06:00:00+00:00",
          "2024-04-16T14:00:00+00:00",
          "2024-04-16T15:00:00+00:00",
          "2024-04-16T16:00:00+00:00",
          "2024-04-16T20:00:00+00:00",
          "2024-04-16T21:00:00+00:00",
          "2024-04-17T16:00:00+00:00",
          "2024-04-17T18:00:00+00:00",
          "2024-04-17T19:00:00+00:00",
          "2024-04-17T22:00:00+00:00",
          "2024-04-18T15:00:00+00:00",
          "2024-04-19T02:00:00+00:00",
          "2024-04-19T15:00:00+00:00",
          "2024-04-23T12:00:00+00:00",
          "2024-04-23T21:00:00+00:00",
          "2024-04-25T06:00:00+00:00",
          "2024-04-25T17:00:00+00:00",
          "2024-04-25T20:00:00+00:00",
          "2024-04-26T05:00:00+00:00",
          "2024-04-26T10:00:00+00:00"
         ],
         "y": [
          -21.999999999999797,
          -15.800000000000258,
          -21.400000000000308,
          -23.999999999999577,
          -27.999999999999137,
          -29.999999999998916,
          -29.599999999998516,
          -36.199999999998454,
          -39.39999999999832,
          -35.19999999999856,
          -38.39999999999843,
          -33.99999999999736,
          -60.999999999996604,
          -58.399999999996226,
          -75.79999999999586,
          -84.69999999999533,
          -92.7999999999951,
          -85.99999999999496,
          -86.59999999999445,
          -114.1999999999943,
          -143.99999999999415,
          -141.19999999999357,
          -135.7999999999937,
          -143.79999999999393,
          -168.5999999999932,
          -115.79999999999258,
          -119.59999999999194,
          -32.199999999991135,
          -41.99999999999095,
          15.80000000000912,
          74.80000000000928,
          48.200000000009325,
          -10.399999999990435,
          23.500000000009607,
          20.200000000009084,
          -8.999999999991253,
          19.10000000000854,
          -1.199999999991224,
          -5.799999999990273,
          -64.19999999998983,
          -95.79999999999035,
          -136.49999999999054,
          -131.19999999999024,
          -160.09999999998973,
          -173.8999999999891,
          -180.29999999998884,
          -186.59999999998902,
          -173.2999999999896,
          -132.79999999998964,
          -151.59999999998956,
          -159.9999999999902,
          -168.9999999999903,
          -151.39999999999048,
          -161.7999999999909,
          -91.89999999999037,
          -72.9999999999898,
          -65.99999999998946,
          -60.999999999988894,
          -66.8999999999887,
          -68.39999999998852,
          -89.39999999998844,
          -54.29999999998831,
          -73.39999999998798,
          -61.499999999987736,
          -72.09999999998723,
          -78.79999999998671,
          -105.19999999998646,
          -60.399999999986065,
          -57.79999999998569,
          -69.19999999998599,
          -68.7999999999867,
          -69.1999999999871,
          -53.199999999986645,
          -59.49999999998684,
          17.600000000013097,
          37.400000000014025,
          21.100000000014933,
          -7.199999999985057,
          -13.699999999985451,
          -0.0999999999851724,
          -18.09999999998541,
          -18.599999999985357,
          -44.999999999985114,
          -76.59999999998563,
          -83.09999999998603,
          -94.69999999998652,
          45.40000000001314,
          46.000000000012626,
          34.000000000011724,
          25.000000000011603,
          52.900000000012305,
          33.80000000001263,
          35.700000000012864,
          39.70000000001353,
          37.400000000014,
          42.20000000001436,
          38.30000000001435,
          32.200000000014356,
          13.200000000014228,
          -1.5999999999861405,
          3.400000000013309,
          8.900000000012703,
          29.400000000012664,
          12.400000000012316,
          13.30000000001155,
          9.500000000011081,
          9.400000000010426,
          -6.699999999989576,
          24.200000000010796,
          24.200000000010796,
          28.800000000010954,
          28.9000000000105,
          12.800000000010499,
          -44.59999999998917,
          -48.59999999998873,
          -42.99999999998868,
          -62.59999999998941,
          -49.19999999998933,
          -47.99999999998924,
          -57.39999999998976,
          -84.19999999998991,
          -94.69999999998987,
          -98.19999999998949,
          -104.39999999998902,
          -147.1999999999885,
          -141.39999999998827,
          -140.99999999998897,
          -157.5999999999889,
          -127.79999999998797,
          -185.39999999998784,
          -185.89999999998778,
          -222.3999999999871,
          -228.0999999999867,
          -227.19999999998635,
          -252.9999999999866,
          -262.0999999999874,
          -191.79999999998762,
          -167.39999999998764,
          -157.0999999999879,
          -161.5999999999885,
          -97.59999999998891,
          -107.39999999998872,
          -130.3999999999884,
          -152.9999999999877,
          -37.99999999998704,
          -58.799999999986746,
          -55.79999999998708,
          36.60000000001206,
          25.200000000011762,
          0.8000000000117851,
          -15.399999999987763,
          -29.299999999987786,
          -58.29999999998792,
          -80.29999999998772,
          -99.59999999998759,
          -115.99999999998734,
          -90.99999999998786,
          -92.59999999998836,
          -113.89999999998801,
          -87.49999999998715,
          -67.49999999998714,
          -55.399999999987806,
          -77.3999999999876,
          -88.89999999998744,
          -97.39999999998761,
          7.0000000000124345,
          0.30000000001295035,
          35.20000000001399,
          23.600000000014603,
          16.800000000014464,
          17.200000000013752,
          0.9000000000135486,
          -17.199999999986233,
          -5.799999999985934,
          48.800000000014265,
          71.80000000001395,
          94.60000000001344,
          85.40000000001312,
          79.80000000001307,
          53.600000000013516,
          37.10000000001422,
          23.400000000014394,
          12.30000000001495,
          -56.399999999984374,
          -123.99999999998425,
          -131.7999999999843,
          -149.0999999999844,
          -87.3999999999843,
          -114.79999999998395,
          -142.599999999984,
          -158.19999999998404,
          -140.19999999998382,
          -168.99999999998374,
          -193.79999999998412,
          -201.99999999998454,
          -200.0999999999843,
          -204.9999999999842,
          -196.3999999999845,
          -202.49999999998448,
          -106.29999999998486,
          -113.79999999998515,
          -130.7999999999855,
          -91.19999999998586,
          -94.39999999998574,
          -99.59999999998539,
          -102.19999999998466,
          -110.19999999998377,
          -117.39999999998321,
          -124.19999999998335,
          -137.99999999998383,
          -144.79999999998398,
          -158.59999999998334,
          -171.7999999999832,
          -184.9999999999831,
          -188.09999999998232,
          -188.99999999998155,
          -186.79999999998157,
          -187.79999999998256,
          -185.7999999999828,
          -194.999999999982,
          -211.69999999998151,
          -223.0999999999818,
          -232.49999999998232,
          -200.6999999999827,
          -212.19999999998254,
          -218.79999999998248,
          -225.59999999998263,
          -239.7999999999824,
          -186.99999999998175,
          -204.49999999998093,
          -227.79999999998037,
          -236.79999999998049,
          -245.19999999998112,
          -250.19999999998169,
          -258.09999999998234,
          -265.49999999998306,
          -274.7999999999829,
          -241.5999999999819,
          -254.99999999998198,
          -255.7999999999828,
          -263.69999999998345,
          -226.99999999998394,
          -230.399999999984,
          -244.39999999998358,
          -324.19999999998345,
          -283.59999999998394,
          -275.39999999998463,
          -217.09999999998462,
          -229.99999999998363,
          -264.7999999999829,
          -271.7999999999821,
          -278.4999999999816,
          -278.6999999999818,
          -276.2999999999816,
          -305.9999999999808,
          -272.69999999998026,
          -269.39999999997974,
          -289.4999999999793,
          -299.3999999999798,
          -337.3999999999801,
          -341.9999999999802,
          -354.5999999999806,
          -371.6999999999805,
          -356.9999999999808,
          -356.2999999999806,
          -364.69999999998015,
          -351.29999999998006,
          -254.7999999999796,
          -272.2999999999788,
          -328.7999999999781,
          -352.1999999999782,
          -335.59999999997825,
          -329.8999999999775,
          -337.69999999997754,
          -356.3999999999779,
          -361.39999999997735,
          -360.79999999997676,
          -364.399999999977,
          -369.99999999997704,
          -372.69999999997697,
          -354.49999999997766,
          -359.3999999999776,
          -357.39999999997667,
          -355.39999999997576,
          -365.79999999997506,
          -426.69999999997435,
          -464.3999999999738,
          -441.99999999997357,
          -444.4999999999733,
          -430.99999999997254,
          -423.3999999999716,
          -423.69999999997134,
          -432.59999999997194,
          -440.8999999999719,
          -460.79999999997125
         ]
        }
       ],
       "layout": {
        "font": {
         "color": "#e1e1e1",
         "size": 10
        },
        "height": 400,
        "margin": {
         "b": 10,
         "l": 15,
         "r": 15
        },
        "paper_bgcolor": "#1e1e1e",
        "plot_bgcolor": "#1e1e1e",
        "template": {
         "data": {
          "bar": [
           {
            "error_x": {
             "color": "#2a3f5f"
            },
            "error_y": {
             "color": "#2a3f5f"
            },
            "marker": {
             "line": {
              "color": "#E5ECF6",
              "width": 0.5
             },
             "pattern": {
              "fillmode": "overlay",
              "size": 10,
              "solidity": 0.2
             }
            },
            "type": "bar"
           }
          ],
          "barpolar": [
           {
            "marker": {
             "line": {
              "color": "#E5ECF6",
              "width": 0.5
             },
             "pattern": {
              "fillmode": "overlay",
              "size": 10,
              "solidity": 0.2
             }
            },
            "type": "barpolar"
           }
          ],
          "carpet": [
           {
            "aaxis": {
             "endlinecolor": "#2a3f5f",
             "gridcolor": "white",
             "linecolor": "white",
             "minorgridcolor": "white",
             "startlinecolor": "#2a3f5f"
            },
            "baxis": {
             "endlinecolor": "#2a3f5f",
             "gridcolor": "white",
             "linecolor": "white",
             "minorgridcolor": "white",
             "startlinecolor": "#2a3f5f"
            },
            "type": "carpet"
           }
          ],
          "choropleth": [
           {
            "colorbar": {
             "outlinewidth": 0,
             "ticks": ""
            },
            "type": "choropleth"
           }
          ],
          "contour": [
           {
            "colorbar": {
             "outlinewidth": 0,
             "ticks": ""
            },
            "colorscale": [
             [
              0,
              "#0d0887"
             ],
             [
              0.1111111111111111,
              "#46039f"
             ],
             [
              0.2222222222222222,
              "#7201a8"
             ],
             [
              0.3333333333333333,
              "#9c179e"
             ],
             [
              0.4444444444444444,
              "#bd3786"
             ],
             [
              0.5555555555555556,
              "#d8576b"
             ],
             [
              0.6666666666666666,
              "#ed7953"
             ],
             [
              0.7777777777777778,
              "#fb9f3a"
             ],
             [
              0.8888888888888888,
              "#fdca26"
             ],
             [
              1,
              "#f0f921"
             ]
            ],
            "type": "contour"
           }
          ],
          "contourcarpet": [
           {
            "colorbar": {
             "outlinewidth": 0,
             "ticks": ""
            },
            "type": "contourcarpet"
           }
          ],
          "heatmap": [
           {
            "colorbar": {
             "outlinewidth": 0,
             "ticks": ""
            },
            "colorscale": [
             [
              0,
              "#0d0887"
             ],
             [
              0.1111111111111111,
              "#46039f"
             ],
             [
              0.2222222222222222,
              "#7201a8"
             ],
             [
              0.3333333333333333,
              "#9c179e"
             ],
             [
              0.4444444444444444,
              "#bd3786"
             ],
             [
              0.5555555555555556,
              "#d8576b"
             ],
             [
              0.6666666666666666,
              "#ed7953"
             ],
             [
              0.7777777777777778,
              "#fb9f3a"
             ],
             [
              0.8888888888888888,
              "#fdca26"
             ],
             [
              1,
              "#f0f921"
             ]
            ],
            "type": "heatmap"
           }
          ],
          "heatmapgl": [
           {
            "colorbar": {
             "outlinewidth": 0,
             "ticks": ""
            },
            "colorscale": [
             [
              0,
              "#0d0887"
             ],
             [
              0.1111111111111111,
              "#46039f"
             ],
             [
              0.2222222222222222,
              "#7201a8"
             ],
             [
              0.3333333333333333,
              "#9c179e"
             ],
             [
              0.4444444444444444,
              "#bd3786"
             ],
             [
              0.5555555555555556,
              "#d8576b"
             ],
             [
              0.6666666666666666,
              "#ed7953"
             ],
             [
              0.7777777777777778,
              "#fb9f3a"
             ],
             [
              0.8888888888888888,
              "#fdca26"
             ],
             [
              1,
              "#f0f921"
             ]
            ],
            "type": "heatmapgl"
           }
          ],
          "histogram": [
           {
            "marker": {
             "pattern": {
              "fillmode": "overlay",
              "size": 10,
              "solidity": 0.2
             }
            },
            "type": "histogram"
           }
          ],
          "histogram2d": [
           {
            "colorbar": {
             "outlinewidth": 0,
             "ticks": ""
            },
            "colorscale": [
             [
              0,
              "#0d0887"
             ],
             [
              0.1111111111111111,
              "#46039f"
             ],
             [
              0.2222222222222222,
              "#7201a8"
             ],
             [
              0.3333333333333333,
              "#9c179e"
             ],
             [
              0.4444444444444444,
              "#bd3786"
             ],
             [
              0.5555555555555556,
              "#d8576b"
             ],
             [
              0.6666666666666666,
              "#ed7953"
             ],
             [
              0.7777777777777778,
              "#fb9f3a"
             ],
             [
              0.8888888888888888,
              "#fdca26"
             ],
             [
              1,
              "#f0f921"
             ]
            ],
            "type": "histogram2d"
           }
          ],
          "histogram2dcontour": [
           {
            "colorbar": {
             "outlinewidth": 0,
             "ticks": ""
            },
            "colorscale": [
             [
              0,
              "#0d0887"
             ],
             [
              0.1111111111111111,
              "#46039f"
             ],
             [
              0.2222222222222222,
              "#7201a8"
             ],
             [
              0.3333333333333333,
              "#9c179e"
             ],
             [
              0.4444444444444444,
              "#bd3786"
             ],
             [
              0.5555555555555556,
              "#d8576b"
             ],
             [
              0.6666666666666666,
              "#ed7953"
             ],
             [
              0.7777777777777778,
              "#fb9f3a"
             ],
             [
              0.8888888888888888,
              "#fdca26"
             ],
             [
              1,
              "#f0f921"
             ]
            ],
            "type": "histogram2dcontour"
           }
          ],
          "mesh3d": [
           {
            "colorbar": {
             "outlinewidth": 0,
             "ticks": ""
            },
            "type": "mesh3d"
           }
          ],
          "parcoords": [
           {
            "line": {
             "colorbar": {
              "outlinewidth": 0,
              "ticks": ""
             }
            },
            "type": "parcoords"
           }
          ],
          "pie": [
           {
            "automargin": true,
            "type": "pie"
           }
          ],
          "scatter": [
           {
            "fillpattern": {
             "fillmode": "overlay",
             "size": 10,
             "solidity": 0.2
            },
            "type": "scatter"
           }
          ],
          "scatter3d": [
           {
            "line": {
             "colorbar": {
              "outlinewidth": 0,
              "ticks": ""
             }
            },
            "marker": {
             "colorbar": {
              "outlinewidth": 0,
              "ticks": ""
             }
            },
            "type": "scatter3d"
           }
          ],
          "scattercarpet": [
           {
            "marker": {
             "colorbar": {
              "outlinewidth": 0,
              "ticks": ""
             }
            },
            "type": "scattercarpet"
           }
          ],
          "scattergeo": [
           {
            "marker": {
             "colorbar": {
              "outlinewidth": 0,
              "ticks": ""
             }
            },
            "type": "scattergeo"
           }
          ],
          "scattergl": [
           {
            "marker": {
             "colorbar": {
              "outlinewidth": 0,
              "ticks": ""
             }
            },
            "type": "scattergl"
           }
          ],
          "scattermapbox": [
           {
            "marker": {
             "colorbar": {
              "outlinewidth": 0,
              "ticks": ""
             }
            },
            "type": "scattermapbox"
           }
          ],
          "scatterpolar": [
           {
            "marker": {
             "colorbar": {
              "outlinewidth": 0,
              "ticks": ""
             }
            },
            "type": "scatterpolar"
           }
          ],
          "scatterpolargl": [
           {
            "marker": {
             "colorbar": {
              "outlinewidth": 0,
              "ticks": ""
             }
            },
            "type": "scatterpolargl"
           }
          ],
          "scatterternary": [
           {
            "marker": {
             "colorbar": {
              "outlinewidth": 0,
              "ticks": ""
             }
            },
            "type": "scatterternary"
           }
          ],
          "surface": [
           {
            "colorbar": {
             "outlinewidth": 0,
             "ticks": ""
            },
            "colorscale": [
             [
              0,
              "#0d0887"
             ],
             [
              0.1111111111111111,
              "#46039f"
             ],
             [
              0.2222222222222222,
              "#7201a8"
             ],
             [
              0.3333333333333333,
              "#9c179e"
             ],
             [
              0.4444444444444444,
              "#bd3786"
             ],
             [
              0.5555555555555556,
              "#d8576b"
             ],
             [
              0.6666666666666666,
              "#ed7953"
             ],
             [
              0.7777777777777778,
              "#fb9f3a"
             ],
             [
              0.8888888888888888,
              "#fdca26"
             ],
             [
              1,
              "#f0f921"
             ]
            ],
            "type": "surface"
           }
          ],
          "table": [
           {
            "cells": {
             "fill": {
              "color": "#EBF0F8"
             },
             "line": {
              "color": "white"
             }
            },
            "header": {
             "fill": {
              "color": "#C8D4E3"
             },
             "line": {
              "color": "white"
             }
            },
            "type": "table"
           }
          ]
         },
         "layout": {
          "annotationdefaults": {
           "arrowcolor": "#2a3f5f",
           "arrowhead": 0,
           "arrowwidth": 1
          },
          "autotypenumbers": "strict",
          "coloraxis": {
           "colorbar": {
            "outlinewidth": 0,
            "ticks": ""
           }
          },
          "colorscale": {
           "diverging": [
            [
             0,
             "#8e0152"
            ],
            [
             0.1,
             "#c51b7d"
            ],
            [
             0.2,
             "#de77ae"
            ],
            [
             0.3,
             "#f1b6da"
            ],
            [
             0.4,
             "#fde0ef"
            ],
            [
             0.5,
             "#f7f7f7"
            ],
            [
             0.6,
             "#e6f5d0"
            ],
            [
             0.7,
             "#b8e186"
            ],
            [
             0.8,
             "#7fbc41"
            ],
            [
             0.9,
             "#4d9221"
            ],
            [
             1,
             "#276419"
            ]
           ],
           "sequential": [
            [
             0,
             "#0d0887"
            ],
            [
             0.1111111111111111,
             "#46039f"
            ],
            [
             0.2222222222222222,
             "#7201a8"
            ],
            [
             0.3333333333333333,
             "#9c179e"
            ],
            [
             0.4444444444444444,
             "#bd3786"
            ],
            [
             0.5555555555555556,
             "#d8576b"
            ],
            [
             0.6666666666666666,
             "#ed7953"
            ],
            [
             0.7777777777777778,
             "#fb9f3a"
            ],
            [
             0.8888888888888888,
             "#fdca26"
            ],
            [
             1,
             "#f0f921"
            ]
           ],
           "sequentialminus": [
            [
             0,
             "#0d0887"
            ],
            [
             0.1111111111111111,
             "#46039f"
            ],
            [
             0.2222222222222222,
             "#7201a8"
            ],
            [
             0.3333333333333333,
             "#9c179e"
            ],
            [
             0.4444444444444444,
             "#bd3786"
            ],
            [
             0.5555555555555556,
             "#d8576b"
            ],
            [
             0.6666666666666666,
             "#ed7953"
            ],
            [
             0.7777777777777778,
             "#fb9f3a"
            ],
            [
             0.8888888888888888,
             "#fdca26"
            ],
            [
             1,
             "#f0f921"
            ]
           ]
          },
          "colorway": [
           "#636efa",
           "#EF553B",
           "#00cc96",
           "#ab63fa",
           "#FFA15A",
           "#19d3f3",
           "#FF6692",
           "#B6E880",
           "#FF97FF",
           "#FECB52"
          ],
          "font": {
           "color": "#2a3f5f"
          },
          "geo": {
           "bgcolor": "white",
           "lakecolor": "white",
           "landcolor": "#E5ECF6",
           "showlakes": true,
           "showland": true,
           "subunitcolor": "white"
          },
          "hoverlabel": {
           "align": "left"
          },
          "hovermode": "closest",
          "mapbox": {
           "style": "light"
          },
          "paper_bgcolor": "white",
          "plot_bgcolor": "#E5ECF6",
          "polar": {
           "angularaxis": {
            "gridcolor": "white",
            "linecolor": "white",
            "ticks": ""
           },
           "bgcolor": "#E5ECF6",
           "radialaxis": {
            "gridcolor": "white",
            "linecolor": "white",
            "ticks": ""
           }
          },
          "scene": {
           "xaxis": {
            "backgroundcolor": "#E5ECF6",
            "gridcolor": "white",
            "gridwidth": 2,
            "linecolor": "white",
            "showbackground": true,
            "ticks": "",
            "zerolinecolor": "white"
           },
           "yaxis": {
            "backgroundcolor": "#E5ECF6",
            "gridcolor": "white",
            "gridwidth": 2,
            "linecolor": "white",
            "showbackground": true,
            "ticks": "",
            "zerolinecolor": "white"
           },
           "zaxis": {
            "backgroundcolor": "#E5ECF6",
            "gridcolor": "white",
            "gridwidth": 2,
            "linecolor": "white",
            "showbackground": true,
            "ticks": "",
            "zerolinecolor": "white"
           }
          },
          "shapedefaults": {
           "line": {
            "color": "#2a3f5f"
           }
          },
          "ternary": {
           "aaxis": {
            "gridcolor": "white",
            "linecolor": "white",
            "ticks": ""
           },
           "baxis": {
            "gridcolor": "white",
            "linecolor": "white",
            "ticks": ""
           },
           "bgcolor": "#E5ECF6",
           "caxis": {
            "gridcolor": "white",
            "linecolor": "white",
            "ticks": ""
           }
          },
          "title": {
           "x": 0.05
          },
          "xaxis": {
           "automargin": true,
           "gridcolor": "white",
           "linecolor": "white",
           "ticks": "",
           "title": {
            "standoff": 15
           },
           "zerolinecolor": "white",
           "zerolinewidth": 2
          },
          "yaxis": {
           "automargin": true,
           "gridcolor": "white",
           "linecolor": "white",
           "ticks": "",
           "title": {
            "standoff": 15
           },
           "zerolinecolor": "white",
           "zerolinewidth": 2
          }
         }
        },
        "title": {
         "text": "USD_CHF_MA_8_16"
        },
        "width": 1000,
        "xaxis": {
         "linecolor": "#3a4a54",
         "linewidth": 1,
         "showgrid": false,
         "zeroline": false
        },
        "yaxis": {
         "linecolor": "#3a4a54",
         "linewidth": 1,
         "showgrid": false,
         "zeroline": false
        }
       }
      }
     },
     "metadata": {},
     "output_type": "display_data"
    },
    {
     "data": {
      "application/vnd.plotly.v1+json": {
       "config": {
        "plotlyServerURL": "https://plot.ly"
       },
       "data": [
        {
         "line": {
          "color": "#3d825f",
          "shape": "spline",
          "width": 2
         },
         "mode": "lines",
         "name": "GBP_JPY_MA_8_16",
         "type": "scatter",
         "x": [
          "2023-09-06T03:00:00+00:00",
          "2023-09-08T00:00:00+00:00",
          "2023-09-10T22:00:00+00:00",
          "2023-09-11T13:00:00+00:00",
          "2023-09-11T21:00:00+00:00",
          "2023-09-12T03:00:00+00:00",
          "2023-09-12T10:00:00+00:00",
          "2023-09-12T17:00:00+00:00",
          "2023-09-13T09:00:00+00:00",
          "2023-09-13T14:00:00+00:00",
          "2023-09-14T01:00:00+00:00",
          "2023-09-15T03:00:00+00:00",
          "2023-09-15T17:00:00+00:00",
          "2023-09-19T07:00:00+00:00",
          "2023-09-20T01:00:00+00:00",
          "2023-09-20T19:00:00+00:00",
          "2023-09-20T22:00:00+00:00",
          "2023-09-22T02:00:00+00:00",
          "2023-09-22T14:00:00+00:00",
          "2023-09-25T05:00:00+00:00",
          "2023-09-25T08:00:00+00:00",
          "2023-09-25T10:00:00+00:00",
          "2023-09-26T03:00:00+00:00",
          "2023-09-27T10:00:00+00:00",
          "2023-09-28T04:00:00+00:00",
          "2023-09-28T10:00:00+00:00",
          "2023-09-29T18:00:00+00:00",
          "2023-10-02T03:00:00+00:00",
          "2023-10-02T11:00:00+00:00",
          "2023-10-03T13:00:00+00:00",
          "2023-10-03T14:00:00+00:00",
          "2023-10-04T05:00:00+00:00",
          "2023-10-05T01:00:00+00:00",
          "2023-10-05T12:00:00+00:00",
          "2023-10-09T03:00:00+00:00",
          "2023-10-09T22:00:00+00:00",
          "2023-10-12T09:00:00+00:00",
          "2023-10-13T05:00:00+00:00",
          "2023-10-13T11:00:00+00:00",
          "2023-10-16T04:00:00+00:00",
          "2023-10-17T05:00:00+00:00",
          "2023-10-17T18:00:00+00:00",
          "2023-10-18T03:00:00+00:00",
          "2023-10-18T09:00:00+00:00",
          "2023-10-18T16:00:00+00:00",
          "2023-10-19T15:00:00+00:00",
          "2023-10-20T01:00:00+00:00",
          "2023-10-20T13:00:00+00:00",
          "2023-10-23T07:00:00+00:00",
          "2023-10-23T10:00:00+00:00",
          "2023-10-24T11:00:00+00:00",
          "2023-10-25T05:00:00+00:00",
          "2023-10-25T08:00:00+00:00",
          "2023-10-26T12:00:00+00:00",
          "2023-10-27T05:00:00+00:00",
          "2023-10-30T12:00:00+00:00",
          "2023-10-30T20:00:00+00:00",
          "2023-10-31T01:00:00+00:00",
          "2023-11-01T04:00:00+00:00",
          "2023-11-02T01:00:00+00:00",
          "2023-11-02T07:00:00+00:00",
          "2023-11-02T16:00:00+00:00",
          "2023-11-03T05:00:00+00:00",
          "2023-11-03T11:00:00+00:00",
          "2023-11-06T20:00:00+00:00",
          "2023-11-07T08:00:00+00:00",
          "2023-11-07T11:00:00+00:00",
          "2023-11-08T14:00:00+00:00",
          "2023-11-09T04:00:00+00:00",
          "2023-11-09T09:00:00+00:00",
          "2023-11-09T17:00:00+00:00",
          "2023-11-10T09:00:00+00:00",
          "2023-11-10T15:00:00+00:00",
          "2023-11-10T20:00:00+00:00",
          "2023-11-15T09:00:00+00:00",
          "2023-11-15T20:00:00+00:00",
          "2023-11-16T03:00:00+00:00",
          "2023-11-17T20:00:00+00:00",
          "2023-11-20T06:00:00+00:00",
          "2023-11-20T21:00:00+00:00",
          "2023-11-21T03:00:00+00:00",
          "2023-11-21T15:00:00+00:00",
          "2023-11-23T03:00:00+00:00",
          "2023-11-23T10:00:00+00:00",
          "2023-11-24T02:00:00+00:00",
          "2023-11-24T10:00:00+00:00",
          "2023-11-27T02:00:00+00:00",
          "2023-11-27T14:00:00+00:00",
          "2023-11-27T17:00:00+00:00",
          "2023-11-28T11:00:00+00:00",
          "2023-11-28T19:00:00+00:00",
          "2023-11-29T09:00:00+00:00",
          "2023-11-29T20:00:00+00:00",
          "2023-11-30T15:00:00+00:00",
          "2023-12-01T04:00:00+00:00",
          "2023-12-01T06:00:00+00:00",
          "2023-12-01T15:00:00+00:00",
          "2023-12-04T22:00:00+00:00",
          "2023-12-05T07:00:00+00:00",
          "2023-12-06T03:00:00+00:00",
          "2023-12-06T12:00:00+00:00",
          "2023-12-08T09:00:00+00:00",
          "2023-12-11T22:00:00+00:00",
          "2023-12-12T20:00:00+00:00",
          "2023-12-13T04:00:00+00:00",
          "2023-12-13T07:00:00+00:00",
          "2023-12-13T08:00:00+00:00",
          "2023-12-13T09:00:00+00:00",
          "2023-12-13T10:00:00+00:00",
          "2023-12-14T14:00:00+00:00",
          "2023-12-15T08:00:00+00:00",
          "2023-12-18T04:00:00+00:00",
          "2023-12-18T22:00:00+00:00",
          "2023-12-19T03:00:00+00:00",
          "2023-12-19T21:00:00+00:00",
          "2023-12-20T20:00:00+00:00",
          "2023-12-21T00:00:00+00:00",
          "2023-12-22T01:00:00+00:00",
          "2023-12-26T01:00:00+00:00",
          "2023-12-26T13:00:00+00:00",
          "2023-12-27T22:00:00+00:00",
          "2023-12-29T00:00:00+00:00",
          "2023-12-29T15:00:00+00:00",
          "2024-01-02T05:00:00+00:00",
          "2024-01-02T14:00:00+00:00",
          "2024-01-03T03:00:00+00:00",
          "2024-01-08T02:00:00+00:00",
          "2024-01-08T17:00:00+00:00",
          "2024-01-09T03:00:00+00:00",
          "2024-01-09T19:00:00+00:00",
          "2024-01-11T10:00:00+00:00",
          "2024-01-11T18:00:00+00:00",
          "2024-01-11T23:00:00+00:00",
          "2024-01-15T02:00:00+00:00",
          "2024-01-16T00:00:00+00:00",
          "2024-01-16T12:00:00+00:00",
          "2024-01-18T04:00:00+00:00",
          "2024-01-18T17:00:00+00:00",
          "2024-01-19T10:00:00+00:00",
          "2024-01-19T21:00:00+00:00",
          "2024-01-22T07:00:00+00:00",
          "2024-01-22T10:00:00+00:00",
          "2024-01-22T14:00:00+00:00",
          "2024-01-22T16:00:00+00:00",
          "2024-01-22T17:00:00+00:00",
          "2024-01-22T21:00:00+00:00",
          "2024-01-23T08:00:00+00:00",
          "2024-01-23T18:00:00+00:00",
          "2024-01-24T03:00:00+00:00",
          "2024-01-24T23:00:00+00:00",
          "2024-01-25T00:00:00+00:00",
          "2024-01-25T01:00:00+00:00",
          "2024-01-25T15:00:00+00:00",
          "2024-01-26T04:00:00+00:00",
          "2024-01-26T07:00:00+00:00",
          "2024-01-26T09:00:00+00:00",
          "2024-01-28T23:00:00+00:00",
          "2024-01-30T18:00:00+00:00",
          "2024-01-31T05:00:00+00:00",
          "2024-01-31T12:00:00+00:00",
          "2024-01-31T15:00:00+00:00",
          "2024-02-01T18:00:00+00:00",
          "2024-02-05T03:00:00+00:00",
          "2024-02-06T04:00:00+00:00",
          "2024-02-06T06:00:00+00:00",
          "2024-02-06T07:00:00+00:00",
          "2024-02-06T19:00:00+00:00",
          "2024-02-07T05:00:00+00:00",
          "2024-02-09T15:00:00+00:00",
          "2024-02-09T17:00:00+00:00",
          "2024-02-12T02:00:00+00:00",
          "2024-02-12T19:00:00+00:00",
          "2024-02-13T05:00:00+00:00",
          "2024-02-13T07:00:00+00:00",
          "2024-02-14T04:00:00+00:00",
          "2024-02-14T22:00:00+00:00",
          "2024-02-15T02:00:00+00:00",
          "2024-02-15T18:00:00+00:00",
          "2024-02-19T03:00:00+00:00",
          "2024-02-19T11:00:00+00:00",
          "2024-02-19T12:00:00+00:00",
          "2024-02-19T23:00:00+00:00",
          "2024-02-20T23:00:00+00:00",
          "2024-02-21T06:00:00+00:00",
          "2024-02-21T13:00:00+00:00",
          "2024-02-21T17:00:00+00:00",
          "2024-02-23T19:00:00+00:00",
          "2024-02-26T09:00:00+00:00",
          "2024-02-27T00:00:00+00:00",
          "2024-02-27T19:00:00+00:00",
          "2024-02-28T05:00:00+00:00",
          "2024-02-28T17:00:00+00:00",
          "2024-02-29T01:00:00+00:00",
          "2024-03-01T02:00:00+00:00",
          "2024-03-01T19:00:00+00:00",
          "2024-03-04T03:00:00+00:00",
          "2024-03-05T04:00:00+00:00",
          "2024-03-07T17:00:00+00:00",
          "2024-03-08T05:00:00+00:00",
          "2024-03-10T21:00:00+00:00",
          "2024-03-10T22:00:00+00:00",
          "2024-03-12T02:00:00+00:00",
          "2024-03-12T13:00:00+00:00",
          "2024-03-12T18:00:00+00:00",
          "2024-03-13T03:00:00+00:00",
          "2024-03-13T09:00:00+00:00",
          "2024-03-13T20:00:00+00:00",
          "2024-03-14T06:00:00+00:00",
          "2024-03-14T16:00:00+00:00",
          "2024-03-15T01:00:00+00:00",
          "2024-03-15T05:00:00+00:00",
          "2024-03-15T09:00:00+00:00",
          "2024-03-18T03:00:00+00:00",
          "2024-03-18T06:00:00+00:00",
          "2024-03-18T17:00:00+00:00",
          "2024-03-19T03:00:00+00:00",
          "2024-03-21T04:00:00+00:00",
          "2024-03-21T10:00:00+00:00",
          "2024-03-21T14:00:00+00:00",
          "2024-03-25T07:00:00+00:00",
          "2024-03-26T02:00:00+00:00",
          "2024-03-26T08:00:00+00:00",
          "2024-03-26T18:00:00+00:00",
          "2024-03-27T08:00:00+00:00",
          "2024-03-27T10:00:00+00:00",
          "2024-03-27T22:00:00+00:00",
          "2024-03-28T05:00:00+00:00",
          "2024-03-28T06:00:00+00:00",
          "2024-03-28T09:00:00+00:00",
          "2024-03-28T17:00:00+00:00",
          "2024-03-29T02:00:00+00:00",
          "2024-03-29T15:00:00+00:00",
          "2024-04-01T10:00:00+00:00",
          "2024-04-02T06:00:00+00:00",
          "2024-04-04T18:00:00+00:00",
          "2024-04-05T11:00:00+00:00",
          "2024-04-09T19:00:00+00:00",
          "2024-04-10T03:00:00+00:00",
          "2024-04-10T15:00:00+00:00",
          "2024-04-11T06:00:00+00:00",
          "2024-04-12T05:00:00+00:00",
          "2024-04-15T00:00:00+00:00",
          "2024-04-15T21:00:00+00:00",
          "2024-04-16T08:00:00+00:00",
          "2024-04-16T20:00:00+00:00",
          "2024-04-17T06:00:00+00:00",
          "2024-04-17T17:00:00+00:00",
          "2024-04-18T05:00:00+00:00",
          "2024-04-18T18:00:00+00:00",
          "2024-04-19T10:00:00+00:00",
          "2024-04-19T18:00:00+00:00",
          "2024-04-22T05:00:00+00:00",
          "2024-04-22T10:00:00+00:00",
          "2024-04-22T21:00:00+00:00",
          "2024-04-23T06:00:00+00:00",
          "2024-04-23T09:00:00+00:00",
          "2024-04-24T09:00:00+00:00",
          "2024-04-24T17:00:00+00:00",
          "2024-04-25T19:00:00+00:00"
         ],
         "y": [
          198.00000000000182,
          204.200000000003,
          216.0000000000025,
          208.00000000000125,
          187.60000000000048,
          145.09999999999934,
          93.8999999999993,
          95.19999999999982,
          40.099999999998204,
          -3.1000000000034333,
          59.39999999999657,
          57.999999999995566,
          83.0999999999932,
          99.19999999999334,
          122.19999999999516,
          126.59999999999627,
          240.3999999999968,
          225.39999999999623,
          231.09999999999502,
          230.59999999999548,
          198.99999999999523,
          171.19999999999322,
          211.99999999999193,
          224.1999999999905,
          138.79999999998915,
          158.69999999998754,
          135.19999999998618,
          73.19999999998572,
          136.59999999998433,
          6.799999999984152,
          -10.400000000015552,
          5.399999999983152,
          -24.40000000001703,
          103.99999999998215,
          132.5999999999823,
          309.5999999999833,
          379.69999999998265,
          335.99999999998147,
          393.9999999999799,
          466.1999999999779,
          474.1999999999763,
          461.79999999997676,
          422.7999999999781,
          367.99999999997794,
          370.4999999999785,
          338.99999999997874,
          304.5999999999765,
          337.19999999997583,
          348.2999999999777,
          418.1999999999789,
          480.5999999999784,
          440.3999999999769,
          426.7999999999745,
          432.99999999997283,
          463.99999999997306,
          418.9999999999742,
          391.6999999999746,
          591.5999999999741,
          633.7999999999738,
          609.1999999999729,
          576.5999999999707,
          587.8999999999706,
          570.6999999999709,
          723.9999999999696,
          708.6999999999705,
          661.7999999999711,
          620.1999999999714,
          636.599999999973,
          600.3999999999735,
          554.3999999999727,
          583.5999999999729,
          555.3999999999746,
          503.1999999999755,
          720.1999999999742,
          673.7999999999744,
          621.7999999999762,
          707.899999999978,
          663.7999999999806,
          716.6999999999831,
          640.9999999999854,
          591.5999999999855,
          712.3999999999853,
          632.4999999999875,
          633.2999999999885,
          573.299999999989,
          573.1999999999886,
          581.3999999999879,
          573.5999999999876,
          595.9999999999866,
          565.2999999999878,
          573.6999999999881,
          557.399999999987,
          541.4999999999878,
          545.5999999999875,
          531.199999999987,
          451.1999999999887,
          517.2999999999888,
          447.3999999999876,
          389.39999999998633,
          358.5999999999842,
          782.0999999999827,
          1016.5999999999826,
          1081.0999999999835,
          1074.899999999985,
          1099.5999999999865,
          1119.7999999999863,
          1129.599999999985,
          1090.8999999999849,
          1261.7999999999852,
          1269.3999999999846,
          1287.499999999983,
          1304.5999999999822,
          1199.3999999999828,
          1343.4999999999832,
          1507.1999999999832,
          1483.0999999999817,
          1562.7999999999815,
          1592.3999999999837,
          1581.4999999999857,
          1624.2999999999854,
          1710.5999999999854,
          1640.9999999999854,
          1611.2999999999856,
          1483.199999999988,
          1422.9999999999877,
          1858.1999999999853,
          1866.5999999999856,
          1825.1999999999869,
          1788.9999999999873,
          1966.9999999999873,
          1915.7999999999872,
          1871.3999999999883,
          1913.199999999989,
          1924.4999999999889,
          1885.3999999999896,
          2096.0999999999894,
          2061.1999999999875,
          2025.799999999986,
          1963.1999999999857,
          1945.399999999986,
          1941.4999999999873,
          1940.7999999999897,
          1920.9999999999918,
          1917.5999999999926,
          1917.699999999993,
          1851.6999999999935,
          1798.9999999999918,
          1752.999999999991,
          1748.3999999999917,
          1748.3999999999917,
          1747.9999999999927,
          1719.099999999994,
          1686.1999999999932,
          1651.8999999999915,
          1596.1999999999898,
          1614.3999999999887,
          1683.699999999987,
          1665.6999999999864,
          1645.4999999999866,
          1510.8999999999862,
          1475.3999999999874,
          1542.999999999989,
          1622.5999999999883,
          1618.9999999999882,
          1605.7999999999906,
          1594.5999999999913,
          1578.9999999999907,
          1794.9999999999905,
          1798.7999999999915,
          1781.1999999999928,
          1764.1999999999912,
          1768.2999999999909,
          1708.2999999999915,
          1744.7999999999897,
          1795.7999999999888,
          1766.1999999999896,
          1768.9999999999886,
          1800.2999999999874,
          1795.7999999999888,
          1794.89999999999,
          1793.3999999999915,
          1811.199999999994,
          1801.5999999999963,
          1804.6999999999969,
          1788.1999999999975,
          1895.5999999999988,
          1865.5,
          1855.600000000001,
          1858.7000000000016,
          1836.8000000000022,
          1823.6000000000017,
          1761.0000000000014,
          1783.8000000000022,
          1798.800000000003,
          1789.4000000000035,
          1865.900000000005,
          2013.4000000000046,
          2000.2000000000041,
          2020.7000000000053,
          2001.600000000005,
          1994.0000000000027,
          1954.0000000000023,
          1924.200000000002,
          1890.2000000000016,
          1839.900000000003,
          1841.500000000005,
          1829.200000000006,
          1799.8000000000047,
          1781.0000000000032,
          1763.8000000000034,
          1692.0000000000045,
          1701.400000000004,
          1673.600000000002,
          1645.0000000000018,
          1571.800000000002,
          1807.0000000000023,
          1797.9000000000042,
          1751.1000000000054,
          1925.4000000000049,
          1985.8000000000034,
          1983.4000000000033,
          1985.700000000003,
          1975.600000000003,
          1918.900000000005,
          1920.300000000006,
          1945.6000000000047,
          1951.7000000000025,
          1912.300000000002,
          1872.6000000000029,
          1857.8000000000034,
          1842.4000000000037,
          1825.1000000000035,
          1880.4000000000033,
          1974.3000000000025,
          1981.0000000000005,
          2092.0999999999995,
          2088.6,
          2029.499999999999,
          2008.1999999999969,
          2019.6999999999948,
          2120.3999999999924,
          2207.99999999999,
          2189.5999999999904,
          2201.599999999991,
          2160.8999999999896,
          2097.5999999999885,
          2060.199999999989,
          2043.6999999999898,
          2052.1999999999907,
          1954.1999999999916,
          1913.2999999999925,
          1826.1999999999944,
          1778.3999999999965,
          1760.3999999999987,
          1725.2999999999988,
          1841.199999999998,
          1753.3999999999994,
          1886.4000000000005,
          1890.2999999999993
         ]
        }
       ],
       "layout": {
        "font": {
         "color": "#e1e1e1",
         "size": 10
        },
        "height": 400,
        "margin": {
         "b": 10,
         "l": 15,
         "r": 15
        },
        "paper_bgcolor": "#1e1e1e",
        "plot_bgcolor": "#1e1e1e",
        "template": {
         "data": {
          "bar": [
           {
            "error_x": {
             "color": "#2a3f5f"
            },
            "error_y": {
             "color": "#2a3f5f"
            },
            "marker": {
             "line": {
              "color": "#E5ECF6",
              "width": 0.5
             },
             "pattern": {
              "fillmode": "overlay",
              "size": 10,
              "solidity": 0.2
             }
            },
            "type": "bar"
           }
          ],
          "barpolar": [
           {
            "marker": {
             "line": {
              "color": "#E5ECF6",
              "width": 0.5
             },
             "pattern": {
              "fillmode": "overlay",
              "size": 10,
              "solidity": 0.2
             }
            },
            "type": "barpolar"
           }
          ],
          "carpet": [
           {
            "aaxis": {
             "endlinecolor": "#2a3f5f",
             "gridcolor": "white",
             "linecolor": "white",
             "minorgridcolor": "white",
             "startlinecolor": "#2a3f5f"
            },
            "baxis": {
             "endlinecolor": "#2a3f5f",
             "gridcolor": "white",
             "linecolor": "white",
             "minorgridcolor": "white",
             "startlinecolor": "#2a3f5f"
            },
            "type": "carpet"
           }
          ],
          "choropleth": [
           {
            "colorbar": {
             "outlinewidth": 0,
             "ticks": ""
            },
            "type": "choropleth"
           }
          ],
          "contour": [
           {
            "colorbar": {
             "outlinewidth": 0,
             "ticks": ""
            },
            "colorscale": [
             [
              0,
              "#0d0887"
             ],
             [
              0.1111111111111111,
              "#46039f"
             ],
             [
              0.2222222222222222,
              "#7201a8"
             ],
             [
              0.3333333333333333,
              "#9c179e"
             ],
             [
              0.4444444444444444,
              "#bd3786"
             ],
             [
              0.5555555555555556,
              "#d8576b"
             ],
             [
              0.6666666666666666,
              "#ed7953"
             ],
             [
              0.7777777777777778,
              "#fb9f3a"
             ],
             [
              0.8888888888888888,
              "#fdca26"
             ],
             [
              1,
              "#f0f921"
             ]
            ],
            "type": "contour"
           }
          ],
          "contourcarpet": [
           {
            "colorbar": {
             "outlinewidth": 0,
             "ticks": ""
            },
            "type": "contourcarpet"
           }
          ],
          "heatmap": [
           {
            "colorbar": {
             "outlinewidth": 0,
             "ticks": ""
            },
            "colorscale": [
             [
              0,
              "#0d0887"
             ],
             [
              0.1111111111111111,
              "#46039f"
             ],
             [
              0.2222222222222222,
              "#7201a8"
             ],
             [
              0.3333333333333333,
              "#9c179e"
             ],
             [
              0.4444444444444444,
              "#bd3786"
             ],
             [
              0.5555555555555556,
              "#d8576b"
             ],
             [
              0.6666666666666666,
              "#ed7953"
             ],
             [
              0.7777777777777778,
              "#fb9f3a"
             ],
             [
              0.8888888888888888,
              "#fdca26"
             ],
             [
              1,
              "#f0f921"
             ]
            ],
            "type": "heatmap"
           }
          ],
          "heatmapgl": [
           {
            "colorbar": {
             "outlinewidth": 0,
             "ticks": ""
            },
            "colorscale": [
             [
              0,
              "#0d0887"
             ],
             [
              0.1111111111111111,
              "#46039f"
             ],
             [
              0.2222222222222222,
              "#7201a8"
             ],
             [
              0.3333333333333333,
              "#9c179e"
             ],
             [
              0.4444444444444444,
              "#bd3786"
             ],
             [
              0.5555555555555556,
              "#d8576b"
             ],
             [
              0.6666666666666666,
              "#ed7953"
             ],
             [
              0.7777777777777778,
              "#fb9f3a"
             ],
             [
              0.8888888888888888,
              "#fdca26"
             ],
             [
              1,
              "#f0f921"
             ]
            ],
            "type": "heatmapgl"
           }
          ],
          "histogram": [
           {
            "marker": {
             "pattern": {
              "fillmode": "overlay",
              "size": 10,
              "solidity": 0.2
             }
            },
            "type": "histogram"
           }
          ],
          "histogram2d": [
           {
            "colorbar": {
             "outlinewidth": 0,
             "ticks": ""
            },
            "colorscale": [
             [
              0,
              "#0d0887"
             ],
             [
              0.1111111111111111,
              "#46039f"
             ],
             [
              0.2222222222222222,
              "#7201a8"
             ],
             [
              0.3333333333333333,
              "#9c179e"
             ],
             [
              0.4444444444444444,
              "#bd3786"
             ],
             [
              0.5555555555555556,
              "#d8576b"
             ],
             [
              0.6666666666666666,
              "#ed7953"
             ],
             [
              0.7777777777777778,
              "#fb9f3a"
             ],
             [
              0.8888888888888888,
              "#fdca26"
             ],
             [
              1,
              "#f0f921"
             ]
            ],
            "type": "histogram2d"
           }
          ],
          "histogram2dcontour": [
           {
            "colorbar": {
             "outlinewidth": 0,
             "ticks": ""
            },
            "colorscale": [
             [
              0,
              "#0d0887"
             ],
             [
              0.1111111111111111,
              "#46039f"
             ],
             [
              0.2222222222222222,
              "#7201a8"
             ],
             [
              0.3333333333333333,
              "#9c179e"
             ],
             [
              0.4444444444444444,
              "#bd3786"
             ],
             [
              0.5555555555555556,
              "#d8576b"
             ],
             [
              0.6666666666666666,
              "#ed7953"
             ],
             [
              0.7777777777777778,
              "#fb9f3a"
             ],
             [
              0.8888888888888888,
              "#fdca26"
             ],
             [
              1,
              "#f0f921"
             ]
            ],
            "type": "histogram2dcontour"
           }
          ],
          "mesh3d": [
           {
            "colorbar": {
             "outlinewidth": 0,
             "ticks": ""
            },
            "type": "mesh3d"
           }
          ],
          "parcoords": [
           {
            "line": {
             "colorbar": {
              "outlinewidth": 0,
              "ticks": ""
             }
            },
            "type": "parcoords"
           }
          ],
          "pie": [
           {
            "automargin": true,
            "type": "pie"
           }
          ],
          "scatter": [
           {
            "fillpattern": {
             "fillmode": "overlay",
             "size": 10,
             "solidity": 0.2
            },
            "type": "scatter"
           }
          ],
          "scatter3d": [
           {
            "line": {
             "colorbar": {
              "outlinewidth": 0,
              "ticks": ""
             }
            },
            "marker": {
             "colorbar": {
              "outlinewidth": 0,
              "ticks": ""
             }
            },
            "type": "scatter3d"
           }
          ],
          "scattercarpet": [
           {
            "marker": {
             "colorbar": {
              "outlinewidth": 0,
              "ticks": ""
             }
            },
            "type": "scattercarpet"
           }
          ],
          "scattergeo": [
           {
            "marker": {
             "colorbar": {
              "outlinewidth": 0,
              "ticks": ""
             }
            },
            "type": "scattergeo"
           }
          ],
          "scattergl": [
           {
            "marker": {
             "colorbar": {
              "outlinewidth": 0,
              "ticks": ""
             }
            },
            "type": "scattergl"
           }
          ],
          "scattermapbox": [
           {
            "marker": {
             "colorbar": {
              "outlinewidth": 0,
              "ticks": ""
             }
            },
            "type": "scattermapbox"
           }
          ],
          "scatterpolar": [
           {
            "marker": {
             "colorbar": {
              "outlinewidth": 0,
              "ticks": ""
             }
            },
            "type": "scatterpolar"
           }
          ],
          "scatterpolargl": [
           {
            "marker": {
             "colorbar": {
              "outlinewidth": 0,
              "ticks": ""
             }
            },
            "type": "scatterpolargl"
           }
          ],
          "scatterternary": [
           {
            "marker": {
             "colorbar": {
              "outlinewidth": 0,
              "ticks": ""
             }
            },
            "type": "scatterternary"
           }
          ],
          "surface": [
           {
            "colorbar": {
             "outlinewidth": 0,
             "ticks": ""
            },
            "colorscale": [
             [
              0,
              "#0d0887"
             ],
             [
              0.1111111111111111,
              "#46039f"
             ],
             [
              0.2222222222222222,
              "#7201a8"
             ],
             [
              0.3333333333333333,
              "#9c179e"
             ],
             [
              0.4444444444444444,
              "#bd3786"
             ],
             [
              0.5555555555555556,
              "#d8576b"
             ],
             [
              0.6666666666666666,
              "#ed7953"
             ],
             [
              0.7777777777777778,
              "#fb9f3a"
             ],
             [
              0.8888888888888888,
              "#fdca26"
             ],
             [
              1,
              "#f0f921"
             ]
            ],
            "type": "surface"
           }
          ],
          "table": [
           {
            "cells": {
             "fill": {
              "color": "#EBF0F8"
             },
             "line": {
              "color": "white"
             }
            },
            "header": {
             "fill": {
              "color": "#C8D4E3"
             },
             "line": {
              "color": "white"
             }
            },
            "type": "table"
           }
          ]
         },
         "layout": {
          "annotationdefaults": {
           "arrowcolor": "#2a3f5f",
           "arrowhead": 0,
           "arrowwidth": 1
          },
          "autotypenumbers": "strict",
          "coloraxis": {
           "colorbar": {
            "outlinewidth": 0,
            "ticks": ""
           }
          },
          "colorscale": {
           "diverging": [
            [
             0,
             "#8e0152"
            ],
            [
             0.1,
             "#c51b7d"
            ],
            [
             0.2,
             "#de77ae"
            ],
            [
             0.3,
             "#f1b6da"
            ],
            [
             0.4,
             "#fde0ef"
            ],
            [
             0.5,
             "#f7f7f7"
            ],
            [
             0.6,
             "#e6f5d0"
            ],
            [
             0.7,
             "#b8e186"
            ],
            [
             0.8,
             "#7fbc41"
            ],
            [
             0.9,
             "#4d9221"
            ],
            [
             1,
             "#276419"
            ]
           ],
           "sequential": [
            [
             0,
             "#0d0887"
            ],
            [
             0.1111111111111111,
             "#46039f"
            ],
            [
             0.2222222222222222,
             "#7201a8"
            ],
            [
             0.3333333333333333,
             "#9c179e"
            ],
            [
             0.4444444444444444,
             "#bd3786"
            ],
            [
             0.5555555555555556,
             "#d8576b"
            ],
            [
             0.6666666666666666,
             "#ed7953"
            ],
            [
             0.7777777777777778,
             "#fb9f3a"
            ],
            [
             0.8888888888888888,
             "#fdca26"
            ],
            [
             1,
             "#f0f921"
            ]
           ],
           "sequentialminus": [
            [
             0,
             "#0d0887"
            ],
            [
             0.1111111111111111,
             "#46039f"
            ],
            [
             0.2222222222222222,
             "#7201a8"
            ],
            [
             0.3333333333333333,
             "#9c179e"
            ],
            [
             0.4444444444444444,
             "#bd3786"
            ],
            [
             0.5555555555555556,
             "#d8576b"
            ],
            [
             0.6666666666666666,
             "#ed7953"
            ],
            [
             0.7777777777777778,
             "#fb9f3a"
            ],
            [
             0.8888888888888888,
             "#fdca26"
            ],
            [
             1,
             "#f0f921"
            ]
           ]
          },
          "colorway": [
           "#636efa",
           "#EF553B",
           "#00cc96",
           "#ab63fa",
           "#FFA15A",
           "#19d3f3",
           "#FF6692",
           "#B6E880",
           "#FF97FF",
           "#FECB52"
          ],
          "font": {
           "color": "#2a3f5f"
          },
          "geo": {
           "bgcolor": "white",
           "lakecolor": "white",
           "landcolor": "#E5ECF6",
           "showlakes": true,
           "showland": true,
           "subunitcolor": "white"
          },
          "hoverlabel": {
           "align": "left"
          },
          "hovermode": "closest",
          "mapbox": {
           "style": "light"
          },
          "paper_bgcolor": "white",
          "plot_bgcolor": "#E5ECF6",
          "polar": {
           "angularaxis": {
            "gridcolor": "white",
            "linecolor": "white",
            "ticks": ""
           },
           "bgcolor": "#E5ECF6",
           "radialaxis": {
            "gridcolor": "white",
            "linecolor": "white",
            "ticks": ""
           }
          },
          "scene": {
           "xaxis": {
            "backgroundcolor": "#E5ECF6",
            "gridcolor": "white",
            "gridwidth": 2,
            "linecolor": "white",
            "showbackground": true,
            "ticks": "",
            "zerolinecolor": "white"
           },
           "yaxis": {
            "backgroundcolor": "#E5ECF6",
            "gridcolor": "white",
            "gridwidth": 2,
            "linecolor": "white",
            "showbackground": true,
            "ticks": "",
            "zerolinecolor": "white"
           },
           "zaxis": {
            "backgroundcolor": "#E5ECF6",
            "gridcolor": "white",
            "gridwidth": 2,
            "linecolor": "white",
            "showbackground": true,
            "ticks": "",
            "zerolinecolor": "white"
           }
          },
          "shapedefaults": {
           "line": {
            "color": "#2a3f5f"
           }
          },
          "ternary": {
           "aaxis": {
            "gridcolor": "white",
            "linecolor": "white",
            "ticks": ""
           },
           "baxis": {
            "gridcolor": "white",
            "linecolor": "white",
            "ticks": ""
           },
           "bgcolor": "#E5ECF6",
           "caxis": {
            "gridcolor": "white",
            "linecolor": "white",
            "ticks": ""
           }
          },
          "title": {
           "x": 0.05
          },
          "xaxis": {
           "automargin": true,
           "gridcolor": "white",
           "linecolor": "white",
           "ticks": "",
           "title": {
            "standoff": 15
           },
           "zerolinecolor": "white",
           "zerolinewidth": 2
          },
          "yaxis": {
           "automargin": true,
           "gridcolor": "white",
           "linecolor": "white",
           "ticks": "",
           "title": {
            "standoff": 15
           },
           "zerolinecolor": "white",
           "zerolinewidth": 2
          }
         }
        },
        "title": {
         "text": "GBP_JPY_MA_8_16"
        },
        "width": 1000,
        "xaxis": {
         "linecolor": "#3a4a54",
         "linewidth": 1,
         "showgrid": false,
         "zeroline": false
        },
        "yaxis": {
         "linecolor": "#3a4a54",
         "linewidth": 1,
         "showgrid": false,
         "zeroline": false
        }
       }
      }
     },
     "metadata": {},
     "output_type": "display_data"
    },
    {
     "data": {
      "application/vnd.plotly.v1+json": {
       "config": {
        "plotlyServerURL": "https://plot.ly"
       },
       "data": [
        {
         "line": {
          "color": "#3d825f",
          "shape": "spline",
          "width": 2
         },
         "mode": "lines",
         "name": "EUR_CAD_MA_8_16",
         "type": "scatter",
         "x": [
          "2023-09-06T01:00:00+00:00",
          "2023-09-06T17:00:00+00:00",
          "2023-09-07T18:00:00+00:00",
          "2023-09-08T10:00:00+00:00",
          "2023-09-11T01:00:00+00:00",
          "2023-09-11T08:00:00+00:00",
          "2023-09-11T19:00:00+00:00",
          "2023-09-12T04:00:00+00:00",
          "2023-09-12T22:00:00+00:00",
          "2023-09-13T09:00:00+00:00",
          "2023-09-15T06:00:00+00:00",
          "2023-09-18T04:00:00+00:00",
          "2023-09-18T19:00:00+00:00",
          "2023-09-19T04:00:00+00:00",
          "2023-09-19T23:00:00+00:00",
          "2023-09-20T20:00:00+00:00",
          "2023-09-21T09:00:00+00:00",
          "2023-09-21T21:00:00+00:00",
          "2023-09-22T18:00:00+00:00",
          "2023-09-25T08:00:00+00:00",
          "2023-09-26T07:00:00+00:00",
          "2023-09-26T20:00:00+00:00",
          "2023-09-28T10:00:00+00:00",
          "2023-09-29T11:00:00+00:00",
          "2023-09-29T15:00:00+00:00",
          "2023-10-02T14:00:00+00:00",
          "2023-10-03T06:00:00+00:00",
          "2023-10-03T18:00:00+00:00",
          "2023-10-04T09:00:00+00:00",
          "2023-10-05T03:00:00+00:00",
          "2023-10-05T09:00:00+00:00",
          "2023-10-05T20:00:00+00:00",
          "2023-10-06T10:00:00+00:00",
          "2023-10-06T13:00:00+00:00",
          "2023-10-06T15:00:00+00:00",
          "2023-10-06T16:00:00+00:00",
          "2023-10-06T20:00:00+00:00",
          "2023-10-09T00:00:00+00:00",
          "2023-10-10T08:00:00+00:00",
          "2023-10-11T00:00:00+00:00",
          "2023-10-11T01:00:00+00:00",
          "2023-10-12T12:00:00+00:00",
          "2023-10-13T00:00:00+00:00",
          "2023-10-13T11:00:00+00:00",
          "2023-10-16T04:00:00+00:00",
          "2023-10-16T16:00:00+00:00",
          "2023-10-16T21:00:00+00:00",
          "2023-10-18T05:00:00+00:00",
          "2023-10-18T17:00:00+00:00",
          "2023-10-20T03:00:00+00:00",
          "2023-10-20T20:00:00+00:00",
          "2023-10-23T05:00:00+00:00",
          "2023-10-23T09:00:00+00:00",
          "2023-10-24T08:00:00+00:00",
          "2023-10-25T02:00:00+00:00",
          "2023-10-25T13:00:00+00:00",
          "2023-10-25T14:00:00+00:00",
          "2023-10-26T04:00:00+00:00",
          "2023-10-26T16:00:00+00:00",
          "2023-10-27T07:00:00+00:00",
          "2023-10-27T14:00:00+00:00",
          "2023-10-30T03:00:00+00:00",
          "2023-10-30T12:00:00+00:00",
          "2023-10-31T03:00:00+00:00",
          "2023-10-31T07:00:00+00:00",
          "2023-10-31T18:00:00+00:00",
          "2023-11-01T22:00:00+00:00",
          "2023-11-02T17:00:00+00:00",
          "2023-11-03T08:00:00+00:00",
          "2023-11-06T02:00:00+00:00",
          "2023-11-06T10:00:00+00:00",
          "2023-11-07T04:00:00+00:00",
          "2023-11-07T06:00:00+00:00",
          "2023-11-07T16:00:00+00:00",
          "2023-11-07T17:00:00+00:00",
          "2023-11-08T07:00:00+00:00",
          "2023-11-08T16:00:00+00:00",
          "2023-11-09T05:00:00+00:00",
          "2023-11-10T11:00:00+00:00",
          "2023-11-12T23:00:00+00:00",
          "2023-11-13T05:00:00+00:00",
          "2023-11-13T14:00:00+00:00",
          "2023-11-13T22:00:00+00:00",
          "2023-11-15T05:00:00+00:00",
          "2023-11-16T02:00:00+00:00",
          "2023-11-17T03:00:00+00:00",
          "2023-11-17T16:00:00+00:00",
          "2023-11-21T13:00:00+00:00",
          "2023-11-22T06:00:00+00:00",
          "2023-11-22T10:00:00+00:00",
          "2023-11-23T08:00:00+00:00",
          "2023-11-23T23:00:00+00:00",
          "2023-11-24T05:00:00+00:00",
          "2023-11-24T13:00:00+00:00",
          "2023-11-27T01:00:00+00:00",
          "2023-11-27T14:00:00+00:00",
          "2023-11-28T16:00:00+00:00",
          "2023-11-29T04:00:00+00:00",
          "2023-11-29T15:00:00+00:00",
          "2023-11-30T02:00:00+00:00",
          "2023-12-04T03:00:00+00:00",
          "2023-12-04T16:00:00+00:00",
          "2023-12-05T02:00:00+00:00",
          "2023-12-05T13:00:00+00:00",
          "2023-12-07T06:00:00+00:00",
          "2023-12-08T03:00:00+00:00",
          "2023-12-11T01:00:00+00:00",
          "2023-12-11T13:00:00+00:00",
          "2023-12-12T01:00:00+00:00",
          "2023-12-12T07:00:00+00:00",
          "2023-12-12T09:00:00+00:00",
          "2023-12-13T04:00:00+00:00",
          "2023-12-13T21:00:00+00:00",
          "2023-12-14T08:00:00+00:00",
          "2023-12-14T14:00:00+00:00",
          "2023-12-15T03:00:00+00:00",
          "2023-12-18T05:00:00+00:00",
          "2023-12-19T20:00:00+00:00",
          "2023-12-20T04:00:00+00:00",
          "2023-12-20T05:00:00+00:00",
          "2023-12-21T00:00:00+00:00",
          "2023-12-21T10:00:00+00:00",
          "2023-12-21T12:00:00+00:00",
          "2023-12-21T20:00:00+00:00",
          "2023-12-22T11:00:00+00:00",
          "2023-12-22T19:00:00+00:00",
          "2023-12-26T04:00:00+00:00",
          "2023-12-26T09:00:00+00:00",
          "2023-12-27T10:00:00+00:00",
          "2023-12-28T06:00:00+00:00",
          "2023-12-28T08:00:00+00:00",
          "2023-12-28T16:00:00+00:00",
          "2023-12-29T04:00:00+00:00",
          "2023-12-29T15:00:00+00:00",
          "2024-01-02T23:00:00+00:00",
          "2024-01-03T12:00:00+00:00",
          "2024-01-03T23:00:00+00:00",
          "2024-01-04T06:00:00+00:00",
          "2024-01-04T10:00:00+00:00",
          "2024-01-05T02:00:00+00:00",
          "2024-01-05T18:00:00+00:00",
          "2024-01-08T22:00:00+00:00",
          "2024-01-09T08:00:00+00:00",
          "2024-01-09T12:00:00+00:00",
          "2024-01-09T17:00:00+00:00",
          "2024-01-10T02:00:00+00:00",
          "2024-01-10T12:00:00+00:00",
          "2024-01-11T06:00:00+00:00",
          "2024-01-11T16:00:00+00:00",
          "2024-01-12T04:00:00+00:00",
          "2024-01-12T19:00:00+00:00",
          "2024-01-15T05:00:00+00:00",
          "2024-01-15T07:00:00+00:00",
          "2024-01-16T02:00:00+00:00",
          "2024-01-16T08:00:00+00:00",
          "2024-01-16T11:00:00+00:00",
          "2024-01-17T01:00:00+00:00",
          "2024-01-17T19:00:00+00:00",
          "2024-01-17T23:00:00+00:00",
          "2024-01-18T08:00:00+00:00",
          "2024-01-19T02:00:00+00:00",
          "2024-01-19T11:00:00+00:00",
          "2024-01-22T07:00:00+00:00",
          "2024-01-22T11:00:00+00:00",
          "2024-01-22T19:00:00+00:00",
          "2024-01-23T12:00:00+00:00",
          "2024-01-24T04:00:00+00:00",
          "2024-01-25T06:00:00+00:00",
          "2024-01-25T11:00:00+00:00",
          "2024-01-25T14:00:00+00:00",
          "2024-01-26T15:00:00+00:00",
          "2024-01-28T23:00:00+00:00",
          "2024-01-30T13:00:00+00:00",
          "2024-01-30T23:00:00+00:00",
          "2024-01-31T12:00:00+00:00",
          "2024-01-31T21:00:00+00:00",
          "2024-02-01T11:00:00+00:00",
          "2024-02-02T07:00:00+00:00",
          "2024-02-02T09:00:00+00:00",
          "2024-02-02T16:00:00+00:00",
          "2024-02-05T07:00:00+00:00",
          "2024-02-05T08:00:00+00:00",
          "2024-02-05T18:00:00+00:00",
          "2024-02-06T06:00:00+00:00",
          "2024-02-07T05:00:00+00:00",
          "2024-02-07T15:00:00+00:00",
          "2024-02-08T05:00:00+00:00",
          "2024-02-08T07:00:00+00:00",
          "2024-02-08T09:00:00+00:00",
          "2024-02-08T14:00:00+00:00",
          "2024-02-08T23:00:00+00:00",
          "2024-02-09T07:00:00+00:00",
          "2024-02-09T17:00:00+00:00",
          "2024-02-12T10:00:00+00:00",
          "2024-02-13T04:00:00+00:00",
          "2024-02-13T07:00:00+00:00",
          "2024-02-13T12:00:00+00:00",
          "2024-02-14T04:00:00+00:00",
          "2024-02-14T18:00:00+00:00",
          "2024-02-15T04:00:00+00:00",
          "2024-02-15T11:00:00+00:00",
          "2024-02-15T19:00:00+00:00",
          "2024-02-16T08:00:00+00:00",
          "2024-02-19T07:00:00+00:00",
          "2024-02-19T19:00:00+00:00",
          "2024-02-21T04:00:00+00:00",
          "2024-02-22T11:00:00+00:00",
          "2024-02-22T16:00:00+00:00",
          "2024-02-23T10:00:00+00:00",
          "2024-02-26T23:00:00+00:00",
          "2024-02-27T17:00:00+00:00",
          "2024-02-28T06:00:00+00:00",
          "2024-02-28T09:00:00+00:00",
          "2024-02-29T06:00:00+00:00",
          "2024-02-29T10:00:00+00:00",
          "2024-02-29T16:00:00+00:00",
          "2024-03-01T05:00:00+00:00",
          "2024-03-05T05:00:00+00:00",
          "2024-03-05T06:00:00+00:00",
          "2024-03-05T17:00:00+00:00",
          "2024-03-05T19:00:00+00:00",
          "2024-03-06T05:00:00+00:00",
          "2024-03-06T09:00:00+00:00",
          "2024-03-06T17:00:00+00:00",
          "2024-03-07T20:00:00+00:00",
          "2024-03-08T05:00:00+00:00",
          "2024-03-08T16:00:00+00:00",
          "2024-03-11T06:00:00+00:00",
          "2024-03-12T05:00:00+00:00",
          "2024-03-12T10:00:00+00:00",
          "2024-03-12T16:00:00+00:00",
          "2024-03-13T09:00:00+00:00",
          "2024-03-13T11:00:00+00:00",
          "2024-03-13T14:00:00+00:00",
          "2024-03-13T15:00:00+00:00",
          "2024-03-13T20:00:00+00:00",
          "2024-03-13T21:00:00+00:00",
          "2024-03-14T06:00:00+00:00",
          "2024-03-14T23:00:00+00:00",
          "2024-03-15T06:00:00+00:00",
          "2024-03-15T09:00:00+00:00",
          "2024-03-18T06:00:00+00:00",
          "2024-03-18T11:00:00+00:00",
          "2024-03-18T18:00:00+00:00",
          "2024-03-19T05:00:00+00:00",
          "2024-03-19T23:00:00+00:00",
          "2024-03-20T04:00:00+00:00",
          "2024-03-20T13:00:00+00:00",
          "2024-03-21T01:00:00+00:00",
          "2024-03-21T05:00:00+00:00",
          "2024-03-22T16:00:00+00:00",
          "2024-03-26T14:00:00+00:00",
          "2024-03-27T01:00:00+00:00",
          "2024-03-27T14:00:00+00:00",
          "2024-03-28T07:00:00+00:00",
          "2024-03-28T08:00:00+00:00",
          "2024-03-29T10:00:00+00:00",
          "2024-03-31T22:00:00+00:00",
          "2024-04-01T12:00:00+00:00",
          "2024-04-01T18:00:00+00:00",
          "2024-04-02T13:00:00+00:00",
          "2024-04-04T06:00:00+00:00",
          "2024-04-04T10:00:00+00:00",
          "2024-04-08T09:00:00+00:00",
          "2024-04-08T17:00:00+00:00",
          "2024-04-09T10:00:00+00:00",
          "2024-04-09T12:00:00+00:00",
          "2024-04-09T21:00:00+00:00",
          "2024-04-11T03:00:00+00:00",
          "2024-04-11T06:00:00+00:00",
          "2024-04-14T21:00:00+00:00",
          "2024-04-15T06:00:00+00:00",
          "2024-04-15T21:00:00+00:00",
          "2024-04-16T08:00:00+00:00",
          "2024-04-16T10:00:00+00:00",
          "2024-04-17T00:00:00+00:00",
          "2024-04-17T06:00:00+00:00",
          "2024-04-18T04:00:00+00:00",
          "2024-04-19T10:00:00+00:00",
          "2024-04-19T18:00:00+00:00",
          "2024-04-23T07:00:00+00:00",
          "2024-04-24T09:00:00+00:00",
          "2024-04-24T13:00:00+00:00"
         ],
         "y": [
          21.999999999999797,
          40.800000000000836,
          26.400000000001977,
          40.00000000000226,
          25.80000000000249,
          20.600000000003952,
          10.000000000005564,
          19.000000000006793,
          -9.999999999992234,
          144.80000000000936,
          165.4000000000111,
          162.50000000001208,
          139.00000000001134,
          173.8000000000106,
          165.50000000001174,
          136.00000000001387,
          124.90000000001443,
          146.000000000015,
          125.10000000001575,
          166.8000000000158,
          170.80000000001536,
          236.7000000000141,
          241.50000000001444,
          142.4000000000158,
          156.4000000000165,
          157.6000000000177,
          176.40000000001874,
          157.50000000001927,
          212.00000000001882,
          169.4000000000173,
          152.80000000001735,
          141.00000000001776,
          86.80000000001796,
          33.00000000001856,
          25.60000000001893,
          23.60000000001915,
          -17.799999999981175,
          -0.7999999999808267,
          3.000000000019643,
          -0.19999999998133688,
          -21.999999999982045,
          -49.39999999998169,
          -71.89999999998032,
          -35.599999999980106,
          -42.99999999998195,
          -57.59999999998212,
          2.2000000000188464,
          -10.199999999980232,
          50.70000000002128,
          20.400000000022615,
          -3.999999999977362,
          -34.3999999999789,
          8.700000000019237,
          20.100000000018426,
          23.00000000001966,
          5.200000000020733,
          -14.399999999978885,
          -16.199999999979575,
          -3.999999999979586,
          -76.49999999997937,
          -95.39999999998106,
          -133.7999999999817,
          -139.99999999998235,
          -166.89999999998315,
          -190.3999999999839,
          -165.59999999998573,
          -197.0999999999878,
          -186.99999999998823,
          -142.59999999998826,
          -156.4999999999883,
          -130.19999999998697,
          -132.4999999999865,
          -109.79999999998655,
          -104.3999999999867,
          -106.79999999998688,
          -184.099999999987,
          -205.59999999998797,
          -192.7999999999885,
          -193.5999999999893,
          -203.59999999999042,
          -209.29999999999,
          -217.09999999999005,
          -96.49999999999045,
          -62.99999999999081,
          11.400000000008099,
          -13.999999999991768,
          39.400000000009456,
          83.20000000000996,
          64.60000000001024,
          86.20000000000964,
          101.50000000000773,
          89.40000000000617,
          61.80000000000521,
          58.80000000000554,
          51.60000000000722,
          38.20000000000825,
          17.000000000009255,
          9.500000000011191,
          -0.4999999999877076,
          196.20000000001306,
          142.10000000001392,
          100.50000000001451,
          118.200000000015,
          192.0000000000144,
          202.20000000001463,
          210.60000000001637,
          182.10000000001617,
          189.30000000001448,
          194.30000000001394,
          161.2000000000147,
          181.7000000000158,
          144.10000000001594,
          121.70000000001573,
          45.70000000001522,
          17.80000000001452,
          145.60000000001463,
          186.9000000000143,
          184.80000000001388,
          179.5000000000147,
          196.8000000000148,
          202.60000000001503,
          166.6000000000168,
          116.20000000001747,
          94.80000000001716,
          68.8000000000178,
          68.8000000000178,
          60.30000000001763,
          67.20000000001843,
          139.00000000001808,
          122.20000000001681,
          61.100000000016216,
          41.00000000001555,
          -31.299999999985147,
          -41.3999999999847,
          -49.199999999984726,
          -64.5999999999857,
          -81.49999999998539,
          -110.19999999998467,
          -86.1999999999851,
          -87.09999999998433,
          -88.99999999998346,
          -101.2999999999841,
          -113.29999999998499,
          -136.29999999998466,
          -147.9999999999836,
          -161.49999999998323,
          -129.79999999998205,
          -159.1999999999815,
          -178.9999999999824,
          -179.9999999999823,
          -175.59999999998234,
          -173.39999999998346,
          -148.9999999999835,
          -142.79999999998284,
          -159.39999999998278,
          -141.19999999998345,
          -113.19999999998431,
          -111.39999999998362,
          -122.39999999998241,
          -117.19999999998166,
          -132.99999999998082,
          -106.29999999998131,
          -133.1999999999821,
          -187.19999999998282,
          -213.99999999998298,
          -209.59999999998303,
          -131.99999999998315,
          -134.5999999999824,
          -193.19999999998217,
          -144.3999999999822,
          -162.99999999998195,
          -131.8999999999825,
          -158.59999999998422,
          -183.3999999999846,
          -206.49999999998494,
          -206.19999999998518,
          -180.09999999998516,
          -180.69999999998464,
          -222.5999999999838,
          -234.9999999999851,
          -252.99999999998533,
          -276.99999999998494,
          -290.59999999998524,
          -281.29999999998427,
          -307.59999999998337,
          -327.79999999998245,
          -329.39999999998184,
          -340.59999999998195,
          -355.9999999999829,
          -361.39999999998497,
          -358.5999999999866,
          -376.89999999998656,
          -394.9999999999852,
          -373.3999999999836,
          -370.2999999999833,
          -380.39999999998287,
          -354.9999999999808,
          -361.99999999998,
          -368.59999999998104,
          -377.39999999998093,
          -408.19999999998066,
          -425.199999999981,
          -416.5999999999802,
          -425.5999999999792,
          -354.59999999997814,
          -349.99999999997686,
          -360.39999999997616,
          -363.5999999999771,
          -312.7999999999774,
          -336.39999999997656,
          -340.199999999977,
          -344.8999999999767,
          -314.3999999999768,
          -339.4999999999769,
          -407.79999999997585,
          -418.39999999997644,
          -346.6999999999775,
          -347.19999999997856,
          -347.8999999999787,
          -357.3999999999788,
          -366.1999999999787,
          -393.2999999999786,
          -440.89999999997957,
          -449.7999999999802,
          -464.79999999998074,
          -483.6999999999802,
          -467.7999999999804,
          -454.7999999999818,
          -466.3999999999823,
          -478.49999999998164,
          -481.7999999999811,
          -501.89999999998173,
          -525.7999999999829,
          -534.9999999999832,
          -530.3999999999842,
          -533.3999999999861,
          -547.0999999999871,
          -542.9999999999868,
          -546.2999999999862,
          -562.199999999986,
          -568.799999999987,
          -595.199999999989,
          -647.5999999999904,
          -669.3999999999911,
          -658.7999999999905,
          -668.9999999999885,
          -688.0999999999871,
          -679.3999999999855,
          -685.599999999984,
          -663.0999999999831,
          -650.399999999982,
          -652.5999999999809,
          -671.8999999999808,
          -659.6999999999807,
          -660.3999999999809,
          -594.4999999999822,
          -612.9999999999834,
          -635.5999999999849,
          -669.999999999986,
          -697.7999999999861,
          -664.5999999999862,
          -677.2999999999872,
          -612.7999999999888,
          -631.3999999999885,
          -627.099999999987,
          -640.9999999999869,
          -664.399999999987,
          -626.5999999999858,
          -636.5999999999847,
          -591.0999999999841,
          -582.9999999999843,
          -581.4999999999856,
          -583.1999999999856,
          -596.5999999999846,
          -575.3999999999855,
          -575.8999999999866,
          -572.9999999999875,
          -548.4999999999891,
          -562.9999999999908,
          -546.4999999999915,
          -558.9999999999912,
          -596.7999999999925,
          -598.9999999999935
         ]
        }
       ],
       "layout": {
        "font": {
         "color": "#e1e1e1",
         "size": 10
        },
        "height": 400,
        "margin": {
         "b": 10,
         "l": 15,
         "r": 15
        },
        "paper_bgcolor": "#1e1e1e",
        "plot_bgcolor": "#1e1e1e",
        "template": {
         "data": {
          "bar": [
           {
            "error_x": {
             "color": "#2a3f5f"
            },
            "error_y": {
             "color": "#2a3f5f"
            },
            "marker": {
             "line": {
              "color": "#E5ECF6",
              "width": 0.5
             },
             "pattern": {
              "fillmode": "overlay",
              "size": 10,
              "solidity": 0.2
             }
            },
            "type": "bar"
           }
          ],
          "barpolar": [
           {
            "marker": {
             "line": {
              "color": "#E5ECF6",
              "width": 0.5
             },
             "pattern": {
              "fillmode": "overlay",
              "size": 10,
              "solidity": 0.2
             }
            },
            "type": "barpolar"
           }
          ],
          "carpet": [
           {
            "aaxis": {
             "endlinecolor": "#2a3f5f",
             "gridcolor": "white",
             "linecolor": "white",
             "minorgridcolor": "white",
             "startlinecolor": "#2a3f5f"
            },
            "baxis": {
             "endlinecolor": "#2a3f5f",
             "gridcolor": "white",
             "linecolor": "white",
             "minorgridcolor": "white",
             "startlinecolor": "#2a3f5f"
            },
            "type": "carpet"
           }
          ],
          "choropleth": [
           {
            "colorbar": {
             "outlinewidth": 0,
             "ticks": ""
            },
            "type": "choropleth"
           }
          ],
          "contour": [
           {
            "colorbar": {
             "outlinewidth": 0,
             "ticks": ""
            },
            "colorscale": [
             [
              0,
              "#0d0887"
             ],
             [
              0.1111111111111111,
              "#46039f"
             ],
             [
              0.2222222222222222,
              "#7201a8"
             ],
             [
              0.3333333333333333,
              "#9c179e"
             ],
             [
              0.4444444444444444,
              "#bd3786"
             ],
             [
              0.5555555555555556,
              "#d8576b"
             ],
             [
              0.6666666666666666,
              "#ed7953"
             ],
             [
              0.7777777777777778,
              "#fb9f3a"
             ],
             [
              0.8888888888888888,
              "#fdca26"
             ],
             [
              1,
              "#f0f921"
             ]
            ],
            "type": "contour"
           }
          ],
          "contourcarpet": [
           {
            "colorbar": {
             "outlinewidth": 0,
             "ticks": ""
            },
            "type": "contourcarpet"
           }
          ],
          "heatmap": [
           {
            "colorbar": {
             "outlinewidth": 0,
             "ticks": ""
            },
            "colorscale": [
             [
              0,
              "#0d0887"
             ],
             [
              0.1111111111111111,
              "#46039f"
             ],
             [
              0.2222222222222222,
              "#7201a8"
             ],
             [
              0.3333333333333333,
              "#9c179e"
             ],
             [
              0.4444444444444444,
              "#bd3786"
             ],
             [
              0.5555555555555556,
              "#d8576b"
             ],
             [
              0.6666666666666666,
              "#ed7953"
             ],
             [
              0.7777777777777778,
              "#fb9f3a"
             ],
             [
              0.8888888888888888,
              "#fdca26"
             ],
             [
              1,
              "#f0f921"
             ]
            ],
            "type": "heatmap"
           }
          ],
          "heatmapgl": [
           {
            "colorbar": {
             "outlinewidth": 0,
             "ticks": ""
            },
            "colorscale": [
             [
              0,
              "#0d0887"
             ],
             [
              0.1111111111111111,
              "#46039f"
             ],
             [
              0.2222222222222222,
              "#7201a8"
             ],
             [
              0.3333333333333333,
              "#9c179e"
             ],
             [
              0.4444444444444444,
              "#bd3786"
             ],
             [
              0.5555555555555556,
              "#d8576b"
             ],
             [
              0.6666666666666666,
              "#ed7953"
             ],
             [
              0.7777777777777778,
              "#fb9f3a"
             ],
             [
              0.8888888888888888,
              "#fdca26"
             ],
             [
              1,
              "#f0f921"
             ]
            ],
            "type": "heatmapgl"
           }
          ],
          "histogram": [
           {
            "marker": {
             "pattern": {
              "fillmode": "overlay",
              "size": 10,
              "solidity": 0.2
             }
            },
            "type": "histogram"
           }
          ],
          "histogram2d": [
           {
            "colorbar": {
             "outlinewidth": 0,
             "ticks": ""
            },
            "colorscale": [
             [
              0,
              "#0d0887"
             ],
             [
              0.1111111111111111,
              "#46039f"
             ],
             [
              0.2222222222222222,
              "#7201a8"
             ],
             [
              0.3333333333333333,
              "#9c179e"
             ],
             [
              0.4444444444444444,
              "#bd3786"
             ],
             [
              0.5555555555555556,
              "#d8576b"
             ],
             [
              0.6666666666666666,
              "#ed7953"
             ],
             [
              0.7777777777777778,
              "#fb9f3a"
             ],
             [
              0.8888888888888888,
              "#fdca26"
             ],
             [
              1,
              "#f0f921"
             ]
            ],
            "type": "histogram2d"
           }
          ],
          "histogram2dcontour": [
           {
            "colorbar": {
             "outlinewidth": 0,
             "ticks": ""
            },
            "colorscale": [
             [
              0,
              "#0d0887"
             ],
             [
              0.1111111111111111,
              "#46039f"
             ],
             [
              0.2222222222222222,
              "#7201a8"
             ],
             [
              0.3333333333333333,
              "#9c179e"
             ],
             [
              0.4444444444444444,
              "#bd3786"
             ],
             [
              0.5555555555555556,
              "#d8576b"
             ],
             [
              0.6666666666666666,
              "#ed7953"
             ],
             [
              0.7777777777777778,
              "#fb9f3a"
             ],
             [
              0.8888888888888888,
              "#fdca26"
             ],
             [
              1,
              "#f0f921"
             ]
            ],
            "type": "histogram2dcontour"
           }
          ],
          "mesh3d": [
           {
            "colorbar": {
             "outlinewidth": 0,
             "ticks": ""
            },
            "type": "mesh3d"
           }
          ],
          "parcoords": [
           {
            "line": {
             "colorbar": {
              "outlinewidth": 0,
              "ticks": ""
             }
            },
            "type": "parcoords"
           }
          ],
          "pie": [
           {
            "automargin": true,
            "type": "pie"
           }
          ],
          "scatter": [
           {
            "fillpattern": {
             "fillmode": "overlay",
             "size": 10,
             "solidity": 0.2
            },
            "type": "scatter"
           }
          ],
          "scatter3d": [
           {
            "line": {
             "colorbar": {
              "outlinewidth": 0,
              "ticks": ""
             }
            },
            "marker": {
             "colorbar": {
              "outlinewidth": 0,
              "ticks": ""
             }
            },
            "type": "scatter3d"
           }
          ],
          "scattercarpet": [
           {
            "marker": {
             "colorbar": {
              "outlinewidth": 0,
              "ticks": ""
             }
            },
            "type": "scattercarpet"
           }
          ],
          "scattergeo": [
           {
            "marker": {
             "colorbar": {
              "outlinewidth": 0,
              "ticks": ""
             }
            },
            "type": "scattergeo"
           }
          ],
          "scattergl": [
           {
            "marker": {
             "colorbar": {
              "outlinewidth": 0,
              "ticks": ""
             }
            },
            "type": "scattergl"
           }
          ],
          "scattermapbox": [
           {
            "marker": {
             "colorbar": {
              "outlinewidth": 0,
              "ticks": ""
             }
            },
            "type": "scattermapbox"
           }
          ],
          "scatterpolar": [
           {
            "marker": {
             "colorbar": {
              "outlinewidth": 0,
              "ticks": ""
             }
            },
            "type": "scatterpolar"
           }
          ],
          "scatterpolargl": [
           {
            "marker": {
             "colorbar": {
              "outlinewidth": 0,
              "ticks": ""
             }
            },
            "type": "scatterpolargl"
           }
          ],
          "scatterternary": [
           {
            "marker": {
             "colorbar": {
              "outlinewidth": 0,
              "ticks": ""
             }
            },
            "type": "scatterternary"
           }
          ],
          "surface": [
           {
            "colorbar": {
             "outlinewidth": 0,
             "ticks": ""
            },
            "colorscale": [
             [
              0,
              "#0d0887"
             ],
             [
              0.1111111111111111,
              "#46039f"
             ],
             [
              0.2222222222222222,
              "#7201a8"
             ],
             [
              0.3333333333333333,
              "#9c179e"
             ],
             [
              0.4444444444444444,
              "#bd3786"
             ],
             [
              0.5555555555555556,
              "#d8576b"
             ],
             [
              0.6666666666666666,
              "#ed7953"
             ],
             [
              0.7777777777777778,
              "#fb9f3a"
             ],
             [
              0.8888888888888888,
              "#fdca26"
             ],
             [
              1,
              "#f0f921"
             ]
            ],
            "type": "surface"
           }
          ],
          "table": [
           {
            "cells": {
             "fill": {
              "color": "#EBF0F8"
             },
             "line": {
              "color": "white"
             }
            },
            "header": {
             "fill": {
              "color": "#C8D4E3"
             },
             "line": {
              "color": "white"
             }
            },
            "type": "table"
           }
          ]
         },
         "layout": {
          "annotationdefaults": {
           "arrowcolor": "#2a3f5f",
           "arrowhead": 0,
           "arrowwidth": 1
          },
          "autotypenumbers": "strict",
          "coloraxis": {
           "colorbar": {
            "outlinewidth": 0,
            "ticks": ""
           }
          },
          "colorscale": {
           "diverging": [
            [
             0,
             "#8e0152"
            ],
            [
             0.1,
             "#c51b7d"
            ],
            [
             0.2,
             "#de77ae"
            ],
            [
             0.3,
             "#f1b6da"
            ],
            [
             0.4,
             "#fde0ef"
            ],
            [
             0.5,
             "#f7f7f7"
            ],
            [
             0.6,
             "#e6f5d0"
            ],
            [
             0.7,
             "#b8e186"
            ],
            [
             0.8,
             "#7fbc41"
            ],
            [
             0.9,
             "#4d9221"
            ],
            [
             1,
             "#276419"
            ]
           ],
           "sequential": [
            [
             0,
             "#0d0887"
            ],
            [
             0.1111111111111111,
             "#46039f"
            ],
            [
             0.2222222222222222,
             "#7201a8"
            ],
            [
             0.3333333333333333,
             "#9c179e"
            ],
            [
             0.4444444444444444,
             "#bd3786"
            ],
            [
             0.5555555555555556,
             "#d8576b"
            ],
            [
             0.6666666666666666,
             "#ed7953"
            ],
            [
             0.7777777777777778,
             "#fb9f3a"
            ],
            [
             0.8888888888888888,
             "#fdca26"
            ],
            [
             1,
             "#f0f921"
            ]
           ],
           "sequentialminus": [
            [
             0,
             "#0d0887"
            ],
            [
             0.1111111111111111,
             "#46039f"
            ],
            [
             0.2222222222222222,
             "#7201a8"
            ],
            [
             0.3333333333333333,
             "#9c179e"
            ],
            [
             0.4444444444444444,
             "#bd3786"
            ],
            [
             0.5555555555555556,
             "#d8576b"
            ],
            [
             0.6666666666666666,
             "#ed7953"
            ],
            [
             0.7777777777777778,
             "#fb9f3a"
            ],
            [
             0.8888888888888888,
             "#fdca26"
            ],
            [
             1,
             "#f0f921"
            ]
           ]
          },
          "colorway": [
           "#636efa",
           "#EF553B",
           "#00cc96",
           "#ab63fa",
           "#FFA15A",
           "#19d3f3",
           "#FF6692",
           "#B6E880",
           "#FF97FF",
           "#FECB52"
          ],
          "font": {
           "color": "#2a3f5f"
          },
          "geo": {
           "bgcolor": "white",
           "lakecolor": "white",
           "landcolor": "#E5ECF6",
           "showlakes": true,
           "showland": true,
           "subunitcolor": "white"
          },
          "hoverlabel": {
           "align": "left"
          },
          "hovermode": "closest",
          "mapbox": {
           "style": "light"
          },
          "paper_bgcolor": "white",
          "plot_bgcolor": "#E5ECF6",
          "polar": {
           "angularaxis": {
            "gridcolor": "white",
            "linecolor": "white",
            "ticks": ""
           },
           "bgcolor": "#E5ECF6",
           "radialaxis": {
            "gridcolor": "white",
            "linecolor": "white",
            "ticks": ""
           }
          },
          "scene": {
           "xaxis": {
            "backgroundcolor": "#E5ECF6",
            "gridcolor": "white",
            "gridwidth": 2,
            "linecolor": "white",
            "showbackground": true,
            "ticks": "",
            "zerolinecolor": "white"
           },
           "yaxis": {
            "backgroundcolor": "#E5ECF6",
            "gridcolor": "white",
            "gridwidth": 2,
            "linecolor": "white",
            "showbackground": true,
            "ticks": "",
            "zerolinecolor": "white"
           },
           "zaxis": {
            "backgroundcolor": "#E5ECF6",
            "gridcolor": "white",
            "gridwidth": 2,
            "linecolor": "white",
            "showbackground": true,
            "ticks": "",
            "zerolinecolor": "white"
           }
          },
          "shapedefaults": {
           "line": {
            "color": "#2a3f5f"
           }
          },
          "ternary": {
           "aaxis": {
            "gridcolor": "white",
            "linecolor": "white",
            "ticks": ""
           },
           "baxis": {
            "gridcolor": "white",
            "linecolor": "white",
            "ticks": ""
           },
           "bgcolor": "#E5ECF6",
           "caxis": {
            "gridcolor": "white",
            "linecolor": "white",
            "ticks": ""
           }
          },
          "title": {
           "x": 0.05
          },
          "xaxis": {
           "automargin": true,
           "gridcolor": "white",
           "linecolor": "white",
           "ticks": "",
           "title": {
            "standoff": 15
           },
           "zerolinecolor": "white",
           "zerolinewidth": 2
          },
          "yaxis": {
           "automargin": true,
           "gridcolor": "white",
           "linecolor": "white",
           "ticks": "",
           "title": {
            "standoff": 15
           },
           "zerolinecolor": "white",
           "zerolinewidth": 2
          }
         }
        },
        "title": {
         "text": "EUR_CAD_MA_8_16"
        },
        "width": 1000,
        "xaxis": {
         "linecolor": "#3a4a54",
         "linewidth": 1,
         "showgrid": false,
         "zeroline": false
        },
        "yaxis": {
         "linecolor": "#3a4a54",
         "linewidth": 1,
         "showgrid": false,
         "zeroline": false
        }
       }
      }
     },
     "metadata": {},
     "output_type": "display_data"
    },
    {
     "data": {
      "application/vnd.plotly.v1+json": {
       "config": {
        "plotlyServerURL": "https://plot.ly"
       },
       "data": [
        {
         "line": {
          "color": "#3d825f",
          "shape": "spline",
          "width": 2
         },
         "mode": "lines",
         "name": "EUR_JPY_MA_8_16",
         "type": "scatter",
         "x": [
          "2023-09-06T03:00:00+00:00",
          "2023-09-06T17:00:00+00:00",
          "2023-09-07T06:00:00+00:00",
          "2023-09-08T02:00:00+00:00",
          "2023-09-10T23:00:00+00:00",
          "2023-09-11T14:00:00+00:00",
          "2023-09-12T08:00:00+00:00",
          "2023-09-12T16:00:00+00:00",
          "2023-09-13T10:00:00+00:00",
          "2023-09-13T17:00:00+00:00",
          "2023-09-13T22:00:00+00:00",
          "2023-09-14T10:00:00+00:00",
          "2023-09-14T12:00:00+00:00",
          "2023-09-15T04:00:00+00:00",
          "2023-09-18T00:00:00+00:00",
          "2023-09-18T15:00:00+00:00",
          "2023-09-19T20:00:00+00:00",
          "2023-09-20T06:00:00+00:00",
          "2023-09-20T21:00:00+00:00",
          "2023-09-22T01:00:00+00:00",
          "2023-09-25T07:00:00+00:00",
          "2023-09-26T05:00:00+00:00",
          "2023-09-26T07:00:00+00:00",
          "2023-09-26T08:00:00+00:00",
          "2023-09-26T17:00:00+00:00",
          "2023-09-28T11:00:00+00:00",
          "2023-09-29T20:00:00+00:00",
          "2023-10-02T02:00:00+00:00",
          "2023-10-02T11:00:00+00:00",
          "2023-10-03T11:00:00+00:00",
          "2023-10-03T15:00:00+00:00",
          "2023-10-04T04:00:00+00:00",
          "2023-10-05T01:00:00+00:00",
          "2023-10-05T11:00:00+00:00",
          "2023-10-05T19:00:00+00:00",
          "2023-10-05T23:00:00+00:00",
          "2023-10-09T03:00:00+00:00",
          "2023-10-10T00:00:00+00:00",
          "2023-10-10T22:00:00+00:00",
          "2023-10-11T05:00:00+00:00",
          "2023-10-12T12:00:00+00:00",
          "2023-10-13T05:00:00+00:00",
          "2023-10-13T10:00:00+00:00",
          "2023-10-16T03:00:00+00:00",
          "2023-10-17T05:00:00+00:00",
          "2023-10-17T12:00:00+00:00",
          "2023-10-18T04:00:00+00:00",
          "2023-10-19T10:00:00+00:00",
          "2023-10-20T03:00:00+00:00",
          "2023-10-20T09:00:00+00:00",
          "2023-10-23T02:00:00+00:00",
          "2023-10-23T10:00:00+00:00",
          "2023-10-24T08:00:00+00:00",
          "2023-10-25T04:00:00+00:00",
          "2023-10-25T10:00:00+00:00",
          "2023-10-25T21:00:00+00:00",
          "2023-10-26T06:00:00+00:00",
          "2023-10-26T07:00:00+00:00",
          "2023-10-26T10:00:00+00:00",
          "2023-10-26T19:00:00+00:00",
          "2023-10-27T06:00:00+00:00",
          "2023-10-30T12:00:00+00:00",
          "2023-10-30T21:00:00+00:00",
          "2023-10-31T03:00:00+00:00",
          "2023-10-31T22:00:00+00:00",
          "2023-11-02T00:00:00+00:00",
          "2023-11-02T08:00:00+00:00",
          "2023-11-02T09:00:00+00:00",
          "2023-11-02T23:00:00+00:00",
          "2023-11-03T09:00:00+00:00",
          "2023-11-07T00:00:00+00:00",
          "2023-11-07T07:00:00+00:00",
          "2023-11-07T12:00:00+00:00",
          "2023-11-07T20:00:00+00:00",
          "2023-11-08T09:00:00+00:00",
          "2023-11-08T14:00:00+00:00",
          "2023-11-09T06:00:00+00:00",
          "2023-11-09T15:00:00+00:00",
          "2023-11-09T22:00:00+00:00",
          "2023-11-10T09:00:00+00:00",
          "2023-11-13T16:00:00+00:00",
          "2023-11-13T21:00:00+00:00",
          "2023-11-15T10:00:00+00:00",
          "2023-11-15T18:00:00+00:00",
          "2023-11-16T05:00:00+00:00",
          "2023-11-16T11:00:00+00:00",
          "2023-11-16T15:00:00+00:00",
          "2023-11-17T20:00:00+00:00",
          "2023-11-20T05:00:00+00:00",
          "2023-11-20T21:00:00+00:00",
          "2023-11-21T02:00:00+00:00",
          "2023-11-21T19:00:00+00:00",
          "2023-11-23T04:00:00+00:00",
          "2023-11-23T10:00:00+00:00",
          "2023-11-24T03:00:00+00:00",
          "2023-11-24T11:00:00+00:00",
          "2023-11-27T03:00:00+00:00",
          "2023-11-28T12:00:00+00:00",
          "2023-11-28T18:00:00+00:00",
          "2023-11-29T10:00:00+00:00",
          "2023-11-29T18:00:00+00:00",
          "2023-11-30T16:00:00+00:00",
          "2023-12-01T01:00:00+00:00",
          "2023-12-01T06:00:00+00:00",
          "2023-12-01T13:00:00+00:00",
          "2023-12-04T22:00:00+00:00",
          "2023-12-05T07:00:00+00:00",
          "2023-12-06T03:00:00+00:00",
          "2023-12-06T10:00:00+00:00",
          "2023-12-08T09:00:00+00:00",
          "2023-12-11T21:00:00+00:00",
          "2023-12-12T14:00:00+00:00",
          "2023-12-13T04:00:00+00:00",
          "2023-12-13T07:00:00+00:00",
          "2023-12-13T15:00:00+00:00",
          "2023-12-14T14:00:00+00:00",
          "2023-12-15T08:00:00+00:00",
          "2023-12-18T03:00:00+00:00",
          "2023-12-19T01:00:00+00:00",
          "2023-12-19T03:00:00+00:00",
          "2023-12-19T21:00:00+00:00",
          "2023-12-20T19:00:00+00:00",
          "2023-12-21T01:00:00+00:00",
          "2023-12-22T01:00:00+00:00",
          "2023-12-22T11:00:00+00:00",
          "2023-12-22T14:00:00+00:00",
          "2023-12-26T04:00:00+00:00",
          "2023-12-26T09:00:00+00:00",
          "2023-12-27T22:00:00+00:00",
          "2023-12-29T00:00:00+00:00",
          "2023-12-29T09:00:00+00:00",
          "2023-12-29T11:00:00+00:00",
          "2023-12-29T12:00:00+00:00",
          "2023-12-29T13:00:00+00:00",
          "2023-12-29T15:00:00+00:00",
          "2024-01-02T05:00:00+00:00",
          "2024-01-02T13:00:00+00:00",
          "2024-01-03T03:00:00+00:00",
          "2024-01-05T12:00:00+00:00",
          "2024-01-05T13:00:00+00:00",
          "2024-01-05T21:00:00+00:00",
          "2024-01-08T16:00:00+00:00",
          "2024-01-08T20:00:00+00:00",
          "2024-01-09T13:00:00+00:00",
          "2024-01-09T15:00:00+00:00",
          "2024-01-09T16:00:00+00:00",
          "2024-01-11T06:00:00+00:00",
          "2024-01-11T15:00:00+00:00",
          "2024-01-11T22:00:00+00:00",
          "2024-01-15T02:00:00+00:00",
          "2024-01-16T01:00:00+00:00",
          "2024-01-16T10:00:00+00:00",
          "2024-01-18T07:00:00+00:00",
          "2024-01-18T22:00:00+00:00",
          "2024-01-19T12:00:00+00:00",
          "2024-01-19T19:00:00+00:00",
          "2024-01-22T04:00:00+00:00",
          "2024-01-22T23:00:00+00:00",
          "2024-01-23T07:00:00+00:00",
          "2024-01-23T19:00:00+00:00",
          "2024-01-24T03:00:00+00:00",
          "2024-01-24T23:00:00+00:00",
          "2024-01-25T14:00:00+00:00",
          "2024-01-26T04:00:00+00:00",
          "2024-01-26T06:00:00+00:00",
          "2024-01-26T09:00:00+00:00",
          "2024-01-29T02:00:00+00:00",
          "2024-01-30T14:00:00+00:00",
          "2024-01-31T02:00:00+00:00",
          "2024-01-31T12:00:00+00:00",
          "2024-01-31T15:00:00+00:00",
          "2024-02-01T16:00:00+00:00",
          "2024-02-05T04:00:00+00:00",
          "2024-02-05T23:00:00+00:00",
          "2024-02-06T06:00:00+00:00",
          "2024-02-07T05:00:00+00:00",
          "2024-02-12T02:00:00+00:00",
          "2024-02-12T20:00:00+00:00",
          "2024-02-14T03:00:00+00:00",
          "2024-02-14T15:00:00+00:00",
          "2024-02-15T03:00:00+00:00",
          "2024-02-15T15:00:00+00:00",
          "2024-02-19T02:00:00+00:00",
          "2024-02-19T18:00:00+00:00",
          "2024-02-20T21:00:00+00:00",
          "2024-02-21T03:00:00+00:00",
          "2024-02-21T13:00:00+00:00",
          "2024-02-21T16:00:00+00:00",
          "2024-02-22T18:00:00+00:00",
          "2024-02-23T04:00:00+00:00",
          "2024-02-23T16:00:00+00:00",
          "2024-02-26T08:00:00+00:00",
          "2024-02-27T00:00:00+00:00",
          "2024-02-27T20:00:00+00:00",
          "2024-02-28T02:00:00+00:00",
          "2024-02-28T16:00:00+00:00",
          "2024-02-29T02:00:00+00:00",
          "2024-02-29T16:00:00+00:00",
          "2024-02-29T17:00:00+00:00",
          "2024-03-01T02:00:00+00:00",
          "2024-03-01T21:00:00+00:00",
          "2024-03-04T01:00:00+00:00",
          "2024-03-05T02:00:00+00:00",
          "2024-03-06T15:00:00+00:00",
          "2024-03-06T19:00:00+00:00",
          "2024-03-06T20:00:00+00:00",
          "2024-03-07T00:00:00+00:00",
          "2024-03-07T19:00:00+00:00",
          "2024-03-08T05:00:00+00:00",
          "2024-03-11T21:00:00+00:00",
          "2024-03-13T01:00:00+00:00",
          "2024-03-13T09:00:00+00:00",
          "2024-03-14T00:00:00+00:00",
          "2024-03-14T06:00:00+00:00",
          "2024-03-14T12:00:00+00:00",
          "2024-03-15T07:00:00+00:00",
          "2024-03-18T17:00:00+00:00",
          "2024-03-19T04:00:00+00:00",
          "2024-03-21T05:00:00+00:00",
          "2024-03-21T10:00:00+00:00",
          "2024-03-21T15:00:00+00:00",
          "2024-03-21T16:00:00+00:00",
          "2024-03-21T17:00:00+00:00",
          "2024-03-25T08:00:00+00:00",
          "2024-03-26T04:00:00+00:00",
          "2024-03-26T08:00:00+00:00",
          "2024-03-26T20:00:00+00:00",
          "2024-03-27T05:00:00+00:00",
          "2024-03-27T10:00:00+00:00",
          "2024-03-28T00:00:00+00:00",
          "2024-03-28T08:00:00+00:00",
          "2024-03-28T23:00:00+00:00",
          "2024-03-29T00:00:00+00:00",
          "2024-03-29T13:00:00+00:00",
          "2024-04-01T07:00:00+00:00",
          "2024-04-02T11:00:00+00:00",
          "2024-04-04T19:00:00+00:00",
          "2024-04-05T10:00:00+00:00",
          "2024-04-09T16:00:00+00:00",
          "2024-04-10T04:00:00+00:00",
          "2024-04-10T13:00:00+00:00",
          "2024-04-11T02:00:00+00:00",
          "2024-04-11T05:00:00+00:00",
          "2024-04-11T08:00:00+00:00",
          "2024-04-11T15:00:00+00:00",
          "2024-04-11T22:00:00+00:00",
          "2024-04-12T04:00:00+00:00",
          "2024-04-14T23:00:00+00:00",
          "2024-04-15T20:00:00+00:00",
          "2024-04-16T08:00:00+00:00",
          "2024-04-16T23:00:00+00:00",
          "2024-04-17T04:00:00+00:00",
          "2024-04-18T17:00:00+00:00",
          "2024-04-19T10:00:00+00:00",
          "2024-04-22T12:00:00+00:00",
          "2024-04-22T20:00:00+00:00",
          "2024-04-23T06:00:00+00:00",
          "2024-04-23T07:00:00+00:00",
          "2024-04-24T09:00:00+00:00",
          "2024-04-24T17:00:00+00:00",
          "2024-04-25T17:00:00+00:00"
         ],
         "y": [
          3.2000000000010687,
          -19.69999999999743,
          14.200000000002433,
          2.600000000001046,
          37.30000000000189,
          32.40000000000407,
          -21.999999999994202,
          21.600000000006503,
          17.100000000007753,
          0.20000000000948148,
          -2.999999999988745,
          -79.79999999998881,
          -45.19999999999129,
          13.40000000000714,
          -10.59999999999377,
          -5.599999999995475,
          -15.999999999996817,
          -15.599999999997749,
          60.40000000000134,
          124.20000000000186,
          143.4000000000026,
          130.2000000000021,
          110.6000000000023,
          71.4000000000027,
          68.80000000000166,
          121.39999999999986,
          86.99999999999761,
          27.899999999996794,
          89.89999999999725,
          -25.40000000000191,
          -50.60000000000002,
          -53.09999999999775,
          -100.19999999999811,
          -101.39999999999816,
          -99.89999999999668,
          -19.599999999996953,
          17.50000000000398,
          77.40000000000578,
          51.80000000000575,
          77.60000000000389,
          99.30000000000234,
          45.000000000001705,
          52.600000000001046,
          97.20000000000084,
          75.30000000000143,
          107.30000000000075,
          129.80000000000018,
          171.80000000000177,
          141.80000000000348,
          116.20000000000346,
          65.60000000000343,
          86.20000000000516,
          117.6000000000073,
          79.10000000000821,
          63.40000000000714,
          48.40000000000657,
          30.1000000000073,
          -8.299999999991314,
          -51.39999999998963,
          -74.79999999998768,
          -104.99999999998693,
          -166.5999999999883,
          -224.1999999999905,
          -85.6999999999914,
          -6.799999999989836,
          -2.79999999998779,
          -26.599999999987745,
          -18.39999999998838,
          -46.99999999998852,
          22.600000000011278,
          -0.29999999999006377,
          -20.59999999999036,
          -33.49999999998943,
          -45.099999999990814,
          -92.7999999999912,
          -66.59999999999116,
          -88.89999999999247,
          -121.19999999999322,
          -149.79999999999336,
          -103.59999999999445,
          -119.79999999999507,
          -17.599999999993088,
          -100.99999999999056,
          -121.19999999999038,
          -133.59999999999275,
          -182.59999999999366,
          -149.5999999999924,
          -200.49999999999102,
          -155.19999999999072,
          -196.89999999999088,
          -194.99999999999034,
          -121.29999999999086,
          -153.19999999999254,
          -153.3999999999935,
          -183.19999999999368,
          -200.59999999999434,
          -156.59999999999457,
          -213.19999999999482,
          -227.59999999999536,
          -281.59999999999457,
          -242.69999999999357,
          -259.89999999999327,
          -316.09999999999445,
          -378.29999999999586,
          -213.9999999999958,
          -285.1999999999947,
          -316.99999999999307,
          -316.69999999999163,
          34.800000000009845,
          219.30000000000973,
          259.00000000000887,
          278.60000000000866,
          266.0000000000082,
          208.40000000000884,
          304.9000000000092,
          259.00000000000887,
          272.60000000000844,
          324.0000000000066,
          207.80000000000598,
          322.80000000000655,
          377.0000000000067,
          298.6000000000075,
          310.3000000000094,
          310.6000000000108,
          287.60000000001185,
          293.6000000000121,
          278.500000000011,
          312.60000000001185,
          353.700000000012,
          344.2000000000121,
          344.2000000000121,
          301.9000000000119,
          267.00000000001296,
          173.40000000001226,
          155.60000000001253,
          129.30000000001485,
          146.80000000001598,
          436.300000000017,
          390.40000000001953,
          326.60000000002185,
          357.200000000023,
          356.40000000002203,
          411.70000000002176,
          430.200000000022,
          401.60000000002185,
          593.300000000022,
          592.6000000000215,
          564.6000000000214,
          617.4000000000206,
          664.8000000000195,
          649.2000000000189,
          782.0000000000192,
          765.6000000000205,
          781.400000000022,
          763.8000000000233,
          741.6000000000224,
          746.6000000000207,
          731.2000000000211,
          738.4000000000214,
          697.4000000000217,
          688.8000000000233,
          627.8000000000247,
          605.8000000000249,
          587.2000000000241,
          557.3000000000235,
          587.6000000000232,
          677.8000000000247,
          682.4000000000268,
          642.7000000000277,
          504.2000000000286,
          499.4000000000284,
          616.2000000000262,
          647.0000000000255,
          637.800000000027,
          673.2000000000284,
          853.4000000000276,
          867.4000000000262,
          902.0000000000266,
          878.3000000000271,
          847.9000000000269,
          818.2000000000272,
          836.8000000000279,
          817.8000000000281,
          844.6000000000282,
          841.40000000003,
          851.7000000000309,
          818.0000000000291,
          855.8000000000277,
          857.0000000000277,
          841.5000000000276,
          810.1000000000283,
          831.8000000000296,
          844.8000000000292,
          830.8000000000277,
          800.2000000000265,
          695.1000000000249,
          728.0000000000229,
          728.4000000000219,
          661.6000000000213,
          669.500000000022,
          669.4000000000244,
          724.4000000000256,
          764.5000000000266,
          749.4000000000284,
          745.2000000000282,
          701.6000000000275,
          734.1000000000292,
          711.7000000000303,
          831.6000000000287,
          876.2000000000285,
          814.9000000000285,
          809.1000000000264,
          793.2000000000244,
          777.4000000000228,
          771.2000000000216,
          811.9000000000199,
          715.0000000000176,
          918.2000000000158,
          924.8000000000161,
          888.8000000000176,
          877.7000000000186,
          876.400000000018,
          982.9000000000178,
          1023.2000000000198,
          1020.4000000000207,
          1025.00000000002,
          1022.1000000000204,
          972.6000000000199,
          966.4000000000187,
          928.3000000000187,
          924.3000000000195,
          899.800000000019,
          888.9000000000182,
          885.900000000018,
          904.9000000000178,
          984.0000000000175,
          971.400000000017,
          1037.6000000000176,
          1028.3000000000188,
          969.6000000000199,
          961.1000000000191,
          972.4000000000191,
          946.7000000000214,
          911.5000000000239,
          897.0000000000257,
          872.1000000000262,
          964.6000000000273,
          1034.400000000028,
          1022.5000000000281,
          1050.5000000000282,
          1050.0000000000286,
          1085.3000000000295,
          1098.300000000029,
          1109.400000000028,
          1078.800000000027,
          1058.0000000000273,
          998.0000000000279,
          1016.4000000000276,
          959.6000000000264,
          1042.9000000000262,
          1034.5000000000286
         ]
        }
       ],
       "layout": {
        "font": {
         "color": "#e1e1e1",
         "size": 10
        },
        "height": 400,
        "margin": {
         "b": 10,
         "l": 15,
         "r": 15
        },
        "paper_bgcolor": "#1e1e1e",
        "plot_bgcolor": "#1e1e1e",
        "template": {
         "data": {
          "bar": [
           {
            "error_x": {
             "color": "#2a3f5f"
            },
            "error_y": {
             "color": "#2a3f5f"
            },
            "marker": {
             "line": {
              "color": "#E5ECF6",
              "width": 0.5
             },
             "pattern": {
              "fillmode": "overlay",
              "size": 10,
              "solidity": 0.2
             }
            },
            "type": "bar"
           }
          ],
          "barpolar": [
           {
            "marker": {
             "line": {
              "color": "#E5ECF6",
              "width": 0.5
             },
             "pattern": {
              "fillmode": "overlay",
              "size": 10,
              "solidity": 0.2
             }
            },
            "type": "barpolar"
           }
          ],
          "carpet": [
           {
            "aaxis": {
             "endlinecolor": "#2a3f5f",
             "gridcolor": "white",
             "linecolor": "white",
             "minorgridcolor": "white",
             "startlinecolor": "#2a3f5f"
            },
            "baxis": {
             "endlinecolor": "#2a3f5f",
             "gridcolor": "white",
             "linecolor": "white",
             "minorgridcolor": "white",
             "startlinecolor": "#2a3f5f"
            },
            "type": "carpet"
           }
          ],
          "choropleth": [
           {
            "colorbar": {
             "outlinewidth": 0,
             "ticks": ""
            },
            "type": "choropleth"
           }
          ],
          "contour": [
           {
            "colorbar": {
             "outlinewidth": 0,
             "ticks": ""
            },
            "colorscale": [
             [
              0,
              "#0d0887"
             ],
             [
              0.1111111111111111,
              "#46039f"
             ],
             [
              0.2222222222222222,
              "#7201a8"
             ],
             [
              0.3333333333333333,
              "#9c179e"
             ],
             [
              0.4444444444444444,
              "#bd3786"
             ],
             [
              0.5555555555555556,
              "#d8576b"
             ],
             [
              0.6666666666666666,
              "#ed7953"
             ],
             [
              0.7777777777777778,
              "#fb9f3a"
             ],
             [
              0.8888888888888888,
              "#fdca26"
             ],
             [
              1,
              "#f0f921"
             ]
            ],
            "type": "contour"
           }
          ],
          "contourcarpet": [
           {
            "colorbar": {
             "outlinewidth": 0,
             "ticks": ""
            },
            "type": "contourcarpet"
           }
          ],
          "heatmap": [
           {
            "colorbar": {
             "outlinewidth": 0,
             "ticks": ""
            },
            "colorscale": [
             [
              0,
              "#0d0887"
             ],
             [
              0.1111111111111111,
              "#46039f"
             ],
             [
              0.2222222222222222,
              "#7201a8"
             ],
             [
              0.3333333333333333,
              "#9c179e"
             ],
             [
              0.4444444444444444,
              "#bd3786"
             ],
             [
              0.5555555555555556,
              "#d8576b"
             ],
             [
              0.6666666666666666,
              "#ed7953"
             ],
             [
              0.7777777777777778,
              "#fb9f3a"
             ],
             [
              0.8888888888888888,
              "#fdca26"
             ],
             [
              1,
              "#f0f921"
             ]
            ],
            "type": "heatmap"
           }
          ],
          "heatmapgl": [
           {
            "colorbar": {
             "outlinewidth": 0,
             "ticks": ""
            },
            "colorscale": [
             [
              0,
              "#0d0887"
             ],
             [
              0.1111111111111111,
              "#46039f"
             ],
             [
              0.2222222222222222,
              "#7201a8"
             ],
             [
              0.3333333333333333,
              "#9c179e"
             ],
             [
              0.4444444444444444,
              "#bd3786"
             ],
             [
              0.5555555555555556,
              "#d8576b"
             ],
             [
              0.6666666666666666,
              "#ed7953"
             ],
             [
              0.7777777777777778,
              "#fb9f3a"
             ],
             [
              0.8888888888888888,
              "#fdca26"
             ],
             [
              1,
              "#f0f921"
             ]
            ],
            "type": "heatmapgl"
           }
          ],
          "histogram": [
           {
            "marker": {
             "pattern": {
              "fillmode": "overlay",
              "size": 10,
              "solidity": 0.2
             }
            },
            "type": "histogram"
           }
          ],
          "histogram2d": [
           {
            "colorbar": {
             "outlinewidth": 0,
             "ticks": ""
            },
            "colorscale": [
             [
              0,
              "#0d0887"
             ],
             [
              0.1111111111111111,
              "#46039f"
             ],
             [
              0.2222222222222222,
              "#7201a8"
             ],
             [
              0.3333333333333333,
              "#9c179e"
             ],
             [
              0.4444444444444444,
              "#bd3786"
             ],
             [
              0.5555555555555556,
              "#d8576b"
             ],
             [
              0.6666666666666666,
              "#ed7953"
             ],
             [
              0.7777777777777778,
              "#fb9f3a"
             ],
             [
              0.8888888888888888,
              "#fdca26"
             ],
             [
              1,
              "#f0f921"
             ]
            ],
            "type": "histogram2d"
           }
          ],
          "histogram2dcontour": [
           {
            "colorbar": {
             "outlinewidth": 0,
             "ticks": ""
            },
            "colorscale": [
             [
              0,
              "#0d0887"
             ],
             [
              0.1111111111111111,
              "#46039f"
             ],
             [
              0.2222222222222222,
              "#7201a8"
             ],
             [
              0.3333333333333333,
              "#9c179e"
             ],
             [
              0.4444444444444444,
              "#bd3786"
             ],
             [
              0.5555555555555556,
              "#d8576b"
             ],
             [
              0.6666666666666666,
              "#ed7953"
             ],
             [
              0.7777777777777778,
              "#fb9f3a"
             ],
             [
              0.8888888888888888,
              "#fdca26"
             ],
             [
              1,
              "#f0f921"
             ]
            ],
            "type": "histogram2dcontour"
           }
          ],
          "mesh3d": [
           {
            "colorbar": {
             "outlinewidth": 0,
             "ticks": ""
            },
            "type": "mesh3d"
           }
          ],
          "parcoords": [
           {
            "line": {
             "colorbar": {
              "outlinewidth": 0,
              "ticks": ""
             }
            },
            "type": "parcoords"
           }
          ],
          "pie": [
           {
            "automargin": true,
            "type": "pie"
           }
          ],
          "scatter": [
           {
            "fillpattern": {
             "fillmode": "overlay",
             "size": 10,
             "solidity": 0.2
            },
            "type": "scatter"
           }
          ],
          "scatter3d": [
           {
            "line": {
             "colorbar": {
              "outlinewidth": 0,
              "ticks": ""
             }
            },
            "marker": {
             "colorbar": {
              "outlinewidth": 0,
              "ticks": ""
             }
            },
            "type": "scatter3d"
           }
          ],
          "scattercarpet": [
           {
            "marker": {
             "colorbar": {
              "outlinewidth": 0,
              "ticks": ""
             }
            },
            "type": "scattercarpet"
           }
          ],
          "scattergeo": [
           {
            "marker": {
             "colorbar": {
              "outlinewidth": 0,
              "ticks": ""
             }
            },
            "type": "scattergeo"
           }
          ],
          "scattergl": [
           {
            "marker": {
             "colorbar": {
              "outlinewidth": 0,
              "ticks": ""
             }
            },
            "type": "scattergl"
           }
          ],
          "scattermapbox": [
           {
            "marker": {
             "colorbar": {
              "outlinewidth": 0,
              "ticks": ""
             }
            },
            "type": "scattermapbox"
           }
          ],
          "scatterpolar": [
           {
            "marker": {
             "colorbar": {
              "outlinewidth": 0,
              "ticks": ""
             }
            },
            "type": "scatterpolar"
           }
          ],
          "scatterpolargl": [
           {
            "marker": {
             "colorbar": {
              "outlinewidth": 0,
              "ticks": ""
             }
            },
            "type": "scatterpolargl"
           }
          ],
          "scatterternary": [
           {
            "marker": {
             "colorbar": {
              "outlinewidth": 0,
              "ticks": ""
             }
            },
            "type": "scatterternary"
           }
          ],
          "surface": [
           {
            "colorbar": {
             "outlinewidth": 0,
             "ticks": ""
            },
            "colorscale": [
             [
              0,
              "#0d0887"
             ],
             [
              0.1111111111111111,
              "#46039f"
             ],
             [
              0.2222222222222222,
              "#7201a8"
             ],
             [
              0.3333333333333333,
              "#9c179e"
             ],
             [
              0.4444444444444444,
              "#bd3786"
             ],
             [
              0.5555555555555556,
              "#d8576b"
             ],
             [
              0.6666666666666666,
              "#ed7953"
             ],
             [
              0.7777777777777778,
              "#fb9f3a"
             ],
             [
              0.8888888888888888,
              "#fdca26"
             ],
             [
              1,
              "#f0f921"
             ]
            ],
            "type": "surface"
           }
          ],
          "table": [
           {
            "cells": {
             "fill": {
              "color": "#EBF0F8"
             },
             "line": {
              "color": "white"
             }
            },
            "header": {
             "fill": {
              "color": "#C8D4E3"
             },
             "line": {
              "color": "white"
             }
            },
            "type": "table"
           }
          ]
         },
         "layout": {
          "annotationdefaults": {
           "arrowcolor": "#2a3f5f",
           "arrowhead": 0,
           "arrowwidth": 1
          },
          "autotypenumbers": "strict",
          "coloraxis": {
           "colorbar": {
            "outlinewidth": 0,
            "ticks": ""
           }
          },
          "colorscale": {
           "diverging": [
            [
             0,
             "#8e0152"
            ],
            [
             0.1,
             "#c51b7d"
            ],
            [
             0.2,
             "#de77ae"
            ],
            [
             0.3,
             "#f1b6da"
            ],
            [
             0.4,
             "#fde0ef"
            ],
            [
             0.5,
             "#f7f7f7"
            ],
            [
             0.6,
             "#e6f5d0"
            ],
            [
             0.7,
             "#b8e186"
            ],
            [
             0.8,
             "#7fbc41"
            ],
            [
             0.9,
             "#4d9221"
            ],
            [
             1,
             "#276419"
            ]
           ],
           "sequential": [
            [
             0,
             "#0d0887"
            ],
            [
             0.1111111111111111,
             "#46039f"
            ],
            [
             0.2222222222222222,
             "#7201a8"
            ],
            [
             0.3333333333333333,
             "#9c179e"
            ],
            [
             0.4444444444444444,
             "#bd3786"
            ],
            [
             0.5555555555555556,
             "#d8576b"
            ],
            [
             0.6666666666666666,
             "#ed7953"
            ],
            [
             0.7777777777777778,
             "#fb9f3a"
            ],
            [
             0.8888888888888888,
             "#fdca26"
            ],
            [
             1,
             "#f0f921"
            ]
           ],
           "sequentialminus": [
            [
             0,
             "#0d0887"
            ],
            [
             0.1111111111111111,
             "#46039f"
            ],
            [
             0.2222222222222222,
             "#7201a8"
            ],
            [
             0.3333333333333333,
             "#9c179e"
            ],
            [
             0.4444444444444444,
             "#bd3786"
            ],
            [
             0.5555555555555556,
             "#d8576b"
            ],
            [
             0.6666666666666666,
             "#ed7953"
            ],
            [
             0.7777777777777778,
             "#fb9f3a"
            ],
            [
             0.8888888888888888,
             "#fdca26"
            ],
            [
             1,
             "#f0f921"
            ]
           ]
          },
          "colorway": [
           "#636efa",
           "#EF553B",
           "#00cc96",
           "#ab63fa",
           "#FFA15A",
           "#19d3f3",
           "#FF6692",
           "#B6E880",
           "#FF97FF",
           "#FECB52"
          ],
          "font": {
           "color": "#2a3f5f"
          },
          "geo": {
           "bgcolor": "white",
           "lakecolor": "white",
           "landcolor": "#E5ECF6",
           "showlakes": true,
           "showland": true,
           "subunitcolor": "white"
          },
          "hoverlabel": {
           "align": "left"
          },
          "hovermode": "closest",
          "mapbox": {
           "style": "light"
          },
          "paper_bgcolor": "white",
          "plot_bgcolor": "#E5ECF6",
          "polar": {
           "angularaxis": {
            "gridcolor": "white",
            "linecolor": "white",
            "ticks": ""
           },
           "bgcolor": "#E5ECF6",
           "radialaxis": {
            "gridcolor": "white",
            "linecolor": "white",
            "ticks": ""
           }
          },
          "scene": {
           "xaxis": {
            "backgroundcolor": "#E5ECF6",
            "gridcolor": "white",
            "gridwidth": 2,
            "linecolor": "white",
            "showbackground": true,
            "ticks": "",
            "zerolinecolor": "white"
           },
           "yaxis": {
            "backgroundcolor": "#E5ECF6",
            "gridcolor": "white",
            "gridwidth": 2,
            "linecolor": "white",
            "showbackground": true,
            "ticks": "",
            "zerolinecolor": "white"
           },
           "zaxis": {
            "backgroundcolor": "#E5ECF6",
            "gridcolor": "white",
            "gridwidth": 2,
            "linecolor": "white",
            "showbackground": true,
            "ticks": "",
            "zerolinecolor": "white"
           }
          },
          "shapedefaults": {
           "line": {
            "color": "#2a3f5f"
           }
          },
          "ternary": {
           "aaxis": {
            "gridcolor": "white",
            "linecolor": "white",
            "ticks": ""
           },
           "baxis": {
            "gridcolor": "white",
            "linecolor": "white",
            "ticks": ""
           },
           "bgcolor": "#E5ECF6",
           "caxis": {
            "gridcolor": "white",
            "linecolor": "white",
            "ticks": ""
           }
          },
          "title": {
           "x": 0.05
          },
          "xaxis": {
           "automargin": true,
           "gridcolor": "white",
           "linecolor": "white",
           "ticks": "",
           "title": {
            "standoff": 15
           },
           "zerolinecolor": "white",
           "zerolinewidth": 2
          },
          "yaxis": {
           "automargin": true,
           "gridcolor": "white",
           "linecolor": "white",
           "ticks": "",
           "title": {
            "standoff": 15
           },
           "zerolinecolor": "white",
           "zerolinewidth": 2
          }
         }
        },
        "title": {
         "text": "EUR_JPY_MA_8_16"
        },
        "width": 1000,
        "xaxis": {
         "linecolor": "#3a4a54",
         "linewidth": 1,
         "showgrid": false,
         "zeroline": false
        },
        "yaxis": {
         "linecolor": "#3a4a54",
         "linewidth": 1,
         "showgrid": false,
         "zeroline": false
        }
       }
      }
     },
     "metadata": {},
     "output_type": "display_data"
    }
   ],
   "source": [
    "c = 'MA_8_16'\n",
    "for p in our_pairs:\n",
    "    temp_df = all_trades[(all_trades.CROSS==c)&(all_trades.PAIR==p)].copy()\n",
    "    temp_df['CUM_GAIN'] = temp_df.GAIN.cumsum()\n",
    "    plot_line(temp_df, p + \"_\" + c)"
   ]
  },
  {
   "cell_type": "code",
   "execution_count": 33,
   "metadata": {},
   "outputs": [
    {
     "data": {
      "application/vnd.plotly.v1+json": {
       "config": {
        "plotlyServerURL": "https://plot.ly"
       },
       "data": [
        {
         "line": {
          "color": "#3d825f",
          "shape": "spline",
          "width": 2
         },
         "mode": "lines",
         "name": "MA_64_256",
         "type": "scatter",
         "x": [
          "2023-09-20T09:00:00+00:00",
          "2023-09-25T05:00:00+00:00",
          "2023-09-25T15:00:00+00:00",
          "2023-09-26T12:00:00+00:00",
          "2023-09-26T19:00:00+00:00",
          "2023-09-26T23:00:00+00:00",
          "2023-09-27T15:00:00+00:00",
          "2023-10-02T06:00:00+00:00",
          "2023-10-02T11:00:00+00:00",
          "2023-10-02T13:00:00+00:00",
          "2023-10-03T07:00:00+00:00",
          "2023-10-03T08:00:00+00:00",
          "2023-10-03T09:00:00+00:00",
          "2023-10-03T10:00:00+00:00",
          "2023-10-03T16:00:00+00:00",
          "2023-10-04T03:00:00+00:00",
          "2023-10-04T06:00:00+00:00",
          "2023-10-04T12:00:00+00:00",
          "2023-10-04T19:00:00+00:00",
          "2023-10-05T15:00:00+00:00",
          "2023-10-05T23:00:00+00:00",
          "2023-10-06T19:00:00+00:00",
          "2023-10-08T23:00:00+00:00",
          "2023-10-09T03:00:00+00:00",
          "2023-10-09T04:00:00+00:00",
          "2023-10-09T11:00:00+00:00",
          "2023-10-09T14:00:00+00:00",
          "2023-10-09T16:00:00+00:00",
          "2023-10-09T17:00:00+00:00",
          "2023-10-10T11:00:00+00:00",
          "2023-10-11T06:00:00+00:00",
          "2023-10-12T04:00:00+00:00",
          "2023-10-12T18:00:00+00:00",
          "2023-10-13T05:00:00+00:00",
          "2023-10-13T08:00:00+00:00",
          "2023-10-13T16:00:00+00:00",
          "2023-10-13T20:00:00+00:00",
          "2023-10-16T05:00:00+00:00",
          "2023-10-16T12:00:00+00:00",
          "2023-10-16T17:00:00+00:00",
          "2023-10-16T22:00:00+00:00",
          "2023-10-16T23:00:00+00:00",
          "2023-10-17T04:00:00+00:00",
          "2023-10-19T05:00:00+00:00",
          "2023-10-19T07:00:00+00:00",
          "2023-10-19T14:00:00+00:00",
          "2023-10-20T09:00:00+00:00",
          "2023-10-20T18:00:00+00:00",
          "2023-10-23T12:00:00+00:00",
          "2023-10-24T05:00:00+00:00",
          "2023-10-26T14:00:00+00:00",
          "2023-10-27T05:00:00+00:00",
          "2023-10-27T15:00:00+00:00",
          "2023-10-27T18:00:00+00:00",
          "2023-10-30T01:00:00+00:00",
          "2023-10-30T12:00:00+00:00",
          "2023-10-30T14:00:00+00:00",
          "2023-10-30T22:00:00+00:00",
          "2023-10-31T00:00:00+00:00",
          "2023-10-31T09:00:00+00:00",
          "2023-10-31T12:00:00+00:00",
          "2023-10-31T18:00:00+00:00",
          "2023-11-01T02:00:00+00:00",
          "2023-11-01T04:00:00+00:00",
          "2023-11-01T10:00:00+00:00",
          "2023-11-02T01:00:00+00:00",
          "2023-11-02T04:00:00+00:00",
          "2023-11-02T08:00:00+00:00",
          "2023-11-02T16:00:00+00:00",
          "2023-11-03T03:00:00+00:00",
          "2023-11-03T07:00:00+00:00",
          "2023-11-05T23:00:00+00:00",
          "2023-11-06T10:00:00+00:00",
          "2023-11-07T10:00:00+00:00",
          "2023-11-07T20:00:00+00:00",
          "2023-11-08T16:00:00+00:00",
          "2023-11-09T10:00:00+00:00",
          "2023-11-09T20:00:00+00:00",
          "2023-11-10T14:00:00+00:00",
          "2023-11-10T19:00:00+00:00",
          "2023-11-13T11:00:00+00:00",
          "2023-11-13T20:00:00+00:00",
          "2023-11-13T21:00:00+00:00",
          "2023-11-13T23:00:00+00:00",
          "2023-11-14T01:00:00+00:00",
          "2023-11-14T07:00:00+00:00",
          "2023-11-14T14:00:00+00:00",
          "2023-11-14T17:00:00+00:00",
          "2023-11-14T21:00:00+00:00",
          "2023-11-15T03:00:00+00:00",
          "2023-11-15T10:00:00+00:00",
          "2023-11-16T18:00:00+00:00",
          "2023-11-17T02:00:00+00:00",
          "2023-11-17T10:00:00+00:00",
          "2023-11-20T07:00:00+00:00",
          "2023-11-20T12:00:00+00:00",
          "2023-11-21T05:00:00+00:00",
          "2023-11-21T07:00:00+00:00",
          "2023-11-21T10:00:00+00:00",
          "2023-11-21T13:00:00+00:00",
          "2023-11-21T17:00:00+00:00",
          "2023-11-21T21:00:00+00:00",
          "2023-11-22T01:00:00+00:00",
          "2023-11-22T06:00:00+00:00",
          "2023-11-22T21:00:00+00:00",
          "2023-11-23T06:00:00+00:00",
          "2023-11-23T13:00:00+00:00",
          "2023-11-23T19:00:00+00:00",
          "2023-11-24T03:00:00+00:00",
          "2023-11-24T12:00:00+00:00",
          "2023-11-27T11:00:00+00:00",
          "2023-11-28T12:00:00+00:00",
          "2023-11-28T19:00:00+00:00",
          "2023-11-28T22:00:00+00:00",
          "2023-11-29T01:00:00+00:00",
          "2023-11-29T07:00:00+00:00",
          "2023-11-30T05:00:00+00:00",
          "2023-12-01T11:00:00+00:00",
          "2023-12-01T18:00:00+00:00",
          "2023-12-03T22:00:00+00:00",
          "2023-12-03T23:00:00+00:00",
          "2023-12-04T02:00:00+00:00",
          "2023-12-04T05:00:00+00:00",
          "2023-12-04T06:00:00+00:00",
          "2023-12-04T08:00:00+00:00",
          "2023-12-05T13:00:00+00:00",
          "2023-12-05T18:00:00+00:00",
          "2023-12-06T14:00:00+00:00",
          "2023-12-06T21:00:00+00:00",
          "2023-12-07T10:00:00+00:00",
          "2023-12-07T20:00:00+00:00",
          "2023-12-08T10:00:00+00:00",
          "2023-12-11T02:00:00+00:00",
          "2023-12-11T04:00:00+00:00",
          "2023-12-11T10:00:00+00:00",
          "2023-12-11T12:00:00+00:00",
          "2023-12-12T16:00:00+00:00",
          "2023-12-13T11:00:00+00:00",
          "2023-12-13T20:00:00+00:00",
          "2023-12-14T00:00:00+00:00",
          "2023-12-14T03:00:00+00:00",
          "2023-12-14T10:00:00+00:00",
          "2023-12-14T13:00:00+00:00",
          "2023-12-14T15:00:00+00:00",
          "2023-12-14T16:00:00+00:00",
          "2023-12-14T20:00:00+00:00",
          "2023-12-14T21:00:00+00:00",
          "2023-12-14T22:00:00+00:00",
          "2023-12-15T12:00:00+00:00",
          "2023-12-15T16:00:00+00:00",
          "2023-12-15T20:00:00+00:00",
          "2023-12-18T00:00:00+00:00",
          "2023-12-18T21:00:00+00:00",
          "2023-12-19T14:00:00+00:00",
          "2023-12-19T15:00:00+00:00",
          "2023-12-20T03:00:00+00:00",
          "2023-12-20T05:00:00+00:00",
          "2023-12-20T09:00:00+00:00",
          "2023-12-20T12:00:00+00:00",
          "2023-12-20T20:00:00+00:00",
          "2023-12-21T02:00:00+00:00",
          "2023-12-21T11:00:00+00:00",
          "2023-12-22T04:00:00+00:00",
          "2023-12-28T02:00:00+00:00",
          "2023-12-29T11:00:00+00:00",
          "2024-01-02T00:00:00+00:00",
          "2024-01-02T05:00:00+00:00",
          "2024-01-02T11:00:00+00:00",
          "2024-01-03T03:00:00+00:00",
          "2024-01-03T07:00:00+00:00",
          "2024-01-03T14:00:00+00:00",
          "2024-01-03T16:00:00+00:00",
          "2024-01-03T17:00:00+00:00",
          "2024-01-03T20:00:00+00:00",
          "2024-01-04T00:00:00+00:00",
          "2024-01-04T01:00:00+00:00",
          "2024-01-04T12:00:00+00:00",
          "2024-01-04T13:00:00+00:00",
          "2024-01-04T20:00:00+00:00",
          "2024-01-04T23:00:00+00:00",
          "2024-01-05T00:00:00+00:00",
          "2024-01-05T06:00:00+00:00",
          "2024-01-05T11:00:00+00:00",
          "2024-01-08T04:00:00+00:00",
          "2024-01-08T16:00:00+00:00",
          "2024-01-08T18:00:00+00:00",
          "2024-01-09T05:00:00+00:00",
          "2024-01-11T14:00:00+00:00",
          "2024-01-12T08:00:00+00:00",
          "2024-01-12T14:00:00+00:00",
          "2024-01-14T22:00:00+00:00",
          "2024-01-15T05:00:00+00:00",
          "2024-01-15T07:00:00+00:00",
          "2024-01-15T14:00:00+00:00",
          "2024-01-16T01:00:00+00:00",
          "2024-01-16T04:00:00+00:00",
          "2024-01-16T05:00:00+00:00",
          "2024-01-16T06:00:00+00:00",
          "2024-01-16T07:00:00+00:00",
          "2024-01-16T09:00:00+00:00",
          "2024-01-17T02:00:00+00:00",
          "2024-01-22T12:00:00+00:00",
          "2024-01-22T15:00:00+00:00",
          "2024-01-23T01:00:00+00:00",
          "2024-01-23T08:00:00+00:00",
          "2024-01-23T14:00:00+00:00",
          "2024-01-24T10:00:00+00:00",
          "2024-01-26T12:00:00+00:00",
          "2024-01-26T16:00:00+00:00",
          "2024-01-28T23:00:00+00:00",
          "2024-01-29T00:00:00+00:00",
          "2024-01-29T13:00:00+00:00",
          "2024-01-29T16:00:00+00:00",
          "2024-01-29T18:00:00+00:00",
          "2024-01-29T22:00:00+00:00",
          "2024-01-30T03:00:00+00:00",
          "2024-01-30T14:00:00+00:00",
          "2024-01-30T18:00:00+00:00",
          "2024-01-30T21:00:00+00:00",
          "2024-01-30T22:00:00+00:00",
          "2024-01-31T05:00:00+00:00",
          "2024-01-31T23:00:00+00:00",
          "2024-02-01T08:00:00+00:00",
          "2024-02-01T20:00:00+00:00",
          "2024-02-05T08:00:00+00:00",
          "2024-02-05T19:00:00+00:00",
          "2024-02-06T00:00:00+00:00",
          "2024-02-06T02:00:00+00:00",
          "2024-02-06T04:00:00+00:00",
          "2024-02-06T05:00:00+00:00",
          "2024-02-06T06:00:00+00:00",
          "2024-02-07T00:00:00+00:00",
          "2024-02-07T10:00:00+00:00",
          "2024-02-07T17:00:00+00:00",
          "2024-02-07T23:00:00+00:00",
          "2024-02-08T02:00:00+00:00",
          "2024-02-08T12:00:00+00:00",
          "2024-02-08T19:00:00+00:00",
          "2024-02-08T22:00:00+00:00",
          "2024-02-08T23:00:00+00:00",
          "2024-02-09T09:00:00+00:00",
          "2024-02-12T09:00:00+00:00",
          "2024-02-12T21:00:00+00:00",
          "2024-02-13T03:00:00+00:00",
          "2024-02-13T11:00:00+00:00",
          "2024-02-13T22:00:00+00:00",
          "2024-02-14T12:00:00+00:00",
          "2024-02-15T14:00:00+00:00",
          "2024-02-15T17:00:00+00:00",
          "2024-02-15T18:00:00+00:00",
          "2024-02-16T11:00:00+00:00",
          "2024-02-16T15:00:00+00:00",
          "2024-02-18T23:00:00+00:00",
          "2024-02-19T10:00:00+00:00",
          "2024-02-19T18:00:00+00:00",
          "2024-02-19T20:00:00+00:00",
          "2024-02-20T20:00:00+00:00",
          "2024-02-20T21:00:00+00:00",
          "2024-02-20T22:00:00+00:00",
          "2024-02-22T15:00:00+00:00",
          "2024-02-23T01:00:00+00:00",
          "2024-02-23T13:00:00+00:00",
          "2024-02-27T21:00:00+00:00",
          "2024-02-28T03:00:00+00:00",
          "2024-02-28T14:00:00+00:00",
          "2024-02-28T20:00:00+00:00",
          "2024-02-29T04:00:00+00:00",
          "2024-02-29T08:00:00+00:00",
          "2024-03-01T07:00:00+00:00",
          "2024-03-01T08:00:00+00:00",
          "2024-03-01T18:00:00+00:00",
          "2024-03-03T22:00:00+00:00",
          "2024-03-04T09:00:00+00:00",
          "2024-03-04T22:00:00+00:00",
          "2024-03-05T02:00:00+00:00",
          "2024-03-05T05:00:00+00:00",
          "2024-03-05T11:00:00+00:00",
          "2024-03-05T19:00:00+00:00",
          "2024-03-06T01:00:00+00:00",
          "2024-03-07T05:00:00+00:00",
          "2024-03-07T08:00:00+00:00",
          "2024-03-08T00:00:00+00:00",
          "2024-03-08T05:00:00+00:00",
          "2024-03-08T06:00:00+00:00",
          "2024-03-08T08:00:00+00:00",
          "2024-03-08T16:00:00+00:00",
          "2024-03-11T08:00:00+00:00",
          "2024-03-12T19:00:00+00:00",
          "2024-03-13T19:00:00+00:00",
          "2024-03-14T05:00:00+00:00",
          "2024-03-15T01:00:00+00:00",
          "2024-03-15T02:00:00+00:00",
          "2024-03-15T11:00:00+00:00",
          "2024-03-15T15:00:00+00:00",
          "2024-03-15T18:00:00+00:00",
          "2024-03-17T21:00:00+00:00",
          "2024-03-18T00:00:00+00:00",
          "2024-03-18T03:00:00+00:00",
          "2024-03-18T08:00:00+00:00",
          "2024-03-18T10:00:00+00:00",
          "2024-03-18T11:00:00+00:00",
          "2024-03-18T14:00:00+00:00",
          "2024-03-18T15:00:00+00:00",
          "2024-03-18T16:00:00+00:00",
          "2024-03-18T18:00:00+00:00",
          "2024-03-19T11:00:00+00:00",
          "2024-03-20T04:00:00+00:00",
          "2024-03-20T08:00:00+00:00",
          "2024-03-21T03:00:00+00:00",
          "2024-03-22T20:00:00+00:00",
          "2024-03-25T23:00:00+00:00",
          "2024-03-26T04:00:00+00:00",
          "2024-03-29T09:00:00+00:00",
          "2024-03-29T12:00:00+00:00",
          "2024-03-29T15:00:00+00:00",
          "2024-04-01T03:00:00+00:00",
          "2024-04-01T10:00:00+00:00",
          "2024-04-03T17:00:00+00:00",
          "2024-04-03T19:00:00+00:00",
          "2024-04-04T06:00:00+00:00",
          "2024-04-04T11:00:00+00:00",
          "2024-04-04T15:00:00+00:00",
          "2024-04-04T16:00:00+00:00",
          "2024-04-04T17:00:00+00:00",
          "2024-04-04T18:00:00+00:00",
          "2024-04-04T23:00:00+00:00",
          "2024-04-05T01:00:00+00:00",
          "2024-04-05T04:00:00+00:00",
          "2024-04-05T07:00:00+00:00",
          "2024-04-05T14:00:00+00:00",
          "2024-04-07T22:00:00+00:00",
          "2024-04-08T21:00:00+00:00",
          "2024-04-08T23:00:00+00:00",
          "2024-04-09T02:00:00+00:00",
          "2024-04-09T04:00:00+00:00",
          "2024-04-10T05:00:00+00:00",
          "2024-04-11T17:00:00+00:00",
          "2024-04-12T13:00:00+00:00",
          "2024-04-12T15:00:00+00:00",
          "2024-04-12T18:00:00+00:00",
          "2024-04-15T01:00:00+00:00",
          "2024-04-15T04:00:00+00:00",
          "2024-04-15T21:00:00+00:00",
          "2024-04-16T09:00:00+00:00",
          "2024-04-16T12:00:00+00:00",
          "2024-04-22T07:00:00+00:00"
         ],
         "y": [
          -79.39999999999827,
          -52.999999999998515,
          -81.49999999999818,
          -108.7999999999978,
          -110.89999999999823,
          -114.49999999999837,
          -37.19999999999823,
          -42.09999999999813,
          -129.89999999999674,
          -178.09999999999667,
          -204.59999999999707,
          -320.69999999999436,
          -372.8999999999949,
          -311.99999999999784,
          -148.8999999999974,
          -58.99999999999686,
          59.40000000000275,
          60.50000000000218,
          -38.79999999999732,
          130.60000000000224,
          -63.09999999999823,
          11.100000000001586,
          3.100000000002467,
          198.90000000000515,
          118.80000000000443,
          -56.89999999999641,
          -116.69999999999631,
          -96.0999999999968,
          -59.399999999997775,
          -13.199999999996024,
          -156.9999999999966,
          -184.9999999999967,
          -21.399999999995202,
          -50.99999999999443,
          119.80000000000541,
          88.6000000000053,
          82.9000000000046,
          130.20000000000448,
          10.900000000004525,
          -39.399999999996375,
          -75.79999999999725,
          -55.79999999999724,
          11.500000000002899,
          -61.999999999996774,
          354.30000000000376,
          190.90000000000515,
          216.50000000000517,
          193.30000000000416,
          660.8000000000048,
          524.1000000000058,
          389.0000000000059,
          290.0000000000057,
          305.8000000000059,
          415.6000000000058,
          294.20000000000596,
          405.60000000000525,
          181.60000000000434,
          220.20000000000408,
          2.800000000003422,
          -40.19999999999628,
          115.40000000000204,
          -78.79999999999869,
          -102.99999999999847,
          4.80000000000183,
          155.50000000000233,
          31.100000000002254,
          -92.79999999999676,
          -105.79999999999643,
          -164.79999999999677,
          -168.79999999999632,
          87.80000000000382,
          -86.29999999999544,
          -198.8999999999959,
          10.300000000004587,
          26.90000000000427,
          -123.19999999999621,
          -60.99999999999618,
          -74.19999999999605,
          -218.99999999999653,
          -261.49999999999517,
          -317.7999999999954,
          -363.19999999999527,
          -425.1999999999929,
          -567.1999999999928,
          -752.8999999999925,
          -869.0999999999921,
          -768.1999999999905,
          -854.6999999999887,
          -779.6999999999891,
          -695.0999999999889,
          -578.6999999999902,
          -618.5999999999896,
          -493.09999999998894,
          12.000000000009834,
          -56.89999999998946,
          -92.09999999998914,
          -168.79999999998873,
          -440.3999999999895,
          -317.6999999999895,
          -503.89999999998895,
          -480.6999999999891,
          -617.399999999988,
          -657.5999999999893,
          -196.99999999998727,
          -103.19999999998672,
          -60.199999999987455,
          47.9000000000124,
          -86.89999999998892,
          -236.2999999999889,
          -354.8999999999868,
          -425.99999999998664,
          -275.19999999998686,
          -315.59999999998615,
          168.80000000001326,
          -10.799999999985971,
          0.7000000000135174,
          -41.99999999998644,
          -160.59999999998715,
          -163.69999999998748,
          -271.2999999999863,
          -270.19999999998674,
          -261.1999999999878,
          298.1000000000111,
          506.00000000001194,
          468.2000000000119,
          506.2000000000129,
          728.9000000000104,
          785.3000000000097,
          582.5000000000111,
          551.9000000000106,
          516.6000000000103,
          405.20000000000874,
          315.40000000000884,
          204.80000000000928,
          173.10000000000923,
          93.20000000000871,
          51.900000000009044,
          -145.69999999999317,
          -314.2999999999919,
          -313.8999999999915,
          -209.0999999999933,
          -23.499999999993094,
          -126.69999999999193,
          -212.09999999999184,
          -199.09999999999104,
          -285.29999999999177,
          -384.9999999999921,
          -504.1999999999914,
          -590.2999999999914,
          -445.2999999999919,
          -510.4999999999916,
          -597.2999999999918,
          -640.7999999999926,
          -668.0999999999916,
          -525.4999999999923,
          -746.4999999999931,
          -799.3999999999933,
          -927.8999999999958,
          -495.3999999999969,
          -401.0999999999975,
          -394.1999999999987,
          -331.899999999998,
          -631.4999999999989,
          -617.299999999999,
          -691.4999999999989,
          -879.6999999999994,
          -1155.5000000000005,
          -1275.7000000000003,
          -1336.4999999999989,
          -1436.7999999999986,
          -1468.7999999999984,
          -1513.999999999999,
          -1407.7999999999984,
          -1326.0999999999983,
          -1272.3999999999985,
          -851.3999999999983,
          -553.2999999999988,
          -411.09999999999764,
          -299.1999999999973,
          87.60000000000218,
          144.0000000000029,
          339.00000000000176,
          287.00000000000216,
          407.80000000000194,
          362.6000000000034,
          505.90000000000293,
          397.1000000000029,
          431.00000000000296,
          417.1000000000029,
          384.5000000000025,
          336.30000000000314,
          337.1000000000028,
          301.30000000000365,
          358.70000000000334,
          460.70000000000323,
          462.9000000000043,
          430.8000000000038,
          428.60000000000383,
          420.4000000000045,
          531.2000000000044,
          412.7000000000052,
          494.0000000000049,
          470.6000000000048,
          429.4000000000047,
          352.80000000000416,
          285.60000000000446,
          209.90000000000592,
          172.90000000000546,
          147.60000000000625,
          126.8000000000064,
          123.80000000000562,
          93.70000000000495,
          18.400000000006813,
          -37.79999999999388,
          -73.89999999999279,
          -159.59999999999246,
          -297.19999999999294,
          -355.3999999999923,
          -362.99999999999216,
          -432.49999999999204,
          -377.89999999999185,
          -466.79999999999285,
          -543.099999999992,
          -564.8999999999937,
          -639.7999999999937,
          -721.399999999994,
          -623.4999999999934,
          -468.39999999999463,
          -492.5999999999933,
          -384.3999999999939,
          -290.99999999999375,
          -344.799999999992,
          -307.39999999999236,
          4.4000000000086175,
          358.2000000000105,
          427.60000000000935,
          497.0000000000088,
          505.500000000009,
          665.7000000000094,
          878.3000000000098,
          814.10000000001,
          815.2000000000095,
          728.5000000000105,
          708.0000000000105,
          659.10000000001,
          541.7000000000114,
          486.10000000001133,
          672.5000000000113,
          656.7000000000144,
          519.7000000000139,
          508.9000000000142,
          406.0000000000151,
          369.5000000000147,
          496.4000000000156,
          465.0000000000164,
          445.30000000001615,
          387.00000000001614,
          548.6000000000156,
          670.7000000000162,
          684.1000000000163,
          626.5000000000164,
          561.8000000000166,
          484.00000000001756,
          534.7000000000144,
          479.90000000001396,
          490.50000000001455,
          492.6000000000132,
          450.0000000000128,
          361.2000000000128,
          412.70000000001426,
          383.90000000001316,
          291.9000000000144,
          262.5000000000133,
          134.90000000001226,
          119.20000000001265,
          -126.69999999998483,
          -174.89999999998474,
          -102.79999999998438,
          -105.99999999998425,
          -155.19999999998612,
          -294.4999999999862,
          -387.6999999999861,
          -453.8999999999868,
          -543.1999999999867,
          -582.6999999999869,
          -653.1999999999869,
          -739.499999999986,
          -762.7999999999854,
          -840.3999999999875,
          -698.0999999999867,
          -594.8999999999857,
          -448.19999999998606,
          -360.8999999999859,
          -366.8999999999852,
          -156.69999999998592,
          -96.79999999998542,
          -100.89999999998562,
          -37.699999999986815,
          81.90000000001511,
          62.700000000013674,
          138.30000000001377,
          214.5000000000138,
          387.70000000001374,
          359.80000000001525,
          466.80000000001456,
          349.1000000000153,
          318.5000000000169,
          265.3000000000158,
          273.90000000001663,
          284.7000000000163,
          321.2000000000172,
          244.00000000001666,
          203.90000000001845,
          59.40000000001913,
          21.100000000019136,
          13.100000000017797,
          -26.099999999982547,
          -73.39999999998267,
          -94.59999999998388,
          -158.7999999999848,
          -192.29999999998557,
          -372.29999999998347,
          -400.999999999985,
          -582.9999999999843,
          -583.4999999999839,
          -661.4999999999831,
          -760.4999999999833,
          -832.2999999999829,
          -859.0999999999831,
          -948.2999999999835,
          -1013.3999999999836,
          -928.0999999999843,
          -930.0999999999841,
          -1000.0999999999842,
          -1000.8999999999852,
          -1066.499999999986,
          -1040.8999999999858,
          -1097.6999999999855,
          -1091.699999999985,
          -1132.9999999999848,
          -1250.4999999999832,
          -1275.199999999983,
          -1322.4999999999832,
          -1613.9999999999832,
          -1690.7999999999834,
          -1924.8999999999842
         ]
        }
       ],
       "layout": {
        "font": {
         "color": "#e1e1e1",
         "size": 10
        },
        "height": 400,
        "margin": {
         "b": 10,
         "l": 15,
         "r": 15
        },
        "paper_bgcolor": "#1e1e1e",
        "plot_bgcolor": "#1e1e1e",
        "template": {
         "data": {
          "bar": [
           {
            "error_x": {
             "color": "#2a3f5f"
            },
            "error_y": {
             "color": "#2a3f5f"
            },
            "marker": {
             "line": {
              "color": "#E5ECF6",
              "width": 0.5
             },
             "pattern": {
              "fillmode": "overlay",
              "size": 10,
              "solidity": 0.2
             }
            },
            "type": "bar"
           }
          ],
          "barpolar": [
           {
            "marker": {
             "line": {
              "color": "#E5ECF6",
              "width": 0.5
             },
             "pattern": {
              "fillmode": "overlay",
              "size": 10,
              "solidity": 0.2
             }
            },
            "type": "barpolar"
           }
          ],
          "carpet": [
           {
            "aaxis": {
             "endlinecolor": "#2a3f5f",
             "gridcolor": "white",
             "linecolor": "white",
             "minorgridcolor": "white",
             "startlinecolor": "#2a3f5f"
            },
            "baxis": {
             "endlinecolor": "#2a3f5f",
             "gridcolor": "white",
             "linecolor": "white",
             "minorgridcolor": "white",
             "startlinecolor": "#2a3f5f"
            },
            "type": "carpet"
           }
          ],
          "choropleth": [
           {
            "colorbar": {
             "outlinewidth": 0,
             "ticks": ""
            },
            "type": "choropleth"
           }
          ],
          "contour": [
           {
            "colorbar": {
             "outlinewidth": 0,
             "ticks": ""
            },
            "colorscale": [
             [
              0,
              "#0d0887"
             ],
             [
              0.1111111111111111,
              "#46039f"
             ],
             [
              0.2222222222222222,
              "#7201a8"
             ],
             [
              0.3333333333333333,
              "#9c179e"
             ],
             [
              0.4444444444444444,
              "#bd3786"
             ],
             [
              0.5555555555555556,
              "#d8576b"
             ],
             [
              0.6666666666666666,
              "#ed7953"
             ],
             [
              0.7777777777777778,
              "#fb9f3a"
             ],
             [
              0.8888888888888888,
              "#fdca26"
             ],
             [
              1,
              "#f0f921"
             ]
            ],
            "type": "contour"
           }
          ],
          "contourcarpet": [
           {
            "colorbar": {
             "outlinewidth": 0,
             "ticks": ""
            },
            "type": "contourcarpet"
           }
          ],
          "heatmap": [
           {
            "colorbar": {
             "outlinewidth": 0,
             "ticks": ""
            },
            "colorscale": [
             [
              0,
              "#0d0887"
             ],
             [
              0.1111111111111111,
              "#46039f"
             ],
             [
              0.2222222222222222,
              "#7201a8"
             ],
             [
              0.3333333333333333,
              "#9c179e"
             ],
             [
              0.4444444444444444,
              "#bd3786"
             ],
             [
              0.5555555555555556,
              "#d8576b"
             ],
             [
              0.6666666666666666,
              "#ed7953"
             ],
             [
              0.7777777777777778,
              "#fb9f3a"
             ],
             [
              0.8888888888888888,
              "#fdca26"
             ],
             [
              1,
              "#f0f921"
             ]
            ],
            "type": "heatmap"
           }
          ],
          "heatmapgl": [
           {
            "colorbar": {
             "outlinewidth": 0,
             "ticks": ""
            },
            "colorscale": [
             [
              0,
              "#0d0887"
             ],
             [
              0.1111111111111111,
              "#46039f"
             ],
             [
              0.2222222222222222,
              "#7201a8"
             ],
             [
              0.3333333333333333,
              "#9c179e"
             ],
             [
              0.4444444444444444,
              "#bd3786"
             ],
             [
              0.5555555555555556,
              "#d8576b"
             ],
             [
              0.6666666666666666,
              "#ed7953"
             ],
             [
              0.7777777777777778,
              "#fb9f3a"
             ],
             [
              0.8888888888888888,
              "#fdca26"
             ],
             [
              1,
              "#f0f921"
             ]
            ],
            "type": "heatmapgl"
           }
          ],
          "histogram": [
           {
            "marker": {
             "pattern": {
              "fillmode": "overlay",
              "size": 10,
              "solidity": 0.2
             }
            },
            "type": "histogram"
           }
          ],
          "histogram2d": [
           {
            "colorbar": {
             "outlinewidth": 0,
             "ticks": ""
            },
            "colorscale": [
             [
              0,
              "#0d0887"
             ],
             [
              0.1111111111111111,
              "#46039f"
             ],
             [
              0.2222222222222222,
              "#7201a8"
             ],
             [
              0.3333333333333333,
              "#9c179e"
             ],
             [
              0.4444444444444444,
              "#bd3786"
             ],
             [
              0.5555555555555556,
              "#d8576b"
             ],
             [
              0.6666666666666666,
              "#ed7953"
             ],
             [
              0.7777777777777778,
              "#fb9f3a"
             ],
             [
              0.8888888888888888,
              "#fdca26"
             ],
             [
              1,
              "#f0f921"
             ]
            ],
            "type": "histogram2d"
           }
          ],
          "histogram2dcontour": [
           {
            "colorbar": {
             "outlinewidth": 0,
             "ticks": ""
            },
            "colorscale": [
             [
              0,
              "#0d0887"
             ],
             [
              0.1111111111111111,
              "#46039f"
             ],
             [
              0.2222222222222222,
              "#7201a8"
             ],
             [
              0.3333333333333333,
              "#9c179e"
             ],
             [
              0.4444444444444444,
              "#bd3786"
             ],
             [
              0.5555555555555556,
              "#d8576b"
             ],
             [
              0.6666666666666666,
              "#ed7953"
             ],
             [
              0.7777777777777778,
              "#fb9f3a"
             ],
             [
              0.8888888888888888,
              "#fdca26"
             ],
             [
              1,
              "#f0f921"
             ]
            ],
            "type": "histogram2dcontour"
           }
          ],
          "mesh3d": [
           {
            "colorbar": {
             "outlinewidth": 0,
             "ticks": ""
            },
            "type": "mesh3d"
           }
          ],
          "parcoords": [
           {
            "line": {
             "colorbar": {
              "outlinewidth": 0,
              "ticks": ""
             }
            },
            "type": "parcoords"
           }
          ],
          "pie": [
           {
            "automargin": true,
            "type": "pie"
           }
          ],
          "scatter": [
           {
            "fillpattern": {
             "fillmode": "overlay",
             "size": 10,
             "solidity": 0.2
            },
            "type": "scatter"
           }
          ],
          "scatter3d": [
           {
            "line": {
             "colorbar": {
              "outlinewidth": 0,
              "ticks": ""
             }
            },
            "marker": {
             "colorbar": {
              "outlinewidth": 0,
              "ticks": ""
             }
            },
            "type": "scatter3d"
           }
          ],
          "scattercarpet": [
           {
            "marker": {
             "colorbar": {
              "outlinewidth": 0,
              "ticks": ""
             }
            },
            "type": "scattercarpet"
           }
          ],
          "scattergeo": [
           {
            "marker": {
             "colorbar": {
              "outlinewidth": 0,
              "ticks": ""
             }
            },
            "type": "scattergeo"
           }
          ],
          "scattergl": [
           {
            "marker": {
             "colorbar": {
              "outlinewidth": 0,
              "ticks": ""
             }
            },
            "type": "scattergl"
           }
          ],
          "scattermapbox": [
           {
            "marker": {
             "colorbar": {
              "outlinewidth": 0,
              "ticks": ""
             }
            },
            "type": "scattermapbox"
           }
          ],
          "scatterpolar": [
           {
            "marker": {
             "colorbar": {
              "outlinewidth": 0,
              "ticks": ""
             }
            },
            "type": "scatterpolar"
           }
          ],
          "scatterpolargl": [
           {
            "marker": {
             "colorbar": {
              "outlinewidth": 0,
              "ticks": ""
             }
            },
            "type": "scatterpolargl"
           }
          ],
          "scatterternary": [
           {
            "marker": {
             "colorbar": {
              "outlinewidth": 0,
              "ticks": ""
             }
            },
            "type": "scatterternary"
           }
          ],
          "surface": [
           {
            "colorbar": {
             "outlinewidth": 0,
             "ticks": ""
            },
            "colorscale": [
             [
              0,
              "#0d0887"
             ],
             [
              0.1111111111111111,
              "#46039f"
             ],
             [
              0.2222222222222222,
              "#7201a8"
             ],
             [
              0.3333333333333333,
              "#9c179e"
             ],
             [
              0.4444444444444444,
              "#bd3786"
             ],
             [
              0.5555555555555556,
              "#d8576b"
             ],
             [
              0.6666666666666666,
              "#ed7953"
             ],
             [
              0.7777777777777778,
              "#fb9f3a"
             ],
             [
              0.8888888888888888,
              "#fdca26"
             ],
             [
              1,
              "#f0f921"
             ]
            ],
            "type": "surface"
           }
          ],
          "table": [
           {
            "cells": {
             "fill": {
              "color": "#EBF0F8"
             },
             "line": {
              "color": "white"
             }
            },
            "header": {
             "fill": {
              "color": "#C8D4E3"
             },
             "line": {
              "color": "white"
             }
            },
            "type": "table"
           }
          ]
         },
         "layout": {
          "annotationdefaults": {
           "arrowcolor": "#2a3f5f",
           "arrowhead": 0,
           "arrowwidth": 1
          },
          "autotypenumbers": "strict",
          "coloraxis": {
           "colorbar": {
            "outlinewidth": 0,
            "ticks": ""
           }
          },
          "colorscale": {
           "diverging": [
            [
             0,
             "#8e0152"
            ],
            [
             0.1,
             "#c51b7d"
            ],
            [
             0.2,
             "#de77ae"
            ],
            [
             0.3,
             "#f1b6da"
            ],
            [
             0.4,
             "#fde0ef"
            ],
            [
             0.5,
             "#f7f7f7"
            ],
            [
             0.6,
             "#e6f5d0"
            ],
            [
             0.7,
             "#b8e186"
            ],
            [
             0.8,
             "#7fbc41"
            ],
            [
             0.9,
             "#4d9221"
            ],
            [
             1,
             "#276419"
            ]
           ],
           "sequential": [
            [
             0,
             "#0d0887"
            ],
            [
             0.1111111111111111,
             "#46039f"
            ],
            [
             0.2222222222222222,
             "#7201a8"
            ],
            [
             0.3333333333333333,
             "#9c179e"
            ],
            [
             0.4444444444444444,
             "#bd3786"
            ],
            [
             0.5555555555555556,
             "#d8576b"
            ],
            [
             0.6666666666666666,
             "#ed7953"
            ],
            [
             0.7777777777777778,
             "#fb9f3a"
            ],
            [
             0.8888888888888888,
             "#fdca26"
            ],
            [
             1,
             "#f0f921"
            ]
           ],
           "sequentialminus": [
            [
             0,
             "#0d0887"
            ],
            [
             0.1111111111111111,
             "#46039f"
            ],
            [
             0.2222222222222222,
             "#7201a8"
            ],
            [
             0.3333333333333333,
             "#9c179e"
            ],
            [
             0.4444444444444444,
             "#bd3786"
            ],
            [
             0.5555555555555556,
             "#d8576b"
            ],
            [
             0.6666666666666666,
             "#ed7953"
            ],
            [
             0.7777777777777778,
             "#fb9f3a"
            ],
            [
             0.8888888888888888,
             "#fdca26"
            ],
            [
             1,
             "#f0f921"
            ]
           ]
          },
          "colorway": [
           "#636efa",
           "#EF553B",
           "#00cc96",
           "#ab63fa",
           "#FFA15A",
           "#19d3f3",
           "#FF6692",
           "#B6E880",
           "#FF97FF",
           "#FECB52"
          ],
          "font": {
           "color": "#2a3f5f"
          },
          "geo": {
           "bgcolor": "white",
           "lakecolor": "white",
           "landcolor": "#E5ECF6",
           "showlakes": true,
           "showland": true,
           "subunitcolor": "white"
          },
          "hoverlabel": {
           "align": "left"
          },
          "hovermode": "closest",
          "mapbox": {
           "style": "light"
          },
          "paper_bgcolor": "white",
          "plot_bgcolor": "#E5ECF6",
          "polar": {
           "angularaxis": {
            "gridcolor": "white",
            "linecolor": "white",
            "ticks": ""
           },
           "bgcolor": "#E5ECF6",
           "radialaxis": {
            "gridcolor": "white",
            "linecolor": "white",
            "ticks": ""
           }
          },
          "scene": {
           "xaxis": {
            "backgroundcolor": "#E5ECF6",
            "gridcolor": "white",
            "gridwidth": 2,
            "linecolor": "white",
            "showbackground": true,
            "ticks": "",
            "zerolinecolor": "white"
           },
           "yaxis": {
            "backgroundcolor": "#E5ECF6",
            "gridcolor": "white",
            "gridwidth": 2,
            "linecolor": "white",
            "showbackground": true,
            "ticks": "",
            "zerolinecolor": "white"
           },
           "zaxis": {
            "backgroundcolor": "#E5ECF6",
            "gridcolor": "white",
            "gridwidth": 2,
            "linecolor": "white",
            "showbackground": true,
            "ticks": "",
            "zerolinecolor": "white"
           }
          },
          "shapedefaults": {
           "line": {
            "color": "#2a3f5f"
           }
          },
          "ternary": {
           "aaxis": {
            "gridcolor": "white",
            "linecolor": "white",
            "ticks": ""
           },
           "baxis": {
            "gridcolor": "white",
            "linecolor": "white",
            "ticks": ""
           },
           "bgcolor": "#E5ECF6",
           "caxis": {
            "gridcolor": "white",
            "linecolor": "white",
            "ticks": ""
           }
          },
          "title": {
           "x": 0.05
          },
          "xaxis": {
           "automargin": true,
           "gridcolor": "white",
           "linecolor": "white",
           "ticks": "",
           "title": {
            "standoff": 15
           },
           "zerolinecolor": "white",
           "zerolinewidth": 2
          },
          "yaxis": {
           "automargin": true,
           "gridcolor": "white",
           "linecolor": "white",
           "ticks": "",
           "title": {
            "standoff": 15
           },
           "zerolinecolor": "white",
           "zerolinewidth": 2
          }
         }
        },
        "title": {
         "text": "MA_64_256"
        },
        "width": 1000,
        "xaxis": {
         "linecolor": "#3a4a54",
         "linewidth": 1,
         "showgrid": false,
         "zeroline": false
        },
        "yaxis": {
         "linecolor": "#3a4a54",
         "linewidth": 1,
         "showgrid": false,
         "zeroline": false
        }
       }
      }
     },
     "metadata": {},
     "output_type": "display_data"
    },
    {
     "data": {
      "application/vnd.plotly.v1+json": {
       "config": {
        "plotlyServerURL": "https://plot.ly"
       },
       "data": [
        {
         "line": {
          "color": "#3d825f",
          "shape": "spline",
          "width": 2
         },
         "mode": "lines",
         "name": "MA_8_16",
         "type": "scatter",
         "x": [
          "2023-09-05T23:00:00+00:00",
          "2023-09-06T00:00:00+00:00",
          "2023-09-06T01:00:00+00:00",
          "2023-09-06T02:00:00+00:00",
          "2023-09-06T03:00:00+00:00",
          "2023-09-06T04:00:00+00:00",
          "2023-09-06T05:00:00+00:00",
          "2023-09-06T06:00:00+00:00",
          "2023-09-06T07:00:00+00:00",
          "2023-09-06T08:00:00+00:00",
          "2023-09-06T11:00:00+00:00",
          "2023-09-06T12:00:00+00:00",
          "2023-09-06T13:00:00+00:00",
          "2023-09-06T15:00:00+00:00",
          "2023-09-06T16:00:00+00:00",
          "2023-09-06T17:00:00+00:00",
          "2023-09-06T19:00:00+00:00",
          "2023-09-06T21:00:00+00:00",
          "2023-09-06T22:00:00+00:00",
          "2023-09-06T23:00:00+00:00",
          "2023-09-07T00:00:00+00:00",
          "2023-09-07T01:00:00+00:00",
          "2023-09-07T03:00:00+00:00",
          "2023-09-07T04:00:00+00:00",
          "2023-09-07T05:00:00+00:00",
          "2023-09-07T06:00:00+00:00",
          "2023-09-07T07:00:00+00:00",
          "2023-09-07T08:00:00+00:00",
          "2023-09-07T09:00:00+00:00",
          "2023-09-07T10:00:00+00:00",
          "2023-09-07T15:00:00+00:00",
          "2023-09-07T17:00:00+00:00",
          "2023-09-07T18:00:00+00:00",
          "2023-09-07T19:00:00+00:00",
          "2023-09-07T20:00:00+00:00",
          "2023-09-07T21:00:00+00:00",
          "2023-09-08T00:00:00+00:00",
          "2023-09-08T01:00:00+00:00",
          "2023-09-08T02:00:00+00:00",
          "2023-09-08T03:00:00+00:00",
          "2023-09-08T04:00:00+00:00",
          "2023-09-08T06:00:00+00:00",
          "2023-09-08T08:00:00+00:00",
          "2023-09-08T10:00:00+00:00",
          "2023-09-08T11:00:00+00:00",
          "2023-09-08T12:00:00+00:00",
          "2023-09-08T13:00:00+00:00",
          "2023-09-08T14:00:00+00:00",
          "2023-09-08T15:00:00+00:00",
          "2023-09-08T18:00:00+00:00",
          "2023-09-08T19:00:00+00:00",
          "2023-09-08T20:00:00+00:00",
          "2023-09-10T21:00:00+00:00",
          "2023-09-10T22:00:00+00:00",
          "2023-09-10T23:00:00+00:00",
          "2023-09-11T00:00:00+00:00",
          "2023-09-11T01:00:00+00:00",
          "2023-09-11T02:00:00+00:00",
          "2023-09-11T03:00:00+00:00",
          "2023-09-11T04:00:00+00:00",
          "2023-09-11T07:00:00+00:00",
          "2023-09-11T08:00:00+00:00",
          "2023-09-11T12:00:00+00:00",
          "2023-09-11T13:00:00+00:00",
          "2023-09-11T14:00:00+00:00",
          "2023-09-11T15:00:00+00:00",
          "2023-09-11T16:00:00+00:00",
          "2023-09-11T17:00:00+00:00",
          "2023-09-11T19:00:00+00:00",
          "2023-09-11T20:00:00+00:00",
          "2023-09-11T21:00:00+00:00",
          "2023-09-11T22:00:00+00:00",
          "2023-09-12T01:00:00+00:00",
          "2023-09-12T02:00:00+00:00",
          "2023-09-12T03:00:00+00:00",
          "2023-09-12T04:00:00+00:00",
          "2023-09-12T05:00:00+00:00",
          "2023-09-12T06:00:00+00:00",
          "2023-09-12T07:00:00+00:00",
          "2023-09-12T08:00:00+00:00",
          "2023-09-12T09:00:00+00:00",
          "2023-09-12T10:00:00+00:00",
          "2023-09-12T11:00:00+00:00",
          "2023-09-12T13:00:00+00:00",
          "2023-09-12T14:00:00+00:00",
          "2023-09-12T15:00:00+00:00",
          "2023-09-12T16:00:00+00:00",
          "2023-09-12T17:00:00+00:00",
          "2023-09-12T18:00:00+00:00",
          "2023-09-12T19:00:00+00:00",
          "2023-09-12T20:00:00+00:00",
          "2023-09-12T21:00:00+00:00",
          "2023-09-12T22:00:00+00:00",
          "2023-09-12T23:00:00+00:00",
          "2023-09-13T01:00:00+00:00",
          "2023-09-13T02:00:00+00:00",
          "2023-09-13T03:00:00+00:00",
          "2023-09-13T05:00:00+00:00",
          "2023-09-13T06:00:00+00:00",
          "2023-09-13T07:00:00+00:00",
          "2023-09-13T08:00:00+00:00",
          "2023-09-13T09:00:00+00:00",
          "2023-09-13T10:00:00+00:00",
          "2023-09-13T11:00:00+00:00",
          "2023-09-13T12:00:00+00:00",
          "2023-09-13T14:00:00+00:00",
          "2023-09-13T16:00:00+00:00",
          "2023-09-13T17:00:00+00:00",
          "2023-09-13T19:00:00+00:00",
          "2023-09-13T22:00:00+00:00",
          "2023-09-13T23:00:00+00:00",
          "2023-09-14T01:00:00+00:00",
          "2023-09-14T02:00:00+00:00",
          "2023-09-14T04:00:00+00:00",
          "2023-09-14T05:00:00+00:00",
          "2023-09-14T09:00:00+00:00",
          "2023-09-14T10:00:00+00:00",
          "2023-09-14T11:00:00+00:00",
          "2023-09-14T12:00:00+00:00",
          "2023-09-14T13:00:00+00:00",
          "2023-09-14T14:00:00+00:00",
          "2023-09-15T00:00:00+00:00",
          "2023-09-15T01:00:00+00:00",
          "2023-09-15T02:00:00+00:00",
          "2023-09-15T03:00:00+00:00",
          "2023-09-15T04:00:00+00:00",
          "2023-09-15T06:00:00+00:00",
          "2023-09-15T07:00:00+00:00",
          "2023-09-15T09:00:00+00:00",
          "2023-09-15T10:00:00+00:00",
          "2023-09-15T11:00:00+00:00",
          "2023-09-15T12:00:00+00:00",
          "2023-09-15T13:00:00+00:00",
          "2023-09-15T14:00:00+00:00",
          "2023-09-15T15:00:00+00:00",
          "2023-09-15T17:00:00+00:00",
          "2023-09-15T18:00:00+00:00",
          "2023-09-15T19:00:00+00:00",
          "2023-09-17T22:00:00+00:00",
          "2023-09-18T00:00:00+00:00",
          "2023-09-18T01:00:00+00:00",
          "2023-09-18T02:00:00+00:00",
          "2023-09-18T03:00:00+00:00",
          "2023-09-18T04:00:00+00:00",
          "2023-09-18T07:00:00+00:00",
          "2023-09-18T08:00:00+00:00",
          "2023-09-18T09:00:00+00:00",
          "2023-09-18T10:00:00+00:00",
          "2023-09-18T11:00:00+00:00",
          "2023-09-18T12:00:00+00:00",
          "2023-09-18T13:00:00+00:00",
          "2023-09-18T15:00:00+00:00",
          "2023-09-18T16:00:00+00:00",
          "2023-09-18T17:00:00+00:00",
          "2023-09-18T18:00:00+00:00",
          "2023-09-18T19:00:00+00:00",
          "2023-09-18T21:00:00+00:00",
          "2023-09-18T22:00:00+00:00",
          "2023-09-18T23:00:00+00:00",
          "2023-09-19T00:00:00+00:00",
          "2023-09-19T02:00:00+00:00",
          "2023-09-19T03:00:00+00:00",
          "2023-09-19T04:00:00+00:00",
          "2023-09-19T05:00:00+00:00",
          "2023-09-19T06:00:00+00:00",
          "2023-09-19T07:00:00+00:00",
          "2023-09-19T10:00:00+00:00",
          "2023-09-19T11:00:00+00:00",
          "2023-09-19T12:00:00+00:00",
          "2023-09-19T13:00:00+00:00",
          "2023-09-19T14:00:00+00:00",
          "2023-09-19T15:00:00+00:00",
          "2023-09-19T17:00:00+00:00",
          "2023-09-19T19:00:00+00:00",
          "2023-09-19T20:00:00+00:00",
          "2023-09-19T21:00:00+00:00",
          "2023-09-19T22:00:00+00:00",
          "2023-09-19T23:00:00+00:00",
          "2023-09-20T00:00:00+00:00",
          "2023-09-20T01:00:00+00:00",
          "2023-09-20T02:00:00+00:00",
          "2023-09-20T03:00:00+00:00",
          "2023-09-20T04:00:00+00:00",
          "2023-09-20T05:00:00+00:00",
          "2023-09-20T06:00:00+00:00",
          "2023-09-20T07:00:00+00:00",
          "2023-09-20T08:00:00+00:00",
          "2023-09-20T10:00:00+00:00",
          "2023-09-20T11:00:00+00:00",
          "2023-09-20T15:00:00+00:00",
          "2023-09-20T16:00:00+00:00",
          "2023-09-20T18:00:00+00:00",
          "2023-09-20T19:00:00+00:00",
          "2023-09-20T20:00:00+00:00",
          "2023-09-20T21:00:00+00:00",
          "2023-09-20T22:00:00+00:00",
          "2023-09-20T23:00:00+00:00",
          "2023-09-21T00:00:00+00:00",
          "2023-09-21T01:00:00+00:00",
          "2023-09-21T06:00:00+00:00",
          "2023-09-21T07:00:00+00:00",
          "2023-09-21T08:00:00+00:00",
          "2023-09-21T09:00:00+00:00",
          "2023-09-21T10:00:00+00:00",
          "2023-09-21T11:00:00+00:00",
          "2023-09-21T12:00:00+00:00",
          "2023-09-21T14:00:00+00:00",
          "2023-09-21T15:00:00+00:00",
          "2023-09-21T17:00:00+00:00",
          "2023-09-21T18:00:00+00:00",
          "2023-09-21T20:00:00+00:00",
          "2023-09-21T21:00:00+00:00",
          "2023-09-21T22:00:00+00:00",
          "2023-09-22T00:00:00+00:00",
          "2023-09-22T01:00:00+00:00",
          "2023-09-22T02:00:00+00:00",
          "2023-09-22T03:00:00+00:00",
          "2023-09-22T04:00:00+00:00",
          "2023-09-22T05:00:00+00:00",
          "2023-09-22T06:00:00+00:00",
          "2023-09-22T07:00:00+00:00",
          "2023-09-22T08:00:00+00:00",
          "2023-09-22T09:00:00+00:00",
          "2023-09-22T14:00:00+00:00",
          "2023-09-22T16:00:00+00:00",
          "2023-09-22T18:00:00+00:00",
          "2023-09-22T19:00:00+00:00",
          "2023-09-22T20:00:00+00:00",
          "2023-09-24T22:00:00+00:00",
          "2023-09-24T23:00:00+00:00",
          "2023-09-25T00:00:00+00:00",
          "2023-09-25T01:00:00+00:00",
          "2023-09-25T02:00:00+00:00",
          "2023-09-25T03:00:00+00:00",
          "2023-09-25T04:00:00+00:00",
          "2023-09-25T05:00:00+00:00",
          "2023-09-25T07:00:00+00:00",
          "2023-09-25T08:00:00+00:00",
          "2023-09-25T09:00:00+00:00",
          "2023-09-25T10:00:00+00:00",
          "2023-09-25T11:00:00+00:00",
          "2023-09-25T12:00:00+00:00",
          "2023-09-25T13:00:00+00:00",
          "2023-09-25T16:00:00+00:00",
          "2023-09-25T23:00:00+00:00",
          "2023-09-26T03:00:00+00:00",
          "2023-09-26T04:00:00+00:00",
          "2023-09-26T05:00:00+00:00",
          "2023-09-26T06:00:00+00:00",
          "2023-09-26T07:00:00+00:00",
          "2023-09-26T08:00:00+00:00",
          "2023-09-26T09:00:00+00:00",
          "2023-09-26T11:00:00+00:00",
          "2023-09-26T14:00:00+00:00",
          "2023-09-26T15:00:00+00:00",
          "2023-09-26T16:00:00+00:00",
          "2023-09-26T17:00:00+00:00",
          "2023-09-26T18:00:00+00:00",
          "2023-09-26T19:00:00+00:00",
          "2023-09-26T20:00:00+00:00",
          "2023-09-26T21:00:00+00:00",
          "2023-09-26T23:00:00+00:00",
          "2023-09-27T00:00:00+00:00",
          "2023-09-27T05:00:00+00:00",
          "2023-09-27T06:00:00+00:00",
          "2023-09-27T07:00:00+00:00",
          "2023-09-27T08:00:00+00:00",
          "2023-09-27T09:00:00+00:00",
          "2023-09-27T10:00:00+00:00",
          "2023-09-27T12:00:00+00:00",
          "2023-09-27T13:00:00+00:00",
          "2023-09-27T14:00:00+00:00",
          "2023-09-27T15:00:00+00:00",
          "2023-09-27T17:00:00+00:00",
          "2023-09-27T22:00:00+00:00",
          "2023-09-28T00:00:00+00:00",
          "2023-09-28T01:00:00+00:00",
          "2023-09-28T02:00:00+00:00",
          "2023-09-28T03:00:00+00:00",
          "2023-09-28T04:00:00+00:00",
          "2023-09-28T05:00:00+00:00",
          "2023-09-28T06:00:00+00:00",
          "2023-09-28T07:00:00+00:00",
          "2023-09-28T09:00:00+00:00",
          "2023-09-28T10:00:00+00:00",
          "2023-09-28T11:00:00+00:00",
          "2023-09-28T12:00:00+00:00",
          "2023-09-28T13:00:00+00:00",
          "2023-09-28T14:00:00+00:00",
          "2023-09-28T15:00:00+00:00",
          "2023-09-28T16:00:00+00:00",
          "2023-09-28T18:00:00+00:00",
          "2023-09-28T19:00:00+00:00",
          "2023-09-28T20:00:00+00:00",
          "2023-09-28T22:00:00+00:00",
          "2023-09-28T23:00:00+00:00",
          "2023-09-29T01:00:00+00:00",
          "2023-09-29T02:00:00+00:00",
          "2023-09-29T03:00:00+00:00",
          "2023-09-29T04:00:00+00:00",
          "2023-09-29T07:00:00+00:00",
          "2023-09-29T11:00:00+00:00",
          "2023-09-29T13:00:00+00:00",
          "2023-09-29T14:00:00+00:00",
          "2023-09-29T15:00:00+00:00",
          "2023-09-29T16:00:00+00:00",
          "2023-09-29T17:00:00+00:00",
          "2023-09-29T18:00:00+00:00",
          "2023-09-29T19:00:00+00:00",
          "2023-09-29T20:00:00+00:00",
          "2023-10-01T23:00:00+00:00",
          "2023-10-02T02:00:00+00:00",
          "2023-10-02T03:00:00+00:00",
          "2023-10-02T04:00:00+00:00",
          "2023-10-02T05:00:00+00:00",
          "2023-10-02T06:00:00+00:00",
          "2023-10-02T07:00:00+00:00",
          "2023-10-02T09:00:00+00:00",
          "2023-10-02T10:00:00+00:00",
          "2023-10-02T11:00:00+00:00",
          "2023-10-02T13:00:00+00:00",
          "2023-10-02T14:00:00+00:00",
          "2023-10-02T15:00:00+00:00",
          "2023-10-02T16:00:00+00:00",
          "2023-10-02T19:00:00+00:00",
          "2023-10-02T20:00:00+00:00",
          "2023-10-02T21:00:00+00:00",
          "2023-10-02T22:00:00+00:00",
          "2023-10-02T23:00:00+00:00",
          "2023-10-03T00:00:00+00:00",
          "2023-10-03T03:00:00+00:00",
          "2023-10-03T04:00:00+00:00",
          "2023-10-03T06:00:00+00:00",
          "2023-10-03T07:00:00+00:00",
          "2023-10-03T08:00:00+00:00",
          "2023-10-03T09:00:00+00:00",
          "2023-10-03T10:00:00+00:00",
          "2023-10-03T11:00:00+00:00",
          "2023-10-03T12:00:00+00:00",
          "2023-10-03T13:00:00+00:00",
          "2023-10-03T14:00:00+00:00",
          "2023-10-03T15:00:00+00:00",
          "2023-10-03T16:00:00+00:00",
          "2023-10-03T17:00:00+00:00",
          "2023-10-03T18:00:00+00:00",
          "2023-10-03T19:00:00+00:00",
          "2023-10-03T20:00:00+00:00",
          "2023-10-03T21:00:00+00:00",
          "2023-10-03T22:00:00+00:00",
          "2023-10-03T23:00:00+00:00",
          "2023-10-04T00:00:00+00:00",
          "2023-10-04T02:00:00+00:00",
          "2023-10-04T03:00:00+00:00",
          "2023-10-04T04:00:00+00:00",
          "2023-10-04T05:00:00+00:00",
          "2023-10-04T06:00:00+00:00",
          "2023-10-04T07:00:00+00:00",
          "2023-10-04T09:00:00+00:00",
          "2023-10-04T10:00:00+00:00",
          "2023-10-04T11:00:00+00:00",
          "2023-10-04T12:00:00+00:00",
          "2023-10-04T13:00:00+00:00",
          "2023-10-04T15:00:00+00:00",
          "2023-10-04T20:00:00+00:00",
          "2023-10-04T22:00:00+00:00",
          "2023-10-04T23:00:00+00:00",
          "2023-10-05T00:00:00+00:00",
          "2023-10-05T01:00:00+00:00",
          "2023-10-05T02:00:00+00:00",
          "2023-10-05T03:00:00+00:00",
          "2023-10-05T09:00:00+00:00",
          "2023-10-05T10:00:00+00:00",
          "2023-10-05T11:00:00+00:00",
          "2023-10-05T12:00:00+00:00",
          "2023-10-05T13:00:00+00:00",
          "2023-10-05T15:00:00+00:00",
          "2023-10-05T16:00:00+00:00",
          "2023-10-05T17:00:00+00:00",
          "2023-10-05T18:00:00+00:00",
          "2023-10-05T19:00:00+00:00",
          "2023-10-05T20:00:00+00:00",
          "2023-10-05T21:00:00+00:00",
          "2023-10-05T22:00:00+00:00",
          "2023-10-05T23:00:00+00:00",
          "2023-10-06T01:00:00+00:00",
          "2023-10-06T02:00:00+00:00",
          "2023-10-06T03:00:00+00:00",
          "2023-10-06T04:00:00+00:00",
          "2023-10-06T05:00:00+00:00",
          "2023-10-06T06:00:00+00:00",
          "2023-10-06T07:00:00+00:00",
          "2023-10-06T08:00:00+00:00",
          "2023-10-06T09:00:00+00:00",
          "2023-10-06T10:00:00+00:00",
          "2023-10-06T11:00:00+00:00",
          "2023-10-06T12:00:00+00:00",
          "2023-10-06T13:00:00+00:00",
          "2023-10-06T14:00:00+00:00",
          "2023-10-06T15:00:00+00:00",
          "2023-10-06T16:00:00+00:00",
          "2023-10-06T17:00:00+00:00",
          "2023-10-06T18:00:00+00:00",
          "2023-10-06T20:00:00+00:00",
          "2023-10-08T21:00:00+00:00",
          "2023-10-08T22:00:00+00:00",
          "2023-10-09T00:00:00+00:00",
          "2023-10-09T01:00:00+00:00",
          "2023-10-09T02:00:00+00:00",
          "2023-10-09T03:00:00+00:00",
          "2023-10-09T04:00:00+00:00",
          "2023-10-09T05:00:00+00:00",
          "2023-10-09T06:00:00+00:00",
          "2023-10-09T08:00:00+00:00",
          "2023-10-09T09:00:00+00:00",
          "2023-10-09T11:00:00+00:00",
          "2023-10-09T12:00:00+00:00",
          "2023-10-09T13:00:00+00:00",
          "2023-10-09T14:00:00+00:00",
          "2023-10-09T16:00:00+00:00",
          "2023-10-09T17:00:00+00:00",
          "2023-10-09T18:00:00+00:00",
          "2023-10-09T20:00:00+00:00",
          "2023-10-09T21:00:00+00:00",
          "2023-10-09T22:00:00+00:00",
          "2023-10-10T00:00:00+00:00",
          "2023-10-10T01:00:00+00:00",
          "2023-10-10T02:00:00+00:00",
          "2023-10-10T03:00:00+00:00",
          "2023-10-10T05:00:00+00:00",
          "2023-10-10T06:00:00+00:00",
          "2023-10-10T07:00:00+00:00",
          "2023-10-10T08:00:00+00:00",
          "2023-10-10T09:00:00+00:00",
          "2023-10-10T10:00:00+00:00",
          "2023-10-10T11:00:00+00:00",
          "2023-10-10T12:00:00+00:00",
          "2023-10-10T15:00:00+00:00",
          "2023-10-10T16:00:00+00:00",
          "2023-10-10T17:00:00+00:00",
          "2023-10-10T18:00:00+00:00",
          "2023-10-10T19:00:00+00:00",
          "2023-10-10T22:00:00+00:00",
          "2023-10-10T23:00:00+00:00",
          "2023-10-11T00:00:00+00:00",
          "2023-10-11T01:00:00+00:00",
          "2023-10-11T02:00:00+00:00",
          "2023-10-11T04:00:00+00:00",
          "2023-10-11T05:00:00+00:00",
          "2023-10-11T08:00:00+00:00",
          "2023-10-11T09:00:00+00:00",
          "2023-10-11T11:00:00+00:00",
          "2023-10-11T13:00:00+00:00",
          "2023-10-11T15:00:00+00:00",
          "2023-10-11T16:00:00+00:00",
          "2023-10-11T19:00:00+00:00",
          "2023-10-12T00:00:00+00:00",
          "2023-10-12T01:00:00+00:00",
          "2023-10-12T02:00:00+00:00",
          "2023-10-12T03:00:00+00:00",
          "2023-10-12T04:00:00+00:00",
          "2023-10-12T05:00:00+00:00",
          "2023-10-12T07:00:00+00:00",
          "2023-10-12T09:00:00+00:00",
          "2023-10-12T10:00:00+00:00",
          "2023-10-12T11:00:00+00:00",
          "2023-10-12T12:00:00+00:00",
          "2023-10-12T13:00:00+00:00",
          "2023-10-12T14:00:00+00:00",
          "2023-10-12T20:00:00+00:00",
          "2023-10-13T00:00:00+00:00",
          "2023-10-13T02:00:00+00:00",
          "2023-10-13T03:00:00+00:00",
          "2023-10-13T04:00:00+00:00",
          "2023-10-13T05:00:00+00:00",
          "2023-10-13T06:00:00+00:00",
          "2023-10-13T07:00:00+00:00",
          "2023-10-13T08:00:00+00:00",
          "2023-10-13T10:00:00+00:00",
          "2023-10-13T11:00:00+00:00",
          "2023-10-13T12:00:00+00:00",
          "2023-10-13T13:00:00+00:00",
          "2023-10-13T14:00:00+00:00",
          "2023-10-13T15:00:00+00:00",
          "2023-10-13T16:00:00+00:00",
          "2023-10-13T18:00:00+00:00",
          "2023-10-16T01:00:00+00:00",
          "2023-10-16T02:00:00+00:00",
          "2023-10-16T03:00:00+00:00",
          "2023-10-16T04:00:00+00:00",
          "2023-10-16T05:00:00+00:00",
          "2023-10-16T06:00:00+00:00",
          "2023-10-16T09:00:00+00:00",
          "2023-10-16T11:00:00+00:00",
          "2023-10-16T13:00:00+00:00",
          "2023-10-16T15:00:00+00:00",
          "2023-10-16T16:00:00+00:00",
          "2023-10-16T17:00:00+00:00",
          "2023-10-16T18:00:00+00:00",
          "2023-10-16T19:00:00+00:00",
          "2023-10-16T21:00:00+00:00",
          "2023-10-16T22:00:00+00:00",
          "2023-10-16T23:00:00+00:00",
          "2023-10-17T00:00:00+00:00",
          "2023-10-17T01:00:00+00:00",
          "2023-10-17T02:00:00+00:00",
          "2023-10-17T03:00:00+00:00",
          "2023-10-17T04:00:00+00:00",
          "2023-10-17T05:00:00+00:00",
          "2023-10-17T06:00:00+00:00",
          "2023-10-17T07:00:00+00:00",
          "2023-10-17T11:00:00+00:00",
          "2023-10-17T12:00:00+00:00",
          "2023-10-17T14:00:00+00:00",
          "2023-10-17T15:00:00+00:00",
          "2023-10-17T16:00:00+00:00",
          "2023-10-17T17:00:00+00:00",
          "2023-10-17T18:00:00+00:00",
          "2023-10-17T19:00:00+00:00",
          "2023-10-17T20:00:00+00:00",
          "2023-10-17T21:00:00+00:00",
          "2023-10-17T23:00:00+00:00",
          "2023-10-18T00:00:00+00:00",
          "2023-10-18T01:00:00+00:00",
          "2023-10-18T02:00:00+00:00",
          "2023-10-18T03:00:00+00:00",
          "2023-10-18T04:00:00+00:00",
          "2023-10-18T05:00:00+00:00",
          "2023-10-18T06:00:00+00:00",
          "2023-10-18T07:00:00+00:00",
          "2023-10-18T08:00:00+00:00",
          "2023-10-18T09:00:00+00:00",
          "2023-10-18T11:00:00+00:00",
          "2023-10-18T12:00:00+00:00",
          "2023-10-18T13:00:00+00:00",
          "2023-10-18T14:00:00+00:00",
          "2023-10-18T15:00:00+00:00",
          "2023-10-18T16:00:00+00:00",
          "2023-10-18T17:00:00+00:00",
          "2023-10-18T20:00:00+00:00",
          "2023-10-18T22:00:00+00:00",
          "2023-10-19T01:00:00+00:00",
          "2023-10-19T03:00:00+00:00",
          "2023-10-19T04:00:00+00:00",
          "2023-10-19T08:00:00+00:00",
          "2023-10-19T10:00:00+00:00",
          "2023-10-19T12:00:00+00:00",
          "2023-10-19T14:00:00+00:00",
          "2023-10-19T15:00:00+00:00",
          "2023-10-19T16:00:00+00:00",
          "2023-10-19T17:00:00+00:00",
          "2023-10-19T20:00:00+00:00",
          "2023-10-19T22:00:00+00:00",
          "2023-10-20T01:00:00+00:00",
          "2023-10-20T02:00:00+00:00",
          "2023-10-20T03:00:00+00:00",
          "2023-10-20T04:00:00+00:00",
          "2023-10-20T05:00:00+00:00",
          "2023-10-20T07:00:00+00:00",
          "2023-10-20T08:00:00+00:00",
          "2023-10-20T09:00:00+00:00",
          "2023-10-20T10:00:00+00:00",
          "2023-10-20T11:00:00+00:00",
          "2023-10-20T12:00:00+00:00",
          "2023-10-20T13:00:00+00:00",
          "2023-10-20T14:00:00+00:00",
          "2023-10-20T15:00:00+00:00",
          "2023-10-20T16:00:00+00:00",
          "2023-10-20T17:00:00+00:00",
          "2023-10-20T18:00:00+00:00",
          "2023-10-20T19:00:00+00:00",
          "2023-10-20T20:00:00+00:00",
          "2023-10-22T21:00:00+00:00",
          "2023-10-22T22:00:00+00:00",
          "2023-10-23T02:00:00+00:00",
          "2023-10-23T03:00:00+00:00",
          "2023-10-23T04:00:00+00:00",
          "2023-10-23T05:00:00+00:00",
          "2023-10-23T07:00:00+00:00",
          "2023-10-23T09:00:00+00:00",
          "2023-10-23T10:00:00+00:00",
          "2023-10-23T11:00:00+00:00",
          "2023-10-23T12:00:00+00:00",
          "2023-10-23T15:00:00+00:00",
          "2023-10-23T16:00:00+00:00",
          "2023-10-23T17:00:00+00:00",
          "2023-10-23T18:00:00+00:00",
          "2023-10-23T19:00:00+00:00",
          "2023-10-23T23:00:00+00:00",
          "2023-10-24T00:00:00+00:00",
          "2023-10-24T06:00:00+00:00",
          "2023-10-24T07:00:00+00:00",
          "2023-10-24T08:00:00+00:00",
          "2023-10-24T09:00:00+00:00",
          "2023-10-24T10:00:00+00:00",
          "2023-10-24T11:00:00+00:00",
          "2023-10-24T12:00:00+00:00",
          "2023-10-24T13:00:00+00:00",
          "2023-10-24T16:00:00+00:00",
          "2023-10-24T17:00:00+00:00",
          "2023-10-24T21:00:00+00:00",
          "2023-10-24T23:00:00+00:00",
          "2023-10-25T00:00:00+00:00",
          "2023-10-25T02:00:00+00:00",
          "2023-10-25T03:00:00+00:00",
          "2023-10-25T04:00:00+00:00",
          "2023-10-25T05:00:00+00:00",
          "2023-10-25T06:00:00+00:00",
          "2023-10-25T08:00:00+00:00",
          "2023-10-25T09:00:00+00:00",
          "2023-10-25T10:00:00+00:00",
          "2023-10-25T11:00:00+00:00",
          "2023-10-25T13:00:00+00:00",
          "2023-10-25T14:00:00+00:00",
          "2023-10-25T18:00:00+00:00",
          "2023-10-25T19:00:00+00:00",
          "2023-10-25T21:00:00+00:00",
          "2023-10-25T23:00:00+00:00",
          "2023-10-26T00:00:00+00:00",
          "2023-10-26T01:00:00+00:00",
          "2023-10-26T02:00:00+00:00",
          "2023-10-26T03:00:00+00:00",
          "2023-10-26T04:00:00+00:00",
          "2023-10-26T06:00:00+00:00",
          "2023-10-26T07:00:00+00:00",
          "2023-10-26T08:00:00+00:00",
          "2023-10-26T10:00:00+00:00",
          "2023-10-26T12:00:00+00:00",
          "2023-10-26T13:00:00+00:00",
          "2023-10-26T14:00:00+00:00",
          "2023-10-26T15:00:00+00:00",
          "2023-10-26T16:00:00+00:00",
          "2023-10-26T18:00:00+00:00",
          "2023-10-26T19:00:00+00:00",
          "2023-10-26T21:00:00+00:00",
          "2023-10-26T22:00:00+00:00",
          "2023-10-27T00:00:00+00:00",
          "2023-10-27T01:00:00+00:00",
          "2023-10-27T02:00:00+00:00",
          "2023-10-27T03:00:00+00:00",
          "2023-10-27T04:00:00+00:00",
          "2023-10-27T05:00:00+00:00",
          "2023-10-27T06:00:00+00:00",
          "2023-10-27T07:00:00+00:00",
          "2023-10-27T08:00:00+00:00",
          "2023-10-27T10:00:00+00:00",
          "2023-10-27T11:00:00+00:00",
          "2023-10-27T13:00:00+00:00",
          "2023-10-27T14:00:00+00:00",
          "2023-10-27T15:00:00+00:00",
          "2023-10-27T16:00:00+00:00",
          "2023-10-27T17:00:00+00:00",
          "2023-10-27T18:00:00+00:00",
          "2023-10-29T22:00:00+00:00",
          "2023-10-29T23:00:00+00:00",
          "2023-10-30T00:00:00+00:00",
          "2023-10-30T01:00:00+00:00",
          "2023-10-30T02:00:00+00:00",
          "2023-10-30T03:00:00+00:00",
          "2023-10-30T04:00:00+00:00",
          "2023-10-30T05:00:00+00:00",
          "2023-10-30T06:00:00+00:00",
          "2023-10-30T08:00:00+00:00",
          "2023-10-30T10:00:00+00:00",
          "2023-10-30T11:00:00+00:00",
          "2023-10-30T12:00:00+00:00",
          "2023-10-30T14:00:00+00:00",
          "2023-10-30T15:00:00+00:00",
          "2023-10-30T17:00:00+00:00",
          "2023-10-30T18:00:00+00:00",
          "2023-10-30T19:00:00+00:00",
          "2023-10-30T20:00:00+00:00",
          "2023-10-30T21:00:00+00:00",
          "2023-10-30T22:00:00+00:00",
          "2023-10-30T23:00:00+00:00",
          "2023-10-31T01:00:00+00:00",
          "2023-10-31T02:00:00+00:00",
          "2023-10-31T03:00:00+00:00",
          "2023-10-31T04:00:00+00:00",
          "2023-10-31T05:00:00+00:00",
          "2023-10-31T06:00:00+00:00",
          "2023-10-31T07:00:00+00:00",
          "2023-10-31T08:00:00+00:00",
          "2023-10-31T09:00:00+00:00",
          "2023-10-31T10:00:00+00:00",
          "2023-10-31T11:00:00+00:00",
          "2023-10-31T12:00:00+00:00",
          "2023-10-31T14:00:00+00:00",
          "2023-10-31T15:00:00+00:00",
          "2023-10-31T16:00:00+00:00",
          "2023-10-31T17:00:00+00:00",
          "2023-10-31T18:00:00+00:00",
          "2023-10-31T19:00:00+00:00",
          "2023-10-31T22:00:00+00:00",
          "2023-11-01T00:00:00+00:00",
          "2023-11-01T02:00:00+00:00",
          "2023-11-01T03:00:00+00:00",
          "2023-11-01T04:00:00+00:00",
          "2023-11-01T05:00:00+00:00",
          "2023-11-01T06:00:00+00:00",
          "2023-11-01T07:00:00+00:00",
          "2023-11-01T09:00:00+00:00",
          "2023-11-01T10:00:00+00:00",
          "2023-11-01T11:00:00+00:00",
          "2023-11-01T12:00:00+00:00",
          "2023-11-01T13:00:00+00:00",
          "2023-11-01T15:00:00+00:00",
          "2023-11-01T17:00:00+00:00",
          "2023-11-01T18:00:00+00:00",
          "2023-11-01T19:00:00+00:00",
          "2023-11-01T20:00:00+00:00",
          "2023-11-01T21:00:00+00:00",
          "2023-11-01T22:00:00+00:00",
          "2023-11-01T23:00:00+00:00",
          "2023-11-02T00:00:00+00:00",
          "2023-11-02T01:00:00+00:00",
          "2023-11-02T02:00:00+00:00",
          "2023-11-02T03:00:00+00:00",
          "2023-11-02T04:00:00+00:00",
          "2023-11-02T07:00:00+00:00",
          "2023-11-02T08:00:00+00:00",
          "2023-11-02T09:00:00+00:00",
          "2023-11-02T11:00:00+00:00",
          "2023-11-02T12:00:00+00:00",
          "2023-11-02T13:00:00+00:00",
          "2023-11-02T15:00:00+00:00",
          "2023-11-02T16:00:00+00:00",
          "2023-11-02T17:00:00+00:00",
          "2023-11-02T18:00:00+00:00",
          "2023-11-02T20:00:00+00:00",
          "2023-11-02T21:00:00+00:00",
          "2023-11-02T22:00:00+00:00",
          "2023-11-02T23:00:00+00:00",
          "2023-11-03T02:00:00+00:00",
          "2023-11-03T04:00:00+00:00",
          "2023-11-03T05:00:00+00:00",
          "2023-11-03T06:00:00+00:00",
          "2023-11-03T07:00:00+00:00",
          "2023-11-03T08:00:00+00:00",
          "2023-11-03T09:00:00+00:00",
          "2023-11-03T10:00:00+00:00",
          "2023-11-03T11:00:00+00:00",
          "2023-11-03T13:00:00+00:00",
          "2023-11-03T14:00:00+00:00",
          "2023-11-03T20:00:00+00:00",
          "2023-11-05T23:00:00+00:00",
          "2023-11-06T01:00:00+00:00",
          "2023-11-06T02:00:00+00:00",
          "2023-11-06T03:00:00+00:00",
          "2023-11-06T04:00:00+00:00",
          "2023-11-06T05:00:00+00:00",
          "2023-11-06T06:00:00+00:00",
          "2023-11-06T07:00:00+00:00",
          "2023-11-06T08:00:00+00:00",
          "2023-11-06T10:00:00+00:00",
          "2023-11-06T12:00:00+00:00",
          "2023-11-06T14:00:00+00:00",
          "2023-11-06T15:00:00+00:00",
          "2023-11-06T17:00:00+00:00",
          "2023-11-06T18:00:00+00:00",
          "2023-11-06T19:00:00+00:00",
          "2023-11-06T20:00:00+00:00",
          "2023-11-06T21:00:00+00:00",
          "2023-11-06T22:00:00+00:00",
          "2023-11-06T23:00:00+00:00",
          "2023-11-07T00:00:00+00:00",
          "2023-11-07T01:00:00+00:00",
          "2023-11-07T02:00:00+00:00",
          "2023-11-07T04:00:00+00:00",
          "2023-11-07T06:00:00+00:00",
          "2023-11-07T07:00:00+00:00",
          "2023-11-07T08:00:00+00:00",
          "2023-11-07T11:00:00+00:00",
          "2023-11-07T12:00:00+00:00",
          "2023-11-07T15:00:00+00:00",
          "2023-11-07T16:00:00+00:00",
          "2023-11-07T17:00:00+00:00",
          "2023-11-07T18:00:00+00:00",
          "2023-11-07T19:00:00+00:00",
          "2023-11-07T20:00:00+00:00",
          "2023-11-07T21:00:00+00:00",
          "2023-11-07T22:00:00+00:00",
          "2023-11-08T00:00:00+00:00",
          "2023-11-08T01:00:00+00:00",
          "2023-11-08T02:00:00+00:00",
          "2023-11-08T05:00:00+00:00",
          "2023-11-08T06:00:00+00:00",
          "2023-11-08T07:00:00+00:00",
          "2023-11-08T08:00:00+00:00",
          "2023-11-08T09:00:00+00:00",
          "2023-11-08T10:00:00+00:00",
          "2023-11-08T13:00:00+00:00",
          "2023-11-08T14:00:00+00:00",
          "2023-11-08T15:00:00+00:00",
          "2023-11-08T16:00:00+00:00",
          "2023-11-08T17:00:00+00:00",
          "2023-11-08T19:00:00+00:00",
          "2023-11-08T20:00:00+00:00",
          "2023-11-08T22:00:00+00:00",
          "2023-11-09T00:00:00+00:00",
          "2023-11-09T03:00:00+00:00",
          "2023-11-09T04:00:00+00:00",
          "2023-11-09T05:00:00+00:00",
          "2023-11-09T06:00:00+00:00",
          "2023-11-09T07:00:00+00:00",
          "2023-11-09T08:00:00+00:00",
          "2023-11-09T09:00:00+00:00",
          "2023-11-09T11:00:00+00:00",
          "2023-11-09T13:00:00+00:00",
          "2023-11-09T15:00:00+00:00",
          "2023-11-09T16:00:00+00:00",
          "2023-11-09T17:00:00+00:00",
          "2023-11-09T18:00:00+00:00",
          "2023-11-09T19:00:00+00:00",
          "2023-11-09T21:00:00+00:00",
          "2023-11-09T22:00:00+00:00",
          "2023-11-09T23:00:00+00:00",
          "2023-11-10T01:00:00+00:00",
          "2023-11-10T03:00:00+00:00",
          "2023-11-10T05:00:00+00:00",
          "2023-11-10T07:00:00+00:00",
          "2023-11-10T09:00:00+00:00",
          "2023-11-10T10:00:00+00:00",
          "2023-11-10T11:00:00+00:00",
          "2023-11-10T12:00:00+00:00",
          "2023-11-10T14:00:00+00:00",
          "2023-11-10T15:00:00+00:00",
          "2023-11-10T18:00:00+00:00",
          "2023-11-10T19:00:00+00:00",
          "2023-11-10T20:00:00+00:00",
          "2023-11-10T21:00:00+00:00",
          "2023-11-12T22:00:00+00:00",
          "2023-11-12T23:00:00+00:00",
          "2023-11-13T00:00:00+00:00",
          "2023-11-13T01:00:00+00:00",
          "2023-11-13T02:00:00+00:00",
          "2023-11-13T04:00:00+00:00",
          "2023-11-13T05:00:00+00:00",
          "2023-11-13T06:00:00+00:00",
          "2023-11-13T08:00:00+00:00",
          "2023-11-13T09:00:00+00:00",
          "2023-11-13T10:00:00+00:00",
          "2023-11-13T11:00:00+00:00",
          "2023-11-13T12:00:00+00:00",
          "2023-11-13T13:00:00+00:00",
          "2023-11-13T14:00:00+00:00",
          "2023-11-13T16:00:00+00:00",
          "2023-11-13T17:00:00+00:00",
          "2023-11-13T19:00:00+00:00",
          "2023-11-13T20:00:00+00:00",
          "2023-11-13T21:00:00+00:00",
          "2023-11-13T22:00:00+00:00",
          "2023-11-14T00:00:00+00:00",
          "2023-11-14T02:00:00+00:00",
          "2023-11-14T03:00:00+00:00",
          "2023-11-14T04:00:00+00:00",
          "2023-11-14T05:00:00+00:00",
          "2023-11-14T07:00:00+00:00",
          "2023-11-14T09:00:00+00:00",
          "2023-11-14T11:00:00+00:00",
          "2023-11-14T12:00:00+00:00",
          "2023-11-14T13:00:00+00:00",
          "2023-11-14T14:00:00+00:00",
          "2023-11-14T15:00:00+00:00",
          "2023-11-14T16:00:00+00:00",
          "2023-11-14T18:00:00+00:00",
          "2023-11-15T03:00:00+00:00",
          "2023-11-15T04:00:00+00:00",
          "2023-11-15T05:00:00+00:00",
          "2023-11-15T06:00:00+00:00",
          "2023-11-15T07:00:00+00:00",
          "2023-11-15T08:00:00+00:00",
          "2023-11-15T09:00:00+00:00",
          "2023-11-15T10:00:00+00:00",
          "2023-11-15T12:00:00+00:00",
          "2023-11-15T16:00:00+00:00",
          "2023-11-15T17:00:00+00:00",
          "2023-11-15T18:00:00+00:00",
          "2023-11-15T20:00:00+00:00",
          "2023-11-16T00:00:00+00:00",
          "2023-11-16T01:00:00+00:00",
          "2023-11-16T02:00:00+00:00",
          "2023-11-16T03:00:00+00:00",
          "2023-11-16T04:00:00+00:00",
          "2023-11-16T05:00:00+00:00",
          "2023-11-16T07:00:00+00:00",
          "2023-11-16T09:00:00+00:00",
          "2023-11-16T11:00:00+00:00",
          "2023-11-16T12:00:00+00:00",
          "2023-11-16T13:00:00+00:00",
          "2023-11-16T14:00:00+00:00",
          "2023-11-16T15:00:00+00:00",
          "2023-11-16T16:00:00+00:00",
          "2023-11-16T18:00:00+00:00",
          "2023-11-16T19:00:00+00:00",
          "2023-11-16T23:00:00+00:00",
          "2023-11-17T00:00:00+00:00",
          "2023-11-17T03:00:00+00:00",
          "2023-11-17T04:00:00+00:00",
          "2023-11-17T06:00:00+00:00",
          "2023-11-17T08:00:00+00:00",
          "2023-11-17T09:00:00+00:00",
          "2023-11-17T10:00:00+00:00",
          "2023-11-17T11:00:00+00:00",
          "2023-11-17T12:00:00+00:00",
          "2023-11-17T13:00:00+00:00",
          "2023-11-17T16:00:00+00:00",
          "2023-11-17T18:00:00+00:00",
          "2023-11-17T19:00:00+00:00",
          "2023-11-17T20:00:00+00:00",
          "2023-11-17T21:00:00+00:00",
          "2023-11-19T22:00:00+00:00",
          "2023-11-20T00:00:00+00:00",
          "2023-11-20T01:00:00+00:00",
          "2023-11-20T02:00:00+00:00",
          "2023-11-20T03:00:00+00:00",
          "2023-11-20T04:00:00+00:00",
          "2023-11-20T05:00:00+00:00",
          "2023-11-20T06:00:00+00:00",
          "2023-11-20T10:00:00+00:00",
          "2023-11-20T11:00:00+00:00",
          "2023-11-20T12:00:00+00:00",
          "2023-11-20T13:00:00+00:00",
          "2023-11-20T15:00:00+00:00",
          "2023-11-20T16:00:00+00:00",
          "2023-11-20T17:00:00+00:00",
          "2023-11-20T20:00:00+00:00",
          "2023-11-20T21:00:00+00:00",
          "2023-11-20T22:00:00+00:00",
          "2023-11-20T23:00:00+00:00",
          "2023-11-21T00:00:00+00:00",
          "2023-11-21T02:00:00+00:00",
          "2023-11-21T03:00:00+00:00",
          "2023-11-21T04:00:00+00:00",
          "2023-11-21T07:00:00+00:00",
          "2023-11-21T09:00:00+00:00",
          "2023-11-21T11:00:00+00:00",
          "2023-11-21T12:00:00+00:00",
          "2023-11-21T13:00:00+00:00",
          "2023-11-21T14:00:00+00:00",
          "2023-11-21T15:00:00+00:00",
          "2023-11-21T16:00:00+00:00",
          "2023-11-21T17:00:00+00:00",
          "2023-11-21T18:00:00+00:00",
          "2023-11-21T19:00:00+00:00",
          "2023-11-21T22:00:00+00:00",
          "2023-11-21T23:00:00+00:00",
          "2023-11-22T01:00:00+00:00",
          "2023-11-22T02:00:00+00:00",
          "2023-11-22T03:00:00+00:00",
          "2023-11-22T04:00:00+00:00",
          "2023-11-22T05:00:00+00:00",
          "2023-11-22T06:00:00+00:00",
          "2023-11-22T07:00:00+00:00",
          "2023-11-22T08:00:00+00:00",
          "2023-11-22T10:00:00+00:00",
          "2023-11-22T11:00:00+00:00",
          "2023-11-22T12:00:00+00:00",
          "2023-11-22T13:00:00+00:00",
          "2023-11-22T14:00:00+00:00",
          "2023-11-22T16:00:00+00:00",
          "2023-11-22T17:00:00+00:00",
          "2023-11-22T19:00:00+00:00",
          "2023-11-22T20:00:00+00:00",
          "2023-11-22T21:00:00+00:00",
          "2023-11-22T23:00:00+00:00",
          "2023-11-23T01:00:00+00:00",
          "2023-11-23T03:00:00+00:00",
          "2023-11-23T04:00:00+00:00",
          "2023-11-23T05:00:00+00:00",
          "2023-11-23T08:00:00+00:00",
          "2023-11-23T09:00:00+00:00",
          "2023-11-23T10:00:00+00:00",
          "2023-11-23T12:00:00+00:00",
          "2023-11-23T13:00:00+00:00",
          "2023-11-23T14:00:00+00:00",
          "2023-11-23T15:00:00+00:00",
          "2023-11-23T16:00:00+00:00",
          "2023-11-23T17:00:00+00:00",
          "2023-11-23T20:00:00+00:00",
          "2023-11-23T21:00:00+00:00",
          "2023-11-23T22:00:00+00:00",
          "2023-11-23T23:00:00+00:00",
          "2023-11-24T00:00:00+00:00",
          "2023-11-24T01:00:00+00:00",
          "2023-11-24T02:00:00+00:00",
          "2023-11-24T03:00:00+00:00",
          "2023-11-24T04:00:00+00:00",
          "2023-11-24T05:00:00+00:00",
          "2023-11-24T06:00:00+00:00",
          "2023-11-24T07:00:00+00:00",
          "2023-11-24T08:00:00+00:00",
          "2023-11-24T10:00:00+00:00",
          "2023-11-24T11:00:00+00:00",
          "2023-11-24T12:00:00+00:00",
          "2023-11-24T13:00:00+00:00",
          "2023-11-24T14:00:00+00:00",
          "2023-11-24T16:00:00+00:00",
          "2023-11-24T21:00:00+00:00",
          "2023-11-26T22:00:00+00:00",
          "2023-11-27T00:00:00+00:00",
          "2023-11-27T01:00:00+00:00",
          "2023-11-27T02:00:00+00:00",
          "2023-11-27T03:00:00+00:00",
          "2023-11-27T04:00:00+00:00",
          "2023-11-27T06:00:00+00:00",
          "2023-11-27T07:00:00+00:00",
          "2023-11-27T08:00:00+00:00",
          "2023-11-27T09:00:00+00:00",
          "2023-11-27T10:00:00+00:00",
          "2023-11-27T11:00:00+00:00",
          "2023-11-27T12:00:00+00:00",
          "2023-11-27T13:00:00+00:00",
          "2023-11-27T14:00:00+00:00",
          "2023-11-27T15:00:00+00:00",
          "2023-11-27T17:00:00+00:00",
          "2023-11-27T18:00:00+00:00",
          "2023-11-27T20:00:00+00:00",
          "2023-11-27T21:00:00+00:00",
          "2023-11-27T22:00:00+00:00",
          "2023-11-27T23:00:00+00:00",
          "2023-11-28T00:00:00+00:00",
          "2023-11-28T06:00:00+00:00",
          "2023-11-28T07:00:00+00:00",
          "2023-11-28T08:00:00+00:00",
          "2023-11-28T09:00:00+00:00",
          "2023-11-28T10:00:00+00:00",
          "2023-11-28T11:00:00+00:00",
          "2023-11-28T12:00:00+00:00",
          "2023-11-28T13:00:00+00:00",
          "2023-11-28T14:00:00+00:00",
          "2023-11-28T15:00:00+00:00",
          "2023-11-28T16:00:00+00:00",
          "2023-11-28T17:00:00+00:00",
          "2023-11-28T18:00:00+00:00",
          "2023-11-28T19:00:00+00:00",
          "2023-11-28T22:00:00+00:00",
          "2023-11-29T02:00:00+00:00",
          "2023-11-29T03:00:00+00:00",
          "2023-11-29T04:00:00+00:00",
          "2023-11-29T06:00:00+00:00",
          "2023-11-29T08:00:00+00:00",
          "2023-11-29T09:00:00+00:00",
          "2023-11-29T10:00:00+00:00",
          "2023-11-29T11:00:00+00:00",
          "2023-11-29T12:00:00+00:00",
          "2023-11-29T13:00:00+00:00",
          "2023-11-29T14:00:00+00:00",
          "2023-11-29T15:00:00+00:00",
          "2023-11-29T17:00:00+00:00",
          "2023-11-29T18:00:00+00:00",
          "2023-11-29T20:00:00+00:00",
          "2023-11-29T21:00:00+00:00",
          "2023-11-30T00:00:00+00:00",
          "2023-11-30T01:00:00+00:00",
          "2023-11-30T02:00:00+00:00",
          "2023-11-30T03:00:00+00:00",
          "2023-11-30T04:00:00+00:00",
          "2023-11-30T05:00:00+00:00",
          "2023-11-30T06:00:00+00:00",
          "2023-11-30T07:00:00+00:00",
          "2023-11-30T08:00:00+00:00",
          "2023-11-30T09:00:00+00:00",
          "2023-11-30T10:00:00+00:00",
          "2023-11-30T11:00:00+00:00",
          "2023-11-30T12:00:00+00:00",
          "2023-11-30T15:00:00+00:00",
          "2023-11-30T16:00:00+00:00",
          "2023-11-30T19:00:00+00:00",
          "2023-11-30T21:00:00+00:00",
          "2023-11-30T22:00:00+00:00",
          "2023-11-30T23:00:00+00:00",
          "2023-12-01T01:00:00+00:00",
          "2023-12-01T03:00:00+00:00",
          "2023-12-01T04:00:00+00:00",
          "2023-12-01T05:00:00+00:00",
          "2023-12-01T06:00:00+00:00",
          "2023-12-01T07:00:00+00:00",
          "2023-12-01T08:00:00+00:00",
          "2023-12-01T09:00:00+00:00",
          "2023-12-01T10:00:00+00:00",
          "2023-12-01T11:00:00+00:00",
          "2023-12-01T12:00:00+00:00",
          "2023-12-01T13:00:00+00:00",
          "2023-12-01T14:00:00+00:00",
          "2023-12-01T15:00:00+00:00",
          "2023-12-01T16:00:00+00:00",
          "2023-12-01T17:00:00+00:00",
          "2023-12-01T18:00:00+00:00",
          "2023-12-01T19:00:00+00:00",
          "2023-12-01T20:00:00+00:00",
          "2023-12-01T21:00:00+00:00",
          "2023-12-03T23:00:00+00:00",
          "2023-12-04T02:00:00+00:00",
          "2023-12-04T03:00:00+00:00",
          "2023-12-04T04:00:00+00:00",
          "2023-12-04T05:00:00+00:00",
          "2023-12-04T06:00:00+00:00",
          "2023-12-04T07:00:00+00:00",
          "2023-12-04T08:00:00+00:00",
          "2023-12-04T10:00:00+00:00",
          "2023-12-04T15:00:00+00:00",
          "2023-12-04T16:00:00+00:00",
          "2023-12-04T17:00:00+00:00",
          "2023-12-04T18:00:00+00:00",
          "2023-12-04T19:00:00+00:00",
          "2023-12-04T21:00:00+00:00",
          "2023-12-04T22:00:00+00:00",
          "2023-12-04T23:00:00+00:00",
          "2023-12-05T00:00:00+00:00",
          "2023-12-05T01:00:00+00:00",
          "2023-12-05T02:00:00+00:00",
          "2023-12-05T03:00:00+00:00",
          "2023-12-05T04:00:00+00:00",
          "2023-12-05T05:00:00+00:00",
          "2023-12-05T06:00:00+00:00",
          "2023-12-05T07:00:00+00:00",
          "2023-12-05T08:00:00+00:00",
          "2023-12-05T09:00:00+00:00",
          "2023-12-05T10:00:00+00:00",
          "2023-12-05T11:00:00+00:00",
          "2023-12-05T13:00:00+00:00",
          "2023-12-05T14:00:00+00:00",
          "2023-12-05T16:00:00+00:00",
          "2023-12-05T17:00:00+00:00",
          "2023-12-05T19:00:00+00:00",
          "2023-12-05T21:00:00+00:00",
          "2023-12-05T23:00:00+00:00",
          "2023-12-06T01:00:00+00:00",
          "2023-12-06T02:00:00+00:00",
          "2023-12-06T03:00:00+00:00",
          "2023-12-06T04:00:00+00:00",
          "2023-12-06T05:00:00+00:00",
          "2023-12-06T06:00:00+00:00",
          "2023-12-06T10:00:00+00:00",
          "2023-12-06T11:00:00+00:00",
          "2023-12-06T12:00:00+00:00",
          "2023-12-06T13:00:00+00:00",
          "2023-12-06T14:00:00+00:00",
          "2023-12-06T15:00:00+00:00",
          "2023-12-06T17:00:00+00:00",
          "2023-12-06T18:00:00+00:00",
          "2023-12-06T19:00:00+00:00",
          "2023-12-06T20:00:00+00:00",
          "2023-12-06T21:00:00+00:00",
          "2023-12-06T22:00:00+00:00",
          "2023-12-06T23:00:00+00:00",
          "2023-12-07T01:00:00+00:00",
          "2023-12-07T06:00:00+00:00",
          "2023-12-07T07:00:00+00:00",
          "2023-12-07T08:00:00+00:00",
          "2023-12-07T09:00:00+00:00",
          "2023-12-07T10:00:00+00:00",
          "2023-12-07T11:00:00+00:00",
          "2023-12-07T12:00:00+00:00",
          "2023-12-07T13:00:00+00:00",
          "2023-12-07T14:00:00+00:00",
          "2023-12-07T15:00:00+00:00",
          "2023-12-07T17:00:00+00:00",
          "2023-12-07T18:00:00+00:00",
          "2023-12-07T22:00:00+00:00",
          "2023-12-07T23:00:00+00:00",
          "2023-12-08T01:00:00+00:00",
          "2023-12-08T02:00:00+00:00",
          "2023-12-08T03:00:00+00:00",
          "2023-12-08T04:00:00+00:00",
          "2023-12-08T05:00:00+00:00",
          "2023-12-08T06:00:00+00:00",
          "2023-12-08T08:00:00+00:00",
          "2023-12-08T09:00:00+00:00",
          "2023-12-08T10:00:00+00:00",
          "2023-12-08T12:00:00+00:00",
          "2023-12-08T13:00:00+00:00",
          "2023-12-08T14:00:00+00:00",
          "2023-12-08T15:00:00+00:00",
          "2023-12-08T16:00:00+00:00",
          "2023-12-08T17:00:00+00:00",
          "2023-12-08T18:00:00+00:00",
          "2023-12-08T19:00:00+00:00",
          "2023-12-08T21:00:00+00:00",
          "2023-12-10T22:00:00+00:00",
          "2023-12-10T23:00:00+00:00",
          "2023-12-11T00:00:00+00:00",
          "2023-12-11T01:00:00+00:00",
          "2023-12-11T02:00:00+00:00",
          "2023-12-11T03:00:00+00:00",
          "2023-12-11T04:00:00+00:00",
          "2023-12-11T06:00:00+00:00",
          "2023-12-11T10:00:00+00:00",
          "2023-12-11T11:00:00+00:00",
          "2023-12-11T12:00:00+00:00",
          "2023-12-11T13:00:00+00:00",
          "2023-12-11T14:00:00+00:00",
          "2023-12-11T15:00:00+00:00",
          "2023-12-11T18:00:00+00:00",
          "2023-12-11T19:00:00+00:00",
          "2023-12-11T20:00:00+00:00",
          "2023-12-11T21:00:00+00:00",
          "2023-12-11T22:00:00+00:00",
          "2023-12-11T23:00:00+00:00",
          "2023-12-12T00:00:00+00:00",
          "2023-12-12T01:00:00+00:00",
          "2023-12-12T02:00:00+00:00",
          "2023-12-12T03:00:00+00:00",
          "2023-12-12T04:00:00+00:00",
          "2023-12-12T06:00:00+00:00",
          "2023-12-12T07:00:00+00:00",
          "2023-12-12T09:00:00+00:00",
          "2023-12-12T11:00:00+00:00",
          "2023-12-12T12:00:00+00:00",
          "2023-12-12T13:00:00+00:00",
          "2023-12-12T14:00:00+00:00",
          "2023-12-12T15:00:00+00:00",
          "2023-12-12T16:00:00+00:00",
          "2023-12-12T17:00:00+00:00",
          "2023-12-12T18:00:00+00:00",
          "2023-12-12T20:00:00+00:00",
          "2023-12-12T21:00:00+00:00",
          "2023-12-12T22:00:00+00:00",
          "2023-12-12T23:00:00+00:00",
          "2023-12-13T00:00:00+00:00",
          "2023-12-13T01:00:00+00:00",
          "2023-12-13T02:00:00+00:00",
          "2023-12-13T04:00:00+00:00",
          "2023-12-13T05:00:00+00:00",
          "2023-12-13T06:00:00+00:00",
          "2023-12-13T07:00:00+00:00",
          "2023-12-13T08:00:00+00:00",
          "2023-12-13T09:00:00+00:00",
          "2023-12-13T10:00:00+00:00",
          "2023-12-13T13:00:00+00:00",
          "2023-12-13T14:00:00+00:00",
          "2023-12-13T15:00:00+00:00",
          "2023-12-13T16:00:00+00:00",
          "2023-12-13T17:00:00+00:00",
          "2023-12-13T19:00:00+00:00",
          "2023-12-13T20:00:00+00:00",
          "2023-12-13T21:00:00+00:00",
          "2023-12-13T22:00:00+00:00",
          "2023-12-14T00:00:00+00:00",
          "2023-12-14T06:00:00+00:00",
          "2023-12-14T07:00:00+00:00",
          "2023-12-14T08:00:00+00:00",
          "2023-12-14T10:00:00+00:00",
          "2023-12-14T11:00:00+00:00",
          "2023-12-14T12:00:00+00:00",
          "2023-12-14T13:00:00+00:00",
          "2023-12-14T14:00:00+00:00",
          "2023-12-14T15:00:00+00:00",
          "2023-12-14T17:00:00+00:00",
          "2023-12-14T18:00:00+00:00",
          "2023-12-14T22:00:00+00:00",
          "2023-12-14T23:00:00+00:00",
          "2023-12-15T00:00:00+00:00",
          "2023-12-15T02:00:00+00:00",
          "2023-12-15T03:00:00+00:00",
          "2023-12-15T05:00:00+00:00",
          "2023-12-15T06:00:00+00:00",
          "2023-12-15T07:00:00+00:00",
          "2023-12-15T08:00:00+00:00",
          "2023-12-15T09:00:00+00:00",
          "2023-12-15T10:00:00+00:00",
          "2023-12-15T13:00:00+00:00",
          "2023-12-15T17:00:00+00:00",
          "2023-12-15T18:00:00+00:00",
          "2023-12-17T22:00:00+00:00",
          "2023-12-18T01:00:00+00:00",
          "2023-12-18T02:00:00+00:00",
          "2023-12-18T03:00:00+00:00",
          "2023-12-18T04:00:00+00:00",
          "2023-12-18T05:00:00+00:00",
          "2023-12-18T06:00:00+00:00",
          "2023-12-18T07:00:00+00:00",
          "2023-12-18T09:00:00+00:00",
          "2023-12-18T11:00:00+00:00",
          "2023-12-18T12:00:00+00:00",
          "2023-12-18T13:00:00+00:00",
          "2023-12-18T14:00:00+00:00",
          "2023-12-18T15:00:00+00:00",
          "2023-12-18T17:00:00+00:00",
          "2023-12-18T20:00:00+00:00",
          "2023-12-18T22:00:00+00:00",
          "2023-12-18T23:00:00+00:00",
          "2023-12-19T00:00:00+00:00",
          "2023-12-19T01:00:00+00:00",
          "2023-12-19T02:00:00+00:00",
          "2023-12-19T03:00:00+00:00",
          "2023-12-19T04:00:00+00:00",
          "2023-12-19T05:00:00+00:00",
          "2023-12-19T07:00:00+00:00",
          "2023-12-19T08:00:00+00:00",
          "2023-12-19T11:00:00+00:00",
          "2023-12-19T12:00:00+00:00",
          "2023-12-19T16:00:00+00:00",
          "2023-12-19T17:00:00+00:00",
          "2023-12-19T19:00:00+00:00",
          "2023-12-19T20:00:00+00:00",
          "2023-12-19T21:00:00+00:00",
          "2023-12-19T23:00:00+00:00",
          "2023-12-20T01:00:00+00:00",
          "2023-12-20T03:00:00+00:00",
          "2023-12-20T04:00:00+00:00",
          "2023-12-20T05:00:00+00:00",
          "2023-12-20T09:00:00+00:00",
          "2023-12-20T11:00:00+00:00",
          "2023-12-20T12:00:00+00:00",
          "2023-12-20T14:00:00+00:00",
          "2023-12-20T17:00:00+00:00",
          "2023-12-20T18:00:00+00:00",
          "2023-12-20T19:00:00+00:00",
          "2023-12-20T20:00:00+00:00",
          "2023-12-20T21:00:00+00:00",
          "2023-12-20T22:00:00+00:00",
          "2023-12-21T00:00:00+00:00",
          "2023-12-21T01:00:00+00:00",
          "2023-12-21T06:00:00+00:00",
          "2023-12-21T07:00:00+00:00",
          "2023-12-21T08:00:00+00:00",
          "2023-12-21T09:00:00+00:00",
          "2023-12-21T10:00:00+00:00",
          "2023-12-21T11:00:00+00:00",
          "2023-12-21T12:00:00+00:00",
          "2023-12-21T13:00:00+00:00",
          "2023-12-21T14:00:00+00:00",
          "2023-12-21T15:00:00+00:00",
          "2023-12-21T16:00:00+00:00",
          "2023-12-21T18:00:00+00:00",
          "2023-12-21T20:00:00+00:00",
          "2023-12-21T23:00:00+00:00",
          "2023-12-22T00:00:00+00:00",
          "2023-12-22T01:00:00+00:00",
          "2023-12-22T02:00:00+00:00",
          "2023-12-22T04:00:00+00:00",
          "2023-12-22T05:00:00+00:00",
          "2023-12-22T06:00:00+00:00",
          "2023-12-22T07:00:00+00:00",
          "2023-12-22T09:00:00+00:00",
          "2023-12-22T10:00:00+00:00",
          "2023-12-22T11:00:00+00:00",
          "2023-12-22T13:00:00+00:00",
          "2023-12-22T14:00:00+00:00",
          "2023-12-22T15:00:00+00:00",
          "2023-12-22T16:00:00+00:00",
          "2023-12-22T17:00:00+00:00",
          "2023-12-22T19:00:00+00:00",
          "2023-12-22T21:00:00+00:00",
          "2023-12-25T18:00:00+00:00",
          "2023-12-25T19:00:00+00:00",
          "2023-12-25T22:00:00+00:00",
          "2023-12-25T23:00:00+00:00",
          "2023-12-26T00:00:00+00:00",
          "2023-12-26T01:00:00+00:00",
          "2023-12-26T03:00:00+00:00",
          "2023-12-26T04:00:00+00:00",
          "2023-12-26T06:00:00+00:00",
          "2023-12-26T09:00:00+00:00",
          "2023-12-26T10:00:00+00:00",
          "2023-12-26T11:00:00+00:00",
          "2023-12-26T12:00:00+00:00",
          "2023-12-26T13:00:00+00:00",
          "2023-12-26T14:00:00+00:00",
          "2023-12-26T15:00:00+00:00",
          "2023-12-26T16:00:00+00:00",
          "2023-12-26T17:00:00+00:00",
          "2023-12-26T18:00:00+00:00",
          "2023-12-26T22:00:00+00:00",
          "2023-12-26T23:00:00+00:00",
          "2023-12-27T01:00:00+00:00",
          "2023-12-27T02:00:00+00:00",
          "2023-12-27T04:00:00+00:00",
          "2023-12-27T06:00:00+00:00",
          "2023-12-27T07:00:00+00:00",
          "2023-12-27T08:00:00+00:00",
          "2023-12-27T09:00:00+00:00",
          "2023-12-27T10:00:00+00:00",
          "2023-12-27T12:00:00+00:00",
          "2023-12-27T13:00:00+00:00",
          "2023-12-27T14:00:00+00:00",
          "2023-12-27T15:00:00+00:00",
          "2023-12-27T16:00:00+00:00",
          "2023-12-27T20:00:00+00:00",
          "2023-12-27T22:00:00+00:00",
          "2023-12-28T02:00:00+00:00",
          "2023-12-28T03:00:00+00:00",
          "2023-12-28T04:00:00+00:00",
          "2023-12-28T06:00:00+00:00",
          "2023-12-28T08:00:00+00:00",
          "2023-12-28T09:00:00+00:00",
          "2023-12-28T11:00:00+00:00",
          "2023-12-28T12:00:00+00:00",
          "2023-12-28T13:00:00+00:00",
          "2023-12-28T14:00:00+00:00",
          "2023-12-28T15:00:00+00:00",
          "2023-12-28T16:00:00+00:00",
          "2023-12-28T17:00:00+00:00",
          "2023-12-28T18:00:00+00:00",
          "2023-12-28T19:00:00+00:00",
          "2023-12-28T20:00:00+00:00",
          "2023-12-28T21:00:00+00:00",
          "2023-12-28T22:00:00+00:00",
          "2023-12-28T23:00:00+00:00",
          "2023-12-29T00:00:00+00:00",
          "2023-12-29T03:00:00+00:00",
          "2023-12-29T04:00:00+00:00",
          "2023-12-29T06:00:00+00:00",
          "2023-12-29T07:00:00+00:00",
          "2023-12-29T08:00:00+00:00",
          "2023-12-29T09:00:00+00:00",
          "2023-12-29T10:00:00+00:00",
          "2023-12-29T11:00:00+00:00",
          "2023-12-29T12:00:00+00:00",
          "2023-12-29T13:00:00+00:00",
          "2023-12-29T14:00:00+00:00",
          "2023-12-29T15:00:00+00:00",
          "2023-12-29T17:00:00+00:00",
          "2023-12-29T18:00:00+00:00",
          "2023-12-29T19:00:00+00:00",
          "2023-12-29T20:00:00+00:00",
          "2023-12-29T21:00:00+00:00",
          "2024-01-01T18:00:00+00:00",
          "2024-01-01T22:00:00+00:00",
          "2024-01-01T23:00:00+00:00",
          "2024-01-02T00:00:00+00:00",
          "2024-01-02T01:00:00+00:00",
          "2024-01-02T02:00:00+00:00",
          "2024-01-02T03:00:00+00:00",
          "2024-01-02T04:00:00+00:00",
          "2024-01-02T05:00:00+00:00",
          "2024-01-02T06:00:00+00:00",
          "2024-01-02T10:00:00+00:00",
          "2024-01-02T13:00:00+00:00",
          "2024-01-02T14:00:00+00:00",
          "2024-01-02T15:00:00+00:00",
          "2024-01-02T16:00:00+00:00",
          "2024-01-02T17:00:00+00:00",
          "2024-01-02T18:00:00+00:00",
          "2024-01-02T19:00:00+00:00",
          "2024-01-02T21:00:00+00:00",
          "2024-01-02T23:00:00+00:00",
          "2024-01-03T00:00:00+00:00",
          "2024-01-03T02:00:00+00:00",
          "2024-01-03T03:00:00+00:00",
          "2024-01-03T04:00:00+00:00",
          "2024-01-03T05:00:00+00:00",
          "2024-01-03T06:00:00+00:00",
          "2024-01-03T08:00:00+00:00",
          "2024-01-03T09:00:00+00:00",
          "2024-01-03T11:00:00+00:00",
          "2024-01-03T12:00:00+00:00",
          "2024-01-03T13:00:00+00:00",
          "2024-01-03T14:00:00+00:00",
          "2024-01-03T16:00:00+00:00",
          "2024-01-03T17:00:00+00:00",
          "2024-01-03T19:00:00+00:00",
          "2024-01-03T21:00:00+00:00",
          "2024-01-03T22:00:00+00:00",
          "2024-01-03T23:00:00+00:00",
          "2024-01-04T01:00:00+00:00",
          "2024-01-04T02:00:00+00:00",
          "2024-01-04T03:00:00+00:00",
          "2024-01-04T05:00:00+00:00",
          "2024-01-04T06:00:00+00:00",
          "2024-01-04T07:00:00+00:00",
          "2024-01-04T08:00:00+00:00",
          "2024-01-04T10:00:00+00:00",
          "2024-01-04T11:00:00+00:00",
          "2024-01-04T12:00:00+00:00",
          "2024-01-04T13:00:00+00:00",
          "2024-01-04T14:00:00+00:00",
          "2024-01-04T15:00:00+00:00",
          "2024-01-04T16:00:00+00:00",
          "2024-01-04T18:00:00+00:00",
          "2024-01-04T19:00:00+00:00",
          "2024-01-04T22:00:00+00:00",
          "2024-01-04T23:00:00+00:00",
          "2024-01-05T01:00:00+00:00",
          "2024-01-05T02:00:00+00:00",
          "2024-01-05T03:00:00+00:00",
          "2024-01-05T04:00:00+00:00",
          "2024-01-05T05:00:00+00:00",
          "2024-01-05T08:00:00+00:00",
          "2024-01-05T09:00:00+00:00",
          "2024-01-05T12:00:00+00:00",
          "2024-01-05T13:00:00+00:00",
          "2024-01-05T14:00:00+00:00",
          "2024-01-05T15:00:00+00:00",
          "2024-01-05T16:00:00+00:00",
          "2024-01-05T17:00:00+00:00",
          "2024-01-05T18:00:00+00:00",
          "2024-01-05T19:00:00+00:00",
          "2024-01-05T21:00:00+00:00",
          "2024-01-08T00:00:00+00:00",
          "2024-01-08T01:00:00+00:00",
          "2024-01-08T02:00:00+00:00",
          "2024-01-08T03:00:00+00:00",
          "2024-01-08T04:00:00+00:00",
          "2024-01-08T05:00:00+00:00",
          "2024-01-08T06:00:00+00:00",
          "2024-01-08T07:00:00+00:00",
          "2024-01-08T08:00:00+00:00",
          "2024-01-08T09:00:00+00:00",
          "2024-01-08T10:00:00+00:00",
          "2024-01-08T11:00:00+00:00",
          "2024-01-08T12:00:00+00:00",
          "2024-01-08T13:00:00+00:00",
          "2024-01-08T14:00:00+00:00",
          "2024-01-08T15:00:00+00:00",
          "2024-01-08T16:00:00+00:00",
          "2024-01-08T17:00:00+00:00",
          "2024-01-08T18:00:00+00:00",
          "2024-01-08T19:00:00+00:00",
          "2024-01-08T20:00:00+00:00",
          "2024-01-08T21:00:00+00:00",
          "2024-01-08T22:00:00+00:00",
          "2024-01-08T23:00:00+00:00",
          "2024-01-09T00:00:00+00:00",
          "2024-01-09T01:00:00+00:00",
          "2024-01-09T02:00:00+00:00",
          "2024-01-09T03:00:00+00:00",
          "2024-01-09T04:00:00+00:00",
          "2024-01-09T05:00:00+00:00",
          "2024-01-09T06:00:00+00:00",
          "2024-01-09T07:00:00+00:00",
          "2024-01-09T08:00:00+00:00",
          "2024-01-09T09:00:00+00:00",
          "2024-01-09T10:00:00+00:00",
          "2024-01-09T11:00:00+00:00",
          "2024-01-09T12:00:00+00:00",
          "2024-01-09T13:00:00+00:00",
          "2024-01-09T14:00:00+00:00",
          "2024-01-09T15:00:00+00:00",
          "2024-01-09T16:00:00+00:00",
          "2024-01-09T17:00:00+00:00",
          "2024-01-09T19:00:00+00:00",
          "2024-01-09T20:00:00+00:00",
          "2024-01-09T21:00:00+00:00",
          "2024-01-09T23:00:00+00:00",
          "2024-01-10T01:00:00+00:00",
          "2024-01-10T02:00:00+00:00",
          "2024-01-10T03:00:00+00:00",
          "2024-01-10T04:00:00+00:00",
          "2024-01-10T05:00:00+00:00",
          "2024-01-10T07:00:00+00:00",
          "2024-01-10T10:00:00+00:00",
          "2024-01-10T11:00:00+00:00",
          "2024-01-10T12:00:00+00:00",
          "2024-01-10T13:00:00+00:00",
          "2024-01-10T14:00:00+00:00",
          "2024-01-10T17:00:00+00:00",
          "2024-01-10T18:00:00+00:00",
          "2024-01-10T19:00:00+00:00",
          "2024-01-10T22:00:00+00:00",
          "2024-01-11T01:00:00+00:00",
          "2024-01-11T02:00:00+00:00",
          "2024-01-11T03:00:00+00:00",
          "2024-01-11T04:00:00+00:00",
          "2024-01-11T05:00:00+00:00",
          "2024-01-11T06:00:00+00:00",
          "2024-01-11T07:00:00+00:00",
          "2024-01-11T09:00:00+00:00",
          "2024-01-11T10:00:00+00:00",
          "2024-01-11T11:00:00+00:00",
          "2024-01-11T12:00:00+00:00",
          "2024-01-11T13:00:00+00:00",
          "2024-01-11T14:00:00+00:00",
          "2024-01-11T15:00:00+00:00",
          "2024-01-11T16:00:00+00:00",
          "2024-01-11T17:00:00+00:00",
          "2024-01-11T18:00:00+00:00",
          "2024-01-11T22:00:00+00:00",
          "2024-01-11T23:00:00+00:00",
          "2024-01-12T00:00:00+00:00",
          "2024-01-12T01:00:00+00:00",
          "2024-01-12T02:00:00+00:00",
          "2024-01-12T03:00:00+00:00",
          "2024-01-12T04:00:00+00:00",
          "2024-01-12T05:00:00+00:00",
          "2024-01-12T07:00:00+00:00",
          "2024-01-12T08:00:00+00:00",
          "2024-01-12T09:00:00+00:00",
          "2024-01-12T10:00:00+00:00",
          "2024-01-12T11:00:00+00:00",
          "2024-01-12T12:00:00+00:00",
          "2024-01-12T13:00:00+00:00",
          "2024-01-12T14:00:00+00:00",
          "2024-01-12T16:00:00+00:00",
          "2024-01-12T17:00:00+00:00",
          "2024-01-12T18:00:00+00:00",
          "2024-01-12T19:00:00+00:00",
          "2024-01-12T21:00:00+00:00",
          "2024-01-14T22:00:00+00:00",
          "2024-01-14T23:00:00+00:00",
          "2024-01-15T01:00:00+00:00",
          "2024-01-15T02:00:00+00:00",
          "2024-01-15T03:00:00+00:00",
          "2024-01-15T04:00:00+00:00",
          "2024-01-15T05:00:00+00:00",
          "2024-01-15T06:00:00+00:00",
          "2024-01-15T07:00:00+00:00",
          "2024-01-15T09:00:00+00:00",
          "2024-01-15T10:00:00+00:00",
          "2024-01-15T12:00:00+00:00",
          "2024-01-15T17:00:00+00:00",
          "2024-01-15T19:00:00+00:00",
          "2024-01-15T20:00:00+00:00",
          "2024-01-15T21:00:00+00:00",
          "2024-01-15T22:00:00+00:00",
          "2024-01-16T00:00:00+00:00",
          "2024-01-16T01:00:00+00:00",
          "2024-01-16T02:00:00+00:00",
          "2024-01-16T03:00:00+00:00",
          "2024-01-16T04:00:00+00:00",
          "2024-01-16T08:00:00+00:00",
          "2024-01-16T10:00:00+00:00",
          "2024-01-16T11:00:00+00:00",
          "2024-01-16T12:00:00+00:00",
          "2024-01-16T13:00:00+00:00",
          "2024-01-16T14:00:00+00:00",
          "2024-01-16T15:00:00+00:00",
          "2024-01-16T16:00:00+00:00",
          "2024-01-16T17:00:00+00:00",
          "2024-01-16T18:00:00+00:00",
          "2024-01-16T19:00:00+00:00",
          "2024-01-16T20:00:00+00:00",
          "2024-01-16T23:00:00+00:00",
          "2024-01-17T00:00:00+00:00",
          "2024-01-17T01:00:00+00:00",
          "2024-01-17T03:00:00+00:00",
          "2024-01-17T04:00:00+00:00",
          "2024-01-17T05:00:00+00:00",
          "2024-01-17T06:00:00+00:00",
          "2024-01-17T07:00:00+00:00",
          "2024-01-17T08:00:00+00:00",
          "2024-01-17T09:00:00+00:00",
          "2024-01-17T13:00:00+00:00",
          "2024-01-17T14:00:00+00:00",
          "2024-01-17T16:00:00+00:00",
          "2024-01-17T17:00:00+00:00",
          "2024-01-17T19:00:00+00:00",
          "2024-01-17T21:00:00+00:00",
          "2024-01-17T22:00:00+00:00",
          "2024-01-17T23:00:00+00:00",
          "2024-01-18T00:00:00+00:00",
          "2024-01-18T01:00:00+00:00",
          "2024-01-18T02:00:00+00:00",
          "2024-01-18T03:00:00+00:00",
          "2024-01-18T04:00:00+00:00",
          "2024-01-18T05:00:00+00:00",
          "2024-01-18T06:00:00+00:00",
          "2024-01-18T07:00:00+00:00",
          "2024-01-18T08:00:00+00:00",
          "2024-01-18T09:00:00+00:00",
          "2024-01-18T10:00:00+00:00",
          "2024-01-18T11:00:00+00:00",
          "2024-01-18T12:00:00+00:00",
          "2024-01-18T13:00:00+00:00",
          "2024-01-18T14:00:00+00:00",
          "2024-01-18T15:00:00+00:00",
          "2024-01-18T17:00:00+00:00",
          "2024-01-18T18:00:00+00:00",
          "2024-01-18T21:00:00+00:00",
          "2024-01-18T22:00:00+00:00",
          "2024-01-18T23:00:00+00:00",
          "2024-01-19T00:00:00+00:00",
          "2024-01-19T01:00:00+00:00",
          "2024-01-19T02:00:00+00:00",
          "2024-01-19T03:00:00+00:00",
          "2024-01-19T04:00:00+00:00",
          "2024-01-19T05:00:00+00:00",
          "2024-01-19T06:00:00+00:00",
          "2024-01-19T07:00:00+00:00",
          "2024-01-19T08:00:00+00:00",
          "2024-01-19T09:00:00+00:00",
          "2024-01-19T10:00:00+00:00",
          "2024-01-19T11:00:00+00:00",
          "2024-01-19T12:00:00+00:00",
          "2024-01-19T13:00:00+00:00",
          "2024-01-19T17:00:00+00:00",
          "2024-01-19T18:00:00+00:00",
          "2024-01-19T19:00:00+00:00",
          "2024-01-19T20:00:00+00:00",
          "2024-01-19T21:00:00+00:00",
          "2024-01-21T22:00:00+00:00",
          "2024-01-21T23:00:00+00:00",
          "2024-01-22T00:00:00+00:00",
          "2024-01-22T01:00:00+00:00",
          "2024-01-22T02:00:00+00:00",
          "2024-01-22T04:00:00+00:00",
          "2024-01-22T05:00:00+00:00",
          "2024-01-22T06:00:00+00:00",
          "2024-01-22T07:00:00+00:00",
          "2024-01-22T08:00:00+00:00",
          "2024-01-22T09:00:00+00:00",
          "2024-01-22T10:00:00+00:00",
          "2024-01-22T11:00:00+00:00",
          "2024-01-22T12:00:00+00:00",
          "2024-01-22T13:00:00+00:00",
          "2024-01-22T14:00:00+00:00",
          "2024-01-22T15:00:00+00:00",
          "2024-01-22T16:00:00+00:00",
          "2024-01-22T17:00:00+00:00",
          "2024-01-22T18:00:00+00:00",
          "2024-01-22T19:00:00+00:00",
          "2024-01-22T20:00:00+00:00",
          "2024-01-22T21:00:00+00:00",
          "2024-01-22T23:00:00+00:00",
          "2024-01-23T00:00:00+00:00",
          "2024-01-23T01:00:00+00:00",
          "2024-01-23T03:00:00+00:00",
          "2024-01-23T05:00:00+00:00",
          "2024-01-23T06:00:00+00:00",
          "2024-01-23T07:00:00+00:00",
          "2024-01-23T08:00:00+00:00",
          "2024-01-23T09:00:00+00:00",
          "2024-01-23T11:00:00+00:00",
          "2024-01-23T12:00:00+00:00",
          "2024-01-23T13:00:00+00:00",
          "2024-01-23T14:00:00+00:00",
          "2024-01-23T15:00:00+00:00",
          "2024-01-23T16:00:00+00:00",
          "2024-01-23T17:00:00+00:00",
          "2024-01-23T18:00:00+00:00",
          "2024-01-23T19:00:00+00:00",
          "2024-01-23T22:00:00+00:00",
          "2024-01-23T23:00:00+00:00",
          "2024-01-24T00:00:00+00:00",
          "2024-01-24T02:00:00+00:00",
          "2024-01-24T03:00:00+00:00",
          "2024-01-24T04:00:00+00:00",
          "2024-01-24T06:00:00+00:00",
          "2024-01-24T07:00:00+00:00",
          "2024-01-24T11:00:00+00:00",
          "2024-01-24T12:00:00+00:00",
          "2024-01-24T17:00:00+00:00",
          "2024-01-24T18:00:00+00:00",
          "2024-01-24T19:00:00+00:00",
          "2024-01-24T21:00:00+00:00",
          "2024-01-24T22:00:00+00:00",
          "2024-01-24T23:00:00+00:00",
          "2024-01-25T00:00:00+00:00",
          "2024-01-25T01:00:00+00:00",
          "2024-01-25T02:00:00+00:00",
          "2024-01-25T04:00:00+00:00",
          "2024-01-25T05:00:00+00:00",
          "2024-01-25T06:00:00+00:00",
          "2024-01-25T07:00:00+00:00",
          "2024-01-25T09:00:00+00:00",
          "2024-01-25T10:00:00+00:00",
          "2024-01-25T11:00:00+00:00",
          "2024-01-25T12:00:00+00:00",
          "2024-01-25T13:00:00+00:00",
          "2024-01-25T14:00:00+00:00",
          "2024-01-25T15:00:00+00:00",
          "2024-01-25T16:00:00+00:00",
          "2024-01-25T17:00:00+00:00",
          "2024-01-25T18:00:00+00:00",
          "2024-01-25T19:00:00+00:00",
          "2024-01-25T21:00:00+00:00",
          "2024-01-25T23:00:00+00:00",
          "2024-01-26T01:00:00+00:00",
          "2024-01-26T02:00:00+00:00",
          "2024-01-26T03:00:00+00:00",
          "2024-01-26T04:00:00+00:00",
          "2024-01-26T05:00:00+00:00",
          "2024-01-26T06:00:00+00:00",
          "2024-01-26T07:00:00+00:00",
          "2024-01-26T08:00:00+00:00",
          "2024-01-26T09:00:00+00:00",
          "2024-01-26T10:00:00+00:00",
          "2024-01-26T11:00:00+00:00",
          "2024-01-26T15:00:00+00:00",
          "2024-01-26T19:00:00+00:00",
          "2024-01-26T21:00:00+00:00",
          "2024-01-28T22:00:00+00:00",
          "2024-01-28T23:00:00+00:00",
          "2024-01-29T00:00:00+00:00",
          "2024-01-29T02:00:00+00:00",
          "2024-01-29T04:00:00+00:00",
          "2024-01-29T05:00:00+00:00",
          "2024-01-29T06:00:00+00:00",
          "2024-01-29T07:00:00+00:00",
          "2024-01-29T08:00:00+00:00",
          "2024-01-29T11:00:00+00:00",
          "2024-01-29T14:00:00+00:00",
          "2024-01-29T16:00:00+00:00",
          "2024-01-29T18:00:00+00:00",
          "2024-01-29T19:00:00+00:00",
          "2024-01-29T20:00:00+00:00",
          "2024-01-29T23:00:00+00:00",
          "2024-01-30T00:00:00+00:00",
          "2024-01-30T02:00:00+00:00",
          "2024-01-30T03:00:00+00:00",
          "2024-01-30T05:00:00+00:00",
          "2024-01-30T07:00:00+00:00",
          "2024-01-30T08:00:00+00:00",
          "2024-01-30T09:00:00+00:00",
          "2024-01-30T11:00:00+00:00",
          "2024-01-30T12:00:00+00:00",
          "2024-01-30T13:00:00+00:00",
          "2024-01-30T14:00:00+00:00",
          "2024-01-30T15:00:00+00:00",
          "2024-01-30T16:00:00+00:00",
          "2024-01-30T17:00:00+00:00",
          "2024-01-30T18:00:00+00:00",
          "2024-01-30T19:00:00+00:00",
          "2024-01-30T20:00:00+00:00",
          "2024-01-30T21:00:00+00:00",
          "2024-01-30T22:00:00+00:00",
          "2024-01-30T23:00:00+00:00",
          "2024-01-31T00:00:00+00:00",
          "2024-01-31T02:00:00+00:00",
          "2024-01-31T03:00:00+00:00",
          "2024-01-31T04:00:00+00:00",
          "2024-01-31T05:00:00+00:00",
          "2024-01-31T06:00:00+00:00",
          "2024-01-31T07:00:00+00:00",
          "2024-01-31T08:00:00+00:00",
          "2024-01-31T09:00:00+00:00",
          "2024-01-31T10:00:00+00:00",
          "2024-01-31T11:00:00+00:00",
          "2024-01-31T12:00:00+00:00",
          "2024-01-31T13:00:00+00:00",
          "2024-01-31T14:00:00+00:00",
          "2024-01-31T15:00:00+00:00",
          "2024-01-31T16:00:00+00:00",
          "2024-01-31T17:00:00+00:00",
          "2024-01-31T18:00:00+00:00",
          "2024-01-31T19:00:00+00:00",
          "2024-01-31T21:00:00+00:00",
          "2024-01-31T22:00:00+00:00",
          "2024-01-31T23:00:00+00:00",
          "2024-02-01T00:00:00+00:00",
          "2024-02-01T01:00:00+00:00",
          "2024-02-01T02:00:00+00:00",
          "2024-02-01T03:00:00+00:00",
          "2024-02-01T04:00:00+00:00",
          "2024-02-01T05:00:00+00:00",
          "2024-02-01T07:00:00+00:00",
          "2024-02-01T08:00:00+00:00",
          "2024-02-01T09:00:00+00:00",
          "2024-02-01T10:00:00+00:00",
          "2024-02-01T11:00:00+00:00",
          "2024-02-01T12:00:00+00:00",
          "2024-02-01T14:00:00+00:00",
          "2024-02-01T15:00:00+00:00",
          "2024-02-01T16:00:00+00:00",
          "2024-02-01T17:00:00+00:00",
          "2024-02-01T18:00:00+00:00",
          "2024-02-01T19:00:00+00:00",
          "2024-02-01T20:00:00+00:00",
          "2024-02-01T21:00:00+00:00",
          "2024-02-02T01:00:00+00:00",
          "2024-02-02T04:00:00+00:00",
          "2024-02-02T05:00:00+00:00",
          "2024-02-02T07:00:00+00:00",
          "2024-02-02T08:00:00+00:00",
          "2024-02-02T09:00:00+00:00",
          "2024-02-02T10:00:00+00:00",
          "2024-02-02T11:00:00+00:00",
          "2024-02-02T12:00:00+00:00",
          "2024-02-02T13:00:00+00:00",
          "2024-02-02T14:00:00+00:00",
          "2024-02-02T15:00:00+00:00",
          "2024-02-02T16:00:00+00:00",
          "2024-02-02T18:00:00+00:00",
          "2024-02-04T22:00:00+00:00",
          "2024-02-05T03:00:00+00:00",
          "2024-02-05T04:00:00+00:00",
          "2024-02-05T05:00:00+00:00",
          "2024-02-05T06:00:00+00:00",
          "2024-02-05T07:00:00+00:00",
          "2024-02-05T08:00:00+00:00",
          "2024-02-05T09:00:00+00:00",
          "2024-02-05T10:00:00+00:00",
          "2024-02-05T12:00:00+00:00",
          "2024-02-05T13:00:00+00:00",
          "2024-02-05T14:00:00+00:00",
          "2024-02-05T15:00:00+00:00",
          "2024-02-05T16:00:00+00:00",
          "2024-02-05T17:00:00+00:00",
          "2024-02-05T18:00:00+00:00",
          "2024-02-05T19:00:00+00:00",
          "2024-02-05T22:00:00+00:00",
          "2024-02-05T23:00:00+00:00",
          "2024-02-06T00:00:00+00:00",
          "2024-02-06T01:00:00+00:00",
          "2024-02-06T03:00:00+00:00",
          "2024-02-06T04:00:00+00:00",
          "2024-02-06T05:00:00+00:00",
          "2024-02-06T06:00:00+00:00",
          "2024-02-06T07:00:00+00:00",
          "2024-02-06T10:00:00+00:00",
          "2024-02-06T11:00:00+00:00",
          "2024-02-06T12:00:00+00:00",
          "2024-02-06T13:00:00+00:00",
          "2024-02-06T15:00:00+00:00",
          "2024-02-06T16:00:00+00:00",
          "2024-02-06T18:00:00+00:00",
          "2024-02-06T19:00:00+00:00",
          "2024-02-06T20:00:00+00:00",
          "2024-02-06T22:00:00+00:00",
          "2024-02-06T23:00:00+00:00",
          "2024-02-07T00:00:00+00:00",
          "2024-02-07T03:00:00+00:00",
          "2024-02-07T04:00:00+00:00",
          "2024-02-07T05:00:00+00:00",
          "2024-02-07T06:00:00+00:00",
          "2024-02-07T08:00:00+00:00",
          "2024-02-07T09:00:00+00:00",
          "2024-02-07T10:00:00+00:00",
          "2024-02-07T11:00:00+00:00",
          "2024-02-07T12:00:00+00:00",
          "2024-02-07T14:00:00+00:00",
          "2024-02-07T15:00:00+00:00",
          "2024-02-07T18:00:00+00:00",
          "2024-02-07T19:00:00+00:00",
          "2024-02-07T22:00:00+00:00",
          "2024-02-07T23:00:00+00:00",
          "2024-02-08T00:00:00+00:00",
          "2024-02-08T01:00:00+00:00",
          "2024-02-08T02:00:00+00:00",
          "2024-02-08T04:00:00+00:00",
          "2024-02-08T05:00:00+00:00",
          "2024-02-08T06:00:00+00:00",
          "2024-02-08T07:00:00+00:00",
          "2024-02-08T09:00:00+00:00",
          "2024-02-08T10:00:00+00:00",
          "2024-02-08T11:00:00+00:00",
          "2024-02-08T12:00:00+00:00",
          "2024-02-08T13:00:00+00:00",
          "2024-02-08T14:00:00+00:00",
          "2024-02-08T15:00:00+00:00",
          "2024-02-08T17:00:00+00:00",
          "2024-02-08T19:00:00+00:00",
          "2024-02-08T21:00:00+00:00",
          "2024-02-08T22:00:00+00:00",
          "2024-02-08T23:00:00+00:00",
          "2024-02-09T00:00:00+00:00",
          "2024-02-09T01:00:00+00:00",
          "2024-02-09T02:00:00+00:00",
          "2024-02-09T03:00:00+00:00",
          "2024-02-09T05:00:00+00:00",
          "2024-02-09T06:00:00+00:00",
          "2024-02-09T07:00:00+00:00",
          "2024-02-09T10:00:00+00:00",
          "2024-02-09T11:00:00+00:00",
          "2024-02-09T13:00:00+00:00",
          "2024-02-09T14:00:00+00:00",
          "2024-02-09T15:00:00+00:00",
          "2024-02-09T17:00:00+00:00",
          "2024-02-09T18:00:00+00:00",
          "2024-02-09T19:00:00+00:00",
          "2024-02-09T20:00:00+00:00",
          "2024-02-11T22:00:00+00:00",
          "2024-02-11T23:00:00+00:00",
          "2024-02-12T00:00:00+00:00",
          "2024-02-12T02:00:00+00:00",
          "2024-02-12T03:00:00+00:00",
          "2024-02-12T04:00:00+00:00",
          "2024-02-12T05:00:00+00:00",
          "2024-02-12T08:00:00+00:00",
          "2024-02-12T09:00:00+00:00",
          "2024-02-12T10:00:00+00:00",
          "2024-02-12T12:00:00+00:00",
          "2024-02-12T14:00:00+00:00",
          "2024-02-12T15:00:00+00:00",
          "2024-02-12T16:00:00+00:00",
          "2024-02-12T17:00:00+00:00",
          "2024-02-12T18:00:00+00:00",
          "2024-02-12T19:00:00+00:00",
          "2024-02-12T20:00:00+00:00",
          "2024-02-12T21:00:00+00:00",
          "2024-02-12T23:00:00+00:00",
          "2024-02-13T00:00:00+00:00",
          "2024-02-13T01:00:00+00:00",
          "2024-02-13T02:00:00+00:00",
          "2024-02-13T03:00:00+00:00",
          "2024-02-13T04:00:00+00:00",
          "2024-02-13T05:00:00+00:00",
          "2024-02-13T06:00:00+00:00",
          "2024-02-13T07:00:00+00:00",
          "2024-02-13T08:00:00+00:00",
          "2024-02-13T09:00:00+00:00",
          "2024-02-13T11:00:00+00:00",
          "2024-02-13T12:00:00+00:00",
          "2024-02-13T13:00:00+00:00",
          "2024-02-13T17:00:00+00:00",
          "2024-02-13T18:00:00+00:00",
          "2024-02-13T20:00:00+00:00",
          "2024-02-13T21:00:00+00:00",
          "2024-02-13T22:00:00+00:00",
          "2024-02-13T23:00:00+00:00",
          "2024-02-14T01:00:00+00:00",
          "2024-02-14T02:00:00+00:00",
          "2024-02-14T03:00:00+00:00",
          "2024-02-14T04:00:00+00:00",
          "2024-02-14T05:00:00+00:00",
          "2024-02-14T06:00:00+00:00",
          "2024-02-14T08:00:00+00:00",
          "2024-02-14T09:00:00+00:00",
          "2024-02-14T10:00:00+00:00",
          "2024-02-14T11:00:00+00:00",
          "2024-02-14T12:00:00+00:00",
          "2024-02-14T14:00:00+00:00",
          "2024-02-14T15:00:00+00:00",
          "2024-02-14T16:00:00+00:00",
          "2024-02-14T17:00:00+00:00",
          "2024-02-14T18:00:00+00:00",
          "2024-02-14T19:00:00+00:00",
          "2024-02-14T20:00:00+00:00",
          "2024-02-14T21:00:00+00:00",
          "2024-02-14T22:00:00+00:00",
          "2024-02-14T23:00:00+00:00",
          "2024-02-15T00:00:00+00:00",
          "2024-02-15T01:00:00+00:00",
          "2024-02-15T02:00:00+00:00",
          "2024-02-15T03:00:00+00:00",
          "2024-02-15T04:00:00+00:00",
          "2024-02-15T05:00:00+00:00",
          "2024-02-15T07:00:00+00:00",
          "2024-02-15T08:00:00+00:00",
          "2024-02-15T09:00:00+00:00",
          "2024-02-15T11:00:00+00:00",
          "2024-02-15T12:00:00+00:00",
          "2024-02-15T14:00:00+00:00",
          "2024-02-15T15:00:00+00:00",
          "2024-02-15T16:00:00+00:00",
          "2024-02-15T18:00:00+00:00",
          "2024-02-15T19:00:00+00:00",
          "2024-02-15T20:00:00+00:00",
          "2024-02-15T22:00:00+00:00",
          "2024-02-16T01:00:00+00:00",
          "2024-02-16T02:00:00+00:00",
          "2024-02-16T04:00:00+00:00",
          "2024-02-16T05:00:00+00:00",
          "2024-02-16T06:00:00+00:00",
          "2024-02-16T08:00:00+00:00",
          "2024-02-16T09:00:00+00:00",
          "2024-02-16T10:00:00+00:00",
          "2024-02-16T11:00:00+00:00",
          "2024-02-16T12:00:00+00:00",
          "2024-02-16T14:00:00+00:00",
          "2024-02-16T16:00:00+00:00",
          "2024-02-16T17:00:00+00:00",
          "2024-02-16T18:00:00+00:00",
          "2024-02-16T19:00:00+00:00",
          "2024-02-16T21:00:00+00:00",
          "2024-02-18T22:00:00+00:00",
          "2024-02-18T23:00:00+00:00",
          "2024-02-19T02:00:00+00:00",
          "2024-02-19T03:00:00+00:00",
          "2024-02-19T04:00:00+00:00",
          "2024-02-19T07:00:00+00:00",
          "2024-02-19T09:00:00+00:00",
          "2024-02-19T11:00:00+00:00",
          "2024-02-19T12:00:00+00:00",
          "2024-02-19T13:00:00+00:00",
          "2024-02-19T14:00:00+00:00",
          "2024-02-19T15:00:00+00:00",
          "2024-02-19T16:00:00+00:00",
          "2024-02-19T17:00:00+00:00",
          "2024-02-19T18:00:00+00:00",
          "2024-02-19T19:00:00+00:00",
          "2024-02-19T20:00:00+00:00",
          "2024-02-19T21:00:00+00:00",
          "2024-02-19T22:00:00+00:00",
          "2024-02-19T23:00:00+00:00",
          "2024-02-20T00:00:00+00:00",
          "2024-02-20T01:00:00+00:00",
          "2024-02-20T02:00:00+00:00",
          "2024-02-20T03:00:00+00:00",
          "2024-02-20T04:00:00+00:00",
          "2024-02-20T05:00:00+00:00",
          "2024-02-20T06:00:00+00:00",
          "2024-02-20T07:00:00+00:00",
          "2024-02-20T08:00:00+00:00",
          "2024-02-20T09:00:00+00:00",
          "2024-02-20T10:00:00+00:00",
          "2024-02-20T11:00:00+00:00",
          "2024-02-20T13:00:00+00:00",
          "2024-02-20T14:00:00+00:00",
          "2024-02-20T17:00:00+00:00",
          "2024-02-20T18:00:00+00:00",
          "2024-02-20T19:00:00+00:00",
          "2024-02-20T20:00:00+00:00",
          "2024-02-20T21:00:00+00:00",
          "2024-02-20T23:00:00+00:00",
          "2024-02-21T00:00:00+00:00",
          "2024-02-21T01:00:00+00:00",
          "2024-02-21T03:00:00+00:00",
          "2024-02-21T04:00:00+00:00",
          "2024-02-21T05:00:00+00:00",
          "2024-02-21T06:00:00+00:00",
          "2024-02-21T07:00:00+00:00",
          "2024-02-21T08:00:00+00:00",
          "2024-02-21T10:00:00+00:00",
          "2024-02-21T11:00:00+00:00",
          "2024-02-21T13:00:00+00:00",
          "2024-02-21T14:00:00+00:00",
          "2024-02-21T15:00:00+00:00",
          "2024-02-21T16:00:00+00:00",
          "2024-02-21T17:00:00+00:00",
          "2024-02-21T18:00:00+00:00",
          "2024-02-21T19:00:00+00:00",
          "2024-02-21T20:00:00+00:00",
          "2024-02-21T21:00:00+00:00",
          "2024-02-21T22:00:00+00:00",
          "2024-02-21T23:00:00+00:00",
          "2024-02-22T00:00:00+00:00",
          "2024-02-22T01:00:00+00:00",
          "2024-02-22T02:00:00+00:00",
          "2024-02-22T03:00:00+00:00",
          "2024-02-22T04:00:00+00:00",
          "2024-02-22T05:00:00+00:00",
          "2024-02-22T06:00:00+00:00",
          "2024-02-22T08:00:00+00:00",
          "2024-02-22T10:00:00+00:00",
          "2024-02-22T11:00:00+00:00",
          "2024-02-22T12:00:00+00:00",
          "2024-02-22T14:00:00+00:00",
          "2024-02-22T15:00:00+00:00",
          "2024-02-22T16:00:00+00:00",
          "2024-02-22T17:00:00+00:00",
          "2024-02-22T18:00:00+00:00",
          "2024-02-22T19:00:00+00:00",
          "2024-02-22T20:00:00+00:00",
          "2024-02-22T21:00:00+00:00",
          "2024-02-22T22:00:00+00:00",
          "2024-02-23T00:00:00+00:00",
          "2024-02-23T01:00:00+00:00",
          "2024-02-23T02:00:00+00:00",
          "2024-02-23T03:00:00+00:00",
          "2024-02-23T04:00:00+00:00",
          "2024-02-23T05:00:00+00:00",
          "2024-02-23T06:00:00+00:00",
          "2024-02-23T07:00:00+00:00",
          "2024-02-23T08:00:00+00:00",
          "2024-02-23T10:00:00+00:00",
          "2024-02-23T11:00:00+00:00",
          "2024-02-23T12:00:00+00:00",
          "2024-02-23T13:00:00+00:00",
          "2024-02-23T14:00:00+00:00",
          "2024-02-23T15:00:00+00:00",
          "2024-02-23T16:00:00+00:00",
          "2024-02-23T18:00:00+00:00",
          "2024-02-23T19:00:00+00:00",
          "2024-02-23T20:00:00+00:00",
          "2024-02-23T21:00:00+00:00",
          "2024-02-25T22:00:00+00:00",
          "2024-02-25T23:00:00+00:00",
          "2024-02-26T00:00:00+00:00",
          "2024-02-26T01:00:00+00:00",
          "2024-02-26T02:00:00+00:00",
          "2024-02-26T06:00:00+00:00",
          "2024-02-26T07:00:00+00:00",
          "2024-02-26T08:00:00+00:00",
          "2024-02-26T09:00:00+00:00",
          "2024-02-26T10:00:00+00:00",
          "2024-02-26T11:00:00+00:00",
          "2024-02-26T13:00:00+00:00",
          "2024-02-26T15:00:00+00:00",
          "2024-02-26T17:00:00+00:00",
          "2024-02-26T19:00:00+00:00",
          "2024-02-26T20:00:00+00:00",
          "2024-02-26T21:00:00+00:00",
          "2024-02-26T23:00:00+00:00",
          "2024-02-27T00:00:00+00:00",
          "2024-02-27T01:00:00+00:00",
          "2024-02-27T02:00:00+00:00",
          "2024-02-27T03:00:00+00:00",
          "2024-02-27T04:00:00+00:00",
          "2024-02-27T05:00:00+00:00",
          "2024-02-27T06:00:00+00:00",
          "2024-02-27T07:00:00+00:00",
          "2024-02-27T11:00:00+00:00",
          "2024-02-27T12:00:00+00:00",
          "2024-02-27T13:00:00+00:00",
          "2024-02-27T15:00:00+00:00",
          "2024-02-27T16:00:00+00:00",
          "2024-02-27T17:00:00+00:00",
          "2024-02-27T18:00:00+00:00",
          "2024-02-27T19:00:00+00:00",
          "2024-02-27T20:00:00+00:00",
          "2024-02-27T21:00:00+00:00",
          "2024-02-27T22:00:00+00:00",
          "2024-02-28T00:00:00+00:00",
          "2024-02-28T01:00:00+00:00",
          "2024-02-28T02:00:00+00:00",
          "2024-02-28T05:00:00+00:00",
          "2024-02-28T06:00:00+00:00",
          "2024-02-28T08:00:00+00:00",
          "2024-02-28T09:00:00+00:00",
          "2024-02-28T11:00:00+00:00",
          "2024-02-28T13:00:00+00:00",
          "2024-02-28T16:00:00+00:00",
          "2024-02-28T17:00:00+00:00",
          "2024-02-28T18:00:00+00:00",
          "2024-02-28T19:00:00+00:00",
          "2024-02-28T20:00:00+00:00",
          "2024-02-28T22:00:00+00:00",
          "2024-02-28T23:00:00+00:00",
          "2024-02-29T00:00:00+00:00",
          "2024-02-29T01:00:00+00:00",
          "2024-02-29T02:00:00+00:00",
          "2024-02-29T04:00:00+00:00",
          "2024-02-29T05:00:00+00:00",
          "2024-02-29T06:00:00+00:00",
          "2024-02-29T08:00:00+00:00",
          "2024-02-29T09:00:00+00:00",
          "2024-02-29T10:00:00+00:00",
          "2024-02-29T11:00:00+00:00",
          "2024-02-29T12:00:00+00:00",
          "2024-02-29T13:00:00+00:00",
          "2024-02-29T16:00:00+00:00",
          "2024-02-29T17:00:00+00:00",
          "2024-02-29T18:00:00+00:00",
          "2024-02-29T19:00:00+00:00",
          "2024-02-29T20:00:00+00:00",
          "2024-02-29T21:00:00+00:00",
          "2024-02-29T22:00:00+00:00",
          "2024-02-29T23:00:00+00:00",
          "2024-03-01T01:00:00+00:00",
          "2024-03-01T02:00:00+00:00",
          "2024-03-01T03:00:00+00:00",
          "2024-03-01T04:00:00+00:00",
          "2024-03-01T05:00:00+00:00",
          "2024-03-01T06:00:00+00:00",
          "2024-03-01T07:00:00+00:00",
          "2024-03-01T10:00:00+00:00",
          "2024-03-01T12:00:00+00:00",
          "2024-03-01T13:00:00+00:00",
          "2024-03-01T14:00:00+00:00",
          "2024-03-01T15:00:00+00:00",
          "2024-03-01T16:00:00+00:00",
          "2024-03-01T17:00:00+00:00",
          "2024-03-01T18:00:00+00:00",
          "2024-03-01T19:00:00+00:00",
          "2024-03-01T20:00:00+00:00",
          "2024-03-01T21:00:00+00:00",
          "2024-03-03T22:00:00+00:00",
          "2024-03-03T23:00:00+00:00",
          "2024-03-04T00:00:00+00:00",
          "2024-03-04T01:00:00+00:00",
          "2024-03-04T03:00:00+00:00",
          "2024-03-04T04:00:00+00:00",
          "2024-03-04T05:00:00+00:00",
          "2024-03-04T06:00:00+00:00",
          "2024-03-04T09:00:00+00:00",
          "2024-03-04T10:00:00+00:00",
          "2024-03-04T11:00:00+00:00",
          "2024-03-04T12:00:00+00:00",
          "2024-03-04T14:00:00+00:00",
          "2024-03-04T15:00:00+00:00",
          "2024-03-04T16:00:00+00:00",
          "2024-03-04T18:00:00+00:00",
          "2024-03-04T20:00:00+00:00",
          "2024-03-04T21:00:00+00:00",
          "2024-03-04T22:00:00+00:00",
          "2024-03-05T00:00:00+00:00",
          "2024-03-05T01:00:00+00:00",
          "2024-03-05T02:00:00+00:00",
          "2024-03-05T03:00:00+00:00",
          "2024-03-05T04:00:00+00:00",
          "2024-03-05T05:00:00+00:00",
          "2024-03-05T06:00:00+00:00",
          "2024-03-05T07:00:00+00:00",
          "2024-03-05T08:00:00+00:00",
          "2024-03-05T11:00:00+00:00",
          "2024-03-05T14:00:00+00:00",
          "2024-03-05T15:00:00+00:00",
          "2024-03-05T16:00:00+00:00",
          "2024-03-05T17:00:00+00:00",
          "2024-03-05T18:00:00+00:00",
          "2024-03-05T19:00:00+00:00",
          "2024-03-05T20:00:00+00:00",
          "2024-03-05T21:00:00+00:00",
          "2024-03-05T23:00:00+00:00",
          "2024-03-06T00:00:00+00:00",
          "2024-03-06T01:00:00+00:00",
          "2024-03-06T02:00:00+00:00",
          "2024-03-06T03:00:00+00:00",
          "2024-03-06T04:00:00+00:00",
          "2024-03-06T05:00:00+00:00",
          "2024-03-06T06:00:00+00:00",
          "2024-03-06T07:00:00+00:00",
          "2024-03-06T08:00:00+00:00",
          "2024-03-06T09:00:00+00:00",
          "2024-03-06T14:00:00+00:00",
          "2024-03-06T15:00:00+00:00",
          "2024-03-06T16:00:00+00:00",
          "2024-03-06T17:00:00+00:00",
          "2024-03-06T18:00:00+00:00",
          "2024-03-06T19:00:00+00:00",
          "2024-03-06T20:00:00+00:00",
          "2024-03-06T21:00:00+00:00",
          "2024-03-07T00:00:00+00:00",
          "2024-03-07T01:00:00+00:00",
          "2024-03-07T02:00:00+00:00",
          "2024-03-07T03:00:00+00:00",
          "2024-03-07T05:00:00+00:00",
          "2024-03-07T09:00:00+00:00",
          "2024-03-07T11:00:00+00:00",
          "2024-03-07T15:00:00+00:00",
          "2024-03-07T16:00:00+00:00",
          "2024-03-07T17:00:00+00:00",
          "2024-03-07T18:00:00+00:00",
          "2024-03-07T19:00:00+00:00",
          "2024-03-07T20:00:00+00:00",
          "2024-03-07T21:00:00+00:00",
          "2024-03-08T01:00:00+00:00",
          "2024-03-08T04:00:00+00:00",
          "2024-03-08T05:00:00+00:00",
          "2024-03-08T08:00:00+00:00",
          "2024-03-08T09:00:00+00:00",
          "2024-03-08T10:00:00+00:00",
          "2024-03-08T11:00:00+00:00",
          "2024-03-08T12:00:00+00:00",
          "2024-03-08T15:00:00+00:00",
          "2024-03-08T16:00:00+00:00",
          "2024-03-08T19:00:00+00:00",
          "2024-03-08T20:00:00+00:00",
          "2024-03-08T21:00:00+00:00",
          "2024-03-10T21:00:00+00:00",
          "2024-03-10T22:00:00+00:00",
          "2024-03-11T00:00:00+00:00",
          "2024-03-11T01:00:00+00:00",
          "2024-03-11T02:00:00+00:00",
          "2024-03-11T03:00:00+00:00",
          "2024-03-11T04:00:00+00:00",
          "2024-03-11T05:00:00+00:00",
          "2024-03-11T06:00:00+00:00",
          "2024-03-11T07:00:00+00:00",
          "2024-03-11T08:00:00+00:00",
          "2024-03-11T10:00:00+00:00",
          "2024-03-11T11:00:00+00:00",
          "2024-03-11T12:00:00+00:00",
          "2024-03-11T13:00:00+00:00",
          "2024-03-11T14:00:00+00:00",
          "2024-03-11T15:00:00+00:00",
          "2024-03-11T16:00:00+00:00",
          "2024-03-11T17:00:00+00:00",
          "2024-03-11T18:00:00+00:00",
          "2024-03-11T19:00:00+00:00",
          "2024-03-11T20:00:00+00:00",
          "2024-03-11T21:00:00+00:00",
          "2024-03-11T22:00:00+00:00",
          "2024-03-11T23:00:00+00:00",
          "2024-03-12T00:00:00+00:00",
          "2024-03-12T02:00:00+00:00",
          "2024-03-12T03:00:00+00:00",
          "2024-03-12T04:00:00+00:00",
          "2024-03-12T05:00:00+00:00",
          "2024-03-12T06:00:00+00:00",
          "2024-03-12T07:00:00+00:00",
          "2024-03-12T08:00:00+00:00",
          "2024-03-12T09:00:00+00:00",
          "2024-03-12T10:00:00+00:00",
          "2024-03-12T12:00:00+00:00",
          "2024-03-12T13:00:00+00:00",
          "2024-03-12T15:00:00+00:00",
          "2024-03-12T16:00:00+00:00",
          "2024-03-12T18:00:00+00:00",
          "2024-03-12T19:00:00+00:00",
          "2024-03-12T20:00:00+00:00",
          "2024-03-12T22:00:00+00:00",
          "2024-03-12T23:00:00+00:00",
          "2024-03-13T00:00:00+00:00",
          "2024-03-13T01:00:00+00:00",
          "2024-03-13T02:00:00+00:00",
          "2024-03-13T03:00:00+00:00",
          "2024-03-13T04:00:00+00:00",
          "2024-03-13T05:00:00+00:00",
          "2024-03-13T06:00:00+00:00",
          "2024-03-13T07:00:00+00:00",
          "2024-03-13T08:00:00+00:00",
          "2024-03-13T09:00:00+00:00",
          "2024-03-13T10:00:00+00:00",
          "2024-03-13T11:00:00+00:00",
          "2024-03-13T13:00:00+00:00",
          "2024-03-13T14:00:00+00:00",
          "2024-03-13T15:00:00+00:00",
          "2024-03-13T16:00:00+00:00",
          "2024-03-13T19:00:00+00:00",
          "2024-03-13T20:00:00+00:00",
          "2024-03-13T21:00:00+00:00",
          "2024-03-13T23:00:00+00:00",
          "2024-03-14T00:00:00+00:00",
          "2024-03-14T01:00:00+00:00",
          "2024-03-14T02:00:00+00:00",
          "2024-03-14T03:00:00+00:00",
          "2024-03-14T04:00:00+00:00",
          "2024-03-14T05:00:00+00:00",
          "2024-03-14T06:00:00+00:00",
          "2024-03-14T08:00:00+00:00",
          "2024-03-14T09:00:00+00:00",
          "2024-03-14T10:00:00+00:00",
          "2024-03-14T12:00:00+00:00",
          "2024-03-14T13:00:00+00:00",
          "2024-03-14T14:00:00+00:00",
          "2024-03-14T15:00:00+00:00",
          "2024-03-14T16:00:00+00:00",
          "2024-03-14T17:00:00+00:00",
          "2024-03-14T18:00:00+00:00",
          "2024-03-14T19:00:00+00:00",
          "2024-03-14T20:00:00+00:00",
          "2024-03-14T21:00:00+00:00",
          "2024-03-14T22:00:00+00:00",
          "2024-03-14T23:00:00+00:00",
          "2024-03-15T01:00:00+00:00",
          "2024-03-15T05:00:00+00:00",
          "2024-03-15T06:00:00+00:00",
          "2024-03-15T07:00:00+00:00",
          "2024-03-15T08:00:00+00:00",
          "2024-03-15T09:00:00+00:00",
          "2024-03-15T10:00:00+00:00",
          "2024-03-15T11:00:00+00:00",
          "2024-03-15T13:00:00+00:00",
          "2024-03-15T16:00:00+00:00",
          "2024-03-15T18:00:00+00:00",
          "2024-03-15T20:00:00+00:00",
          "2024-03-17T21:00:00+00:00",
          "2024-03-17T22:00:00+00:00",
          "2024-03-17T23:00:00+00:00",
          "2024-03-18T01:00:00+00:00",
          "2024-03-18T02:00:00+00:00",
          "2024-03-18T03:00:00+00:00",
          "2024-03-18T04:00:00+00:00",
          "2024-03-18T05:00:00+00:00",
          "2024-03-18T06:00:00+00:00",
          "2024-03-18T07:00:00+00:00",
          "2024-03-18T08:00:00+00:00",
          "2024-03-18T09:00:00+00:00",
          "2024-03-18T11:00:00+00:00",
          "2024-03-18T12:00:00+00:00",
          "2024-03-18T13:00:00+00:00",
          "2024-03-18T14:00:00+00:00",
          "2024-03-18T15:00:00+00:00",
          "2024-03-18T16:00:00+00:00",
          "2024-03-18T17:00:00+00:00",
          "2024-03-18T18:00:00+00:00",
          "2024-03-18T19:00:00+00:00",
          "2024-03-18T21:00:00+00:00",
          "2024-03-18T22:00:00+00:00",
          "2024-03-18T23:00:00+00:00",
          "2024-03-19T00:00:00+00:00",
          "2024-03-19T01:00:00+00:00",
          "2024-03-19T03:00:00+00:00",
          "2024-03-19T04:00:00+00:00",
          "2024-03-19T05:00:00+00:00",
          "2024-03-19T06:00:00+00:00",
          "2024-03-19T07:00:00+00:00",
          "2024-03-19T08:00:00+00:00",
          "2024-03-19T09:00:00+00:00",
          "2024-03-19T10:00:00+00:00",
          "2024-03-19T12:00:00+00:00",
          "2024-03-19T14:00:00+00:00",
          "2024-03-19T16:00:00+00:00",
          "2024-03-19T17:00:00+00:00",
          "2024-03-19T18:00:00+00:00",
          "2024-03-19T19:00:00+00:00",
          "2024-03-19T20:00:00+00:00",
          "2024-03-19T21:00:00+00:00",
          "2024-03-19T22:00:00+00:00",
          "2024-03-19T23:00:00+00:00",
          "2024-03-20T01:00:00+00:00",
          "2024-03-20T02:00:00+00:00",
          "2024-03-20T03:00:00+00:00",
          "2024-03-20T04:00:00+00:00",
          "2024-03-20T05:00:00+00:00",
          "2024-03-20T06:00:00+00:00",
          "2024-03-20T07:00:00+00:00",
          "2024-03-20T09:00:00+00:00",
          "2024-03-20T13:00:00+00:00",
          "2024-03-20T14:00:00+00:00",
          "2024-03-20T17:00:00+00:00",
          "2024-03-20T18:00:00+00:00",
          "2024-03-20T19:00:00+00:00",
          "2024-03-20T21:00:00+00:00",
          "2024-03-20T22:00:00+00:00",
          "2024-03-20T23:00:00+00:00",
          "2024-03-21T01:00:00+00:00",
          "2024-03-21T03:00:00+00:00",
          "2024-03-21T04:00:00+00:00",
          "2024-03-21T05:00:00+00:00",
          "2024-03-21T06:00:00+00:00",
          "2024-03-21T07:00:00+00:00",
          "2024-03-21T08:00:00+00:00",
          "2024-03-21T09:00:00+00:00",
          "2024-03-21T10:00:00+00:00",
          "2024-03-21T11:00:00+00:00",
          "2024-03-21T12:00:00+00:00",
          "2024-03-21T14:00:00+00:00",
          "2024-03-21T15:00:00+00:00",
          "2024-03-21T16:00:00+00:00",
          "2024-03-21T17:00:00+00:00",
          "2024-03-21T18:00:00+00:00",
          "2024-03-21T19:00:00+00:00",
          "2024-03-21T21:00:00+00:00",
          "2024-03-21T22:00:00+00:00",
          "2024-03-21T23:00:00+00:00",
          "2024-03-22T03:00:00+00:00",
          "2024-03-22T04:00:00+00:00",
          "2024-03-22T05:00:00+00:00",
          "2024-03-22T09:00:00+00:00",
          "2024-03-22T10:00:00+00:00",
          "2024-03-22T13:00:00+00:00",
          "2024-03-22T16:00:00+00:00",
          "2024-03-22T17:00:00+00:00",
          "2024-03-22T18:00:00+00:00",
          "2024-03-22T19:00:00+00:00",
          "2024-03-24T23:00:00+00:00",
          "2024-03-25T02:00:00+00:00",
          "2024-03-25T04:00:00+00:00",
          "2024-03-25T05:00:00+00:00",
          "2024-03-25T06:00:00+00:00",
          "2024-03-25T07:00:00+00:00",
          "2024-03-25T08:00:00+00:00",
          "2024-03-25T10:00:00+00:00",
          "2024-03-25T11:00:00+00:00",
          "2024-03-25T12:00:00+00:00",
          "2024-03-25T13:00:00+00:00",
          "2024-03-25T14:00:00+00:00",
          "2024-03-25T15:00:00+00:00",
          "2024-03-25T16:00:00+00:00",
          "2024-03-25T17:00:00+00:00",
          "2024-03-25T21:00:00+00:00",
          "2024-03-25T22:00:00+00:00",
          "2024-03-26T01:00:00+00:00",
          "2024-03-26T02:00:00+00:00",
          "2024-03-26T03:00:00+00:00",
          "2024-03-26T04:00:00+00:00",
          "2024-03-26T05:00:00+00:00",
          "2024-03-26T06:00:00+00:00",
          "2024-03-26T07:00:00+00:00",
          "2024-03-26T08:00:00+00:00",
          "2024-03-26T11:00:00+00:00",
          "2024-03-26T13:00:00+00:00",
          "2024-03-26T14:00:00+00:00",
          "2024-03-26T15:00:00+00:00",
          "2024-03-26T16:00:00+00:00",
          "2024-03-26T17:00:00+00:00",
          "2024-03-26T18:00:00+00:00",
          "2024-03-26T19:00:00+00:00",
          "2024-03-26T20:00:00+00:00",
          "2024-03-26T21:00:00+00:00",
          "2024-03-26T23:00:00+00:00",
          "2024-03-27T01:00:00+00:00",
          "2024-03-27T02:00:00+00:00",
          "2024-03-27T03:00:00+00:00",
          "2024-03-27T05:00:00+00:00",
          "2024-03-27T06:00:00+00:00",
          "2024-03-27T08:00:00+00:00",
          "2024-03-27T09:00:00+00:00",
          "2024-03-27T10:00:00+00:00",
          "2024-03-27T11:00:00+00:00",
          "2024-03-27T14:00:00+00:00",
          "2024-03-27T16:00:00+00:00",
          "2024-03-27T17:00:00+00:00",
          "2024-03-27T18:00:00+00:00",
          "2024-03-27T19:00:00+00:00",
          "2024-03-27T20:00:00+00:00",
          "2024-03-27T21:00:00+00:00",
          "2024-03-27T22:00:00+00:00",
          "2024-03-28T00:00:00+00:00",
          "2024-03-28T01:00:00+00:00",
          "2024-03-28T02:00:00+00:00",
          "2024-03-28T03:00:00+00:00",
          "2024-03-28T04:00:00+00:00",
          "2024-03-28T05:00:00+00:00",
          "2024-03-28T06:00:00+00:00",
          "2024-03-28T07:00:00+00:00",
          "2024-03-28T08:00:00+00:00",
          "2024-03-28T09:00:00+00:00",
          "2024-03-28T13:00:00+00:00",
          "2024-03-28T14:00:00+00:00",
          "2024-03-28T15:00:00+00:00",
          "2024-03-28T16:00:00+00:00",
          "2024-03-28T17:00:00+00:00",
          "2024-03-28T18:00:00+00:00",
          "2024-03-28T19:00:00+00:00",
          "2024-03-28T21:00:00+00:00",
          "2024-03-28T22:00:00+00:00",
          "2024-03-28T23:00:00+00:00",
          "2024-03-29T00:00:00+00:00",
          "2024-03-29T01:00:00+00:00",
          "2024-03-29T02:00:00+00:00",
          "2024-03-29T03:00:00+00:00",
          "2024-03-29T04:00:00+00:00",
          "2024-03-29T05:00:00+00:00",
          "2024-03-29T06:00:00+00:00",
          "2024-03-29T07:00:00+00:00",
          "2024-03-29T08:00:00+00:00",
          "2024-03-29T10:00:00+00:00",
          "2024-03-29T11:00:00+00:00",
          "2024-03-29T12:00:00+00:00",
          "2024-03-29T13:00:00+00:00",
          "2024-03-29T14:00:00+00:00",
          "2024-03-29T15:00:00+00:00",
          "2024-03-29T16:00:00+00:00",
          "2024-03-29T17:00:00+00:00",
          "2024-03-29T18:00:00+00:00",
          "2024-03-29T20:00:00+00:00",
          "2024-03-31T21:00:00+00:00",
          "2024-03-31T22:00:00+00:00",
          "2024-03-31T23:00:00+00:00",
          "2024-04-01T00:00:00+00:00",
          "2024-04-01T02:00:00+00:00",
          "2024-04-01T03:00:00+00:00",
          "2024-04-01T05:00:00+00:00",
          "2024-04-01T06:00:00+00:00",
          "2024-04-01T07:00:00+00:00",
          "2024-04-01T08:00:00+00:00",
          "2024-04-01T09:00:00+00:00",
          "2024-04-01T10:00:00+00:00",
          "2024-04-01T11:00:00+00:00",
          "2024-04-01T12:00:00+00:00",
          "2024-04-01T13:00:00+00:00",
          "2024-04-01T14:00:00+00:00",
          "2024-04-01T15:00:00+00:00",
          "2024-04-01T18:00:00+00:00",
          "2024-04-01T19:00:00+00:00",
          "2024-04-01T20:00:00+00:00",
          "2024-04-02T00:00:00+00:00",
          "2024-04-02T02:00:00+00:00",
          "2024-04-02T03:00:00+00:00",
          "2024-04-02T04:00:00+00:00",
          "2024-04-02T06:00:00+00:00",
          "2024-04-02T07:00:00+00:00",
          "2024-04-02T08:00:00+00:00",
          "2024-04-02T09:00:00+00:00",
          "2024-04-02T11:00:00+00:00",
          "2024-04-02T12:00:00+00:00",
          "2024-04-02T13:00:00+00:00",
          "2024-04-02T14:00:00+00:00",
          "2024-04-02T15:00:00+00:00",
          "2024-04-02T16:00:00+00:00",
          "2024-04-02T18:00:00+00:00",
          "2024-04-02T23:00:00+00:00",
          "2024-04-03T00:00:00+00:00",
          "2024-04-03T02:00:00+00:00",
          "2024-04-03T03:00:00+00:00",
          "2024-04-03T04:00:00+00:00",
          "2024-04-03T05:00:00+00:00",
          "2024-04-03T06:00:00+00:00",
          "2024-04-03T07:00:00+00:00",
          "2024-04-03T08:00:00+00:00",
          "2024-04-03T09:00:00+00:00",
          "2024-04-03T10:00:00+00:00",
          "2024-04-03T11:00:00+00:00",
          "2024-04-03T13:00:00+00:00",
          "2024-04-03T14:00:00+00:00",
          "2024-04-03T15:00:00+00:00",
          "2024-04-03T16:00:00+00:00",
          "2024-04-03T17:00:00+00:00",
          "2024-04-03T20:00:00+00:00",
          "2024-04-03T21:00:00+00:00",
          "2024-04-04T00:00:00+00:00",
          "2024-04-04T05:00:00+00:00",
          "2024-04-04T06:00:00+00:00",
          "2024-04-04T07:00:00+00:00",
          "2024-04-04T10:00:00+00:00",
          "2024-04-04T16:00:00+00:00",
          "2024-04-04T18:00:00+00:00",
          "2024-04-04T19:00:00+00:00",
          "2024-04-04T20:00:00+00:00",
          "2024-04-04T21:00:00+00:00",
          "2024-04-05T01:00:00+00:00",
          "2024-04-05T04:00:00+00:00",
          "2024-04-05T06:00:00+00:00",
          "2024-04-05T08:00:00+00:00",
          "2024-04-05T09:00:00+00:00",
          "2024-04-05T10:00:00+00:00",
          "2024-04-05T11:00:00+00:00",
          "2024-04-05T12:00:00+00:00",
          "2024-04-05T14:00:00+00:00",
          "2024-04-05T15:00:00+00:00",
          "2024-04-05T16:00:00+00:00",
          "2024-04-05T17:00:00+00:00",
          "2024-04-05T18:00:00+00:00",
          "2024-04-05T20:00:00+00:00",
          "2024-04-07T21:00:00+00:00",
          "2024-04-07T22:00:00+00:00",
          "2024-04-07T23:00:00+00:00",
          "2024-04-08T00:00:00+00:00",
          "2024-04-08T01:00:00+00:00",
          "2024-04-08T02:00:00+00:00",
          "2024-04-08T03:00:00+00:00",
          "2024-04-08T04:00:00+00:00",
          "2024-04-08T05:00:00+00:00",
          "2024-04-08T07:00:00+00:00",
          "2024-04-08T08:00:00+00:00",
          "2024-04-08T09:00:00+00:00",
          "2024-04-08T10:00:00+00:00",
          "2024-04-08T11:00:00+00:00",
          "2024-04-08T13:00:00+00:00",
          "2024-04-08T14:00:00+00:00",
          "2024-04-08T16:00:00+00:00",
          "2024-04-08T17:00:00+00:00",
          "2024-04-08T18:00:00+00:00",
          "2024-04-08T20:00:00+00:00",
          "2024-04-08T21:00:00+00:00",
          "2024-04-09T00:00:00+00:00",
          "2024-04-09T01:00:00+00:00",
          "2024-04-09T02:00:00+00:00",
          "2024-04-09T04:00:00+00:00",
          "2024-04-09T05:00:00+00:00",
          "2024-04-09T06:00:00+00:00",
          "2024-04-09T07:00:00+00:00",
          "2024-04-09T09:00:00+00:00",
          "2024-04-09T10:00:00+00:00",
          "2024-04-09T11:00:00+00:00",
          "2024-04-09T12:00:00+00:00",
          "2024-04-09T14:00:00+00:00",
          "2024-04-09T16:00:00+00:00",
          "2024-04-09T17:00:00+00:00",
          "2024-04-09T18:00:00+00:00",
          "2024-04-09T19:00:00+00:00",
          "2024-04-09T20:00:00+00:00",
          "2024-04-09T21:00:00+00:00",
          "2024-04-09T22:00:00+00:00",
          "2024-04-09T23:00:00+00:00",
          "2024-04-10T00:00:00+00:00",
          "2024-04-10T01:00:00+00:00",
          "2024-04-10T02:00:00+00:00",
          "2024-04-10T03:00:00+00:00",
          "2024-04-10T04:00:00+00:00",
          "2024-04-10T05:00:00+00:00",
          "2024-04-10T07:00:00+00:00",
          "2024-04-10T09:00:00+00:00",
          "2024-04-10T11:00:00+00:00",
          "2024-04-10T12:00:00+00:00",
          "2024-04-10T13:00:00+00:00",
          "2024-04-10T14:00:00+00:00",
          "2024-04-10T15:00:00+00:00",
          "2024-04-10T17:00:00+00:00",
          "2024-04-10T18:00:00+00:00",
          "2024-04-11T01:00:00+00:00",
          "2024-04-11T02:00:00+00:00",
          "2024-04-11T03:00:00+00:00",
          "2024-04-11T04:00:00+00:00",
          "2024-04-11T05:00:00+00:00",
          "2024-04-11T06:00:00+00:00",
          "2024-04-11T07:00:00+00:00",
          "2024-04-11T08:00:00+00:00",
          "2024-04-11T10:00:00+00:00",
          "2024-04-11T12:00:00+00:00",
          "2024-04-11T14:00:00+00:00",
          "2024-04-11T15:00:00+00:00",
          "2024-04-11T16:00:00+00:00",
          "2024-04-11T19:00:00+00:00",
          "2024-04-11T20:00:00+00:00",
          "2024-04-11T21:00:00+00:00",
          "2024-04-11T22:00:00+00:00",
          "2024-04-11T23:00:00+00:00",
          "2024-04-12T00:00:00+00:00",
          "2024-04-12T01:00:00+00:00",
          "2024-04-12T02:00:00+00:00",
          "2024-04-12T03:00:00+00:00",
          "2024-04-12T04:00:00+00:00",
          "2024-04-12T05:00:00+00:00",
          "2024-04-12T06:00:00+00:00",
          "2024-04-12T07:00:00+00:00",
          "2024-04-12T08:00:00+00:00",
          "2024-04-12T09:00:00+00:00",
          "2024-04-12T13:00:00+00:00",
          "2024-04-12T14:00:00+00:00",
          "2024-04-12T16:00:00+00:00",
          "2024-04-14T21:00:00+00:00",
          "2024-04-14T22:00:00+00:00",
          "2024-04-14T23:00:00+00:00",
          "2024-04-15T00:00:00+00:00",
          "2024-04-15T01:00:00+00:00",
          "2024-04-15T02:00:00+00:00",
          "2024-04-15T03:00:00+00:00",
          "2024-04-15T04:00:00+00:00",
          "2024-04-15T05:00:00+00:00",
          "2024-04-15T06:00:00+00:00",
          "2024-04-15T08:00:00+00:00",
          "2024-04-15T09:00:00+00:00",
          "2024-04-15T11:00:00+00:00",
          "2024-04-15T12:00:00+00:00",
          "2024-04-15T14:00:00+00:00",
          "2024-04-15T17:00:00+00:00",
          "2024-04-15T19:00:00+00:00",
          "2024-04-15T20:00:00+00:00",
          "2024-04-15T21:00:00+00:00",
          "2024-04-16T06:00:00+00:00",
          "2024-04-16T07:00:00+00:00",
          "2024-04-16T08:00:00+00:00",
          "2024-04-16T09:00:00+00:00",
          "2024-04-16T10:00:00+00:00",
          "2024-04-16T11:00:00+00:00",
          "2024-04-16T13:00:00+00:00",
          "2024-04-16T14:00:00+00:00",
          "2024-04-16T15:00:00+00:00",
          "2024-04-16T16:00:00+00:00",
          "2024-04-16T18:00:00+00:00",
          "2024-04-16T19:00:00+00:00",
          "2024-04-16T20:00:00+00:00",
          "2024-04-16T21:00:00+00:00",
          "2024-04-16T22:00:00+00:00",
          "2024-04-16T23:00:00+00:00",
          "2024-04-17T00:00:00+00:00",
          "2024-04-17T01:00:00+00:00",
          "2024-04-17T03:00:00+00:00",
          "2024-04-17T04:00:00+00:00",
          "2024-04-17T06:00:00+00:00",
          "2024-04-17T08:00:00+00:00",
          "2024-04-17T09:00:00+00:00",
          "2024-04-17T11:00:00+00:00",
          "2024-04-17T12:00:00+00:00",
          "2024-04-17T13:00:00+00:00",
          "2024-04-17T14:00:00+00:00",
          "2024-04-17T16:00:00+00:00",
          "2024-04-17T17:00:00+00:00",
          "2024-04-17T18:00:00+00:00",
          "2024-04-17T19:00:00+00:00",
          "2024-04-17T22:00:00+00:00",
          "2024-04-18T00:00:00+00:00",
          "2024-04-18T04:00:00+00:00",
          "2024-04-18T05:00:00+00:00",
          "2024-04-18T06:00:00+00:00",
          "2024-04-18T07:00:00+00:00",
          "2024-04-18T08:00:00+00:00",
          "2024-04-18T10:00:00+00:00",
          "2024-04-18T11:00:00+00:00",
          "2024-04-18T13:00:00+00:00",
          "2024-04-18T14:00:00+00:00",
          "2024-04-18T15:00:00+00:00",
          "2024-04-18T16:00:00+00:00",
          "2024-04-18T17:00:00+00:00",
          "2024-04-18T18:00:00+00:00",
          "2024-04-18T19:00:00+00:00",
          "2024-04-18T23:00:00+00:00",
          "2024-04-19T00:00:00+00:00",
          "2024-04-19T01:00:00+00:00",
          "2024-04-19T02:00:00+00:00",
          "2024-04-19T03:00:00+00:00",
          "2024-04-19T09:00:00+00:00",
          "2024-04-19T10:00:00+00:00",
          "2024-04-19T11:00:00+00:00",
          "2024-04-19T12:00:00+00:00",
          "2024-04-19T13:00:00+00:00",
          "2024-04-19T14:00:00+00:00",
          "2024-04-19T15:00:00+00:00",
          "2024-04-19T17:00:00+00:00",
          "2024-04-19T18:00:00+00:00",
          "2024-04-21T21:00:00+00:00",
          "2024-04-21T22:00:00+00:00",
          "2024-04-22T00:00:00+00:00",
          "2024-04-22T01:00:00+00:00",
          "2024-04-22T02:00:00+00:00",
          "2024-04-22T04:00:00+00:00",
          "2024-04-22T05:00:00+00:00",
          "2024-04-22T06:00:00+00:00",
          "2024-04-22T10:00:00+00:00",
          "2024-04-22T11:00:00+00:00",
          "2024-04-22T12:00:00+00:00",
          "2024-04-22T13:00:00+00:00",
          "2024-04-22T16:00:00+00:00",
          "2024-04-22T17:00:00+00:00",
          "2024-04-22T18:00:00+00:00",
          "2024-04-22T20:00:00+00:00",
          "2024-04-22T21:00:00+00:00",
          "2024-04-23T00:00:00+00:00",
          "2024-04-23T02:00:00+00:00",
          "2024-04-23T03:00:00+00:00",
          "2024-04-23T04:00:00+00:00",
          "2024-04-23T05:00:00+00:00",
          "2024-04-23T06:00:00+00:00",
          "2024-04-23T07:00:00+00:00",
          "2024-04-23T08:00:00+00:00",
          "2024-04-23T09:00:00+00:00",
          "2024-04-23T10:00:00+00:00",
          "2024-04-23T11:00:00+00:00",
          "2024-04-23T12:00:00+00:00",
          "2024-04-23T13:00:00+00:00",
          "2024-04-23T14:00:00+00:00",
          "2024-04-23T15:00:00+00:00",
          "2024-04-23T16:00:00+00:00",
          "2024-04-23T17:00:00+00:00",
          "2024-04-23T18:00:00+00:00",
          "2024-04-23T21:00:00+00:00",
          "2024-04-23T22:00:00+00:00",
          "2024-04-23T23:00:00+00:00",
          "2024-04-24T00:00:00+00:00",
          "2024-04-24T01:00:00+00:00",
          "2024-04-24T02:00:00+00:00",
          "2024-04-24T03:00:00+00:00",
          "2024-04-24T04:00:00+00:00",
          "2024-04-24T05:00:00+00:00",
          "2024-04-24T07:00:00+00:00",
          "2024-04-24T08:00:00+00:00",
          "2024-04-24T09:00:00+00:00",
          "2024-04-24T11:00:00+00:00",
          "2024-04-24T12:00:00+00:00",
          "2024-04-24T13:00:00+00:00",
          "2024-04-24T14:00:00+00:00",
          "2024-04-24T15:00:00+00:00",
          "2024-04-24T16:00:00+00:00",
          "2024-04-24T17:00:00+00:00",
          "2024-04-24T18:00:00+00:00",
          "2024-04-24T19:00:00+00:00",
          "2024-04-24T21:00:00+00:00",
          "2024-04-24T23:00:00+00:00",
          "2024-04-25T00:00:00+00:00",
          "2024-04-25T03:00:00+00:00",
          "2024-04-25T05:00:00+00:00",
          "2024-04-25T06:00:00+00:00",
          "2024-04-25T07:00:00+00:00",
          "2024-04-25T10:00:00+00:00",
          "2024-04-25T11:00:00+00:00",
          "2024-04-25T15:00:00+00:00",
          "2024-04-25T16:00:00+00:00",
          "2024-04-25T17:00:00+00:00",
          "2024-04-25T18:00:00+00:00",
          "2024-04-25T19:00:00+00:00",
          "2024-04-25T20:00:00+00:00",
          "2024-04-25T21:00:00+00:00",
          "2024-04-25T23:00:00+00:00",
          "2024-04-26T00:00:00+00:00",
          "2024-04-26T01:00:00+00:00",
          "2024-04-26T02:00:00+00:00",
          "2024-04-26T03:00:00+00:00",
          "2024-04-26T05:00:00+00:00",
          "2024-04-26T07:00:00+00:00",
          "2024-04-26T08:00:00+00:00",
          "2024-04-26T09:00:00+00:00",
          "2024-04-26T10:00:00+00:00",
          "2024-04-26T11:00:00+00:00",
          "2024-04-26T12:00:00+00:00"
         ],
         "y": [
          78.80000000000109,
          70.00000000000117,
          64.20000000000314,
          101.40000000000455,
          332.10000000000696,
          271.40000000000845,
          242.10000000000747,
          251.10000000000647,
          243.6000000000062,
          194.20000000000454,
          278.40000000000214,
          363.80000000000314,
          399.4000000000032,
          388.9000000000028,
          293.10000000000326,
          292.0000000000059,
          276.2000000000057,
          250.90000000000708,
          243.50000000000745,
          241.70000000000786,
          197.00000000000813,
          191.40000000000808,
          178.2000000000082,
          171.60000000000827,
          213.30000000001078,
          262.8000000000085,
          327.5000000000122,
          351.00000000001296,
          346.600000000013,
          337.0000000000123,
          312.70000000001136,
          298.5000000000127,
          284.90000000001464,
          267.6000000000146,
          230.00000000001694,
          228.20000000001403,
          230.40000000001567,
          196.80000000001758,
          149.60000000001668,
          148.6000000000176,
          236.60000000001838,
          223.8000000000189,
          178.30000000001766,
          218.60000000001745,
          224.50000000001725,
          207.3000000000178,
          200.90000000001805,
          196.7000000000183,
          145.40000000001749,
          54.100000000016664,
          -7.2999999999859,
          -25.499999999986336,
          -46.09999999998664,
          8.400000000011929,
          43.10000000001277,
          80.1000000000118,
          83.90000000001227,
          63.70000000001316,
          33.50000000001182,
          -13.699999999990972,
          12.900000000008983,
          7.700000000010444,
          155.50000000001035,
          177.50000000000912,
          166.00000000001137,
          248.40000000001214,
          261.80000000001223,
          262.70000000001255,
          234.40000000001353,
          251.70000000001363,
          201.50000000001302,
          196.50000000001188,
          273.100000000011,
          253.5000000000112,
          215.20000000000982,
          173.0000000000087,
          141.4000000000082,
          92.80000000000844,
          72.80000000000953,
          -33.29999999998549,
          -38.599999999986906,
          -133.69999999998538,
          -180.49999999998556,
          -182.79999999998398,
          -184.39999999998452,
          -163.99999999998374,
          -109.89999999998308,
          -108.59999999998256,
          -91.79999999998242,
          -137.59999999998047,
          -174.19999999998043,
          -219.59999999997922,
          -257.99999999997766,
          -277.19999999997685,
          -294.5999999999765,
          -321.59999999997575,
          -317.9999999999755,
          -368.8999999999759,
          -409.99999999997533,
          -469.59999999997274,
          -436.1999999999715,
          -219.3999999999693,
          -23.89999999996789,
          -19.399999999968387,
          4.30000000003087,
          -70.99999999996899,
          -91.69999999996915,
          -132.599999999967,
          -146.19999999996656,
          -146.69999999996327,
          -179.99999999996135,
          -117.49999999996135,
          22.100000000037255,
          -79.89999999996151,
          -74.89999999996206,
          10.100000000039415,
          -98.39999999996071,
          -90.6999999999609,
          -33.699999999964284,
          -41.29999999996647,
          -72.29999999996643,
          -88.19999999996624,
          -65.29999999996774,
          -74.69999999996857,
          -126.19999999996915,
          -210.59999999996938,
          -184.9999999999682,
          -171.89999999996786,
          -169.79999999996744,
          -147.79999999996764,
          -115.19999999996612,
          -137.49999999996678,
          -167.39999999996726,
          -168.6999999999669,
          -201.399999999966,
          -176.29999999996838,
          -119.19999999996693,
          -121.59999999996703,
          -85.79999999996946,
          -109.79999999997037,
          -143.59999999996975,
          -168.99999999997073,
          -134.59999999997274,
          -185.69999999997222,
          -191.89999999996954,
          -203.9999999999711,
          -241.69999999997162,
          -186.79999999997239,
          -227.7999999999721,
          -279.19999999997134,
          -351.99999999997345,
          -356.7999999999761,
          -367.4999999999751,
          -342.89999999997383,
          -314.39999999997326,
          -242.69999999997407,
          -261.4999999999732,
          -273.99999999997294,
          -286.49999999997266,
          -237.79999999997113,
          -238.39999999997062,
          -231.7999999999732,
          -202.59999999997225,
          -259.19999999997333,
          -264.399999999973,
          -265.9999999999722,
          -268.69999999997214,
          -311.89999999997315,
          -341.2999999999737,
          -343.6999999999739,
          -359.4999999999726,
          -366.89999999997224,
          -371.89999999997195,
          -435.7999999999731,
          -450.6999999999751,
          -531.3999999999776,
          -545.3999999999791,
          -542.5999999999774,
          -544.2999999999774,
          -521.2999999999756,
          -545.6999999999756,
          -578.099999999974,
          -557.0999999999741,
          -547.5999999999742,
          -569.7999999999734,
          -606.799999999974,
          -665.9999999999729,
          -690.7999999999722,
          -779.4999999999727,
          -831.3999999999733,
          -911.7999999999737,
          -913.3999999999742,
          -991.3999999999722,
          -1045.2999999999702,
          -974.1999999999697,
          -740.1999999999691,
          -743.2999999999695,
          -530.5999999999688,
          -540.1999999999695,
          -585.5999999999693,
          -607.7999999999682,
          -616.099999999967,
          -588.6999999999663,
          -619.599999999966,
          -389.1999999999665,
          -381.3999999999665,
          -373.9999999999658,
          -274.09999999996637,
          -281.499999999966,
          -293.59999999996757,
          -297.39999999996695,
          -291.3999999999654,
          -204.39999999996425,
          -151.79999999996454,
          -0.5999999999632166,
          63.20000000003691,
          158.200000000038,
          175.30000000003787,
          160.20000000003776,
          174.50000000003595,
          179.20000000003455,
          194.00000000003493,
          210.50000000003422,
          216.20000000003301,
          302.4000000000341,
          281.50000000003485,
          265.7000000000354,
          261.4000000000361,
          204.80000000003497,
          164.90000000003292,
          136.40000000003383,
          135.40000000003394,
          161.30000000003264,
          198.00000000003214,
          195.80000000003326,
          184.0000000000343,
          212.90000000003565,
          272.8000000000339,
          291.1000000000339,
          233.50000000003206,
          314.40000000003386,
          295.6000000000339,
          278.60000000003356,
          272.3000000000334,
          269.3000000000337,
          307.10000000003276,
          330.70000000003193,
          325.10000000003237,
          351.3000000000319,
          298.9000000000319,
          259.70000000003233,
          244.50000000003158,
          216.00000000003138,
          183.00000000003163,
          176.30000000003105,
          228.10000000003066,
          276.60000000002907,
          288.3000000000291,
          351.10000000002753,
          410.70000000002545,
          399.00000000002655,
          371.50000000002626,
          366.1000000000264,
          344.80000000002565,
          343.0000000000256,
          324.60000000002583,
          302.90000000002544,
          329.1000000000268,
          299.70000000002597,
          326.10000000002697,
          290.9000000000281,
          258.70000000002887,
          201.5000000000294,
          194.30000000003162,
          161.70000000003228,
          154.70000000003193,
          288.3000000000316,
          356.20000000003233,
          274.6000000000294,
          189.20000000002807,
          365.00000000002734,
          346.50000000002854,
          402.7000000000281,
          426.9000000000279,
          526.4000000000285,
          579.0000000000267,
          541.2000000000234,
          516.8000000000234,
          420.5000000000231,
          404.900000000023,
          396.90000000002277,
          398.0000000000222,
          395.4000000000207,
          502.3000000000194,
          485.50000000001927,
          471.40000000002016,
          501.00000000001864,
          363.50000000002007,
          305.20000000001903,
          298.4000000000189,
          216.70000000001787,
          15.900000000019105,
          -16.999999999981043,
          -27.699999999981195,
          16.00000000001865,
          183.80000000001823,
          308.40000000002044,
          392.50000000002075,
          366.3000000000223,
          354.10000000002003,
          398.70000000001914,
          295.40000000002044,
          233.40000000002,
          220.80000000002028,
          214.700000000021,
          196.70000000002076,
          87.40000000002081,
          299.50000000002,
          411.6000000000195,
          537.0000000000186,
          536.5000000000186,
          537.7000000000198,
          571.6000000000199,
          693.1000000000223,
          601.8000000000249,
          568.8000000000262,
          564.9000000000262,
          588.0000000000266,
          585.6000000000264,
          608.8000000000263,
          664.1000000000266,
          704.7000000000262,
          723.5000000000273,
          698.000000000029,
          706.7000000000282,
          709.9000000000281,
          706.3000000000279,
          579.8000000000286,
          577.4000000000285,
          489.4000000000272,
          472.2000000000275,
          427.20000000002847,
          436.2000000000297,
          432.00000000002996,
          404.0000000000308,
          352.2000000000312,
          310.8000000000309,
          293.7000000000299,
          258.00000000003024,
          201.00000000003098,
          145.0000000000327,
          73.80000000003479,
          -28.699999999966124,
          20.60000000003835,
          -1.8999999999625032,
          56.400000000037515,
          19.900000000038027,
          195.10000000004115,
          198.50000000004033,
          235.30000000004125,
          234.90000000004085,
          312.3000000000417,
          404.60000000004186,
          465.2000000000414,
          493.20000000004075,
          508.50000000004104,
          500.2000000000411,
          371.5000000000405,
          324.40000000004056,
          220.60000000004055,
          147.50000000003905,
          42.50000000003729,
          126.2000000000362,
          248.10000000003498,
          220.7000000000342,
          198.10000000003492,
          189.60000000003475,
          157.20000000003196,
          176.10000000003143,
          179.8000000000318,
          168.0000000000322,
          234.10000000003217,
          218.300000000033,
          266.30000000002985,
          264.5000000000303,
          231.1000000000291,
          275.50000000002797,
          266.70000000002807,
          160.90000000002664,
          115.8000000000265,
          87.40000000002696,
          28.300000000027254,
          19.00000000002628,
          -53.49999999997351,
          -157.1999999999723,
          -255.69999999997145,
          -343.1999999999707,
          -289.1999999999722,
          -384.19999999997174,
          -403.0999999999712,
          -413.0999999999712,
          -480.5999999999682,
          -651.2999999999674,
          -619.899999999966,
          -616.8999999999663,
          -551.2999999999652,
          -556.6999999999663,
          -560.2999999999665,
          -514.7999999999695,
          -596.4999999999662,
          -513.9999999999651,
          -509.99999999996663,
          -519.299999999967,
          -548.1999999999675,
          -568.9999999999703,
          -499.99999999997067,
          -484.59999999997257,
          -449.0999999999709,
          -442.6999999999716,
          -444.79999999997204,
          -386.3999999999743,
          -399.0999999999742,
          -418.699999999974,
          -250.2999999999738,
          -191.69999999997253,
          -227.99999999997408,
          -230.99999999997374,
          -285.2999999999742,
          -331.59999999997336,
          -346.79999999997415,
          -541.1999999999721,
          -543.7999999999713,
          -476.0999999999719,
          -471.19999999997196,
          -440.99999999997175,
          -469.8999999999712,
          -498.5999999999705,
          -527.6999999999713,
          -534.099999999971,
          -569.8999999999685,
          -702.699999999967,
          -728.299999999967,
          -699.7999999999668,
          -702.9999999999677,
          -724.7999999999685,
          -650.9999999999685,
          -454.1999999999671,
          114.30000000002894,
          94.20000000003049,
          19.00000000002744,
          -3.6999999999729454,
          -82.09999999997363,
          -81.79999999997389,
          -88.99999999997559,
          -103.8999999999755,
          -156.8999999999741,
          -131.9999999999753,
          -116.2999999999757,
          0.20000000002315232,
          -1.2999999999783256,
          -35.79999999998007,
          -23.799999999981395,
          141.8000000000168,
          143.00000000001685,
          199.2000000000152,
          226.7000000000139,
          282.60000000001264,
          301.60000000000974,
          301.20000000001045,
          278.7000000000118,
          280.9000000000118,
          234.50000000001202,
          230.8000000000122,
          84.20000000000735,
          140.20000000000562,
          126.20000000000556,
          111.70000000000493,
          172.30000000000422,
          215.70000000000422,
          326.20000000000323,
          330.50000000000324,
          379.20000000000414,
          379.90000000000316,
          396.3000000000018,
          324.50000000000216,
          346.70000000000107,
          287.800000000001,
          342.3000000000001,
          426.5999999999963,
          335.69999999999413,
          316.8999999999942,
          291.39999999999367,
          298.7999999999949,
          419.5999999999958,
          417.9999999999933,
          402.0999999999935,
          353.29999999999353,
          322.39999999999316,
          312.39999999999316,
          372.19999999999413,
          372.3999999999951,
          369.6999999999973,
          354.7999999999972,
          355.7999999999971,
          353.7999999999975,
          373.0999999999974,
          325.09999999999843,
          301.3999999999976,
          262.99999999999704,
          237.39999999999696,
          231.9999999999971,
          346.2999999999971,
          346.6999999999975,
          366.39999999999776,
          373.5999999999972,
          354.79999999999836,
          357.1999999999999,
          314.99999999999875,
          293.9999999999993,
          258.199999999999,
          242.59999999999897,
          248.5999999999972,
          283.1999999999974,
          206.6999999999958,
          66.09999999999789,
          39.899999999998826,
          27.499999999999748,
          -82.69999999999797,
          -148.1999999999972,
          -218.39999999999748,
          -285.6999999999974,
          -285.39999999999543,
          -107.09999999999866,
          49.200000000003854,
          219.30000000000675,
          193.50000000000648,
          196.00000000000705,
          256.90000000000856,
          291.50000000000875,
          281.1000000000083,
          259.70000000000846,
          245.00000000000875,
          243.8000000000087,
          206.20000000000886,
          458.4000000000145,
          458.6000000000154,
          460.50000000001455,
          405.5000000000188,
          281.4000000000185,
          302.10000000001867,
          255.60000000002046,
          252.00000000002032,
          160.90000000001788,
          176.90000000001896,
          110.20000000002227,
          220.40000000002107,
          220.20000000002153,
          239.1000000000221,
          217.00000000002166,
          191.40000000002163,
          195.90000000002115,
          178.60000000002105,
          185.6000000000214,
          212.70000000002022,
          214.1000000000183,
          290.1000000000203,
          285.00000000001995,
          357.20000000002,
          349.00000000002063,
          356.30000000002366,
          312.10000000002515,
          219.80000000002445,
          203.20000000002452,
          121.90000000002321,
          55.700000000023536,
          29.50000000002349,
          -15.899999999978618,
          -4.799999999976777,
          -27.799999999978684,
          26.100000000025414,
          -50.399999999971925,
          4.400000000027369,
          -54.299999999971625,
          -86.09999999997208,
          -74.19999999997295,
          -78.1999999999725,
          -75.29999999997239,
          -82.29999999997162,
          -85.99999999997081,
          -39.9999999999709,
          -62.29999999997031,
          -19.499999999968985,
          70.80000000003307,
          118.80000000003444,
          276.000000000034,
          396.2000000000354,
          398.20000000003506,
          416.8000000000348,
          397.60000000003447,
          357.20000000003483,
          326.0000000000351,
          248.30000000003565,
          251.20000000003688,
          202.70000000003668,
          68.30000000003949,
          35.60000000003714,
          26.600000000038133,
          50.50000000003594,
          89.2000000000362,
          109.40000000003445,
          63.60000000003528,
          45.80000000003635,
          26.20000000003673,
          14.600000000036232,
          1.800000000034533,
          -13.199999999966035,
          -11.399999999967566,
          -74.39999999996951,
          -96.3999999999694,
          -110.79999999996994,
          -134.0999999999705,
          -133.2999999999719,
          -151.59999999997117,
          -189.9999999999698,
          -161.8999999999745,
          66.20000000002648,
          72.40000000002482,
          58.00000000002596,
          54.00000000002676,
          33.10000000002688,
          44.600000000026725,
          66.10000000002657,
          42.700000000028524,
          21.600000000030093,
          -1.6999999999715598,
          -40.599999999971054,
          -29.899999999970678,
          -34.19999999997087,
          -42.399999999971655,
          -61.49999999997132,
          47.00000000002805,
          -80.39999999997238,
          -152.89999999997218,
          -140.99999999997195,
          -171.2999999999717,
          -311.19999999997117,
          -311.999999999972,
          -389.79999999997426,
          -451.69999999997566,
          -514.0999999999759,
          -572.2999999999731,
          -593.6999999999734,
          -619.3999999999753,
          -636.1999999999744,
          -659.9999999999749,
          -656.3999999999746,
          -683.3999999999761,
          -757.1999999999772,
          -769.7999999999789,
          -774.1999999999789,
          -736.599999999979,
          -768.1999999999792,
          -737.6999999999796,
          -783.7999999999795,
          -896.5999999999804,
          -900.8999999999796,
          -948.4999999999773,
          -968.7999999999776,
          -1014.799999999977,
          -1015.0999999999779,
          -1042.3999999999774,
          -1111.8999999999787,
          -1126.0999999999785,
          -1136.6999999999791,
          -936.1999999999802,
          -928.399999999981,
          -639.7999999999815,
          -687.7999999999818,
          -776.8999999999826,
          -831.0999999999824,
          -953.4999999999804,
          -968.0999999999806,
          -1069.1999999999812,
          -1131.8999999999824,
          -1171.5999999999804,
          -1109.2999999999797,
          -1103.1999999999798,
          -1111.199999999979,
          -1119.9999999999789,
          -1107.8999999999774,
          -1083.0999999999792,
          -1131.8999999999783,
          -1052.9999999999768,
          -1079.3999999999778,
          -1171.2999999999759,
          -1172.0999999999751,
          -1044.699999999975,
          -1043.0999999999744,
          -1042.2999999999747,
          -1034.499999999976,
          -671.4999999999782,
          -590.099999999979,
          -517.2999999999795,
          -581.299999999981,
          -384.29999999998046,
          -432.0999999999813,
          -437.09999999998075,
          -448.49999999998107,
          -448.0999999999818,
          -448.49999999998215,
          -152.39999999998082,
          -188.49999999998306,
          -215.2999999999832,
          -238.59999999998237,
          -263.19999999998333,
          -267.79999999998256,
          -292.99999999998334,
          -341.29999999998336,
          -373.89999999998554,
          -397.6999999999855,
          -358.4999999999873,
          -356.99999999998636,
          -261.79999999998813,
          -255.0999999999874,
          -238.399999999989,
          -227.09999999998905,
          -216.99999999998948,
          -236.99999999999173,
          -252.69999999999305,
          -268.19999999999243,
          -155.99999999999235,
          -184.5999999999925,
          -92.29999999999289,
          12.300000000007046,
          -4.899999999992659,
          135.2000000000067,
          210.4000000000061,
          309.70000000000675,
          379.30000000000655,
          522.5000000000055,
          684.3000000000043,
          707.2000000000044,
          770.7000000000035,
          775.1000000000056,
          787.100000000006,
          787.2000000000068,
          773.3000000000068,
          850.8000000000045,
          813.4000000000037,
          817.4000000000044,
          858.3000000000059,
          927.5000000000051,
          883.7000000000046,
          858.5000000000072,
          845.3000000000089,
          845.0000000000092,
          962.1000000000103,
          981.9000000000112,
          1097.2000000000114,
          1173.7000000000107,
          1158.4000000000115,
          1060.3000000000104,
          1069.700000000011,
          1063.2000000000105,
          1037.700000000008,
          1057.1000000000097,
          1104.9000000000096,
          1055.10000000001,
          1077.80000000001,
          1049.900000000011,
          1003.0000000000116,
          961.4000000000119,
          948.5000000000128,
          937.000000000013,
          918.0000000000128,
          878.6000000000134,
          887.7000000000143,
          866.5000000000141,
          846.3000000000119,
          821.600000000011,
          773.4000000000132,
          846.6000000000159,
          851.1000000000143,
          848.5000000000128,
          810.4000000000145,
          761.7000000000127,
          663.7000000000123,
          658.400000000012,
          610.7000000000116,
          601.1000000000121,
          602.7000000000126,
          645.3000000000142,
          564.0000000000123,
          499.00000000001313,
          491.30000000001155,
          494.5000000000112,
          487.20000000001113,
          488.0000000000097,
          505.50000000000944,
          562.3000000000108,
          494.00000000001194,
          458.70000000001176,
          313.1000000000146,
          323.30000000001496,
          321.100000000013,
          238.90000000001123,
          256.60000000001173,
          259.00000000001194,
          226.7000000000112,
          223.9000000000106,
          217.30000000001115,
          190.9000000000114,
          143.80000000001064,
          149.9000000000105,
          130.30000000001047,
          106.30000000001311,
          93.20000000001309,
          94.60000000001227,
          85.3000000000113,
          4.600000000010283,
          19.600000000012404,
          -39.99999999998575,
          -112.79999999998306,
          -142.89999999998042,
          -179.699999999981,
          -231.89999999998014,
          -231.89999999998014,
          -124.6999999999784,
          78.10000000002059,
          60.000000000020805,
          103.10000000002228,
          340.0000000000242,
          340.2000000000233,
          331.90000000002334,
          502.4000000000223,
          494.2000000000219,
          477.8000000000221,
          399.7000000000234,
          354.30000000002354,
          334.30000000002354,
          321.80000000002383,
          329.4000000000237,
          298.80000000002303,
          249.80000000002354,
          202.50000000002632,
          157.50000000002575,
          153.3000000000256,
          153.6000000000256,
          155.20000000002764,
          281.6000000000305,
          406.20000000002966,
          345.4000000000288,
          349.00000000002893,
          275.6000000000277,
          222.80000000002929,
          211.20000000002878,
          190.8000000000295,
          344.8000000000303,
          316.30000000003014,
          783.2000000000305,
          960.4000000000303,
          1034.8000000000304,
          1168.5000000000293,
          1316.200000000029,
          1370.0000000000286,
          1472.600000000029,
          1527.700000000028,
          1537.0000000000268,
          1545.1000000000265,
          1583.0000000000273,
          1610.6000000000283,
          1564.2000000000285,
          1473.000000000031,
          1404.7000000000317,
          1434.7000000000328,
          1453.4000000000322,
          1439.3000000000322,
          1539.0000000000332,
          1604.9000000000342,
          1644.1000000000356,
          1794.9000000000342,
          1881.000000000036,
          1969.2000000000364,
          2087.2000000000344,
          2102.400000000036,
          2097.100000000036,
          1961.000000000034,
          1967.6000000000352,
          1975.6000000000352,
          1879.300000000035,
          1867.1000000000354,
          1809.2000000000346,
          1818.5000000000346,
          1811.2000000000344,
          1771.0000000000364,
          1767.8000000000354,
          1719.5000000000343,
          1712.9000000000344,
          1811.5000000000334,
          1836.9000000000335,
          1825.6000000000338,
          1758.4000000000333,
          1903.7000000000337,
          1888.500000000034,
          2002.5000000000348,
          2144.200000000036,
          2074.6000000000354,
          2026.2000000000337,
          1890.8000000000372,
          1842.3000000000372,
          1766.9000000000353,
          1782.7000000000355,
          1784.9000000000322,
          1752.8000000000306,
          1855.4000000000287,
          1918.0000000000298,
          2087.70000000003,
          2125.4000000000315,
          2106.0000000000314,
          2080.800000000033,
          2066.600000000033,
          2074.200000000033,
          2049.3000000000343,
          1990.5000000000343,
          1959.2000000000346,
          1965.0000000000348,
          1889.9000000000365,
          1882.3000000000366,
          1958.5000000000362,
          1970.8000000000368,
          1969.5000000000387,
          1922.0000000000389,
          1914.6000000000392,
          1964.6000000000392,
          1957.2000000000394,
          1939.8000000000409,
          2076.7000000000407,
          2124.500000000042,
          2113.2000000000435,
          2340.9000000000437,
          2668.200000000047,
          2677.000000000047,
          2679.1000000000463,
          2752.8000000000457,
          2788.2000000000444,
          2783.400000000044,
          2778.600000000046,
          2752.3000000000466,
          2734.400000000047,
          2735.100000000047,
          2735.600000000045,
          2710.900000000045,
          2674.600000000045,
          2659.8000000000447,
          2667.2000000000444,
          2642.700000000045,
          2636.7000000000444,
          2609.5000000000427,
          2589.7000000000407,
          2562.0000000000414,
          2545.7000000000435,
          2507.6000000000427,
          2501.200000000043,
          2482.5000000000427,
          2487.5000000000423,
          2507.9000000000415,
          2426.0000000000455,
          2373.5000000000446,
          2382.100000000044,
          2397.400000000042,
          2376.80000000004,
          2377.3000000000407,
          2336.200000000042,
          2321.300000000042,
          2306.600000000039,
          2303.900000000039,
          2299.000000000039,
          2285.7000000000385,
          2285.9000000000374,
          2269.2000000000367,
          2268.9000000000347,
          2246.7000000000326,
          2250.500000000033,
          2267.1000000000354,
          2176.800000000036,
          2138.2000000000335,
          2068.1000000000345,
          2102.100000000033,
          2089.1000000000336,
          2113.0000000000337,
          2126.300000000032,
          2166.0000000000323,
          2129.5000000000314,
          2133.9000000000315,
          2121.900000000029,
          2105.70000000003,
          2077.30000000003,
          2161.3000000000275,
          2122.8000000000284,
          2143.400000000028,
          2135.9000000000283,
          1976.30000000003,
          1963.400000000029,
          1953.100000000028,
          1928.3000000000277,
          1940.5000000000277,
          1941.400000000027,
          1956.4000000000274,
          1924.800000000028,
          1921.600000000028,
          1960.7000000000266,
          1937.2000000000255,
          1916.0000000000261,
          1889.400000000025,
          1911.800000000024,
          1901.0000000000234,
          1905.4000000000237,
          1901.6000000000233,
          1837.500000000022,
          1819.6000000000224,
          1819.5000000000218,
          1810.3000000000216,
          1792.400000000022,
          1761.5000000000216,
          1453.600000000021,
          1334.8000000000193,
          1261.500000000021,
          1197.9000000000215,
          1168.7000000000207,
          1164.7000000000212,
          1196.9000000000212,
          1191.3000000000218,
          1310.700000000024,
          1296.3000000000234,
          1304.7000000000237,
          1242.5000000000236,
          1215.100000000025,
          1198.9000000000253,
          1191.4000000000274,
          1266.900000000027,
          1316.9000000000246,
          1344.7000000000257,
          1234.6000000000265,
          1241.9000000000276,
          1232.6000000000276,
          1134.8000000000275,
          1122.700000000029,
          1112.70000000003,
          1107.60000000003,
          1146.500000000031,
          1109.7000000000305,
          1298.9000000000287,
          1256.0000000000264,
          1403.000000000028,
          1599.7000000000287,
          1696.7000000000294,
          1685.9000000000294,
          1678.900000000028,
          1638.0000000000266,
          1619.400000000026,
          1602.1000000000251,
          1615.1000000000258,
          1662.9000000000256,
          1701.7000000000262,
          1694.6000000000251,
          1698.7000000000248,
          1681.500000000025,
          1730.1000000000258,
          1742.7000000000262,
          1757.600000000026,
          1757.7000000000255,
          1691.2000000000235,
          1737.3000000000256,
          1724.4000000000244,
          1690.2000000000246,
          1540.8000000000254,
          1575.1000000000258,
          1551.2000000000253,
          1535.8000000000266,
          1497.6000000000256,
          1559.3000000000256,
          1610.5000000000248,
          1712.4000000000246,
          1742.7000000000244,
          1885.6000000000256,
          1881.600000000026,
          1866.8000000000266,
          1865.6000000000265,
          1843.5000000000273,
          1840.6000000000272,
          1830.1000000000272,
          1813.1000000000267,
          1799.1000000000272,
          1745.000000000028,
          1800.400000000029,
          1796.000000000029,
          1841.6000000000324,
          1796.7000000000326,
          1773.2000000000376,
          1716.4000000000385,
          1701.8000000000397,
          1568.8000000000422,
          1535.300000000043,
          1438.000000000043,
          1434.5000000000423,
          1438.7000000000432,
          1351.4000000000447,
          1341.8000000000443,
          1315.4000000000444,
          1309.5000000000446,
          1327.200000000045,
          1281.8000000000452,
          1307.1000000000447,
          1283.5000000000418,
          1279.100000000042,
          1153.6000000000424,
          1143.000000000044,
          1156.4000000000442,
          1217.3000000000445,
          1211.7000000000444,
          1285.5000000000439,
          1278.3000000000445,
          1289.400000000043,
          1330.7000000000428,
          1315.5000000000432,
          1417.500000000045,
          1395.9000000000442,
          1370.6000000000417,
          1371.500000000041,
          1341.0000000000402,
          1324.4000000000415,
          1276.1000000000427,
          1267.9000000000422,
          1649.8000000000452,
          1666.9000000000462,
          2093.500000000045,
          2082.500000000044,
          2283.700000000044,
          2272.800000000044,
          2245.0000000000437,
          2213.0000000000427,
          2215.400000000043,
          2474.0000000000423,
          2439.3000000000407,
          2429.90000000004,
          2788.7000000000394,
          3049.1000000000386,
          3059.300000000039,
          3057.2000000000385,
          3049.4000000000383,
          3040.8000000000397,
          2978.6000000000386,
          3048.000000000038,
          3128.60000000004,
          3140.10000000004,
          3126.8000000000407,
          3116.3000000000407,
          3104.50000000004,
          3110.400000000041,
          3100.8000000000416,
          3107.4000000000415,
          3093.600000000041,
          3062.0000000000405,
          3161.000000000042,
          3333.000000000042,
          3546.7000000000417,
          3578.5000000000423,
          3713.4000000000406,
          4120.700000000041,
          4104.800000000041,
          4062.000000000042,
          4067.800000000042,
          4079.1000000000404,
          4082.10000000004,
          4069.1000000000413,
          4061.200000000042,
          4027.0000000000437,
          4016.8000000000434,
          4016.600000000043,
          4069.8000000000425,
          4194.500000000044,
          4166.800000000044,
          4134.500000000043,
          4125.500000000042,
          4082.6000000000404,
          4015.0000000000405,
          3964.3000000000416,
          3933.1000000000427,
          3812.700000000041,
          3808.600000000042,
          3814.40000000004,
          3770.2000000000417,
          3776.300000000043,
          3768.1000000000427,
          3796.2000000000457,
          3810.0000000000427,
          3849.7000000000417,
          3926.400000000043,
          3987.0000000000423,
          4041.1000000000427,
          4046.100000000042,
          4044.500000000043,
          4012.800000000042,
          3955.000000000041,
          3934.200000000041,
          3901.1000000000417,
          3868.8000000000434,
          3872.2000000000435,
          3994.300000000044,
          3998.2000000000426,
          4017.0000000000427,
          3969.100000000044,
          3935.1000000000436,
          3928.2000000000426,
          3917.200000000042,
          3913.900000000043,
          3903.300000000042,
          3892.5000000000423,
          3888.8000000000425,
          3907.700000000043,
          3899.200000000044,
          3859.4000000000437,
          3816.8000000000447,
          3810.8000000000447,
          3660.4000000000456,
          3565.400000000046,
          3531.000000000046,
          3492.3000000000457,
          3663.200000000046,
          3843.200000000046,
          4049.800000000045,
          4508.100000000046,
          4957.600000000048,
          4996.200000000047,
          4995.700000000047,
          5115.000000000049,
          5092.600000000049,
          5040.500000000049,
          5029.300000000049,
          4997.1000000000495,
          4894.50000000005,
          4819.70000000005,
          4844.1000000000495,
          4859.500000000049,
          4883.5000000000455,
          4855.400000000046,
          4825.000000000045,
          4819.300000000045,
          4778.800000000045,
          4760.0000000000455,
          4771.700000000046,
          4759.800000000046,
          4764.300000000045,
          4765.200000000045,
          5034.300000000044,
          5101.600000000044,
          5091.500000000045,
          5075.400000000044,
          5291.700000000038,
          5159.50000000004,
          5118.300000000041,
          5129.50000000004,
          5135.900000000041,
          5222.100000000043,
          5255.400000000042,
          5228.800000000042,
          5177.800000000043,
          5206.800000000038,
          5223.900000000038,
          5394.400000000037,
          5332.400000000037,
          5427.300000000034,
          5411.300000000033,
          5358.800000000033,
          5357.2000000000335,
          5368.7000000000335,
          5361.800000000033,
          5313.7000000000335,
          5262.800000000031,
          5197.4000000000315,
          5092.200000000033,
          5047.000000000034,
          4949.100000000035,
          4699.100000000035,
          4876.200000000036,
          5395.400000000038,
          5326.500000000035,
          5408.600000000035,
          5456.000000000035,
          5417.500000000034,
          5396.400000000034,
          5306.000000000033,
          5309.900000000032,
          5306.300000000033,
          5463.500000000034,
          5550.700000000034,
          5799.600000000035,
          5813.700000000034,
          5818.500000000032,
          5804.9000000000315,
          5823.7000000000335,
          5861.600000000032,
          5850.900000000031,
          5847.60000000003,
          5772.700000000032,
          5768.000000000031,
          5700.800000000031,
          5622.100000000033,
          5461.600000000035,
          5474.500000000031,
          5441.9000000000315,
          5423.80000000003,
          5541.6000000000295,
          5597.200000000032,
          5661.200000000032,
          5714.4000000000315,
          5713.60000000003,
          5856.800000000031,
          5820.800000000033,
          5847.300000000033,
          5816.900000000033,
          5808.000000000035,
          5800.600000000034,
          5780.400000000032,
          5800.300000000032,
          5775.900000000033,
          5754.100000000032,
          5755.700000000032,
          5738.800000000032,
          5775.400000000036,
          5771.400000000036,
          5729.300000000035,
          5662.900000000035,
          5654.700000000034,
          5602.500000000035,
          5571.800000000035,
          5554.800000000035,
          5389.400000000037,
          5369.000000000036,
          5385.800000000037,
          5364.100000000037,
          5442.500000000037,
          5438.000000000036,
          5482.0000000000355,
          5476.000000000036,
          5456.700000000036,
          5426.700000000036,
          5403.100000000037,
          5377.600000000036,
          5373.400000000037,
          5302.800000000037,
          5271.600000000037,
          5231.300000000036,
          5197.200000000036,
          5277.100000000039,
          5233.500000000037,
          5195.100000000036,
          5205.0000000000355,
          5248.900000000036,
          5211.1000000000395,
          5213.600000000039,
          5365.500000000036,
          5444.900000000037,
          5547.200000000036,
          5550.000000000036,
          5538.900000000037,
          5481.500000000036,
          5461.600000000037,
          5418.800000000035,
          5407.800000000035,
          5402.000000000035,
          5405.000000000035,
          5450.100000000032,
          5613.1000000000295,
          5660.200000000032,
          5712.800000000031,
          5826.500000000031,
          5887.300000000029,
          5881.000000000029,
          5859.800000000029,
          5987.20000000003,
          5889.30000000003,
          5801.800000000032,
          5802.700000000031,
          5785.90000000003,
          5724.800000000029,
          5409.900000000032,
          5419.300000000032,
          5453.800000000034,
          5391.100000000033,
          5428.000000000033,
          5351.400000000032,
          5331.300000000032,
          5223.900000000032,
          5208.000000000032,
          5129.600000000031,
          5069.600000000032,
          5029.400000000032,
          4926.800000000031,
          4924.900000000031,
          4845.800000000031,
          4806.800000000031,
          4702.30000000003,
          4652.100000000032,
          4598.500000000033,
          4588.000000000033,
          4519.900000000031,
          4502.000000000029,
          4409.8000000000275,
          4370.500000000028,
          4249.700000000029,
          4227.500000000029,
          4120.900000000029,
          4016.900000000026,
          4019.0000000000264,
          4061.400000000027,
          4108.900000000026,
          4115.600000000023,
          4113.100000000025,
          4079.8000000000234,
          4129.300000000019,
          4235.8000000000175,
          4309.300000000016,
          4257.500000000016,
          4454.600000000017,
          4452.100000000016,
          4278.900000000021,
          4271.30000000002,
          4213.500000000021,
          4188.800000000021,
          4120.500000000022,
          4084.600000000021,
          4080.6000000000204,
          4078.2000000000203,
          4037.2000000000203,
          4021.8000000000206,
          3984.6000000000213,
          3976.800000000021,
          4055.60000000002,
          4037.00000000002,
          4829.000000000018,
          4892.000000000017,
          5114.900000000018,
          4882.600000000015,
          4929.200000000014,
          4884.400000000014,
          4886.100000000014,
          4834.000000000011,
          4740.50000000001,
          4708.700000000011,
          4700.700000000011,
          4680.10000000001,
          4687.700000000009,
          4625.8000000000075,
          4566.700000000006,
          4524.900000000007,
          4554.8000000000075,
          4543.300000000007,
          4533.000000000005,
          4506.300000000004,
          4599.600000000004,
          4576.400000000003,
          4553.2000000000035,
          4571.600000000002,
          4559.300000000001,
          4622.799999999997,
          4623.699999999998,
          4615.899999999998,
          4607.499999999997,
          4614.899999999997,
          4615.699999999995,
          4608.799999999996,
          4583.099999999998,
          4577.299999999997,
          4542.7999999999965,
          4540.599999999998,
          4531.9999999999945,
          4533.9999999999945,
          4431.3999999999905,
          4374.79999999999,
          4272.299999999989,
          4165.199999999991,
          4112.999999999992,
          4151.89999999999,
          4120.099999999988,
          4077.799999999987,
          4091.299999999985,
          4080.6999999999857,
          4092.3999999999837,
          4137.599999999987,
          4133.699999999985,
          4101.699999999984,
          4114.699999999983,
          4080.2999999999834,
          4001.0999999999817,
          3987.9999999999827,
          3982.3999999999837,
          3946.3999999999833,
          3947.099999999986,
          3938.399999999984,
          3942.7999999999843,
          3975.1999999999857,
          4006.9999999999854,
          4017.5999999999863,
          3989.0999999999867,
          3973.899999999987,
          3973.099999999986,
          3932.7999999999874,
          3934.899999999988,
          3921.7999999999874,
          3977.099999999987,
          3941.4999999999873,
          3922.699999999986,
          3883.3999999999887,
          3879.599999999988,
          3913.1999999999884,
          3925.2999999999865,
          3889.099999999987,
          3888.2999999999874,
          3881.4999999999864,
          3866.0999999999876,
          3831.899999999988,
          3834.4999999999873,
          3929.3999999999883,
          3913.6999999999875,
          4035.599999999987,
          4012.5999999999876,
          4018.599999999988,
          4123.499999999989,
          4092.2999999999884,
          4283.999999999988,
          4264.699999999989,
          4435.699999999988,
          4430.099999999987,
          4676.099999999985,
          4668.099999999986,
          4618.399999999987,
          4604.899999999987,
          4619.499999999987,
          4605.099999999988,
          4612.299999999988,
          4589.099999999988,
          4583.199999999987,
          4588.899999999987,
          4634.199999999988,
          4639.699999999987,
          4645.199999999986,
          4641.2999999999865,
          4626.399999999987,
          4616.999999999986,
          4607.299999999985,
          4569.699999999985,
          4554.199999999986,
          4546.7999999999865,
          4366.199999999983,
          4370.599999999982,
          4340.499999999982,
          4431.999999999981,
          4430.399999999981,
          4379.199999999982,
          4410.099999999981,
          4380.199999999981,
          4077.9999999999795,
          4033.49999999998,
          3943.7999999999806,
          3894.0999999999776,
          3879.599999999978,
          3838.49999999998,
          3877.7999999999797,
          3837.19999999998,
          3841.8999999999796,
          3770.799999999979,
          3766.6999999999784,
          3769.0999999999763,
          3768.0999999999763,
          3765.3999999999764,
          3740.9999999999764,
          3739.399999999976,
          3757.099999999976,
          3650.599999999976,
          3640.8999999999755,
          3546.099999999973,
          3516.3999999999714,
          3482.899999999972,
          3451.8999999999714,
          3427.1999999999707,
          3418.6999999999707,
          3420.79999999997,
          3440.3999999999696,
          3567.89999999997,
          3772.6999999999707,
          4064.399999999972,
          4191.199999999971,
          4193.999999999971,
          4202.8999999999705,
          4218.299999999968,
          4159.399999999969,
          4183.799999999968,
          4192.5999999999685,
          4323.29999999997,
          4281.999999999971,
          4267.699999999971,
          4250.3999999999705,
          4238.89999999997,
          4206.299999999971,
          4103.199999999971,
          4123.59999999997,
          4159.69999999997,
          4165.8999999999705,
          4159.899999999971,
          4163.999999999972,
          4147.399999999971,
          4373.1999999999725,
          4350.799999999969,
          4559.29999999997,
          4602.799999999969,
          4588.89999999997,
          4577.69999999997,
          4579.999999999969,
          4575.299999999969,
          4576.499999999971,
          4655.199999999969,
          4663.19999999997,
          4734.299999999969,
          4717.19999999997,
          4739.299999999968,
          4729.999999999968,
          4555.599999999969,
          4537.999999999967,
          4499.099999999968,
          4562.799999999971,
          4533.8999999999705,
          4525.499999999971,
          4509.09999999997,
          4506.59999999997,
          4486.09999999997,
          4487.29999999997,
          4489.099999999971,
          4448.799999999969,
          4450.799999999969,
          4439.79999999997,
          4415.199999999971,
          4383.49999999997,
          4345.299999999972,
          4347.09999999997,
          4312.199999999969,
          4323.599999999968,
          4382.899999999968,
          4366.499999999969,
          4390.499999999971,
          4380.899999999972,
          4437.099999999973,
          4453.899999999973,
          4434.799999999973,
          4418.299999999974,
          4370.699999999975,
          4367.099999999975,
          4350.699999999974,
          4316.099999999977,
          4289.799999999978,
          4305.59999999998,
          4362.59999999998,
          4272.599999999981,
          4269.599999999981,
          4194.599999999983,
          4159.199999999985,
          4168.899999999985,
          4179.299999999985,
          4147.599999999984,
          4165.099999999986,
          4140.499999999986,
          4113.399999999986,
          4043.9999999999854,
          3976.099999999986,
          3944.099999999986,
          3913.399999999988,
          3913.7999999999884,
          3914.599999999988,
          3873.7999999999874,
          3826.799999999986,
          3729.399999999986,
          3748.2999999999856,
          3728.8999999999855,
          3684.799999999985,
          3632.199999999985,
          3576.7999999999865,
          3568.499999999983,
          3558.8999999999824,
          3568.899999999982,
          3629.8999999999833,
          3655.499999999983,
          3648.8999999999833,
          3626.8999999999837,
          3502.399999999984,
          3439.8999999999824,
          3377.4999999999827,
          3359.3999999999846,
          3345.2999999999856,
          3260.8999999999883,
          3277.5999999999885,
          3241.19999999999,
          3208.9999999999886,
          3182.499999999988,
          3008.9999999999877,
          2933.0999999999904,
          2933.39999999999,
          2929.8999999999905,
          2917.0999999999913,
          2809.29999999999,
          2674.2999999999893,
          2673.2999999999893,
          2630.4999999999873,
          2606.799999999988,
          2588.199999999987,
          2592.599999999987,
          2612.399999999987,
          2537.799999999991,
          2490.2999999999915,
          2525.099999999993,
          2535.899999999992,
          2446.4999999999914,
          2412.8999999999915,
          2392.8999999999915,
          2399.9999999999914,
          2443.199999999991,
          2625.9999999999936,
          2598.199999999997,
          2813.899999999997,
          2791.1999999999966,
          2829.499999999997,
          2811.2999999999965,
          2859.1999999999957,
          2886.2999999999965,
          2855.2999999999965,
          2817.4999999999977,
          2804.999999999998,
          2776.500000000001,
          2715.5000000000023,
          2715.100000000003,
          2686.2000000000044,
          2709.200000000004,
          2761.3000000000047,
          2760.400000000005,
          2781.000000000007,
          2828.900000000005,
          2827.100000000012,
          2751.1000000000126,
          2640.6000000000126,
          2669.400000000011,
          2643.800000000012,
          2670.600000000012,
          2676.10000000001,
          2672.70000000001,
          2659.700000000011,
          2699.100000000011,
          2712.500000000012,
          2713.6000000000113,
          2739.2000000000103,
          2763.8000000000106,
          2789.2000000000107,
          2776.3000000000116,
          2690.600000000008,
          2703.1000000000067,
          2791.200000000006,
          2632.8000000000034,
          2694.900000000004,
          2712.3000000000006,
          2709.800000000001,
          2637.2000000000003,
          2581.400000000001,
          2640.9000000000024,
          2641.000000000001,
          2634.8000000000025,
          2725.400000000001,
          2838.8999999999983,
          2987.8999999999987,
          3000.499999999999,
          3016.7999999999993,
          3053.199999999999,
          3048.799999999998,
          3035.899999999998,
          3057.2,
          3021.6,
          2993.2000000000003,
          2961.4000000000005,
          2940.0000000000005,
          2913.0000000000014,
          2856.9999999999995,
          2838.4,
          2816.7000000000003,
          2806.6000000000004,
          2790.2000000000007,
          2714.2000000000003,
          2675.399999999997,
          2664.9999999999977,
          2623.8999999999996,
          2614.999999999999,
          2530.9999999999973,
          2500.499999999998,
          2483.8999999999955,
          2470.6999999999953,
          2427.799999999995,
          2409.7999999999947,
          2387.499999999995,
          2376.3999999999955,
          2331.7999999999943,
          2304.999999999994,
          2275.499999999994,
          2265.299999999994,
          2166.3999999999933,
          2153.5999999999917,
          2044.0999999999924,
          1897.0999999999924,
          1857.0999999999901,
          1757.5999999999917,
          1713.3999999999908,
          1682.9999999999914,
          1670.0999999999913,
          1666.8999999999926,
          1125.2999999999934,
          1014.2999999999922,
          796.4999999999887,
          738.2999999999904,
          753.69999999999,
          751.5999999999896,
          747.3999999999899,
          742.9999999999899,
          743.2999999999896,
          725.6999999999854,
          651.4999999999856,
          590.4999999999857,
          565.0999999999858,
          555.0999999999858,
          563.6999999999871,
          536.2999999999874,
          530.1999999999874,
          448.7999999999904,
          425.0999999999906,
          358.4999999999959,
          346.49999999999613,
          352.7999999999963,
          293.9999999999941,
          272.2999999999929,
          391.59999999999224,
          455.3999999999892,
          449.7999999999913,
          474.4999999999928,
          485.09999999999434,
          430.6999999999966,
          450.89999999999793,
          457.4999999999979,
          665.0999999999972,
          641.2999999999967,
          640.6999999999972,
          621.1999999999982,
          579.299999999999,
          578.2999999999992,
          518.8999999999997,
          595.9000000000012,
          909.5000000000028,
          929.3000000000027,
          972.3000000000023,
          959.900000000001,
          947.700000000001,
          990.5000000000007,
          1070.1,
          1098.3,
          1070.9000000000012,
          1081.700000000001,
          1032.5000000000007,
          991.6000000000001,
          929.6000000000006,
          888.7000000000011,
          880.900000000001,
          862.5000000000001,
          851.6999999999997,
          840.1999999999988,
          835.0999999999987,
          815.3999999999984,
          801.7999999999981,
          764.1999999999982,
          746.3999999999985,
          742.6000000000003,
          737.3999999999984,
          809.0999999999999,
          853.4999999999977,
          898.9999999999995,
          921.3999999999986,
          952.9000000000033,
          875.6000000000033,
          847.8000000000033,
          748.2000000000024,
          700.0000000000036,
          544.8000000000038,
          524.2000000000035,
          519.8000000000023,
          621.1000000000042,
          628.9000000000037,
          638.5000000000023,
          626.8000000000055,
          768.4000000000052,
          770.7000000000047,
          782.9000000000058,
          849.700000000006,
          1395.9000000000033,
          1384.9000000000033,
          1517.2000000000016,
          1535.2000000000019,
          1501.0000000000005,
          1508.2000000000032,
          1497.9000000000024,
          1471.9000000000008,
          1451.7000000000016,
          1451.7000000000016,
          1469.5000000000005,
          1469.8000000000013,
          1405.700000000001,
          1401.9000000000017,
          1383.300000000002,
          1369.900000000003,
          1447.9000000000033,
          1417.5000000000039,
          1416.000000000003,
          1386.200000000002,
          1328.3999999999987,
          1316.7999999999993,
          1299.3000000000002,
          1277.8999999999999,
          1253.0999999999995,
          1247.6999999999973,
          1242.4999999999977,
          1238.3999999999976,
          1234.2999999999975,
          1212.0999999999985,
          1203.899999999998,
          1222.1999999999969,
          1340.1999999999962,
          1368.9999999999961,
          1329.0999999999967,
          1327.799999999997,
          1305.0999999999974,
          1312.899999999995,
          1301.5999999999947,
          1276.9999999999957,
          1227.4999999999957,
          1223.1999999999953,
          1210.6999999999955,
          1214.4999999999966,
          1168.8999999999992,
          1163.3999999999987,
          1141.8999999999983,
          1130.2999999999968,
          1145.0999999999963,
          1178.4999999999952,
          1173.0999999999954,
          1163.2999999999927,
          1134.6999999999919,
          1155.0999999999922,
          1168.5999999999917,
          1125.9999999999925,
          1123.1999999999941,
          1156.399999999995,
          1167.6999999999948,
          1155.999999999996,
          1152.3999999999955,
          1212.899999999993,
          1130.9999999999925,
          1128.3999999999921,
          1132.4999999999918,
          1117.0999999999922,
          1099.8999999999928,
          1233.8999999999937,
          1224.099999999994,
          1281.699999999994,
          1330.199999999991,
          1259.9999999999918,
          1186.3999999999915,
          1103.2999999999915,
          1060.59999999999,
          1152.4999999999895,
          1226.5999999999888,
          1171.9999999999886,
          1023.3999999999877,
          1048.7999999999897,
          1074.9999999999905,
          1051.3999999999912,
          1043.5999999999924,
          1043.5999999999924,
          1061.8999999999912,
          1057.9999999999925,
          1068.7999999999922,
          1051.3999999999915,
          1048.0999999999908,
          1157.1999999999887,
          1126.1999999999896,
          1184.9999999999895,
          1221.0999999999885,
          1234.699999999989,
          1208.0999999999901,
          1200.1999999999907,
          1174.3999999999905,
          1157.39999999999,
          1137.199999999993,
          1085.2999999999925,
          1082.2999999999927,
          1121.8999999999924,
          1123.9999999999907,
          1117.299999999991,
          1120.0999999999917,
          1103.1999999999928,
          1073.5999999999935,
          1128.7999999999931,
          1111.3999999999946,
          1072.299999999994,
          1039.5999999999942,
          1005.0999999999941,
          975.5999999999951,
          986.8999999999947,
          959.2999999999927,
          955.099999999994,
          981.199999999994,
          894.4999999999934,
          936.299999999994,
          909.9999999999935,
          951.7999999999942,
          956.8999999999943,
          988.1999999999931,
          971.1999999999928,
          951.0999999999921,
          909.9999999999903,
          886.0999999999899,
          871.9999999999903,
          859.8999999999899,
          834.5999999999907,
          832.1999999999894,
          899.5999999999896,
          935.9999999999893,
          1138.9999999999848,
          1175.799999999985,
          1182.4999999999845,
          1164.6999999999834,
          1174.799999999983,
          1166.5999999999824,
          1160.1999999999816,
          1155.199999999982,
          1163.099999999981,
          1160.8999999999799,
          1179.8999999999796,
          1160.8999999999799,
          1156.399999999981,
          1156.1999999999807,
          1144.5999999999824,
          1140.6999999999834,
          1139.7999999999847,
          1138.299999999986,
          1094.9999999999866,
          1084.5999999999851,
          1066.6999999999834,
          1042.6999999999834,
          1040.099999999983,
          1066.8999999999833,
          1098.1999999999846,
          1097.499999999984,
          1094.799999999984,
          1093.5999999999851,
          1111.3999999999878,
          1188.5999999999874,
          1155.1999999999862,
          1151.899999999986,
          1077.699999999984,
          962.6999999999841,
          920.199999999983,
          910.199999999983,
          896.6999999999833,
          889.8999999999835,
          887.8999999999849,
          880.3999999999857,
          850.4999999999852,
          853.2999999999856,
          837.899999999986,
          812.899999999986,
          804.8999999999869,
          806.4999999999874,
          758.6999999999896,
          658.5999999999917,
          606.3999999999949,
          599.3999999999934,
          619.4999999999949,
          609.6999999999985,
          580.1999999999999,
          583.6999999999987,
          569.5999999999976,
          563.3999999999959,
          562.9999999999955,
          547.4999999999939,
          508.0999999999933,
          460.3999999999921,
          458.1999999999921,
          429.2999999999923,
          431.8999999999905,
          539.2999999999918,
          547.6999999999913,
          545.2999999999911,
          567.5999999999917,
          565.599999999992,
          553.6999999999917,
          591.0999999999913,
          588.0999999999916,
          587.1999999999913,
          604.099999999991,
          632.1999999999897,
          604.8999999999885,
          568.9999999999898,
          561.2999999999904,
          527.5999999999915,
          538.0999999999915,
          558.2999999999918,
          622.899999999992,
          631.39999999999,
          573.5999999999909,
          533.0999999999898,
          522.0999999999888,
          523.2999999999888,
          507.89999999998844,
          513.2999999999886,
          507.39999999998884,
          477.19999999998817,
          494.1999999999863,
          487.8999999999872,
          465.79999999998836,
          447.19999999999,
          433.89999999998986,
          434.69999999998953,
          371.6999999999898,
          360.09999999998934,
          319.29999999999177,
          358.3999999999948,
          319.19999999999555,
          283.3999999999942,
          266.4999999999945,
          272.0999999999942,
          290.49999999999267,
          231.89999999999424,
          182.9999999999955,
          77.39999999999506,
          45.799999999996764,
          58.0999999999963,
          -18.000000000002643,
          -18.900000000001878,
          21.799999999997194,
          21.69999999999765,
          6.799999999996361,
          -14.400000000004857,
          -17.70000000000649,
          30.899999999996503,
          17.899999999998336,
          24.899999999999785,
          14.699999999999399,
          -34.40000000000203,
          -46.90000000000177,
          -64.10000000000343,
          -78.20000000000255,
          -95.60000000000329,
          -82.40000000000231,
          -105.10000000000083,
          -94.2999999999999,
          -89.6000000000002,
          -12.499999999998693,
          -18.299999999998942,
          -24.399999999998936,
          -23.399999999999046,
          -32.999999999999766,
          -38.20000000000053,
          -103.59999999999931,
          -426.20000000000107,
          -474.6000000000017,
          -466.0000000000009,
          -490.9000000000027,
          -495.7000000000042,
          -476.90000000000254,
          -494.000000000003,
          -517.2000000000037,
          -533.9000000000032,
          -536.5000000000024,
          -506.70000000000255,
          -409.0000000000042,
          -352.60000000000457,
          -377.2000000000054,
          -417.0000000000056,
          -417.50000000000557,
          -387.00000000000557,
          -403.8000000000046,
          -471.2000000000053,
          -576.3000000000069,
          -651.1000000000063,
          -653.9000000000058,
          -656.300000000006,
          -668.8000000000078,
          -593.9000000000054,
          -545.7000000000055,
          -583.400000000006,
          -560.9000000000071,
          -619.8000000000105,
          -630.1000000000103,
          -645.1000000000085,
          -670.2000000000087,
          -681.4000000000087,
          -703.0000000000082,
          -849.9000000000069,
          -811.5000000000063,
          -820.4000000000068,
          -842.4000000000066,
          -820.100000000007,
          -870.4000000000071,
          -878.6000000000075,
          -881.7000000000079,
          -889.1000000000091,
          -895.50000000001,
          -879.3000000000094,
          -851.3000000000093,
          -856.4000000000094,
          -826.8000000000063,
          -831.4000000000053,
          -867.4000000000067,
          -806.0000000000097,
          -833.4000000000093,
          -730.9000000000084,
          -756.7000000000098,
          -778.800000000008,
          -862.0000000000094,
          -913.800000000009,
          -868.0000000000088,
          -904.9000000000066,
          -934.3000000000072,
          -949.3000000000055,
          -958.7000000000049,
          -987.3000000000036,
          -1016.9000000000024,
          -1008.2000000000023,
          -1025.8000000000027,
          -841.100000000005,
          -786.1000000000039,
          -709.6000000000024,
          -716.4000000000026,
          -716.4000000000026,
          -694.5000000000027,
          -697.3000000000034,
          -664.7000000000052,
          -659.8000000000053,
          -660.600000000005,
          -679.400000000005,
          -691.9000000000048,
          -670.3000000000023,
          -666.8000000000027,
          -666.8000000000027,
          -666.6000000000025,
          -622.2000000000033,
          -603.300000000004,
          -632.9000000000048,
          -588.2000000000036,
          -346.2000000000048,
          -246.70000000000454,
          -247.2000000000056,
          -247.90000000000572,
          -262.5000000000059,
          -267.3000000000074,
          -282.00000000000824,
          -284.8000000000077,
          -345.10000000000747,
          -400.2000000000076,
          -413.70000000000834,
          -424.30000000000894,
          -433.10000000000883,
          -449.1000000000093,
          -481.30000000000956,
          -483.70000000000755,
          -520.7000000000079,
          -546.400000000012,
          -563.3000000000118,
          -583.7000000000099,
          -631.9000000000082,
          -498.50000000001023,
          -406.70000000001056,
          -204.5000000000104,
          -171.10000000001142,
          -277.200000000012,
          -224.40000000001135,
          -239.50000000000955,
          -223.7000000000104,
          -283.10000000001196,
          -277.2000000000111,
          -281.40000000001123,
          -402.9000000000144,
          -412.70000000001534,
          -380.20000000001363,
          -383.20000000001374,
          -391.1000000000145,
          -394.900000000015,
          -391.8000000000169,
          -290.70000000001846,
          -321.90000000001857,
          -316.1000000000183,
          -325.00000000001694,
          -338.20000000001744,
          -367.4000000000144,
          -389.80000000001337,
          -457.6000000000166,
          -471.4000000000171,
          -368.50000000001745,
          -309.3000000000176,
          -127.90000000001677,
          -204.30000000001718,
          -224.7000000000176,
          -227.70000000001838,
          -226.90000000001868,
          -170.60000000001955,
          -164.10000000002137,
          -138.40000000001953,
          -151.6000000000194,
          -153.20000000002102,
          -173.50000000001967,
          -192.60000000001992,
          -204.60000000002205,
          -203.60000000002216,
          -210.40000000002232,
          -227.7000000000224,
          -238.7000000000223,
          -209.60000000002262,
          -164.50000000002248,
          -204.60000000002208,
          -185.3000000000222,
          -170.10000000002256,
          -186.1000000000219,
          -192.50000000002166,
          -208.30000000002192,
          -239.50000000002092,
          -234.70000000002057,
          -243.70000000002068,
          -260.5000000000208,
          -262.7000000000208,
          -215.10000000002088,
          -201.6000000000229,
          -215.50000000002294,
          -181.00000000002342,
          -132.20000000002346,
          -129.20000000002491,
          -146.3000000000248,
          -202.60000000002557,
          -245.5000000000246,
          -285.6000000000231,
          -341.6000000000236,
          -357.0000000000235,
          -449.7000000000246,
          -456.30000000002343,
          -471.7000000000233,
          -481.00000000002206,
          -487.6000000000231,
          -529.1000000000222,
          -558.7000000000237,
          -607.8000000000256,
          -646.4000000000261,
          -611.6000000000269,
          -616.9000000000271,
          -622.7000000000263,
          -609.9000000000268,
          -702.8000000000256,
          -808.5000000000247,
          -814.500000000024,
          -870.5000000000222,
          -926.8000000000225,
          -967.6000000000233,
          -959.2000000000229,
          -936.3000000000228,
          -929.6000000000222,
          -985.4000000000214,
          -1014.3000000000201,
          -1038.2000000000212,
          -1056.1000000000208,
          -1065.300000000021,
          -1085.300000000021,
          -1094.600000000021,
          -1103.4000000000206,
          -1114.6000000000213,
          -1090.1000000000217,
          -1117.200000000023,
          -1133.100000000025,
          -1171.8000000000243,
          -1172.5000000000243,
          -1190.4000000000246,
          -1137.3000000000231,
          -992.3000000000219,
          -1037.4000000000244,
          -1048.2000000000248,
          -941.400000000028,
          -1069.4000000000276,
          -1075.6000000000288,
          -1030.2000000000278,
          -984.0000000000279,
          -997.3000000000306,
          -1016.1000000000323,
          -996.8000000000313,
          -999.0000000000324,
          -894.3000000000326,
          -901.0000000000321,
          -918.7000000000303,
          -932.3000000000294,
          -935.6000000000288,
          -952.8000000000285,
          -1034.9000000000271,
          -1050.800000000027,
          -966.700000000029,
          -961.6000000000289,
          -949.0000000000292,
          -950.4000000000307,
          -1018.0000000000294,
          -1027.4000000000287,
          -1030.3000000000277,
          -1036.3000000000293,
          -1045.2000000000276,
          -1053.70000000003,
          -1074.4000000000312,
          -1107.6000000000327,
          -1124.8000000000325,
          -1138.6000000000329,
          -1217.500000000041,
          -1241.0000000000384,
          -1243.0000000000396,
          -1304.4000000000415,
          -1307.8000000000416,
          -1329.0000000000416,
          -1290.900000000044,
          -1343.3000000000452,
          -1364.100000000046,
          -1261.3000000000477,
          -1290.900000000047,
          -1271.1000000000463,
          -1274.4000000000444,
          -1445.7000000000467,
          -1467.5000000000473,
          -1483.7000000000492,
          -1527.7000000000487,
          -1553.9000000000487,
          -1568.6000000000474,
          -1390.0000000000473,
          -1198.7000000000462,
          -915.9000000000449,
          -555.6000000000427,
          -501.90000000004255,
          -537.4000000000442,
          -528.200000000045,
          -568.3000000000457,
          -594.2000000000455,
          -664.3000000000451,
          -682.3000000000432,
          -685.7000000000432,
          -689.2000000000429,
          -699.8000000000413,
          -700.3000000000424,
          -706.500000000042,
          -675.2000000000423,
          -668.2000000000409,
          -676.0000000000409,
          -686.2000000000389,
          -715.6000000000383,
          -730.0000000000372,
          -733.9000000000372,
          -753.0000000000357,
          -864.7000000000347,
          -869.5000000000351,
          -876.9000000000348,
          -962.9000000000342,
          -843.8000000000334,
          -852.4000000000333,
          -803.900000000034,
          -821.900000000032,
          -959.5000000000306,
          -1091.1000000000317,
          -1084.200000000031,
          -1103.3000000000306,
          -1109.500000000029,
          -1184.500000000029,
          -1326.2000000000278,
          -1297.1000000000267,
          -1361.200000000027,
          -1625.4000000000258,
          -1653.0000000000227,
          -1306.6000000000217,
          -1389.4000000000192,
          -1303.5000000000182,
          -1226.9000000000183,
          -1026.3000000000186,
          -871.9000000000178,
          -873.2000000000183,
          -766.7000000000186,
          -767.2000000000196,
          -799.2000000000203,
          -755.6000000000189,
          -710.6000000000195,
          -670.0000000000189,
          -639.0000000000168,
          -611.8000000000177,
          -685.2000000000166,
          -735.7000000000166,
          -751.8000000000167,
          -778.500000000014,
          -757.6000000000137,
          -764.8000000000142,
          -729.2000000000141,
          -733.000000000016,
          -750.4000000000167,
          -739.5000000000159,
          -722.3000000000143,
          -706.0000000000134,
          -469.4000000000144,
          -348.9000000000152,
          -299.00000000001285,
          -191.60000000001313,
          -180.60000000001176,
          -192.20000000001227,
          -216.80000000001354,
          -222.2000000000109,
          -227.60000000001077,
          -233.8000000000114,
          -144.10000000000943,
          -149.70000000000948,
          -157.7000000000097,
          -173.30000000000976,
          -185.90000000001007,
          -203.40000000000836,
          -217.20000000000817,
          -261.5000000000075,
          -275.4000000000085,
          -285.5000000000081,
          -278.60000000000923,
          -292.00000000000915,
          -292.50000000000796,
          -294.7000000000068,
          -329.4000000000048,
          -315.4000000000041,
          -311.60000000000366,
          -316.6000000000035,
          -338.5000000000048,
          -336.80000000000314,
          -349.80000000000393,
          -349.80000000000393,
          -384.0000000000026,
          -407.50000000000335,
          -412.80000000000365,
          -457.3000000000047,
          -516.7000000000041,
          -629.4000000000028,
          -688.000000000001,
          -729.399999999999,
          -697.6999999999998,
          -685.4999999999998,
          -680.299999999999,
          -539.8999999999941,
          -544.8999999999935,
          -547.0999999999934,
          -535.0999999999926,
          -543.1999999999939,
          -516.9999999999939,
          -575.7999999999932,
          -577.6999999999935,
          -578.3999999999936,
          -555.0999999999942,
          -566.2999999999954,
          -646.9999999999966,
          -720.5999999999981,
          -734.1999999999972,
          -651.4999999999978,
          -756.3999999999985,
          -769.8999999999975,
          -774.6999999999952,
          -811.4999999999939,
          -819.6999999999942,
          -834.4999999999939,
          -818.1999999999937,
          -824.9999999999936,
          -818.8999999999936,
          -833.5999999999942,
          -858.0999999999947,
          -887.699999999996,
          -898.6999999999958,
          -914.0999999999955,
          -968.4999999999956,
          -980.3999999999955,
          -1023.7999999999971,
          -1023.6999999999964,
          -1024.0999999999967,
          -1043.3999999999967,
          -1106.9999999999982,
          -1107.1999999999985,
          -1116.1999999999991,
          -1141.3,
          -1149.100000000001,
          -1166.4000000000012,
          -1176.000000000002,
          -1188.700000000001,
          -1200.3000000000004,
          -1197.9000000000003,
          -1135.7999999999997,
          -1168.5999999999992,
          -1149.7999999999981,
          -1139.099999999997,
          -1143.8999999999974,
          -1158.0999999999972,
          -1157.3000000000009,
          -1187,
          -1166.6,
          -1102.599999999999,
          -1013.9999999999985,
          -951.099999999999,
          -923.0999999999993,
          -957.5000000000005,
          -940.100000000002,
          -906.8000000000014,
          -892.900000000001,
          -920.7000000000011,
          -893.8000000000013,
          -904.1999999999985,
          -914.5999999999977,
          -886.8999999999969,
          -808.6999999999967,
          -707.8999999999959,
          -608.799999999998,
          -628.7999999999992,
          -650.8999999999929,
          -629.5999999999933,
          -449.2999999999935,
          -425.8999999999944,
          -392.69999999999453,
          -395.2999999999916,
          -408.299999999993,
          -400.0999999999948,
          -402.09999999999457,
          -433.199999999994,
          -453.499999999996,
          -491.99999999999574,
          -483.89999999999594,
          -482.4999999999957,
          -472.6999999999959,
          -483.8999999999954,
          -597.7999999999977,
          -604.5999999999979,
          -447.3999999999983,
          -480.59999999999815,
          -465.79999999999853,
          -517.8999999999979,
          -599.3000000000005,
          -553.2000000000005,
          -565.4000000000005,
          -571.2000000000008,
          -511.5000000000005,
          -535.9000000000003,
          -588.1000000000004,
          -684.2000000000015,
          -836.6000000000026,
          -840.7000000000023,
          -776.2000000000039,
          -753.400000000003,
          -728.4000000000062,
          -800.0000000000086,
          -695.0000000000068,
          -716.8000000000076,
          -702.0000000000083,
          -751.9000000000078,
          -773.7000000000086,
          -786.3000000000089,
          -767.8000000000083,
          -764.1000000000085,
          -605.0000000000095,
          -638.7000000000082,
          -650.2000000000063,
          -662.5000000000069,
          -685.0000000000077,
          -711.000000000007,
          -752.8000000000045,
          -762.0000000000048,
          -761.0000000000051,
          -763.700000000005,
          -774.1000000000043,
          -702.1000000000067,
          -692.5000000000072,
          -648.5000000000065,
          -648.2000000000068,
          -630.8000000000062,
          -583.000000000005,
          -583.400000000001,
          -567.1000000000008,
          -613.6999999999997,
          -626.0999999999988,
          -638.9999999999967,
          -631.1999999999966,
          -631.2999999999951,
          -633.6999999999953,
          -631.6999999999932,
          -643.3999999999922,
          -642.6999999999921,
          -712.5999999999904,
          -690.49999999999,
          -710.7999999999895,
          -710.0999999999893,
          -709.8999999999902,
          -676.9999999999911,
          -667.299999999992,
          -701.6999999999931,
          -704.8999999999941,
          -718.799999999994,
          -734.2999999999935,
          -752.9999999999939,
          -784.599999999995,
          -793.899999999994,
          -814.4999999999934,
          -819.8999999999933,
          -823.3999999999929,
          -817.099999999992,
          -781.6999999999925,
          -800.6999999999927,
          -704.1999999999922,
          -819.0999999999909,
          -730.5999999999901,
          -792.3999999999897,
          -851.4999999999906,
          -1015.8999999999897,
          -1024.1999999999898,
          -1029.59999999999,
          -1144.6999999999875,
          -1219.499999999989,
          -1157.7999999999913,
          -1144.9999999999898,
          -1148.0999999999897,
          -1172.4999999999914,
          -1192.2999999999902,
          -1203.8999999999896,
          -1226.8999999999894,
          -1206.7999999999886,
          -1218.3999999999867,
          -1162.6999999999878,
          -1229.2999999999843,
          -1303.9999999999836,
          -1314.5999999999844,
          -1288.0999999999815,
          -1259.4999999999807,
          -1280.899999999981,
          -1298.0999999999826,
          -1355.5999999999806,
          -1370.5999999999813,
          -1377.3999999999814,
          -1398.89999999998,
          -1403.29999999998,
          -1487.799999999979,
          -1522.7999999999774,
          -1531.7999999999765,
          -1546.6999999999764,
          -1561.9999999999768,
          -1494.599999999975,
          -1387.8999999999728,
          -1287.1999999999753,
          -1179.199999999974,
          -1105.8999999999746,
          -1143.9999999999745,
          -855.8999999999756,
          -734.0999999999749,
          -769.6999999999744,
          -769.1999999999744,
          -761.0999999999746,
          -642.5999999999717,
          -564.8999999999703,
          -519.0999999999723,
          -513.6999999999716,
          -442.0999999999714,
          -457.4999999999723,
          -470.0999999999727,
          -490.0999999999738,
          -452.39999999997553,
          -445.09999999997547,
          -457.49999999997453,
          -412.3999999999744,
          -351.499999999974,
          -367.19999999997475,
          -365.0999999999752,
          -372.8999999999752,
          -403.49999999997556,
          -440.7999999999766,
          -446.9999999999761,
          -445.99999999997624,
          -431.399999999975,
          -497.89999999997434,
          -473.1999999999757,
          -547.3999999999756,
          -570.3999999999753,
          -575.099999999975,
          -578.6999999999753,
          -584.2999999999753,
          -581.8999999999752,
          -638.4999999999752,
          -679.8999999999752,
          -641.5999999999764,
          -667.6999999999741,
          -668.1999999999737,
          -668.6999999999747,
          -670.0999999999742,
          -607.5999999999756,
          -572.2999999999747,
          -742.6999999999748,
          -744.9999999999744,
          -768.799999999975,
          -744.0999999999749,
          -792.0999999999741,
          -777.8999999999733,
          -798.199999999972,
          -850.2999999999722,
          -915.0999999999702,
          -926.4999999999683,
          -924.4999999999674,
          -934.8999999999667,
          -921.5999999999657,
          -914.7999999999678,
          -929.8999999999667,
          -935.8999999999673,
          -955.1999999999672,
          -1004.9999999999682,
          -1079.1999999999678,
          -1097.7999999999674,
          -1105.999999999968,
          -1111.599999999969,
          -1107.2999999999663,
          -1234.699999999964,
          -1203.7999999999643,
          -1243.0999999999635,
          -1318.2999999999633,
          -1315.0999999999635,
          -1315.3999999999635,
          -1427.6999999999653,
          -1572.4999999999657,
          -1589.4999999999645,
          -1540.4999999999632,
          -1631.3999999999633,
          -1715.5999999999642,
          -1677.6999999999648,
          -1677.7999999999654,
          -1633.7999999999647,
          -1387.1999999999657,
          -1423.6999999999673,
          -1472.9999999999634,
          -1487.1999999999632,
          -1492.2999999999633,
          -1534.2999999999643,
          -1560.499999999965,
          -1589.299999999965,
          -1645.4999999999645,
          -1732.5999999999626,
          -1786.5999999999633,
          -1888.0999999999624,
          -1905.7999999999604,
          -1957.999999999961,
          -2024.6999999999614,
          -2036.9999999999604,
          -2077.099999999962,
          -2089.6999999999625,
          -2034.699999999962,
          -1885.6999999999593,
          -1879.69999999996,
          -1896.8999999999596,
          -1930.8999999999603,
          -1936.999999999961,
          -1957.19999999996,
          -2148.0999999999585,
          -2130.3999999999587,
          -2153.3999999999596,
          -2037.4999999999604,
          -2052.99999999996,
          -2057.699999999957,
          -2060.1999999999566,
          -2052.9999999999563,
          -2064.1999999999566,
          -2067.4999999999554,
          -2067.899999999956,
          -2070.9999999999536,
          -2067.0999999999526,
          -2056.79999999995,
          -2072.29999999995,
          -2076.99999999995,
          -2093.6999999999507,
          -2017.0999999999517,
          -2013.899999999952,
          -1999.699999999952,
          -2039.699999999952,
          -2085.1999999999525,
          -2065.999999999953,
          -2110.1999999999516,
          -2354.1999999999516,
          -2355.9999999999523,
          -2363.299999999951,
          -2365.4999999999523,
          -2376.499999999953,
          -2402.3999999999505,
          -2418.5999999999513,
          -2140.8999999999496,
          -2080.8999999999496,
          -2024.899999999951,
          -1990.4999999999511,
          -1974.699999999952,
          -1994.5999999999515,
          -2001.8999999999505,
          -2018.0999999999501,
          -2010.499999999949,
          -2013.0999999999483,
          -2035.6999999999498,
          -2034.2999999999506,
          -2152.8999999999505,
          -2233.4999999999504,
          -2258.899999999948,
          -2261.299999999948,
          -2260.399999999951,
          -2305.2999999999465,
          -2301.5999999999476,
          -2304.2999999999474,
          -2384.499999999951,
          -2404.299999999952,
          -2422.799999999952,
          -2439.599999999952,
          -2478.9999999999536,
          -2494.4999999999554,
          -2500.5999999999553,
          -2556.599999999956,
          -2616.6999999999543,
          -2630.699999999955,
          -2631.9999999999545
         ]
        }
       ],
       "layout": {
        "font": {
         "color": "#e1e1e1",
         "size": 10
        },
        "height": 400,
        "margin": {
         "b": 10,
         "l": 15,
         "r": 15
        },
        "paper_bgcolor": "#1e1e1e",
        "plot_bgcolor": "#1e1e1e",
        "template": {
         "data": {
          "bar": [
           {
            "error_x": {
             "color": "#2a3f5f"
            },
            "error_y": {
             "color": "#2a3f5f"
            },
            "marker": {
             "line": {
              "color": "#E5ECF6",
              "width": 0.5
             },
             "pattern": {
              "fillmode": "overlay",
              "size": 10,
              "solidity": 0.2
             }
            },
            "type": "bar"
           }
          ],
          "barpolar": [
           {
            "marker": {
             "line": {
              "color": "#E5ECF6",
              "width": 0.5
             },
             "pattern": {
              "fillmode": "overlay",
              "size": 10,
              "solidity": 0.2
             }
            },
            "type": "barpolar"
           }
          ],
          "carpet": [
           {
            "aaxis": {
             "endlinecolor": "#2a3f5f",
             "gridcolor": "white",
             "linecolor": "white",
             "minorgridcolor": "white",
             "startlinecolor": "#2a3f5f"
            },
            "baxis": {
             "endlinecolor": "#2a3f5f",
             "gridcolor": "white",
             "linecolor": "white",
             "minorgridcolor": "white",
             "startlinecolor": "#2a3f5f"
            },
            "type": "carpet"
           }
          ],
          "choropleth": [
           {
            "colorbar": {
             "outlinewidth": 0,
             "ticks": ""
            },
            "type": "choropleth"
           }
          ],
          "contour": [
           {
            "colorbar": {
             "outlinewidth": 0,
             "ticks": ""
            },
            "colorscale": [
             [
              0,
              "#0d0887"
             ],
             [
              0.1111111111111111,
              "#46039f"
             ],
             [
              0.2222222222222222,
              "#7201a8"
             ],
             [
              0.3333333333333333,
              "#9c179e"
             ],
             [
              0.4444444444444444,
              "#bd3786"
             ],
             [
              0.5555555555555556,
              "#d8576b"
             ],
             [
              0.6666666666666666,
              "#ed7953"
             ],
             [
              0.7777777777777778,
              "#fb9f3a"
             ],
             [
              0.8888888888888888,
              "#fdca26"
             ],
             [
              1,
              "#f0f921"
             ]
            ],
            "type": "contour"
           }
          ],
          "contourcarpet": [
           {
            "colorbar": {
             "outlinewidth": 0,
             "ticks": ""
            },
            "type": "contourcarpet"
           }
          ],
          "heatmap": [
           {
            "colorbar": {
             "outlinewidth": 0,
             "ticks": ""
            },
            "colorscale": [
             [
              0,
              "#0d0887"
             ],
             [
              0.1111111111111111,
              "#46039f"
             ],
             [
              0.2222222222222222,
              "#7201a8"
             ],
             [
              0.3333333333333333,
              "#9c179e"
             ],
             [
              0.4444444444444444,
              "#bd3786"
             ],
             [
              0.5555555555555556,
              "#d8576b"
             ],
             [
              0.6666666666666666,
              "#ed7953"
             ],
             [
              0.7777777777777778,
              "#fb9f3a"
             ],
             [
              0.8888888888888888,
              "#fdca26"
             ],
             [
              1,
              "#f0f921"
             ]
            ],
            "type": "heatmap"
           }
          ],
          "heatmapgl": [
           {
            "colorbar": {
             "outlinewidth": 0,
             "ticks": ""
            },
            "colorscale": [
             [
              0,
              "#0d0887"
             ],
             [
              0.1111111111111111,
              "#46039f"
             ],
             [
              0.2222222222222222,
              "#7201a8"
             ],
             [
              0.3333333333333333,
              "#9c179e"
             ],
             [
              0.4444444444444444,
              "#bd3786"
             ],
             [
              0.5555555555555556,
              "#d8576b"
             ],
             [
              0.6666666666666666,
              "#ed7953"
             ],
             [
              0.7777777777777778,
              "#fb9f3a"
             ],
             [
              0.8888888888888888,
              "#fdca26"
             ],
             [
              1,
              "#f0f921"
             ]
            ],
            "type": "heatmapgl"
           }
          ],
          "histogram": [
           {
            "marker": {
             "pattern": {
              "fillmode": "overlay",
              "size": 10,
              "solidity": 0.2
             }
            },
            "type": "histogram"
           }
          ],
          "histogram2d": [
           {
            "colorbar": {
             "outlinewidth": 0,
             "ticks": ""
            },
            "colorscale": [
             [
              0,
              "#0d0887"
             ],
             [
              0.1111111111111111,
              "#46039f"
             ],
             [
              0.2222222222222222,
              "#7201a8"
             ],
             [
              0.3333333333333333,
              "#9c179e"
             ],
             [
              0.4444444444444444,
              "#bd3786"
             ],
             [
              0.5555555555555556,
              "#d8576b"
             ],
             [
              0.6666666666666666,
              "#ed7953"
             ],
             [
              0.7777777777777778,
              "#fb9f3a"
             ],
             [
              0.8888888888888888,
              "#fdca26"
             ],
             [
              1,
              "#f0f921"
             ]
            ],
            "type": "histogram2d"
           }
          ],
          "histogram2dcontour": [
           {
            "colorbar": {
             "outlinewidth": 0,
             "ticks": ""
            },
            "colorscale": [
             [
              0,
              "#0d0887"
             ],
             [
              0.1111111111111111,
              "#46039f"
             ],
             [
              0.2222222222222222,
              "#7201a8"
             ],
             [
              0.3333333333333333,
              "#9c179e"
             ],
             [
              0.4444444444444444,
              "#bd3786"
             ],
             [
              0.5555555555555556,
              "#d8576b"
             ],
             [
              0.6666666666666666,
              "#ed7953"
             ],
             [
              0.7777777777777778,
              "#fb9f3a"
             ],
             [
              0.8888888888888888,
              "#fdca26"
             ],
             [
              1,
              "#f0f921"
             ]
            ],
            "type": "histogram2dcontour"
           }
          ],
          "mesh3d": [
           {
            "colorbar": {
             "outlinewidth": 0,
             "ticks": ""
            },
            "type": "mesh3d"
           }
          ],
          "parcoords": [
           {
            "line": {
             "colorbar": {
              "outlinewidth": 0,
              "ticks": ""
             }
            },
            "type": "parcoords"
           }
          ],
          "pie": [
           {
            "automargin": true,
            "type": "pie"
           }
          ],
          "scatter": [
           {
            "fillpattern": {
             "fillmode": "overlay",
             "size": 10,
             "solidity": 0.2
            },
            "type": "scatter"
           }
          ],
          "scatter3d": [
           {
            "line": {
             "colorbar": {
              "outlinewidth": 0,
              "ticks": ""
             }
            },
            "marker": {
             "colorbar": {
              "outlinewidth": 0,
              "ticks": ""
             }
            },
            "type": "scatter3d"
           }
          ],
          "scattercarpet": [
           {
            "marker": {
             "colorbar": {
              "outlinewidth": 0,
              "ticks": ""
             }
            },
            "type": "scattercarpet"
           }
          ],
          "scattergeo": [
           {
            "marker": {
             "colorbar": {
              "outlinewidth": 0,
              "ticks": ""
             }
            },
            "type": "scattergeo"
           }
          ],
          "scattergl": [
           {
            "marker": {
             "colorbar": {
              "outlinewidth": 0,
              "ticks": ""
             }
            },
            "type": "scattergl"
           }
          ],
          "scattermapbox": [
           {
            "marker": {
             "colorbar": {
              "outlinewidth": 0,
              "ticks": ""
             }
            },
            "type": "scattermapbox"
           }
          ],
          "scatterpolar": [
           {
            "marker": {
             "colorbar": {
              "outlinewidth": 0,
              "ticks": ""
             }
            },
            "type": "scatterpolar"
           }
          ],
          "scatterpolargl": [
           {
            "marker": {
             "colorbar": {
              "outlinewidth": 0,
              "ticks": ""
             }
            },
            "type": "scatterpolargl"
           }
          ],
          "scatterternary": [
           {
            "marker": {
             "colorbar": {
              "outlinewidth": 0,
              "ticks": ""
             }
            },
            "type": "scatterternary"
           }
          ],
          "surface": [
           {
            "colorbar": {
             "outlinewidth": 0,
             "ticks": ""
            },
            "colorscale": [
             [
              0,
              "#0d0887"
             ],
             [
              0.1111111111111111,
              "#46039f"
             ],
             [
              0.2222222222222222,
              "#7201a8"
             ],
             [
              0.3333333333333333,
              "#9c179e"
             ],
             [
              0.4444444444444444,
              "#bd3786"
             ],
             [
              0.5555555555555556,
              "#d8576b"
             ],
             [
              0.6666666666666666,
              "#ed7953"
             ],
             [
              0.7777777777777778,
              "#fb9f3a"
             ],
             [
              0.8888888888888888,
              "#fdca26"
             ],
             [
              1,
              "#f0f921"
             ]
            ],
            "type": "surface"
           }
          ],
          "table": [
           {
            "cells": {
             "fill": {
              "color": "#EBF0F8"
             },
             "line": {
              "color": "white"
             }
            },
            "header": {
             "fill": {
              "color": "#C8D4E3"
             },
             "line": {
              "color": "white"
             }
            },
            "type": "table"
           }
          ]
         },
         "layout": {
          "annotationdefaults": {
           "arrowcolor": "#2a3f5f",
           "arrowhead": 0,
           "arrowwidth": 1
          },
          "autotypenumbers": "strict",
          "coloraxis": {
           "colorbar": {
            "outlinewidth": 0,
            "ticks": ""
           }
          },
          "colorscale": {
           "diverging": [
            [
             0,
             "#8e0152"
            ],
            [
             0.1,
             "#c51b7d"
            ],
            [
             0.2,
             "#de77ae"
            ],
            [
             0.3,
             "#f1b6da"
            ],
            [
             0.4,
             "#fde0ef"
            ],
            [
             0.5,
             "#f7f7f7"
            ],
            [
             0.6,
             "#e6f5d0"
            ],
            [
             0.7,
             "#b8e186"
            ],
            [
             0.8,
             "#7fbc41"
            ],
            [
             0.9,
             "#4d9221"
            ],
            [
             1,
             "#276419"
            ]
           ],
           "sequential": [
            [
             0,
             "#0d0887"
            ],
            [
             0.1111111111111111,
             "#46039f"
            ],
            [
             0.2222222222222222,
             "#7201a8"
            ],
            [
             0.3333333333333333,
             "#9c179e"
            ],
            [
             0.4444444444444444,
             "#bd3786"
            ],
            [
             0.5555555555555556,
             "#d8576b"
            ],
            [
             0.6666666666666666,
             "#ed7953"
            ],
            [
             0.7777777777777778,
             "#fb9f3a"
            ],
            [
             0.8888888888888888,
             "#fdca26"
            ],
            [
             1,
             "#f0f921"
            ]
           ],
           "sequentialminus": [
            [
             0,
             "#0d0887"
            ],
            [
             0.1111111111111111,
             "#46039f"
            ],
            [
             0.2222222222222222,
             "#7201a8"
            ],
            [
             0.3333333333333333,
             "#9c179e"
            ],
            [
             0.4444444444444444,
             "#bd3786"
            ],
            [
             0.5555555555555556,
             "#d8576b"
            ],
            [
             0.6666666666666666,
             "#ed7953"
            ],
            [
             0.7777777777777778,
             "#fb9f3a"
            ],
            [
             0.8888888888888888,
             "#fdca26"
            ],
            [
             1,
             "#f0f921"
            ]
           ]
          },
          "colorway": [
           "#636efa",
           "#EF553B",
           "#00cc96",
           "#ab63fa",
           "#FFA15A",
           "#19d3f3",
           "#FF6692",
           "#B6E880",
           "#FF97FF",
           "#FECB52"
          ],
          "font": {
           "color": "#2a3f5f"
          },
          "geo": {
           "bgcolor": "white",
           "lakecolor": "white",
           "landcolor": "#E5ECF6",
           "showlakes": true,
           "showland": true,
           "subunitcolor": "white"
          },
          "hoverlabel": {
           "align": "left"
          },
          "hovermode": "closest",
          "mapbox": {
           "style": "light"
          },
          "paper_bgcolor": "white",
          "plot_bgcolor": "#E5ECF6",
          "polar": {
           "angularaxis": {
            "gridcolor": "white",
            "linecolor": "white",
            "ticks": ""
           },
           "bgcolor": "#E5ECF6",
           "radialaxis": {
            "gridcolor": "white",
            "linecolor": "white",
            "ticks": ""
           }
          },
          "scene": {
           "xaxis": {
            "backgroundcolor": "#E5ECF6",
            "gridcolor": "white",
            "gridwidth": 2,
            "linecolor": "white",
            "showbackground": true,
            "ticks": "",
            "zerolinecolor": "white"
           },
           "yaxis": {
            "backgroundcolor": "#E5ECF6",
            "gridcolor": "white",
            "gridwidth": 2,
            "linecolor": "white",
            "showbackground": true,
            "ticks": "",
            "zerolinecolor": "white"
           },
           "zaxis": {
            "backgroundcolor": "#E5ECF6",
            "gridcolor": "white",
            "gridwidth": 2,
            "linecolor": "white",
            "showbackground": true,
            "ticks": "",
            "zerolinecolor": "white"
           }
          },
          "shapedefaults": {
           "line": {
            "color": "#2a3f5f"
           }
          },
          "ternary": {
           "aaxis": {
            "gridcolor": "white",
            "linecolor": "white",
            "ticks": ""
           },
           "baxis": {
            "gridcolor": "white",
            "linecolor": "white",
            "ticks": ""
           },
           "bgcolor": "#E5ECF6",
           "caxis": {
            "gridcolor": "white",
            "linecolor": "white",
            "ticks": ""
           }
          },
          "title": {
           "x": 0.05
          },
          "xaxis": {
           "automargin": true,
           "gridcolor": "white",
           "linecolor": "white",
           "ticks": "",
           "title": {
            "standoff": 15
           },
           "zerolinecolor": "white",
           "zerolinewidth": 2
          },
          "yaxis": {
           "automargin": true,
           "gridcolor": "white",
           "linecolor": "white",
           "ticks": "",
           "title": {
            "standoff": 15
           },
           "zerolinecolor": "white",
           "zerolinewidth": 2
          }
         }
        },
        "title": {
         "text": "MA_8_16"
        },
        "width": 1000,
        "xaxis": {
         "linecolor": "#3a4a54",
         "linewidth": 1,
         "showgrid": false,
         "zeroline": false
        },
        "yaxis": {
         "linecolor": "#3a4a54",
         "linewidth": 1,
         "showgrid": false,
         "zeroline": false
        }
       }
      }
     },
     "metadata": {},
     "output_type": "display_data"
    },
    {
     "data": {
      "application/vnd.plotly.v1+json": {
       "config": {
        "plotlyServerURL": "https://plot.ly"
       },
       "data": [
        {
         "line": {
          "color": "#3d825f",
          "shape": "spline",
          "width": 2
         },
         "mode": "lines",
         "name": "MA_8_256",
         "type": "scatter",
         "x": [
          "2023-09-20T14:00:00+00:00",
          "2023-09-20T15:00:00+00:00",
          "2023-09-20T17:00:00+00:00",
          "2023-09-20T19:00:00+00:00",
          "2023-09-20T20:00:00+00:00",
          "2023-09-21T02:00:00+00:00",
          "2023-09-21T06:00:00+00:00",
          "2023-09-21T10:00:00+00:00",
          "2023-09-21T11:00:00+00:00",
          "2023-09-21T12:00:00+00:00",
          "2023-09-22T08:00:00+00:00",
          "2023-09-22T10:00:00+00:00",
          "2023-09-25T11:00:00+00:00",
          "2023-09-25T18:00:00+00:00",
          "2023-09-26T13:00:00+00:00",
          "2023-09-26T15:00:00+00:00",
          "2023-09-26T16:00:00+00:00",
          "2023-09-27T14:00:00+00:00",
          "2023-09-27T20:00:00+00:00",
          "2023-09-28T05:00:00+00:00",
          "2023-09-28T06:00:00+00:00",
          "2023-09-28T11:00:00+00:00",
          "2023-09-28T16:00:00+00:00",
          "2023-09-28T20:00:00+00:00",
          "2023-09-29T02:00:00+00:00",
          "2023-09-29T06:00:00+00:00",
          "2023-09-29T17:00:00+00:00",
          "2023-09-29T20:00:00+00:00",
          "2023-10-01T23:00:00+00:00",
          "2023-10-02T08:00:00+00:00",
          "2023-10-02T09:00:00+00:00",
          "2023-10-02T11:00:00+00:00",
          "2023-10-02T12:00:00+00:00",
          "2023-10-02T14:00:00+00:00",
          "2023-10-02T15:00:00+00:00",
          "2023-10-02T21:00:00+00:00",
          "2023-10-03T11:00:00+00:00",
          "2023-10-03T14:00:00+00:00",
          "2023-10-03T20:00:00+00:00",
          "2023-10-03T21:00:00+00:00",
          "2023-10-04T10:00:00+00:00",
          "2023-10-04T12:00:00+00:00",
          "2023-10-04T14:00:00+00:00",
          "2023-10-04T18:00:00+00:00",
          "2023-10-04T23:00:00+00:00",
          "2023-10-05T01:00:00+00:00",
          "2023-10-05T02:00:00+00:00",
          "2023-10-05T04:00:00+00:00",
          "2023-10-05T17:00:00+00:00",
          "2023-10-05T18:00:00+00:00",
          "2023-10-05T21:00:00+00:00",
          "2023-10-06T06:00:00+00:00",
          "2023-10-06T09:00:00+00:00",
          "2023-10-06T10:00:00+00:00",
          "2023-10-06T12:00:00+00:00",
          "2023-10-06T13:00:00+00:00",
          "2023-10-06T14:00:00+00:00",
          "2023-10-06T15:00:00+00:00",
          "2023-10-06T17:00:00+00:00",
          "2023-10-06T18:00:00+00:00",
          "2023-10-08T22:00:00+00:00",
          "2023-10-09T09:00:00+00:00",
          "2023-10-09T10:00:00+00:00",
          "2023-10-09T13:00:00+00:00",
          "2023-10-09T18:00:00+00:00",
          "2023-10-09T19:00:00+00:00",
          "2023-10-09T21:00:00+00:00",
          "2023-10-10T08:00:00+00:00",
          "2023-10-10T09:00:00+00:00",
          "2023-10-10T15:00:00+00:00",
          "2023-10-11T09:00:00+00:00",
          "2023-10-11T15:00:00+00:00",
          "2023-10-11T16:00:00+00:00",
          "2023-10-11T21:00:00+00:00",
          "2023-10-12T01:00:00+00:00",
          "2023-10-12T06:00:00+00:00",
          "2023-10-12T07:00:00+00:00",
          "2023-10-12T08:00:00+00:00",
          "2023-10-12T09:00:00+00:00",
          "2023-10-12T10:00:00+00:00",
          "2023-10-12T12:00:00+00:00",
          "2023-10-12T16:00:00+00:00",
          "2023-10-12T17:00:00+00:00",
          "2023-10-12T19:00:00+00:00",
          "2023-10-12T21:00:00+00:00",
          "2023-10-13T05:00:00+00:00",
          "2023-10-13T12:00:00+00:00",
          "2023-10-13T15:00:00+00:00",
          "2023-10-13T16:00:00+00:00",
          "2023-10-13T17:00:00+00:00",
          "2023-10-13T18:00:00+00:00",
          "2023-10-16T01:00:00+00:00",
          "2023-10-16T05:00:00+00:00",
          "2023-10-16T11:00:00+00:00",
          "2023-10-16T18:00:00+00:00",
          "2023-10-17T07:00:00+00:00",
          "2023-10-17T08:00:00+00:00",
          "2023-10-17T15:00:00+00:00",
          "2023-10-18T15:00:00+00:00",
          "2023-10-18T16:00:00+00:00",
          "2023-10-18T20:00:00+00:00",
          "2023-10-19T01:00:00+00:00",
          "2023-10-19T15:00:00+00:00",
          "2023-10-19T18:00:00+00:00",
          "2023-10-19T23:00:00+00:00",
          "2023-10-20T12:00:00+00:00",
          "2023-10-20T19:00:00+00:00",
          "2023-10-22T21:00:00+00:00",
          "2023-10-23T12:00:00+00:00",
          "2023-10-23T18:00:00+00:00",
          "2023-10-24T16:00:00+00:00",
          "2023-10-24T19:00:00+00:00",
          "2023-10-25T15:00:00+00:00",
          "2023-10-26T07:00:00+00:00",
          "2023-10-26T18:00:00+00:00",
          "2023-10-26T20:00:00+00:00",
          "2023-10-26T23:00:00+00:00",
          "2023-10-27T07:00:00+00:00",
          "2023-10-27T10:00:00+00:00",
          "2023-10-27T12:00:00+00:00",
          "2023-10-27T14:00:00+00:00",
          "2023-10-27T16:00:00+00:00",
          "2023-10-27T19:00:00+00:00",
          "2023-10-29T23:00:00+00:00",
          "2023-10-30T03:00:00+00:00",
          "2023-10-30T12:00:00+00:00",
          "2023-10-30T21:00:00+00:00",
          "2023-10-31T04:00:00+00:00",
          "2023-10-31T05:00:00+00:00",
          "2023-10-31T07:00:00+00:00",
          "2023-10-31T08:00:00+00:00",
          "2023-10-31T09:00:00+00:00",
          "2023-10-31T11:00:00+00:00",
          "2023-10-31T14:00:00+00:00",
          "2023-10-31T16:00:00+00:00",
          "2023-10-31T18:00:00+00:00",
          "2023-10-31T20:00:00+00:00",
          "2023-10-31T22:00:00+00:00",
          "2023-11-01T12:00:00+00:00",
          "2023-11-01T15:00:00+00:00",
          "2023-11-01T19:00:00+00:00",
          "2023-11-02T00:00:00+00:00",
          "2023-11-02T02:00:00+00:00",
          "2023-11-02T12:00:00+00:00",
          "2023-11-02T15:00:00+00:00",
          "2023-11-02T18:00:00+00:00",
          "2023-11-02T21:00:00+00:00",
          "2023-11-03T02:00:00+00:00",
          "2023-11-03T04:00:00+00:00",
          "2023-11-03T13:00:00+00:00",
          "2023-11-03T18:00:00+00:00",
          "2023-11-06T11:00:00+00:00",
          "2023-11-07T05:00:00+00:00",
          "2023-11-08T14:00:00+00:00",
          "2023-11-08T16:00:00+00:00",
          "2023-11-08T17:00:00+00:00",
          "2023-11-08T21:00:00+00:00",
          "2023-11-08T23:00:00+00:00",
          "2023-11-09T03:00:00+00:00",
          "2023-11-09T04:00:00+00:00",
          "2023-11-09T05:00:00+00:00",
          "2023-11-09T06:00:00+00:00",
          "2023-11-09T23:00:00+00:00",
          "2023-11-10T00:00:00+00:00",
          "2023-11-10T02:00:00+00:00",
          "2023-11-10T10:00:00+00:00",
          "2023-11-10T11:00:00+00:00",
          "2023-11-10T13:00:00+00:00",
          "2023-11-10T14:00:00+00:00",
          "2023-11-10T15:00:00+00:00",
          "2023-11-10T17:00:00+00:00",
          "2023-11-10T19:00:00+00:00",
          "2023-11-13T00:00:00+00:00",
          "2023-11-13T06:00:00+00:00",
          "2023-11-13T10:00:00+00:00",
          "2023-11-13T12:00:00+00:00",
          "2023-11-13T13:00:00+00:00",
          "2023-11-13T20:00:00+00:00",
          "2023-11-14T15:00:00+00:00",
          "2023-11-14T16:00:00+00:00",
          "2023-11-14T18:00:00+00:00",
          "2023-11-14T20:00:00+00:00",
          "2023-11-15T03:00:00+00:00",
          "2023-11-15T07:00:00+00:00",
          "2023-11-15T14:00:00+00:00",
          "2023-11-15T17:00:00+00:00",
          "2023-11-16T01:00:00+00:00",
          "2023-11-16T03:00:00+00:00",
          "2023-11-16T10:00:00+00:00",
          "2023-11-16T18:00:00+00:00",
          "2023-11-16T19:00:00+00:00",
          "2023-11-16T20:00:00+00:00",
          "2023-11-17T10:00:00+00:00",
          "2023-11-17T11:00:00+00:00",
          "2023-11-17T13:00:00+00:00",
          "2023-11-17T14:00:00+00:00",
          "2023-11-17T17:00:00+00:00",
          "2023-11-20T00:00:00+00:00",
          "2023-11-20T05:00:00+00:00",
          "2023-11-20T08:00:00+00:00",
          "2023-11-20T11:00:00+00:00",
          "2023-11-20T12:00:00+00:00",
          "2023-11-20T15:00:00+00:00",
          "2023-11-20T18:00:00+00:00",
          "2023-11-20T20:00:00+00:00",
          "2023-11-20T21:00:00+00:00",
          "2023-11-21T02:00:00+00:00",
          "2023-11-21T03:00:00+00:00",
          "2023-11-21T17:00:00+00:00",
          "2023-11-21T23:00:00+00:00",
          "2023-11-22T07:00:00+00:00",
          "2023-11-22T10:00:00+00:00",
          "2023-11-22T13:00:00+00:00",
          "2023-11-22T19:00:00+00:00",
          "2023-11-22T20:00:00+00:00",
          "2023-11-23T02:00:00+00:00",
          "2023-11-23T10:00:00+00:00",
          "2023-11-23T16:00:00+00:00",
          "2023-11-23T17:00:00+00:00",
          "2023-11-24T14:00:00+00:00",
          "2023-11-24T21:00:00+00:00",
          "2023-11-27T05:00:00+00:00",
          "2023-11-27T08:00:00+00:00",
          "2023-11-27T11:00:00+00:00",
          "2023-11-27T12:00:00+00:00",
          "2023-11-27T13:00:00+00:00",
          "2023-11-27T19:00:00+00:00",
          "2023-11-28T00:00:00+00:00",
          "2023-11-28T03:00:00+00:00",
          "2023-11-28T06:00:00+00:00",
          "2023-11-28T11:00:00+00:00",
          "2023-11-28T16:00:00+00:00",
          "2023-11-28T23:00:00+00:00",
          "2023-11-29T05:00:00+00:00",
          "2023-11-29T13:00:00+00:00",
          "2023-11-30T01:00:00+00:00",
          "2023-11-30T12:00:00+00:00",
          "2023-11-30T14:00:00+00:00",
          "2023-11-30T15:00:00+00:00",
          "2023-11-30T17:00:00+00:00",
          "2023-11-30T19:00:00+00:00",
          "2023-11-30T20:00:00+00:00",
          "2023-12-01T02:00:00+00:00",
          "2023-12-01T19:00:00+00:00",
          "2023-12-01T21:00:00+00:00",
          "2023-12-03T23:00:00+00:00",
          "2023-12-04T05:00:00+00:00",
          "2023-12-04T22:00:00+00:00",
          "2023-12-05T07:00:00+00:00",
          "2023-12-05T08:00:00+00:00",
          "2023-12-05T14:00:00+00:00",
          "2023-12-05T18:00:00+00:00",
          "2023-12-06T01:00:00+00:00",
          "2023-12-06T05:00:00+00:00",
          "2023-12-06T19:00:00+00:00",
          "2023-12-07T01:00:00+00:00",
          "2023-12-07T05:00:00+00:00",
          "2023-12-07T08:00:00+00:00",
          "2023-12-07T09:00:00+00:00",
          "2023-12-07T13:00:00+00:00",
          "2023-12-07T14:00:00+00:00",
          "2023-12-08T03:00:00+00:00",
          "2023-12-08T14:00:00+00:00",
          "2023-12-08T15:00:00+00:00",
          "2023-12-08T17:00:00+00:00",
          "2023-12-11T05:00:00+00:00",
          "2023-12-11T13:00:00+00:00",
          "2023-12-11T14:00:00+00:00",
          "2023-12-11T16:00:00+00:00",
          "2023-12-11T17:00:00+00:00",
          "2023-12-11T18:00:00+00:00",
          "2023-12-11T20:00:00+00:00",
          "2023-12-12T05:00:00+00:00",
          "2023-12-12T10:00:00+00:00",
          "2023-12-12T13:00:00+00:00",
          "2023-12-12T14:00:00+00:00",
          "2023-12-12T16:00:00+00:00",
          "2023-12-13T03:00:00+00:00",
          "2023-12-13T04:00:00+00:00",
          "2023-12-13T15:00:00+00:00",
          "2023-12-13T17:00:00+00:00",
          "2023-12-13T19:00:00+00:00",
          "2023-12-13T20:00:00+00:00",
          "2023-12-13T21:00:00+00:00",
          "2023-12-13T22:00:00+00:00",
          "2023-12-14T00:00:00+00:00",
          "2023-12-14T01:00:00+00:00",
          "2023-12-14T02:00:00+00:00",
          "2023-12-14T04:00:00+00:00",
          "2023-12-14T07:00:00+00:00",
          "2023-12-14T09:00:00+00:00",
          "2023-12-14T13:00:00+00:00",
          "2023-12-14T14:00:00+00:00",
          "2023-12-14T15:00:00+00:00",
          "2023-12-14T17:00:00+00:00",
          "2023-12-14T18:00:00+00:00",
          "2023-12-14T19:00:00+00:00",
          "2023-12-15T03:00:00+00:00",
          "2023-12-15T05:00:00+00:00",
          "2023-12-15T09:00:00+00:00",
          "2023-12-15T12:00:00+00:00",
          "2023-12-15T14:00:00+00:00",
          "2023-12-15T18:00:00+00:00",
          "2023-12-15T19:00:00+00:00",
          "2023-12-18T07:00:00+00:00",
          "2023-12-18T11:00:00+00:00",
          "2023-12-18T14:00:00+00:00",
          "2023-12-18T20:00:00+00:00",
          "2023-12-19T02:00:00+00:00",
          "2023-12-19T06:00:00+00:00",
          "2023-12-19T07:00:00+00:00",
          "2023-12-19T08:00:00+00:00",
          "2023-12-19T10:00:00+00:00",
          "2023-12-19T17:00:00+00:00",
          "2023-12-19T18:00:00+00:00",
          "2023-12-20T10:00:00+00:00",
          "2023-12-20T12:00:00+00:00",
          "2023-12-21T00:00:00+00:00",
          "2023-12-21T08:00:00+00:00",
          "2023-12-21T20:00:00+00:00",
          "2023-12-21T21:00:00+00:00",
          "2023-12-22T21:00:00+00:00",
          "2023-12-26T12:00:00+00:00",
          "2023-12-27T05:00:00+00:00",
          "2023-12-27T14:00:00+00:00",
          "2023-12-27T15:00:00+00:00",
          "2023-12-27T17:00:00+00:00",
          "2023-12-28T03:00:00+00:00",
          "2023-12-28T08:00:00+00:00",
          "2023-12-28T12:00:00+00:00",
          "2023-12-28T14:00:00+00:00",
          "2023-12-28T16:00:00+00:00",
          "2023-12-28T20:00:00+00:00",
          "2023-12-28T21:00:00+00:00",
          "2023-12-28T22:00:00+00:00",
          "2023-12-29T00:00:00+00:00",
          "2023-12-29T01:00:00+00:00",
          "2023-12-29T15:00:00+00:00",
          "2023-12-29T18:00:00+00:00",
          "2024-01-02T08:00:00+00:00",
          "2024-01-02T09:00:00+00:00",
          "2024-01-02T11:00:00+00:00",
          "2024-01-02T12:00:00+00:00",
          "2024-01-02T13:00:00+00:00",
          "2024-01-02T15:00:00+00:00",
          "2024-01-02T17:00:00+00:00",
          "2024-01-02T22:00:00+00:00",
          "2024-01-03T06:00:00+00:00",
          "2024-01-03T11:00:00+00:00",
          "2024-01-03T12:00:00+00:00",
          "2024-01-03T13:00:00+00:00",
          "2024-01-03T16:00:00+00:00",
          "2024-01-03T17:00:00+00:00",
          "2024-01-03T19:00:00+00:00",
          "2024-01-03T23:00:00+00:00",
          "2024-01-04T05:00:00+00:00",
          "2024-01-04T07:00:00+00:00",
          "2024-01-04T13:00:00+00:00",
          "2024-01-04T17:00:00+00:00",
          "2024-01-05T07:00:00+00:00",
          "2024-01-05T10:00:00+00:00",
          "2024-01-05T17:00:00+00:00",
          "2024-01-05T18:00:00+00:00",
          "2024-01-05T20:00:00+00:00",
          "2024-01-05T21:00:00+00:00",
          "2024-01-08T03:00:00+00:00",
          "2024-01-08T15:00:00+00:00",
          "2024-01-09T12:00:00+00:00",
          "2024-01-09T19:00:00+00:00",
          "2024-01-09T20:00:00+00:00",
          "2024-01-10T05:00:00+00:00",
          "2024-01-10T08:00:00+00:00",
          "2024-01-10T11:00:00+00:00",
          "2024-01-10T12:00:00+00:00",
          "2024-01-10T15:00:00+00:00",
          "2024-01-11T09:00:00+00:00",
          "2024-01-11T14:00:00+00:00",
          "2024-01-12T01:00:00+00:00",
          "2024-01-12T03:00:00+00:00",
          "2024-01-12T05:00:00+00:00",
          "2024-01-12T10:00:00+00:00",
          "2024-01-12T15:00:00+00:00",
          "2024-01-12T20:00:00+00:00",
          "2024-01-15T06:00:00+00:00",
          "2024-01-15T07:00:00+00:00",
          "2024-01-15T08:00:00+00:00",
          "2024-01-15T20:00:00+00:00",
          "2024-01-16T03:00:00+00:00",
          "2024-01-18T22:00:00+00:00",
          "2024-01-19T06:00:00+00:00",
          "2024-01-19T11:00:00+00:00",
          "2024-01-19T14:00:00+00:00",
          "2024-01-22T06:00:00+00:00",
          "2024-01-22T07:00:00+00:00",
          "2024-01-22T08:00:00+00:00",
          "2024-01-22T09:00:00+00:00",
          "2024-01-22T13:00:00+00:00",
          "2024-01-22T14:00:00+00:00",
          "2024-01-22T16:00:00+00:00",
          "2024-01-22T19:00:00+00:00",
          "2024-01-23T00:00:00+00:00",
          "2024-01-23T02:00:00+00:00",
          "2024-01-23T09:00:00+00:00",
          "2024-01-23T12:00:00+00:00",
          "2024-01-23T15:00:00+00:00",
          "2024-01-23T21:00:00+00:00",
          "2024-01-24T01:00:00+00:00",
          "2024-01-24T09:00:00+00:00",
          "2024-01-24T14:00:00+00:00",
          "2024-01-24T16:00:00+00:00",
          "2024-01-24T19:00:00+00:00",
          "2024-01-25T00:00:00+00:00",
          "2024-01-25T05:00:00+00:00",
          "2024-01-25T16:00:00+00:00",
          "2024-01-25T17:00:00+00:00",
          "2024-01-25T19:00:00+00:00",
          "2024-01-25T20:00:00+00:00",
          "2024-01-26T00:00:00+00:00",
          "2024-01-26T01:00:00+00:00",
          "2024-01-26T02:00:00+00:00",
          "2024-01-26T07:00:00+00:00",
          "2024-01-26T10:00:00+00:00",
          "2024-01-26T11:00:00+00:00",
          "2024-01-26T15:00:00+00:00",
          "2024-01-26T16:00:00+00:00",
          "2024-01-26T20:00:00+00:00",
          "2024-01-28T22:00:00+00:00",
          "2024-01-29T01:00:00+00:00",
          "2024-01-29T02:00:00+00:00",
          "2024-01-29T06:00:00+00:00",
          "2024-01-29T08:00:00+00:00",
          "2024-01-29T11:00:00+00:00",
          "2024-01-29T14:00:00+00:00",
          "2024-01-29T18:00:00+00:00",
          "2024-01-29T20:00:00+00:00",
          "2024-01-29T21:00:00+00:00",
          "2024-01-29T22:00:00+00:00",
          "2024-01-29T23:00:00+00:00",
          "2024-01-30T00:00:00+00:00",
          "2024-01-30T10:00:00+00:00",
          "2024-01-30T15:00:00+00:00",
          "2024-01-30T16:00:00+00:00",
          "2024-01-31T08:00:00+00:00",
          "2024-01-31T09:00:00+00:00",
          "2024-01-31T14:00:00+00:00",
          "2024-01-31T16:00:00+00:00",
          "2024-01-31T17:00:00+00:00",
          "2024-01-31T19:00:00+00:00",
          "2024-01-31T21:00:00+00:00",
          "2024-02-01T00:00:00+00:00",
          "2024-02-01T09:00:00+00:00",
          "2024-02-01T18:00:00+00:00",
          "2024-02-01T19:00:00+00:00",
          "2024-02-01T21:00:00+00:00",
          "2024-02-02T02:00:00+00:00",
          "2024-02-02T03:00:00+00:00",
          "2024-02-02T14:00:00+00:00",
          "2024-02-02T15:00:00+00:00",
          "2024-02-02T17:00:00+00:00",
          "2024-02-02T18:00:00+00:00",
          "2024-02-02T19:00:00+00:00",
          "2024-02-05T05:00:00+00:00",
          "2024-02-05T07:00:00+00:00",
          "2024-02-05T08:00:00+00:00",
          "2024-02-05T10:00:00+00:00",
          "2024-02-05T12:00:00+00:00",
          "2024-02-05T15:00:00+00:00",
          "2024-02-05T19:00:00+00:00",
          "2024-02-05T20:00:00+00:00",
          "2024-02-05T21:00:00+00:00",
          "2024-02-06T01:00:00+00:00",
          "2024-02-06T11:00:00+00:00",
          "2024-02-06T18:00:00+00:00",
          "2024-02-07T01:00:00+00:00",
          "2024-02-07T03:00:00+00:00",
          "2024-02-07T07:00:00+00:00",
          "2024-02-07T09:00:00+00:00",
          "2024-02-07T13:00:00+00:00",
          "2024-02-08T02:00:00+00:00",
          "2024-02-08T04:00:00+00:00",
          "2024-02-08T06:00:00+00:00",
          "2024-02-08T09:00:00+00:00",
          "2024-02-08T12:00:00+00:00",
          "2024-02-08T14:00:00+00:00",
          "2024-02-08T17:00:00+00:00",
          "2024-02-08T18:00:00+00:00",
          "2024-02-09T01:00:00+00:00",
          "2024-02-09T02:00:00+00:00",
          "2024-02-09T08:00:00+00:00",
          "2024-02-09T10:00:00+00:00",
          "2024-02-09T15:00:00+00:00",
          "2024-02-09T18:00:00+00:00",
          "2024-02-09T21:00:00+00:00",
          "2024-02-12T06:00:00+00:00",
          "2024-02-12T08:00:00+00:00",
          "2024-02-12T13:00:00+00:00",
          "2024-02-12T19:00:00+00:00",
          "2024-02-13T02:00:00+00:00",
          "2024-02-13T07:00:00+00:00",
          "2024-02-13T08:00:00+00:00",
          "2024-02-13T09:00:00+00:00",
          "2024-02-13T11:00:00+00:00",
          "2024-02-13T12:00:00+00:00",
          "2024-02-13T13:00:00+00:00",
          "2024-02-13T15:00:00+00:00",
          "2024-02-13T17:00:00+00:00",
          "2024-02-13T18:00:00+00:00",
          "2024-02-13T22:00:00+00:00",
          "2024-02-14T05:00:00+00:00",
          "2024-02-14T09:00:00+00:00",
          "2024-02-14T11:00:00+00:00",
          "2024-02-14T14:00:00+00:00",
          "2024-02-14T17:00:00+00:00",
          "2024-02-14T18:00:00+00:00",
          "2024-02-15T09:00:00+00:00",
          "2024-02-15T15:00:00+00:00",
          "2024-02-15T20:00:00+00:00",
          "2024-02-15T21:00:00+00:00",
          "2024-02-15T22:00:00+00:00",
          "2024-02-16T01:00:00+00:00",
          "2024-02-16T02:00:00+00:00",
          "2024-02-16T03:00:00+00:00",
          "2024-02-16T05:00:00+00:00",
          "2024-02-16T09:00:00+00:00",
          "2024-02-16T12:00:00+00:00",
          "2024-02-16T13:00:00+00:00",
          "2024-02-16T15:00:00+00:00",
          "2024-02-16T16:00:00+00:00",
          "2024-02-16T17:00:00+00:00",
          "2024-02-18T23:00:00+00:00",
          "2024-02-19T01:00:00+00:00",
          "2024-02-19T03:00:00+00:00",
          "2024-02-19T14:00:00+00:00",
          "2024-02-19T18:00:00+00:00",
          "2024-02-20T00:00:00+00:00",
          "2024-02-20T07:00:00+00:00",
          "2024-02-20T09:00:00+00:00",
          "2024-02-20T11:00:00+00:00",
          "2024-02-20T13:00:00+00:00",
          "2024-02-20T18:00:00+00:00",
          "2024-02-21T06:00:00+00:00",
          "2024-02-21T11:00:00+00:00",
          "2024-02-22T01:00:00+00:00",
          "2024-02-22T04:00:00+00:00",
          "2024-02-22T15:00:00+00:00",
          "2024-02-22T17:00:00+00:00",
          "2024-02-23T12:00:00+00:00",
          "2024-02-23T13:00:00+00:00",
          "2024-02-23T20:00:00+00:00",
          "2024-02-23T21:00:00+00:00",
          "2024-02-26T09:00:00+00:00",
          "2024-02-26T13:00:00+00:00",
          "2024-02-27T00:00:00+00:00",
          "2024-02-27T09:00:00+00:00",
          "2024-02-27T17:00:00+00:00",
          "2024-02-27T19:00:00+00:00",
          "2024-02-28T02:00:00+00:00",
          "2024-02-28T04:00:00+00:00",
          "2024-02-28T05:00:00+00:00",
          "2024-02-28T06:00:00+00:00",
          "2024-02-28T23:00:00+00:00",
          "2024-02-29T04:00:00+00:00",
          "2024-02-29T07:00:00+00:00",
          "2024-02-29T08:00:00+00:00",
          "2024-02-29T11:00:00+00:00",
          "2024-02-29T17:00:00+00:00",
          "2024-02-29T20:00:00+00:00",
          "2024-02-29T22:00:00+00:00",
          "2024-03-01T05:00:00+00:00",
          "2024-03-01T06:00:00+00:00",
          "2024-03-01T08:00:00+00:00",
          "2024-03-01T09:00:00+00:00",
          "2024-03-01T16:00:00+00:00",
          "2024-03-01T20:00:00+00:00",
          "2024-03-04T02:00:00+00:00",
          "2024-03-04T04:00:00+00:00",
          "2024-03-04T11:00:00+00:00",
          "2024-03-04T15:00:00+00:00",
          "2024-03-04T18:00:00+00:00",
          "2024-03-05T14:00:00+00:00",
          "2024-03-05T18:00:00+00:00",
          "2024-03-06T00:00:00+00:00",
          "2024-03-06T11:00:00+00:00",
          "2024-03-06T12:00:00+00:00",
          "2024-03-06T18:00:00+00:00",
          "2024-03-06T21:00:00+00:00",
          "2024-03-07T03:00:00+00:00",
          "2024-03-07T04:00:00+00:00",
          "2024-03-07T06:00:00+00:00",
          "2024-03-07T09:00:00+00:00",
          "2024-03-07T10:00:00+00:00",
          "2024-03-08T11:00:00+00:00",
          "2024-03-08T17:00:00+00:00",
          "2024-03-11T20:00:00+00:00",
          "2024-03-12T00:00:00+00:00",
          "2024-03-12T12:00:00+00:00",
          "2024-03-12T15:00:00+00:00",
          "2024-03-12T16:00:00+00:00",
          "2024-03-12T23:00:00+00:00",
          "2024-03-13T03:00:00+00:00",
          "2024-03-13T05:00:00+00:00",
          "2024-03-13T07:00:00+00:00",
          "2024-03-13T13:00:00+00:00",
          "2024-03-13T15:00:00+00:00",
          "2024-03-13T16:00:00+00:00",
          "2024-03-13T20:00:00+00:00",
          "2024-03-13T21:00:00+00:00",
          "2024-03-13T23:00:00+00:00",
          "2024-03-14T06:00:00+00:00",
          "2024-03-14T10:00:00+00:00",
          "2024-03-14T15:00:00+00:00",
          "2024-03-14T16:00:00+00:00",
          "2024-03-14T18:00:00+00:00",
          "2024-03-14T20:00:00+00:00",
          "2024-03-14T21:00:00+00:00",
          "2024-03-14T23:00:00+00:00",
          "2024-03-15T00:00:00+00:00",
          "2024-03-15T01:00:00+00:00",
          "2024-03-15T04:00:00+00:00",
          "2024-03-15T05:00:00+00:00",
          "2024-03-15T08:00:00+00:00",
          "2024-03-15T13:00:00+00:00",
          "2024-03-15T14:00:00+00:00",
          "2024-03-15T17:00:00+00:00",
          "2024-03-15T20:00:00+00:00",
          "2024-03-18T03:00:00+00:00",
          "2024-03-18T17:00:00+00:00",
          "2024-03-18T19:00:00+00:00",
          "2024-03-18T22:00:00+00:00",
          "2024-03-19T01:00:00+00:00",
          "2024-03-19T06:00:00+00:00",
          "2024-03-19T13:00:00+00:00",
          "2024-03-19T15:00:00+00:00",
          "2024-03-19T17:00:00+00:00",
          "2024-03-19T18:00:00+00:00",
          "2024-03-20T02:00:00+00:00",
          "2024-03-20T14:00:00+00:00",
          "2024-03-20T16:00:00+00:00",
          "2024-03-20T22:00:00+00:00",
          "2024-03-20T23:00:00+00:00",
          "2024-03-21T09:00:00+00:00",
          "2024-03-21T12:00:00+00:00",
          "2024-03-21T14:00:00+00:00",
          "2024-03-21T16:00:00+00:00",
          "2024-03-22T08:00:00+00:00",
          "2024-03-22T11:00:00+00:00",
          "2024-03-22T15:00:00+00:00",
          "2024-03-24T22:00:00+00:00",
          "2024-03-25T04:00:00+00:00",
          "2024-03-26T01:00:00+00:00",
          "2024-03-26T10:00:00+00:00",
          "2024-03-26T11:00:00+00:00",
          "2024-03-26T12:00:00+00:00",
          "2024-03-26T19:00:00+00:00",
          "2024-03-28T12:00:00+00:00",
          "2024-03-28T14:00:00+00:00",
          "2024-03-28T18:00:00+00:00",
          "2024-03-29T03:00:00+00:00",
          "2024-04-01T17:00:00+00:00",
          "2024-04-01T19:00:00+00:00",
          "2024-04-01T21:00:00+00:00",
          "2024-04-02T05:00:00+00:00",
          "2024-04-02T07:00:00+00:00",
          "2024-04-02T10:00:00+00:00",
          "2024-04-02T17:00:00+00:00",
          "2024-04-03T15:00:00+00:00",
          "2024-04-03T16:00:00+00:00",
          "2024-04-03T17:00:00+00:00",
          "2024-04-03T18:00:00+00:00",
          "2024-04-03T19:00:00+00:00",
          "2024-04-03T20:00:00+00:00",
          "2024-04-03T21:00:00+00:00",
          "2024-04-03T23:00:00+00:00",
          "2024-04-04T00:00:00+00:00",
          "2024-04-04T03:00:00+00:00",
          "2024-04-04T18:00:00+00:00",
          "2024-04-04T21:00:00+00:00",
          "2024-04-04T23:00:00+00:00",
          "2024-04-05T01:00:00+00:00",
          "2024-04-05T02:00:00+00:00",
          "2024-04-05T06:00:00+00:00",
          "2024-04-05T11:00:00+00:00",
          "2024-04-05T12:00:00+00:00",
          "2024-04-05T15:00:00+00:00",
          "2024-04-05T16:00:00+00:00",
          "2024-04-05T19:00:00+00:00",
          "2024-04-07T22:00:00+00:00",
          "2024-04-08T03:00:00+00:00",
          "2024-04-08T11:00:00+00:00",
          "2024-04-08T14:00:00+00:00",
          "2024-04-09T08:00:00+00:00",
          "2024-04-09T12:00:00+00:00",
          "2024-04-09T21:00:00+00:00",
          "2024-04-09T22:00:00+00:00",
          "2024-04-09T23:00:00+00:00",
          "2024-04-10T12:00:00+00:00",
          "2024-04-10T15:00:00+00:00",
          "2024-04-10T16:00:00+00:00",
          "2024-04-10T18:00:00+00:00",
          "2024-04-10T20:00:00+00:00",
          "2024-04-10T21:00:00+00:00",
          "2024-04-11T04:00:00+00:00",
          "2024-04-11T07:00:00+00:00",
          "2024-04-11T14:00:00+00:00",
          "2024-04-11T16:00:00+00:00",
          "2024-04-12T01:00:00+00:00",
          "2024-04-12T05:00:00+00:00",
          "2024-04-12T07:00:00+00:00",
          "2024-04-12T09:00:00+00:00",
          "2024-04-12T10:00:00+00:00",
          "2024-04-12T12:00:00+00:00",
          "2024-04-12T15:00:00+00:00",
          "2024-04-12T16:00:00+00:00",
          "2024-04-15T04:00:00+00:00",
          "2024-04-15T07:00:00+00:00",
          "2024-04-15T12:00:00+00:00",
          "2024-04-15T14:00:00+00:00",
          "2024-04-15T20:00:00+00:00",
          "2024-04-16T11:00:00+00:00",
          "2024-04-16T15:00:00+00:00",
          "2024-04-17T00:00:00+00:00",
          "2024-04-17T02:00:00+00:00",
          "2024-04-17T05:00:00+00:00",
          "2024-04-17T08:00:00+00:00",
          "2024-04-17T14:00:00+00:00",
          "2024-04-17T15:00:00+00:00",
          "2024-04-17T20:00:00+00:00",
          "2024-04-17T21:00:00+00:00",
          "2024-04-18T05:00:00+00:00",
          "2024-04-18T09:00:00+00:00",
          "2024-04-18T14:00:00+00:00",
          "2024-04-18T18:00:00+00:00",
          "2024-04-19T01:00:00+00:00",
          "2024-04-19T03:00:00+00:00",
          "2024-04-19T06:00:00+00:00",
          "2024-04-19T10:00:00+00:00",
          "2024-04-19T18:00:00+00:00",
          "2024-04-21T23:00:00+00:00",
          "2024-04-22T05:00:00+00:00",
          "2024-04-22T13:00:00+00:00",
          "2024-04-24T04:00:00+00:00",
          "2024-04-24T12:00:00+00:00",
          "2024-04-24T20:00:00+00:00",
          "2024-04-25T10:00:00+00:00",
          "2024-04-25T12:00:00+00:00",
          "2024-04-25T13:00:00+00:00",
          "2024-04-25T15:00:00+00:00",
          "2024-04-26T02:00:00+00:00",
          "2024-04-26T04:00:00+00:00",
          "2024-04-26T06:00:00+00:00",
          "2024-04-26T10:00:00+00:00",
          "2024-04-26T15:00:00+00:00",
          "2024-04-26T18:00:00+00:00"
         ],
         "y": [
          -43.79999999999882,
          -98.19999999999993,
          -135.09999999999962,
          -174.5999999999986,
          -102.89999999999962,
          -62.59999999999762,
          -71.49999999999709,
          -83.79999999999661,
          -136.59999999999644,
          -109.59999999999609,
          -139.89999999999583,
          -166.99999999999574,
          -168.1999999999947,
          -186.79999999999256,
          -197.39999999999318,
          -249.49999999999255,
          -266.59999999999354,
          -268.39999999999424,
          -293.1999999999946,
          -200.59999999999414,
          -187.99999999999486,
          -206.999999999995,
          -197.3999999999943,
          -245.09999999999468,
          -344.09999999999275,
          -453.59999999999286,
          -428.9999999999938,
          -452.3999999999939,
          -430.7999999999923,
          -532.3999999999915,
          -369.4999999999912,
          -379.4999999999923,
          -347.0999999999925,
          -400.49999999999113,
          -473.49999999999295,
          -482.7999999999928,
          -526.8999999999933,
          -528.1999999999952,
          -541.2999999999965,
          -397.79999999999677,
          -395.5999999999968,
          -532.5999999999972,
          -578.0999999999955,
          -495.3999999999955,
          -304.499999999995,
          -410.99999999999477,
          -424.79999999999194,
          -423.3999999999917,
          -448.4999999999918,
          -300.5999999999921,
          -313.799999999992,
          -298.1999999999928,
          20.900000000007424,
          -38.69999999999294,
          -54.59999999999275,
          -104.29999999999416,
          -142.6999999999926,
          -235.9999999999947,
          -292.1999999999965,
          -323.4999999999962,
          -357.4999999999958,
          -388.2999999999955,
          -468.39999999999714,
          -490.39999999999986,
          -524.1000000000008,
          -537.9000000000002,
          -636.9000000000004,
          -711.3000000000004,
          -728.2999999999996,
          -751.8999999999988,
          -575.0999999999985,
          -203.90000000000038,
          -249.8000000000007,
          -248.40000000000254,
          -255.10000000000326,
          120.09999999999667,
          110.59999999999678,
          104.59999999999656,
          106.39999999999662,
          78.1999999999984,
          97.00000000000006,
          250.20000000000005,
          205.90000000000072,
          262.9999999999997,
          236.19999999999956,
          219.3999999999983,
          195.1999999999974,
          101.19999999999666,
          14.999999999998167,
          -79.20000000000256,
          -98.90000000000283,
          -150.4000000000027,
          -58.400000000001114,
          -64.00000000000227,
          -160.80000000000138,
          -117.30000000000061,
          -217.3000000000007,
          -44.50000000000108,
          10.69999999999861,
          -22.100000000000882,
          -58.69999999999943,
          -100.19999999999862,
          -86.79999999999966,
          -100.1000000000002,
          -124.60000000000082,
          -152.20000000000044,
          -145.30000000000018,
          313.50000000000125,
          305.6000000000033,
          209.20000000000238,
          200.20000000000115,
          191.3000000000013,
          203.89999999999947,
          203.1999999999993,
          281.1999999999996,
          238.39999999999986,
          371.8999999999996,
          261.5000000000011,
          234.20000000000147,
          319.0000000000019,
          240.20000000000363,
          175.20000000000306,
          166.60000000000224,
          121.60000000000275,
          175.1000000000024,
          142.500000000002,
          123.4000000000012,
          446.60000000000116,
          404.3000000000016,
          312.7000000000019,
          727.100000000001,
          686.5000000000015,
          657.7000000000015,
          606.9000000000018,
          559.0000000000018,
          515.300000000002,
          493.80000000000103,
          470.8000000000013,
          428.20000000000203,
          412.0999999999998,
          450.69999999999953,
          464.19999999999914,
          779.2999999999984,
          754.1999999999982,
          785.7999999999985,
          732.5999999999985,
          725.6999999999989,
          727.4999999999974,
          1031.5999999999956,
          939.1999999999978,
          887.0999999999984,
          984.6999999999983,
          979.8999999999982,
          958.0999999999985,
          951.6999999999988,
          936.6999999999982,
          859.4999999999987,
          816.6999999999981,
          790.6000000000004,
          786.999999999999,
          775.999999999998,
          685.3999999999972,
          581.4999999999983,
          496.6999999999979,
          472.99999999999807,
          520.099999999998,
          489.09999999999695,
          447.7999999999973,
          446.7999999999974,
          422.29999999999677,
          336.79999999999734,
          334.8999999999971,
          214.19999999999794,
          561.4999999999973,
          529.599999999997,
          497.9999999999964,
          422.49999999999585,
          648.099999999996,
          929.5999999999962,
          878.6999999999957,
          874.5999999999955,
          758.6999999999937,
          753.1999999999932,
          588.599999999994,
          551.5999999999937,
          487.2999999999936,
          477.5999999999933,
          387.99999999999363,
          388.69999999999266,
          1116.9999999999914,
          1074.9999999999911,
          1036.0999999999917,
          1148.7999999999918,
          1106.6999999999914,
          1099.1999999999912,
          1055.3999999999912,
          996.7999999999928,
          939.8999999999926,
          875.9999999999914,
          773.7999999999922,
          735.1999999999927,
          661.3999999999927,
          650.5999999999923,
          601.2999999999928,
          580.0999999999938,
          554.6999999999939,
          483.0999999999931,
          846.8999999999917,
          955.4999999999915,
          1030.1999999999923,
          1012.8999999999935,
          1001.3999999999954,
          1020.6999999999938,
          966.8999999999933,
          994.7999999999939,
          1020.1999999999938,
          1014.3999999999935,
          1015.4999999999918,
          955.199999999992,
          898.7999999999913,
          881.3999999999917,
          818.3999999999919,
          831.3999999999915,
          815.1999999999919,
          979.0999999999913,
          949.6999999999916,
          1409.899999999992,
          1300.7999999999938,
          1512.699999999992,
          1485.1999999999919,
          1416.399999999993,
          1360.4999999999932,
          1352.1999999999932,
          1531.3999999999937,
          1522.4999999999932,
          1481.8999999999926,
          1489.2999999999922,
          1404.6999999999948,
          1437.099999999994,
          1383.1999999999925,
          1308.999999999992,
          1325.3999999999928,
          1307.799999999993,
          1557.199999999993,
          1524.6999999999932,
          1613.299999999993,
          1617.899999999995,
          1557.5999999999972,
          1669.8999999999992,
          1645.2999999999984,
          1618.6999999999985,
          1563.5999999999972,
          1537.799999999997,
          1510.2999999999965,
          1590.4999999999973,
          1565.1999999999969,
          1549.299999999997,
          1531.9999999999968,
          1508.8999999999965,
          1488.299999999997,
          1437.9999999999961,
          1413.1999999999957,
          1297.8999999999965,
          1207.999999999997,
          1185.4999999999961,
          1183.8999999999955,
          1143.3999999999967,
          1113.999999999995,
          1057.599999999994,
          1023.5999999999933,
          1007.1999999999924,
          987.8999999999926,
          954.6999999999927,
          924.4999999999935,
          871.2999999999936,
          723.4999999999934,
          702.7999999999932,
          571.7999999999921,
          551.799999999991,
          541.799999999991,
          422.09999999999286,
          619.8999999999919,
          806.499999999992,
          725.0999999999917,
          886.0999999999917,
          795.8999999999926,
          744.8999999999916,
          747.1999999999922,
          715.3999999999926,
          673.2999999999932,
          633.7999999999931,
          552.5999999999941,
          409.1999999999939,
          307.59999999999224,
          188.6999999999949,
          139.29999999999546,
          131.09999999999616,
          123.89999999999672,
          105.39999999999765,
          102.29999999999843,
          251.0999999999985,
          196.6999999999996,
          332.7999999999986,
          301.5999999999985,
          278.29999999999797,
          434.69999999999675,
          423.1999999999969,
          381.4999999999969,
          387.8999999999966,
          397.09999999999695,
          279.6999999999963,
          460.69999999999936,
          200.8000000000004,
          322.6000000000001,
          303.1,
          291.90000000000055,
          270.10000000000093,
          258.10000000000116,
          259.30000000000126,
          259.2000000000008,
          241.59999999999917,
          216.3999999999995,
          187.59999999999957,
          142.00000000000068,
          213.70000000000078,
          253.900000000001,
          219.50000000000213,
          167.10000000000204,
          92.10000000000204,
          34.40000000000151,
          -43.29999999999903,
          -73.4999999999997,
          -70.29999999999872,
          -66.69999999999735,
          -82.2999999999974,
          -107.09999999999778,
          -205.19999999999723,
          -309.7999999999993,
          -389.0000000000004,
          -403.6000000000006,
          -433.40000000000043,
          -454.99999999999983,
          -543.5000000000001,
          -462.69999999999925,
          -334.59999999999826,
          -194.60000000000036,
          -231.00000000000125,
          -317.10000000000133,
          140.39999999999753,
          238.39999999999674,
          594.2999999999946,
          765.8999999999954,
          1349.4999999999939,
          1515.3999999999926,
          1433.8999999999937,
          1457.599999999993,
          1795.8999999999912,
          1968.9999999999927,
          1940.599999999991,
          1917.5999999999913,
          1888.8999999999908,
          1869.5999999999908,
          1841.7999999999909,
          1992.3999999999917,
          2029.9999999999939,
          1974.9999999999943,
          1927.3999999999944,
          2050.9999999999945,
          2045.1999999999955,
          2027.2999999999959,
          2020.0999999999965,
          2006.599999999997,
          1997.8999999999976,
          1957.799999999997,
          2020.3999999999974,
          1996.9999999999973,
          1964.5999999999972,
          1943.199999999998,
          1921.3999999999974,
          1907.1999999999975,
          1875.099999999998,
          1828.3999999999985,
          1816.4999999999982,
          1808.0999999999976,
          1890.3999999999971,
          1877.5999999999965,
          1892.1999999999955,
          1860.4999999999943,
          1847.899999999994,
          1824.8999999999942,
          1791.5999999999947,
          1775.4999999999957,
          1754.899999999994,
          1725.399999999995,
          1691.7999999999947,
          1639.9999999999945,
          1627.199999999995,
          1560.3999999999944,
          1547.4999999999939,
          1525.8999999999933,
          1520.3999999999928,
          1365.499999999994,
          1285.499999999996,
          1231.7999999999972,
          1132.8999999999976,
          1120.799999999996,
          1095.399999999994,
          1036.8999999999949,
          1026.9999999999943,
          960.2999999999947,
          814.5999999999951,
          807.7999999999961,
          802.8999999999962,
          686.4999999999948,
          687.1999999999938,
          657.6999999999937,
          670.299999999994,
          686.7999999999934,
          643.4999999999917,
          614.4999999999905,
          563.6999999999884,
          443.09999999998564,
          426.2999999999844,
          361.2999999999838,
          354.2999999999846,
          394.8999999999841,
          388.6999999999846,
          365.7999999999856,
          335.99999999998573,
          304.3999999999852,
          260.19999999998146,
          235.79999999998148,
          194.19999999998208,
          162.3999999999823,
          161.19999999998225,
          82.0999999999792,
          -19.700000000020864,
          -59.600000000020245,
          -104.60000000001929,
          -156.60000000002023,
          -166.40000000002013,
          -181.0000000000202,
          -197.30000000001988,
          -261.6000000000199,
          -303.8000000000199,
          -395.4000000000217,
          -490.400000000022,
          -570.500000000024,
          -580.1000000000236,
          -644.0000000000248,
          -687.600000000025,
          -764.4000000000252,
          -893.0000000000261,
          -962.6000000000247,
          -961.1000000000261,
          -990.9000000000259,
          -1025.5000000000261,
          -1040.3000000000259,
          -1013.5000000000235,
          -1056.7000000000269,
          -905.1000000000296,
          -919.7000000000297,
          -895.200000000029,
          -843.2000000000303,
          -870.4000000000298,
          -897.20000000003,
          -897.0000000000318,
          -903.200000000033,
          -904.600000000034,
          -921.2000000000337,
          -945.6000000000337,
          -847.1000000000346,
          -861.3000000000353,
          -893.5000000000354,
          -717.2000000000362,
          -572.9000000000368,
          -93.50000000003598,
          -119.50000000003534,
          75.69999999996448,
          288.8999999999621,
          279.0999999999601,
          271.2999999999601,
          233.29999999995985,
          190.3999999999597,
          172.4999999999595,
          170.59999999995927,
          139.6999999999589,
          121.09999999995806,
          117.69999999995798,
          112.69999999995743,
          104.99999999995761,
          95.39999999995725,
          119.39999999995815,
          104.39999999995759,
          73.19999999995747,
          68.9999999999566,
          67.99999999995671,
          56.999999999955705,
          51.399999999955654,
          41.89999999995559,
          -45.400000000043455,
          -142.20000000004256,
          -220.40000000004193,
          -277.0000000000419,
          -286.50000000004195,
          -347.3000000000428,
          -397.90000000004125,
          -402.40000000004073,
          -334.60000000004067,
          -377.20000000003995,
          -309.4000000000399,
          -324.20000000003915,
          -331.8000000000401,
          -389.3000000000415,
          -396.70000000004114,
          -414.90000000004045,
          -449.30000000003986,
          -467.6000000000398,
          -500.00000000004115,
          -504.6000000000402,
          -512.4000000000402,
          -529.4000000000394,
          -543.6000000000392,
          -501.6000000000394,
          -523.2000000000411,
          -545.0000000000418,
          -545.6000000000413,
          -510.60000000004294,
          -316.400000000043,
          -330.30000000004304,
          -346.5000000000426,
          -382.80000000004253,
          -406.30000000004327,
          -452.50000000004394,
          -468.0000000000433,
          -496.5000000000435,
          -528.1000000000438,
          -633.0000000000426,
          -506.5000000000422,
          -528.8000000000435,
          -538.0000000000448,
          -563.6000000000448,
          -590.400000000045,
          -615.6000000000436,
          -625.7000000000431,
          -643.1000000000428,
          -659.5000000000437,
          -672.7000000000436,
          -685.9000000000435,
          -700.5000000000437,
          -736.1000000000427,
          -619.7000000000417,
          -477.10000000004004,
          -507.7000000000407,
          -517.3000000000415,
          -412.20000000004126,
          -449.80000000004225,
          -485.1000000000426,
          -387.1000000000422,
          -426.6000000000423,
          -434.6000000000437,
          -487.00000000004377,
          -419.60000000004595,
          -451.2000000000462,
          -234.50000000004766,
          -262.5000000000468,
          -294.9000000000459,
          -299.0000000000461,
          -309.90000000004534,
          -301.60000000004584,
          -326.20000000004677,
          -341.4000000000464,
          -288.70000000004757,
          -259.2000000000486,
          -273.40000000004835,
          -286.60000000004885,
          -315.9000000000495,
          -335.70000000004933,
          -341.90000000004886,
          -221.4000000000476,
          -235.10000000004743,
          -181.70000000004825,
          -196.3000000000484,
          -166.6000000000487,
          -185.00000000004934,
          -205.40000000004977,
          -224.90000000004983,
          -242.10000000004928,
          -263.30000000004827,
          -308.4000000000484,
          -324.50000000004843,
          -409.500000000048,
          -414.5000000000474,
          -413.9000000000468,
          -416.1000000000468,
          -482.7000000000479,
          -536.5000000000496,
          -578.9000000000498,
          -591.1000000000497,
          -602.50000000005,
          -656.3000000000494,
          -704.5000000000499,
          -566.90000000005,
          -584.7000000000512,
          -601.4000000000507,
          -596.9000000000523,
          -610.4000000000519,
          -640.0000000000505,
          -693.4000000000494,
          -704.4000000000493,
          -719.2000000000486,
          -535.0000000000475,
          -294.20000000004654,
          -348.30000000004793,
          -282.6000000000483,
          -290.60000000004743,
          22.09999999995273,
          -39.500000000046704,
          -59.70000000004581,
          -108.10000000004536,
          -138.10000000004428,
          101.49999999995723,
          439.89999999995723,
          432.4999999999576,
          359.69999999995673,
          327.3999999999561,
          212.19999999995457,
          181.59999999995617,
          178.9999999999569,
          171.7999999999575,
          72.19999999995656,
          53.79999999995681,
          25.999999999956763,
          -3.700000000042408,
          -9.700000000041747,
          -13.900000000041507,
          -19.500000000041556,
          88.29999999995856,
          93.09999999995892,
          -84.0000000000422,
          -142.20000000004157,
          -59.10000000004118,
          -13.700000000041292,
          -3.300000000041994,
          -51.100000000042854,
          -78.50000000004295,
          -97.20000000004222,
          -94.40000000004306,
          -65.30000000004338,
          -77.20000000004252,
          -91.70000000004204,
          -121.80000000004223,
          -99.90000000004088,
          -123.00000000004175,
          -221.50000000004115,
          -239.3000000000412,
          -278.30000000004134,
          -367.80000000004236,
          -423.40000000004244,
          -458.5000000000426,
          -477.20000000004296,
          -447.00000000004275,
          -439.6000000000431,
          -425.500000000044,
          -423.5000000000442,
          -468.1000000000455,
          -550.0000000000472,
          -648.2000000000471,
          -666.7000000000473,
          -763.6000000000494,
          -881.8000000000487,
          -919.7000000000494,
          -908.8000000000491,
          -905.8000000000494,
          -901.4000000000494,
          -952.4000000000483,
          -979.4000000000493,
          -965.7000000000484,
          -1021.6000000000487,
          -1058.000000000049,
          -1066.4000000000508,
          -1261.1000000000524,
          -1207.300000000053,
          -1296.200000000054,
          -1319.0000000000534,
          -1324.2000000000542,
          -1335.8000000000548,
          -1353.3000000000538,
          -1344.5000000000546,
          -1342.200000000054,
          -1356.300000000053,
          -1427.0000000000532,
          -1426.700000000055,
          -1436.6000000000568,
          -1439.0000000000568,
          -1442.400000000057,
          -1409.700000000058,
          -1369.200000000057,
          -1458.4000000000594,
          -1473.200000000059,
          -1488.6000000000588,
          -1503.0000000000593,
          -1546.2000000000598,
          -1543.1000000000595,
          -1539.9000000000597,
          -1557.5000000000596,
          -1511.9000000000594,
          -1545.1000000000588,
          -1619.7000000000598,
          -1645.7000000000592,
          -1809.5000000000596,
          -1803.10000000006,
          -1856.800000000059,
          -1897.4000000000583,
          -1936.7000000000585,
          -2011.500000000057,
          -2014.700000000057,
          -2122.500000000056,
          -2163.8000000000543,
          -2175.6000000000563,
          -2182.300000000058,
          -2193.6000000000586,
          -2206.900000000059,
          -2215.1000000000595,
          -2225.4000000000606,
          -2230.4000000000624,
          -2238.0000000000623,
          -2191.6000000000627,
          -2164.8000000000625,
          -2189.7000000000635,
          -2190.4000000000624,
          -2205.8000000000634,
          -2198.2000000000626,
          -2293.6000000000604,
          -2306.30000000006,
          -2404.3000000000593,
          -2552.500000000059,
          -2623.10000000006,
          -2636.20000000006,
          -2658.400000000059,
          -2675.9000000000597,
          -2683.0000000000605,
          -2699.0000000000587,
          -2717.200000000058,
          -2735.700000000057,
          -2812.70000000006,
          -2815.9000000000597,
          -2851.20000000006,
          -2883.600000000059,
          -2885.7000000000594,
          -2944.600000000059,
          -2930.9000000000583,
          -2945.40000000006
         ]
        }
       ],
       "layout": {
        "font": {
         "color": "#e1e1e1",
         "size": 10
        },
        "height": 400,
        "margin": {
         "b": 10,
         "l": 15,
         "r": 15
        },
        "paper_bgcolor": "#1e1e1e",
        "plot_bgcolor": "#1e1e1e",
        "template": {
         "data": {
          "bar": [
           {
            "error_x": {
             "color": "#2a3f5f"
            },
            "error_y": {
             "color": "#2a3f5f"
            },
            "marker": {
             "line": {
              "color": "#E5ECF6",
              "width": 0.5
             },
             "pattern": {
              "fillmode": "overlay",
              "size": 10,
              "solidity": 0.2
             }
            },
            "type": "bar"
           }
          ],
          "barpolar": [
           {
            "marker": {
             "line": {
              "color": "#E5ECF6",
              "width": 0.5
             },
             "pattern": {
              "fillmode": "overlay",
              "size": 10,
              "solidity": 0.2
             }
            },
            "type": "barpolar"
           }
          ],
          "carpet": [
           {
            "aaxis": {
             "endlinecolor": "#2a3f5f",
             "gridcolor": "white",
             "linecolor": "white",
             "minorgridcolor": "white",
             "startlinecolor": "#2a3f5f"
            },
            "baxis": {
             "endlinecolor": "#2a3f5f",
             "gridcolor": "white",
             "linecolor": "white",
             "minorgridcolor": "white",
             "startlinecolor": "#2a3f5f"
            },
            "type": "carpet"
           }
          ],
          "choropleth": [
           {
            "colorbar": {
             "outlinewidth": 0,
             "ticks": ""
            },
            "type": "choropleth"
           }
          ],
          "contour": [
           {
            "colorbar": {
             "outlinewidth": 0,
             "ticks": ""
            },
            "colorscale": [
             [
              0,
              "#0d0887"
             ],
             [
              0.1111111111111111,
              "#46039f"
             ],
             [
              0.2222222222222222,
              "#7201a8"
             ],
             [
              0.3333333333333333,
              "#9c179e"
             ],
             [
              0.4444444444444444,
              "#bd3786"
             ],
             [
              0.5555555555555556,
              "#d8576b"
             ],
             [
              0.6666666666666666,
              "#ed7953"
             ],
             [
              0.7777777777777778,
              "#fb9f3a"
             ],
             [
              0.8888888888888888,
              "#fdca26"
             ],
             [
              1,
              "#f0f921"
             ]
            ],
            "type": "contour"
           }
          ],
          "contourcarpet": [
           {
            "colorbar": {
             "outlinewidth": 0,
             "ticks": ""
            },
            "type": "contourcarpet"
           }
          ],
          "heatmap": [
           {
            "colorbar": {
             "outlinewidth": 0,
             "ticks": ""
            },
            "colorscale": [
             [
              0,
              "#0d0887"
             ],
             [
              0.1111111111111111,
              "#46039f"
             ],
             [
              0.2222222222222222,
              "#7201a8"
             ],
             [
              0.3333333333333333,
              "#9c179e"
             ],
             [
              0.4444444444444444,
              "#bd3786"
             ],
             [
              0.5555555555555556,
              "#d8576b"
             ],
             [
              0.6666666666666666,
              "#ed7953"
             ],
             [
              0.7777777777777778,
              "#fb9f3a"
             ],
             [
              0.8888888888888888,
              "#fdca26"
             ],
             [
              1,
              "#f0f921"
             ]
            ],
            "type": "heatmap"
           }
          ],
          "heatmapgl": [
           {
            "colorbar": {
             "outlinewidth": 0,
             "ticks": ""
            },
            "colorscale": [
             [
              0,
              "#0d0887"
             ],
             [
              0.1111111111111111,
              "#46039f"
             ],
             [
              0.2222222222222222,
              "#7201a8"
             ],
             [
              0.3333333333333333,
              "#9c179e"
             ],
             [
              0.4444444444444444,
              "#bd3786"
             ],
             [
              0.5555555555555556,
              "#d8576b"
             ],
             [
              0.6666666666666666,
              "#ed7953"
             ],
             [
              0.7777777777777778,
              "#fb9f3a"
             ],
             [
              0.8888888888888888,
              "#fdca26"
             ],
             [
              1,
              "#f0f921"
             ]
            ],
            "type": "heatmapgl"
           }
          ],
          "histogram": [
           {
            "marker": {
             "pattern": {
              "fillmode": "overlay",
              "size": 10,
              "solidity": 0.2
             }
            },
            "type": "histogram"
           }
          ],
          "histogram2d": [
           {
            "colorbar": {
             "outlinewidth": 0,
             "ticks": ""
            },
            "colorscale": [
             [
              0,
              "#0d0887"
             ],
             [
              0.1111111111111111,
              "#46039f"
             ],
             [
              0.2222222222222222,
              "#7201a8"
             ],
             [
              0.3333333333333333,
              "#9c179e"
             ],
             [
              0.4444444444444444,
              "#bd3786"
             ],
             [
              0.5555555555555556,
              "#d8576b"
             ],
             [
              0.6666666666666666,
              "#ed7953"
             ],
             [
              0.7777777777777778,
              "#fb9f3a"
             ],
             [
              0.8888888888888888,
              "#fdca26"
             ],
             [
              1,
              "#f0f921"
             ]
            ],
            "type": "histogram2d"
           }
          ],
          "histogram2dcontour": [
           {
            "colorbar": {
             "outlinewidth": 0,
             "ticks": ""
            },
            "colorscale": [
             [
              0,
              "#0d0887"
             ],
             [
              0.1111111111111111,
              "#46039f"
             ],
             [
              0.2222222222222222,
              "#7201a8"
             ],
             [
              0.3333333333333333,
              "#9c179e"
             ],
             [
              0.4444444444444444,
              "#bd3786"
             ],
             [
              0.5555555555555556,
              "#d8576b"
             ],
             [
              0.6666666666666666,
              "#ed7953"
             ],
             [
              0.7777777777777778,
              "#fb9f3a"
             ],
             [
              0.8888888888888888,
              "#fdca26"
             ],
             [
              1,
              "#f0f921"
             ]
            ],
            "type": "histogram2dcontour"
           }
          ],
          "mesh3d": [
           {
            "colorbar": {
             "outlinewidth": 0,
             "ticks": ""
            },
            "type": "mesh3d"
           }
          ],
          "parcoords": [
           {
            "line": {
             "colorbar": {
              "outlinewidth": 0,
              "ticks": ""
             }
            },
            "type": "parcoords"
           }
          ],
          "pie": [
           {
            "automargin": true,
            "type": "pie"
           }
          ],
          "scatter": [
           {
            "fillpattern": {
             "fillmode": "overlay",
             "size": 10,
             "solidity": 0.2
            },
            "type": "scatter"
           }
          ],
          "scatter3d": [
           {
            "line": {
             "colorbar": {
              "outlinewidth": 0,
              "ticks": ""
             }
            },
            "marker": {
             "colorbar": {
              "outlinewidth": 0,
              "ticks": ""
             }
            },
            "type": "scatter3d"
           }
          ],
          "scattercarpet": [
           {
            "marker": {
             "colorbar": {
              "outlinewidth": 0,
              "ticks": ""
             }
            },
            "type": "scattercarpet"
           }
          ],
          "scattergeo": [
           {
            "marker": {
             "colorbar": {
              "outlinewidth": 0,
              "ticks": ""
             }
            },
            "type": "scattergeo"
           }
          ],
          "scattergl": [
           {
            "marker": {
             "colorbar": {
              "outlinewidth": 0,
              "ticks": ""
             }
            },
            "type": "scattergl"
           }
          ],
          "scattermapbox": [
           {
            "marker": {
             "colorbar": {
              "outlinewidth": 0,
              "ticks": ""
             }
            },
            "type": "scattermapbox"
           }
          ],
          "scatterpolar": [
           {
            "marker": {
             "colorbar": {
              "outlinewidth": 0,
              "ticks": ""
             }
            },
            "type": "scatterpolar"
           }
          ],
          "scatterpolargl": [
           {
            "marker": {
             "colorbar": {
              "outlinewidth": 0,
              "ticks": ""
             }
            },
            "type": "scatterpolargl"
           }
          ],
          "scatterternary": [
           {
            "marker": {
             "colorbar": {
              "outlinewidth": 0,
              "ticks": ""
             }
            },
            "type": "scatterternary"
           }
          ],
          "surface": [
           {
            "colorbar": {
             "outlinewidth": 0,
             "ticks": ""
            },
            "colorscale": [
             [
              0,
              "#0d0887"
             ],
             [
              0.1111111111111111,
              "#46039f"
             ],
             [
              0.2222222222222222,
              "#7201a8"
             ],
             [
              0.3333333333333333,
              "#9c179e"
             ],
             [
              0.4444444444444444,
              "#bd3786"
             ],
             [
              0.5555555555555556,
              "#d8576b"
             ],
             [
              0.6666666666666666,
              "#ed7953"
             ],
             [
              0.7777777777777778,
              "#fb9f3a"
             ],
             [
              0.8888888888888888,
              "#fdca26"
             ],
             [
              1,
              "#f0f921"
             ]
            ],
            "type": "surface"
           }
          ],
          "table": [
           {
            "cells": {
             "fill": {
              "color": "#EBF0F8"
             },
             "line": {
              "color": "white"
             }
            },
            "header": {
             "fill": {
              "color": "#C8D4E3"
             },
             "line": {
              "color": "white"
             }
            },
            "type": "table"
           }
          ]
         },
         "layout": {
          "annotationdefaults": {
           "arrowcolor": "#2a3f5f",
           "arrowhead": 0,
           "arrowwidth": 1
          },
          "autotypenumbers": "strict",
          "coloraxis": {
           "colorbar": {
            "outlinewidth": 0,
            "ticks": ""
           }
          },
          "colorscale": {
           "diverging": [
            [
             0,
             "#8e0152"
            ],
            [
             0.1,
             "#c51b7d"
            ],
            [
             0.2,
             "#de77ae"
            ],
            [
             0.3,
             "#f1b6da"
            ],
            [
             0.4,
             "#fde0ef"
            ],
            [
             0.5,
             "#f7f7f7"
            ],
            [
             0.6,
             "#e6f5d0"
            ],
            [
             0.7,
             "#b8e186"
            ],
            [
             0.8,
             "#7fbc41"
            ],
            [
             0.9,
             "#4d9221"
            ],
            [
             1,
             "#276419"
            ]
           ],
           "sequential": [
            [
             0,
             "#0d0887"
            ],
            [
             0.1111111111111111,
             "#46039f"
            ],
            [
             0.2222222222222222,
             "#7201a8"
            ],
            [
             0.3333333333333333,
             "#9c179e"
            ],
            [
             0.4444444444444444,
             "#bd3786"
            ],
            [
             0.5555555555555556,
             "#d8576b"
            ],
            [
             0.6666666666666666,
             "#ed7953"
            ],
            [
             0.7777777777777778,
             "#fb9f3a"
            ],
            [
             0.8888888888888888,
             "#fdca26"
            ],
            [
             1,
             "#f0f921"
            ]
           ],
           "sequentialminus": [
            [
             0,
             "#0d0887"
            ],
            [
             0.1111111111111111,
             "#46039f"
            ],
            [
             0.2222222222222222,
             "#7201a8"
            ],
            [
             0.3333333333333333,
             "#9c179e"
            ],
            [
             0.4444444444444444,
             "#bd3786"
            ],
            [
             0.5555555555555556,
             "#d8576b"
            ],
            [
             0.6666666666666666,
             "#ed7953"
            ],
            [
             0.7777777777777778,
             "#fb9f3a"
            ],
            [
             0.8888888888888888,
             "#fdca26"
            ],
            [
             1,
             "#f0f921"
            ]
           ]
          },
          "colorway": [
           "#636efa",
           "#EF553B",
           "#00cc96",
           "#ab63fa",
           "#FFA15A",
           "#19d3f3",
           "#FF6692",
           "#B6E880",
           "#FF97FF",
           "#FECB52"
          ],
          "font": {
           "color": "#2a3f5f"
          },
          "geo": {
           "bgcolor": "white",
           "lakecolor": "white",
           "landcolor": "#E5ECF6",
           "showlakes": true,
           "showland": true,
           "subunitcolor": "white"
          },
          "hoverlabel": {
           "align": "left"
          },
          "hovermode": "closest",
          "mapbox": {
           "style": "light"
          },
          "paper_bgcolor": "white",
          "plot_bgcolor": "#E5ECF6",
          "polar": {
           "angularaxis": {
            "gridcolor": "white",
            "linecolor": "white",
            "ticks": ""
           },
           "bgcolor": "#E5ECF6",
           "radialaxis": {
            "gridcolor": "white",
            "linecolor": "white",
            "ticks": ""
           }
          },
          "scene": {
           "xaxis": {
            "backgroundcolor": "#E5ECF6",
            "gridcolor": "white",
            "gridwidth": 2,
            "linecolor": "white",
            "showbackground": true,
            "ticks": "",
            "zerolinecolor": "white"
           },
           "yaxis": {
            "backgroundcolor": "#E5ECF6",
            "gridcolor": "white",
            "gridwidth": 2,
            "linecolor": "white",
            "showbackground": true,
            "ticks": "",
            "zerolinecolor": "white"
           },
           "zaxis": {
            "backgroundcolor": "#E5ECF6",
            "gridcolor": "white",
            "gridwidth": 2,
            "linecolor": "white",
            "showbackground": true,
            "ticks": "",
            "zerolinecolor": "white"
           }
          },
          "shapedefaults": {
           "line": {
            "color": "#2a3f5f"
           }
          },
          "ternary": {
           "aaxis": {
            "gridcolor": "white",
            "linecolor": "white",
            "ticks": ""
           },
           "baxis": {
            "gridcolor": "white",
            "linecolor": "white",
            "ticks": ""
           },
           "bgcolor": "#E5ECF6",
           "caxis": {
            "gridcolor": "white",
            "linecolor": "white",
            "ticks": ""
           }
          },
          "title": {
           "x": 0.05
          },
          "xaxis": {
           "automargin": true,
           "gridcolor": "white",
           "linecolor": "white",
           "ticks": "",
           "title": {
            "standoff": 15
           },
           "zerolinecolor": "white",
           "zerolinewidth": 2
          },
          "yaxis": {
           "automargin": true,
           "gridcolor": "white",
           "linecolor": "white",
           "ticks": "",
           "title": {
            "standoff": 15
           },
           "zerolinecolor": "white",
           "zerolinewidth": 2
          }
         }
        },
        "title": {
         "text": "MA_8_256"
        },
        "width": 1000,
        "xaxis": {
         "linecolor": "#3a4a54",
         "linewidth": 1,
         "showgrid": false,
         "zeroline": false
        },
        "yaxis": {
         "linecolor": "#3a4a54",
         "linewidth": 1,
         "showgrid": false,
         "zeroline": false
        }
       }
      }
     },
     "metadata": {},
     "output_type": "display_data"
    }
   ],
   "source": [
    "for c in crosses:   \n",
    "    temp_df = all_trades[(all_trades.CROSS==c)].copy()    \n",
    "    temp_df = temp_df.groupby(by=\"time\", as_index=False).sum()\n",
    "    temp_df['CUM_GAIN'] = temp_df.GAIN.cumsum()\n",
    "    plot_line(temp_df, c)"
   ]
  },
  {
   "cell_type": "code",
   "execution_count": null,
   "metadata": {},
   "outputs": [],
   "source": []
  }
 ],
 "metadata": {
  "kernelspec": {
   "display_name": "Python 3",
   "language": "python",
   "name": "python3"
  },
  "language_info": {
   "codemirror_mode": {
    "name": "ipython",
    "version": 3
   },
   "file_extension": ".py",
   "mimetype": "text/x-python",
   "name": "python",
   "nbconvert_exporter": "python",
   "pygments_lexer": "ipython3",
   "version": "3.12.2"
  },
  "orig_nbformat": 2
 },
 "nbformat": 4,
 "nbformat_minor": 2
}
