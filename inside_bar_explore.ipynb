{
 "cells": [
  {
   "cell_type": "code",
   "execution_count": 50,
   "metadata": {},
   "outputs": [],
   "source": [
    "import pandas as pd\n",
    "import plotly.graph_objects as go\n",
    "import utils"
   ]
  },
  {
   "cell_type": "code",
   "execution_count": 51,
   "metadata": {},
   "outputs": [],
   "source": [
    "plot_cols = ['ENTRY', 'STOPLOSS', 'TAKEPROFIT']\n",
    "plot_colours = ['#043ef9', '#eb5334', '#34eb37']\n",
    "def plot_candles(df_plot):\n",
    "    fig = go.Figure()\n",
    "    fig.add_trace(go.Candlestick(\n",
    "        x=df_plot.time, open=df_plot.mid_o, high=df_plot.mid_h, low=df_plot.mid_l, close=df_plot.mid_c,\n",
    "        line=dict(width=1), opacity=1,\n",
    "        increasing_fillcolor='#24A06B',\n",
    "        decreasing_fillcolor=\"#CC2E3C\",\n",
    "        increasing_line_color='#2EC886',  \n",
    "        decreasing_line_color='#FF3A4C'\n",
    "    ))\n",
    "    for i in range(0, 3):\n",
    "        fig.add_trace(go.Scatter(\n",
    "            x=df_buys.time,\n",
    "            y=df_buys[plot_cols[i]],\n",
    "            mode='markers',\n",
    "            marker=dict(color=plot_colours[i],size=12)\n",
    "        ))\n",
    "    for i in range(0, 3):\n",
    "        fig.add_trace(go.Scatter(\n",
    "            x=df_sells.time,\n",
    "            y=df_sells[plot_cols[i]],\n",
    "            mode='markers',\n",
    "            marker=dict(color=plot_colours[i],size=12)\n",
    "        ))\n",
    "    fig.update_layout(width=1000,height=400,\n",
    "        margin=dict(l=10,r=10,b=10,t=10),\n",
    "        font=dict(size=10,color=\"#e1e1e1\"),\n",
    "        paper_bgcolor=\"#1e1e1e\",\n",
    "        plot_bgcolor=\"#1e1e1e\")\n",
    "    fig.update_xaxes(\n",
    "        gridcolor=\"#1f292f\",\n",
    "        showgrid=True,fixedrange=True,rangeslider=dict(visible=False),\n",
    "        rangebreaks=[\n",
    "            dict(bounds=[\"sat\", \"mon\"])\n",
    "        ]\n",
    "    )\n",
    "    fig.update_yaxes(\n",
    "        gridcolor=\"#1f292f\",\n",
    "        showgrid=True\n",
    "    )\n",
    "    fig.show()"
   ]
  },
  {
   "cell_type": "code",
   "execution_count": 52,
   "metadata": {},
   "outputs": [],
   "source": [
    "pair = \"USD_JPY\"\n",
    "granularity = \"H4\"\n",
    "df_raw = pd.read_pickle(utils.get_his_data_filename(pair, granularity))"
   ]
  },
  {
   "cell_type": "code",
   "execution_count": 53,
   "metadata": {},
   "outputs": [],
   "source": [
    "non_cols = ['time', 'volume']\n",
    "mod_cols = [x for x in df_raw.columns if x not in non_cols]\n",
    "df_raw[mod_cols] = df_raw[mod_cols].apply(pd.to_numeric)"
   ]
  },
  {
   "cell_type": "code",
   "execution_count": 54,
   "metadata": {},
   "outputs": [
    {
     "data": {
      "text/html": [
       "<div>\n",
       "<style scoped>\n",
       "    .dataframe tbody tr th:only-of-type {\n",
       "        vertical-align: middle;\n",
       "    }\n",
       "\n",
       "    .dataframe tbody tr th {\n",
       "        vertical-align: top;\n",
       "    }\n",
       "\n",
       "    .dataframe thead th {\n",
       "        text-align: right;\n",
       "    }\n",
       "</style>\n",
       "<table border=\"1\" class=\"dataframe\">\n",
       "  <thead>\n",
       "    <tr style=\"text-align: right;\">\n",
       "      <th></th>\n",
       "      <th>time</th>\n",
       "      <th>volume</th>\n",
       "      <th>mid_o</th>\n",
       "      <th>mid_h</th>\n",
       "      <th>mid_l</th>\n",
       "      <th>mid_c</th>\n",
       "      <th>bid_o</th>\n",
       "      <th>bid_h</th>\n",
       "      <th>bid_l</th>\n",
       "      <th>bid_c</th>\n",
       "      <th>ask_o</th>\n",
       "      <th>ask_h</th>\n",
       "      <th>ask_l</th>\n",
       "      <th>ask_c</th>\n",
       "    </tr>\n",
       "  </thead>\n",
       "  <tbody>\n",
       "    <tr>\n",
       "      <th>0</th>\n",
       "      <td>2022-01-02T22:00:00.000000000Z</td>\n",
       "      <td>4251</td>\n",
       "      <td>115.118</td>\n",
       "      <td>115.294</td>\n",
       "      <td>115.084</td>\n",
       "      <td>115.213</td>\n",
       "      <td>115.068</td>\n",
       "      <td>115.286</td>\n",
       "      <td>115.047</td>\n",
       "      <td>115.206</td>\n",
       "      <td>115.168</td>\n",
       "      <td>115.301</td>\n",
       "      <td>115.107</td>\n",
       "      <td>115.220</td>\n",
       "    </tr>\n",
       "    <tr>\n",
       "      <th>1</th>\n",
       "      <td>2022-01-03T02:00:00.000000000Z</td>\n",
       "      <td>3076</td>\n",
       "      <td>115.214</td>\n",
       "      <td>115.318</td>\n",
       "      <td>115.207</td>\n",
       "      <td>115.312</td>\n",
       "      <td>115.207</td>\n",
       "      <td>115.311</td>\n",
       "      <td>115.200</td>\n",
       "      <td>115.304</td>\n",
       "      <td>115.221</td>\n",
       "      <td>115.324</td>\n",
       "      <td>115.213</td>\n",
       "      <td>115.319</td>\n",
       "    </tr>\n",
       "    <tr>\n",
       "      <th>2</th>\n",
       "      <td>2022-01-03T06:00:00.000000000Z</td>\n",
       "      <td>7666</td>\n",
       "      <td>115.310</td>\n",
       "      <td>115.364</td>\n",
       "      <td>115.150</td>\n",
       "      <td>115.178</td>\n",
       "      <td>115.304</td>\n",
       "      <td>115.356</td>\n",
       "      <td>115.144</td>\n",
       "      <td>115.171</td>\n",
       "      <td>115.317</td>\n",
       "      <td>115.371</td>\n",
       "      <td>115.156</td>\n",
       "      <td>115.184</td>\n",
       "    </tr>\n",
       "    <tr>\n",
       "      <th>3</th>\n",
       "      <td>2022-01-03T10:00:00.000000000Z</td>\n",
       "      <td>11488</td>\n",
       "      <td>115.176</td>\n",
       "      <td>115.179</td>\n",
       "      <td>114.950</td>\n",
       "      <td>115.149</td>\n",
       "      <td>115.170</td>\n",
       "      <td>115.172</td>\n",
       "      <td>114.941</td>\n",
       "      <td>115.142</td>\n",
       "      <td>115.183</td>\n",
       "      <td>115.186</td>\n",
       "      <td>114.957</td>\n",
       "      <td>115.156</td>\n",
       "    </tr>\n",
       "    <tr>\n",
       "      <th>4</th>\n",
       "      <td>2022-01-03T14:00:00.000000000Z</td>\n",
       "      <td>15073</td>\n",
       "      <td>115.150</td>\n",
       "      <td>115.370</td>\n",
       "      <td>115.138</td>\n",
       "      <td>115.320</td>\n",
       "      <td>115.144</td>\n",
       "      <td>115.363</td>\n",
       "      <td>115.132</td>\n",
       "      <td>115.314</td>\n",
       "      <td>115.157</td>\n",
       "      <td>115.377</td>\n",
       "      <td>115.145</td>\n",
       "      <td>115.326</td>\n",
       "    </tr>\n",
       "  </tbody>\n",
       "</table>\n",
       "</div>"
      ],
      "text/plain": [
       "                             time  volume    mid_o    mid_h    mid_l    mid_c  \\\n",
       "0  2022-01-02T22:00:00.000000000Z    4251  115.118  115.294  115.084  115.213   \n",
       "1  2022-01-03T02:00:00.000000000Z    3076  115.214  115.318  115.207  115.312   \n",
       "2  2022-01-03T06:00:00.000000000Z    7666  115.310  115.364  115.150  115.178   \n",
       "3  2022-01-03T10:00:00.000000000Z   11488  115.176  115.179  114.950  115.149   \n",
       "4  2022-01-03T14:00:00.000000000Z   15073  115.150  115.370  115.138  115.320   \n",
       "\n",
       "     bid_o    bid_h    bid_l    bid_c    ask_o    ask_h    ask_l    ask_c  \n",
       "0  115.068  115.286  115.047  115.206  115.168  115.301  115.107  115.220  \n",
       "1  115.207  115.311  115.200  115.304  115.221  115.324  115.213  115.319  \n",
       "2  115.304  115.356  115.144  115.171  115.317  115.371  115.156  115.184  \n",
       "3  115.170  115.172  114.941  115.142  115.183  115.186  114.957  115.156  \n",
       "4  115.144  115.363  115.132  115.314  115.157  115.377  115.145  115.326  "
      ]
     },
     "execution_count": 54,
     "metadata": {},
     "output_type": "execute_result"
    }
   ],
   "source": [
    "df_raw.head()"
   ]
  },
  {
   "cell_type": "code",
   "execution_count": 55,
   "metadata": {},
   "outputs": [],
   "source": [
    "SLOSS = 0.4\n",
    "TPROFIT = 0.8\n",
    "ENTRY_PRC = 0.1\n",
    "\n",
    "def direction(row):\n",
    "    if row.mid_c > row.mid_o:\n",
    "        return 1\n",
    "    return -1\n",
    "\n",
    "def get_signal(row):\n",
    "    if row.mid_h_prev > row.mid_h and row.mid_l_prev < row.mid_l:\n",
    "        return row.DIRECTION_prev\n",
    "    return 0\n",
    "\n",
    "def get_entry_stop(row):\n",
    "    if row.SIGNAL == 1:\n",
    "        return (row.RANGE_prev * ENTRY_PRC) + row.ask_h_prev\n",
    "    elif row.SIGNAL == -1:\n",
    "        return row.bid_l_prev - (row.RANGE_prev * ENTRY_PRC)\n",
    "    else:\n",
    "        return 0\n",
    "\n",
    "def get_stop_loss(row):\n",
    "    if row.SIGNAL == 1:\n",
    "        return row.ENTRY - (row.RANGE_prev * SLOSS)\n",
    "    elif row.SIGNAL == -1:\n",
    "        return row.ENTRY + (row.RANGE_prev * SLOSS)\n",
    "    else:\n",
    "        return 0\n",
    "\n",
    "\n",
    "def get_take_profit(row):\n",
    "    if row.SIGNAL == 1:\n",
    "        return row.ENTRY + (row.RANGE_prev * TPROFIT)\n",
    "    elif row.SIGNAL == -1:\n",
    "        return row.ENTRY - (row.RANGE_prev * TPROFIT)\n",
    "    else:\n",
    "        return 0"
   ]
  },
  {
   "cell_type": "code",
   "execution_count": 56,
   "metadata": {},
   "outputs": [],
   "source": [
    "df = df_raw.copy()\n",
    "df['RANGE'] = df.mid_h - df.mid_l\n",
    "df['mid_h_prev'] = df.mid_h.shift(1)\n",
    "df['mid_l_prev'] = df.mid_l.shift(1)\n",
    "df['ask_h_prev'] = df.ask_h.shift(1)\n",
    "df['bid_l_prev'] = df.bid_l.shift(1)\n",
    "df['RANGE_prev'] = df.RANGE.shift(1)\n",
    "df['DIRECTION'] = df.apply(direction, axis=1)\n",
    "df['DIRECTION_prev'] = df.DIRECTION.shift(1).fillna(0).astype(int)\n",
    "df.dropna(inplace=True)\n",
    "df['SIGNAL'] = df.apply(get_signal, axis=1)\n",
    "df.reset_index(drop=True, inplace=True)"
   ]
  },
  {
   "cell_type": "code",
   "execution_count": 57,
   "metadata": {},
   "outputs": [],
   "source": [
    "df['ENTRY'] = df.apply(get_entry_stop, axis=1)\n",
    "df['STOPLOSS'] = df.apply(get_stop_loss, axis=1)\n",
    "df['TAKEPROFIT'] = df.apply(get_take_profit, axis=1)"
   ]
  },
  {
   "cell_type": "code",
   "execution_count": 58,
   "metadata": {},
   "outputs": [],
   "source": [
    "df[df.SIGNAL!=0].to_pickle(\"USD_JPY_H4_trades.pkl\")"
   ]
  },
  {
   "cell_type": "code",
   "execution_count": null,
   "metadata": {},
   "outputs": [],
   "source": []
  },
  {
   "cell_type": "code",
   "execution_count": 59,
   "metadata": {},
   "outputs": [],
   "source": [
    "class Trade():\n",
    "    def __init__(self, row):\n",
    "        self.candle_date = row.time\n",
    "        self.direction = row.SIGNAL\n",
    "        self.entry = row.ENTRY\n",
    "        self.TP = row.TAKEPROFIT\n",
    "        self.SL = row.STOPLOSS\n",
    "        self.running = False\n",
    "        self.result = None\n",
    "        self.stopped = None\n",
    "\n",
    "    def update(self, row):\n",
    "        if self.running == True:\n",
    "            self.update_result(row)\n",
    "        else:\n",
    "            self.check_entry(row)    \n",
    "    \n",
    "    def check_entry(self, row):\n",
    "        if self.direction == 1 and row.mid_c >= self.entry or self.direction == -1 and row.mid_c <= self.entry:\n",
    "            self.index = row.name\n",
    "            self.opened = row.time\n",
    "            self.running = True\n",
    "\n",
    "    def update_result(self, row):\n",
    "        if self.direction == 1:\n",
    "            if row.mid_c >= self.TP:\n",
    "                self.result = 2.0\n",
    "            elif row.mid_c <= self.SL:\n",
    "                self.result = -1.0\n",
    "        else:\n",
    "            if row.mid_c <= self.TP:\n",
    "                self.result = 2.0            \n",
    "            elif row.mid_c >= self.SL:\n",
    "                self.result = -1.0   \n",
    "        \n",
    "        if self.result is not None:\n",
    "            self.running = False\n",
    "            self.stopped = row.time\n"
   ]
  },
  {
   "cell_type": "code",
   "execution_count": 60,
   "metadata": {},
   "outputs": [],
   "source": [
    "open_trades = []\n",
    "closed_trades = []\n",
    "\n",
    "for index, row in df.iterrows():\n",
    "    for ot in open_trades:\n",
    "        ot.update(row)\n",
    "        if ot.stopped is not None:\n",
    "            closed_trades.append(ot)\n",
    "    \n",
    "    open_trades = [x for x in open_trades if x.stopped is None]\n",
    "\n",
    "    if row.SIGNAL != 0:\n",
    "        open_trades = [x for x in open_trades if x.running == True]\n",
    "        open_trades.append(Trade(row))\n"
   ]
  },
  {
   "cell_type": "code",
   "execution_count": 61,
   "metadata": {},
   "outputs": [],
   "source": [
    "df_trades = pd.DataFrame.from_dict([vars(x) for x in closed_trades])"
   ]
  },
  {
   "cell_type": "code",
   "execution_count": null,
   "metadata": {},
   "outputs": [],
   "source": []
  },
  {
   "cell_type": "code",
   "execution_count": 62,
   "metadata": {},
   "outputs": [
    {
     "data": {
      "text/html": [
       "<div>\n",
       "<style scoped>\n",
       "    .dataframe tbody tr th:only-of-type {\n",
       "        vertical-align: middle;\n",
       "    }\n",
       "\n",
       "    .dataframe tbody tr th {\n",
       "        vertical-align: top;\n",
       "    }\n",
       "\n",
       "    .dataframe thead th {\n",
       "        text-align: right;\n",
       "    }\n",
       "</style>\n",
       "<table border=\"1\" class=\"dataframe\">\n",
       "  <thead>\n",
       "    <tr style=\"text-align: right;\">\n",
       "      <th></th>\n",
       "      <th>time</th>\n",
       "      <th>volume</th>\n",
       "      <th>mid_o</th>\n",
       "      <th>mid_h</th>\n",
       "      <th>mid_l</th>\n",
       "      <th>mid_c</th>\n",
       "      <th>bid_o</th>\n",
       "      <th>bid_h</th>\n",
       "      <th>bid_l</th>\n",
       "      <th>bid_c</th>\n",
       "      <th>...</th>\n",
       "      <th>mid_l_prev</th>\n",
       "      <th>ask_h_prev</th>\n",
       "      <th>bid_l_prev</th>\n",
       "      <th>RANGE_prev</th>\n",
       "      <th>DIRECTION</th>\n",
       "      <th>DIRECTION_prev</th>\n",
       "      <th>SIGNAL</th>\n",
       "      <th>ENTRY</th>\n",
       "      <th>STOPLOSS</th>\n",
       "      <th>TAKEPROFIT</th>\n",
       "    </tr>\n",
       "  </thead>\n",
       "  <tbody>\n",
       "    <tr>\n",
       "      <th>4</th>\n",
       "      <td>2022-01-03T18:00:00.000000000Z</td>\n",
       "      <td>4419</td>\n",
       "      <td>115.318</td>\n",
       "      <td>115.358</td>\n",
       "      <td>115.263</td>\n",
       "      <td>115.350</td>\n",
       "      <td>115.312</td>\n",
       "      <td>115.350</td>\n",
       "      <td>115.256</td>\n",
       "      <td>115.343</td>\n",
       "      <td>...</td>\n",
       "      <td>115.138</td>\n",
       "      <td>115.377</td>\n",
       "      <td>115.132</td>\n",
       "      <td>0.232</td>\n",
       "      <td>1</td>\n",
       "      <td>1</td>\n",
       "      <td>1</td>\n",
       "      <td>115.4002</td>\n",
       "      <td>115.3074</td>\n",
       "      <td>115.5858</td>\n",
       "    </tr>\n",
       "    <tr>\n",
       "      <th>9</th>\n",
       "      <td>2022-01-04T14:00:00.000000000Z</td>\n",
       "      <td>17583</td>\n",
       "      <td>116.260</td>\n",
       "      <td>116.338</td>\n",
       "      <td>115.955</td>\n",
       "      <td>116.173</td>\n",
       "      <td>116.253</td>\n",
       "      <td>116.331</td>\n",
       "      <td>115.948</td>\n",
       "      <td>116.166</td>\n",
       "      <td>...</td>\n",
       "      <td>115.811</td>\n",
       "      <td>116.359</td>\n",
       "      <td>115.804</td>\n",
       "      <td>0.541</td>\n",
       "      <td>-1</td>\n",
       "      <td>1</td>\n",
       "      <td>1</td>\n",
       "      <td>116.4131</td>\n",
       "      <td>116.1967</td>\n",
       "      <td>116.8459</td>\n",
       "    </tr>\n",
       "    <tr>\n",
       "      <th>10</th>\n",
       "      <td>2022-01-04T18:00:00.000000000Z</td>\n",
       "      <td>5432</td>\n",
       "      <td>116.172</td>\n",
       "      <td>116.184</td>\n",
       "      <td>116.080</td>\n",
       "      <td>116.148</td>\n",
       "      <td>116.164</td>\n",
       "      <td>116.177</td>\n",
       "      <td>116.074</td>\n",
       "      <td>116.137</td>\n",
       "      <td>...</td>\n",
       "      <td>115.955</td>\n",
       "      <td>116.345</td>\n",
       "      <td>115.948</td>\n",
       "      <td>0.383</td>\n",
       "      <td>-1</td>\n",
       "      <td>-1</td>\n",
       "      <td>-1</td>\n",
       "      <td>115.9097</td>\n",
       "      <td>116.0629</td>\n",
       "      <td>115.6033</td>\n",
       "    </tr>\n",
       "    <tr>\n",
       "      <th>20</th>\n",
       "      <td>2022-01-06T10:00:00.000000000Z</td>\n",
       "      <td>14994</td>\n",
       "      <td>115.750</td>\n",
       "      <td>115.892</td>\n",
       "      <td>115.697</td>\n",
       "      <td>115.750</td>\n",
       "      <td>115.743</td>\n",
       "      <td>115.885</td>\n",
       "      <td>115.690</td>\n",
       "      <td>115.745</td>\n",
       "      <td>...</td>\n",
       "      <td>115.658</td>\n",
       "      <td>115.963</td>\n",
       "      <td>115.652</td>\n",
       "      <td>0.298</td>\n",
       "      <td>-1</td>\n",
       "      <td>-1</td>\n",
       "      <td>-1</td>\n",
       "      <td>115.6222</td>\n",
       "      <td>115.7414</td>\n",
       "      <td>115.3838</td>\n",
       "    </tr>\n",
       "    <tr>\n",
       "      <th>24</th>\n",
       "      <td>2022-01-07T02:00:00.000000000Z</td>\n",
       "      <td>6340</td>\n",
       "      <td>115.898</td>\n",
       "      <td>115.939</td>\n",
       "      <td>115.833</td>\n",
       "      <td>115.914</td>\n",
       "      <td>115.891</td>\n",
       "      <td>115.931</td>\n",
       "      <td>115.827</td>\n",
       "      <td>115.908</td>\n",
       "      <td>...</td>\n",
       "      <td>115.830</td>\n",
       "      <td>116.056</td>\n",
       "      <td>115.785</td>\n",
       "      <td>0.218</td>\n",
       "      <td>1</td>\n",
       "      <td>1</td>\n",
       "      <td>1</td>\n",
       "      <td>116.0778</td>\n",
       "      <td>115.9906</td>\n",
       "      <td>116.2522</td>\n",
       "    </tr>\n",
       "  </tbody>\n",
       "</table>\n",
       "<p>5 rows × 26 columns</p>\n",
       "</div>"
      ],
      "text/plain": [
       "                              time  volume    mid_o    mid_h    mid_l  \\\n",
       "4   2022-01-03T18:00:00.000000000Z    4419  115.318  115.358  115.263   \n",
       "9   2022-01-04T14:00:00.000000000Z   17583  116.260  116.338  115.955   \n",
       "10  2022-01-04T18:00:00.000000000Z    5432  116.172  116.184  116.080   \n",
       "20  2022-01-06T10:00:00.000000000Z   14994  115.750  115.892  115.697   \n",
       "24  2022-01-07T02:00:00.000000000Z    6340  115.898  115.939  115.833   \n",
       "\n",
       "      mid_c    bid_o    bid_h    bid_l    bid_c  ...  mid_l_prev  ask_h_prev  \\\n",
       "4   115.350  115.312  115.350  115.256  115.343  ...     115.138     115.377   \n",
       "9   116.173  116.253  116.331  115.948  116.166  ...     115.811     116.359   \n",
       "10  116.148  116.164  116.177  116.074  116.137  ...     115.955     116.345   \n",
       "20  115.750  115.743  115.885  115.690  115.745  ...     115.658     115.963   \n",
       "24  115.914  115.891  115.931  115.827  115.908  ...     115.830     116.056   \n",
       "\n",
       "    bid_l_prev  RANGE_prev  DIRECTION  DIRECTION_prev  SIGNAL     ENTRY  \\\n",
       "4      115.132       0.232          1               1       1  115.4002   \n",
       "9      115.804       0.541         -1               1       1  116.4131   \n",
       "10     115.948       0.383         -1              -1      -1  115.9097   \n",
       "20     115.652       0.298         -1              -1      -1  115.6222   \n",
       "24     115.785       0.218          1               1       1  116.0778   \n",
       "\n",
       "    STOPLOSS  TAKEPROFIT  \n",
       "4   115.3074    115.5858  \n",
       "9   116.1967    116.8459  \n",
       "10  116.0629    115.6033  \n",
       "20  115.7414    115.3838  \n",
       "24  115.9906    116.2522  \n",
       "\n",
       "[5 rows x 26 columns]"
      ]
     },
     "execution_count": 62,
     "metadata": {},
     "output_type": "execute_result"
    }
   ],
   "source": [
    "df[df.SIGNAL!=0].head()"
   ]
  },
  {
   "cell_type": "code",
   "execution_count": 63,
   "metadata": {},
   "outputs": [],
   "source": [
    "df_plot = df.iloc[0:60]\n",
    "df_buys = df_plot[df_plot.SIGNAL == 1]\n",
    "df_sells = df_plot[df_plot.SIGNAL == -1]"
   ]
  },
  {
   "cell_type": "code",
   "execution_count": 64,
   "metadata": {},
   "outputs": [
    {
     "data": {
      "text/plain": [
       "191.0"
      ]
     },
     "execution_count": 64,
     "metadata": {},
     "output_type": "execute_result"
    }
   ],
   "source": [
    "df_trades.result.sum()"
   ]
  },
  {
   "cell_type": "code",
   "execution_count": 65,
   "metadata": {},
   "outputs": [
    {
     "data": {
      "application/vnd.plotly.v1+json": {
       "config": {
        "plotlyServerURL": "https://plot.ly"
       },
       "data": [
        {
         "close": [
          115.312,
          115.178,
          115.149,
          115.32,
          115.35,
          115.418,
          115.749,
          115.83,
          116.261,
          116.173,
          116.148,
          116.012,
          116.002,
          115.858,
          115.804,
          115.972,
          116.105,
          115.926,
          115.866,
          115.748,
          115.75,
          115.812,
          115.844,
          115.899,
          115.914,
          115.844,
          115.854,
          115.624,
          115.549,
          115.643,
          115.812,
          115.668,
          115.391,
          115.091,
          115.199,
          115.34,
          115.273,
          115.378,
          115.612,
          115.456,
          115.299,
          115.292,
          115.356,
          115.362,
          115.21,
          114.524,
          114.638,
          114.568,
          114.56,
          114.536,
          114.28,
          114.06,
          114.165,
          113.84,
          113.722,
          113.91,
          113.574,
          114.128,
          114.185,
          114.474
         ],
         "decreasing": {
          "fillcolor": "#CC2E3C",
          "line": {
           "color": "#FF3A4C"
          }
         },
         "high": [
          115.318,
          115.364,
          115.179,
          115.37,
          115.358,
          115.488,
          115.816,
          115.89,
          116.352,
          116.338,
          116.184,
          116.244,
          116.102,
          116.046,
          115.936,
          116.002,
          116.186,
          116.186,
          115.975,
          115.956,
          115.892,
          115.868,
          115.954,
          116.048,
          115.939,
          115.948,
          115.93,
          115.884,
          115.642,
          115.67,
          115.852,
          115.826,
          115.681,
          115.46,
          115.269,
          115.364,
          115.388,
          115.418,
          115.646,
          115.682,
          115.458,
          115.356,
          115.404,
          115.448,
          115.487,
          115.312,
          114.646,
          114.706,
          114.658,
          114.65,
          114.574,
          114.372,
          114.178,
          114.228,
          113.898,
          113.932,
          113.993,
          114.144,
          114.268,
          114.515
         ],
         "increasing": {
          "fillcolor": "#24A06B",
          "line": {
           "color": "#2EC886"
          }
         },
         "line": {
          "width": 1
         },
         "low": [
          115.207,
          115.15,
          114.95,
          115.138,
          115.263,
          115.292,
          115.405,
          115.653,
          115.811,
          115.955,
          116.08,
          115.907,
          115.901,
          115.781,
          115.621,
          115.674,
          115.952,
          115.91,
          115.822,
          115.658,
          115.697,
          115.625,
          115.762,
          115.83,
          115.833,
          115.752,
          115.692,
          115.583,
          115.54,
          115.546,
          115.64,
          115.62,
          115.179,
          115.042,
          115.09,
          115.174,
          115.226,
          115.126,
          115.351,
          115.355,
          115.272,
          115.232,
          115.254,
          115.286,
          115.114,
          114.522,
          114.382,
          114.498,
          114.496,
          114.362,
          114.212,
          113.998,
          114.051,
          113.802,
          113.637,
          113.69,
          113.482,
          113.501,
          114.02,
          114.164
         ],
         "opacity": 1,
         "open": [
          115.214,
          115.31,
          115.176,
          115.15,
          115.318,
          115.328,
          115.417,
          115.748,
          115.828,
          116.26,
          116.172,
          116.102,
          116.014,
          116.004,
          115.859,
          115.802,
          115.97,
          116.119,
          115.928,
          115.868,
          115.75,
          115.749,
          115.814,
          115.852,
          115.898,
          115.913,
          115.846,
          115.855,
          115.622,
          115.623,
          115.641,
          115.81,
          115.67,
          115.394,
          115.093,
          115.2,
          115.341,
          115.274,
          115.38,
          115.61,
          115.458,
          115.298,
          115.294,
          115.358,
          115.359,
          115.208,
          114.525,
          114.644,
          114.569,
          114.558,
          114.536,
          114.281,
          114.059,
          114.186,
          113.839,
          113.72,
          113.912,
          113.572,
          114.127,
          114.168
         ],
         "type": "candlestick",
         "x": [
          "2022-01-03T02:00:00.000000000Z",
          "2022-01-03T06:00:00.000000000Z",
          "2022-01-03T10:00:00.000000000Z",
          "2022-01-03T14:00:00.000000000Z",
          "2022-01-03T18:00:00.000000000Z",
          "2022-01-03T22:00:00.000000000Z",
          "2022-01-04T02:00:00.000000000Z",
          "2022-01-04T06:00:00.000000000Z",
          "2022-01-04T10:00:00.000000000Z",
          "2022-01-04T14:00:00.000000000Z",
          "2022-01-04T18:00:00.000000000Z",
          "2022-01-04T22:00:00.000000000Z",
          "2022-01-05T02:00:00.000000000Z",
          "2022-01-05T06:00:00.000000000Z",
          "2022-01-05T10:00:00.000000000Z",
          "2022-01-05T14:00:00.000000000Z",
          "2022-01-05T18:00:00.000000000Z",
          "2022-01-05T22:00:00.000000000Z",
          "2022-01-06T02:00:00.000000000Z",
          "2022-01-06T06:00:00.000000000Z",
          "2022-01-06T10:00:00.000000000Z",
          "2022-01-06T14:00:00.000000000Z",
          "2022-01-06T18:00:00.000000000Z",
          "2022-01-06T22:00:00.000000000Z",
          "2022-01-07T02:00:00.000000000Z",
          "2022-01-07T06:00:00.000000000Z",
          "2022-01-07T10:00:00.000000000Z",
          "2022-01-07T14:00:00.000000000Z",
          "2022-01-07T18:00:00.000000000Z",
          "2022-01-09T22:00:00.000000000Z",
          "2022-01-10T02:00:00.000000000Z",
          "2022-01-10T06:00:00.000000000Z",
          "2022-01-10T10:00:00.000000000Z",
          "2022-01-10T14:00:00.000000000Z",
          "2022-01-10T18:00:00.000000000Z",
          "2022-01-10T22:00:00.000000000Z",
          "2022-01-11T02:00:00.000000000Z",
          "2022-01-11T06:00:00.000000000Z",
          "2022-01-11T10:00:00.000000000Z",
          "2022-01-11T14:00:00.000000000Z",
          "2022-01-11T18:00:00.000000000Z",
          "2022-01-11T22:00:00.000000000Z",
          "2022-01-12T02:00:00.000000000Z",
          "2022-01-12T06:00:00.000000000Z",
          "2022-01-12T10:00:00.000000000Z",
          "2022-01-12T14:00:00.000000000Z",
          "2022-01-12T18:00:00.000000000Z",
          "2022-01-12T22:00:00.000000000Z",
          "2022-01-13T02:00:00.000000000Z",
          "2022-01-13T06:00:00.000000000Z",
          "2022-01-13T10:00:00.000000000Z",
          "2022-01-13T14:00:00.000000000Z",
          "2022-01-13T18:00:00.000000000Z",
          "2022-01-13T22:00:00.000000000Z",
          "2022-01-14T02:00:00.000000000Z",
          "2022-01-14T06:00:00.000000000Z",
          "2022-01-14T10:00:00.000000000Z",
          "2022-01-14T14:00:00.000000000Z",
          "2022-01-14T18:00:00.000000000Z",
          "2022-01-16T22:00:00.000000000Z"
         ]
        },
        {
         "marker": {
          "color": "#043ef9",
          "size": 12
         },
         "mode": "markers",
         "type": "scatter",
         "x": [
          "2022-01-03T18:00:00.000000000Z",
          "2022-01-04T14:00:00.000000000Z",
          "2022-01-07T02:00:00.000000000Z"
         ],
         "y": [
          115.4002,
          116.4131,
          116.0778
         ]
        },
        {
         "marker": {
          "color": "#eb5334",
          "size": 12
         },
         "mode": "markers",
         "type": "scatter",
         "x": [
          "2022-01-03T18:00:00.000000000Z",
          "2022-01-04T14:00:00.000000000Z",
          "2022-01-07T02:00:00.000000000Z"
         ],
         "y": [
          115.3074,
          116.1967,
          115.9906
         ]
        },
        {
         "marker": {
          "color": "#34eb37",
          "size": 12
         },
         "mode": "markers",
         "type": "scatter",
         "x": [
          "2022-01-03T18:00:00.000000000Z",
          "2022-01-04T14:00:00.000000000Z",
          "2022-01-07T02:00:00.000000000Z"
         ],
         "y": [
          115.58579999999999,
          116.8459,
          116.2522
         ]
        },
        {
         "marker": {
          "color": "#043ef9",
          "size": 12
         },
         "mode": "markers",
         "type": "scatter",
         "x": [
          "2022-01-04T18:00:00.000000000Z",
          "2022-01-06T10:00:00.000000000Z",
          "2022-01-10T18:00:00.000000000Z",
          "2022-01-13T18:00:00.000000000Z"
         ],
         "y": [
          115.90969999999999,
          115.6222,
          114.9932,
          113.9536
         ]
        },
        {
         "marker": {
          "color": "#eb5334",
          "size": 12
         },
         "mode": "markers",
         "type": "scatter",
         "x": [
          "2022-01-04T18:00:00.000000000Z",
          "2022-01-06T10:00:00.000000000Z",
          "2022-01-10T18:00:00.000000000Z",
          "2022-01-13T18:00:00.000000000Z"
         ],
         "y": [
          116.06289999999998,
          115.74140000000001,
          115.1604,
          114.10319999999999
         ]
        },
        {
         "marker": {
          "color": "#34eb37",
          "size": 12
         },
         "mode": "markers",
         "type": "scatter",
         "x": [
          "2022-01-04T18:00:00.000000000Z",
          "2022-01-06T10:00:00.000000000Z",
          "2022-01-10T18:00:00.000000000Z",
          "2022-01-13T18:00:00.000000000Z"
         ],
         "y": [
          115.60329999999999,
          115.38380000000001,
          114.65880000000001,
          113.6544
         ]
        }
       ],
       "layout": {
        "font": {
         "color": "#e1e1e1",
         "size": 10
        },
        "height": 400,
        "margin": {
         "b": 10,
         "l": 10,
         "r": 10,
         "t": 10
        },
        "paper_bgcolor": "#1e1e1e",
        "plot_bgcolor": "#1e1e1e",
        "template": {
         "data": {
          "bar": [
           {
            "error_x": {
             "color": "#2a3f5f"
            },
            "error_y": {
             "color": "#2a3f5f"
            },
            "marker": {
             "line": {
              "color": "#E5ECF6",
              "width": 0.5
             },
             "pattern": {
              "fillmode": "overlay",
              "size": 10,
              "solidity": 0.2
             }
            },
            "type": "bar"
           }
          ],
          "barpolar": [
           {
            "marker": {
             "line": {
              "color": "#E5ECF6",
              "width": 0.5
             },
             "pattern": {
              "fillmode": "overlay",
              "size": 10,
              "solidity": 0.2
             }
            },
            "type": "barpolar"
           }
          ],
          "carpet": [
           {
            "aaxis": {
             "endlinecolor": "#2a3f5f",
             "gridcolor": "white",
             "linecolor": "white",
             "minorgridcolor": "white",
             "startlinecolor": "#2a3f5f"
            },
            "baxis": {
             "endlinecolor": "#2a3f5f",
             "gridcolor": "white",
             "linecolor": "white",
             "minorgridcolor": "white",
             "startlinecolor": "#2a3f5f"
            },
            "type": "carpet"
           }
          ],
          "choropleth": [
           {
            "colorbar": {
             "outlinewidth": 0,
             "ticks": ""
            },
            "type": "choropleth"
           }
          ],
          "contour": [
           {
            "colorbar": {
             "outlinewidth": 0,
             "ticks": ""
            },
            "colorscale": [
             [
              0,
              "#0d0887"
             ],
             [
              0.1111111111111111,
              "#46039f"
             ],
             [
              0.2222222222222222,
              "#7201a8"
             ],
             [
              0.3333333333333333,
              "#9c179e"
             ],
             [
              0.4444444444444444,
              "#bd3786"
             ],
             [
              0.5555555555555556,
              "#d8576b"
             ],
             [
              0.6666666666666666,
              "#ed7953"
             ],
             [
              0.7777777777777778,
              "#fb9f3a"
             ],
             [
              0.8888888888888888,
              "#fdca26"
             ],
             [
              1,
              "#f0f921"
             ]
            ],
            "type": "contour"
           }
          ],
          "contourcarpet": [
           {
            "colorbar": {
             "outlinewidth": 0,
             "ticks": ""
            },
            "type": "contourcarpet"
           }
          ],
          "heatmap": [
           {
            "colorbar": {
             "outlinewidth": 0,
             "ticks": ""
            },
            "colorscale": [
             [
              0,
              "#0d0887"
             ],
             [
              0.1111111111111111,
              "#46039f"
             ],
             [
              0.2222222222222222,
              "#7201a8"
             ],
             [
              0.3333333333333333,
              "#9c179e"
             ],
             [
              0.4444444444444444,
              "#bd3786"
             ],
             [
              0.5555555555555556,
              "#d8576b"
             ],
             [
              0.6666666666666666,
              "#ed7953"
             ],
             [
              0.7777777777777778,
              "#fb9f3a"
             ],
             [
              0.8888888888888888,
              "#fdca26"
             ],
             [
              1,
              "#f0f921"
             ]
            ],
            "type": "heatmap"
           }
          ],
          "heatmapgl": [
           {
            "colorbar": {
             "outlinewidth": 0,
             "ticks": ""
            },
            "colorscale": [
             [
              0,
              "#0d0887"
             ],
             [
              0.1111111111111111,
              "#46039f"
             ],
             [
              0.2222222222222222,
              "#7201a8"
             ],
             [
              0.3333333333333333,
              "#9c179e"
             ],
             [
              0.4444444444444444,
              "#bd3786"
             ],
             [
              0.5555555555555556,
              "#d8576b"
             ],
             [
              0.6666666666666666,
              "#ed7953"
             ],
             [
              0.7777777777777778,
              "#fb9f3a"
             ],
             [
              0.8888888888888888,
              "#fdca26"
             ],
             [
              1,
              "#f0f921"
             ]
            ],
            "type": "heatmapgl"
           }
          ],
          "histogram": [
           {
            "marker": {
             "pattern": {
              "fillmode": "overlay",
              "size": 10,
              "solidity": 0.2
             }
            },
            "type": "histogram"
           }
          ],
          "histogram2d": [
           {
            "colorbar": {
             "outlinewidth": 0,
             "ticks": ""
            },
            "colorscale": [
             [
              0,
              "#0d0887"
             ],
             [
              0.1111111111111111,
              "#46039f"
             ],
             [
              0.2222222222222222,
              "#7201a8"
             ],
             [
              0.3333333333333333,
              "#9c179e"
             ],
             [
              0.4444444444444444,
              "#bd3786"
             ],
             [
              0.5555555555555556,
              "#d8576b"
             ],
             [
              0.6666666666666666,
              "#ed7953"
             ],
             [
              0.7777777777777778,
              "#fb9f3a"
             ],
             [
              0.8888888888888888,
              "#fdca26"
             ],
             [
              1,
              "#f0f921"
             ]
            ],
            "type": "histogram2d"
           }
          ],
          "histogram2dcontour": [
           {
            "colorbar": {
             "outlinewidth": 0,
             "ticks": ""
            },
            "colorscale": [
             [
              0,
              "#0d0887"
             ],
             [
              0.1111111111111111,
              "#46039f"
             ],
             [
              0.2222222222222222,
              "#7201a8"
             ],
             [
              0.3333333333333333,
              "#9c179e"
             ],
             [
              0.4444444444444444,
              "#bd3786"
             ],
             [
              0.5555555555555556,
              "#d8576b"
             ],
             [
              0.6666666666666666,
              "#ed7953"
             ],
             [
              0.7777777777777778,
              "#fb9f3a"
             ],
             [
              0.8888888888888888,
              "#fdca26"
             ],
             [
              1,
              "#f0f921"
             ]
            ],
            "type": "histogram2dcontour"
           }
          ],
          "mesh3d": [
           {
            "colorbar": {
             "outlinewidth": 0,
             "ticks": ""
            },
            "type": "mesh3d"
           }
          ],
          "parcoords": [
           {
            "line": {
             "colorbar": {
              "outlinewidth": 0,
              "ticks": ""
             }
            },
            "type": "parcoords"
           }
          ],
          "pie": [
           {
            "automargin": true,
            "type": "pie"
           }
          ],
          "scatter": [
           {
            "fillpattern": {
             "fillmode": "overlay",
             "size": 10,
             "solidity": 0.2
            },
            "type": "scatter"
           }
          ],
          "scatter3d": [
           {
            "line": {
             "colorbar": {
              "outlinewidth": 0,
              "ticks": ""
             }
            },
            "marker": {
             "colorbar": {
              "outlinewidth": 0,
              "ticks": ""
             }
            },
            "type": "scatter3d"
           }
          ],
          "scattercarpet": [
           {
            "marker": {
             "colorbar": {
              "outlinewidth": 0,
              "ticks": ""
             }
            },
            "type": "scattercarpet"
           }
          ],
          "scattergeo": [
           {
            "marker": {
             "colorbar": {
              "outlinewidth": 0,
              "ticks": ""
             }
            },
            "type": "scattergeo"
           }
          ],
          "scattergl": [
           {
            "marker": {
             "colorbar": {
              "outlinewidth": 0,
              "ticks": ""
             }
            },
            "type": "scattergl"
           }
          ],
          "scattermapbox": [
           {
            "marker": {
             "colorbar": {
              "outlinewidth": 0,
              "ticks": ""
             }
            },
            "type": "scattermapbox"
           }
          ],
          "scatterpolar": [
           {
            "marker": {
             "colorbar": {
              "outlinewidth": 0,
              "ticks": ""
             }
            },
            "type": "scatterpolar"
           }
          ],
          "scatterpolargl": [
           {
            "marker": {
             "colorbar": {
              "outlinewidth": 0,
              "ticks": ""
             }
            },
            "type": "scatterpolargl"
           }
          ],
          "scatterternary": [
           {
            "marker": {
             "colorbar": {
              "outlinewidth": 0,
              "ticks": ""
             }
            },
            "type": "scatterternary"
           }
          ],
          "surface": [
           {
            "colorbar": {
             "outlinewidth": 0,
             "ticks": ""
            },
            "colorscale": [
             [
              0,
              "#0d0887"
             ],
             [
              0.1111111111111111,
              "#46039f"
             ],
             [
              0.2222222222222222,
              "#7201a8"
             ],
             [
              0.3333333333333333,
              "#9c179e"
             ],
             [
              0.4444444444444444,
              "#bd3786"
             ],
             [
              0.5555555555555556,
              "#d8576b"
             ],
             [
              0.6666666666666666,
              "#ed7953"
             ],
             [
              0.7777777777777778,
              "#fb9f3a"
             ],
             [
              0.8888888888888888,
              "#fdca26"
             ],
             [
              1,
              "#f0f921"
             ]
            ],
            "type": "surface"
           }
          ],
          "table": [
           {
            "cells": {
             "fill": {
              "color": "#EBF0F8"
             },
             "line": {
              "color": "white"
             }
            },
            "header": {
             "fill": {
              "color": "#C8D4E3"
             },
             "line": {
              "color": "white"
             }
            },
            "type": "table"
           }
          ]
         },
         "layout": {
          "annotationdefaults": {
           "arrowcolor": "#2a3f5f",
           "arrowhead": 0,
           "arrowwidth": 1
          },
          "autotypenumbers": "strict",
          "coloraxis": {
           "colorbar": {
            "outlinewidth": 0,
            "ticks": ""
           }
          },
          "colorscale": {
           "diverging": [
            [
             0,
             "#8e0152"
            ],
            [
             0.1,
             "#c51b7d"
            ],
            [
             0.2,
             "#de77ae"
            ],
            [
             0.3,
             "#f1b6da"
            ],
            [
             0.4,
             "#fde0ef"
            ],
            [
             0.5,
             "#f7f7f7"
            ],
            [
             0.6,
             "#e6f5d0"
            ],
            [
             0.7,
             "#b8e186"
            ],
            [
             0.8,
             "#7fbc41"
            ],
            [
             0.9,
             "#4d9221"
            ],
            [
             1,
             "#276419"
            ]
           ],
           "sequential": [
            [
             0,
             "#0d0887"
            ],
            [
             0.1111111111111111,
             "#46039f"
            ],
            [
             0.2222222222222222,
             "#7201a8"
            ],
            [
             0.3333333333333333,
             "#9c179e"
            ],
            [
             0.4444444444444444,
             "#bd3786"
            ],
            [
             0.5555555555555556,
             "#d8576b"
            ],
            [
             0.6666666666666666,
             "#ed7953"
            ],
            [
             0.7777777777777778,
             "#fb9f3a"
            ],
            [
             0.8888888888888888,
             "#fdca26"
            ],
            [
             1,
             "#f0f921"
            ]
           ],
           "sequentialminus": [
            [
             0,
             "#0d0887"
            ],
            [
             0.1111111111111111,
             "#46039f"
            ],
            [
             0.2222222222222222,
             "#7201a8"
            ],
            [
             0.3333333333333333,
             "#9c179e"
            ],
            [
             0.4444444444444444,
             "#bd3786"
            ],
            [
             0.5555555555555556,
             "#d8576b"
            ],
            [
             0.6666666666666666,
             "#ed7953"
            ],
            [
             0.7777777777777778,
             "#fb9f3a"
            ],
            [
             0.8888888888888888,
             "#fdca26"
            ],
            [
             1,
             "#f0f921"
            ]
           ]
          },
          "colorway": [
           "#636efa",
           "#EF553B",
           "#00cc96",
           "#ab63fa",
           "#FFA15A",
           "#19d3f3",
           "#FF6692",
           "#B6E880",
           "#FF97FF",
           "#FECB52"
          ],
          "font": {
           "color": "#2a3f5f"
          },
          "geo": {
           "bgcolor": "white",
           "lakecolor": "white",
           "landcolor": "#E5ECF6",
           "showlakes": true,
           "showland": true,
           "subunitcolor": "white"
          },
          "hoverlabel": {
           "align": "left"
          },
          "hovermode": "closest",
          "mapbox": {
           "style": "light"
          },
          "paper_bgcolor": "white",
          "plot_bgcolor": "#E5ECF6",
          "polar": {
           "angularaxis": {
            "gridcolor": "white",
            "linecolor": "white",
            "ticks": ""
           },
           "bgcolor": "#E5ECF6",
           "radialaxis": {
            "gridcolor": "white",
            "linecolor": "white",
            "ticks": ""
           }
          },
          "scene": {
           "xaxis": {
            "backgroundcolor": "#E5ECF6",
            "gridcolor": "white",
            "gridwidth": 2,
            "linecolor": "white",
            "showbackground": true,
            "ticks": "",
            "zerolinecolor": "white"
           },
           "yaxis": {
            "backgroundcolor": "#E5ECF6",
            "gridcolor": "white",
            "gridwidth": 2,
            "linecolor": "white",
            "showbackground": true,
            "ticks": "",
            "zerolinecolor": "white"
           },
           "zaxis": {
            "backgroundcolor": "#E5ECF6",
            "gridcolor": "white",
            "gridwidth": 2,
            "linecolor": "white",
            "showbackground": true,
            "ticks": "",
            "zerolinecolor": "white"
           }
          },
          "shapedefaults": {
           "line": {
            "color": "#2a3f5f"
           }
          },
          "ternary": {
           "aaxis": {
            "gridcolor": "white",
            "linecolor": "white",
            "ticks": ""
           },
           "baxis": {
            "gridcolor": "white",
            "linecolor": "white",
            "ticks": ""
           },
           "bgcolor": "#E5ECF6",
           "caxis": {
            "gridcolor": "white",
            "linecolor": "white",
            "ticks": ""
           }
          },
          "title": {
           "x": 0.05
          },
          "xaxis": {
           "automargin": true,
           "gridcolor": "white",
           "linecolor": "white",
           "ticks": "",
           "title": {
            "standoff": 15
           },
           "zerolinecolor": "white",
           "zerolinewidth": 2
          },
          "yaxis": {
           "automargin": true,
           "gridcolor": "white",
           "linecolor": "white",
           "ticks": "",
           "title": {
            "standoff": 15
           },
           "zerolinecolor": "white",
           "zerolinewidth": 2
          }
         }
        },
        "width": 1000,
        "xaxis": {
         "fixedrange": true,
         "gridcolor": "#1f292f",
         "rangebreaks": [
          {
           "bounds": [
            "sat",
            "mon"
           ]
          }
         ],
         "rangeslider": {
          "visible": false
         },
         "showgrid": true
        },
        "yaxis": {
         "gridcolor": "#1f292f",
         "showgrid": true
        }
       }
      }
     },
     "metadata": {},
     "output_type": "display_data"
    }
   ],
   "source": [
    "plot_candles(df_plot)"
   ]
  },
  {
   "cell_type": "code",
   "execution_count": null,
   "metadata": {},
   "outputs": [],
   "source": []
  }
 ],
 "metadata": {
  "kernelspec": {
   "display_name": "Python 3",
   "language": "python",
   "name": "python3"
  },
  "language_info": {
   "codemirror_mode": {
    "name": "ipython",
    "version": 3
   },
   "file_extension": ".py",
   "mimetype": "text/x-python",
   "name": "python",
   "nbconvert_exporter": "python",
   "pygments_lexer": "ipython3",
   "version": "3.8.6-final"
  },
  "orig_nbformat": 2
 },
 "nbformat": 4,
 "nbformat_minor": 2
}
