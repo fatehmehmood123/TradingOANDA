{
 "cells": [
  {
   "cell_type": "code",
   "execution_count": 1,
   "metadata": {},
   "outputs": [],
   "source": [
    "import pandas as pd\n",
    "import plotly.graph_objects as go\n",
    "import utils"
   ]
  },
  {
   "cell_type": "code",
   "execution_count": 2,
   "metadata": {},
   "outputs": [],
   "source": [
    "plot_cols = ['ENTRY', 'STOPLOSS', 'TAKEPROFIT']\n",
    "plot_colours = ['#043ef9', '#eb5334', '#34eb37']\n",
    "def plot_candles(df_plot):\n",
    "    fig = go.Figure()\n",
    "    fig.add_trace(go.Candlestick(\n",
    "        x=df_plot.time, open=df_plot.mid_o, high=df_plot.mid_h, low=df_plot.mid_l, close=df_plot.mid_c,\n",
    "        line=dict(width=1), opacity=1,\n",
    "        increasing_fillcolor='#24A06B',\n",
    "        decreasing_fillcolor=\"#CC2E3C\",\n",
    "        increasing_line_color='#2EC886',  \n",
    "        decreasing_line_color='#FF3A4C'\n",
    "    ))\n",
    "    for i in range(0, 3):\n",
    "        fig.add_trace(go.Scatter(\n",
    "            x=df_buys.time,\n",
    "            y=df_buys[plot_cols[i]],\n",
    "            mode='markers',\n",
    "            marker=dict(color=plot_colours[i],size=12)\n",
    "        ))\n",
    "    for i in range(0, 3):\n",
    "        fig.add_trace(go.Scatter(\n",
    "            x=df_sells.time,\n",
    "            y=df_sells[plot_cols[i]],\n",
    "            mode='markers',\n",
    "            marker=dict(color=plot_colours[i],size=12)\n",
    "        ))\n",
    "    fig.update_layout(width=1000,height=400,\n",
    "        margin=dict(l=10,r=10,b=10,t=10),\n",
    "        font=dict(size=10,color=\"#e1e1e1\"),\n",
    "        paper_bgcolor=\"#1e1e1e\",\n",
    "        plot_bgcolor=\"#1e1e1e\")\n",
    "    fig.update_xaxes(\n",
    "        gridcolor=\"#1f292f\",\n",
    "        showgrid=True,fixedrange=True,rangeslider=dict(visible=False),\n",
    "        rangebreaks=[\n",
    "            dict(bounds=[\"sat\", \"mon\"])\n",
    "        ]\n",
    "    )\n",
    "    fig.update_yaxes(\n",
    "        gridcolor=\"#1f292f\",\n",
    "        showgrid=True\n",
    "    )\n",
    "    fig.show()"
   ]
  },
  {
   "cell_type": "code",
   "execution_count": 3,
   "metadata": {},
   "outputs": [],
   "source": [
    "pair = \"USD_JPY\"\n",
    "granularity = \"H1\"\n",
    "df_raw = pd.read_pickle(utils.get_his_data_filename(pair, granularity))"
   ]
  },
  {
   "cell_type": "code",
   "execution_count": 4,
   "metadata": {},
   "outputs": [],
   "source": [
    "non_cols = ['time', 'volume']\n",
    "mod_cols = [x for x in df_raw.columns if x not in non_cols]\n",
    "df_raw[mod_cols] = df_raw[mod_cols].apply(pd.to_numeric)"
   ]
  },
  {
   "cell_type": "code",
   "execution_count": 5,
   "metadata": {},
   "outputs": [
    {
     "data": {
      "text/html": [
       "<div>\n",
       "<style scoped>\n",
       "    .dataframe tbody tr th:only-of-type {\n",
       "        vertical-align: middle;\n",
       "    }\n",
       "\n",
       "    .dataframe tbody tr th {\n",
       "        vertical-align: top;\n",
       "    }\n",
       "\n",
       "    .dataframe thead th {\n",
       "        text-align: right;\n",
       "    }\n",
       "</style>\n",
       "<table border=\"1\" class=\"dataframe\">\n",
       "  <thead>\n",
       "    <tr style=\"text-align: right;\">\n",
       "      <th></th>\n",
       "      <th>time</th>\n",
       "      <th>volume</th>\n",
       "      <th>mid_o</th>\n",
       "      <th>mid_h</th>\n",
       "      <th>mid_l</th>\n",
       "      <th>mid_c</th>\n",
       "      <th>bid_o</th>\n",
       "      <th>bid_h</th>\n",
       "      <th>bid_l</th>\n",
       "      <th>bid_c</th>\n",
       "      <th>ask_o</th>\n",
       "      <th>ask_h</th>\n",
       "      <th>ask_l</th>\n",
       "      <th>ask_c</th>\n",
       "    </tr>\n",
       "  </thead>\n",
       "  <tbody>\n",
       "    <tr>\n",
       "      <th>0</th>\n",
       "      <td>2023-01-01 23:00:00+00:00</td>\n",
       "      <td>106</td>\n",
       "      <td>130.827</td>\n",
       "      <td>130.932</td>\n",
       "      <td>130.738</td>\n",
       "      <td>130.919</td>\n",
       "      <td>130.777</td>\n",
       "      <td>130.882</td>\n",
       "      <td>130.688</td>\n",
       "      <td>130.869</td>\n",
       "      <td>130.877</td>\n",
       "      <td>130.982</td>\n",
       "      <td>130.788</td>\n",
       "      <td>130.969</td>\n",
       "    </tr>\n",
       "    <tr>\n",
       "      <th>1</th>\n",
       "      <td>2023-01-02 00:00:00+00:00</td>\n",
       "      <td>257</td>\n",
       "      <td>130.935</td>\n",
       "      <td>131.052</td>\n",
       "      <td>130.918</td>\n",
       "      <td>130.942</td>\n",
       "      <td>130.885</td>\n",
       "      <td>131.036</td>\n",
       "      <td>130.868</td>\n",
       "      <td>130.892</td>\n",
       "      <td>130.985</td>\n",
       "      <td>131.073</td>\n",
       "      <td>130.968</td>\n",
       "      <td>130.992</td>\n",
       "    </tr>\n",
       "    <tr>\n",
       "      <th>2</th>\n",
       "      <td>2023-01-02 01:00:00+00:00</td>\n",
       "      <td>630</td>\n",
       "      <td>130.952</td>\n",
       "      <td>130.995</td>\n",
       "      <td>130.877</td>\n",
       "      <td>130.959</td>\n",
       "      <td>130.902</td>\n",
       "      <td>130.945</td>\n",
       "      <td>130.827</td>\n",
       "      <td>130.909</td>\n",
       "      <td>131.002</td>\n",
       "      <td>131.045</td>\n",
       "      <td>130.927</td>\n",
       "      <td>131.009</td>\n",
       "    </tr>\n",
       "    <tr>\n",
       "      <th>3</th>\n",
       "      <td>2023-01-02 02:00:00+00:00</td>\n",
       "      <td>50</td>\n",
       "      <td>130.964</td>\n",
       "      <td>131.041</td>\n",
       "      <td>130.964</td>\n",
       "      <td>131.033</td>\n",
       "      <td>130.914</td>\n",
       "      <td>130.991</td>\n",
       "      <td>130.914</td>\n",
       "      <td>130.983</td>\n",
       "      <td>131.014</td>\n",
       "      <td>131.091</td>\n",
       "      <td>131.014</td>\n",
       "      <td>131.083</td>\n",
       "    </tr>\n",
       "    <tr>\n",
       "      <th>4</th>\n",
       "      <td>2023-01-02 03:00:00+00:00</td>\n",
       "      <td>122</td>\n",
       "      <td>131.029</td>\n",
       "      <td>131.035</td>\n",
       "      <td>130.911</td>\n",
       "      <td>130.949</td>\n",
       "      <td>130.979</td>\n",
       "      <td>130.985</td>\n",
       "      <td>130.873</td>\n",
       "      <td>130.901</td>\n",
       "      <td>131.079</td>\n",
       "      <td>131.085</td>\n",
       "      <td>130.941</td>\n",
       "      <td>130.997</td>\n",
       "    </tr>\n",
       "  </tbody>\n",
       "</table>\n",
       "</div>"
      ],
      "text/plain": [
       "                       time  volume    mid_o    mid_h    mid_l    mid_c  \\\n",
       "0 2023-01-01 23:00:00+00:00     106  130.827  130.932  130.738  130.919   \n",
       "1 2023-01-02 00:00:00+00:00     257  130.935  131.052  130.918  130.942   \n",
       "2 2023-01-02 01:00:00+00:00     630  130.952  130.995  130.877  130.959   \n",
       "3 2023-01-02 02:00:00+00:00      50  130.964  131.041  130.964  131.033   \n",
       "4 2023-01-02 03:00:00+00:00     122  131.029  131.035  130.911  130.949   \n",
       "\n",
       "     bid_o    bid_h    bid_l    bid_c    ask_o    ask_h    ask_l    ask_c  \n",
       "0  130.777  130.882  130.688  130.869  130.877  130.982  130.788  130.969  \n",
       "1  130.885  131.036  130.868  130.892  130.985  131.073  130.968  130.992  \n",
       "2  130.902  130.945  130.827  130.909  131.002  131.045  130.927  131.009  \n",
       "3  130.914  130.991  130.914  130.983  131.014  131.091  131.014  131.083  \n",
       "4  130.979  130.985  130.873  130.901  131.079  131.085  130.941  130.997  "
      ]
     },
     "execution_count": 5,
     "metadata": {},
     "output_type": "execute_result"
    }
   ],
   "source": [
    "df_raw.head()"
   ]
  },
  {
   "cell_type": "code",
   "execution_count": 6,
   "metadata": {},
   "outputs": [],
   "source": [
    "SLOSS = 0.4\n",
    "TPROFIT = 0.8\n",
    "ENTRY_PRC = 0.1\n",
    "\n",
    "def direction(row):\n",
    "    if row.mid_c > row.mid_o:\n",
    "        return 1\n",
    "    return -1\n",
    "\n",
    "def get_signal(row):\n",
    "    if row.mid_h_prev > row.mid_h and row.mid_l_prev < row.mid_l:\n",
    "        return row.DIRECTION_prev\n",
    "    return 0\n",
    "\n",
    "def get_entry_stop(row):\n",
    "    if row.SIGNAL == 1:\n",
    "        return (row.RANGE_prev * ENTRY_PRC) + row.ask_h_prev\n",
    "    elif row.SIGNAL == -1:\n",
    "        return row.bid_l_prev - (row.RANGE_prev * ENTRY_PRC)\n",
    "    else:\n",
    "        return 0\n",
    "\n",
    "def get_stop_loss(row):\n",
    "    if row.SIGNAL == 1:\n",
    "        return row.ENTRY - (row.RANGE_prev * SLOSS)\n",
    "    elif row.SIGNAL == -1:\n",
    "        return row.ENTRY + (row.RANGE_prev * SLOSS)\n",
    "    else:\n",
    "        return 0\n",
    "\n",
    "\n",
    "def get_take_profit(row):\n",
    "    if row.SIGNAL == 1:\n",
    "        return row.ENTRY + (row.RANGE_prev * TPROFIT)\n",
    "    elif row.SIGNAL == -1:\n",
    "        return row.ENTRY - (row.RANGE_prev * TPROFIT)\n",
    "    else:\n",
    "        return 0"
   ]
  },
  {
   "cell_type": "code",
   "execution_count": 7,
   "metadata": {},
   "outputs": [],
   "source": [
    "df = df_raw.copy()\n",
    "df['RANGE'] = df.mid_h - df.mid_l\n",
    "df['mid_h_prev'] = df.mid_h.shift(1)\n",
    "df['mid_l_prev'] = df.mid_l.shift(1)\n",
    "df['ask_h_prev'] = df.ask_h.shift(1)\n",
    "df['bid_l_prev'] = df.bid_l.shift(1)\n",
    "df['RANGE_prev'] = df.RANGE.shift(1)\n",
    "df['DIRECTION'] = df.apply(direction, axis=1)\n",
    "df['DIRECTION_prev'] = df.DIRECTION.shift(1).fillna(0).astype(int)\n",
    "df.dropna(inplace=True)\n",
    "df['SIGNAL'] = df.apply(get_signal, axis=1)\n",
    "df.reset_index(drop=True, inplace=True)"
   ]
  },
  {
   "cell_type": "code",
   "execution_count": 8,
   "metadata": {},
   "outputs": [],
   "source": [
    "df['ENTRY'] = df.apply(get_entry_stop, axis=1)\n",
    "df['STOPLOSS'] = df.apply(get_stop_loss, axis=1)\n",
    "df['TAKEPROFIT'] = df.apply(get_take_profit, axis=1)"
   ]
  },
  {
   "cell_type": "code",
   "execution_count": 9,
   "metadata": {},
   "outputs": [],
   "source": [
    "df[df.SIGNAL!=0].to_pickle(\"USD_JPY_H4_trades.pkl\")"
   ]
  },
  {
   "cell_type": "code",
   "execution_count": null,
   "metadata": {},
   "outputs": [],
   "source": []
  },
  {
   "cell_type": "code",
   "execution_count": 10,
   "metadata": {},
   "outputs": [],
   "source": [
    "class Trade():\n",
    "    def __init__(self, row):\n",
    "        self.candle_date = row.time\n",
    "        self.direction = row.SIGNAL\n",
    "        self.entry = row.ENTRY\n",
    "        self.TP = row.TAKEPROFIT\n",
    "        self.SL = row.STOPLOSS\n",
    "        self.running = False\n",
    "        self.result = None\n",
    "        self.stopped = None\n",
    "\n",
    "    def update(self, row):\n",
    "        if self.running == True:\n",
    "            self.update_result(row)\n",
    "        else:\n",
    "            self.check_entry(row)    \n",
    "    \n",
    "    def check_entry(self, row):\n",
    "        if self.direction == 1 and row.mid_c >= self.entry or self.direction == -1 and row.mid_c <= self.entry:\n",
    "            self.index = row.name\n",
    "            self.opened = row.time\n",
    "            self.running = True\n",
    "\n",
    "    def update_result(self, row):\n",
    "        if self.direction == 1:\n",
    "            if row.mid_c >= self.TP:\n",
    "                self.result = 2.0\n",
    "            elif row.mid_c <= self.SL:\n",
    "                self.result = -1.0\n",
    "        else:\n",
    "            if row.mid_c <= self.TP:\n",
    "                self.result = 2.0            \n",
    "            elif row.mid_c >= self.SL:\n",
    "                self.result = -1.0   \n",
    "        \n",
    "        if self.result is not None:\n",
    "            self.running = False\n",
    "            self.stopped = row.time\n"
   ]
  },
  {
   "cell_type": "code",
   "execution_count": 11,
   "metadata": {},
   "outputs": [],
   "source": [
    "open_trades = []\n",
    "closed_trades = []\n",
    "\n",
    "for index, row in df.iterrows():\n",
    "    for ot in open_trades:\n",
    "        ot.update(row)\n",
    "        if ot.stopped is not None:\n",
    "            closed_trades.append(ot)\n",
    "    \n",
    "    open_trades = [x for x in open_trades if x.stopped is None]\n",
    "\n",
    "    if row.SIGNAL != 0:\n",
    "        open_trades = [x for x in open_trades if x.running == True]\n",
    "        open_trades.append(Trade(row))\n"
   ]
  },
  {
   "cell_type": "code",
   "execution_count": 12,
   "metadata": {},
   "outputs": [],
   "source": [
    "df_trades = pd.DataFrame.from_dict([vars(x) for x in closed_trades])"
   ]
  },
  {
   "cell_type": "code",
   "execution_count": null,
   "metadata": {},
   "outputs": [],
   "source": []
  },
  {
   "cell_type": "code",
   "execution_count": 13,
   "metadata": {},
   "outputs": [
    {
     "data": {
      "text/html": [
       "<div>\n",
       "<style scoped>\n",
       "    .dataframe tbody tr th:only-of-type {\n",
       "        vertical-align: middle;\n",
       "    }\n",
       "\n",
       "    .dataframe tbody tr th {\n",
       "        vertical-align: top;\n",
       "    }\n",
       "\n",
       "    .dataframe thead th {\n",
       "        text-align: right;\n",
       "    }\n",
       "</style>\n",
       "<table border=\"1\" class=\"dataframe\">\n",
       "  <thead>\n",
       "    <tr style=\"text-align: right;\">\n",
       "      <th></th>\n",
       "      <th>time</th>\n",
       "      <th>volume</th>\n",
       "      <th>mid_o</th>\n",
       "      <th>mid_h</th>\n",
       "      <th>mid_l</th>\n",
       "      <th>mid_c</th>\n",
       "      <th>bid_o</th>\n",
       "      <th>bid_h</th>\n",
       "      <th>bid_l</th>\n",
       "      <th>bid_c</th>\n",
       "      <th>...</th>\n",
       "      <th>mid_l_prev</th>\n",
       "      <th>ask_h_prev</th>\n",
       "      <th>bid_l_prev</th>\n",
       "      <th>RANGE_prev</th>\n",
       "      <th>DIRECTION</th>\n",
       "      <th>DIRECTION_prev</th>\n",
       "      <th>SIGNAL</th>\n",
       "      <th>ENTRY</th>\n",
       "      <th>STOPLOSS</th>\n",
       "      <th>TAKEPROFIT</th>\n",
       "    </tr>\n",
       "  </thead>\n",
       "  <tbody>\n",
       "    <tr>\n",
       "      <th>17</th>\n",
       "      <td>2023-01-02 17:00:00+00:00</td>\n",
       "      <td>8702</td>\n",
       "      <td>130.753</td>\n",
       "      <td>130.812</td>\n",
       "      <td>130.729</td>\n",
       "      <td>130.788</td>\n",
       "      <td>130.731</td>\n",
       "      <td>130.778</td>\n",
       "      <td>130.714</td>\n",
       "      <td>130.746</td>\n",
       "      <td>...</td>\n",
       "      <td>130.675</td>\n",
       "      <td>130.874</td>\n",
       "      <td>130.639</td>\n",
       "      <td>0.167</td>\n",
       "      <td>1</td>\n",
       "      <td>-1</td>\n",
       "      <td>-1</td>\n",
       "      <td>130.6223</td>\n",
       "      <td>130.6891</td>\n",
       "      <td>130.4887</td>\n",
       "    </tr>\n",
       "    <tr>\n",
       "      <th>18</th>\n",
       "      <td>2023-01-02 18:00:00+00:00</td>\n",
       "      <td>5027</td>\n",
       "      <td>130.791</td>\n",
       "      <td>130.797</td>\n",
       "      <td>130.754</td>\n",
       "      <td>130.784</td>\n",
       "      <td>130.750</td>\n",
       "      <td>130.760</td>\n",
       "      <td>130.708</td>\n",
       "      <td>130.742</td>\n",
       "      <td>...</td>\n",
       "      <td>130.729</td>\n",
       "      <td>130.851</td>\n",
       "      <td>130.714</td>\n",
       "      <td>0.083</td>\n",
       "      <td>-1</td>\n",
       "      <td>1</td>\n",
       "      <td>1</td>\n",
       "      <td>130.8593</td>\n",
       "      <td>130.8261</td>\n",
       "      <td>130.9257</td>\n",
       "    </tr>\n",
       "    <tr>\n",
       "      <th>24</th>\n",
       "      <td>2023-01-03 00:00:00+00:00</td>\n",
       "      <td>6546</td>\n",
       "      <td>130.792</td>\n",
       "      <td>130.906</td>\n",
       "      <td>130.576</td>\n",
       "      <td>130.614</td>\n",
       "      <td>130.780</td>\n",
       "      <td>130.897</td>\n",
       "      <td>130.566</td>\n",
       "      <td>130.604</td>\n",
       "      <td>...</td>\n",
       "      <td>130.534</td>\n",
       "      <td>131.418</td>\n",
       "      <td>130.522</td>\n",
       "      <td>0.872</td>\n",
       "      <td>-1</td>\n",
       "      <td>1</td>\n",
       "      <td>1</td>\n",
       "      <td>131.5052</td>\n",
       "      <td>131.1564</td>\n",
       "      <td>132.2028</td>\n",
       "    </tr>\n",
       "    <tr>\n",
       "      <th>33</th>\n",
       "      <td>2023-01-03 09:00:00+00:00</td>\n",
       "      <td>12719</td>\n",
       "      <td>130.780</td>\n",
       "      <td>130.805</td>\n",
       "      <td>130.312</td>\n",
       "      <td>130.416</td>\n",
       "      <td>130.770</td>\n",
       "      <td>130.795</td>\n",
       "      <td>130.302</td>\n",
       "      <td>130.408</td>\n",
       "      <td>...</td>\n",
       "      <td>130.100</td>\n",
       "      <td>130.975</td>\n",
       "      <td>130.091</td>\n",
       "      <td>0.865</td>\n",
       "      <td>-1</td>\n",
       "      <td>1</td>\n",
       "      <td>1</td>\n",
       "      <td>131.0615</td>\n",
       "      <td>130.7155</td>\n",
       "      <td>131.7535</td>\n",
       "    </tr>\n",
       "    <tr>\n",
       "      <th>34</th>\n",
       "      <td>2023-01-03 10:00:00+00:00</td>\n",
       "      <td>8592</td>\n",
       "      <td>130.408</td>\n",
       "      <td>130.738</td>\n",
       "      <td>130.362</td>\n",
       "      <td>130.691</td>\n",
       "      <td>130.399</td>\n",
       "      <td>130.729</td>\n",
       "      <td>130.353</td>\n",
       "      <td>130.682</td>\n",
       "      <td>...</td>\n",
       "      <td>130.312</td>\n",
       "      <td>130.815</td>\n",
       "      <td>130.302</td>\n",
       "      <td>0.493</td>\n",
       "      <td>1</td>\n",
       "      <td>-1</td>\n",
       "      <td>-1</td>\n",
       "      <td>130.2527</td>\n",
       "      <td>130.4499</td>\n",
       "      <td>129.8583</td>\n",
       "    </tr>\n",
       "  </tbody>\n",
       "</table>\n",
       "<p>5 rows × 26 columns</p>\n",
       "</div>"
      ],
      "text/plain": [
       "                        time  volume    mid_o    mid_h    mid_l    mid_c  \\\n",
       "17 2023-01-02 17:00:00+00:00    8702  130.753  130.812  130.729  130.788   \n",
       "18 2023-01-02 18:00:00+00:00    5027  130.791  130.797  130.754  130.784   \n",
       "24 2023-01-03 00:00:00+00:00    6546  130.792  130.906  130.576  130.614   \n",
       "33 2023-01-03 09:00:00+00:00   12719  130.780  130.805  130.312  130.416   \n",
       "34 2023-01-03 10:00:00+00:00    8592  130.408  130.738  130.362  130.691   \n",
       "\n",
       "      bid_o    bid_h    bid_l    bid_c  ...  mid_l_prev  ask_h_prev  \\\n",
       "17  130.731  130.778  130.714  130.746  ...     130.675     130.874   \n",
       "18  130.750  130.760  130.708  130.742  ...     130.729     130.851   \n",
       "24  130.780  130.897  130.566  130.604  ...     130.534     131.418   \n",
       "33  130.770  130.795  130.302  130.408  ...     130.100     130.975   \n",
       "34  130.399  130.729  130.353  130.682  ...     130.312     130.815   \n",
       "\n",
       "    bid_l_prev  RANGE_prev  DIRECTION  DIRECTION_prev  SIGNAL     ENTRY  \\\n",
       "17     130.639       0.167          1              -1      -1  130.6223   \n",
       "18     130.714       0.083         -1               1       1  130.8593   \n",
       "24     130.522       0.872         -1               1       1  131.5052   \n",
       "33     130.091       0.865         -1               1       1  131.0615   \n",
       "34     130.302       0.493          1              -1      -1  130.2527   \n",
       "\n",
       "    STOPLOSS  TAKEPROFIT  \n",
       "17  130.6891    130.4887  \n",
       "18  130.8261    130.9257  \n",
       "24  131.1564    132.2028  \n",
       "33  130.7155    131.7535  \n",
       "34  130.4499    129.8583  \n",
       "\n",
       "[5 rows x 26 columns]"
      ]
     },
     "execution_count": 13,
     "metadata": {},
     "output_type": "execute_result"
    }
   ],
   "source": [
    "df[df.SIGNAL!=0].head()"
   ]
  },
  {
   "cell_type": "code",
   "execution_count": 20,
   "metadata": {},
   "outputs": [],
   "source": [
    "df_plot = df.iloc[-50:]\n",
    "df_buys = df_plot[df_plot.SIGNAL == 1]\n",
    "df_sells = df_plot[df_plot.SIGNAL == -1]"
   ]
  },
  {
   "cell_type": "code",
   "execution_count": 21,
   "metadata": {},
   "outputs": [
    {
     "data": {
      "text/plain": [
       "309.0"
      ]
     },
     "execution_count": 21,
     "metadata": {},
     "output_type": "execute_result"
    }
   ],
   "source": [
    "df_trades.result.sum()"
   ]
  },
  {
   "cell_type": "code",
   "execution_count": 22,
   "metadata": {},
   "outputs": [
    {
     "data": {
      "application/vnd.plotly.v1+json": {
       "config": {
        "plotlyServerURL": "https://plot.ly"
       },
       "data": [
        {
         "close": [
          154.784,
          154.751,
          154.796,
          154.798,
          154.812,
          154.849,
          154.842,
          154.876,
          154.928,
          154.904,
          154.901,
          154.936,
          154.934,
          154.927,
          154.95,
          154.985,
          155.004,
          155.118,
          155.115,
          155.29,
          155.268,
          155.3,
          155.346,
          155.237,
          155.228,
          155.27,
          155.375,
          155.394,
          155.436,
          155.462,
          155.59,
          155.66,
          155.666,
          155.629,
          155.674,
          155.636,
          155.546,
          155.558,
          155.68,
          155.652,
          155.569,
          155.52,
          155.514,
          155.564,
          155.601,
          155.633,
          155.646,
          155.6,
          155.572,
          155.622
         ],
         "decreasing": {
          "fillcolor": "#CC2E3C",
          "line": {
           "color": "#FF3A4C"
          }
         },
         "high": [
          154.808,
          154.789,
          154.822,
          154.825,
          154.818,
          154.854,
          154.879,
          154.884,
          154.942,
          154.973,
          154.928,
          154.938,
          154.94,
          154.945,
          155.172,
          155.02,
          155.11,
          155.136,
          155.134,
          155.378,
          155.336,
          155.309,
          155.375,
          155.278,
          155.246,
          155.276,
          155.416,
          155.452,
          155.445,
          155.519,
          155.626,
          155.742,
          155.69,
          155.691,
          155.694,
          155.694,
          155.642,
          155.578,
          155.748,
          155.686,
          155.684,
          155.588,
          155.612,
          155.614,
          155.643,
          155.637,
          155.654,
          155.626,
          155.622,
          155.642
         ],
         "increasing": {
          "fillcolor": "#24A06B",
          "line": {
           "color": "#2EC886"
          }
         },
         "line": {
          "width": 1
         },
         "low": [
          154.773,
          154.733,
          154.742,
          154.771,
          154.791,
          154.802,
          154.835,
          154.836,
          154.863,
          154.769,
          154.864,
          154.873,
          154.906,
          154.904,
          154.775,
          154.842,
          154.943,
          154.974,
          155.064,
          155.088,
          155.242,
          155.223,
          155.293,
          155.232,
          155.198,
          155.21,
          155.246,
          155.354,
          155.364,
          155.416,
          155.452,
          155.59,
          155.604,
          155.562,
          155.612,
          155.634,
          155.518,
          155.495,
          155.312,
          155.352,
          155.508,
          155.5,
          155.498,
          155.474,
          155.532,
          155.56,
          155.613,
          155.573,
          155.548,
          155.551
         ],
         "opacity": 1,
         "open": [
          154.773,
          154.782,
          154.748,
          154.797,
          154.798,
          154.808,
          154.85,
          154.842,
          154.876,
          154.929,
          154.902,
          154.901,
          154.935,
          154.934,
          154.926,
          154.949,
          154.984,
          155.004,
          155.119,
          155.117,
          155.289,
          155.268,
          155.297,
          155.244,
          155.236,
          155.227,
          155.269,
          155.374,
          155.398,
          155.436,
          155.462,
          155.591,
          155.665,
          155.669,
          155.628,
          155.674,
          155.636,
          155.546,
          155.559,
          155.677,
          155.653,
          155.57,
          155.521,
          155.514,
          155.566,
          155.602,
          155.634,
          155.623,
          155.592,
          155.57
         ],
         "type": "candlestick",
         "x": [
          "2024-04-23T22:00:00+00:00",
          "2024-04-23T23:00:00+00:00",
          "2024-04-24T00:00:00+00:00",
          "2024-04-24T01:00:00+00:00",
          "2024-04-24T02:00:00+00:00",
          "2024-04-24T03:00:00+00:00",
          "2024-04-24T04:00:00+00:00",
          "2024-04-24T05:00:00+00:00",
          "2024-04-24T06:00:00+00:00",
          "2024-04-24T07:00:00+00:00",
          "2024-04-24T08:00:00+00:00",
          "2024-04-24T09:00:00+00:00",
          "2024-04-24T10:00:00+00:00",
          "2024-04-24T11:00:00+00:00",
          "2024-04-24T12:00:00+00:00",
          "2024-04-24T13:00:00+00:00",
          "2024-04-24T14:00:00+00:00",
          "2024-04-24T15:00:00+00:00",
          "2024-04-24T16:00:00+00:00",
          "2024-04-24T17:00:00+00:00",
          "2024-04-24T18:00:00+00:00",
          "2024-04-24T19:00:00+00:00",
          "2024-04-24T20:00:00+00:00",
          "2024-04-24T21:00:00+00:00",
          "2024-04-24T22:00:00+00:00",
          "2024-04-24T23:00:00+00:00",
          "2024-04-25T00:00:00+00:00",
          "2024-04-25T01:00:00+00:00",
          "2024-04-25T02:00:00+00:00",
          "2024-04-25T03:00:00+00:00",
          "2024-04-25T04:00:00+00:00",
          "2024-04-25T05:00:00+00:00",
          "2024-04-25T06:00:00+00:00",
          "2024-04-25T07:00:00+00:00",
          "2024-04-25T08:00:00+00:00",
          "2024-04-25T09:00:00+00:00",
          "2024-04-25T10:00:00+00:00",
          "2024-04-25T11:00:00+00:00",
          "2024-04-25T12:00:00+00:00",
          "2024-04-25T13:00:00+00:00",
          "2024-04-25T14:00:00+00:00",
          "2024-04-25T15:00:00+00:00",
          "2024-04-25T16:00:00+00:00",
          "2024-04-25T17:00:00+00:00",
          "2024-04-25T18:00:00+00:00",
          "2024-04-25T19:00:00+00:00",
          "2024-04-25T20:00:00+00:00",
          "2024-04-25T21:00:00+00:00",
          "2024-04-25T22:00:00+00:00",
          "2024-04-25T23:00:00+00:00"
         ]
        },
        {
         "marker": {
          "color": "#043ef9",
          "size": 12
         },
         "mode": "markers",
         "type": "scatter",
         "x": [
          "2024-04-24T02:00:00+00:00",
          "2024-04-24T13:00:00+00:00",
          "2024-04-24T16:00:00+00:00",
          "2024-04-24T18:00:00+00:00",
          "2024-04-25T02:00:00+00:00",
          "2024-04-25T06:00:00+00:00",
          "2024-04-25T13:00:00+00:00",
          "2024-04-25T19:00:00+00:00"
         ],
         "y": [
          154.8384,
          155.21970000000002,
          155.1592,
          155.415,
          155.46980000000002,
          155.7672,
          155.7996,
          155.6631
         ]
        },
        {
         "marker": {
          "color": "#eb5334",
          "size": 12
         },
         "mode": "markers",
         "type": "scatter",
         "x": [
          "2024-04-24T02:00:00+00:00",
          "2024-04-24T13:00:00+00:00",
          "2024-04-24T16:00:00+00:00",
          "2024-04-24T18:00:00+00:00",
          "2024-04-25T02:00:00+00:00",
          "2024-04-25T06:00:00+00:00",
          "2024-04-25T13:00:00+00:00",
          "2024-04-25T19:00:00+00:00"
         ],
         "y": [
          154.8168,
          155.06090000000003,
          155.0944,
          155.299,
          155.43060000000003,
          155.7064,
          155.6252,
          155.6187
         ]
        },
        {
         "marker": {
          "color": "#34eb37",
          "size": 12
         },
         "mode": "markers",
         "type": "scatter",
         "x": [
          "2024-04-24T02:00:00+00:00",
          "2024-04-24T13:00:00+00:00",
          "2024-04-24T16:00:00+00:00",
          "2024-04-24T18:00:00+00:00",
          "2024-04-25T02:00:00+00:00",
          "2024-04-25T06:00:00+00:00",
          "2024-04-25T13:00:00+00:00",
          "2024-04-25T19:00:00+00:00"
         ],
         "y": [
          154.88160000000002,
          155.53730000000002,
          155.2888,
          155.647,
          155.5482,
          155.8888,
          156.14839999999998,
          155.75189999999998
         ]
        },
        {
         "marker": {
          "color": "#043ef9",
          "size": 12
         },
         "mode": "markers",
         "type": "scatter",
         "x": [
          "2024-04-24T08:00:00+00:00",
          "2024-04-25T14:00:00+00:00"
         ],
         "y": [
          154.7416,
          155.3106
         ]
        },
        {
         "marker": {
          "color": "#eb5334",
          "size": 12
         },
         "mode": "markers",
         "type": "scatter",
         "x": [
          "2024-04-24T08:00:00+00:00",
          "2024-04-25T14:00:00+00:00"
         ],
         "y": [
          154.8232,
          155.4442
         ]
        },
        {
         "marker": {
          "color": "#34eb37",
          "size": 12
         },
         "mode": "markers",
         "type": "scatter",
         "x": [
          "2024-04-24T08:00:00+00:00",
          "2024-04-25T14:00:00+00:00"
         ],
         "y": [
          154.5784,
          155.0434
         ]
        }
       ],
       "layout": {
        "font": {
         "color": "#e1e1e1",
         "size": 10
        },
        "height": 400,
        "margin": {
         "b": 10,
         "l": 10,
         "r": 10,
         "t": 10
        },
        "paper_bgcolor": "#1e1e1e",
        "plot_bgcolor": "#1e1e1e",
        "template": {
         "data": {
          "bar": [
           {
            "error_x": {
             "color": "#2a3f5f"
            },
            "error_y": {
             "color": "#2a3f5f"
            },
            "marker": {
             "line": {
              "color": "#E5ECF6",
              "width": 0.5
             },
             "pattern": {
              "fillmode": "overlay",
              "size": 10,
              "solidity": 0.2
             }
            },
            "type": "bar"
           }
          ],
          "barpolar": [
           {
            "marker": {
             "line": {
              "color": "#E5ECF6",
              "width": 0.5
             },
             "pattern": {
              "fillmode": "overlay",
              "size": 10,
              "solidity": 0.2
             }
            },
            "type": "barpolar"
           }
          ],
          "carpet": [
           {
            "aaxis": {
             "endlinecolor": "#2a3f5f",
             "gridcolor": "white",
             "linecolor": "white",
             "minorgridcolor": "white",
             "startlinecolor": "#2a3f5f"
            },
            "baxis": {
             "endlinecolor": "#2a3f5f",
             "gridcolor": "white",
             "linecolor": "white",
             "minorgridcolor": "white",
             "startlinecolor": "#2a3f5f"
            },
            "type": "carpet"
           }
          ],
          "choropleth": [
           {
            "colorbar": {
             "outlinewidth": 0,
             "ticks": ""
            },
            "type": "choropleth"
           }
          ],
          "contour": [
           {
            "colorbar": {
             "outlinewidth": 0,
             "ticks": ""
            },
            "colorscale": [
             [
              0,
              "#0d0887"
             ],
             [
              0.1111111111111111,
              "#46039f"
             ],
             [
              0.2222222222222222,
              "#7201a8"
             ],
             [
              0.3333333333333333,
              "#9c179e"
             ],
             [
              0.4444444444444444,
              "#bd3786"
             ],
             [
              0.5555555555555556,
              "#d8576b"
             ],
             [
              0.6666666666666666,
              "#ed7953"
             ],
             [
              0.7777777777777778,
              "#fb9f3a"
             ],
             [
              0.8888888888888888,
              "#fdca26"
             ],
             [
              1,
              "#f0f921"
             ]
            ],
            "type": "contour"
           }
          ],
          "contourcarpet": [
           {
            "colorbar": {
             "outlinewidth": 0,
             "ticks": ""
            },
            "type": "contourcarpet"
           }
          ],
          "heatmap": [
           {
            "colorbar": {
             "outlinewidth": 0,
             "ticks": ""
            },
            "colorscale": [
             [
              0,
              "#0d0887"
             ],
             [
              0.1111111111111111,
              "#46039f"
             ],
             [
              0.2222222222222222,
              "#7201a8"
             ],
             [
              0.3333333333333333,
              "#9c179e"
             ],
             [
              0.4444444444444444,
              "#bd3786"
             ],
             [
              0.5555555555555556,
              "#d8576b"
             ],
             [
              0.6666666666666666,
              "#ed7953"
             ],
             [
              0.7777777777777778,
              "#fb9f3a"
             ],
             [
              0.8888888888888888,
              "#fdca26"
             ],
             [
              1,
              "#f0f921"
             ]
            ],
            "type": "heatmap"
           }
          ],
          "heatmapgl": [
           {
            "colorbar": {
             "outlinewidth": 0,
             "ticks": ""
            },
            "colorscale": [
             [
              0,
              "#0d0887"
             ],
             [
              0.1111111111111111,
              "#46039f"
             ],
             [
              0.2222222222222222,
              "#7201a8"
             ],
             [
              0.3333333333333333,
              "#9c179e"
             ],
             [
              0.4444444444444444,
              "#bd3786"
             ],
             [
              0.5555555555555556,
              "#d8576b"
             ],
             [
              0.6666666666666666,
              "#ed7953"
             ],
             [
              0.7777777777777778,
              "#fb9f3a"
             ],
             [
              0.8888888888888888,
              "#fdca26"
             ],
             [
              1,
              "#f0f921"
             ]
            ],
            "type": "heatmapgl"
           }
          ],
          "histogram": [
           {
            "marker": {
             "pattern": {
              "fillmode": "overlay",
              "size": 10,
              "solidity": 0.2
             }
            },
            "type": "histogram"
           }
          ],
          "histogram2d": [
           {
            "colorbar": {
             "outlinewidth": 0,
             "ticks": ""
            },
            "colorscale": [
             [
              0,
              "#0d0887"
             ],
             [
              0.1111111111111111,
              "#46039f"
             ],
             [
              0.2222222222222222,
              "#7201a8"
             ],
             [
              0.3333333333333333,
              "#9c179e"
             ],
             [
              0.4444444444444444,
              "#bd3786"
             ],
             [
              0.5555555555555556,
              "#d8576b"
             ],
             [
              0.6666666666666666,
              "#ed7953"
             ],
             [
              0.7777777777777778,
              "#fb9f3a"
             ],
             [
              0.8888888888888888,
              "#fdca26"
             ],
             [
              1,
              "#f0f921"
             ]
            ],
            "type": "histogram2d"
           }
          ],
          "histogram2dcontour": [
           {
            "colorbar": {
             "outlinewidth": 0,
             "ticks": ""
            },
            "colorscale": [
             [
              0,
              "#0d0887"
             ],
             [
              0.1111111111111111,
              "#46039f"
             ],
             [
              0.2222222222222222,
              "#7201a8"
             ],
             [
              0.3333333333333333,
              "#9c179e"
             ],
             [
              0.4444444444444444,
              "#bd3786"
             ],
             [
              0.5555555555555556,
              "#d8576b"
             ],
             [
              0.6666666666666666,
              "#ed7953"
             ],
             [
              0.7777777777777778,
              "#fb9f3a"
             ],
             [
              0.8888888888888888,
              "#fdca26"
             ],
             [
              1,
              "#f0f921"
             ]
            ],
            "type": "histogram2dcontour"
           }
          ],
          "mesh3d": [
           {
            "colorbar": {
             "outlinewidth": 0,
             "ticks": ""
            },
            "type": "mesh3d"
           }
          ],
          "parcoords": [
           {
            "line": {
             "colorbar": {
              "outlinewidth": 0,
              "ticks": ""
             }
            },
            "type": "parcoords"
           }
          ],
          "pie": [
           {
            "automargin": true,
            "type": "pie"
           }
          ],
          "scatter": [
           {
            "fillpattern": {
             "fillmode": "overlay",
             "size": 10,
             "solidity": 0.2
            },
            "type": "scatter"
           }
          ],
          "scatter3d": [
           {
            "line": {
             "colorbar": {
              "outlinewidth": 0,
              "ticks": ""
             }
            },
            "marker": {
             "colorbar": {
              "outlinewidth": 0,
              "ticks": ""
             }
            },
            "type": "scatter3d"
           }
          ],
          "scattercarpet": [
           {
            "marker": {
             "colorbar": {
              "outlinewidth": 0,
              "ticks": ""
             }
            },
            "type": "scattercarpet"
           }
          ],
          "scattergeo": [
           {
            "marker": {
             "colorbar": {
              "outlinewidth": 0,
              "ticks": ""
             }
            },
            "type": "scattergeo"
           }
          ],
          "scattergl": [
           {
            "marker": {
             "colorbar": {
              "outlinewidth": 0,
              "ticks": ""
             }
            },
            "type": "scattergl"
           }
          ],
          "scattermapbox": [
           {
            "marker": {
             "colorbar": {
              "outlinewidth": 0,
              "ticks": ""
             }
            },
            "type": "scattermapbox"
           }
          ],
          "scatterpolar": [
           {
            "marker": {
             "colorbar": {
              "outlinewidth": 0,
              "ticks": ""
             }
            },
            "type": "scatterpolar"
           }
          ],
          "scatterpolargl": [
           {
            "marker": {
             "colorbar": {
              "outlinewidth": 0,
              "ticks": ""
             }
            },
            "type": "scatterpolargl"
           }
          ],
          "scatterternary": [
           {
            "marker": {
             "colorbar": {
              "outlinewidth": 0,
              "ticks": ""
             }
            },
            "type": "scatterternary"
           }
          ],
          "surface": [
           {
            "colorbar": {
             "outlinewidth": 0,
             "ticks": ""
            },
            "colorscale": [
             [
              0,
              "#0d0887"
             ],
             [
              0.1111111111111111,
              "#46039f"
             ],
             [
              0.2222222222222222,
              "#7201a8"
             ],
             [
              0.3333333333333333,
              "#9c179e"
             ],
             [
              0.4444444444444444,
              "#bd3786"
             ],
             [
              0.5555555555555556,
              "#d8576b"
             ],
             [
              0.6666666666666666,
              "#ed7953"
             ],
             [
              0.7777777777777778,
              "#fb9f3a"
             ],
             [
              0.8888888888888888,
              "#fdca26"
             ],
             [
              1,
              "#f0f921"
             ]
            ],
            "type": "surface"
           }
          ],
          "table": [
           {
            "cells": {
             "fill": {
              "color": "#EBF0F8"
             },
             "line": {
              "color": "white"
             }
            },
            "header": {
             "fill": {
              "color": "#C8D4E3"
             },
             "line": {
              "color": "white"
             }
            },
            "type": "table"
           }
          ]
         },
         "layout": {
          "annotationdefaults": {
           "arrowcolor": "#2a3f5f",
           "arrowhead": 0,
           "arrowwidth": 1
          },
          "autotypenumbers": "strict",
          "coloraxis": {
           "colorbar": {
            "outlinewidth": 0,
            "ticks": ""
           }
          },
          "colorscale": {
           "diverging": [
            [
             0,
             "#8e0152"
            ],
            [
             0.1,
             "#c51b7d"
            ],
            [
             0.2,
             "#de77ae"
            ],
            [
             0.3,
             "#f1b6da"
            ],
            [
             0.4,
             "#fde0ef"
            ],
            [
             0.5,
             "#f7f7f7"
            ],
            [
             0.6,
             "#e6f5d0"
            ],
            [
             0.7,
             "#b8e186"
            ],
            [
             0.8,
             "#7fbc41"
            ],
            [
             0.9,
             "#4d9221"
            ],
            [
             1,
             "#276419"
            ]
           ],
           "sequential": [
            [
             0,
             "#0d0887"
            ],
            [
             0.1111111111111111,
             "#46039f"
            ],
            [
             0.2222222222222222,
             "#7201a8"
            ],
            [
             0.3333333333333333,
             "#9c179e"
            ],
            [
             0.4444444444444444,
             "#bd3786"
            ],
            [
             0.5555555555555556,
             "#d8576b"
            ],
            [
             0.6666666666666666,
             "#ed7953"
            ],
            [
             0.7777777777777778,
             "#fb9f3a"
            ],
            [
             0.8888888888888888,
             "#fdca26"
            ],
            [
             1,
             "#f0f921"
            ]
           ],
           "sequentialminus": [
            [
             0,
             "#0d0887"
            ],
            [
             0.1111111111111111,
             "#46039f"
            ],
            [
             0.2222222222222222,
             "#7201a8"
            ],
            [
             0.3333333333333333,
             "#9c179e"
            ],
            [
             0.4444444444444444,
             "#bd3786"
            ],
            [
             0.5555555555555556,
             "#d8576b"
            ],
            [
             0.6666666666666666,
             "#ed7953"
            ],
            [
             0.7777777777777778,
             "#fb9f3a"
            ],
            [
             0.8888888888888888,
             "#fdca26"
            ],
            [
             1,
             "#f0f921"
            ]
           ]
          },
          "colorway": [
           "#636efa",
           "#EF553B",
           "#00cc96",
           "#ab63fa",
           "#FFA15A",
           "#19d3f3",
           "#FF6692",
           "#B6E880",
           "#FF97FF",
           "#FECB52"
          ],
          "font": {
           "color": "#2a3f5f"
          },
          "geo": {
           "bgcolor": "white",
           "lakecolor": "white",
           "landcolor": "#E5ECF6",
           "showlakes": true,
           "showland": true,
           "subunitcolor": "white"
          },
          "hoverlabel": {
           "align": "left"
          },
          "hovermode": "closest",
          "mapbox": {
           "style": "light"
          },
          "paper_bgcolor": "white",
          "plot_bgcolor": "#E5ECF6",
          "polar": {
           "angularaxis": {
            "gridcolor": "white",
            "linecolor": "white",
            "ticks": ""
           },
           "bgcolor": "#E5ECF6",
           "radialaxis": {
            "gridcolor": "white",
            "linecolor": "white",
            "ticks": ""
           }
          },
          "scene": {
           "xaxis": {
            "backgroundcolor": "#E5ECF6",
            "gridcolor": "white",
            "gridwidth": 2,
            "linecolor": "white",
            "showbackground": true,
            "ticks": "",
            "zerolinecolor": "white"
           },
           "yaxis": {
            "backgroundcolor": "#E5ECF6",
            "gridcolor": "white",
            "gridwidth": 2,
            "linecolor": "white",
            "showbackground": true,
            "ticks": "",
            "zerolinecolor": "white"
           },
           "zaxis": {
            "backgroundcolor": "#E5ECF6",
            "gridcolor": "white",
            "gridwidth": 2,
            "linecolor": "white",
            "showbackground": true,
            "ticks": "",
            "zerolinecolor": "white"
           }
          },
          "shapedefaults": {
           "line": {
            "color": "#2a3f5f"
           }
          },
          "ternary": {
           "aaxis": {
            "gridcolor": "white",
            "linecolor": "white",
            "ticks": ""
           },
           "baxis": {
            "gridcolor": "white",
            "linecolor": "white",
            "ticks": ""
           },
           "bgcolor": "#E5ECF6",
           "caxis": {
            "gridcolor": "white",
            "linecolor": "white",
            "ticks": ""
           }
          },
          "title": {
           "x": 0.05
          },
          "xaxis": {
           "automargin": true,
           "gridcolor": "white",
           "linecolor": "white",
           "ticks": "",
           "title": {
            "standoff": 15
           },
           "zerolinecolor": "white",
           "zerolinewidth": 2
          },
          "yaxis": {
           "automargin": true,
           "gridcolor": "white",
           "linecolor": "white",
           "ticks": "",
           "title": {
            "standoff": 15
           },
           "zerolinecolor": "white",
           "zerolinewidth": 2
          }
         }
        },
        "width": 1000,
        "xaxis": {
         "fixedrange": true,
         "gridcolor": "#1f292f",
         "rangebreaks": [
          {
           "bounds": [
            "sat",
            "mon"
           ]
          }
         ],
         "rangeslider": {
          "visible": false
         },
         "showgrid": true
        },
        "yaxis": {
         "gridcolor": "#1f292f",
         "showgrid": true
        }
       }
      }
     },
     "metadata": {},
     "output_type": "display_data"
    }
   ],
   "source": [
    "plot_candles(df_plot)"
   ]
  },
  {
   "cell_type": "code",
   "execution_count": null,
   "metadata": {},
   "outputs": [],
   "source": []
  }
 ],
 "metadata": {
  "kernelspec": {
   "display_name": "Python 3",
   "language": "python",
   "name": "python3"
  },
  "language_info": {
   "codemirror_mode": {
    "name": "ipython",
    "version": 3
   },
   "file_extension": ".py",
   "mimetype": "text/x-python",
   "name": "python",
   "nbconvert_exporter": "python",
   "pygments_lexer": "ipython3",
   "version": "3.12.2"
  },
  "orig_nbformat": 2
 },
 "nbformat": 4,
 "nbformat_minor": 2
}
